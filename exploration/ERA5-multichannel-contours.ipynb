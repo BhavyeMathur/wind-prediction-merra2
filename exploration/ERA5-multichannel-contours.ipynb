{
 "cells": [
  {
   "cell_type": "code",
   "execution_count": 1,
   "id": "initial_id",
   "metadata": {
    "collapsed": true,
    "ExecuteTime": {
     "end_time": "2024-04-27T09:52:02.622767Z",
     "start_time": "2024-04-27T09:52:01.926612Z"
    }
   },
   "outputs": [],
   "source": [
    "from metplot import *\n",
    "from modules.datetime import DateTime\n",
    "import modules.era5.dataset as era5"
   ]
  },
  {
   "cell_type": "code",
   "execution_count": 34,
   "outputs": [
    {
     "data": {
      "text/plain": "(721, 1440)"
     },
     "execution_count": 34,
     "metadata": {},
     "output_type": "execute_result"
    }
   ],
   "source": [
    "datetime = DateTime(1, 1, 0)\n",
    "level = 1000\n",
    "\n",
    "u_wind = era5.get_latlon_contour_data(\"u_component_of_wind\", datetime, level)\n",
    "v_wind = era5.get_latlon_contour_data(\"v_component_of_wind\", datetime, level)\n",
    "w_wind = era5.get_latlon_contour_data(\"vertical_velocity\", datetime, level)\n",
    "temp = era5.get_latlon_contour_data(\"temperature\", datetime, level)\n",
    "\n",
    "speed = era5.get_latlon_contour_data(\"wind_speed\", datetime, level)\n",
    "direction = era5.get_latlon_contour_data(\"wind_direction\", datetime, level)\n",
    "\n",
    "u_wind.shape"
   ],
   "metadata": {
    "collapsed": false,
    "ExecuteTime": {
     "end_time": "2024-04-27T09:58:32.330895Z",
     "start_time": "2024-04-27T09:58:32.221153Z"
    }
   },
   "id": "5bb937545e4b6f80"
  },
  {
   "cell_type": "code",
   "execution_count": 37,
   "outputs": [],
   "source": [
    "def norm(arr):\n",
    "    return (arr - arr.min()) / (arr.max() - arr.min())\n",
    "\n",
    "u_wind = norm(u_wind)\n",
    "v_wind = norm(v_wind)\n",
    "w_wind = norm(w_wind)\n",
    "speed = norm(speed)\n",
    "direction = norm(direction)\n",
    "temp = norm(temp)"
   ],
   "metadata": {
    "collapsed": false,
    "ExecuteTime": {
     "end_time": "2024-04-27T09:59:02.560320Z",
     "start_time": "2024-04-27T09:59:02.440637Z"
    }
   },
   "id": "6bb9888fae709f70"
  },
  {
   "cell_type": "code",
   "execution_count": 46,
   "outputs": [
    {
     "data": {
      "text/plain": "(721, 1440, 3)"
     },
     "execution_count": 46,
     "metadata": {},
     "output_type": "execute_result"
    }
   ],
   "source": [
    "zeros = np.zeros(u_wind.shape)\n",
    "\n",
    "wind = np.dstack((speed, direction, zeros)).astype(\"float32\")\n",
    "wind.shape"
   ],
   "metadata": {
    "collapsed": false,
    "ExecuteTime": {
     "end_time": "2024-04-27T10:00:31.506916Z",
     "start_time": "2024-04-27T10:00:31.495042Z"
    }
   },
   "id": "a0a513a059b120ba"
  },
  {
   "cell_type": "code",
   "execution_count": 47,
   "outputs": [],
   "source": [
    "from metplot import *\n",
    "\n",
    "plt.imshow(wind, origin=\"lower\", extent=(-180, 180, -90, 90))\n",
    "plt.show()"
   ],
   "metadata": {
    "collapsed": false,
    "ExecuteTime": {
     "end_time": "2024-04-27T10:00:46.771983Z",
     "start_time": "2024-04-27T10:00:32.109769Z"
    }
   },
   "id": "26743c9f69d9736f"
  }
 ],
 "metadata": {
  "kernelspec": {
   "display_name": "Python 3",
   "language": "python",
   "name": "python3"
  },
  "language_info": {
   "codemirror_mode": {
    "name": "ipython",
    "version": 2
   },
   "file_extension": ".py",
   "mimetype": "text/x-python",
   "name": "python",
   "nbconvert_exporter": "python",
   "pygments_lexer": "ipython2",
   "version": "2.7.6"
  }
 },
 "nbformat": 4,
 "nbformat_minor": 5
}

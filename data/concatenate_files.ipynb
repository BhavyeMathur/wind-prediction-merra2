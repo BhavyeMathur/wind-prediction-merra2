{
 "cells": [
  {
   "cell_type": "code",
   "execution_count": 4,
   "id": "initial_id",
   "metadata": {
    "collapsed": true,
    "ExecuteTime": {
     "end_time": "2024-05-17T07:41:37.866623Z",
     "start_time": "2024-05-17T07:41:37.864939Z"
    }
   },
   "outputs": [],
   "source": [
    "from tqdm.notebook import tqdm\n",
    "\n",
    "from modules.era5 import concatenate_hour_to_day_dsets, era5_file_exists, era5_filename\n",
    "from modules.datetime import datetime_range, timedelta"
   ]
  },
  {
   "cell_type": "code",
   "execution_count": null,
   "outputs": [
    {
     "data": {
      "text/plain": "  0%|          | 0/365 [00:00<?, ?it/s]",
      "application/vnd.jupyter.widget-view+json": {
       "version_major": 2,
       "version_minor": 0,
       "model_id": "62ec066c243b459c9ebb825e50cc4eab"
      }
     },
     "metadata": {},
     "output_type": "display_data"
    },
    {
     "name": "stdout",
     "output_type": "stream",
     "text": [
      "daily/ERA5-tavg-0624.nc\n",
      "daily/ERA5-tavg-0625.nc\n"
     ]
    }
   ],
   "source": [
    "for dt in tqdm(list(datetime_range(\"TAVG-01-01\", \"TAVG-12-31\", timedelta(days=1)))):\n",
    "    if era5_file_exists(dt, datalevel=\"day\"):\n",
    "        continue\n",
    "    concatenate_hour_to_day_dsets(dt)"
   ],
   "metadata": {
    "collapsed": false,
    "is_executing": true,
    "ExecuteTime": {
     "start_time": "2024-05-17T07:46:28.990824Z"
    }
   },
   "id": "8a9c6cfaf74a5b51"
  }
 ],
 "metadata": {
  "kernelspec": {
   "display_name": "Python 3",
   "language": "python",
   "name": "python3"
  },
  "language_info": {
   "codemirror_mode": {
    "name": "ipython",
    "version": 2
   },
   "file_extension": ".py",
   "mimetype": "text/x-python",
   "name": "python",
   "nbconvert_exporter": "python",
   "pygments_lexer": "ipython2",
   "version": "2.7.6"
  }
 },
 "nbformat": 4,
 "nbformat_minor": 5
}

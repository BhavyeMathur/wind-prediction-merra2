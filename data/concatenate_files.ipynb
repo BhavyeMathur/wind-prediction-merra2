{
 "cells": [
  {
   "cell_type": "code",
   "execution_count": 1,
   "id": "initial_id",
   "metadata": {
    "collapsed": true,
    "ExecuteTime": {
     "end_time": "2024-05-17T14:57:54.418715Z",
     "start_time": "2024-05-17T14:57:53.668661Z"
    }
   },
   "outputs": [],
   "source": [
    "from tqdm.notebook import tqdm\n",
    "\n",
    "from modules.era5 import concatenate_hour_to_day_dsets, era5_file_exists\n",
    "from modules.datetime import datetime_range, timedelta"
   ]
  },
  {
   "cell_type": "code",
   "execution_count": 2,
   "outputs": [
    {
     "data": {
      "text/plain": "  0%|          | 0/365 [00:00<?, ?it/s]",
      "application/vnd.jupyter.widget-view+json": {
       "version_major": 2,
       "version_minor": 0,
       "model_id": "f75548f4c8be44808987acf051ae4306"
      }
     },
     "metadata": {},
     "output_type": "display_data"
    }
   ],
   "source": [
    "for dt in tqdm(list(datetime_range(\"TAVG-01-01\", \"TAVG-12-31\", timedelta(days=1)))):\n",
    "    if era5_file_exists(dt, datalevel=\"day\"):\n",
    "        continue\n",
    "    concatenate_hour_to_day_dsets(dt)"
   ],
   "metadata": {
    "collapsed": false,
    "ExecuteTime": {
     "end_time": "2024-05-17T14:58:38.726584Z",
     "start_time": "2024-05-17T14:57:54.425546Z"
    }
   },
   "id": "8a9c6cfaf74a5b51"
  }
 ],
 "metadata": {
  "kernelspec": {
   "display_name": "Python 3",
   "language": "python",
   "name": "python3"
  },
  "language_info": {
   "codemirror_mode": {
    "name": "ipython",
    "version": 2
   },
   "file_extension": ".py",
   "mimetype": "text/x-python",
   "name": "python",
   "nbconvert_exporter": "python",
   "pygments_lexer": "ipython2",
   "version": "2.7.6"
  }
 },
 "nbformat": 4,
 "nbformat_minor": 5
}

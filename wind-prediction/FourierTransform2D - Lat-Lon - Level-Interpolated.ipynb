{
 "cells": [
  {
   "cell_type": "code",
   "execution_count": 1,
   "metadata": {
    "collapsed": true
   },
   "outputs": [],
   "source": [
    "from plot import *\n",
    "from fft import *\n",
    "from maths import rmse, mae, linear_interpolate, cosine_interpolate, catmull_rom_interpolate, cubic_interpolate, hermite_interpolate\n"
   ]
  },
  {
   "cell_type": "code",
   "execution_count": 2,
   "outputs": [],
   "source": [
    "def fit_interpolated_dft2_at_time(filename: str,\n",
    "                                  variable: str,\n",
    "                                  time: int,\n",
    "                                  skip_levels: int = 2,\n",
    "                                  interpolation: callable = linear_interpolate,\n",
    "                                  **kwargs):\n",
    "    data = load_variable_at_time(filename, variable, time)\n",
    "    prediction = np.zeros((36, 361, 576), dtype=\"float32\")\n",
    "\n",
    "    preds = []\n",
    "    levels = sorted(set(range(0, 36, skip_levels)).union({35}))\n",
    "    for lev in tqdm(levels):\n",
    "        fft = dft2_at_time_and_level(data[lev], **kwargs)\n",
    "        preds.append(idft2_at_time_and_level(*fft))\n",
    "\n",
    "    for lev in range(36):\n",
    "        if lev in levels:\n",
    "            prediction[lev] = preds[levels.index(lev)]\n",
    "            continue\n",
    "\n",
    "        pred_idx = levels.index(lev - lev % skip_levels)\n",
    "        t = (lev - levels[pred_idx]) / (levels[pred_idx + 1] - levels[pred_idx])\n",
    "        prediction[lev] = interpolation(preds, pred_idx, t)\n",
    "\n",
    "    data = data.astype(\"float32\")\n",
    "    print(f\"Original Stdev: {data.std()} m/s\")\n",
    "    print(f\"Predicted RMSE: {rmse(data, prediction)} m/s\")\n",
    "    print(f\"Predicted MAE:  {mae(data, prediction)} m/s\")\n",
    "    print(f\"Size/time: {sum(el.nbytes for el in fft) * len(preds) / (1000 ** 2)} MB\")\n",
    "    print(f\"Size/day: {sum(el.nbytes for el in fft) * len(preds) * 8 / (1000 ** 2)} MB\")\n",
    "    print(f\"Size/year: {sum(el.nbytes for el in fft) * len(preds) * 8 * 365 / (1000 ** 2)} MB\")\n"
   ],
   "metadata": {
    "collapsed": false
   }
  },
  {
   "cell_type": "code",
   "execution_count": 23,
   "outputs": [
    {
     "data": {
      "text/plain": "  0%|          | 0/10 [00:00<?, ?it/s]",
      "application/vnd.jupyter.widget-view+json": {
       "version_major": 2,
       "version_minor": 0,
       "model_id": "06e9cd11617f4085b27b722db9067c00"
      }
     },
     "metadata": {},
     "output_type": "display_data"
    },
    {
     "name": "stdout",
     "output_type": "stream",
     "text": [
      "Original Stdev: 10.063274383544922 m/s\n",
      "Predicted RMSE: 0.9375601749181541 m/s\n",
      "Predicted MAE:  0.5611450672149658 m/s\n",
      "Size/time: 0.06986 MB\n",
      "Size/day: 0.55888 MB\n",
      "Size/year: 203.9912 MB\n"
     ]
    }
   ],
   "source": [
    "fit_interpolated_dft2_at_time(\"MERRA2.tavg3_3d_asm_Nv.YAVG0101.nc4\", \"U\",\n",
    "                              time=0, quantile=0.99044, skip_levels=4, interpolation=linear_interpolate)\n"
   ],
   "metadata": {
    "collapsed": false
   }
  },
  {
   "cell_type": "code",
   "execution_count": 24,
   "outputs": [
    {
     "data": {
      "text/plain": "  0%|          | 0/10 [00:00<?, ?it/s]",
      "application/vnd.jupyter.widget-view+json": {
       "version_major": 2,
       "version_minor": 0,
       "model_id": "727e17470c6b44ff8d08488e7bc704db"
      }
     },
     "metadata": {},
     "output_type": "display_data"
    },
    {
     "name": "stdout",
     "output_type": "stream",
     "text": [
      "Original Stdev: 10.063274383544922 m/s\n",
      "Predicted RMSE: 0.9865887288185732 m/s\n",
      "Predicted MAE:  0.59920334815979 m/s\n",
      "Size/time: 0.06986 MB\n",
      "Size/day: 0.55888 MB\n",
      "Size/year: 203.9912 MB\n"
     ]
    }
   ],
   "source": [
    "fit_interpolated_dft2_at_time(\"MERRA2.tavg3_3d_asm_Nv.YAVG0101.nc4\", \"U\",\n",
    "                              time=0, quantile=0.99044, skip_levels=4, interpolation=cosine_interpolate)\n"
   ],
   "metadata": {
    "collapsed": false
   }
  },
  {
   "cell_type": "code",
   "execution_count": 3,
   "outputs": [
    {
     "data": {
      "text/plain": "  0%|          | 0/10 [00:00<?, ?it/s]",
      "application/vnd.jupyter.widget-view+json": {
       "version_major": 2,
       "version_minor": 0,
       "model_id": "e14276356dde419cac68cb9b07f6ee14"
      }
     },
     "metadata": {},
     "output_type": "display_data"
    },
    {
     "name": "stdout",
     "output_type": "stream",
     "text": [
      "Original Stdev: 10.063274383544922 m/s\n",
      "Predicted RMSE: 0.810514187440948 m/s\n",
      "Predicted MAE:  0.5288682579994202 m/s\n",
      "Size/time: 0.06986 MB\n",
      "Size/day: 0.55888 MB\n",
      "Size/year: 203.9912 MB\n"
     ]
    }
   ],
   "source": [
    "fit_interpolated_dft2_at_time(\"MERRA2.tavg3_3d_asm_Nv.YAVG0101.nc4\", \"U\",\n",
    "                              time=0, quantile=0.99044, skip_levels=4, interpolation=cubic_interpolate)\n"
   ],
   "metadata": {
    "collapsed": false
   }
  },
  {
   "cell_type": "code",
   "execution_count": 4,
   "outputs": [
    {
     "data": {
      "text/plain": "  0%|          | 0/10 [00:00<?, ?it/s]",
      "application/vnd.jupyter.widget-view+json": {
       "version_major": 2,
       "version_minor": 0,
       "model_id": "9897959639b34e828586441c65dbe8a4"
      }
     },
     "metadata": {},
     "output_type": "display_data"
    },
    {
     "name": "stdout",
     "output_type": "stream",
     "text": [
      "Original Stdev: 10.063274383544922 m/s\n",
      "Predicted RMSE: 0.8263357734885226 m/s\n",
      "Predicted MAE:  0.5195013880729675 m/s\n",
      "Size/time: 0.06986 MB\n",
      "Size/day: 0.55888 MB\n",
      "Size/year: 203.9912 MB\n"
     ]
    }
   ],
   "source": [
    "fit_interpolated_dft2_at_time(\"MERRA2.tavg3_3d_asm_Nv.YAVG0101.nc4\", \"U\",\n",
    "                              time=0, quantile=0.99044, skip_levels=4, interpolation=catmull_rom_interpolate)\n"
   ],
   "metadata": {
    "collapsed": false
   }
  },
  {
   "cell_type": "code",
   "execution_count": 3,
   "outputs": [
    {
     "data": {
      "text/plain": "  0%|          | 0/10 [00:00<?, ?it/s]",
      "application/vnd.jupyter.widget-view+json": {
       "version_major": 2,
       "version_minor": 0,
       "model_id": "629b82fc934c43a2bb03df093c8d9d9e"
      }
     },
     "metadata": {},
     "output_type": "display_data"
    },
    {
     "name": "stdout",
     "output_type": "stream",
     "text": [
      "Original Stdev: 10.063274383544922 m/s\n",
      "Predicted RMSE: 0.8263357734885226 m/s\n",
      "Predicted MAE:  0.5195013880729675 m/s\n",
      "Size/time: 0.06986 MB\n",
      "Size/day: 0.55888 MB\n",
      "Size/year: 203.9912 MB\n"
     ]
    }
   ],
   "source": [
    "fit_interpolated_dft2_at_time(\"MERRA2.tavg3_3d_asm_Nv.YAVG0101.nc4\", \"U\",\n",
    "                              time=0, quantile=0.99044, skip_levels=4, interpolation=hermite_interpolate)\n"
   ],
   "metadata": {
    "collapsed": false
   }
  }
 ],
 "metadata": {
  "kernelspec": {
   "display_name": "Python 3",
   "language": "python",
   "name": "python3"
  },
  "language_info": {
   "codemirror_mode": {
    "name": "ipython",
    "version": 2
   },
   "file_extension": ".py",
   "mimetype": "text/x-python",
   "name": "python",
   "nbconvert_exporter": "python",
   "pygments_lexer": "ipython2",
   "version": "2.7.6"
  }
 },
 "nbformat": 4,
 "nbformat_minor": 0
}

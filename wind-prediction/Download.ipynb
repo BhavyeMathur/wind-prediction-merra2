{
 "cells": [
  {
   "cell_type": "code",
   "execution_count": 1,
   "metadata": {
    "collapsed": true
   },
   "outputs": [],
   "source": [
    "from calendar import monthrange\n",
    "\n",
    "import numpy as np\n",
    "import pandas as pd\n",
    "\n",
    "from nc4 import *\n",
    "from merra2 import *"
   ]
  },
  {
   "cell_type": "code",
   "execution_count": 2,
   "outputs": [],
   "source": [
    "def save_download_urls(dataset_esdt: str,\n",
    "                       collection: str,\n",
    "                       start_year, end_year,\n",
    "                       start_month=1, end_month=12,\n",
    "                       start_day=1, end_day=None) -> None:\n",
    "    with open(\"urls.txt\", \"w\") as file:\n",
    "        for yyyy in range(start_year, end_year + 1):\n",
    "\n",
    "            mi = start_month if yyyy == start_year else 1\n",
    "            mf = end_month if yyyy == end_year else 12\n",
    "\n",
    "            for mm in range(mi, mf + 1):\n",
    "\n",
    "                stream = get_merra_stream_from_year(yyyy, mm)\n",
    "\n",
    "                di = start_day if yyyy == start_year and mm == mi else 1\n",
    "                df = end_day if end_day and yyyy == end_year and mm == mf else monthrange(yyyy, mm)[1]\n",
    "\n",
    "                for dd in range(di, df + 1):\n",
    "                    file.write(f\"https://goldsmr5.gesdisc.eosdis.nasa.gov/data/MERRA2/{dataset_esdt}/\"\n",
    "                               f\"{yyyy}/{mm:0>2}/MERRA2_{stream}.{collection}.{yyyy}{mm:0>2}{dd:0>2}.nc4\\n\")\n",
    "\n",
    "\n",
    "def save_download_subset_urls(dataset_esdt: str,\n",
    "                              collection: str,\n",
    "                              variables: str,\n",
    "                              output_dir: str,\n",
    "                              start_year: int,\n",
    "                              end_year: int,\n",
    "                              start_month: int = 1,\n",
    "                              end_month: int = 12,\n",
    "                              start_day: int = 1,\n",
    "                              end_day: int | None = None,\n",
    "                              levels=range(36, 72)) -> None:\n",
    "\n",
    "    variables = get_merra_variables(variables)\n",
    "\n",
    "    with open(\"urls.txt\", \"w\") as file:\n",
    "        for yyyy in range(start_year, end_year + 1):\n",
    "\n",
    "            mi = start_month if yyyy == start_year else 1\n",
    "            mf = end_month if yyyy == end_year else 12\n",
    "\n",
    "            for mm in range(mi, mf + 1):\n",
    "\n",
    "                stream = get_merra_stream_from_year(yyyy, mm)\n",
    "\n",
    "                di = start_day if yyyy == start_year and mm == mi else 1\n",
    "                df = end_day if end_day and yyyy == end_year and mm == mf else monthrange(yyyy, mm)[1]\n",
    "\n",
    "                for dd in range(di, df + 1):\n",
    "                    filename = f\"MERRA2_{stream}.{collection}.{yyyy}{mm:0>2}{dd:0>2}\"\n",
    "                    if os.path.isfile(f\"{output_dir}/{filename}.SUB.nc\"):\n",
    "                        continue\n",
    "\n",
    "                    file.write(\"https://goldsmr5.gesdisc.eosdis.nasa.gov/daac-bin/OTF/HTTP_services.cgi?\"\n",
    "                               f\"FILENAME=%2Fdata%2FMERRA2%2F{dataset_esdt}%2F{yyyy}%2F{mm:0>2}%2F\"\n",
    "                               f\"MERRA2_{stream}.{collection}.{yyyy}{mm:0>2}{dd:0>2}.nc4\"\n",
    "                               f\"&SERVICE=L34RS_MERRA2\"\n",
    "                               f\"&DATASET_VERSION=5.12.4\"\n",
    "                               f\"&BBOX=-90%2C-180%2C90%2C180\"\n",
    "                               f\"&LABEL=MERRA2_{stream}.{collection}.{yyyy}{mm:0>2}{dd:0>2}.SUB.nc\"\n",
    "                               f\"&FORMAT=bmM0Lw\"\n",
    "                               f\"&SHORTNAME={dataset_esdt}\"\n",
    "                               f\"&VARIABLES={'%2C'.join(variable for variable in variables)}\"\n",
    "                               f\"&VERSION=1.02\"\n",
    "                               f\"&LAYERS=LAYER_{'%2C'.join(str(lev + 1) for lev in levels)}\"\n",
    "                               \"\\n\")"
   ],
   "metadata": {
    "collapsed": false
   }
  },
  {
   "cell_type": "code",
   "execution_count": 9,
   "outputs": [],
   "source": [
    "save_download_subset_urls(\"M2T3NVASM.5.12.4\", \"tavg3_3d_asm_Nv\",\n",
    "                          [\"U\", \"V\"],\n",
    "                          \"OUTPUT/FOLDER\",\n",
    "                          start_year=1981, end_year=1981,\n",
    "                          start_month=7, end_month=7,\n",
    "                          start_day=20, end_day=29)"
   ],
   "metadata": {
    "collapsed": false
   }
  },
  {
   "cell_type": "code",
   "execution_count": null,
   "outputs": [],
   "source": [
    "!wget --user=BhavyeMathur --ask-password --content-disposition -i urls.txt -P \"raw/\"\n"
   ],
   "metadata": {
    "collapsed": false,
    "pycharm": {
     "is_executing": true
    }
   }
  },
  {
   "cell_type": "code",
   "execution_count": 3,
   "outputs": [],
   "source": [
    "def save_df_as_parquet(df, output, compression_level=11, output_dir=\"dataframes\"):\n",
    "    if not isinstance(df, pd.DataFrame):\n",
    "        df = pd.DataFrame(df)\n",
    "\n",
    "    df.to_parquet(f\"{output_dir}/{output}\",\n",
    "                  engine=\"fastparquet\",\n",
    "                  compression={\"_default\": {\"type\": \"BROTLI\", \"args\": {\"level\": compression_level}}})\n",
    "\n",
    "\n",
    "def save_nc4_as_parquet(filename, variables, raw_dir=\"raw\", output_dir=\"dataframes\", **kwargs):\n",
    "    output = filename[:-3] + \"parquet\"\n",
    "\n",
    "    variables = get_merra_variables(variables)\n",
    "    with open_xarray_dataset(filename, folder=raw_dir) as dataset:\n",
    "        for var in variables:\n",
    "            print(f\"\\tLoading '{var}'\")\n",
    "            variable = dataset[var].to_dataframe()\n",
    "            variable.reset_index(inplace=True, drop=True)\n",
    "\n",
    "            variable16 = variable.astype(\"float16\")\n",
    "            print(f\"\\tStandard Deviation (SD): '{variable[var].std()}'\")\n",
    "            print(f\"\\tSD of float32 - float16: '{(variable - variable16)[var].std()}'\")\n",
    "\n",
    "            print(f\"\\tSaving '{var}'\\n\")\n",
    "\n",
    "            output_dir = f\"{output_dir}/{var}\"\n",
    "            if not os.path.isdir(output_dir):\n",
    "                os.makedirs(output_dir)\n",
    "\n",
    "            save_df_as_parquet(variable16, output, output_dir=output_dir, **kwargs)\n",
    "\n",
    "\n",
    "def compress_nc4(filename,\n",
    "                 variables,\n",
    "                 raw_dir=\"raw\",\n",
    "                 output_dir=\"compressed\",\n",
    "                 compression=\"zlib\",\n",
    "                 compression_level=9,\n",
    "                 pack_as_float16=True):\n",
    "    variables = get_merra_variables(variables)\n",
    "\n",
    "    if os.path.isfile(f\"{output_dir}/{filename}\"):\n",
    "        return\n",
    "\n",
    "    if os.path.isfile(f\"{raw_dir}/{filename}\"):\n",
    "        raw_file = filename\n",
    "    else:\n",
    "        raw_file = filename.replace(\".nc4\", \".SUB.nc4\")\n",
    "\n",
    "    with open_nc4_dataset(filename, folder=raw_dir) as dataset:\n",
    "        with open_nc4_dataset(filename, folder=output_dir, mode=\"w\") as dst:\n",
    "\n",
    "            dimensions = dataset[variables[0]].shape\n",
    "            if pack_as_float16 and dimensions[3] % 2 != 0:\n",
    "                raise RuntimeError(\"Cannot pack float16 data as float32 because dimensions is an odd number\")\n",
    "\n",
    "            if pack_as_float16:\n",
    "                dst.createDimension(\"lon\", dimensions[3] // 2)  # //2 because we pack float16s as float32s\n",
    "            else:\n",
    "                dst.createDimension(\"lon\", dimensions[3])\n",
    "\n",
    "            dst.createDimension(\"lat\", dimensions[2])\n",
    "            dst.createDimension(\"lev\", 36)\n",
    "            dst.createDimension(\"time\", dimensions[0])\n",
    "\n",
    "            for variable in variables:\n",
    "                data = dataset.variables[variable]\n",
    "\n",
    "                dst.createVariable(variable, \"f\", data.dimensions,\n",
    "                                   compression=compression,\n",
    "                                   complevel=compression_level)\n",
    "                dst[variable].setncatts(data.__dict__)\n",
    "\n",
    "                if pack_as_float16:\n",
    "                    data_float16 = np.array(data[:, -36:], dtype=\"float16\")\n",
    "                    packed_float32 = data_float16.view(\"float32\")\n",
    "                    dst[variable][:] = packed_float32\n",
    "                else:\n",
    "                    dst[variable][:] = data[:]\n",
    "\n",
    "\n",
    "def compress_all_nc4(collection: str,\n",
    "                     variables,\n",
    "                     start_year, end_year,\n",
    "                     start_month=1, end_month=12,\n",
    "                     start_day=1, end_day=None,\n",
    "                     **kwargs):\n",
    "    for yyyy in range(start_year, end_year + 1):\n",
    "\n",
    "        stream = get_merra_stream_from_year(yyyy)\n",
    "\n",
    "        mi = start_month if yyyy == start_year else 1\n",
    "        mf = end_month if yyyy == end_year else 12\n",
    "\n",
    "        for mm in range(mi, mf + 1):\n",
    "\n",
    "            di = start_day if yyyy == start_year and mm == mi else 1\n",
    "            df = end_day if end_day and yyyy == end_year and mm == mf else monthrange(yyyy, mm)[1]\n",
    "\n",
    "            for dd in range(di, df + 1):\n",
    "                filename = f\"MERRA2_{stream}.{collection}.{yyyy}{mm:0>2}{dd:0>2}.nc4\"\n",
    "                compress_nc4(filename, variables, **kwargs)"
   ],
   "metadata": {
    "collapsed": false
   }
  },
  {
   "cell_type": "code",
   "execution_count": 7,
   "outputs": [
    {
     "name": "stdout",
     "output_type": "stream",
     "text": [
      "<xarray.Dataset>\n",
      "Dimensions:  (time: 8, lev: 72, lat: 361, lon: 288)\n",
      "Dimensions without coordinates: time, lev, lat, lon\n",
      "Data variables:\n",
      "    U        (time, lev, lat, lon) float32 ...\n",
      "    V        (time, lev, lat, lon) float32 ...\n"
     ]
    }
   ],
   "source": [
    "print_nc4_metadata(\"MERRA2_300.tavg3_3d_asm_Nv.20010817.nc4\")"
   ],
   "metadata": {
    "collapsed": false
   }
  },
  {
   "cell_type": "code",
   "execution_count": null,
   "outputs": [],
   "source": [
    "compress_all_nc4(\"tavg3_3d_cld_Np\",\n",
    "                 [\"U\", \"V\"],\n",
    "                 start_year=1980, end_year=2022,\n",
    "                 start_month=1,\n",
    "                 start_day=1)\n"
   ],
   "metadata": {
    "collapsed": false
   }
  }
 ],
 "metadata": {
  "kernelspec": {
   "display_name": "Python 3",
   "language": "python",
   "name": "python3"
  },
  "language_info": {
   "codemirror_mode": {
    "name": "ipython",
    "version": 2
   },
   "file_extension": ".py",
   "mimetype": "text/x-python",
   "name": "python",
   "nbconvert_exporter": "python",
   "pygments_lexer": "ipython2",
   "version": "2.7.6"
  }
 },
 "nbformat": 4,
 "nbformat_minor": 0
}

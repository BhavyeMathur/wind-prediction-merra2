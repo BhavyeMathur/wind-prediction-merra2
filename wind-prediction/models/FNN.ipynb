{
 "cells": [
  {
   "cell_type": "code",
   "execution_count": 1,
   "metadata": {
    "collapsed": true,
    "ExecuteTime": {
     "end_time": "2023-07-19T16:32:27.524910Z",
     "start_time": "2023-07-19T16:32:25.093266Z"
    }
   },
   "outputs": [
    {
     "name": "stderr",
     "output_type": "stream",
     "text": [
      "\u001B[34m\u001B[1mwandb\u001B[0m: Currently logged in as: \u001B[33mbhavye-mathur\u001B[0m. Use \u001B[1m`wandb login --relogin`\u001B[0m to force relogin\n"
     ]
    },
    {
     "data": {
      "text/plain": "True"
     },
     "execution_count": 1,
     "metadata": {},
     "output_type": "execute_result"
    }
   ],
   "source": [
    "from torch.utils.data import DataLoader\n",
    "\n",
    "from tqdm.notebook import tqdm\n",
    "import wandb\n",
    "\n",
    "from WindModel import *\n",
    "\n",
    "wandb.login()"
   ]
  },
  {
   "cell_type": "code",
   "execution_count": 3,
   "outputs": [],
   "source": [
    "WindDataset.init(0.1)\n",
    "\n",
    "train = WindDataset(\"train\")\n",
    "validation = WindDataset(\"validation\")\n",
    "test = WindDataset(\"test\")\n",
    "\n",
    "del WindDataset.data"
   ],
   "metadata": {
    "collapsed": false,
    "ExecuteTime": {
     "end_time": "2023-07-19T16:32:34.450918Z",
     "start_time": "2023-07-19T16:32:27.695413Z"
    }
   }
  },
  {
   "cell_type": "code",
   "execution_count": 4,
   "outputs": [],
   "source": [
    "INPUT_SIZE = 15\n",
    "OUTPUT_SIZE = 1\n",
    "\n",
    "LOSS_FUNC = torch.nn.MSELoss"
   ],
   "metadata": {
    "collapsed": false,
    "ExecuteTime": {
     "end_time": "2023-07-19T16:32:34.453215Z",
     "start_time": "2023-07-19T16:32:34.451216Z"
    }
   }
  },
  {
   "cell_type": "code",
   "execution_count": 5,
   "outputs": [],
   "source": [
    "def get_dense_model(input_size: int,\n",
    "                    hidden_sizes: list[int],\n",
    "                    output_size: int,\n",
    "                    activation_func: callable):\n",
    "    layers = []\n",
    "\n",
    "    for size in hidden_sizes:\n",
    "        layers.append(torch.nn.Linear(input_size, size))\n",
    "        layers.append(activation_func())\n",
    "        input_size = size\n",
    "\n",
    "    layers.append(torch.nn.Linear(input_size, output_size))\n",
    "\n",
    "    return torch.nn.Sequential(*layers)"
   ],
   "metadata": {
    "collapsed": false,
    "ExecuteTime": {
     "end_time": "2023-07-19T16:32:34.456611Z",
     "start_time": "2023-07-19T16:32:34.455019Z"
    }
   }
  },
  {
   "cell_type": "code",
   "execution_count": 6,
   "outputs": [],
   "source": [
    "def evaluate_one_epoch(model, epoch):\n",
    "    mse = 0\n",
    "    mae = 0\n",
    "\n",
    "    with torch.no_grad():\n",
    "        prediction = model(validation.x).squeeze()\n",
    "\n",
    "        mse += torch.nn.functional.mse_loss(prediction, validation.y)\n",
    "        mae += torch.nn.functional.l1_loss(prediction, validation.y)\n",
    "\n",
    "    wandb.log({\"val_rmse\": (mse ** 0.5) * stds[VARIABLE],\n",
    "               \"val_mae\": mae * stds[VARIABLE]})\n",
    "\n",
    "\n",
    "def train_one_batch(model, optimizer, criterion, batch, batch_idx):\n",
    "    optimizer.zero_grad()\n",
    "\n",
    "    inputs, targets = batch\n",
    "\n",
    "    prediction = model(inputs).squeeze()\n",
    "    loss = criterion(prediction, targets)\n",
    "\n",
    "    loss.backward()\n",
    "    optimizer.step()\n",
    "\n",
    "    if batch_idx != 0 and batch_idx % 100 == 0:\n",
    "        with torch.no_grad():\n",
    "            rmse = (torch.nn.functional.mse_loss(prediction, targets) ** 0.5) * stds[VARIABLE]\n",
    "            wandb.log({\"train_loss\": loss,\n",
    "                       \"train_rmse\": rmse})\n",
    "\n",
    "\n",
    "def train_one_epoch(model, optimizer, criterion, epoch, batch_size):\n",
    "    n = len(train)\n",
    "\n",
    "    for i in range(len(train) // batch_size):\n",
    "        lower_i = i * batch_size\n",
    "        upper_i = min((i + 1) * batch_size, n)\n",
    "\n",
    "        batch_x = train.x[lower_i: upper_i]\n",
    "        batch_y = train.y[lower_i: upper_i]\n",
    "\n",
    "        train_one_batch(model, optimizer, criterion, (batch_x, batch_y), i)\n",
    "\n",
    "\n",
    "def main():\n",
    "    wandb.init()\n",
    "\n",
    "    learning_rate = wandb.config.learning_rate\n",
    "    batch_size = wandb.config.batch_size\n",
    "    layers = wandb.config.layers\n",
    "    epochs = wandb.config.epochs\n",
    "    activation = wandb.config.activation\n",
    "\n",
    "    activation = getattr(torch.nn, activation)\n",
    "\n",
    "    # train_dl = DataLoader(train, batch_size=batch_size, shuffle=True, pin_memory=True)\n",
    "    # validation_dl = DataLoader(validation, batch_size=batch_size, shuffle=False, pin_memory=True)\n",
    "\n",
    "    model = get_dense_model(INPUT_SIZE, layers, OUTPUT_SIZE, activation)\n",
    "    model = model.to(DEVICE)\n",
    "    print(model)\n",
    "\n",
    "    criterion = LOSS_FUNC()\n",
    "    optimizer = torch.optim.Adam(model.parameters(), lr=learning_rate)\n",
    "\n",
    "    if (scheduler := wandb.config.lr_scheduler) is None:\n",
    "        scheduler = None\n",
    "    elif scheduler == \"StepLR\":\n",
    "        scheduler = torch.optim.lr_scheduler.StepLR(optimizer, **wandb.config.lr_scheduler_kwargs)\n",
    "\n",
    "    # wandb.watch(model, log_freq=100)\n",
    "\n",
    "    for ep in tqdm(range(epochs)):\n",
    "        print(ep, end=\" \")\n",
    "\n",
    "        wandb.log({\"epoch\": ep})\n",
    "\n",
    "        model.train()\n",
    "        train_one_epoch(model, optimizer, criterion, ep, batch_size)\n",
    "\n",
    "        model.eval()\n",
    "        evaluate_one_epoch(model, ep)\n",
    "\n",
    "        if scheduler:\n",
    "            scheduler.step()\n",
    "            wandb.log({\"lr\": scheduler.get_last_lr()[-1]})"
   ],
   "metadata": {
    "collapsed": false,
    "ExecuteTime": {
     "end_time": "2023-07-19T16:32:34.462366Z",
     "start_time": "2023-07-19T16:32:34.460564Z"
    }
   }
  },
  {
   "cell_type": "code",
   "execution_count": null,
   "outputs": [],
   "source": [
    "config = {\n",
    "    \"batch_size\": 65536,\n",
    "    \"learning_rate\": 0.0005,\n",
    "    \"lr_scheduler\": \"StepLR\",\n",
    "    \"lr_scheduler_kwargs\": {\"step_size\": 16, \"gamma\": 0.3},\n",
    "    \"layers\": [512, 256],\n",
    "    \"activation\": \"PReLU\",\n",
    "    \"estimate_quantile\": ESTIMATE_QUANTILE,\n",
    "    \"dataset\": DATASET,\n",
    "    \"epochs\": 50,\n",
    "}\n",
    "\n",
    "wandb.init(project=f\"MERRA2-{VARIABLE}-July2023\", dir=\"wandb-local\", config=config)\n",
    "\n",
    "\n",
    "main()\n",
    "wandb.finish()"
   ],
   "metadata": {
    "collapsed": false,
    "pycharm": {
     "is_executing": true
    }
   }
  },
  {
   "cell_type": "code",
   "execution_count": 65,
   "outputs": [],
   "source": [
    "wandb.finish()"
   ],
   "metadata": {
    "collapsed": false,
    "ExecuteTime": {
     "end_time": "2023-07-19T15:20:14.941873Z",
     "start_time": "2023-07-19T15:20:14.937002Z"
    }
   }
  },
  {
   "cell_type": "code",
   "execution_count": null,
   "outputs": [
    {
     "name": "stdout",
     "output_type": "stream",
     "text": [
      "Create sweep with ID: 4zc8713b\n",
      "Sweep URL: https://wandb.ai/bhavye-mathur/MERRA2-U-July2023/sweeps/4zc8713b\n"
     ]
    },
    {
     "name": "stderr",
     "output_type": "stream",
     "text": [
      "\u001B[34m\u001B[1mwandb\u001B[0m: Agent Starting Run: 3qe5o7u9 with config:\n",
      "\u001B[34m\u001B[1mwandb\u001B[0m: \tactivation: LeakyReLU\n",
      "\u001B[34m\u001B[1mwandb\u001B[0m: \tbatch_size: 16384\n",
      "\u001B[34m\u001B[1mwandb\u001B[0m: \tdataset: NGCT\n",
      "\u001B[34m\u001B[1mwandb\u001B[0m: \tepochs: 40\n",
      "\u001B[34m\u001B[1mwandb\u001B[0m: \testimate_quantile: 0.9935\n",
      "\u001B[34m\u001B[1mwandb\u001B[0m: \tlayers: [1024, 512]\n",
      "\u001B[34m\u001B[1mwandb\u001B[0m: \tlearning_rate: 0.00029286351315302873\n",
      "\u001B[34m\u001B[1mwandb\u001B[0m: \tlr_scheduler: None\n",
      "\u001B[34m\u001B[1mwandb\u001B[0m: \tlr_scheduler_kwargs: {'gamma': 0.4672663126655401, 'step_size': 14}\n"
     ]
    },
    {
     "data": {
      "text/plain": "VBox(children=(Label(value='Waiting for wandb.init()...\\r'), FloatProgress(value=0.01675339513264286, max=1.0)…",
      "application/vnd.jupyter.widget-view+json": {
       "version_major": 2,
       "version_minor": 0,
       "model_id": "1b18429d31ce45e7a4a65c380eee3e81"
      }
     },
     "metadata": {},
     "output_type": "display_data"
    },
    {
     "data": {
      "text/plain": "<IPython.core.display.HTML object>",
      "text/html": "Tracking run with wandb version 0.15.5"
     },
     "metadata": {},
     "output_type": "display_data"
    },
    {
     "data": {
      "text/plain": "<IPython.core.display.HTML object>",
      "text/html": "Run data is saved locally in <code>/Users/bhavyemathur/Desktop/Projects/Spherindrical Fourier Transform/MERRA-2/wind-prediction/models/wandb/run-20230719_220238-3qe5o7u9</code>"
     },
     "metadata": {},
     "output_type": "display_data"
    },
    {
     "data": {
      "text/plain": "<IPython.core.display.HTML object>",
      "text/html": "Syncing run <strong><a href='https://wandb.ai/bhavye-mathur/MERRA2-U-July2023/runs/3qe5o7u9' target=\"_blank\">dark-sweep-1</a></strong> to <a href='https://wandb.ai/bhavye-mathur/MERRA2-U-July2023' target=\"_blank\">Weights & Biases</a> (<a href='https://wandb.me/run' target=\"_blank\">docs</a>)<br/>Sweep page: <a href='https://wandb.ai/bhavye-mathur/MERRA2-U-July2023/sweeps/4zc8713b' target=\"_blank\">https://wandb.ai/bhavye-mathur/MERRA2-U-July2023/sweeps/4zc8713b</a>"
     },
     "metadata": {},
     "output_type": "display_data"
    },
    {
     "data": {
      "text/plain": "<IPython.core.display.HTML object>",
      "text/html": " View project at <a href='https://wandb.ai/bhavye-mathur/MERRA2-U-July2023' target=\"_blank\">https://wandb.ai/bhavye-mathur/MERRA2-U-July2023</a>"
     },
     "metadata": {},
     "output_type": "display_data"
    },
    {
     "data": {
      "text/plain": "<IPython.core.display.HTML object>",
      "text/html": " View sweep at <a href='https://wandb.ai/bhavye-mathur/MERRA2-U-July2023/sweeps/4zc8713b' target=\"_blank\">https://wandb.ai/bhavye-mathur/MERRA2-U-July2023/sweeps/4zc8713b</a>"
     },
     "metadata": {},
     "output_type": "display_data"
    },
    {
     "data": {
      "text/plain": "<IPython.core.display.HTML object>",
      "text/html": " View run at <a href='https://wandb.ai/bhavye-mathur/MERRA2-U-July2023/runs/3qe5o7u9' target=\"_blank\">https://wandb.ai/bhavye-mathur/MERRA2-U-July2023/runs/3qe5o7u9</a>"
     },
     "metadata": {},
     "output_type": "display_data"
    },
    {
     "name": "stdout",
     "output_type": "stream",
     "text": [
      "Sequential(\n",
      "  (0): Linear(in_features=15, out_features=1024, bias=True)\n",
      "  (1): LeakyReLU(negative_slope=0.01)\n",
      "  (2): Linear(in_features=1024, out_features=512, bias=True)\n",
      "  (3): LeakyReLU(negative_slope=0.01)\n",
      "  (4): Linear(in_features=512, out_features=1, bias=True)\n",
      ")\n"
     ]
    },
    {
     "data": {
      "text/plain": "  0%|          | 0/40 [00:00<?, ?it/s]",
      "application/vnd.jupyter.widget-view+json": {
       "version_major": 2,
       "version_minor": 0,
       "model_id": "90bba390ea954a6b93f3dc4d5e32b03c"
      }
     },
     "metadata": {},
     "output_type": "display_data"
    },
    {
     "name": "stdout",
     "output_type": "stream",
     "text": [
      "0 1 2 3 4 5 6 7 8 9 10 11 12 13 14 15 16 17 18 19 20 21 22 23 24 25 26 27 28 29 30 31 32 33 34 35 36 37 38 39 "
     ]
    },
    {
     "data": {
      "text/plain": "<IPython.core.display.HTML object>",
      "text/html": "Waiting for W&B process to finish... <strong style=\"color:green\">(success).</strong>"
     },
     "metadata": {},
     "output_type": "display_data"
    },
    {
     "data": {
      "text/plain": "<IPython.core.display.HTML object>",
      "text/html": "<style>\n    table.wandb td:nth-child(1) { padding: 0 10px; text-align: left ; width: auto;} td:nth-child(2) {text-align: left ; width: 100%}\n    .wandb-row { display: flex; flex-direction: row; flex-wrap: wrap; justify-content: flex-start; width: 100% }\n    .wandb-col { display: flex; flex-direction: column; flex-basis: 100%; flex: 1; padding: 10px; }\n    </style>\n<div class=\"wandb-row\"><div class=\"wandb-col\"><h3>Run history:</h3><br/><table class=\"wandb\"><tr><td>epoch</td><td>▁▁▁▂▂▂▂▂▂▃▃▃▃▃▄▄▄▄▄▄▅▅▅▅▅▅▆▆▆▆▆▇▇▇▇▇▇███</td></tr><tr><td>train_loss</td><td>█▅▄▃▅▅▅▆▆▆▆▅▅▅▅▅▅▅▅▅▄▄▄▄▄▄▃▃▃▃▃▂▂▁▁▁▁▁▁▃</td></tr><tr><td>train_rmse</td><td>█▅▄▃▅▅▅▆▆▆▆▅▅▅▅▅▅▅▅▅▄▄▄▄▄▄▃▃▃▃▃▂▂▁▁▁▁▁▁▃</td></tr><tr><td>val_mae</td><td>█▆▄▅▅▅▅▄▄▄▄▃▃▂▂▂▂▂▂▂▂▂▂▂▁▁▁▁▁▂▂▂▂▂▂▁▁▁▁▁</td></tr><tr><td>val_rmse</td><td>█▆▅▅▅▅▅▄▄▄▄▄▃▃▃▃▃▂▂▂▂▂▂▂▂▂▂▂▂▂▂▂▂▂▂▁▁▁▁▁</td></tr></table><br/></div><div class=\"wandb-col\"><h3>Run summary:</h3><br/><table class=\"wandb\"><tr><td>epoch</td><td>39</td></tr><tr><td>train_loss</td><td>0.00171</td></tr><tr><td>train_rmse</td><td>0.4063</td></tr><tr><td>val_mae</td><td>0.28509</td></tr><tr><td>val_rmse</td><td>0.40057</td></tr></table><br/></div></div>"
     },
     "metadata": {},
     "output_type": "display_data"
    },
    {
     "data": {
      "text/plain": "<IPython.core.display.HTML object>",
      "text/html": " View run <strong style=\"color:#cdcd00\">dark-sweep-1</strong> at: <a href='https://wandb.ai/bhavye-mathur/MERRA2-U-July2023/runs/3qe5o7u9' target=\"_blank\">https://wandb.ai/bhavye-mathur/MERRA2-U-July2023/runs/3qe5o7u9</a><br/>Synced 5 W&B file(s), 0 media file(s), 0 artifact file(s) and 0 other file(s)"
     },
     "metadata": {},
     "output_type": "display_data"
    },
    {
     "data": {
      "text/plain": "<IPython.core.display.HTML object>",
      "text/html": "Find logs at: <code>./wandb/run-20230719_220238-3qe5o7u9/logs</code>"
     },
     "metadata": {},
     "output_type": "display_data"
    },
    {
     "name": "stderr",
     "output_type": "stream",
     "text": [
      "\u001B[34m\u001B[1mwandb\u001B[0m: Agent Starting Run: un7i9mey with config:\n",
      "\u001B[34m\u001B[1mwandb\u001B[0m: \tactivation: PReLU\n",
      "\u001B[34m\u001B[1mwandb\u001B[0m: \tbatch_size: 65536\n",
      "\u001B[34m\u001B[1mwandb\u001B[0m: \tdataset: NGCT\n",
      "\u001B[34m\u001B[1mwandb\u001B[0m: \tepochs: 40\n",
      "\u001B[34m\u001B[1mwandb\u001B[0m: \testimate_quantile: 0.9935\n",
      "\u001B[34m\u001B[1mwandb\u001B[0m: \tlayers: [1024, 512, 256]\n",
      "\u001B[34m\u001B[1mwandb\u001B[0m: \tlearning_rate: 0.0006919566436500085\n",
      "\u001B[34m\u001B[1mwandb\u001B[0m: \tlr_scheduler: StepLR\n",
      "\u001B[34m\u001B[1mwandb\u001B[0m: \tlr_scheduler_kwargs: {'gamma': 0.6240807684379402, 'step_size': 16}\n"
     ]
    },
    {
     "data": {
      "text/plain": "<IPython.core.display.HTML object>",
      "text/html": "Tracking run with wandb version 0.15.5"
     },
     "metadata": {},
     "output_type": "display_data"
    },
    {
     "data": {
      "text/plain": "<IPython.core.display.HTML object>",
      "text/html": "Run data is saved locally in <code>/Users/bhavyemathur/Desktop/Projects/Spherindrical Fourier Transform/MERRA-2/wind-prediction/models/wandb/run-20230719_221218-un7i9mey</code>"
     },
     "metadata": {},
     "output_type": "display_data"
    },
    {
     "data": {
      "text/plain": "<IPython.core.display.HTML object>",
      "text/html": "Syncing run <strong><a href='https://wandb.ai/bhavye-mathur/MERRA2-U-July2023/runs/un7i9mey' target=\"_blank\">stellar-sweep-2</a></strong> to <a href='https://wandb.ai/bhavye-mathur/MERRA2-U-July2023' target=\"_blank\">Weights & Biases</a> (<a href='https://wandb.me/run' target=\"_blank\">docs</a>)<br/>Sweep page: <a href='https://wandb.ai/bhavye-mathur/MERRA2-U-July2023/sweeps/4zc8713b' target=\"_blank\">https://wandb.ai/bhavye-mathur/MERRA2-U-July2023/sweeps/4zc8713b</a>"
     },
     "metadata": {},
     "output_type": "display_data"
    },
    {
     "data": {
      "text/plain": "<IPython.core.display.HTML object>",
      "text/html": " View project at <a href='https://wandb.ai/bhavye-mathur/MERRA2-U-July2023' target=\"_blank\">https://wandb.ai/bhavye-mathur/MERRA2-U-July2023</a>"
     },
     "metadata": {},
     "output_type": "display_data"
    },
    {
     "data": {
      "text/plain": "<IPython.core.display.HTML object>",
      "text/html": " View sweep at <a href='https://wandb.ai/bhavye-mathur/MERRA2-U-July2023/sweeps/4zc8713b' target=\"_blank\">https://wandb.ai/bhavye-mathur/MERRA2-U-July2023/sweeps/4zc8713b</a>"
     },
     "metadata": {},
     "output_type": "display_data"
    },
    {
     "data": {
      "text/plain": "<IPython.core.display.HTML object>",
      "text/html": " View run at <a href='https://wandb.ai/bhavye-mathur/MERRA2-U-July2023/runs/un7i9mey' target=\"_blank\">https://wandb.ai/bhavye-mathur/MERRA2-U-July2023/runs/un7i9mey</a>"
     },
     "metadata": {},
     "output_type": "display_data"
    },
    {
     "name": "stdout",
     "output_type": "stream",
     "text": [
      "Sequential(\n",
      "  (0): Linear(in_features=15, out_features=1024, bias=True)\n",
      "  (1): PReLU(num_parameters=1)\n",
      "  (2): Linear(in_features=1024, out_features=512, bias=True)\n",
      "  (3): PReLU(num_parameters=1)\n",
      "  (4): Linear(in_features=512, out_features=256, bias=True)\n",
      "  (5): PReLU(num_parameters=1)\n",
      "  (6): Linear(in_features=256, out_features=1, bias=True)\n",
      ")\n"
     ]
    },
    {
     "data": {
      "text/plain": "  0%|          | 0/40 [00:00<?, ?it/s]",
      "application/vnd.jupyter.widget-view+json": {
       "version_major": 2,
       "version_minor": 0,
       "model_id": "c33b86e85373444a8041627ef59a1e15"
      }
     },
     "metadata": {},
     "output_type": "display_data"
    },
    {
     "name": "stdout",
     "output_type": "stream",
     "text": [
      "0 1 2 3 4 5 6 7 8 9 10 11 12 13 14 15 16 17 18 19 20 21 22 23 24 25 26 27 28 29 30 31 32 33 34 35 36 37 38 39 "
     ]
    },
    {
     "data": {
      "text/plain": "<IPython.core.display.HTML object>",
      "text/html": "Waiting for W&B process to finish... <strong style=\"color:green\">(success).</strong>"
     },
     "metadata": {},
     "output_type": "display_data"
    },
    {
     "data": {
      "text/plain": "VBox(children=(Label(value='0.001 MB of 0.001 MB uploaded (0.000 MB deduped)\\r'), FloatProgress(value=1.0, max…",
      "application/vnd.jupyter.widget-view+json": {
       "version_major": 2,
       "version_minor": 0,
       "model_id": "f1a06bfcc251445581eed587c2f76abd"
      }
     },
     "metadata": {},
     "output_type": "display_data"
    },
    {
     "data": {
      "text/plain": "<IPython.core.display.HTML object>",
      "text/html": "<style>\n    table.wandb td:nth-child(1) { padding: 0 10px; text-align: left ; width: auto;} td:nth-child(2) {text-align: left ; width: 100%}\n    .wandb-row { display: flex; flex-direction: row; flex-wrap: wrap; justify-content: flex-start; width: 100% }\n    .wandb-col { display: flex; flex-direction: column; flex-basis: 100%; flex: 1; padding: 10px; }\n    </style>\n<div class=\"wandb-row\"><div class=\"wandb-col\"><h3>Run history:</h3><br/><table class=\"wandb\"><tr><td>epoch</td><td>▁▁▁▂▂▂▂▂▂▃▃▃▃▃▄▄▄▄▄▄▅▅▅▅▅▅▆▆▆▆▆▇▇▇▇▇▇███</td></tr><tr><td>lr</td><td>███████████████▄▄▄▄▄▄▄▄▄▄▄▄▄▄▄▄▁▁▁▁▁▁▁▁▁</td></tr><tr><td>train_loss</td><td>█▅▄▄▃▃▃▃▂▂▂▂▂▂▂▂▂▂▂▂▂▂▁▂▃▃▃▃▃▄▅▅▁▁▁▁▁▁▁▂</td></tr><tr><td>train_rmse</td><td>█▅▄▄▃▃▃▃▂▂▃▂▂▂▂▂▂▂▂▂▂▂▁▂▃▃▃▃▃▄▅▅▁▁▁▁▁▁▁▂</td></tr><tr><td>val_mae</td><td>▇▅▄▃▃▃▂▂▂▂▂▂▂▂█▇▁▁▁▂▁▂▂▁▂▁▁▂▂▂▁▁▁▁▁▁▁▁▁▁</td></tr><tr><td>val_rmse</td><td>█▅▄▄▃▃▃▃▂▂▂▂▂▂█▇▂▂▂▂▁▂▂▁▂▂▁▂▂▂▁▁▁▁▁▁▁▁▁▁</td></tr></table><br/></div><div class=\"wandb-col\"><h3>Run summary:</h3><br/><table class=\"wandb\"><tr><td>epoch</td><td>39</td></tr><tr><td>lr</td><td>0.00027</td></tr><tr><td>train_loss</td><td>0.00167</td></tr><tr><td>train_rmse</td><td>0.40221</td></tr><tr><td>val_mae</td><td>0.28535</td></tr><tr><td>val_rmse</td><td>0.40283</td></tr></table><br/></div></div>"
     },
     "metadata": {},
     "output_type": "display_data"
    },
    {
     "data": {
      "text/plain": "<IPython.core.display.HTML object>",
      "text/html": " View run <strong style=\"color:#cdcd00\">stellar-sweep-2</strong> at: <a href='https://wandb.ai/bhavye-mathur/MERRA2-U-July2023/runs/un7i9mey' target=\"_blank\">https://wandb.ai/bhavye-mathur/MERRA2-U-July2023/runs/un7i9mey</a><br/>Synced 5 W&B file(s), 0 media file(s), 0 artifact file(s) and 0 other file(s)"
     },
     "metadata": {},
     "output_type": "display_data"
    },
    {
     "data": {
      "text/plain": "<IPython.core.display.HTML object>",
      "text/html": "Find logs at: <code>./wandb/run-20230719_221218-un7i9mey/logs</code>"
     },
     "metadata": {},
     "output_type": "display_data"
    },
    {
     "name": "stderr",
     "output_type": "stream",
     "text": [
      "\u001B[34m\u001B[1mwandb\u001B[0m: Agent Starting Run: ovqhfxyy with config:\n",
      "\u001B[34m\u001B[1mwandb\u001B[0m: \tactivation: ReLU\n",
      "\u001B[34m\u001B[1mwandb\u001B[0m: \tbatch_size: 16384\n",
      "\u001B[34m\u001B[1mwandb\u001B[0m: \tdataset: NGCT\n",
      "\u001B[34m\u001B[1mwandb\u001B[0m: \tepochs: 40\n",
      "\u001B[34m\u001B[1mwandb\u001B[0m: \testimate_quantile: 0.9935\n",
      "\u001B[34m\u001B[1mwandb\u001B[0m: \tlayers: [512, 256]\n",
      "\u001B[34m\u001B[1mwandb\u001B[0m: \tlearning_rate: 0.00047758850114439506\n",
      "\u001B[34m\u001B[1mwandb\u001B[0m: \tlr_scheduler: None\n",
      "\u001B[34m\u001B[1mwandb\u001B[0m: \tlr_scheduler_kwargs: {'gamma': 0.6578316805180544, 'step_size': 17}\n"
     ]
    },
    {
     "data": {
      "text/plain": "VBox(children=(Label(value='Waiting for wandb.init()...\\r'), FloatProgress(value=0.016753114583358788, max=1.0…",
      "application/vnd.jupyter.widget-view+json": {
       "version_major": 2,
       "version_minor": 0,
       "model_id": "3f9219b00a9c45c3a575b721e68dd952"
      }
     },
     "metadata": {},
     "output_type": "display_data"
    },
    {
     "data": {
      "text/plain": "<IPython.core.display.HTML object>",
      "text/html": "Tracking run with wandb version 0.15.5"
     },
     "metadata": {},
     "output_type": "display_data"
    },
    {
     "data": {
      "text/plain": "<IPython.core.display.HTML object>",
      "text/html": "Run data is saved locally in <code>/Users/bhavyemathur/Desktop/Projects/Spherindrical Fourier Transform/MERRA-2/wind-prediction/models/wandb/run-20230719_222848-ovqhfxyy</code>"
     },
     "metadata": {},
     "output_type": "display_data"
    },
    {
     "data": {
      "text/plain": "<IPython.core.display.HTML object>",
      "text/html": "Syncing run <strong><a href='https://wandb.ai/bhavye-mathur/MERRA2-U-July2023/runs/ovqhfxyy' target=\"_blank\">upbeat-sweep-3</a></strong> to <a href='https://wandb.ai/bhavye-mathur/MERRA2-U-July2023' target=\"_blank\">Weights & Biases</a> (<a href='https://wandb.me/run' target=\"_blank\">docs</a>)<br/>Sweep page: <a href='https://wandb.ai/bhavye-mathur/MERRA2-U-July2023/sweeps/4zc8713b' target=\"_blank\">https://wandb.ai/bhavye-mathur/MERRA2-U-July2023/sweeps/4zc8713b</a>"
     },
     "metadata": {},
     "output_type": "display_data"
    },
    {
     "data": {
      "text/plain": "<IPython.core.display.HTML object>",
      "text/html": " View project at <a href='https://wandb.ai/bhavye-mathur/MERRA2-U-July2023' target=\"_blank\">https://wandb.ai/bhavye-mathur/MERRA2-U-July2023</a>"
     },
     "metadata": {},
     "output_type": "display_data"
    },
    {
     "data": {
      "text/plain": "<IPython.core.display.HTML object>",
      "text/html": " View sweep at <a href='https://wandb.ai/bhavye-mathur/MERRA2-U-July2023/sweeps/4zc8713b' target=\"_blank\">https://wandb.ai/bhavye-mathur/MERRA2-U-July2023/sweeps/4zc8713b</a>"
     },
     "metadata": {},
     "output_type": "display_data"
    },
    {
     "data": {
      "text/plain": "<IPython.core.display.HTML object>",
      "text/html": " View run at <a href='https://wandb.ai/bhavye-mathur/MERRA2-U-July2023/runs/ovqhfxyy' target=\"_blank\">https://wandb.ai/bhavye-mathur/MERRA2-U-July2023/runs/ovqhfxyy</a>"
     },
     "metadata": {},
     "output_type": "display_data"
    },
    {
     "name": "stdout",
     "output_type": "stream",
     "text": [
      "Sequential(\n",
      "  (0): Linear(in_features=15, out_features=512, bias=True)\n",
      "  (1): ReLU()\n",
      "  (2): Linear(in_features=512, out_features=256, bias=True)\n",
      "  (3): ReLU()\n",
      "  (4): Linear(in_features=256, out_features=1, bias=True)\n",
      ")\n"
     ]
    },
    {
     "data": {
      "text/plain": "  0%|          | 0/40 [00:00<?, ?it/s]",
      "application/vnd.jupyter.widget-view+json": {
       "version_major": 2,
       "version_minor": 0,
       "model_id": "238a83659d5d48759d60830af042fc86"
      }
     },
     "metadata": {},
     "output_type": "display_data"
    },
    {
     "name": "stdout",
     "output_type": "stream",
     "text": [
      "0 1 2 3 4 5 "
     ]
    },
    {
     "data": {
      "text/plain": "<IPython.core.display.HTML object>",
      "text/html": "Waiting for W&B process to finish... <strong style=\"color:red\">(failed 1).</strong> Press Control-C to abort syncing."
     },
     "metadata": {},
     "output_type": "display_data"
    },
    {
     "data": {
      "text/plain": "VBox(children=(Label(value='0.001 MB of 0.001 MB uploaded (0.000 MB deduped)\\r'), FloatProgress(value=1.0, max…",
      "application/vnd.jupyter.widget-view+json": {
       "version_major": 2,
       "version_minor": 0,
       "model_id": "8914028b600c4d5b9138530a8a25c959"
      }
     },
     "metadata": {},
     "output_type": "display_data"
    },
    {
     "data": {
      "text/plain": "<IPython.core.display.HTML object>",
      "text/html": "<style>\n    table.wandb td:nth-child(1) { padding: 0 10px; text-align: left ; width: auto;} td:nth-child(2) {text-align: left ; width: 100%}\n    .wandb-row { display: flex; flex-direction: row; flex-wrap: wrap; justify-content: flex-start; width: 100% }\n    .wandb-col { display: flex; flex-direction: column; flex-basis: 100%; flex: 1; padding: 10px; }\n    </style>\n<div class=\"wandb-row\"><div class=\"wandb-col\"><h3>Run history:</h3><br/><table class=\"wandb\"><tr><td>epoch</td><td>▁▂▄▅▇█</td></tr><tr><td>train_loss</td><td>█▄▃▃▂▂▂▂▂▂▁▂▁▂▂▂▁▂▂▂▁▂▂▂</td></tr><tr><td>train_rmse</td><td>█▄▃▃▂▂▂▂▂▂▁▂▁▂▂▂▁▂▂▂▁▂▂▂</td></tr><tr><td>val_mae</td><td>█▅▃▂▁▁</td></tr><tr><td>val_rmse</td><td>█▅▃▂▁▁</td></tr></table><br/></div><div class=\"wandb-col\"><h3>Run summary:</h3><br/><table class=\"wandb\"><tr><td>epoch</td><td>5</td></tr><tr><td>train_loss</td><td>0.00176</td></tr><tr><td>train_rmse</td><td>0.41288</td></tr><tr><td>val_mae</td><td>0.29275</td></tr><tr><td>val_rmse</td><td>0.41117</td></tr></table><br/></div></div>"
     },
     "metadata": {},
     "output_type": "display_data"
    },
    {
     "data": {
      "text/plain": "<IPython.core.display.HTML object>",
      "text/html": " View run <strong style=\"color:#cdcd00\">upbeat-sweep-3</strong> at: <a href='https://wandb.ai/bhavye-mathur/MERRA2-U-July2023/runs/ovqhfxyy' target=\"_blank\">https://wandb.ai/bhavye-mathur/MERRA2-U-July2023/runs/ovqhfxyy</a><br/>Synced 5 W&B file(s), 0 media file(s), 0 artifact file(s) and 0 other file(s)"
     },
     "metadata": {},
     "output_type": "display_data"
    },
    {
     "data": {
      "text/plain": "<IPython.core.display.HTML object>",
      "text/html": "Find logs at: <code>./wandb/run-20230719_222848-ovqhfxyy/logs</code>"
     },
     "metadata": {},
     "output_type": "display_data"
    },
    {
     "name": "stderr",
     "output_type": "stream",
     "text": [
      "\u001B[34m\u001B[1mwandb\u001B[0m: Agent Starting Run: 9xm9pi4p with config:\n",
      "\u001B[34m\u001B[1mwandb\u001B[0m: \tactivation: ELU\n",
      "\u001B[34m\u001B[1mwandb\u001B[0m: \tbatch_size: 8192\n",
      "\u001B[34m\u001B[1mwandb\u001B[0m: \tdataset: NGCT\n",
      "\u001B[34m\u001B[1mwandb\u001B[0m: \tepochs: 40\n",
      "\u001B[34m\u001B[1mwandb\u001B[0m: \testimate_quantile: 0.9935\n",
      "\u001B[34m\u001B[1mwandb\u001B[0m: \tlayers: [512, 256, 128]\n",
      "\u001B[34m\u001B[1mwandb\u001B[0m: \tlearning_rate: 0.00026933664754704724\n",
      "\u001B[34m\u001B[1mwandb\u001B[0m: \tlr_scheduler: StepLR\n",
      "\u001B[34m\u001B[1mwandb\u001B[0m: \tlr_scheduler_kwargs: {'gamma': 0.6549843224982597, 'step_size': 19}\n"
     ]
    },
    {
     "data": {
      "text/plain": "<IPython.core.display.HTML object>",
      "text/html": "Tracking run with wandb version 0.15.5"
     },
     "metadata": {},
     "output_type": "display_data"
    },
    {
     "data": {
      "text/plain": "<IPython.core.display.HTML object>",
      "text/html": "Run data is saved locally in <code>/Users/bhavyemathur/Desktop/Projects/Spherindrical Fourier Transform/MERRA-2/wind-prediction/models/wandb/run-20230719_222920-9xm9pi4p</code>"
     },
     "metadata": {},
     "output_type": "display_data"
    },
    {
     "data": {
      "text/plain": "<IPython.core.display.HTML object>",
      "text/html": "Syncing run <strong><a href='https://wandb.ai/bhavye-mathur/MERRA2-U-July2023/runs/9xm9pi4p' target=\"_blank\">ancient-sweep-4</a></strong> to <a href='https://wandb.ai/bhavye-mathur/MERRA2-U-July2023' target=\"_blank\">Weights & Biases</a> (<a href='https://wandb.me/run' target=\"_blank\">docs</a>)<br/>Sweep page: <a href='https://wandb.ai/bhavye-mathur/MERRA2-U-July2023/sweeps/4zc8713b' target=\"_blank\">https://wandb.ai/bhavye-mathur/MERRA2-U-July2023/sweeps/4zc8713b</a>"
     },
     "metadata": {},
     "output_type": "display_data"
    },
    {
     "data": {
      "text/plain": "<IPython.core.display.HTML object>",
      "text/html": " View project at <a href='https://wandb.ai/bhavye-mathur/MERRA2-U-July2023' target=\"_blank\">https://wandb.ai/bhavye-mathur/MERRA2-U-July2023</a>"
     },
     "metadata": {},
     "output_type": "display_data"
    },
    {
     "data": {
      "text/plain": "<IPython.core.display.HTML object>",
      "text/html": " View sweep at <a href='https://wandb.ai/bhavye-mathur/MERRA2-U-July2023/sweeps/4zc8713b' target=\"_blank\">https://wandb.ai/bhavye-mathur/MERRA2-U-July2023/sweeps/4zc8713b</a>"
     },
     "metadata": {},
     "output_type": "display_data"
    },
    {
     "data": {
      "text/plain": "<IPython.core.display.HTML object>",
      "text/html": " View run at <a href='https://wandb.ai/bhavye-mathur/MERRA2-U-July2023/runs/9xm9pi4p' target=\"_blank\">https://wandb.ai/bhavye-mathur/MERRA2-U-July2023/runs/9xm9pi4p</a>"
     },
     "metadata": {},
     "output_type": "display_data"
    },
    {
     "name": "stdout",
     "output_type": "stream",
     "text": [
      "Sequential(\n",
      "  (0): Linear(in_features=15, out_features=512, bias=True)\n",
      "  (1): ELU(alpha=1.0)\n",
      "  (2): Linear(in_features=512, out_features=256, bias=True)\n",
      "  (3): ELU(alpha=1.0)\n",
      "  (4): Linear(in_features=256, out_features=128, bias=True)\n",
      "  (5): ELU(alpha=1.0)\n",
      "  (6): Linear(in_features=128, out_features=1, bias=True)\n",
      ")\n"
     ]
    },
    {
     "data": {
      "text/plain": "  0%|          | 0/40 [00:00<?, ?it/s]",
      "application/vnd.jupyter.widget-view+json": {
       "version_major": 2,
       "version_minor": 0,
       "model_id": "3f78997d931b4021aaee89f431ad8b99"
      }
     },
     "metadata": {},
     "output_type": "display_data"
    },
    {
     "name": "stdout",
     "output_type": "stream",
     "text": [
      "0 1 2 3 4 5 6 7 8 9 10 11 12 13 14 15 16 17 18 19 20 21 22 23 24 25 26 27 28 29 30 31 32 33 34 35 36 37 38 39 "
     ]
    },
    {
     "data": {
      "text/plain": "<IPython.core.display.HTML object>",
      "text/html": "Waiting for W&B process to finish... <strong style=\"color:green\">(success).</strong>"
     },
     "metadata": {},
     "output_type": "display_data"
    },
    {
     "data": {
      "text/plain": "<IPython.core.display.HTML object>",
      "text/html": "<style>\n    table.wandb td:nth-child(1) { padding: 0 10px; text-align: left ; width: auto;} td:nth-child(2) {text-align: left ; width: 100%}\n    .wandb-row { display: flex; flex-direction: row; flex-wrap: wrap; justify-content: flex-start; width: 100% }\n    .wandb-col { display: flex; flex-direction: column; flex-basis: 100%; flex: 1; padding: 10px; }\n    </style>\n<div class=\"wandb-row\"><div class=\"wandb-col\"><h3>Run history:</h3><br/><table class=\"wandb\"><tr><td>epoch</td><td>▁▁▁▂▂▂▂▂▂▃▃▃▃▃▄▄▄▄▄▄▅▅▅▅▅▅▆▆▆▆▆▇▇▇▇▇▇███</td></tr><tr><td>lr</td><td>██████████████████▄▄▄▄▄▄▄▄▄▄▄▄▄▄▄▄▄▄▄▁▁▁</td></tr><tr><td>train_loss</td><td>█▂▂▂▁▂▂▂▂▂▂▂▂▂▂▂▁▁▁▁▁▁▁▁▁▁▁▁▁▁▁▁▁▁▁▁▁▁▁▁</td></tr><tr><td>train_rmse</td><td>█▂▂▂▁▂▂▂▂▂▂▂▂▂▂▂▁▁▁▁▁▁▁▁▁▁▁▁▁▁▁▁▁▁▁▁▁▁▁▁</td></tr><tr><td>val_mae</td><td>▅▂▃█▇▅▃▂▂▂▂▂▂▂▂▃▂▂▂▁▂▂▂▂▁▁▁▁▁▁▁▁▁▁▁▁▁▁▁▁</td></tr><tr><td>val_rmse</td><td>▇▃▃█▇▄▃▂▂▂▂▂▂▂▃▃▃▂▂▂▂▂▂▂▂▂▂▂▁▁▁▁▁▁▁▁▁▁▁▁</td></tr></table><br/></div><div class=\"wandb-col\"><h3>Run summary:</h3><br/><table class=\"wandb\"><tr><td>epoch</td><td>39</td></tr><tr><td>lr</td><td>0.00012</td></tr><tr><td>train_loss</td><td>0.00167</td></tr><tr><td>train_rmse</td><td>0.40172</td></tr><tr><td>val_mae</td><td>0.28507</td></tr><tr><td>val_rmse</td><td>0.40271</td></tr></table><br/></div></div>"
     },
     "metadata": {},
     "output_type": "display_data"
    },
    {
     "data": {
      "text/plain": "<IPython.core.display.HTML object>",
      "text/html": " View run <strong style=\"color:#cdcd00\">ancient-sweep-4</strong> at: <a href='https://wandb.ai/bhavye-mathur/MERRA2-U-July2023/runs/9xm9pi4p' target=\"_blank\">https://wandb.ai/bhavye-mathur/MERRA2-U-July2023/runs/9xm9pi4p</a><br/>Synced 5 W&B file(s), 0 media file(s), 0 artifact file(s) and 0 other file(s)"
     },
     "metadata": {},
     "output_type": "display_data"
    },
    {
     "data": {
      "text/plain": "<IPython.core.display.HTML object>",
      "text/html": "Find logs at: <code>./wandb/run-20230719_222920-9xm9pi4p/logs</code>"
     },
     "metadata": {},
     "output_type": "display_data"
    },
    {
     "name": "stderr",
     "output_type": "stream",
     "text": [
      "\u001B[34m\u001B[1mwandb\u001B[0m: Agent Starting Run: nxlk4s8e with config:\n",
      "\u001B[34m\u001B[1mwandb\u001B[0m: \tactivation: LeakyReLU\n",
      "\u001B[34m\u001B[1mwandb\u001B[0m: \tbatch_size: 32768\n",
      "\u001B[34m\u001B[1mwandb\u001B[0m: \tdataset: NGCT\n",
      "\u001B[34m\u001B[1mwandb\u001B[0m: \tepochs: 40\n",
      "\u001B[34m\u001B[1mwandb\u001B[0m: \testimate_quantile: 0.9935\n",
      "\u001B[34m\u001B[1mwandb\u001B[0m: \tlayers: [1024, 512, 256]\n",
      "\u001B[34m\u001B[1mwandb\u001B[0m: \tlearning_rate: 0.0006561164426897387\n",
      "\u001B[34m\u001B[1mwandb\u001B[0m: \tlr_scheduler: StepLR\n",
      "\u001B[34m\u001B[1mwandb\u001B[0m: \tlr_scheduler_kwargs: {'gamma': 0.3960938363331534, 'step_size': 12}\n"
     ]
    },
    {
     "data": {
      "text/plain": "VBox(children=(Label(value='Waiting for wandb.init()...\\r'), FloatProgress(value=0.01675203403380389, max=1.0)…",
      "application/vnd.jupyter.widget-view+json": {
       "version_major": 2,
       "version_minor": 0,
       "model_id": "e0a0bde4f3c74ffea1fa5bee00239197"
      }
     },
     "metadata": {},
     "output_type": "display_data"
    },
    {
     "data": {
      "text/plain": "<IPython.core.display.HTML object>",
      "text/html": "Tracking run with wandb version 0.15.5"
     },
     "metadata": {},
     "output_type": "display_data"
    },
    {
     "data": {
      "text/plain": "<IPython.core.display.HTML object>",
      "text/html": "Run data is saved locally in <code>/Users/bhavyemathur/Desktop/Projects/Spherindrical Fourier Transform/MERRA-2/wind-prediction/models/wandb/run-20230719_223236-nxlk4s8e</code>"
     },
     "metadata": {},
     "output_type": "display_data"
    },
    {
     "data": {
      "text/plain": "<IPython.core.display.HTML object>",
      "text/html": "Syncing run <strong><a href='https://wandb.ai/bhavye-mathur/MERRA2-U-July2023/runs/nxlk4s8e' target=\"_blank\">lilac-sweep-5</a></strong> to <a href='https://wandb.ai/bhavye-mathur/MERRA2-U-July2023' target=\"_blank\">Weights & Biases</a> (<a href='https://wandb.me/run' target=\"_blank\">docs</a>)<br/>Sweep page: <a href='https://wandb.ai/bhavye-mathur/MERRA2-U-July2023/sweeps/4zc8713b' target=\"_blank\">https://wandb.ai/bhavye-mathur/MERRA2-U-July2023/sweeps/4zc8713b</a>"
     },
     "metadata": {},
     "output_type": "display_data"
    },
    {
     "data": {
      "text/plain": "<IPython.core.display.HTML object>",
      "text/html": " View project at <a href='https://wandb.ai/bhavye-mathur/MERRA2-U-July2023' target=\"_blank\">https://wandb.ai/bhavye-mathur/MERRA2-U-July2023</a>"
     },
     "metadata": {},
     "output_type": "display_data"
    },
    {
     "data": {
      "text/plain": "<IPython.core.display.HTML object>",
      "text/html": " View sweep at <a href='https://wandb.ai/bhavye-mathur/MERRA2-U-July2023/sweeps/4zc8713b' target=\"_blank\">https://wandb.ai/bhavye-mathur/MERRA2-U-July2023/sweeps/4zc8713b</a>"
     },
     "metadata": {},
     "output_type": "display_data"
    },
    {
     "data": {
      "text/plain": "<IPython.core.display.HTML object>",
      "text/html": " View run at <a href='https://wandb.ai/bhavye-mathur/MERRA2-U-July2023/runs/nxlk4s8e' target=\"_blank\">https://wandb.ai/bhavye-mathur/MERRA2-U-July2023/runs/nxlk4s8e</a>"
     },
     "metadata": {},
     "output_type": "display_data"
    },
    {
     "name": "stdout",
     "output_type": "stream",
     "text": [
      "Sequential(\n",
      "  (0): Linear(in_features=15, out_features=1024, bias=True)\n",
      "  (1): LeakyReLU(negative_slope=0.01)\n",
      "  (2): Linear(in_features=1024, out_features=512, bias=True)\n",
      "  (3): LeakyReLU(negative_slope=0.01)\n",
      "  (4): Linear(in_features=512, out_features=256, bias=True)\n",
      "  (5): LeakyReLU(negative_slope=0.01)\n",
      "  (6): Linear(in_features=256, out_features=1, bias=True)\n",
      ")\n"
     ]
    },
    {
     "data": {
      "text/plain": "  0%|          | 0/40 [00:00<?, ?it/s]",
      "application/vnd.jupyter.widget-view+json": {
       "version_major": 2,
       "version_minor": 0,
       "model_id": "62b1b69866bb4db3940b915068292904"
      }
     },
     "metadata": {},
     "output_type": "display_data"
    },
    {
     "name": "stdout",
     "output_type": "stream",
     "text": [
      "0 1 2 3 4 5 6 "
     ]
    },
    {
     "data": {
      "text/plain": "<IPython.core.display.HTML object>",
      "text/html": "Waiting for W&B process to finish... <strong style=\"color:red\">(failed 1).</strong> Press Control-C to abort syncing."
     },
     "metadata": {},
     "output_type": "display_data"
    },
    {
     "data": {
      "text/plain": "VBox(children=(Label(value='0.001 MB of 0.001 MB uploaded (0.000 MB deduped)\\r'), FloatProgress(value=1.0, max…",
      "application/vnd.jupyter.widget-view+json": {
       "version_major": 2,
       "version_minor": 0,
       "model_id": "b9e2b55c20f64edbac2fa57b54355639"
      }
     },
     "metadata": {},
     "output_type": "display_data"
    },
    {
     "data": {
      "text/plain": "<IPython.core.display.HTML object>",
      "text/html": "<style>\n    table.wandb td:nth-child(1) { padding: 0 10px; text-align: left ; width: auto;} td:nth-child(2) {text-align: left ; width: 100%}\n    .wandb-row { display: flex; flex-direction: row; flex-wrap: wrap; justify-content: flex-start; width: 100% }\n    .wandb-col { display: flex; flex-direction: column; flex-basis: 100%; flex: 1; padding: 10px; }\n    </style>\n<div class=\"wandb-row\"><div class=\"wandb-col\"><h3>Run history:</h3><br/><table class=\"wandb\"><tr><td>epoch</td><td>▁▂▃▅▆▇█</td></tr><tr><td>lr</td><td>▁▁▁▁▁▁</td></tr><tr><td>train_loss</td><td>█▆▄▃▃▂▂▃▃▁▂▂▃</td></tr><tr><td>train_rmse</td><td>█▆▄▃▃▂▂▃▃▁▂▂▃</td></tr><tr><td>val_mae</td><td>█▃▇▁▂▃</td></tr><tr><td>val_rmse</td><td>█▄▇▁▂▃</td></tr></table><br/></div><div class=\"wandb-col\"><h3>Run summary:</h3><br/><table class=\"wandb\"><tr><td>epoch</td><td>6</td></tr><tr><td>lr</td><td>0.00066</td></tr><tr><td>train_loss</td><td>0.00173</td></tr><tr><td>train_rmse</td><td>0.40879</td></tr><tr><td>val_mae</td><td>0.29994</td></tr><tr><td>val_rmse</td><td>0.41759</td></tr></table><br/></div></div>"
     },
     "metadata": {},
     "output_type": "display_data"
    },
    {
     "data": {
      "text/plain": "<IPython.core.display.HTML object>",
      "text/html": " View run <strong style=\"color:#cdcd00\">lilac-sweep-5</strong> at: <a href='https://wandb.ai/bhavye-mathur/MERRA2-U-July2023/runs/nxlk4s8e' target=\"_blank\">https://wandb.ai/bhavye-mathur/MERRA2-U-July2023/runs/nxlk4s8e</a><br/>Synced 5 W&B file(s), 0 media file(s), 0 artifact file(s) and 0 other file(s)"
     },
     "metadata": {},
     "output_type": "display_data"
    },
    {
     "data": {
      "text/plain": "<IPython.core.display.HTML object>",
      "text/html": "Find logs at: <code>./wandb/run-20230719_223236-nxlk4s8e/logs</code>"
     },
     "metadata": {},
     "output_type": "display_data"
    },
    {
     "name": "stderr",
     "output_type": "stream",
     "text": [
      "\u001B[34m\u001B[1mwandb\u001B[0m: Agent Starting Run: 91kbw68j with config:\n",
      "\u001B[34m\u001B[1mwandb\u001B[0m: \tactivation: PReLU\n",
      "\u001B[34m\u001B[1mwandb\u001B[0m: \tbatch_size: 32768\n",
      "\u001B[34m\u001B[1mwandb\u001B[0m: \tdataset: NGCT\n",
      "\u001B[34m\u001B[1mwandb\u001B[0m: \tepochs: 40\n",
      "\u001B[34m\u001B[1mwandb\u001B[0m: \testimate_quantile: 0.9935\n",
      "\u001B[34m\u001B[1mwandb\u001B[0m: \tlayers: [128, 64, 32]\n",
      "\u001B[34m\u001B[1mwandb\u001B[0m: \tlearning_rate: 0.000795640720244075\n",
      "\u001B[34m\u001B[1mwandb\u001B[0m: \tlr_scheduler: None\n",
      "\u001B[34m\u001B[1mwandb\u001B[0m: \tlr_scheduler_kwargs: {'gamma': 0.28090896013334304, 'step_size': 15}\n"
     ]
    },
    {
     "data": {
      "text/plain": "<IPython.core.display.HTML object>",
      "text/html": "Tracking run with wandb version 0.15.5"
     },
     "metadata": {},
     "output_type": "display_data"
    },
    {
     "data": {
      "text/plain": "<IPython.core.display.HTML object>",
      "text/html": "Run data is saved locally in <code>/Users/bhavyemathur/Desktop/Projects/Spherindrical Fourier Transform/MERRA-2/wind-prediction/models/wandb/run-20230719_223414-91kbw68j</code>"
     },
     "metadata": {},
     "output_type": "display_data"
    },
    {
     "data": {
      "text/plain": "<IPython.core.display.HTML object>",
      "text/html": "Syncing run <strong><a href='https://wandb.ai/bhavye-mathur/MERRA2-U-July2023/runs/91kbw68j' target=\"_blank\">rich-sweep-6</a></strong> to <a href='https://wandb.ai/bhavye-mathur/MERRA2-U-July2023' target=\"_blank\">Weights & Biases</a> (<a href='https://wandb.me/run' target=\"_blank\">docs</a>)<br/>Sweep page: <a href='https://wandb.ai/bhavye-mathur/MERRA2-U-July2023/sweeps/4zc8713b' target=\"_blank\">https://wandb.ai/bhavye-mathur/MERRA2-U-July2023/sweeps/4zc8713b</a>"
     },
     "metadata": {},
     "output_type": "display_data"
    },
    {
     "data": {
      "text/plain": "<IPython.core.display.HTML object>",
      "text/html": " View project at <a href='https://wandb.ai/bhavye-mathur/MERRA2-U-July2023' target=\"_blank\">https://wandb.ai/bhavye-mathur/MERRA2-U-July2023</a>"
     },
     "metadata": {},
     "output_type": "display_data"
    },
    {
     "data": {
      "text/plain": "<IPython.core.display.HTML object>",
      "text/html": " View sweep at <a href='https://wandb.ai/bhavye-mathur/MERRA2-U-July2023/sweeps/4zc8713b' target=\"_blank\">https://wandb.ai/bhavye-mathur/MERRA2-U-July2023/sweeps/4zc8713b</a>"
     },
     "metadata": {},
     "output_type": "display_data"
    },
    {
     "data": {
      "text/plain": "<IPython.core.display.HTML object>",
      "text/html": " View run at <a href='https://wandb.ai/bhavye-mathur/MERRA2-U-July2023/runs/91kbw68j' target=\"_blank\">https://wandb.ai/bhavye-mathur/MERRA2-U-July2023/runs/91kbw68j</a>"
     },
     "metadata": {},
     "output_type": "display_data"
    },
    {
     "name": "stdout",
     "output_type": "stream",
     "text": [
      "Sequential(\n",
      "  (0): Linear(in_features=15, out_features=128, bias=True)\n",
      "  (1): PReLU(num_parameters=1)\n",
      "  (2): Linear(in_features=128, out_features=64, bias=True)\n",
      "  (3): PReLU(num_parameters=1)\n",
      "  (4): Linear(in_features=64, out_features=32, bias=True)\n",
      "  (5): PReLU(num_parameters=1)\n",
      "  (6): Linear(in_features=32, out_features=1, bias=True)\n",
      ")\n"
     ]
    },
    {
     "data": {
      "text/plain": "  0%|          | 0/40 [00:00<?, ?it/s]",
      "application/vnd.jupyter.widget-view+json": {
       "version_major": 2,
       "version_minor": 0,
       "model_id": "eba4c26e1e864b66b948dd8d22e0ac21"
      }
     },
     "metadata": {},
     "output_type": "display_data"
    },
    {
     "name": "stdout",
     "output_type": "stream",
     "text": [
      "0 1 2 3 4 5 6 7 8 9 10 11 12 13 14 15 16 17 18 19 20 21 22 23 24 25 26 27 28 29 30 31 32 33 34 35 36 37 38 39 "
     ]
    },
    {
     "data": {
      "text/plain": "<IPython.core.display.HTML object>",
      "text/html": "Waiting for W&B process to finish... <strong style=\"color:green\">(success).</strong>"
     },
     "metadata": {},
     "output_type": "display_data"
    },
    {
     "data": {
      "text/plain": "VBox(children=(Label(value='0.001 MB of 0.003 MB uploaded (0.000 MB deduped)\\r'), FloatProgress(value=0.312405…",
      "application/vnd.jupyter.widget-view+json": {
       "version_major": 2,
       "version_minor": 0,
       "model_id": "5e0ee360378f4b9d8f24bc932a3350d0"
      }
     },
     "metadata": {},
     "output_type": "display_data"
    },
    {
     "data": {
      "text/plain": "<IPython.core.display.HTML object>",
      "text/html": "<style>\n    table.wandb td:nth-child(1) { padding: 0 10px; text-align: left ; width: auto;} td:nth-child(2) {text-align: left ; width: 100%}\n    .wandb-row { display: flex; flex-direction: row; flex-wrap: wrap; justify-content: flex-start; width: 100% }\n    .wandb-col { display: flex; flex-direction: column; flex-basis: 100%; flex: 1; padding: 10px; }\n    </style>\n<div class=\"wandb-row\"><div class=\"wandb-col\"><h3>Run history:</h3><br/><table class=\"wandb\"><tr><td>epoch</td><td>▁▁▁▂▂▂▂▂▂▃▃▃▃▃▄▄▄▄▄▄▅▅▅▅▅▅▆▆▆▆▆▇▇▇▇▇▇███</td></tr><tr><td>train_loss</td><td>█▂▂▂▁▁▁▁▁▁▁▁▁▁▁▁▁▁▁▁▁▁▁▁▁▁▁▁▁▁▁▁▁▁▁▁▁▁▁▁</td></tr><tr><td>train_rmse</td><td>█▂▂▂▂▁▁▁▁▁▁▁▁▁▁▁▁▁▁▁▁▁▁▁▁▁▁▁▁▁▁▁▁▁▁▁▁▁▁▁</td></tr><tr><td>val_mae</td><td>█▅▄▃▃▂▂▂▂▂▂▂▂▂▁▁▁▁▁▁▁▁▁▁▁▁▁▁▁▁▁▁▁▁▁▁▁▁▁▁</td></tr><tr><td>val_rmse</td><td>█▅▄▃▃▂▂▂▂▂▂▂▂▂▁▁▁▁▁▁▁▁▁▁▁▁▁▁▁▁▁▁▁▁▁▁▁▁▁▁</td></tr></table><br/></div><div class=\"wandb-col\"><h3>Run summary:</h3><br/><table class=\"wandb\"><tr><td>epoch</td><td>39</td></tr><tr><td>train_loss</td><td>0.00164</td></tr><tr><td>train_rmse</td><td>0.39808</td></tr><tr><td>val_mae</td><td>0.28466</td></tr><tr><td>val_rmse</td><td>0.40232</td></tr></table><br/></div></div>"
     },
     "metadata": {},
     "output_type": "display_data"
    },
    {
     "data": {
      "text/plain": "<IPython.core.display.HTML object>",
      "text/html": " View run <strong style=\"color:#cdcd00\">rich-sweep-6</strong> at: <a href='https://wandb.ai/bhavye-mathur/MERRA2-U-July2023/runs/91kbw68j' target=\"_blank\">https://wandb.ai/bhavye-mathur/MERRA2-U-July2023/runs/91kbw68j</a><br/>Synced 5 W&B file(s), 0 media file(s), 0 artifact file(s) and 0 other file(s)"
     },
     "metadata": {},
     "output_type": "display_data"
    },
    {
     "data": {
      "text/plain": "<IPython.core.display.HTML object>",
      "text/html": "Find logs at: <code>./wandb/run-20230719_223414-91kbw68j/logs</code>"
     },
     "metadata": {},
     "output_type": "display_data"
    },
    {
     "name": "stderr",
     "output_type": "stream",
     "text": [
      "\u001B[34m\u001B[1mwandb\u001B[0m: Sweep Agent: Waiting for job.\n",
      "\u001B[34m\u001B[1mwandb\u001B[0m: Job received.\n",
      "\u001B[34m\u001B[1mwandb\u001B[0m: Agent Starting Run: bh7136s0 with config:\n",
      "\u001B[34m\u001B[1mwandb\u001B[0m: \tactivation: ELU\n",
      "\u001B[34m\u001B[1mwandb\u001B[0m: \tbatch_size: 16384\n",
      "\u001B[34m\u001B[1mwandb\u001B[0m: \tdataset: NGCT\n",
      "\u001B[34m\u001B[1mwandb\u001B[0m: \tepochs: 40\n",
      "\u001B[34m\u001B[1mwandb\u001B[0m: \testimate_quantile: 0.9935\n",
      "\u001B[34m\u001B[1mwandb\u001B[0m: \tlayers: [512, 256, 128]\n",
      "\u001B[34m\u001B[1mwandb\u001B[0m: \tlearning_rate: 0.0006108562405785679\n",
      "\u001B[34m\u001B[1mwandb\u001B[0m: \tlr_scheduler: StepLR\n",
      "\u001B[34m\u001B[1mwandb\u001B[0m: \tlr_scheduler_kwargs: {'gamma': 0.3836338687733365, 'step_size': 16}\n"
     ]
    },
    {
     "data": {
      "text/plain": "<IPython.core.display.HTML object>",
      "text/html": "Tracking run with wandb version 0.15.5"
     },
     "metadata": {},
     "output_type": "display_data"
    },
    {
     "data": {
      "text/plain": "<IPython.core.display.HTML object>",
      "text/html": "Run data is saved locally in <code>/Users/bhavyemathur/Desktop/Projects/Spherindrical Fourier Transform/MERRA-2/wind-prediction/models/wandb/run-20230719_223602-bh7136s0</code>"
     },
     "metadata": {},
     "output_type": "display_data"
    },
    {
     "data": {
      "text/plain": "<IPython.core.display.HTML object>",
      "text/html": "Syncing run <strong><a href='https://wandb.ai/bhavye-mathur/MERRA2-U-July2023/runs/bh7136s0' target=\"_blank\">wise-sweep-7</a></strong> to <a href='https://wandb.ai/bhavye-mathur/MERRA2-U-July2023' target=\"_blank\">Weights & Biases</a> (<a href='https://wandb.me/run' target=\"_blank\">docs</a>)<br/>Sweep page: <a href='https://wandb.ai/bhavye-mathur/MERRA2-U-July2023/sweeps/4zc8713b' target=\"_blank\">https://wandb.ai/bhavye-mathur/MERRA2-U-July2023/sweeps/4zc8713b</a>"
     },
     "metadata": {},
     "output_type": "display_data"
    },
    {
     "data": {
      "text/plain": "<IPython.core.display.HTML object>",
      "text/html": " View project at <a href='https://wandb.ai/bhavye-mathur/MERRA2-U-July2023' target=\"_blank\">https://wandb.ai/bhavye-mathur/MERRA2-U-July2023</a>"
     },
     "metadata": {},
     "output_type": "display_data"
    },
    {
     "data": {
      "text/plain": "<IPython.core.display.HTML object>",
      "text/html": " View sweep at <a href='https://wandb.ai/bhavye-mathur/MERRA2-U-July2023/sweeps/4zc8713b' target=\"_blank\">https://wandb.ai/bhavye-mathur/MERRA2-U-July2023/sweeps/4zc8713b</a>"
     },
     "metadata": {},
     "output_type": "display_data"
    },
    {
     "data": {
      "text/plain": "<IPython.core.display.HTML object>",
      "text/html": " View run at <a href='https://wandb.ai/bhavye-mathur/MERRA2-U-July2023/runs/bh7136s0' target=\"_blank\">https://wandb.ai/bhavye-mathur/MERRA2-U-July2023/runs/bh7136s0</a>"
     },
     "metadata": {},
     "output_type": "display_data"
    },
    {
     "name": "stdout",
     "output_type": "stream",
     "text": [
      "Sequential(\n",
      "  (0): Linear(in_features=15, out_features=512, bias=True)\n",
      "  (1): ELU(alpha=1.0)\n",
      "  (2): Linear(in_features=512, out_features=256, bias=True)\n",
      "  (3): ELU(alpha=1.0)\n",
      "  (4): Linear(in_features=256, out_features=128, bias=True)\n",
      "  (5): ELU(alpha=1.0)\n",
      "  (6): Linear(in_features=128, out_features=1, bias=True)\n",
      ")\n"
     ]
    },
    {
     "data": {
      "text/plain": "  0%|          | 0/40 [00:00<?, ?it/s]",
      "application/vnd.jupyter.widget-view+json": {
       "version_major": 2,
       "version_minor": 0,
       "model_id": "2c9d3812c07244fe842f817f2439afeb"
      }
     },
     "metadata": {},
     "output_type": "display_data"
    },
    {
     "name": "stdout",
     "output_type": "stream",
     "text": [
      "0 1 2 3 4 5 6 7 8 9 10 11 12 13 14 15 16 17 18 19 20 21 22 23 24 25 26 27 28 29 30 31 32 33 34 35 36 37 38 39 "
     ]
    },
    {
     "data": {
      "text/plain": "<IPython.core.display.HTML object>",
      "text/html": "Waiting for W&B process to finish... <strong style=\"color:green\">(success).</strong>"
     },
     "metadata": {},
     "output_type": "display_data"
    },
    {
     "data": {
      "text/plain": "VBox(children=(Label(value='0.001 MB of 0.001 MB uploaded (0.000 MB deduped)\\r'), FloatProgress(value=1.0, max…",
      "application/vnd.jupyter.widget-view+json": {
       "version_major": 2,
       "version_minor": 0,
       "model_id": "14773610ebfb4c70b23f8ecab54bf54d"
      }
     },
     "metadata": {},
     "output_type": "display_data"
    },
    {
     "data": {
      "text/plain": "<IPython.core.display.HTML object>",
      "text/html": "<style>\n    table.wandb td:nth-child(1) { padding: 0 10px; text-align: left ; width: auto;} td:nth-child(2) {text-align: left ; width: 100%}\n    .wandb-row { display: flex; flex-direction: row; flex-wrap: wrap; justify-content: flex-start; width: 100% }\n    .wandb-col { display: flex; flex-direction: column; flex-basis: 100%; flex: 1; padding: 10px; }\n    </style>\n<div class=\"wandb-row\"><div class=\"wandb-col\"><h3>Run history:</h3><br/><table class=\"wandb\"><tr><td>epoch</td><td>▁▁▁▂▂▂▂▂▂▃▃▃▃▃▄▄▄▄▄▄▅▅▅▅▅▅▆▆▆▆▆▇▇▇▇▇▇███</td></tr><tr><td>lr</td><td>███████████████▃▃▃▃▃▃▃▃▃▃▃▃▃▃▃▃▁▁▁▁▁▁▁▁▁</td></tr><tr><td>train_loss</td><td>█▁▁▂▂▂▂▂▂▂▁▁▁▂▁▁▁▁▁▁▁▁▁▁▁▁▁▁▁▁▁▁▁▁▁▁▁▁▁▁</td></tr><tr><td>train_rmse</td><td>█▂▁▂▂▂▂▂▂▂▁▁▁▂▁▁▁▁▁▁▁▁▁▁▁▁▁▁▁▁▁▁▁▁▁▁▁▁▁▁</td></tr><tr><td>val_mae</td><td>█▄▃▅▄▃▃▃▂▃▃▂▃▂▂▃▁▁▂▁▁▁▁▁▁▁▁▁▁▁▁▁▁▁▁▁▂▂▂▂</td></tr><tr><td>val_rmse</td><td>█▄▃▄▃▃▃▂▂▂▂▂▂▂▂▂▁▁▂▁▁▁▁▁▁▁▁▁▁▁▁▁▁▁▁▁▁▁▁▁</td></tr></table><br/></div><div class=\"wandb-col\"><h3>Run summary:</h3><br/><table class=\"wandb\"><tr><td>epoch</td><td>39</td></tr><tr><td>lr</td><td>9e-05</td></tr><tr><td>train_loss</td><td>0.00167</td></tr><tr><td>train_rmse</td><td>0.40227</td></tr><tr><td>val_mae</td><td>0.28549</td></tr><tr><td>val_rmse</td><td>0.40292</td></tr></table><br/></div></div>"
     },
     "metadata": {},
     "output_type": "display_data"
    },
    {
     "data": {
      "text/plain": "<IPython.core.display.HTML object>",
      "text/html": " View run <strong style=\"color:#cdcd00\">wise-sweep-7</strong> at: <a href='https://wandb.ai/bhavye-mathur/MERRA2-U-July2023/runs/bh7136s0' target=\"_blank\">https://wandb.ai/bhavye-mathur/MERRA2-U-July2023/runs/bh7136s0</a><br/>Synced 5 W&B file(s), 0 media file(s), 0 artifact file(s) and 0 other file(s)"
     },
     "metadata": {},
     "output_type": "display_data"
    },
    {
     "data": {
      "text/plain": "<IPython.core.display.HTML object>",
      "text/html": "Find logs at: <code>./wandb/run-20230719_223602-bh7136s0/logs</code>"
     },
     "metadata": {},
     "output_type": "display_data"
    },
    {
     "name": "stderr",
     "output_type": "stream",
     "text": [
      "\u001B[34m\u001B[1mwandb\u001B[0m: Sweep Agent: Waiting for job.\n",
      "\u001B[34m\u001B[1mwandb\u001B[0m: Job received.\n",
      "\u001B[34m\u001B[1mwandb\u001B[0m: Agent Starting Run: r9kxdneb with config:\n",
      "\u001B[34m\u001B[1mwandb\u001B[0m: \tactivation: Softplus\n",
      "\u001B[34m\u001B[1mwandb\u001B[0m: \tbatch_size: 65536\n",
      "\u001B[34m\u001B[1mwandb\u001B[0m: \tdataset: NGCT\n",
      "\u001B[34m\u001B[1mwandb\u001B[0m: \tepochs: 40\n",
      "\u001B[34m\u001B[1mwandb\u001B[0m: \testimate_quantile: 0.9935\n",
      "\u001B[34m\u001B[1mwandb\u001B[0m: \tlayers: [512, 256]\n",
      "\u001B[34m\u001B[1mwandb\u001B[0m: \tlearning_rate: 0.0005030230551648749\n",
      "\u001B[34m\u001B[1mwandb\u001B[0m: \tlr_scheduler: StepLR\n",
      "\u001B[34m\u001B[1mwandb\u001B[0m: \tlr_scheduler_kwargs: {'gamma': 0.6638854532419923, 'step_size': 10}\n"
     ]
    },
    {
     "data": {
      "text/plain": "VBox(children=(Label(value='Waiting for wandb.init()...\\r'), FloatProgress(value=0.016751940284545224, max=1.0…",
      "application/vnd.jupyter.widget-view+json": {
       "version_major": 2,
       "version_minor": 0,
       "model_id": "4f949fbc3a9b4aa68ba146336d33d377"
      }
     },
     "metadata": {},
     "output_type": "display_data"
    },
    {
     "data": {
      "text/plain": "<IPython.core.display.HTML object>",
      "text/html": "Tracking run with wandb version 0.15.5"
     },
     "metadata": {},
     "output_type": "display_data"
    },
    {
     "data": {
      "text/plain": "<IPython.core.display.HTML object>",
      "text/html": "Run data is saved locally in <code>/Users/bhavyemathur/Desktop/Projects/Spherindrical Fourier Transform/MERRA-2/wind-prediction/models/wandb/run-20230719_223902-r9kxdneb</code>"
     },
     "metadata": {},
     "output_type": "display_data"
    },
    {
     "data": {
      "text/plain": "<IPython.core.display.HTML object>",
      "text/html": "Syncing run <strong><a href='https://wandb.ai/bhavye-mathur/MERRA2-U-July2023/runs/r9kxdneb' target=\"_blank\">spring-sweep-8</a></strong> to <a href='https://wandb.ai/bhavye-mathur/MERRA2-U-July2023' target=\"_blank\">Weights & Biases</a> (<a href='https://wandb.me/run' target=\"_blank\">docs</a>)<br/>Sweep page: <a href='https://wandb.ai/bhavye-mathur/MERRA2-U-July2023/sweeps/4zc8713b' target=\"_blank\">https://wandb.ai/bhavye-mathur/MERRA2-U-July2023/sweeps/4zc8713b</a>"
     },
     "metadata": {},
     "output_type": "display_data"
    },
    {
     "data": {
      "text/plain": "<IPython.core.display.HTML object>",
      "text/html": " View project at <a href='https://wandb.ai/bhavye-mathur/MERRA2-U-July2023' target=\"_blank\">https://wandb.ai/bhavye-mathur/MERRA2-U-July2023</a>"
     },
     "metadata": {},
     "output_type": "display_data"
    },
    {
     "data": {
      "text/plain": "<IPython.core.display.HTML object>",
      "text/html": " View sweep at <a href='https://wandb.ai/bhavye-mathur/MERRA2-U-July2023/sweeps/4zc8713b' target=\"_blank\">https://wandb.ai/bhavye-mathur/MERRA2-U-July2023/sweeps/4zc8713b</a>"
     },
     "metadata": {},
     "output_type": "display_data"
    },
    {
     "data": {
      "text/plain": "<IPython.core.display.HTML object>",
      "text/html": " View run at <a href='https://wandb.ai/bhavye-mathur/MERRA2-U-July2023/runs/r9kxdneb' target=\"_blank\">https://wandb.ai/bhavye-mathur/MERRA2-U-July2023/runs/r9kxdneb</a>"
     },
     "metadata": {},
     "output_type": "display_data"
    },
    {
     "name": "stdout",
     "output_type": "stream",
     "text": [
      "Sequential(\n",
      "  (0): Linear(in_features=15, out_features=512, bias=True)\n",
      "  (1): Softplus(beta=1, threshold=20)\n",
      "  (2): Linear(in_features=512, out_features=256, bias=True)\n",
      "  (3): Softplus(beta=1, threshold=20)\n",
      "  (4): Linear(in_features=256, out_features=1, bias=True)\n",
      ")\n"
     ]
    },
    {
     "data": {
      "text/plain": "  0%|          | 0/40 [00:00<?, ?it/s]",
      "application/vnd.jupyter.widget-view+json": {
       "version_major": 2,
       "version_minor": 0,
       "model_id": "e562aeaaaf3c411c916ab631a273e418"
      }
     },
     "metadata": {},
     "output_type": "display_data"
    },
    {
     "name": "stdout",
     "output_type": "stream",
     "text": [
      "0 1 2 3 4 5 6 7 8 9 10 11 12 13 14 15 16 17 18 19 20 21 22 23 24 25 26 27 28 29 30 31 32 33 34 35 36 37 38 39 "
     ]
    },
    {
     "data": {
      "text/plain": "<IPython.core.display.HTML object>",
      "text/html": "Waiting for W&B process to finish... <strong style=\"color:green\">(success).</strong>"
     },
     "metadata": {},
     "output_type": "display_data"
    },
    {
     "data": {
      "text/plain": "<IPython.core.display.HTML object>",
      "text/html": "<style>\n    table.wandb td:nth-child(1) { padding: 0 10px; text-align: left ; width: auto;} td:nth-child(2) {text-align: left ; width: 100%}\n    .wandb-row { display: flex; flex-direction: row; flex-wrap: wrap; justify-content: flex-start; width: 100% }\n    .wandb-col { display: flex; flex-direction: column; flex-basis: 100%; flex: 1; padding: 10px; }\n    </style>\n<div class=\"wandb-row\"><div class=\"wandb-col\"><h3>Run history:</h3><br/><table class=\"wandb\"><tr><td>epoch</td><td>▁▁▁▂▂▂▂▂▂▃▃▃▃▃▄▄▄▄▄▄▅▅▅▅▅▅▆▆▆▆▆▇▇▇▇▇▇███</td></tr><tr><td>lr</td><td>█████████▅▅▅▅▅▅▅▅▅▅▃▃▃▃▃▃▃▃▃▃▂▂▂▂▂▂▂▂▂▂▁</td></tr><tr><td>train_loss</td><td>▇▂▂▁▁▁▁▁▁▆▁▁▁▁▁▁▁█▂▂▁▁▁▁▁▁▂▁▂▁▁▁▁▁▁▁▁▁▂▁</td></tr><tr><td>train_rmse</td><td>▇▂▂▁▁▁▁▁▂▆▁▁▁▁▁▁▁█▂▂▁▁▁▁▁▁▂▁▂▁▁▁▁▁▁▁▁▁▂▁</td></tr><tr><td>val_mae</td><td>▃▂▁▁▁▁▁▁▁▁▁▁▁▁▁▁▁█▁▂▁▁▁▁▁▁▁▁▁▁▁▁▁▁▁▁▁▁▁▁</td></tr><tr><td>val_rmse</td><td>▃▂▁▁▁▁▁▁▁▁▁▁▁▁▁▁▁█▁▂▁▁▁▁▁▁▁▁▁▁▁▁▁▁▁▁▁▁▁▁</td></tr></table><br/></div><div class=\"wandb-col\"><h3>Run summary:</h3><br/><table class=\"wandb\"><tr><td>epoch</td><td>39</td></tr><tr><td>lr</td><td>0.0001</td></tr><tr><td>train_loss</td><td>0.0017</td></tr><tr><td>train_rmse</td><td>0.40539</td></tr><tr><td>val_mae</td><td>0.28484</td></tr><tr><td>val_rmse</td><td>0.40392</td></tr></table><br/></div></div>"
     },
     "metadata": {},
     "output_type": "display_data"
    },
    {
     "data": {
      "text/plain": "<IPython.core.display.HTML object>",
      "text/html": " View run <strong style=\"color:#cdcd00\">spring-sweep-8</strong> at: <a href='https://wandb.ai/bhavye-mathur/MERRA2-U-July2023/runs/r9kxdneb' target=\"_blank\">https://wandb.ai/bhavye-mathur/MERRA2-U-July2023/runs/r9kxdneb</a><br/>Synced 5 W&B file(s), 0 media file(s), 0 artifact file(s) and 0 other file(s)"
     },
     "metadata": {},
     "output_type": "display_data"
    },
    {
     "data": {
      "text/plain": "<IPython.core.display.HTML object>",
      "text/html": "Find logs at: <code>./wandb/run-20230719_223902-r9kxdneb/logs</code>"
     },
     "metadata": {},
     "output_type": "display_data"
    },
    {
     "name": "stderr",
     "output_type": "stream",
     "text": [
      "\u001B[34m\u001B[1mwandb\u001B[0m: Agent Starting Run: jm5zxf84 with config:\n",
      "\u001B[34m\u001B[1mwandb\u001B[0m: \tactivation: Softplus\n",
      "\u001B[34m\u001B[1mwandb\u001B[0m: \tbatch_size: 32768\n",
      "\u001B[34m\u001B[1mwandb\u001B[0m: \tdataset: NGCT\n",
      "\u001B[34m\u001B[1mwandb\u001B[0m: \tepochs: 40\n",
      "\u001B[34m\u001B[1mwandb\u001B[0m: \testimate_quantile: 0.9935\n",
      "\u001B[34m\u001B[1mwandb\u001B[0m: \tlayers: [256, 256, 32]\n",
      "\u001B[34m\u001B[1mwandb\u001B[0m: \tlearning_rate: 0.0008786687329154408\n",
      "\u001B[34m\u001B[1mwandb\u001B[0m: \tlr_scheduler: StepLR\n",
      "\u001B[34m\u001B[1mwandb\u001B[0m: \tlr_scheduler_kwargs: {'gamma': 0.6374985225449903, 'step_size': 11}\n"
     ]
    },
    {
     "data": {
      "text/plain": "VBox(children=(Label(value='Waiting for wandb.init()...\\r'), FloatProgress(value=0.01675450000135849, max=1.0)…",
      "application/vnd.jupyter.widget-view+json": {
       "version_major": 2,
       "version_minor": 0,
       "model_id": "3b0d6eba3e794fd4abe7e55164211d76"
      }
     },
     "metadata": {},
     "output_type": "display_data"
    },
    {
     "data": {
      "text/plain": "<IPython.core.display.HTML object>",
      "text/html": "Tracking run with wandb version 0.15.5"
     },
     "metadata": {},
     "output_type": "display_data"
    },
    {
     "data": {
      "text/plain": "<IPython.core.display.HTML object>",
      "text/html": "Run data is saved locally in <code>/Users/bhavyemathur/Desktop/Projects/Spherindrical Fourier Transform/MERRA-2/wind-prediction/models/wandb/run-20230719_224316-jm5zxf84</code>"
     },
     "metadata": {},
     "output_type": "display_data"
    },
    {
     "data": {
      "text/plain": "<IPython.core.display.HTML object>",
      "text/html": "Syncing run <strong><a href='https://wandb.ai/bhavye-mathur/MERRA2-U-July2023/runs/jm5zxf84' target=\"_blank\">rosy-sweep-9</a></strong> to <a href='https://wandb.ai/bhavye-mathur/MERRA2-U-July2023' target=\"_blank\">Weights & Biases</a> (<a href='https://wandb.me/run' target=\"_blank\">docs</a>)<br/>Sweep page: <a href='https://wandb.ai/bhavye-mathur/MERRA2-U-July2023/sweeps/4zc8713b' target=\"_blank\">https://wandb.ai/bhavye-mathur/MERRA2-U-July2023/sweeps/4zc8713b</a>"
     },
     "metadata": {},
     "output_type": "display_data"
    },
    {
     "data": {
      "text/plain": "<IPython.core.display.HTML object>",
      "text/html": " View project at <a href='https://wandb.ai/bhavye-mathur/MERRA2-U-July2023' target=\"_blank\">https://wandb.ai/bhavye-mathur/MERRA2-U-July2023</a>"
     },
     "metadata": {},
     "output_type": "display_data"
    },
    {
     "data": {
      "text/plain": "<IPython.core.display.HTML object>",
      "text/html": " View sweep at <a href='https://wandb.ai/bhavye-mathur/MERRA2-U-July2023/sweeps/4zc8713b' target=\"_blank\">https://wandb.ai/bhavye-mathur/MERRA2-U-July2023/sweeps/4zc8713b</a>"
     },
     "metadata": {},
     "output_type": "display_data"
    },
    {
     "data": {
      "text/plain": "<IPython.core.display.HTML object>",
      "text/html": " View run at <a href='https://wandb.ai/bhavye-mathur/MERRA2-U-July2023/runs/jm5zxf84' target=\"_blank\">https://wandb.ai/bhavye-mathur/MERRA2-U-July2023/runs/jm5zxf84</a>"
     },
     "metadata": {},
     "output_type": "display_data"
    },
    {
     "name": "stdout",
     "output_type": "stream",
     "text": [
      "Sequential(\n",
      "  (0): Linear(in_features=15, out_features=256, bias=True)\n",
      "  (1): Softplus(beta=1, threshold=20)\n",
      "  (2): Linear(in_features=256, out_features=256, bias=True)\n",
      "  (3): Softplus(beta=1, threshold=20)\n",
      "  (4): Linear(in_features=256, out_features=32, bias=True)\n",
      "  (5): Softplus(beta=1, threshold=20)\n",
      "  (6): Linear(in_features=32, out_features=1, bias=True)\n",
      ")\n"
     ]
    },
    {
     "data": {
      "text/plain": "  0%|          | 0/40 [00:00<?, ?it/s]",
      "application/vnd.jupyter.widget-view+json": {
       "version_major": 2,
       "version_minor": 0,
       "model_id": "a394295d8ae04d66a6efec81c409cc4f"
      }
     },
     "metadata": {},
     "output_type": "display_data"
    },
    {
     "name": "stdout",
     "output_type": "stream",
     "text": [
      "0 1 2 3 4 5 6 7 8 9 10 11 12 13 14 15 16 17 18 19 20 21 22 23 24 25 26 27 28 29 30 31 32 33 34 35 36 37 38 39 "
     ]
    },
    {
     "data": {
      "text/plain": "<IPython.core.display.HTML object>",
      "text/html": "Waiting for W&B process to finish... <strong style=\"color:green\">(success).</strong>"
     },
     "metadata": {},
     "output_type": "display_data"
    },
    {
     "data": {
      "text/plain": "VBox(children=(Label(value='0.001 MB of 0.001 MB uploaded (0.000 MB deduped)\\r'), FloatProgress(value=1.0, max…",
      "application/vnd.jupyter.widget-view+json": {
       "version_major": 2,
       "version_minor": 0,
       "model_id": "d6e75f6cac4f423590e07b47aaa43486"
      }
     },
     "metadata": {},
     "output_type": "display_data"
    },
    {
     "data": {
      "text/plain": "<IPython.core.display.HTML object>",
      "text/html": "<style>\n    table.wandb td:nth-child(1) { padding: 0 10px; text-align: left ; width: auto;} td:nth-child(2) {text-align: left ; width: 100%}\n    .wandb-row { display: flex; flex-direction: row; flex-wrap: wrap; justify-content: flex-start; width: 100% }\n    .wandb-col { display: flex; flex-direction: column; flex-basis: 100%; flex: 1; padding: 10px; }\n    </style>\n<div class=\"wandb-row\"><div class=\"wandb-col\"><h3>Run history:</h3><br/><table class=\"wandb\"><tr><td>epoch</td><td>▁▁▁▂▂▂▂▂▂▃▃▃▃▃▄▄▄▄▄▄▅▅▅▅▅▅▆▆▆▆▆▇▇▇▇▇▇███</td></tr><tr><td>lr</td><td>██████████▅▅▅▅▅▅▅▅▅▅▅▂▂▂▂▂▂▂▂▂▂▂▁▁▁▁▁▁▁▁</td></tr><tr><td>train_loss</td><td>▂▂█▂▁▁▁▁▁▁▁▁▁▁▁▁▁▁▁▁▁▁▁▁▁▁▁▁▁▁▁▁▁▁▁▁▁▁▁▁</td></tr><tr><td>train_rmse</td><td>▂▂█▂▁▁▁▁▂▁▁▁▁▁▁▁▁▁▁▁▁▁▁▁▁▁▁▁▁▁▁▁▁▁▁▁▁▁▁▁</td></tr><tr><td>val_mae</td><td>▃▆▄▆▂█▂▂▂▂▃▁▁▁▃▆▆▅▅▅▅▅▁▁▁▁▁▁▁▁▁▁▁▁▁▁▁▁▁▁</td></tr><tr><td>val_rmse</td><td>▃▆▅▇▃█▂▂▂▂▃▁▁▁▃▅▅▅▅▅▅▄▁▁▁▁▁▁▁▁▁▁▁▁▁▁▁▁▁▁</td></tr></table><br/></div><div class=\"wandb-col\"><h3>Run summary:</h3><br/><table class=\"wandb\"><tr><td>epoch</td><td>39</td></tr><tr><td>lr</td><td>0.00023</td></tr><tr><td>train_loss</td><td>0.00167</td></tr><tr><td>train_rmse</td><td>0.40193</td></tr><tr><td>val_mae</td><td>0.28739</td></tr><tr><td>val_rmse</td><td>0.40616</td></tr></table><br/></div></div>"
     },
     "metadata": {},
     "output_type": "display_data"
    },
    {
     "data": {
      "text/plain": "<IPython.core.display.HTML object>",
      "text/html": " View run <strong style=\"color:#cdcd00\">rosy-sweep-9</strong> at: <a href='https://wandb.ai/bhavye-mathur/MERRA2-U-July2023/runs/jm5zxf84' target=\"_blank\">https://wandb.ai/bhavye-mathur/MERRA2-U-July2023/runs/jm5zxf84</a><br/>Synced 5 W&B file(s), 0 media file(s), 0 artifact file(s) and 0 other file(s)"
     },
     "metadata": {},
     "output_type": "display_data"
    },
    {
     "data": {
      "text/plain": "<IPython.core.display.HTML object>",
      "text/html": "Find logs at: <code>./wandb/run-20230719_224316-jm5zxf84/logs</code>"
     },
     "metadata": {},
     "output_type": "display_data"
    },
    {
     "name": "stderr",
     "output_type": "stream",
     "text": [
      "\u001B[34m\u001B[1mwandb\u001B[0m: Sweep Agent: Waiting for job.\n",
      "\u001B[34m\u001B[1mwandb\u001B[0m: Job received.\n",
      "\u001B[34m\u001B[1mwandb\u001B[0m: Agent Starting Run: 7xqa7aqy with config:\n",
      "\u001B[34m\u001B[1mwandb\u001B[0m: \tactivation: ELU\n",
      "\u001B[34m\u001B[1mwandb\u001B[0m: \tbatch_size: 16384\n",
      "\u001B[34m\u001B[1mwandb\u001B[0m: \tdataset: NGCT\n",
      "\u001B[34m\u001B[1mwandb\u001B[0m: \tepochs: 40\n",
      "\u001B[34m\u001B[1mwandb\u001B[0m: \testimate_quantile: 0.9935\n",
      "\u001B[34m\u001B[1mwandb\u001B[0m: \tlayers: [128, 64, 32]\n",
      "\u001B[34m\u001B[1mwandb\u001B[0m: \tlearning_rate: 0.000482002785861538\n",
      "\u001B[34m\u001B[1mwandb\u001B[0m: \tlr_scheduler: StepLR\n",
      "\u001B[34m\u001B[1mwandb\u001B[0m: \tlr_scheduler_kwargs: {'gamma': 0.6840544364795866, 'step_size': 14}\n"
     ]
    },
    {
     "data": {
      "text/plain": "<IPython.core.display.HTML object>",
      "text/html": "Tracking run with wandb version 0.15.5"
     },
     "metadata": {},
     "output_type": "display_data"
    },
    {
     "data": {
      "text/plain": "<IPython.core.display.HTML object>",
      "text/html": "Run data is saved locally in <code>/Users/bhavyemathur/Desktop/Projects/Spherindrical Fourier Transform/MERRA-2/wind-prediction/models/wandb/run-20230719_224506-7xqa7aqy</code>"
     },
     "metadata": {},
     "output_type": "display_data"
    },
    {
     "data": {
      "text/plain": "<IPython.core.display.HTML object>",
      "text/html": "Syncing run <strong><a href='https://wandb.ai/bhavye-mathur/MERRA2-U-July2023/runs/7xqa7aqy' target=\"_blank\">dauntless-sweep-10</a></strong> to <a href='https://wandb.ai/bhavye-mathur/MERRA2-U-July2023' target=\"_blank\">Weights & Biases</a> (<a href='https://wandb.me/run' target=\"_blank\">docs</a>)<br/>Sweep page: <a href='https://wandb.ai/bhavye-mathur/MERRA2-U-July2023/sweeps/4zc8713b' target=\"_blank\">https://wandb.ai/bhavye-mathur/MERRA2-U-July2023/sweeps/4zc8713b</a>"
     },
     "metadata": {},
     "output_type": "display_data"
    },
    {
     "data": {
      "text/plain": "<IPython.core.display.HTML object>",
      "text/html": " View project at <a href='https://wandb.ai/bhavye-mathur/MERRA2-U-July2023' target=\"_blank\">https://wandb.ai/bhavye-mathur/MERRA2-U-July2023</a>"
     },
     "metadata": {},
     "output_type": "display_data"
    },
    {
     "data": {
      "text/plain": "<IPython.core.display.HTML object>",
      "text/html": " View sweep at <a href='https://wandb.ai/bhavye-mathur/MERRA2-U-July2023/sweeps/4zc8713b' target=\"_blank\">https://wandb.ai/bhavye-mathur/MERRA2-U-July2023/sweeps/4zc8713b</a>"
     },
     "metadata": {},
     "output_type": "display_data"
    },
    {
     "data": {
      "text/plain": "<IPython.core.display.HTML object>",
      "text/html": " View run at <a href='https://wandb.ai/bhavye-mathur/MERRA2-U-July2023/runs/7xqa7aqy' target=\"_blank\">https://wandb.ai/bhavye-mathur/MERRA2-U-July2023/runs/7xqa7aqy</a>"
     },
     "metadata": {},
     "output_type": "display_data"
    },
    {
     "name": "stdout",
     "output_type": "stream",
     "text": [
      "Sequential(\n",
      "  (0): Linear(in_features=15, out_features=128, bias=True)\n",
      "  (1): ELU(alpha=1.0)\n",
      "  (2): Linear(in_features=128, out_features=64, bias=True)\n",
      "  (3): ELU(alpha=1.0)\n",
      "  (4): Linear(in_features=64, out_features=32, bias=True)\n",
      "  (5): ELU(alpha=1.0)\n",
      "  (6): Linear(in_features=32, out_features=1, bias=True)\n",
      ")\n"
     ]
    },
    {
     "data": {
      "text/plain": "  0%|          | 0/40 [00:00<?, ?it/s]",
      "application/vnd.jupyter.widget-view+json": {
       "version_major": 2,
       "version_minor": 0,
       "model_id": "fd82eea8dbe74bf0b0f59567282d93a8"
      }
     },
     "metadata": {},
     "output_type": "display_data"
    },
    {
     "name": "stdout",
     "output_type": "stream",
     "text": [
      "0 1 2 3 4 5 6 7 8 9 10 11 12 13 14 15 16 17 18 19 20 21 22 23 24 25 26 27 28 29 30 31 32 33 34 35 36 37 38 39 "
     ]
    },
    {
     "data": {
      "text/plain": "<IPython.core.display.HTML object>",
      "text/html": "Waiting for W&B process to finish... <strong style=\"color:green\">(success).</strong>"
     },
     "metadata": {},
     "output_type": "display_data"
    },
    {
     "data": {
      "text/plain": "<IPython.core.display.HTML object>",
      "text/html": "<style>\n    table.wandb td:nth-child(1) { padding: 0 10px; text-align: left ; width: auto;} td:nth-child(2) {text-align: left ; width: 100%}\n    .wandb-row { display: flex; flex-direction: row; flex-wrap: wrap; justify-content: flex-start; width: 100% }\n    .wandb-col { display: flex; flex-direction: column; flex-basis: 100%; flex: 1; padding: 10px; }\n    </style>\n<div class=\"wandb-row\"><div class=\"wandb-col\"><h3>Run history:</h3><br/><table class=\"wandb\"><tr><td>epoch</td><td>▁▁▁▂▂▂▂▂▂▃▃▃▃▃▄▄▄▄▄▄▅▅▅▅▅▅▆▆▆▆▆▇▇▇▇▇▇███</td></tr><tr><td>lr</td><td>█████████████▄▄▄▄▄▄▄▄▄▄▄▄▄▄▁▁▁▁▁▁▁▁▁▁▁▁▁</td></tr><tr><td>train_loss</td><td>█▂▁▁▁▁▁▁▁▁▁▁▁▁▁▁▁▁▁▁▁▁▁▁▁▁▁▁▁▁▁▁▁▁▁▁▁▁▁▁</td></tr><tr><td>train_rmse</td><td>█▂▁▁▁▁▁▁▁▁▁▁▁▁▁▁▁▁▁▁▁▁▁▁▁▁▁▁▁▁▁▁▁▁▁▁▁▁▁▁</td></tr><tr><td>val_mae</td><td>█▂▂▁▁▁▁▁▁▁▁▁▁▁▁▁▁▁▁▁▁▁▁▁▁▁▁▁▁▁▁▁▁▁▁▁▁▁▁▁</td></tr><tr><td>val_rmse</td><td>█▂▁▁▁▁▁▁▁▁▁▁▁▁▁▁▁▁▁▁▁▁▁▁▁▁▁▁▁▁▁▁▁▁▁▁▁▁▁▁</td></tr></table><br/></div><div class=\"wandb-col\"><h3>Run summary:</h3><br/><table class=\"wandb\"><tr><td>epoch</td><td>39</td></tr><tr><td>lr</td><td>0.00023</td></tr><tr><td>train_loss</td><td>0.00168</td></tr><tr><td>train_rmse</td><td>0.40347</td></tr><tr><td>val_mae</td><td>0.28444</td></tr><tr><td>val_rmse</td><td>0.40245</td></tr></table><br/></div></div>"
     },
     "metadata": {},
     "output_type": "display_data"
    },
    {
     "data": {
      "text/plain": "<IPython.core.display.HTML object>",
      "text/html": " View run <strong style=\"color:#cdcd00\">dauntless-sweep-10</strong> at: <a href='https://wandb.ai/bhavye-mathur/MERRA2-U-July2023/runs/7xqa7aqy' target=\"_blank\">https://wandb.ai/bhavye-mathur/MERRA2-U-July2023/runs/7xqa7aqy</a><br/>Synced 5 W&B file(s), 0 media file(s), 0 artifact file(s) and 0 other file(s)"
     },
     "metadata": {},
     "output_type": "display_data"
    },
    {
     "data": {
      "text/plain": "<IPython.core.display.HTML object>",
      "text/html": "Find logs at: <code>./wandb/run-20230719_224506-7xqa7aqy/logs</code>"
     },
     "metadata": {},
     "output_type": "display_data"
    },
    {
     "name": "stderr",
     "output_type": "stream",
     "text": [
      "\u001B[34m\u001B[1mwandb\u001B[0m: Agent Starting Run: tufv20v6 with config:\n",
      "\u001B[34m\u001B[1mwandb\u001B[0m: \tactivation: ReLU\n",
      "\u001B[34m\u001B[1mwandb\u001B[0m: \tbatch_size: 65536\n",
      "\u001B[34m\u001B[1mwandb\u001B[0m: \tdataset: NGCT\n",
      "\u001B[34m\u001B[1mwandb\u001B[0m: \tepochs: 40\n",
      "\u001B[34m\u001B[1mwandb\u001B[0m: \testimate_quantile: 0.9935\n",
      "\u001B[34m\u001B[1mwandb\u001B[0m: \tlayers: [128, 64, 32]\n",
      "\u001B[34m\u001B[1mwandb\u001B[0m: \tlearning_rate: 0.0003595714222954297\n",
      "\u001B[34m\u001B[1mwandb\u001B[0m: \tlr_scheduler: StepLR\n",
      "\u001B[34m\u001B[1mwandb\u001B[0m: \tlr_scheduler_kwargs: {'gamma': 0.299082484554385, 'step_size': 15}\n"
     ]
    },
    {
     "data": {
      "text/plain": "VBox(children=(Label(value='Waiting for wandb.init()...\\r'), FloatProgress(value=0.016752447217004373, max=1.0…",
      "application/vnd.jupyter.widget-view+json": {
       "version_major": 2,
       "version_minor": 0,
       "model_id": "28f6e36d282c430c8f4798dcc8997bba"
      }
     },
     "metadata": {},
     "output_type": "display_data"
    },
    {
     "data": {
      "text/plain": "<IPython.core.display.HTML object>",
      "text/html": "Tracking run with wandb version 0.15.5"
     },
     "metadata": {},
     "output_type": "display_data"
    },
    {
     "data": {
      "text/plain": "<IPython.core.display.HTML object>",
      "text/html": "Run data is saved locally in <code>/Users/bhavyemathur/Desktop/Projects/Spherindrical Fourier Transform/MERRA-2/wind-prediction/models/wandb/run-20230719_224707-tufv20v6</code>"
     },
     "metadata": {},
     "output_type": "display_data"
    },
    {
     "data": {
      "text/plain": "<IPython.core.display.HTML object>",
      "text/html": "Syncing run <strong><a href='https://wandb.ai/bhavye-mathur/MERRA2-U-July2023/runs/tufv20v6' target=\"_blank\">trim-sweep-11</a></strong> to <a href='https://wandb.ai/bhavye-mathur/MERRA2-U-July2023' target=\"_blank\">Weights & Biases</a> (<a href='https://wandb.me/run' target=\"_blank\">docs</a>)<br/>Sweep page: <a href='https://wandb.ai/bhavye-mathur/MERRA2-U-July2023/sweeps/4zc8713b' target=\"_blank\">https://wandb.ai/bhavye-mathur/MERRA2-U-July2023/sweeps/4zc8713b</a>"
     },
     "metadata": {},
     "output_type": "display_data"
    },
    {
     "data": {
      "text/plain": "<IPython.core.display.HTML object>",
      "text/html": " View project at <a href='https://wandb.ai/bhavye-mathur/MERRA2-U-July2023' target=\"_blank\">https://wandb.ai/bhavye-mathur/MERRA2-U-July2023</a>"
     },
     "metadata": {},
     "output_type": "display_data"
    },
    {
     "data": {
      "text/plain": "<IPython.core.display.HTML object>",
      "text/html": " View sweep at <a href='https://wandb.ai/bhavye-mathur/MERRA2-U-July2023/sweeps/4zc8713b' target=\"_blank\">https://wandb.ai/bhavye-mathur/MERRA2-U-July2023/sweeps/4zc8713b</a>"
     },
     "metadata": {},
     "output_type": "display_data"
    },
    {
     "data": {
      "text/plain": "<IPython.core.display.HTML object>",
      "text/html": " View run at <a href='https://wandb.ai/bhavye-mathur/MERRA2-U-July2023/runs/tufv20v6' target=\"_blank\">https://wandb.ai/bhavye-mathur/MERRA2-U-July2023/runs/tufv20v6</a>"
     },
     "metadata": {},
     "output_type": "display_data"
    },
    {
     "name": "stdout",
     "output_type": "stream",
     "text": [
      "Sequential(\n",
      "  (0): Linear(in_features=15, out_features=128, bias=True)\n",
      "  (1): ReLU()\n",
      "  (2): Linear(in_features=128, out_features=64, bias=True)\n",
      "  (3): ReLU()\n",
      "  (4): Linear(in_features=64, out_features=32, bias=True)\n",
      "  (5): ReLU()\n",
      "  (6): Linear(in_features=32, out_features=1, bias=True)\n",
      ")\n"
     ]
    },
    {
     "data": {
      "text/plain": "  0%|          | 0/40 [00:00<?, ?it/s]",
      "application/vnd.jupyter.widget-view+json": {
       "version_major": 2,
       "version_minor": 0,
       "model_id": "84362c3cdd4d469ba9d862177321c611"
      }
     },
     "metadata": {},
     "output_type": "display_data"
    },
    {
     "name": "stdout",
     "output_type": "stream",
     "text": [
      "0 1 2 3 4 5 6 7 8 9 10 11 12 13 14 15 16 17 18 19 20 21 22 23 24 25 26 27 28 29 30 31 32 33 34 35 36 37 38 39 "
     ]
    },
    {
     "data": {
      "text/plain": "<IPython.core.display.HTML object>",
      "text/html": "Waiting for W&B process to finish... <strong style=\"color:green\">(success).</strong>"
     },
     "metadata": {},
     "output_type": "display_data"
    },
    {
     "data": {
      "text/plain": "<IPython.core.display.HTML object>",
      "text/html": "<style>\n    table.wandb td:nth-child(1) { padding: 0 10px; text-align: left ; width: auto;} td:nth-child(2) {text-align: left ; width: 100%}\n    .wandb-row { display: flex; flex-direction: row; flex-wrap: wrap; justify-content: flex-start; width: 100% }\n    .wandb-col { display: flex; flex-direction: column; flex-basis: 100%; flex: 1; padding: 10px; }\n    </style>\n<div class=\"wandb-row\"><div class=\"wandb-col\"><h3>Run history:</h3><br/><table class=\"wandb\"><tr><td>epoch</td><td>▁▁▁▂▂▂▂▂▂▃▃▃▃▃▄▄▄▄▄▄▅▅▅▅▅▅▆▆▆▆▆▇▇▇▇▇▇███</td></tr><tr><td>lr</td><td>██████████████▃▃▃▃▃▃▃▃▃▃▃▃▃▃▃▁▁▁▁▁▁▁▁▁▁▁</td></tr><tr><td>train_loss</td><td>█▂▂▁▁▁▁▁▁▁▁▁▁▁▁▁▁▁▁▁▁▁▁▁▁▁▁▁▁▁▁▁▁▁▁▁▁▁▁▁</td></tr><tr><td>train_rmse</td><td>█▃▂▂▂▁▁▁▁▁▁▁▁▁▁▁▁▁▁▁▁▁▁▁▁▁▁▁▁▁▁▁▁▁▁▁▁▁▁▁</td></tr><tr><td>val_mae</td><td>█▃▃▂▂▂▂▂▁▁▁▁▁▁▁▁▁▁▁▁▁▁▁▁▁▁▁▁▁▁▁▁▁▁▁▁▁▁▁▁</td></tr><tr><td>val_rmse</td><td>█▃▂▂▂▂▁▁▁▁▁▁▁▁▁▁▁▁▁▁▁▁▁▁▁▁▁▁▁▁▁▁▁▁▁▁▁▁▁▁</td></tr></table><br/></div><div class=\"wandb-col\"><h3>Run summary:</h3><br/><table class=\"wandb\"><tr><td>epoch</td><td>39</td></tr><tr><td>lr</td><td>3e-05</td></tr><tr><td>train_loss</td><td>0.00179</td></tr><tr><td>train_rmse</td><td>0.41554</td></tr><tr><td>val_mae</td><td>0.29828</td></tr><tr><td>val_rmse</td><td>0.41781</td></tr></table><br/></div></div>"
     },
     "metadata": {},
     "output_type": "display_data"
    },
    {
     "data": {
      "text/plain": "<IPython.core.display.HTML object>",
      "text/html": " View run <strong style=\"color:#cdcd00\">trim-sweep-11</strong> at: <a href='https://wandb.ai/bhavye-mathur/MERRA2-U-July2023/runs/tufv20v6' target=\"_blank\">https://wandb.ai/bhavye-mathur/MERRA2-U-July2023/runs/tufv20v6</a><br/>Synced 5 W&B file(s), 0 media file(s), 0 artifact file(s) and 0 other file(s)"
     },
     "metadata": {},
     "output_type": "display_data"
    },
    {
     "data": {
      "text/plain": "<IPython.core.display.HTML object>",
      "text/html": "Find logs at: <code>./wandb/run-20230719_224707-tufv20v6/logs</code>"
     },
     "metadata": {},
     "output_type": "display_data"
    },
    {
     "name": "stderr",
     "output_type": "stream",
     "text": [
      "\u001B[34m\u001B[1mwandb\u001B[0m: Agent Starting Run: y64122j3 with config:\n",
      "\u001B[34m\u001B[1mwandb\u001B[0m: \tactivation: Softplus\n",
      "\u001B[34m\u001B[1mwandb\u001B[0m: \tbatch_size: 32768\n",
      "\u001B[34m\u001B[1mwandb\u001B[0m: \tdataset: NGCT\n",
      "\u001B[34m\u001B[1mwandb\u001B[0m: \tepochs: 40\n",
      "\u001B[34m\u001B[1mwandb\u001B[0m: \testimate_quantile: 0.9935\n",
      "\u001B[34m\u001B[1mwandb\u001B[0m: \tlayers: [512, 256]\n",
      "\u001B[34m\u001B[1mwandb\u001B[0m: \tlearning_rate: 0.000150138230662286\n",
      "\u001B[34m\u001B[1mwandb\u001B[0m: \tlr_scheduler: StepLR\n",
      "\u001B[34m\u001B[1mwandb\u001B[0m: \tlr_scheduler_kwargs: {'gamma': 0.4726081524550684, 'step_size': 13}\n"
     ]
    },
    {
     "data": {
      "text/plain": "VBox(children=(Label(value='Waiting for wandb.init()...\\r'), FloatProgress(value=0.01675158195042362, max=1.0)…",
      "application/vnd.jupyter.widget-view+json": {
       "version_major": 2,
       "version_minor": 0,
       "model_id": "f5959cd7e35a48dca4a1a06f908ea550"
      }
     },
     "metadata": {},
     "output_type": "display_data"
    },
    {
     "data": {
      "text/plain": "<IPython.core.display.HTML object>",
      "text/html": "Tracking run with wandb version 0.15.5"
     },
     "metadata": {},
     "output_type": "display_data"
    },
    {
     "data": {
      "text/plain": "<IPython.core.display.HTML object>",
      "text/html": "Run data is saved locally in <code>/Users/bhavyemathur/Desktop/Projects/Spherindrical Fourier Transform/MERRA-2/wind-prediction/models/wandb/run-20230719_224806-y64122j3</code>"
     },
     "metadata": {},
     "output_type": "display_data"
    },
    {
     "data": {
      "text/plain": "<IPython.core.display.HTML object>",
      "text/html": "Syncing run <strong><a href='https://wandb.ai/bhavye-mathur/MERRA2-U-July2023/runs/y64122j3' target=\"_blank\">eager-sweep-12</a></strong> to <a href='https://wandb.ai/bhavye-mathur/MERRA2-U-July2023' target=\"_blank\">Weights & Biases</a> (<a href='https://wandb.me/run' target=\"_blank\">docs</a>)<br/>Sweep page: <a href='https://wandb.ai/bhavye-mathur/MERRA2-U-July2023/sweeps/4zc8713b' target=\"_blank\">https://wandb.ai/bhavye-mathur/MERRA2-U-July2023/sweeps/4zc8713b</a>"
     },
     "metadata": {},
     "output_type": "display_data"
    },
    {
     "data": {
      "text/plain": "<IPython.core.display.HTML object>",
      "text/html": " View project at <a href='https://wandb.ai/bhavye-mathur/MERRA2-U-July2023' target=\"_blank\">https://wandb.ai/bhavye-mathur/MERRA2-U-July2023</a>"
     },
     "metadata": {},
     "output_type": "display_data"
    },
    {
     "data": {
      "text/plain": "<IPython.core.display.HTML object>",
      "text/html": " View sweep at <a href='https://wandb.ai/bhavye-mathur/MERRA2-U-July2023/sweeps/4zc8713b' target=\"_blank\">https://wandb.ai/bhavye-mathur/MERRA2-U-July2023/sweeps/4zc8713b</a>"
     },
     "metadata": {},
     "output_type": "display_data"
    },
    {
     "data": {
      "text/plain": "<IPython.core.display.HTML object>",
      "text/html": " View run at <a href='https://wandb.ai/bhavye-mathur/MERRA2-U-July2023/runs/y64122j3' target=\"_blank\">https://wandb.ai/bhavye-mathur/MERRA2-U-July2023/runs/y64122j3</a>"
     },
     "metadata": {},
     "output_type": "display_data"
    },
    {
     "name": "stdout",
     "output_type": "stream",
     "text": [
      "Sequential(\n",
      "  (0): Linear(in_features=15, out_features=512, bias=True)\n",
      "  (1): Softplus(beta=1, threshold=20)\n",
      "  (2): Linear(in_features=512, out_features=256, bias=True)\n",
      "  (3): Softplus(beta=1, threshold=20)\n",
      "  (4): Linear(in_features=256, out_features=1, bias=True)\n",
      ")\n"
     ]
    },
    {
     "data": {
      "text/plain": "  0%|          | 0/40 [00:00<?, ?it/s]",
      "application/vnd.jupyter.widget-view+json": {
       "version_major": 2,
       "version_minor": 0,
       "model_id": "69babaa61c3249218918cb385d68f349"
      }
     },
     "metadata": {},
     "output_type": "display_data"
    },
    {
     "name": "stdout",
     "output_type": "stream",
     "text": [
      "0 1 2 3 4 5 6 7 8 9 10 11 12 13 14 15 16 17 18 19 20 21 22 23 24 25 26 27 28 29 30 31 32 33 34 35 36 37 38 39 "
     ]
    },
    {
     "data": {
      "text/plain": "<IPython.core.display.HTML object>",
      "text/html": "Waiting for W&B process to finish... <strong style=\"color:green\">(success).</strong>"
     },
     "metadata": {},
     "output_type": "display_data"
    },
    {
     "data": {
      "text/plain": "VBox(children=(Label(value='0.001 MB of 0.001 MB uploaded (0.000 MB deduped)\\r'), FloatProgress(value=1.0, max…",
      "application/vnd.jupyter.widget-view+json": {
       "version_major": 2,
       "version_minor": 0,
       "model_id": "066be9fc7e974e96a0cfd7d7175045a6"
      }
     },
     "metadata": {},
     "output_type": "display_data"
    },
    {
     "data": {
      "text/plain": "<IPython.core.display.HTML object>",
      "text/html": "<style>\n    table.wandb td:nth-child(1) { padding: 0 10px; text-align: left ; width: auto;} td:nth-child(2) {text-align: left ; width: 100%}\n    .wandb-row { display: flex; flex-direction: row; flex-wrap: wrap; justify-content: flex-start; width: 100% }\n    .wandb-col { display: flex; flex-direction: column; flex-basis: 100%; flex: 1; padding: 10px; }\n    </style>\n<div class=\"wandb-row\"><div class=\"wandb-col\"><h3>Run history:</h3><br/><table class=\"wandb\"><tr><td>epoch</td><td>▁▁▁▂▂▂▂▂▂▃▃▃▃▃▄▄▄▄▄▄▅▅▅▅▅▅▆▆▆▆▆▇▇▇▇▇▇███</td></tr><tr><td>lr</td><td>████████████▄▄▄▄▄▄▄▄▄▄▄▄▄▂▂▂▂▂▂▂▂▂▂▂▂▂▁▁</td></tr><tr><td>train_loss</td><td>█▂▁▁▁▁▁▁▁▁▁▁▁▁▁▁▁▁▁▁▁▁▁▁▁▁▁▁▁▁▁▁▁▁▁▁▁▁▁▁</td></tr><tr><td>train_rmse</td><td>█▂▁▁▁▁▁▁▁▁▁▁▁▁▁▁▁▁▁▁▁▁▁▁▁▁▁▁▁▁▁▁▁▁▁▁▁▁▁▁</td></tr><tr><td>val_mae</td><td>█▄▂▂▂▁▁▁▁▁▂▄▂▁▁▁▁▁▁▂▃▃▂▂▂▂▁▁▁▁▁▁▁▁▁▁▁▁▁▁</td></tr><tr><td>val_rmse</td><td>█▄▂▂▂▂▁▁▁▁▂▃▂▁▁▁▁▁▁▁▃▂▂▂▂▂▁▁▁▁▁▁▁▁▁▁▁▁▁▁</td></tr></table><br/></div><div class=\"wandb-col\"><h3>Run summary:</h3><br/><table class=\"wandb\"><tr><td>epoch</td><td>39</td></tr><tr><td>lr</td><td>2e-05</td></tr><tr><td>train_loss</td><td>0.00165</td></tr><tr><td>train_rmse</td><td>0.39888</td></tr><tr><td>val_mae</td><td>0.28402</td></tr><tr><td>val_rmse</td><td>0.40312</td></tr></table><br/></div></div>"
     },
     "metadata": {},
     "output_type": "display_data"
    },
    {
     "data": {
      "text/plain": "<IPython.core.display.HTML object>",
      "text/html": " View run <strong style=\"color:#cdcd00\">eager-sweep-12</strong> at: <a href='https://wandb.ai/bhavye-mathur/MERRA2-U-July2023/runs/y64122j3' target=\"_blank\">https://wandb.ai/bhavye-mathur/MERRA2-U-July2023/runs/y64122j3</a><br/>Synced 5 W&B file(s), 0 media file(s), 0 artifact file(s) and 0 other file(s)"
     },
     "metadata": {},
     "output_type": "display_data"
    },
    {
     "data": {
      "text/plain": "<IPython.core.display.HTML object>",
      "text/html": "Find logs at: <code>./wandb/run-20230719_224806-y64122j3/logs</code>"
     },
     "metadata": {},
     "output_type": "display_data"
    },
    {
     "name": "stderr",
     "output_type": "stream",
     "text": [
      "\u001B[34m\u001B[1mwandb\u001B[0m: Sweep Agent: Waiting for job.\n",
      "\u001B[34m\u001B[1mwandb\u001B[0m: Job received.\n",
      "\u001B[34m\u001B[1mwandb\u001B[0m: Agent Starting Run: l4wtblmw with config:\n",
      "\u001B[34m\u001B[1mwandb\u001B[0m: \tactivation: ReLU\n",
      "\u001B[34m\u001B[1mwandb\u001B[0m: \tbatch_size: 8192\n",
      "\u001B[34m\u001B[1mwandb\u001B[0m: \tdataset: NGCT\n",
      "\u001B[34m\u001B[1mwandb\u001B[0m: \tepochs: 40\n",
      "\u001B[34m\u001B[1mwandb\u001B[0m: \testimate_quantile: 0.9935\n",
      "\u001B[34m\u001B[1mwandb\u001B[0m: \tlayers: [128, 64, 32]\n",
      "\u001B[34m\u001B[1mwandb\u001B[0m: \tlearning_rate: 0.0005539775542308048\n",
      "\u001B[34m\u001B[1mwandb\u001B[0m: \tlr_scheduler: None\n",
      "\u001B[34m\u001B[1mwandb\u001B[0m: \tlr_scheduler_kwargs: {'gamma': 0.30799297078466564, 'step_size': 13}\n"
     ]
    },
    {
     "data": {
      "text/plain": "VBox(children=(Label(value='Waiting for wandb.init()...\\r'), FloatProgress(value=0.01672521389943237, max=1.0)…",
      "application/vnd.jupyter.widget-view+json": {
       "version_major": 2,
       "version_minor": 0,
       "model_id": "64015cf8ebe5446c87e66586055d4fc3"
      }
     },
     "metadata": {},
     "output_type": "display_data"
    },
    {
     "data": {
      "text/plain": "<IPython.core.display.HTML object>",
      "text/html": "Tracking run with wandb version 0.15.5"
     },
     "metadata": {},
     "output_type": "display_data"
    },
    {
     "data": {
      "text/plain": "<IPython.core.display.HTML object>",
      "text/html": "Run data is saved locally in <code>/Users/bhavyemathur/Desktop/Projects/Spherindrical Fourier Transform/MERRA-2/wind-prediction/models/wandb/run-20230719_225041-l4wtblmw</code>"
     },
     "metadata": {},
     "output_type": "display_data"
    },
    {
     "data": {
      "text/plain": "<IPython.core.display.HTML object>",
      "text/html": "Syncing run <strong><a href='https://wandb.ai/bhavye-mathur/MERRA2-U-July2023/runs/l4wtblmw' target=\"_blank\">breezy-sweep-13</a></strong> to <a href='https://wandb.ai/bhavye-mathur/MERRA2-U-July2023' target=\"_blank\">Weights & Biases</a> (<a href='https://wandb.me/run' target=\"_blank\">docs</a>)<br/>Sweep page: <a href='https://wandb.ai/bhavye-mathur/MERRA2-U-July2023/sweeps/4zc8713b' target=\"_blank\">https://wandb.ai/bhavye-mathur/MERRA2-U-July2023/sweeps/4zc8713b</a>"
     },
     "metadata": {},
     "output_type": "display_data"
    },
    {
     "data": {
      "text/plain": "<IPython.core.display.HTML object>",
      "text/html": " View project at <a href='https://wandb.ai/bhavye-mathur/MERRA2-U-July2023' target=\"_blank\">https://wandb.ai/bhavye-mathur/MERRA2-U-July2023</a>"
     },
     "metadata": {},
     "output_type": "display_data"
    },
    {
     "data": {
      "text/plain": "<IPython.core.display.HTML object>",
      "text/html": " View sweep at <a href='https://wandb.ai/bhavye-mathur/MERRA2-U-July2023/sweeps/4zc8713b' target=\"_blank\">https://wandb.ai/bhavye-mathur/MERRA2-U-July2023/sweeps/4zc8713b</a>"
     },
     "metadata": {},
     "output_type": "display_data"
    },
    {
     "data": {
      "text/plain": "<IPython.core.display.HTML object>",
      "text/html": " View run at <a href='https://wandb.ai/bhavye-mathur/MERRA2-U-July2023/runs/l4wtblmw' target=\"_blank\">https://wandb.ai/bhavye-mathur/MERRA2-U-July2023/runs/l4wtblmw</a>"
     },
     "metadata": {},
     "output_type": "display_data"
    },
    {
     "name": "stdout",
     "output_type": "stream",
     "text": [
      "Sequential(\n",
      "  (0): Linear(in_features=15, out_features=128, bias=True)\n",
      "  (1): ReLU()\n",
      "  (2): Linear(in_features=128, out_features=64, bias=True)\n",
      "  (3): ReLU()\n",
      "  (4): Linear(in_features=64, out_features=32, bias=True)\n",
      "  (5): ReLU()\n",
      "  (6): Linear(in_features=32, out_features=1, bias=True)\n",
      ")\n"
     ]
    },
    {
     "data": {
      "text/plain": "  0%|          | 0/40 [00:00<?, ?it/s]",
      "application/vnd.jupyter.widget-view+json": {
       "version_major": 2,
       "version_minor": 0,
       "model_id": "3859c5dda73f4c2c8414e3ac49811250"
      }
     },
     "metadata": {},
     "output_type": "display_data"
    },
    {
     "name": "stdout",
     "output_type": "stream",
     "text": [
      "0 1 2 3 4 5 6 7 8 9 10 11 12 13 14 15 16 17 18 19 20 21 22 23 24 25 26 27 28 29 30 31 32 33 34 35 36 37 38 39 "
     ]
    },
    {
     "data": {
      "text/plain": "<IPython.core.display.HTML object>",
      "text/html": "Waiting for W&B process to finish... <strong style=\"color:green\">(success).</strong>"
     },
     "metadata": {},
     "output_type": "display_data"
    },
    {
     "data": {
      "text/plain": "<IPython.core.display.HTML object>",
      "text/html": "<style>\n    table.wandb td:nth-child(1) { padding: 0 10px; text-align: left ; width: auto;} td:nth-child(2) {text-align: left ; width: 100%}\n    .wandb-row { display: flex; flex-direction: row; flex-wrap: wrap; justify-content: flex-start; width: 100% }\n    .wandb-col { display: flex; flex-direction: column; flex-basis: 100%; flex: 1; padding: 10px; }\n    </style>\n<div class=\"wandb-row\"><div class=\"wandb-col\"><h3>Run history:</h3><br/><table class=\"wandb\"><tr><td>epoch</td><td>▁▁▁▂▂▂▂▂▂▃▃▃▃▃▄▄▄▄▄▄▅▅▅▅▅▅▆▆▆▆▆▇▇▇▇▇▇███</td></tr><tr><td>train_loss</td><td>█▃▃▂▂▂▂▂▂▂▂▂▁▁▁▁▁▁▁▁▁▁▁▁▁▁▁▁▁▁▁▁▁▁▁▁▁▁▁▁</td></tr><tr><td>train_rmse</td><td>█▄▃▂▂▂▂▂▂▂▂▂▂▁▁▁▁▁▁▁▁▁▁▁▁▁▁▁▁▁▁▁▁▁▁▁▁▁▁▁</td></tr><tr><td>val_mae</td><td>█▅▃▂▂▂▂▂▂▂▂▂▂▂▂▂▂▁▁▁▁▁▁▁▁▁▁▁▁▁▁▁▁▁▁▁▁▁▁▁</td></tr><tr><td>val_rmse</td><td>█▅▃▃▂▂▂▂▂▂▂▂▂▂▂▂▂▂▂▁▁▁▁▁▁▁▁▁▁▁▁▁▁▁▁▁▁▁▁▁</td></tr></table><br/></div><div class=\"wandb-col\"><h3>Run summary:</h3><br/><table class=\"wandb\"><tr><td>epoch</td><td>39</td></tr><tr><td>train_loss</td><td>0.00166</td></tr><tr><td>train_rmse</td><td>0.40034</td></tr><tr><td>val_mae</td><td>0.2843</td></tr><tr><td>val_rmse</td><td>0.40032</td></tr></table><br/></div></div>"
     },
     "metadata": {},
     "output_type": "display_data"
    },
    {
     "data": {
      "text/plain": "<IPython.core.display.HTML object>",
      "text/html": " View run <strong style=\"color:#cdcd00\">breezy-sweep-13</strong> at: <a href='https://wandb.ai/bhavye-mathur/MERRA2-U-July2023/runs/l4wtblmw' target=\"_blank\">https://wandb.ai/bhavye-mathur/MERRA2-U-July2023/runs/l4wtblmw</a><br/>Synced 5 W&B file(s), 0 media file(s), 0 artifact file(s) and 0 other file(s)"
     },
     "metadata": {},
     "output_type": "display_data"
    },
    {
     "data": {
      "text/plain": "<IPython.core.display.HTML object>",
      "text/html": "Find logs at: <code>./wandb/run-20230719_225041-l4wtblmw/logs</code>"
     },
     "metadata": {},
     "output_type": "display_data"
    },
    {
     "name": "stderr",
     "output_type": "stream",
     "text": [
      "\u001B[34m\u001B[1mwandb\u001B[0m: Sweep Agent: Waiting for job.\n",
      "\u001B[34m\u001B[1mwandb\u001B[0m: Job received.\n",
      "\u001B[34m\u001B[1mwandb\u001B[0m: Agent Starting Run: ca732694 with config:\n",
      "\u001B[34m\u001B[1mwandb\u001B[0m: \tactivation: Softplus\n",
      "\u001B[34m\u001B[1mwandb\u001B[0m: \tbatch_size: 16384\n",
      "\u001B[34m\u001B[1mwandb\u001B[0m: \tdataset: NGCT\n",
      "\u001B[34m\u001B[1mwandb\u001B[0m: \tepochs: 40\n",
      "\u001B[34m\u001B[1mwandb\u001B[0m: \testimate_quantile: 0.9935\n",
      "\u001B[34m\u001B[1mwandb\u001B[0m: \tlayers: [512, 256, 128]\n",
      "\u001B[34m\u001B[1mwandb\u001B[0m: \tlearning_rate: 0.00042580943394096137\n",
      "\u001B[34m\u001B[1mwandb\u001B[0m: \tlr_scheduler: None\n",
      "\u001B[34m\u001B[1mwandb\u001B[0m: \tlr_scheduler_kwargs: {'gamma': 0.4528745679420356, 'step_size': 11}\n"
     ]
    },
    {
     "data": {
      "text/plain": "<IPython.core.display.HTML object>",
      "text/html": "Tracking run with wandb version 0.15.5"
     },
     "metadata": {},
     "output_type": "display_data"
    },
    {
     "data": {
      "text/plain": "<IPython.core.display.HTML object>",
      "text/html": "Run data is saved locally in <code>/Users/bhavyemathur/Desktop/Projects/Spherindrical Fourier Transform/MERRA-2/wind-prediction/models/wandb/run-20230719_225538-ca732694</code>"
     },
     "metadata": {},
     "output_type": "display_data"
    },
    {
     "data": {
      "text/plain": "<IPython.core.display.HTML object>",
      "text/html": "Syncing run <strong><a href='https://wandb.ai/bhavye-mathur/MERRA2-U-July2023/runs/ca732694' target=\"_blank\">astral-sweep-14</a></strong> to <a href='https://wandb.ai/bhavye-mathur/MERRA2-U-July2023' target=\"_blank\">Weights & Biases</a> (<a href='https://wandb.me/run' target=\"_blank\">docs</a>)<br/>Sweep page: <a href='https://wandb.ai/bhavye-mathur/MERRA2-U-July2023/sweeps/4zc8713b' target=\"_blank\">https://wandb.ai/bhavye-mathur/MERRA2-U-July2023/sweeps/4zc8713b</a>"
     },
     "metadata": {},
     "output_type": "display_data"
    },
    {
     "data": {
      "text/plain": "<IPython.core.display.HTML object>",
      "text/html": " View project at <a href='https://wandb.ai/bhavye-mathur/MERRA2-U-July2023' target=\"_blank\">https://wandb.ai/bhavye-mathur/MERRA2-U-July2023</a>"
     },
     "metadata": {},
     "output_type": "display_data"
    },
    {
     "data": {
      "text/plain": "<IPython.core.display.HTML object>",
      "text/html": " View sweep at <a href='https://wandb.ai/bhavye-mathur/MERRA2-U-July2023/sweeps/4zc8713b' target=\"_blank\">https://wandb.ai/bhavye-mathur/MERRA2-U-July2023/sweeps/4zc8713b</a>"
     },
     "metadata": {},
     "output_type": "display_data"
    },
    {
     "data": {
      "text/plain": "<IPython.core.display.HTML object>",
      "text/html": " View run at <a href='https://wandb.ai/bhavye-mathur/MERRA2-U-July2023/runs/ca732694' target=\"_blank\">https://wandb.ai/bhavye-mathur/MERRA2-U-July2023/runs/ca732694</a>"
     },
     "metadata": {},
     "output_type": "display_data"
    },
    {
     "name": "stdout",
     "output_type": "stream",
     "text": [
      "Sequential(\n",
      "  (0): Linear(in_features=15, out_features=512, bias=True)\n",
      "  (1): Softplus(beta=1, threshold=20)\n",
      "  (2): Linear(in_features=512, out_features=256, bias=True)\n",
      "  (3): Softplus(beta=1, threshold=20)\n",
      "  (4): Linear(in_features=256, out_features=128, bias=True)\n",
      "  (5): Softplus(beta=1, threshold=20)\n",
      "  (6): Linear(in_features=128, out_features=1, bias=True)\n",
      ")\n"
     ]
    },
    {
     "data": {
      "text/plain": "  0%|          | 0/40 [00:00<?, ?it/s]",
      "application/vnd.jupyter.widget-view+json": {
       "version_major": 2,
       "version_minor": 0,
       "model_id": "e67925ae7d404d7996856d46e8468985"
      }
     },
     "metadata": {},
     "output_type": "display_data"
    },
    {
     "name": "stdout",
     "output_type": "stream",
     "text": [
      "0 1 2 3 4 5 6 7 8 9 10 11 12 13 14 15 16 17 18 19 20 21 22 23 24 25 26 27 28 29 30 31 32 33 34 35 36 37 38 39 "
     ]
    },
    {
     "data": {
      "text/plain": "<IPython.core.display.HTML object>",
      "text/html": "Waiting for W&B process to finish... <strong style=\"color:green\">(success).</strong>"
     },
     "metadata": {},
     "output_type": "display_data"
    },
    {
     "data": {
      "text/plain": "VBox(children=(Label(value='0.001 MB of 0.001 MB uploaded (0.000 MB deduped)\\r'), FloatProgress(value=1.0, max…",
      "application/vnd.jupyter.widget-view+json": {
       "version_major": 2,
       "version_minor": 0,
       "model_id": "4e29c1fb45aa42d78886d5e6c6daf1cf"
      }
     },
     "metadata": {},
     "output_type": "display_data"
    },
    {
     "data": {
      "text/plain": "<IPython.core.display.HTML object>",
      "text/html": "<style>\n    table.wandb td:nth-child(1) { padding: 0 10px; text-align: left ; width: auto;} td:nth-child(2) {text-align: left ; width: 100%}\n    .wandb-row { display: flex; flex-direction: row; flex-wrap: wrap; justify-content: flex-start; width: 100% }\n    .wandb-col { display: flex; flex-direction: column; flex-basis: 100%; flex: 1; padding: 10px; }\n    </style>\n<div class=\"wandb-row\"><div class=\"wandb-col\"><h3>Run history:</h3><br/><table class=\"wandb\"><tr><td>epoch</td><td>▁▁▁▂▂▂▂▂▂▃▃▃▃▃▄▄▄▄▄▄▅▅▅▅▅▅▆▆▆▆▆▇▇▇▇▇▇███</td></tr><tr><td>train_loss</td><td>▅▃█▄▇▃▆▇▅▄▄▂▂▁▁▁▁▁▁▁▁▂▂▂▂▂▃▃▃▄▄▄▄▄▃▃▃▃▃▁</td></tr><tr><td>train_rmse</td><td>▅▃█▅▇▃▆▇▅▄▄▂▂▁▁▁▁▁▁▁▁▂▂▂▂▂▃▃▄▄▄▄▄▄▄▄▃▃▃▁</td></tr><tr><td>val_mae</td><td>█▂▃▂▁▄▂▆▄▁▁▂▁▂▂▁▁▁▁▁▁▁▁▁▁▂▂▃▃▃▃▂▂▂▂▂▂▂▂▂</td></tr><tr><td>val_rmse</td><td>█▂▃▂▁▄▂▅▄▁▁▂▁▂▂▁▁▁▁▁▁▁▁▁▁▂▂▂▂▂▂▂▂▂▂▂▂▂▂▂</td></tr></table><br/></div><div class=\"wandb-col\"><h3>Run summary:</h3><br/><table class=\"wandb\"><tr><td>epoch</td><td>39</td></tr><tr><td>train_loss</td><td>0.00169</td></tr><tr><td>train_rmse</td><td>0.4044</td></tr><tr><td>val_mae</td><td>0.2881</td></tr><tr><td>val_rmse</td><td>0.40673</td></tr></table><br/></div></div>"
     },
     "metadata": {},
     "output_type": "display_data"
    },
    {
     "data": {
      "text/plain": "<IPython.core.display.HTML object>",
      "text/html": " View run <strong style=\"color:#cdcd00\">astral-sweep-14</strong> at: <a href='https://wandb.ai/bhavye-mathur/MERRA2-U-July2023/runs/ca732694' target=\"_blank\">https://wandb.ai/bhavye-mathur/MERRA2-U-July2023/runs/ca732694</a><br/>Synced 5 W&B file(s), 0 media file(s), 0 artifact file(s) and 0 other file(s)"
     },
     "metadata": {},
     "output_type": "display_data"
    },
    {
     "data": {
      "text/plain": "<IPython.core.display.HTML object>",
      "text/html": "Find logs at: <code>./wandb/run-20230719_225538-ca732694/logs</code>"
     },
     "metadata": {},
     "output_type": "display_data"
    },
    {
     "name": "stderr",
     "output_type": "stream",
     "text": [
      "\u001B[34m\u001B[1mwandb\u001B[0m: Agent Starting Run: r4aryhat with config:\n",
      "\u001B[34m\u001B[1mwandb\u001B[0m: \tactivation: LeakyReLU\n",
      "\u001B[34m\u001B[1mwandb\u001B[0m: \tbatch_size: 65536\n",
      "\u001B[34m\u001B[1mwandb\u001B[0m: \tdataset: NGCT\n",
      "\u001B[34m\u001B[1mwandb\u001B[0m: \tepochs: 40\n",
      "\u001B[34m\u001B[1mwandb\u001B[0m: \testimate_quantile: 0.9935\n",
      "\u001B[34m\u001B[1mwandb\u001B[0m: \tlayers: [256, 256, 32]\n",
      "\u001B[34m\u001B[1mwandb\u001B[0m: \tlearning_rate: 0.0006419165500190383\n",
      "\u001B[34m\u001B[1mwandb\u001B[0m: \tlr_scheduler: StepLR\n",
      "\u001B[34m\u001B[1mwandb\u001B[0m: \tlr_scheduler_kwargs: {'gamma': 0.44506117433333825, 'step_size': 18}\n"
     ]
    },
    {
     "data": {
      "text/plain": "<IPython.core.display.HTML object>",
      "text/html": "Tracking run with wandb version 0.15.5"
     },
     "metadata": {},
     "output_type": "display_data"
    },
    {
     "data": {
      "text/plain": "<IPython.core.display.HTML object>",
      "text/html": "Run data is saved locally in <code>/Users/bhavyemathur/Desktop/Projects/Spherindrical Fourier Transform/MERRA-2/wind-prediction/models/wandb/run-20230719_225824-r4aryhat</code>"
     },
     "metadata": {},
     "output_type": "display_data"
    },
    {
     "data": {
      "text/plain": "<IPython.core.display.HTML object>",
      "text/html": "Syncing run <strong><a href='https://wandb.ai/bhavye-mathur/MERRA2-U-July2023/runs/r4aryhat' target=\"_blank\">crimson-sweep-15</a></strong> to <a href='https://wandb.ai/bhavye-mathur/MERRA2-U-July2023' target=\"_blank\">Weights & Biases</a> (<a href='https://wandb.me/run' target=\"_blank\">docs</a>)<br/>Sweep page: <a href='https://wandb.ai/bhavye-mathur/MERRA2-U-July2023/sweeps/4zc8713b' target=\"_blank\">https://wandb.ai/bhavye-mathur/MERRA2-U-July2023/sweeps/4zc8713b</a>"
     },
     "metadata": {},
     "output_type": "display_data"
    },
    {
     "data": {
      "text/plain": "<IPython.core.display.HTML object>",
      "text/html": " View project at <a href='https://wandb.ai/bhavye-mathur/MERRA2-U-July2023' target=\"_blank\">https://wandb.ai/bhavye-mathur/MERRA2-U-July2023</a>"
     },
     "metadata": {},
     "output_type": "display_data"
    },
    {
     "data": {
      "text/plain": "<IPython.core.display.HTML object>",
      "text/html": " View sweep at <a href='https://wandb.ai/bhavye-mathur/MERRA2-U-July2023/sweeps/4zc8713b' target=\"_blank\">https://wandb.ai/bhavye-mathur/MERRA2-U-July2023/sweeps/4zc8713b</a>"
     },
     "metadata": {},
     "output_type": "display_data"
    },
    {
     "data": {
      "text/plain": "<IPython.core.display.HTML object>",
      "text/html": " View run at <a href='https://wandb.ai/bhavye-mathur/MERRA2-U-July2023/runs/r4aryhat' target=\"_blank\">https://wandb.ai/bhavye-mathur/MERRA2-U-July2023/runs/r4aryhat</a>"
     },
     "metadata": {},
     "output_type": "display_data"
    },
    {
     "name": "stdout",
     "output_type": "stream",
     "text": [
      "Sequential(\n",
      "  (0): Linear(in_features=15, out_features=256, bias=True)\n",
      "  (1): LeakyReLU(negative_slope=0.01)\n",
      "  (2): Linear(in_features=256, out_features=256, bias=True)\n",
      "  (3): LeakyReLU(negative_slope=0.01)\n",
      "  (4): Linear(in_features=256, out_features=32, bias=True)\n",
      "  (5): LeakyReLU(negative_slope=0.01)\n",
      "  (6): Linear(in_features=32, out_features=1, bias=True)\n",
      ")\n"
     ]
    },
    {
     "data": {
      "text/plain": "  0%|          | 0/40 [00:00<?, ?it/s]",
      "application/vnd.jupyter.widget-view+json": {
       "version_major": 2,
       "version_minor": 0,
       "model_id": "ec62723a4924492192f6c875f1c8e97a"
      }
     },
     "metadata": {},
     "output_type": "display_data"
    },
    {
     "name": "stdout",
     "output_type": "stream",
     "text": [
      "0 1 2 3 4 5 6 7 8 9 "
     ]
    },
    {
     "data": {
      "text/plain": "<IPython.core.display.HTML object>",
      "text/html": "Waiting for W&B process to finish... <strong style=\"color:red\">(failed 1).</strong> Press Control-C to abort syncing."
     },
     "metadata": {},
     "output_type": "display_data"
    },
    {
     "data": {
      "text/plain": "VBox(children=(Label(value='0.001 MB of 0.004 MB uploaded (0.000 MB deduped)\\r'), FloatProgress(value=0.279427…",
      "application/vnd.jupyter.widget-view+json": {
       "version_major": 2,
       "version_minor": 0,
       "model_id": "af1777a1704c4ab3a7f61f093b039875"
      }
     },
     "metadata": {},
     "output_type": "display_data"
    },
    {
     "data": {
      "text/plain": "<IPython.core.display.HTML object>",
      "text/html": "<style>\n    table.wandb td:nth-child(1) { padding: 0 10px; text-align: left ; width: auto;} td:nth-child(2) {text-align: left ; width: 100%}\n    .wandb-row { display: flex; flex-direction: row; flex-wrap: wrap; justify-content: flex-start; width: 100% }\n    .wandb-col { display: flex; flex-direction: column; flex-basis: 100%; flex: 1; padding: 10px; }\n    </style>\n<div class=\"wandb-row\"><div class=\"wandb-col\"><h3>Run history:</h3><br/><table class=\"wandb\"><tr><td>epoch</td><td>▁▂▃▃▄▅▆▆▇█</td></tr><tr><td>lr</td><td>▁▁▁▁▁▁▁▁▁</td></tr><tr><td>train_loss</td><td>█▄▃▂▂▂▂▁▂</td></tr><tr><td>train_rmse</td><td>█▄▃▂▂▂▂▁▂</td></tr><tr><td>val_mae</td><td>█▄▃▂▂▁▁▃▁</td></tr><tr><td>val_rmse</td><td>█▄▃▂▂▁▁▃▁</td></tr></table><br/></div><div class=\"wandb-col\"><h3>Run summary:</h3><br/><table class=\"wandb\"><tr><td>epoch</td><td>9</td></tr><tr><td>lr</td><td>0.00064</td></tr><tr><td>train_loss</td><td>0.0019</td></tr><tr><td>train_rmse</td><td>0.42816</td></tr><tr><td>val_mae</td><td>0.30514</td></tr><tr><td>val_rmse</td><td>0.42445</td></tr></table><br/></div></div>"
     },
     "metadata": {},
     "output_type": "display_data"
    },
    {
     "data": {
      "text/plain": "<IPython.core.display.HTML object>",
      "text/html": " View run <strong style=\"color:#cdcd00\">crimson-sweep-15</strong> at: <a href='https://wandb.ai/bhavye-mathur/MERRA2-U-July2023/runs/r4aryhat' target=\"_blank\">https://wandb.ai/bhavye-mathur/MERRA2-U-July2023/runs/r4aryhat</a><br/>Synced 5 W&B file(s), 0 media file(s), 0 artifact file(s) and 0 other file(s)"
     },
     "metadata": {},
     "output_type": "display_data"
    },
    {
     "data": {
      "text/plain": "<IPython.core.display.HTML object>",
      "text/html": "Find logs at: <code>./wandb/run-20230719_225824-r4aryhat/logs</code>"
     },
     "metadata": {},
     "output_type": "display_data"
    },
    {
     "name": "stderr",
     "output_type": "stream",
     "text": [
      "\u001B[34m\u001B[1mwandb\u001B[0m: Agent Starting Run: nfp0qrey with config:\n",
      "\u001B[34m\u001B[1mwandb\u001B[0m: \tactivation: ReLU\n",
      "\u001B[34m\u001B[1mwandb\u001B[0m: \tbatch_size: 65536\n",
      "\u001B[34m\u001B[1mwandb\u001B[0m: \tdataset: NGCT\n",
      "\u001B[34m\u001B[1mwandb\u001B[0m: \tepochs: 40\n",
      "\u001B[34m\u001B[1mwandb\u001B[0m: \testimate_quantile: 0.9935\n",
      "\u001B[34m\u001B[1mwandb\u001B[0m: \tlayers: [512, 256]\n",
      "\u001B[34m\u001B[1mwandb\u001B[0m: \tlearning_rate: 0.0002923243896446955\n",
      "\u001B[34m\u001B[1mwandb\u001B[0m: \tlr_scheduler: StepLR\n",
      "\u001B[34m\u001B[1mwandb\u001B[0m: \tlr_scheduler_kwargs: {'gamma': 0.4682702852380192, 'step_size': 10}\n"
     ]
    },
    {
     "data": {
      "text/plain": "VBox(children=(Label(value='Waiting for wandb.init()...\\r'), FloatProgress(value=0.016753114583358788, max=1.0…",
      "application/vnd.jupyter.widget-view+json": {
       "version_major": 2,
       "version_minor": 0,
       "model_id": "7183ad54fd36456c91fd4eaabcefcb63"
      }
     },
     "metadata": {},
     "output_type": "display_data"
    },
    {
     "data": {
      "text/plain": "<IPython.core.display.HTML object>",
      "text/html": "Tracking run with wandb version 0.15.5"
     },
     "metadata": {},
     "output_type": "display_data"
    },
    {
     "data": {
      "text/plain": "<IPython.core.display.HTML object>",
      "text/html": "Run data is saved locally in <code>/Users/bhavyemathur/Desktop/Projects/Spherindrical Fourier Transform/MERRA-2/wind-prediction/models/wandb/run-20230719_225910-nfp0qrey</code>"
     },
     "metadata": {},
     "output_type": "display_data"
    },
    {
     "data": {
      "text/plain": "<IPython.core.display.HTML object>",
      "text/html": "Syncing run <strong><a href='https://wandb.ai/bhavye-mathur/MERRA2-U-July2023/runs/nfp0qrey' target=\"_blank\">eternal-sweep-16</a></strong> to <a href='https://wandb.ai/bhavye-mathur/MERRA2-U-July2023' target=\"_blank\">Weights & Biases</a> (<a href='https://wandb.me/run' target=\"_blank\">docs</a>)<br/>Sweep page: <a href='https://wandb.ai/bhavye-mathur/MERRA2-U-July2023/sweeps/4zc8713b' target=\"_blank\">https://wandb.ai/bhavye-mathur/MERRA2-U-July2023/sweeps/4zc8713b</a>"
     },
     "metadata": {},
     "output_type": "display_data"
    },
    {
     "data": {
      "text/plain": "<IPython.core.display.HTML object>",
      "text/html": " View project at <a href='https://wandb.ai/bhavye-mathur/MERRA2-U-July2023' target=\"_blank\">https://wandb.ai/bhavye-mathur/MERRA2-U-July2023</a>"
     },
     "metadata": {},
     "output_type": "display_data"
    },
    {
     "data": {
      "text/plain": "<IPython.core.display.HTML object>",
      "text/html": " View sweep at <a href='https://wandb.ai/bhavye-mathur/MERRA2-U-July2023/sweeps/4zc8713b' target=\"_blank\">https://wandb.ai/bhavye-mathur/MERRA2-U-July2023/sweeps/4zc8713b</a>"
     },
     "metadata": {},
     "output_type": "display_data"
    },
    {
     "data": {
      "text/plain": "<IPython.core.display.HTML object>",
      "text/html": " View run at <a href='https://wandb.ai/bhavye-mathur/MERRA2-U-July2023/runs/nfp0qrey' target=\"_blank\">https://wandb.ai/bhavye-mathur/MERRA2-U-July2023/runs/nfp0qrey</a>"
     },
     "metadata": {},
     "output_type": "display_data"
    },
    {
     "name": "stdout",
     "output_type": "stream",
     "text": [
      "Sequential(\n",
      "  (0): Linear(in_features=15, out_features=512, bias=True)\n",
      "  (1): ReLU()\n",
      "  (2): Linear(in_features=512, out_features=256, bias=True)\n",
      "  (3): ReLU()\n",
      "  (4): Linear(in_features=256, out_features=1, bias=True)\n",
      ")\n"
     ]
    },
    {
     "data": {
      "text/plain": "  0%|          | 0/40 [00:00<?, ?it/s]",
      "application/vnd.jupyter.widget-view+json": {
       "version_major": 2,
       "version_minor": 0,
       "model_id": "c58922110d1443178d9de9a18208219b"
      }
     },
     "metadata": {},
     "output_type": "display_data"
    },
    {
     "name": "stdout",
     "output_type": "stream",
     "text": [
      "0 1 2 3 4 5 6 7 "
     ]
    },
    {
     "data": {
      "text/plain": "<IPython.core.display.HTML object>",
      "text/html": "Waiting for W&B process to finish... <strong style=\"color:red\">(failed 1).</strong> Press Control-C to abort syncing."
     },
     "metadata": {},
     "output_type": "display_data"
    },
    {
     "data": {
      "text/plain": "VBox(children=(Label(value='0.001 MB of 0.001 MB uploaded (0.000 MB deduped)\\r'), FloatProgress(value=1.0, max…",
      "application/vnd.jupyter.widget-view+json": {
       "version_major": 2,
       "version_minor": 0,
       "model_id": "2d989c3c41524d8fbda0504b0e9f2bbc"
      }
     },
     "metadata": {},
     "output_type": "display_data"
    },
    {
     "data": {
      "text/plain": "<IPython.core.display.HTML object>",
      "text/html": "<style>\n    table.wandb td:nth-child(1) { padding: 0 10px; text-align: left ; width: auto;} td:nth-child(2) {text-align: left ; width: 100%}\n    .wandb-row { display: flex; flex-direction: row; flex-wrap: wrap; justify-content: flex-start; width: 100% }\n    .wandb-col { display: flex; flex-direction: column; flex-basis: 100%; flex: 1; padding: 10px; }\n    </style>\n<div class=\"wandb-row\"><div class=\"wandb-col\"><h3>Run history:</h3><br/><table class=\"wandb\"><tr><td>epoch</td><td>▁▂▃▄▅▆▇█</td></tr><tr><td>lr</td><td>▁▁▁▁▁▁▁</td></tr><tr><td>train_loss</td><td>█▃▂▂▁▁▁</td></tr><tr><td>train_rmse</td><td>█▃▂▂▁▁▁</td></tr><tr><td>val_mae</td><td>█▄▂▂▂▁▁</td></tr><tr><td>val_rmse</td><td>█▃▂▂▁▁▁</td></tr></table><br/></div><div class=\"wandb-col\"><h3>Run summary:</h3><br/><table class=\"wandb\"><tr><td>epoch</td><td>7</td></tr><tr><td>lr</td><td>0.00029</td></tr><tr><td>train_loss</td><td>0.00182</td></tr><tr><td>train_rmse</td><td>0.41984</td></tr><tr><td>val_mae</td><td>0.30109</td></tr><tr><td>val_rmse</td><td>0.42065</td></tr></table><br/></div></div>"
     },
     "metadata": {},
     "output_type": "display_data"
    },
    {
     "data": {
      "text/plain": "<IPython.core.display.HTML object>",
      "text/html": " View run <strong style=\"color:#cdcd00\">eternal-sweep-16</strong> at: <a href='https://wandb.ai/bhavye-mathur/MERRA2-U-July2023/runs/nfp0qrey' target=\"_blank\">https://wandb.ai/bhavye-mathur/MERRA2-U-July2023/runs/nfp0qrey</a><br/>Synced 5 W&B file(s), 0 media file(s), 0 artifact file(s) and 0 other file(s)"
     },
     "metadata": {},
     "output_type": "display_data"
    },
    {
     "data": {
      "text/plain": "<IPython.core.display.HTML object>",
      "text/html": "Find logs at: <code>./wandb/run-20230719_225910-nfp0qrey/logs</code>"
     },
     "metadata": {},
     "output_type": "display_data"
    },
    {
     "name": "stderr",
     "output_type": "stream",
     "text": [
      "\u001B[34m\u001B[1mwandb\u001B[0m: Agent Starting Run: azuuqgy3 with config:\n",
      "\u001B[34m\u001B[1mwandb\u001B[0m: \tactivation: PReLU\n",
      "\u001B[34m\u001B[1mwandb\u001B[0m: \tbatch_size: 32768\n",
      "\u001B[34m\u001B[1mwandb\u001B[0m: \tdataset: NGCT\n",
      "\u001B[34m\u001B[1mwandb\u001B[0m: \tepochs: 40\n",
      "\u001B[34m\u001B[1mwandb\u001B[0m: \testimate_quantile: 0.9935\n",
      "\u001B[34m\u001B[1mwandb\u001B[0m: \tlayers: [512, 256]\n",
      "\u001B[34m\u001B[1mwandb\u001B[0m: \tlearning_rate: 0.00024487771261780884\n",
      "\u001B[34m\u001B[1mwandb\u001B[0m: \tlr_scheduler: None\n",
      "\u001B[34m\u001B[1mwandb\u001B[0m: \tlr_scheduler_kwargs: {'gamma': 0.3821690991327999, 'step_size': 14}\n"
     ]
    },
    {
     "data": {
      "text/plain": "<IPython.core.display.HTML object>",
      "text/html": "Tracking run with wandb version 0.15.5"
     },
     "metadata": {},
     "output_type": "display_data"
    },
    {
     "data": {
      "text/plain": "<IPython.core.display.HTML object>",
      "text/html": "Run data is saved locally in <code>/Users/bhavyemathur/Desktop/Projects/Spherindrical Fourier Transform/MERRA-2/wind-prediction/models/wandb/run-20230719_230005-azuuqgy3</code>"
     },
     "metadata": {},
     "output_type": "display_data"
    },
    {
     "data": {
      "text/plain": "<IPython.core.display.HTML object>",
      "text/html": "Syncing run <strong><a href='https://wandb.ai/bhavye-mathur/MERRA2-U-July2023/runs/azuuqgy3' target=\"_blank\">earnest-sweep-17</a></strong> to <a href='https://wandb.ai/bhavye-mathur/MERRA2-U-July2023' target=\"_blank\">Weights & Biases</a> (<a href='https://wandb.me/run' target=\"_blank\">docs</a>)<br/>Sweep page: <a href='https://wandb.ai/bhavye-mathur/MERRA2-U-July2023/sweeps/4zc8713b' target=\"_blank\">https://wandb.ai/bhavye-mathur/MERRA2-U-July2023/sweeps/4zc8713b</a>"
     },
     "metadata": {},
     "output_type": "display_data"
    },
    {
     "data": {
      "text/plain": "<IPython.core.display.HTML object>",
      "text/html": " View project at <a href='https://wandb.ai/bhavye-mathur/MERRA2-U-July2023' target=\"_blank\">https://wandb.ai/bhavye-mathur/MERRA2-U-July2023</a>"
     },
     "metadata": {},
     "output_type": "display_data"
    },
    {
     "data": {
      "text/plain": "<IPython.core.display.HTML object>",
      "text/html": " View sweep at <a href='https://wandb.ai/bhavye-mathur/MERRA2-U-July2023/sweeps/4zc8713b' target=\"_blank\">https://wandb.ai/bhavye-mathur/MERRA2-U-July2023/sweeps/4zc8713b</a>"
     },
     "metadata": {},
     "output_type": "display_data"
    },
    {
     "data": {
      "text/plain": "<IPython.core.display.HTML object>",
      "text/html": " View run at <a href='https://wandb.ai/bhavye-mathur/MERRA2-U-July2023/runs/azuuqgy3' target=\"_blank\">https://wandb.ai/bhavye-mathur/MERRA2-U-July2023/runs/azuuqgy3</a>"
     },
     "metadata": {},
     "output_type": "display_data"
    },
    {
     "name": "stdout",
     "output_type": "stream",
     "text": [
      "Sequential(\n",
      "  (0): Linear(in_features=15, out_features=512, bias=True)\n",
      "  (1): PReLU(num_parameters=1)\n",
      "  (2): Linear(in_features=512, out_features=256, bias=True)\n",
      "  (3): PReLU(num_parameters=1)\n",
      "  (4): Linear(in_features=256, out_features=1, bias=True)\n",
      ")\n"
     ]
    },
    {
     "data": {
      "text/plain": "  0%|          | 0/40 [00:00<?, ?it/s]",
      "application/vnd.jupyter.widget-view+json": {
       "version_major": 2,
       "version_minor": 0,
       "model_id": "10ed7cb4305643a6b016b9356ee4f624"
      }
     },
     "metadata": {},
     "output_type": "display_data"
    },
    {
     "name": "stdout",
     "output_type": "stream",
     "text": [
      "0 1 2 3 4 5 6 7 8 9 10 11 12 13 14 15 16 17 18 19 20 21 22 23 24 25 26 27 28 29 30 31 32 33 34 35 36 37 38 39 "
     ]
    },
    {
     "data": {
      "text/plain": "<IPython.core.display.HTML object>",
      "text/html": "Waiting for W&B process to finish... <strong style=\"color:green\">(success).</strong>"
     },
     "metadata": {},
     "output_type": "display_data"
    },
    {
     "data": {
      "text/plain": "VBox(children=(Label(value='0.001 MB of 0.001 MB uploaded (0.000 MB deduped)\\r'), FloatProgress(value=1.0, max…",
      "application/vnd.jupyter.widget-view+json": {
       "version_major": 2,
       "version_minor": 0,
       "model_id": "1baadc667da64ab28bf72d7cf0e7c322"
      }
     },
     "metadata": {},
     "output_type": "display_data"
    },
    {
     "data": {
      "text/plain": "<IPython.core.display.HTML object>",
      "text/html": "<style>\n    table.wandb td:nth-child(1) { padding: 0 10px; text-align: left ; width: auto;} td:nth-child(2) {text-align: left ; width: 100%}\n    .wandb-row { display: flex; flex-direction: row; flex-wrap: wrap; justify-content: flex-start; width: 100% }\n    .wandb-col { display: flex; flex-direction: column; flex-basis: 100%; flex: 1; padding: 10px; }\n    </style>\n<div class=\"wandb-row\"><div class=\"wandb-col\"><h3>Run history:</h3><br/><table class=\"wandb\"><tr><td>epoch</td><td>▁▁▁▂▂▂▂▂▂▃▃▃▃▃▄▄▄▄▄▄▅▅▅▅▅▅▆▆▆▆▆▇▇▇▇▇▇███</td></tr><tr><td>train_loss</td><td>█▄▃▃▃▂▂▂▂▂▂▂▂▂▂▂▂▂▂▂▂▂▂▂▂▂▂▂▂▂▂▂▂▂▂▂▂▂▂▁</td></tr><tr><td>train_rmse</td><td>█▄▃▃▃▂▂▂▂▂▂▂▂▂▂▂▂▂▂▂▂▂▂▂▂▂▂▂▂▂▂▂▂▂▂▂▂▂▂▁</td></tr><tr><td>val_mae</td><td>█▅▄▃▃▃▂▂▂▂▂▂▂▂▁▁▂▁▁▁▁▁▁▁▁▁▁▁▁▁▁▁▁▁▁▁▁▁▁▁</td></tr><tr><td>val_rmse</td><td>█▅▄▃▃▃▂▂▂▂▂▂▂▂▂▂▂▁▁▁▁▁▁▁▁▁▁▁▁▁▁▁▁▁▁▁▁▁▁▁</td></tr></table><br/></div><div class=\"wandb-col\"><h3>Run summary:</h3><br/><table class=\"wandb\"><tr><td>epoch</td><td>39</td></tr><tr><td>train_loss</td><td>0.00163</td></tr><tr><td>train_rmse</td><td>0.39655</td></tr><tr><td>val_mae</td><td>0.28571</td></tr><tr><td>val_rmse</td><td>0.40309</td></tr></table><br/></div></div>"
     },
     "metadata": {},
     "output_type": "display_data"
    },
    {
     "data": {
      "text/plain": "<IPython.core.display.HTML object>",
      "text/html": " View run <strong style=\"color:#cdcd00\">earnest-sweep-17</strong> at: <a href='https://wandb.ai/bhavye-mathur/MERRA2-U-July2023/runs/azuuqgy3' target=\"_blank\">https://wandb.ai/bhavye-mathur/MERRA2-U-July2023/runs/azuuqgy3</a><br/>Synced 5 W&B file(s), 0 media file(s), 0 artifact file(s) and 0 other file(s)"
     },
     "metadata": {},
     "output_type": "display_data"
    },
    {
     "data": {
      "text/plain": "<IPython.core.display.HTML object>",
      "text/html": "Find logs at: <code>./wandb/run-20230719_230005-azuuqgy3/logs</code>"
     },
     "metadata": {},
     "output_type": "display_data"
    },
    {
     "name": "stderr",
     "output_type": "stream",
     "text": [
      "\u001B[34m\u001B[1mwandb\u001B[0m: Agent Starting Run: 4ahggvr0 with config:\n",
      "\u001B[34m\u001B[1mwandb\u001B[0m: \tactivation: ELU\n",
      "\u001B[34m\u001B[1mwandb\u001B[0m: \tbatch_size: 32768\n",
      "\u001B[34m\u001B[1mwandb\u001B[0m: \tdataset: NGCT\n",
      "\u001B[34m\u001B[1mwandb\u001B[0m: \tepochs: 40\n",
      "\u001B[34m\u001B[1mwandb\u001B[0m: \testimate_quantile: 0.9935\n",
      "\u001B[34m\u001B[1mwandb\u001B[0m: \tlayers: [1024, 512]\n",
      "\u001B[34m\u001B[1mwandb\u001B[0m: \tlearning_rate: 0.0003217930021977126\n",
      "\u001B[34m\u001B[1mwandb\u001B[0m: \tlr_scheduler: StepLR\n",
      "\u001B[34m\u001B[1mwandb\u001B[0m: \tlr_scheduler_kwargs: {'gamma': 0.4575602205633496, 'step_size': 12}\n"
     ]
    },
    {
     "data": {
      "text/plain": "<IPython.core.display.HTML object>",
      "text/html": "Tracking run with wandb version 0.15.5"
     },
     "metadata": {},
     "output_type": "display_data"
    },
    {
     "data": {
      "text/plain": "<IPython.core.display.HTML object>",
      "text/html": "Run data is saved locally in <code>/Users/bhavyemathur/Desktop/Projects/Spherindrical Fourier Transform/MERRA-2/wind-prediction/models/wandb/run-20230719_230243-4ahggvr0</code>"
     },
     "metadata": {},
     "output_type": "display_data"
    },
    {
     "data": {
      "text/plain": "<IPython.core.display.HTML object>",
      "text/html": "Syncing run <strong><a href='https://wandb.ai/bhavye-mathur/MERRA2-U-July2023/runs/4ahggvr0' target=\"_blank\">curious-sweep-18</a></strong> to <a href='https://wandb.ai/bhavye-mathur/MERRA2-U-July2023' target=\"_blank\">Weights & Biases</a> (<a href='https://wandb.me/run' target=\"_blank\">docs</a>)<br/>Sweep page: <a href='https://wandb.ai/bhavye-mathur/MERRA2-U-July2023/sweeps/4zc8713b' target=\"_blank\">https://wandb.ai/bhavye-mathur/MERRA2-U-July2023/sweeps/4zc8713b</a>"
     },
     "metadata": {},
     "output_type": "display_data"
    },
    {
     "data": {
      "text/plain": "<IPython.core.display.HTML object>",
      "text/html": " View project at <a href='https://wandb.ai/bhavye-mathur/MERRA2-U-July2023' target=\"_blank\">https://wandb.ai/bhavye-mathur/MERRA2-U-July2023</a>"
     },
     "metadata": {},
     "output_type": "display_data"
    },
    {
     "data": {
      "text/plain": "<IPython.core.display.HTML object>",
      "text/html": " View sweep at <a href='https://wandb.ai/bhavye-mathur/MERRA2-U-July2023/sweeps/4zc8713b' target=\"_blank\">https://wandb.ai/bhavye-mathur/MERRA2-U-July2023/sweeps/4zc8713b</a>"
     },
     "metadata": {},
     "output_type": "display_data"
    },
    {
     "data": {
      "text/plain": "<IPython.core.display.HTML object>",
      "text/html": " View run at <a href='https://wandb.ai/bhavye-mathur/MERRA2-U-July2023/runs/4ahggvr0' target=\"_blank\">https://wandb.ai/bhavye-mathur/MERRA2-U-July2023/runs/4ahggvr0</a>"
     },
     "metadata": {},
     "output_type": "display_data"
    },
    {
     "name": "stdout",
     "output_type": "stream",
     "text": [
      "Sequential(\n",
      "  (0): Linear(in_features=15, out_features=1024, bias=True)\n",
      "  (1): ELU(alpha=1.0)\n",
      "  (2): Linear(in_features=1024, out_features=512, bias=True)\n",
      "  (3): ELU(alpha=1.0)\n",
      "  (4): Linear(in_features=512, out_features=1, bias=True)\n",
      ")\n"
     ]
    },
    {
     "data": {
      "text/plain": "  0%|          | 0/40 [00:00<?, ?it/s]",
      "application/vnd.jupyter.widget-view+json": {
       "version_major": 2,
       "version_minor": 0,
       "model_id": "8fc7eb7f08a540e6868c3dd0fd87515b"
      }
     },
     "metadata": {},
     "output_type": "display_data"
    },
    {
     "name": "stdout",
     "output_type": "stream",
     "text": [
      "0 1 2 3 4 "
     ]
    },
    {
     "data": {
      "text/plain": "<IPython.core.display.HTML object>",
      "text/html": "Waiting for W&B process to finish... <strong style=\"color:red\">(failed 1).</strong> Press Control-C to abort syncing."
     },
     "metadata": {},
     "output_type": "display_data"
    },
    {
     "data": {
      "text/plain": "VBox(children=(Label(value='0.001 MB of 0.001 MB uploaded (0.000 MB deduped)\\r'), FloatProgress(value=1.0, max…",
      "application/vnd.jupyter.widget-view+json": {
       "version_major": 2,
       "version_minor": 0,
       "model_id": "c772283f0d074d4c8038095ff702e88e"
      }
     },
     "metadata": {},
     "output_type": "display_data"
    },
    {
     "data": {
      "text/plain": "<IPython.core.display.HTML object>",
      "text/html": "<style>\n    table.wandb td:nth-child(1) { padding: 0 10px; text-align: left ; width: auto;} td:nth-child(2) {text-align: left ; width: 100%}\n    .wandb-row { display: flex; flex-direction: row; flex-wrap: wrap; justify-content: flex-start; width: 100% }\n    .wandb-col { display: flex; flex-direction: column; flex-basis: 100%; flex: 1; padding: 10px; }\n    </style>\n<div class=\"wandb-row\"><div class=\"wandb-col\"><h3>Run history:</h3><br/><table class=\"wandb\"><tr><td>epoch</td><td>▁▃▅▆█</td></tr><tr><td>lr</td><td>▁▁▁▁</td></tr><tr><td>train_loss</td><td>█▆▄▃▂▂▁▁</td></tr><tr><td>train_rmse</td><td>█▆▄▃▂▂▁▁</td></tr><tr><td>val_mae</td><td>█▄▂▁</td></tr><tr><td>val_rmse</td><td>█▄▂▁</td></tr></table><br/></div><div class=\"wandb-col\"><h3>Run summary:</h3><br/><table class=\"wandb\"><tr><td>epoch</td><td>4</td></tr><tr><td>lr</td><td>0.00032</td></tr><tr><td>train_loss</td><td>0.00174</td></tr><tr><td>train_rmse</td><td>0.40971</td></tr><tr><td>val_mae</td><td>0.29058</td></tr><tr><td>val_rmse</td><td>0.41273</td></tr></table><br/></div></div>"
     },
     "metadata": {},
     "output_type": "display_data"
    },
    {
     "data": {
      "text/plain": "<IPython.core.display.HTML object>",
      "text/html": " View run <strong style=\"color:#cdcd00\">curious-sweep-18</strong> at: <a href='https://wandb.ai/bhavye-mathur/MERRA2-U-July2023/runs/4ahggvr0' target=\"_blank\">https://wandb.ai/bhavye-mathur/MERRA2-U-July2023/runs/4ahggvr0</a><br/>Synced 5 W&B file(s), 0 media file(s), 0 artifact file(s) and 0 other file(s)"
     },
     "metadata": {},
     "output_type": "display_data"
    },
    {
     "data": {
      "text/plain": "<IPython.core.display.HTML object>",
      "text/html": "Find logs at: <code>./wandb/run-20230719_230243-4ahggvr0/logs</code>"
     },
     "metadata": {},
     "output_type": "display_data"
    },
    {
     "name": "stderr",
     "output_type": "stream",
     "text": [
      "\u001B[34m\u001B[1mwandb\u001B[0m: Agent Starting Run: h18qoj81 with config:\n",
      "\u001B[34m\u001B[1mwandb\u001B[0m: \tactivation: Softplus\n",
      "\u001B[34m\u001B[1mwandb\u001B[0m: \tbatch_size: 32768\n",
      "\u001B[34m\u001B[1mwandb\u001B[0m: \tdataset: NGCT\n",
      "\u001B[34m\u001B[1mwandb\u001B[0m: \tepochs: 40\n",
      "\u001B[34m\u001B[1mwandb\u001B[0m: \testimate_quantile: 0.9935\n",
      "\u001B[34m\u001B[1mwandb\u001B[0m: \tlayers: [512, 256, 128]\n",
      "\u001B[34m\u001B[1mwandb\u001B[0m: \tlearning_rate: 0.0005786151982267778\n",
      "\u001B[34m\u001B[1mwandb\u001B[0m: \tlr_scheduler: None\n",
      "\u001B[34m\u001B[1mwandb\u001B[0m: \tlr_scheduler_kwargs: {'gamma': 0.2894442525796056, 'step_size': 20}\n"
     ]
    },
    {
     "data": {
      "text/plain": "<IPython.core.display.HTML object>",
      "text/html": "Tracking run with wandb version 0.15.5"
     },
     "metadata": {},
     "output_type": "display_data"
    },
    {
     "data": {
      "text/plain": "<IPython.core.display.HTML object>",
      "text/html": "Run data is saved locally in <code>/Users/bhavyemathur/Desktop/Projects/Spherindrical Fourier Transform/MERRA-2/wind-prediction/models/wandb/run-20230719_230337-h18qoj81</code>"
     },
     "metadata": {},
     "output_type": "display_data"
    },
    {
     "data": {
      "text/plain": "<IPython.core.display.HTML object>",
      "text/html": "Syncing run <strong><a href='https://wandb.ai/bhavye-mathur/MERRA2-U-July2023/runs/h18qoj81' target=\"_blank\">astral-sweep-19</a></strong> to <a href='https://wandb.ai/bhavye-mathur/MERRA2-U-July2023' target=\"_blank\">Weights & Biases</a> (<a href='https://wandb.me/run' target=\"_blank\">docs</a>)<br/>Sweep page: <a href='https://wandb.ai/bhavye-mathur/MERRA2-U-July2023/sweeps/4zc8713b' target=\"_blank\">https://wandb.ai/bhavye-mathur/MERRA2-U-July2023/sweeps/4zc8713b</a>"
     },
     "metadata": {},
     "output_type": "display_data"
    },
    {
     "data": {
      "text/plain": "<IPython.core.display.HTML object>",
      "text/html": " View project at <a href='https://wandb.ai/bhavye-mathur/MERRA2-U-July2023' target=\"_blank\">https://wandb.ai/bhavye-mathur/MERRA2-U-July2023</a>"
     },
     "metadata": {},
     "output_type": "display_data"
    },
    {
     "data": {
      "text/plain": "<IPython.core.display.HTML object>",
      "text/html": " View sweep at <a href='https://wandb.ai/bhavye-mathur/MERRA2-U-July2023/sweeps/4zc8713b' target=\"_blank\">https://wandb.ai/bhavye-mathur/MERRA2-U-July2023/sweeps/4zc8713b</a>"
     },
     "metadata": {},
     "output_type": "display_data"
    },
    {
     "data": {
      "text/plain": "<IPython.core.display.HTML object>",
      "text/html": " View run at <a href='https://wandb.ai/bhavye-mathur/MERRA2-U-July2023/runs/h18qoj81' target=\"_blank\">https://wandb.ai/bhavye-mathur/MERRA2-U-July2023/runs/h18qoj81</a>"
     },
     "metadata": {},
     "output_type": "display_data"
    },
    {
     "name": "stdout",
     "output_type": "stream",
     "text": [
      "Sequential(\n",
      "  (0): Linear(in_features=15, out_features=512, bias=True)\n",
      "  (1): Softplus(beta=1, threshold=20)\n",
      "  (2): Linear(in_features=512, out_features=256, bias=True)\n",
      "  (3): Softplus(beta=1, threshold=20)\n",
      "  (4): Linear(in_features=256, out_features=128, bias=True)\n",
      "  (5): Softplus(beta=1, threshold=20)\n",
      "  (6): Linear(in_features=128, out_features=1, bias=True)\n",
      ")\n"
     ]
    },
    {
     "data": {
      "text/plain": "  0%|          | 0/40 [00:00<?, ?it/s]",
      "application/vnd.jupyter.widget-view+json": {
       "version_major": 2,
       "version_minor": 0,
       "model_id": "3cffdcd1cccf4df6930af847f57c1c2a"
      }
     },
     "metadata": {},
     "output_type": "display_data"
    },
    {
     "name": "stdout",
     "output_type": "stream",
     "text": [
      "0 1 2 3 4 5 6 7 8 9 10 11 12 13 14 15 16 17 18 19 20 21 "
     ]
    },
    {
     "data": {
      "text/plain": "<IPython.core.display.HTML object>",
      "text/html": "Waiting for W&B process to finish... <strong style=\"color:red\">(failed 1).</strong> Press Control-C to abort syncing."
     },
     "metadata": {},
     "output_type": "display_data"
    },
    {
     "data": {
      "text/plain": "<IPython.core.display.HTML object>",
      "text/html": "<style>\n    table.wandb td:nth-child(1) { padding: 0 10px; text-align: left ; width: auto;} td:nth-child(2) {text-align: left ; width: 100%}\n    .wandb-row { display: flex; flex-direction: row; flex-wrap: wrap; justify-content: flex-start; width: 100% }\n    .wandb-col { display: flex; flex-direction: column; flex-basis: 100%; flex: 1; padding: 10px; }\n    </style>\n<div class=\"wandb-row\"><div class=\"wandb-col\"><h3>Run history:</h3><br/><table class=\"wandb\"><tr><td>epoch</td><td>▁▁▂▂▂▃▃▃▄▄▄▅▅▅▆▆▆▇▇▇██</td></tr><tr><td>train_loss</td><td>█▂▂▂▁▁▁▁▄▁▁▆▁▁▂▁▁▁▄▁▁▁▃▁▁▁▁▁▁▂▁▁▁▁▁▁▁▁▁▁</td></tr><tr><td>train_rmse</td><td>█▂▂▂▂▂▁▁▄▁▁▆▁▂▃▁▁▁▄▁▁▁▄▁▁▁▁▁▁▃▁▁▁▂▁▁▁▁▁▁</td></tr><tr><td>val_mae</td><td>▃▂▄▂▁▄▂▇▃█▃▇▅▆▄▆▅▄▅▃▆</td></tr><tr><td>val_rmse</td><td>▄▂▅▂▁▄▁▇▃█▃▇▅▆▄▆▅▄▅▃▆</td></tr></table><br/></div><div class=\"wandb-col\"><h3>Run summary:</h3><br/><table class=\"wandb\"><tr><td>epoch</td><td>21</td></tr><tr><td>train_loss</td><td>0.00169</td></tr><tr><td>train_rmse</td><td>0.40405</td></tr><tr><td>val_mae</td><td>0.3331</td></tr><tr><td>val_rmse</td><td>0.44949</td></tr></table><br/></div></div>"
     },
     "metadata": {},
     "output_type": "display_data"
    },
    {
     "data": {
      "text/plain": "<IPython.core.display.HTML object>",
      "text/html": " View run <strong style=\"color:#cdcd00\">astral-sweep-19</strong> at: <a href='https://wandb.ai/bhavye-mathur/MERRA2-U-July2023/runs/h18qoj81' target=\"_blank\">https://wandb.ai/bhavye-mathur/MERRA2-U-July2023/runs/h18qoj81</a><br/>Synced 5 W&B file(s), 0 media file(s), 0 artifact file(s) and 0 other file(s)"
     },
     "metadata": {},
     "output_type": "display_data"
    },
    {
     "data": {
      "text/plain": "<IPython.core.display.HTML object>",
      "text/html": "Find logs at: <code>./wandb/run-20230719_230337-h18qoj81/logs</code>"
     },
     "metadata": {},
     "output_type": "display_data"
    },
    {
     "name": "stderr",
     "output_type": "stream",
     "text": [
      "\u001B[34m\u001B[1mwandb\u001B[0m: Agent Starting Run: un587tju with config:\n",
      "\u001B[34m\u001B[1mwandb\u001B[0m: \tactivation: PReLU\n",
      "\u001B[34m\u001B[1mwandb\u001B[0m: \tbatch_size: 8192\n",
      "\u001B[34m\u001B[1mwandb\u001B[0m: \tdataset: NGCT\n",
      "\u001B[34m\u001B[1mwandb\u001B[0m: \tepochs: 40\n",
      "\u001B[34m\u001B[1mwandb\u001B[0m: \testimate_quantile: 0.9935\n",
      "\u001B[34m\u001B[1mwandb\u001B[0m: \tlayers: [128, 64, 32]\n",
      "\u001B[34m\u001B[1mwandb\u001B[0m: \tlearning_rate: 9.815487000458688e-05\n",
      "\u001B[34m\u001B[1mwandb\u001B[0m: \tlr_scheduler: StepLR\n",
      "\u001B[34m\u001B[1mwandb\u001B[0m: \tlr_scheduler_kwargs: {'gamma': 0.4263014675003328, 'step_size': 13}\n"
     ]
    },
    {
     "data": {
      "text/plain": "<IPython.core.display.HTML object>",
      "text/html": "Tracking run with wandb version 0.15.5"
     },
     "metadata": {},
     "output_type": "display_data"
    },
    {
     "data": {
      "text/plain": "<IPython.core.display.HTML object>",
      "text/html": "Run data is saved locally in <code>/Users/bhavyemathur/Desktop/Projects/Spherindrical Fourier Transform/MERRA-2/wind-prediction/models/wandb/run-20230719_230514-un587tju</code>"
     },
     "metadata": {},
     "output_type": "display_data"
    },
    {
     "data": {
      "text/plain": "<IPython.core.display.HTML object>",
      "text/html": "Syncing run <strong><a href='https://wandb.ai/bhavye-mathur/MERRA2-U-July2023/runs/un587tju' target=\"_blank\">frosty-sweep-20</a></strong> to <a href='https://wandb.ai/bhavye-mathur/MERRA2-U-July2023' target=\"_blank\">Weights & Biases</a> (<a href='https://wandb.me/run' target=\"_blank\">docs</a>)<br/>Sweep page: <a href='https://wandb.ai/bhavye-mathur/MERRA2-U-July2023/sweeps/4zc8713b' target=\"_blank\">https://wandb.ai/bhavye-mathur/MERRA2-U-July2023/sweeps/4zc8713b</a>"
     },
     "metadata": {},
     "output_type": "display_data"
    },
    {
     "data": {
      "text/plain": "<IPython.core.display.HTML object>",
      "text/html": " View project at <a href='https://wandb.ai/bhavye-mathur/MERRA2-U-July2023' target=\"_blank\">https://wandb.ai/bhavye-mathur/MERRA2-U-July2023</a>"
     },
     "metadata": {},
     "output_type": "display_data"
    },
    {
     "data": {
      "text/plain": "<IPython.core.display.HTML object>",
      "text/html": " View sweep at <a href='https://wandb.ai/bhavye-mathur/MERRA2-U-July2023/sweeps/4zc8713b' target=\"_blank\">https://wandb.ai/bhavye-mathur/MERRA2-U-July2023/sweeps/4zc8713b</a>"
     },
     "metadata": {},
     "output_type": "display_data"
    },
    {
     "data": {
      "text/plain": "<IPython.core.display.HTML object>",
      "text/html": " View run at <a href='https://wandb.ai/bhavye-mathur/MERRA2-U-July2023/runs/un587tju' target=\"_blank\">https://wandb.ai/bhavye-mathur/MERRA2-U-July2023/runs/un587tju</a>"
     },
     "metadata": {},
     "output_type": "display_data"
    },
    {
     "name": "stdout",
     "output_type": "stream",
     "text": [
      "Sequential(\n",
      "  (0): Linear(in_features=15, out_features=128, bias=True)\n",
      "  (1): PReLU(num_parameters=1)\n",
      "  (2): Linear(in_features=128, out_features=64, bias=True)\n",
      "  (3): PReLU(num_parameters=1)\n",
      "  (4): Linear(in_features=64, out_features=32, bias=True)\n",
      "  (5): PReLU(num_parameters=1)\n",
      "  (6): Linear(in_features=32, out_features=1, bias=True)\n",
      ")\n"
     ]
    },
    {
     "data": {
      "text/plain": "  0%|          | 0/40 [00:00<?, ?it/s]",
      "application/vnd.jupyter.widget-view+json": {
       "version_major": 2,
       "version_minor": 0,
       "model_id": "690e14e0cabd49d2882b7c901ee5c3e5"
      }
     },
     "metadata": {},
     "output_type": "display_data"
    },
    {
     "name": "stdout",
     "output_type": "stream",
     "text": [
      "0 1 2 3 4 5 6 7 8 9 10 11 12 13 14 15 16 17 18 19 20 21 22 23 24 25 26 27 28 29 30 31 32 33 34 35 36 37 38 39 "
     ]
    },
    {
     "data": {
      "text/plain": "<IPython.core.display.HTML object>",
      "text/html": "Waiting for W&B process to finish... <strong style=\"color:green\">(success).</strong>"
     },
     "metadata": {},
     "output_type": "display_data"
    },
    {
     "data": {
      "text/plain": "VBox(children=(Label(value='0.001 MB of 0.005 MB uploaded (0.000 MB deduped)\\r'), FloatProgress(value=0.210665…",
      "application/vnd.jupyter.widget-view+json": {
       "version_major": 2,
       "version_minor": 0,
       "model_id": "7a82c14c4d004f47a2833c0e909224f6"
      }
     },
     "metadata": {},
     "output_type": "display_data"
    },
    {
     "data": {
      "text/plain": "<IPython.core.display.HTML object>",
      "text/html": "<style>\n    table.wandb td:nth-child(1) { padding: 0 10px; text-align: left ; width: auto;} td:nth-child(2) {text-align: left ; width: 100%}\n    .wandb-row { display: flex; flex-direction: row; flex-wrap: wrap; justify-content: flex-start; width: 100% }\n    .wandb-col { display: flex; flex-direction: column; flex-basis: 100%; flex: 1; padding: 10px; }\n    </style>\n<div class=\"wandb-row\"><div class=\"wandb-col\"><h3>Run history:</h3><br/><table class=\"wandb\"><tr><td>epoch</td><td>▁▁▁▂▂▂▂▂▂▃▃▃▃▃▄▄▄▄▄▄▅▅▅▅▅▅▆▆▆▆▆▇▇▇▇▇▇███</td></tr><tr><td>lr</td><td>████████████▄▄▄▄▄▄▄▄▄▄▄▄▄▂▂▂▂▂▂▂▂▂▂▂▂▂▁▁</td></tr><tr><td>train_loss</td><td>█▂▁▁▁▁▁▁▁▁▁▁▁▁▁▁▁▁▁▁▁▁▁▁▁▁▁▁▁▁▁▁▁▁▁▁▁▁▁▁</td></tr><tr><td>train_rmse</td><td>█▂▂▁▁▁▁▁▁▁▁▁▁▁▁▁▁▁▁▁▁▁▁▁▁▁▁▁▁▁▁▁▁▁▁▁▁▁▁▁</td></tr><tr><td>val_mae</td><td>█▄▃▃▂▂▂▂▁▁▁▁▁▁▁▁▁▁▁▁▁▁▁▁▁▁▁▁▁▁▁▁▁▁▁▁▁▁▁▁</td></tr><tr><td>val_rmse</td><td>█▄▃▂▂▂▂▁▁▁▁▁▁▁▁▁▁▁▁▁▁▁▁▁▁▁▁▁▁▁▁▁▁▁▁▁▁▁▁▁</td></tr></table><br/></div><div class=\"wandb-col\"><h3>Run summary:</h3><br/><table class=\"wandb\"><tr><td>epoch</td><td>39</td></tr><tr><td>lr</td><td>1e-05</td></tr><tr><td>train_loss</td><td>0.00168</td></tr><tr><td>train_rmse</td><td>0.40296</td></tr><tr><td>val_mae</td><td>0.28534</td></tr><tr><td>val_rmse</td><td>0.40333</td></tr></table><br/></div></div>"
     },
     "metadata": {},
     "output_type": "display_data"
    },
    {
     "data": {
      "text/plain": "<IPython.core.display.HTML object>",
      "text/html": " View run <strong style=\"color:#cdcd00\">frosty-sweep-20</strong> at: <a href='https://wandb.ai/bhavye-mathur/MERRA2-U-July2023/runs/un587tju' target=\"_blank\">https://wandb.ai/bhavye-mathur/MERRA2-U-July2023/runs/un587tju</a><br/>Synced 5 W&B file(s), 0 media file(s), 0 artifact file(s) and 0 other file(s)"
     },
     "metadata": {},
     "output_type": "display_data"
    },
    {
     "data": {
      "text/plain": "<IPython.core.display.HTML object>",
      "text/html": "Find logs at: <code>./wandb/run-20230719_230514-un587tju/logs</code>"
     },
     "metadata": {},
     "output_type": "display_data"
    },
    {
     "name": "stderr",
     "output_type": "stream",
     "text": [
      "\u001B[34m\u001B[1mwandb\u001B[0m: Agent Starting Run: 9wwpqnbi with config:\n",
      "\u001B[34m\u001B[1mwandb\u001B[0m: \tactivation: Softplus\n",
      "\u001B[34m\u001B[1mwandb\u001B[0m: \tbatch_size: 8192\n",
      "\u001B[34m\u001B[1mwandb\u001B[0m: \tdataset: NGCT\n",
      "\u001B[34m\u001B[1mwandb\u001B[0m: \tepochs: 40\n",
      "\u001B[34m\u001B[1mwandb\u001B[0m: \testimate_quantile: 0.9935\n",
      "\u001B[34m\u001B[1mwandb\u001B[0m: \tlayers: [1024, 512]\n",
      "\u001B[34m\u001B[1mwandb\u001B[0m: \tlearning_rate: 0.0002537519193903631\n",
      "\u001B[34m\u001B[1mwandb\u001B[0m: \tlr_scheduler: None\n",
      "\u001B[34m\u001B[1mwandb\u001B[0m: \tlr_scheduler_kwargs: {'gamma': 0.4950834470693452, 'step_size': 16}\n"
     ]
    },
    {
     "data": {
      "text/plain": "<IPython.core.display.HTML object>",
      "text/html": "Tracking run with wandb version 0.15.5"
     },
     "metadata": {},
     "output_type": "display_data"
    },
    {
     "data": {
      "text/plain": "<IPython.core.display.HTML object>",
      "text/html": "Run data is saved locally in <code>/Users/bhavyemathur/Desktop/Projects/Spherindrical Fourier Transform/MERRA-2/wind-prediction/models/wandb/run-20230719_230828-9wwpqnbi</code>"
     },
     "metadata": {},
     "output_type": "display_data"
    },
    {
     "data": {
      "text/plain": "<IPython.core.display.HTML object>",
      "text/html": "Syncing run <strong><a href='https://wandb.ai/bhavye-mathur/MERRA2-U-July2023/runs/9wwpqnbi' target=\"_blank\">fiery-sweep-21</a></strong> to <a href='https://wandb.ai/bhavye-mathur/MERRA2-U-July2023' target=\"_blank\">Weights & Biases</a> (<a href='https://wandb.me/run' target=\"_blank\">docs</a>)<br/>Sweep page: <a href='https://wandb.ai/bhavye-mathur/MERRA2-U-July2023/sweeps/4zc8713b' target=\"_blank\">https://wandb.ai/bhavye-mathur/MERRA2-U-July2023/sweeps/4zc8713b</a>"
     },
     "metadata": {},
     "output_type": "display_data"
    },
    {
     "data": {
      "text/plain": "<IPython.core.display.HTML object>",
      "text/html": " View project at <a href='https://wandb.ai/bhavye-mathur/MERRA2-U-July2023' target=\"_blank\">https://wandb.ai/bhavye-mathur/MERRA2-U-July2023</a>"
     },
     "metadata": {},
     "output_type": "display_data"
    },
    {
     "data": {
      "text/plain": "<IPython.core.display.HTML object>",
      "text/html": " View sweep at <a href='https://wandb.ai/bhavye-mathur/MERRA2-U-July2023/sweeps/4zc8713b' target=\"_blank\">https://wandb.ai/bhavye-mathur/MERRA2-U-July2023/sweeps/4zc8713b</a>"
     },
     "metadata": {},
     "output_type": "display_data"
    },
    {
     "data": {
      "text/plain": "<IPython.core.display.HTML object>",
      "text/html": " View run at <a href='https://wandb.ai/bhavye-mathur/MERRA2-U-July2023/runs/9wwpqnbi' target=\"_blank\">https://wandb.ai/bhavye-mathur/MERRA2-U-July2023/runs/9wwpqnbi</a>"
     },
     "metadata": {},
     "output_type": "display_data"
    },
    {
     "name": "stdout",
     "output_type": "stream",
     "text": [
      "Sequential(\n",
      "  (0): Linear(in_features=15, out_features=1024, bias=True)\n",
      "  (1): Softplus(beta=1, threshold=20)\n",
      "  (2): Linear(in_features=1024, out_features=512, bias=True)\n",
      "  (3): Softplus(beta=1, threshold=20)\n",
      "  (4): Linear(in_features=512, out_features=1, bias=True)\n",
      ")\n"
     ]
    },
    {
     "data": {
      "text/plain": "  0%|          | 0/40 [00:00<?, ?it/s]",
      "application/vnd.jupyter.widget-view+json": {
       "version_major": 2,
       "version_minor": 0,
       "model_id": "89446489171541499fed70403df7fafc"
      }
     },
     "metadata": {},
     "output_type": "display_data"
    },
    {
     "name": "stdout",
     "output_type": "stream",
     "text": [
      "0 1 2 3 4 5 6 7 8 9 10 11 12 13 14 15 16 17 18 19 20 21 22 23 24 25 26 27 28 29 30 31 32 33 34 35 36 37 38 39 "
     ]
    },
    {
     "data": {
      "text/plain": "<IPython.core.display.HTML object>",
      "text/html": "Waiting for W&B process to finish... <strong style=\"color:green\">(success).</strong>"
     },
     "metadata": {},
     "output_type": "display_data"
    },
    {
     "data": {
      "text/plain": "VBox(children=(Label(value='0.001 MB of 0.001 MB uploaded (0.000 MB deduped)\\r'), FloatProgress(value=1.0, max…",
      "application/vnd.jupyter.widget-view+json": {
       "version_major": 2,
       "version_minor": 0,
       "model_id": "bacdf5f5ed39462fa4fc40351b5f583d"
      }
     },
     "metadata": {},
     "output_type": "display_data"
    },
    {
     "data": {
      "text/plain": "<IPython.core.display.HTML object>",
      "text/html": "<style>\n    table.wandb td:nth-child(1) { padding: 0 10px; text-align: left ; width: auto;} td:nth-child(2) {text-align: left ; width: 100%}\n    .wandb-row { display: flex; flex-direction: row; flex-wrap: wrap; justify-content: flex-start; width: 100% }\n    .wandb-col { display: flex; flex-direction: column; flex-basis: 100%; flex: 1; padding: 10px; }\n    </style>\n<div class=\"wandb-row\"><div class=\"wandb-col\"><h3>Run history:</h3><br/><table class=\"wandb\"><tr><td>epoch</td><td>▁▁▁▂▂▂▂▂▂▃▃▃▃▃▄▄▄▄▄▄▅▅▅▅▅▅▆▆▆▆▆▇▇▇▇▇▇███</td></tr><tr><td>train_loss</td><td>▁█▁▁▁▁▁▁▁▁▁▁▁▁▁▁▁▁▁▁▁▁▁▁▁▁▁▁▁▁▁▁▁▁▁▁▁▁▁▁</td></tr><tr><td>train_rmse</td><td>▁█▁▂▁▁▂▂▁▁▁▁▁▁▁▁▁▁▁▁▁▁▁▁▁▁▁▁▁▁▁▁▁▁▁▁▁▁▁▁</td></tr><tr><td>val_mae</td><td>▂▂▁▁▆▅▁█▅▅▂▁▁▁▁▂▂▂▂▃▁▁▁▁▂▂▂▃▃▃▃▄▄▄▃▃▂▂▁▁</td></tr><tr><td>val_rmse</td><td>▂▂▁▁▆▅▂█▅▅▂▁▁▁▁▂▂▂▂▃▁▁▁▁▂▂▂▃▃▃▃▄▄▃▃▃▂▂▁▁</td></tr></table><br/></div><div class=\"wandb-col\"><h3>Run summary:</h3><br/><table class=\"wandb\"><tr><td>epoch</td><td>39</td></tr><tr><td>train_loss</td><td>0.00167</td></tr><tr><td>train_rmse</td><td>0.40226</td></tr><tr><td>val_mae</td><td>0.28488</td></tr><tr><td>val_rmse</td><td>0.4034</td></tr></table><br/></div></div>"
     },
     "metadata": {},
     "output_type": "display_data"
    },
    {
     "data": {
      "text/plain": "<IPython.core.display.HTML object>",
      "text/html": " View run <strong style=\"color:#cdcd00\">fiery-sweep-21</strong> at: <a href='https://wandb.ai/bhavye-mathur/MERRA2-U-July2023/runs/9wwpqnbi' target=\"_blank\">https://wandb.ai/bhavye-mathur/MERRA2-U-July2023/runs/9wwpqnbi</a><br/>Synced 5 W&B file(s), 0 media file(s), 0 artifact file(s) and 0 other file(s)"
     },
     "metadata": {},
     "output_type": "display_data"
    },
    {
     "data": {
      "text/plain": "<IPython.core.display.HTML object>",
      "text/html": "Find logs at: <code>./wandb/run-20230719_230828-9wwpqnbi/logs</code>"
     },
     "metadata": {},
     "output_type": "display_data"
    },
    {
     "name": "stderr",
     "output_type": "stream",
     "text": [
      "\u001B[34m\u001B[1mwandb\u001B[0m: Sweep Agent: Waiting for job.\n",
      "\u001B[34m\u001B[1mwandb\u001B[0m: Job received.\n",
      "\u001B[34m\u001B[1mwandb\u001B[0m: Agent Starting Run: 4pn254xb with config:\n",
      "\u001B[34m\u001B[1mwandb\u001B[0m: \tactivation: PReLU\n",
      "\u001B[34m\u001B[1mwandb\u001B[0m: \tbatch_size: 16384\n",
      "\u001B[34m\u001B[1mwandb\u001B[0m: \tdataset: NGCT\n",
      "\u001B[34m\u001B[1mwandb\u001B[0m: \tepochs: 40\n",
      "\u001B[34m\u001B[1mwandb\u001B[0m: \testimate_quantile: 0.9935\n",
      "\u001B[34m\u001B[1mwandb\u001B[0m: \tlayers: [256, 256, 32]\n",
      "\u001B[34m\u001B[1mwandb\u001B[0m: \tlearning_rate: 0.0008352423724351961\n",
      "\u001B[34m\u001B[1mwandb\u001B[0m: \tlr_scheduler: None\n",
      "\u001B[34m\u001B[1mwandb\u001B[0m: \tlr_scheduler_kwargs: {'gamma': 0.7242414268703111, 'step_size': 12}\n"
     ]
    },
    {
     "data": {
      "text/plain": "<IPython.core.display.HTML object>",
      "text/html": "Tracking run with wandb version 0.15.5"
     },
     "metadata": {},
     "output_type": "display_data"
    },
    {
     "data": {
      "text/plain": "<IPython.core.display.HTML object>",
      "text/html": "Run data is saved locally in <code>/Users/bhavyemathur/Desktop/Projects/Spherindrical Fourier Transform/MERRA-2/wind-prediction/models/wandb/run-20230719_231444-4pn254xb</code>"
     },
     "metadata": {},
     "output_type": "display_data"
    },
    {
     "data": {
      "text/plain": "<IPython.core.display.HTML object>",
      "text/html": "Syncing run <strong><a href='https://wandb.ai/bhavye-mathur/MERRA2-U-July2023/runs/4pn254xb' target=\"_blank\">morning-sweep-22</a></strong> to <a href='https://wandb.ai/bhavye-mathur/MERRA2-U-July2023' target=\"_blank\">Weights & Biases</a> (<a href='https://wandb.me/run' target=\"_blank\">docs</a>)<br/>Sweep page: <a href='https://wandb.ai/bhavye-mathur/MERRA2-U-July2023/sweeps/4zc8713b' target=\"_blank\">https://wandb.ai/bhavye-mathur/MERRA2-U-July2023/sweeps/4zc8713b</a>"
     },
     "metadata": {},
     "output_type": "display_data"
    },
    {
     "data": {
      "text/plain": "<IPython.core.display.HTML object>",
      "text/html": " View project at <a href='https://wandb.ai/bhavye-mathur/MERRA2-U-July2023' target=\"_blank\">https://wandb.ai/bhavye-mathur/MERRA2-U-July2023</a>"
     },
     "metadata": {},
     "output_type": "display_data"
    },
    {
     "data": {
      "text/plain": "<IPython.core.display.HTML object>",
      "text/html": " View sweep at <a href='https://wandb.ai/bhavye-mathur/MERRA2-U-July2023/sweeps/4zc8713b' target=\"_blank\">https://wandb.ai/bhavye-mathur/MERRA2-U-July2023/sweeps/4zc8713b</a>"
     },
     "metadata": {},
     "output_type": "display_data"
    },
    {
     "data": {
      "text/plain": "<IPython.core.display.HTML object>",
      "text/html": " View run at <a href='https://wandb.ai/bhavye-mathur/MERRA2-U-July2023/runs/4pn254xb' target=\"_blank\">https://wandb.ai/bhavye-mathur/MERRA2-U-July2023/runs/4pn254xb</a>"
     },
     "metadata": {},
     "output_type": "display_data"
    },
    {
     "name": "stdout",
     "output_type": "stream",
     "text": [
      "Sequential(\n",
      "  (0): Linear(in_features=15, out_features=256, bias=True)\n",
      "  (1): PReLU(num_parameters=1)\n",
      "  (2): Linear(in_features=256, out_features=256, bias=True)\n",
      "  (3): PReLU(num_parameters=1)\n",
      "  (4): Linear(in_features=256, out_features=32, bias=True)\n",
      "  (5): PReLU(num_parameters=1)\n",
      "  (6): Linear(in_features=32, out_features=1, bias=True)\n",
      ")\n"
     ]
    },
    {
     "data": {
      "text/plain": "  0%|          | 0/40 [00:00<?, ?it/s]",
      "application/vnd.jupyter.widget-view+json": {
       "version_major": 2,
       "version_minor": 0,
       "model_id": "9a57d4a8da014f599c36edab7d1c906a"
      }
     },
     "metadata": {},
     "output_type": "display_data"
    },
    {
     "name": "stdout",
     "output_type": "stream",
     "text": [
      "0 1 2 3 4 5 6 7 8 9 10 11 12 13 14 15 16 17 18 19 20 21 22 23 24 25 26 27 28 29 30 31 32 33 34 35 36 37 38 39 "
     ]
    },
    {
     "data": {
      "text/plain": "<IPython.core.display.HTML object>",
      "text/html": "Waiting for W&B process to finish... <strong style=\"color:green\">(success).</strong>"
     },
     "metadata": {},
     "output_type": "display_data"
    },
    {
     "data": {
      "text/plain": "VBox(children=(Label(value='0.001 MB of 0.004 MB uploaded (0.000 MB deduped)\\r'), FloatProgress(value=0.223542…",
      "application/vnd.jupyter.widget-view+json": {
       "version_major": 2,
       "version_minor": 0,
       "model_id": "11903afba02e4b30b2673ce39bb63d32"
      }
     },
     "metadata": {},
     "output_type": "display_data"
    },
    {
     "data": {
      "text/plain": "<IPython.core.display.HTML object>",
      "text/html": "<style>\n    table.wandb td:nth-child(1) { padding: 0 10px; text-align: left ; width: auto;} td:nth-child(2) {text-align: left ; width: 100%}\n    .wandb-row { display: flex; flex-direction: row; flex-wrap: wrap; justify-content: flex-start; width: 100% }\n    .wandb-col { display: flex; flex-direction: column; flex-basis: 100%; flex: 1; padding: 10px; }\n    </style>\n<div class=\"wandb-row\"><div class=\"wandb-col\"><h3>Run history:</h3><br/><table class=\"wandb\"><tr><td>epoch</td><td>▁▁▁▂▂▂▂▂▂▃▃▃▃▃▄▄▄▄▄▄▅▅▅▅▅▅▆▆▆▆▆▇▇▇▇▇▇███</td></tr><tr><td>train_loss</td><td>█▄▃▂▂▂▂▂▂▂▂▂▂▂▂▂▂▂▁▁▁▁▁▁▁▁▁▁▁▁▁▁▁▁▁▁▁▁▁▂</td></tr><tr><td>train_rmse</td><td>█▄▃▂▂▂▂▂▂▂▂▂▂▂▂▂▂▂▁▁▁▁▁▁▁▁▁▁▁▁▁▁▁▁▁▁▁▁▁▂</td></tr><tr><td>val_mae</td><td>█▅▄▃▃▃▃▃▃▂▂▂▂▂▂▂▂▂▂▂▂▂▂▂▂▂▂▁▁▁▁▁▂▁▁▁▁▁▁▁</td></tr><tr><td>val_rmse</td><td>█▅▄▄▃▃▃▃▃▃▃▃▂▃▃▂▂▂▂▂▂▂▂▂▂▂▂▁▁▁▁▁▂▁▁▁▁▁▁▁</td></tr></table><br/></div><div class=\"wandb-col\"><h3>Run summary:</h3><br/><table class=\"wandb\"><tr><td>epoch</td><td>39</td></tr><tr><td>train_loss</td><td>0.0017</td></tr><tr><td>train_rmse</td><td>0.40577</td></tr><tr><td>val_mae</td><td>0.28456</td></tr><tr><td>val_rmse</td><td>0.40129</td></tr></table><br/></div></div>"
     },
     "metadata": {},
     "output_type": "display_data"
    },
    {
     "data": {
      "text/plain": "<IPython.core.display.HTML object>",
      "text/html": " View run <strong style=\"color:#cdcd00\">morning-sweep-22</strong> at: <a href='https://wandb.ai/bhavye-mathur/MERRA2-U-July2023/runs/4pn254xb' target=\"_blank\">https://wandb.ai/bhavye-mathur/MERRA2-U-July2023/runs/4pn254xb</a><br/>Synced 5 W&B file(s), 0 media file(s), 0 artifact file(s) and 0 other file(s)"
     },
     "metadata": {},
     "output_type": "display_data"
    },
    {
     "data": {
      "text/plain": "<IPython.core.display.HTML object>",
      "text/html": "Find logs at: <code>./wandb/run-20230719_231444-4pn254xb/logs</code>"
     },
     "metadata": {},
     "output_type": "display_data"
    },
    {
     "name": "stderr",
     "output_type": "stream",
     "text": [
      "\u001B[34m\u001B[1mwandb\u001B[0m: Sweep Agent: Waiting for job.\n",
      "\u001B[34m\u001B[1mwandb\u001B[0m: Job received.\n",
      "\u001B[34m\u001B[1mwandb\u001B[0m: Agent Starting Run: 061nngfx with config:\n",
      "\u001B[34m\u001B[1mwandb\u001B[0m: \tactivation: ReLU\n",
      "\u001B[34m\u001B[1mwandb\u001B[0m: \tbatch_size: 65536\n",
      "\u001B[34m\u001B[1mwandb\u001B[0m: \tdataset: NGCT\n",
      "\u001B[34m\u001B[1mwandb\u001B[0m: \tepochs: 40\n",
      "\u001B[34m\u001B[1mwandb\u001B[0m: \testimate_quantile: 0.9935\n",
      "\u001B[34m\u001B[1mwandb\u001B[0m: \tlayers: [1024, 512, 256]\n",
      "\u001B[34m\u001B[1mwandb\u001B[0m: \tlearning_rate: 0.0008116518223746423\n",
      "\u001B[34m\u001B[1mwandb\u001B[0m: \tlr_scheduler: None\n",
      "\u001B[34m\u001B[1mwandb\u001B[0m: \tlr_scheduler_kwargs: {'gamma': 0.4410262005220056, 'step_size': 20}\n"
     ]
    },
    {
     "data": {
      "text/plain": "<IPython.core.display.HTML object>",
      "text/html": "Tracking run with wandb version 0.15.5"
     },
     "metadata": {},
     "output_type": "display_data"
    },
    {
     "data": {
      "text/plain": "<IPython.core.display.HTML object>",
      "text/html": "Run data is saved locally in <code>/Users/bhavyemathur/Desktop/Projects/Spherindrical Fourier Transform/MERRA-2/wind-prediction/models/wandb/run-20230719_231657-061nngfx</code>"
     },
     "metadata": {},
     "output_type": "display_data"
    },
    {
     "data": {
      "text/plain": "<IPython.core.display.HTML object>",
      "text/html": "Syncing run <strong><a href='https://wandb.ai/bhavye-mathur/MERRA2-U-July2023/runs/061nngfx' target=\"_blank\">serene-sweep-23</a></strong> to <a href='https://wandb.ai/bhavye-mathur/MERRA2-U-July2023' target=\"_blank\">Weights & Biases</a> (<a href='https://wandb.me/run' target=\"_blank\">docs</a>)<br/>Sweep page: <a href='https://wandb.ai/bhavye-mathur/MERRA2-U-July2023/sweeps/4zc8713b' target=\"_blank\">https://wandb.ai/bhavye-mathur/MERRA2-U-July2023/sweeps/4zc8713b</a>"
     },
     "metadata": {},
     "output_type": "display_data"
    },
    {
     "data": {
      "text/plain": "<IPython.core.display.HTML object>",
      "text/html": " View project at <a href='https://wandb.ai/bhavye-mathur/MERRA2-U-July2023' target=\"_blank\">https://wandb.ai/bhavye-mathur/MERRA2-U-July2023</a>"
     },
     "metadata": {},
     "output_type": "display_data"
    },
    {
     "data": {
      "text/plain": "<IPython.core.display.HTML object>",
      "text/html": " View sweep at <a href='https://wandb.ai/bhavye-mathur/MERRA2-U-July2023/sweeps/4zc8713b' target=\"_blank\">https://wandb.ai/bhavye-mathur/MERRA2-U-July2023/sweeps/4zc8713b</a>"
     },
     "metadata": {},
     "output_type": "display_data"
    },
    {
     "data": {
      "text/plain": "<IPython.core.display.HTML object>",
      "text/html": " View run at <a href='https://wandb.ai/bhavye-mathur/MERRA2-U-July2023/runs/061nngfx' target=\"_blank\">https://wandb.ai/bhavye-mathur/MERRA2-U-July2023/runs/061nngfx</a>"
     },
     "metadata": {},
     "output_type": "display_data"
    },
    {
     "name": "stdout",
     "output_type": "stream",
     "text": [
      "Sequential(\n",
      "  (0): Linear(in_features=15, out_features=1024, bias=True)\n",
      "  (1): ReLU()\n",
      "  (2): Linear(in_features=1024, out_features=512, bias=True)\n",
      "  (3): ReLU()\n",
      "  (4): Linear(in_features=512, out_features=256, bias=True)\n",
      "  (5): ReLU()\n",
      "  (6): Linear(in_features=256, out_features=1, bias=True)\n",
      ")\n"
     ]
    },
    {
     "data": {
      "text/plain": "  0%|          | 0/40 [00:00<?, ?it/s]",
      "application/vnd.jupyter.widget-view+json": {
       "version_major": 2,
       "version_minor": 0,
       "model_id": "b78fff05e9544fff824ff395e5fa9710"
      }
     },
     "metadata": {},
     "output_type": "display_data"
    },
    {
     "name": "stdout",
     "output_type": "stream",
     "text": [
      "0 1 2 3 4 5 6 7 8 9 10 11 12 13 14 15 16 17 18 19 20 21 22 23 24 25 "
     ]
    },
    {
     "data": {
      "text/plain": "<IPython.core.display.HTML object>",
      "text/html": "Waiting for W&B process to finish... <strong style=\"color:red\">(failed 1).</strong> Press Control-C to abort syncing."
     },
     "metadata": {},
     "output_type": "display_data"
    },
    {
     "data": {
      "text/plain": "<IPython.core.display.HTML object>",
      "text/html": "<style>\n    table.wandb td:nth-child(1) { padding: 0 10px; text-align: left ; width: auto;} td:nth-child(2) {text-align: left ; width: 100%}\n    .wandb-row { display: flex; flex-direction: row; flex-wrap: wrap; justify-content: flex-start; width: 100% }\n    .wandb-col { display: flex; flex-direction: column; flex-basis: 100%; flex: 1; padding: 10px; }\n    </style>\n<div class=\"wandb-row\"><div class=\"wandb-col\"><h3>Run history:</h3><br/><table class=\"wandb\"><tr><td>epoch</td><td>▁▁▂▂▂▂▃▃▃▄▄▄▄▅▅▅▅▆▆▆▇▇▇▇██</td></tr><tr><td>train_loss</td><td>▂▁▂▃▁▁▁▁▁▁▁▁▁▂█▁▁▁▁▁▁▁▂▁▁</td></tr><tr><td>train_rmse</td><td>▂▂▂▃▁▁▁▁▁▁▁▁▁▂█▁▁▂▁▁▁▁▂▁▁</td></tr><tr><td>val_mae</td><td>▂▁▁▂▁▁▁▁▁▂▁▁▂▁▁▁▂█▁▁▁▂▁▁▁</td></tr><tr><td>val_rmse</td><td>▂▂▁▂▁▁▁▁▁▂▁▁▂▁▁▁▂█▁▁▁▂▁▁▁</td></tr></table><br/></div><div class=\"wandb-col\"><h3>Run summary:</h3><br/><table class=\"wandb\"><tr><td>epoch</td><td>25</td></tr><tr><td>train_loss</td><td>0.00172</td></tr><tr><td>train_rmse</td><td>0.40735</td></tr><tr><td>val_mae</td><td>0.28921</td></tr><tr><td>val_rmse</td><td>0.4068</td></tr></table><br/></div></div>"
     },
     "metadata": {},
     "output_type": "display_data"
    },
    {
     "data": {
      "text/plain": "<IPython.core.display.HTML object>",
      "text/html": " View run <strong style=\"color:#cdcd00\">serene-sweep-23</strong> at: <a href='https://wandb.ai/bhavye-mathur/MERRA2-U-July2023/runs/061nngfx' target=\"_blank\">https://wandb.ai/bhavye-mathur/MERRA2-U-July2023/runs/061nngfx</a><br/>Synced 5 W&B file(s), 0 media file(s), 0 artifact file(s) and 0 other file(s)"
     },
     "metadata": {},
     "output_type": "display_data"
    },
    {
     "data": {
      "text/plain": "<IPython.core.display.HTML object>",
      "text/html": "Find logs at: <code>./wandb/run-20230719_231657-061nngfx/logs</code>"
     },
     "metadata": {},
     "output_type": "display_data"
    },
    {
     "name": "stderr",
     "output_type": "stream",
     "text": [
      "\u001B[34m\u001B[1mwandb\u001B[0m: Agent Starting Run: 45y9fomy with config:\n",
      "\u001B[34m\u001B[1mwandb\u001B[0m: \tactivation: LeakyReLU\n",
      "\u001B[34m\u001B[1mwandb\u001B[0m: \tbatch_size: 16384\n",
      "\u001B[34m\u001B[1mwandb\u001B[0m: \tdataset: NGCT\n",
      "\u001B[34m\u001B[1mwandb\u001B[0m: \tepochs: 40\n",
      "\u001B[34m\u001B[1mwandb\u001B[0m: \testimate_quantile: 0.9935\n",
      "\u001B[34m\u001B[1mwandb\u001B[0m: \tlayers: [1024, 512, 256]\n",
      "\u001B[34m\u001B[1mwandb\u001B[0m: \tlearning_rate: 0.0006584717358943737\n",
      "\u001B[34m\u001B[1mwandb\u001B[0m: \tlr_scheduler: None\n",
      "\u001B[34m\u001B[1mwandb\u001B[0m: \tlr_scheduler_kwargs: {'gamma': 0.58121199793712, 'step_size': 10}\n"
     ]
    },
    {
     "data": {
      "text/plain": "VBox(children=(Label(value='Waiting for wandb.init()...\\r'), FloatProgress(value=0.016752872216360022, max=1.0…",
      "application/vnd.jupyter.widget-view+json": {
       "version_major": 2,
       "version_minor": 0,
       "model_id": "90b89aba1a084f78b160e0c88de09c1b"
      }
     },
     "metadata": {},
     "output_type": "display_data"
    },
    {
     "data": {
      "text/plain": "<IPython.core.display.HTML object>",
      "text/html": "Tracking run with wandb version 0.15.5"
     },
     "metadata": {},
     "output_type": "display_data"
    },
    {
     "data": {
      "text/plain": "<IPython.core.display.HTML object>",
      "text/html": "Run data is saved locally in <code>/Users/bhavyemathur/Desktop/Projects/Spherindrical Fourier Transform/MERRA-2/wind-prediction/models/wandb/run-20230719_232714-45y9fomy</code>"
     },
     "metadata": {},
     "output_type": "display_data"
    },
    {
     "data": {
      "text/plain": "<IPython.core.display.HTML object>",
      "text/html": "Syncing run <strong><a href='https://wandb.ai/bhavye-mathur/MERRA2-U-July2023/runs/45y9fomy' target=\"_blank\">brisk-sweep-24</a></strong> to <a href='https://wandb.ai/bhavye-mathur/MERRA2-U-July2023' target=\"_blank\">Weights & Biases</a> (<a href='https://wandb.me/run' target=\"_blank\">docs</a>)<br/>Sweep page: <a href='https://wandb.ai/bhavye-mathur/MERRA2-U-July2023/sweeps/4zc8713b' target=\"_blank\">https://wandb.ai/bhavye-mathur/MERRA2-U-July2023/sweeps/4zc8713b</a>"
     },
     "metadata": {},
     "output_type": "display_data"
    },
    {
     "data": {
      "text/plain": "<IPython.core.display.HTML object>",
      "text/html": " View project at <a href='https://wandb.ai/bhavye-mathur/MERRA2-U-July2023' target=\"_blank\">https://wandb.ai/bhavye-mathur/MERRA2-U-July2023</a>"
     },
     "metadata": {},
     "output_type": "display_data"
    },
    {
     "data": {
      "text/plain": "<IPython.core.display.HTML object>",
      "text/html": " View sweep at <a href='https://wandb.ai/bhavye-mathur/MERRA2-U-July2023/sweeps/4zc8713b' target=\"_blank\">https://wandb.ai/bhavye-mathur/MERRA2-U-July2023/sweeps/4zc8713b</a>"
     },
     "metadata": {},
     "output_type": "display_data"
    },
    {
     "data": {
      "text/plain": "<IPython.core.display.HTML object>",
      "text/html": " View run at <a href='https://wandb.ai/bhavye-mathur/MERRA2-U-July2023/runs/45y9fomy' target=\"_blank\">https://wandb.ai/bhavye-mathur/MERRA2-U-July2023/runs/45y9fomy</a>"
     },
     "metadata": {},
     "output_type": "display_data"
    },
    {
     "name": "stdout",
     "output_type": "stream",
     "text": [
      "Sequential(\n",
      "  (0): Linear(in_features=15, out_features=1024, bias=True)\n",
      "  (1): LeakyReLU(negative_slope=0.01)\n",
      "  (2): Linear(in_features=1024, out_features=512, bias=True)\n",
      "  (3): LeakyReLU(negative_slope=0.01)\n",
      "  (4): Linear(in_features=512, out_features=256, bias=True)\n",
      "  (5): LeakyReLU(negative_slope=0.01)\n",
      "  (6): Linear(in_features=256, out_features=1, bias=True)\n",
      ")\n"
     ]
    },
    {
     "data": {
      "text/plain": "  0%|          | 0/40 [00:00<?, ?it/s]",
      "application/vnd.jupyter.widget-view+json": {
       "version_major": 2,
       "version_minor": 0,
       "model_id": "0cf67fde8fad4d0db6c6eae9b304d47c"
      }
     },
     "metadata": {},
     "output_type": "display_data"
    },
    {
     "name": "stdout",
     "output_type": "stream",
     "text": [
      "0 1 2 3 4 5 6 7 8 9 10 11 12 13 14 15 16 17 18 19 20 21 22 23 24 25 26 27 28 29 30 31 32 33 34 35 36 37 38 39 "
     ]
    },
    {
     "data": {
      "text/plain": "<IPython.core.display.HTML object>",
      "text/html": "Waiting for W&B process to finish... <strong style=\"color:green\">(success).</strong>"
     },
     "metadata": {},
     "output_type": "display_data"
    },
    {
     "data": {
      "text/plain": "VBox(children=(Label(value='0.001 MB of 0.001 MB uploaded (0.000 MB deduped)\\r'), FloatProgress(value=1.0, max…",
      "application/vnd.jupyter.widget-view+json": {
       "version_major": 2,
       "version_minor": 0,
       "model_id": "34216f58deb14bf587eeb217a6fdae05"
      }
     },
     "metadata": {},
     "output_type": "display_data"
    },
    {
     "data": {
      "text/plain": "<IPython.core.display.HTML object>",
      "text/html": "<style>\n    table.wandb td:nth-child(1) { padding: 0 10px; text-align: left ; width: auto;} td:nth-child(2) {text-align: left ; width: 100%}\n    .wandb-row { display: flex; flex-direction: row; flex-wrap: wrap; justify-content: flex-start; width: 100% }\n    .wandb-col { display: flex; flex-direction: column; flex-basis: 100%; flex: 1; padding: 10px; }\n    </style>\n<div class=\"wandb-row\"><div class=\"wandb-col\"><h3>Run history:</h3><br/><table class=\"wandb\"><tr><td>epoch</td><td>▁▁▁▂▂▂▂▂▂▃▃▃▃▃▄▄▄▄▄▄▅▅▅▅▅▅▆▆▆▆▆▇▇▇▇▇▇███</td></tr><tr><td>train_loss</td><td>███▆▇▄▃▃▃▃▃▃▃▃▃▃▃▃▂▂▂▂▁▁▁▁▁▁▁▁▂▁▁▁▁▁▁▁▁▂</td></tr><tr><td>train_rmse</td><td>███▆▇▄▃▄▃▃▃▃▃▄▃▃▃▃▂▂▂▂▁▁▁▁▁▁▁▁▂▁▁▁▁▁▁▁▁▂</td></tr><tr><td>val_mae</td><td>▅██▇▅▃▄▃▂▂▂▂▂▂▂▂▂▁▁▁▁▁▁▁▂▂▂▃▃▂▁▁▁▁▁▁▁▁▁▁</td></tr><tr><td>val_rmse</td><td>▆██▇▆▄▄▄▃▃▃▃▃▃▂▂▂▂▂▂▂▂▂▂▂▂▃▃▃▂▁▁▁▁▁▁▁▁▁▁</td></tr></table><br/></div><div class=\"wandb-col\"><h3>Run summary:</h3><br/><table class=\"wandb\"><tr><td>epoch</td><td>39</td></tr><tr><td>train_loss</td><td>0.0017</td></tr><tr><td>train_rmse</td><td>0.40532</td></tr><tr><td>val_mae</td><td>0.28443</td></tr><tr><td>val_rmse</td><td>0.39889</td></tr></table><br/></div></div>"
     },
     "metadata": {},
     "output_type": "display_data"
    },
    {
     "data": {
      "text/plain": "<IPython.core.display.HTML object>",
      "text/html": " View run <strong style=\"color:#cdcd00\">brisk-sweep-24</strong> at: <a href='https://wandb.ai/bhavye-mathur/MERRA2-U-July2023/runs/45y9fomy' target=\"_blank\">https://wandb.ai/bhavye-mathur/MERRA2-U-July2023/runs/45y9fomy</a><br/>Synced 5 W&B file(s), 0 media file(s), 0 artifact file(s) and 0 other file(s)"
     },
     "metadata": {},
     "output_type": "display_data"
    },
    {
     "data": {
      "text/plain": "<IPython.core.display.HTML object>",
      "text/html": "Find logs at: <code>./wandb/run-20230719_232714-45y9fomy/logs</code>"
     },
     "metadata": {},
     "output_type": "display_data"
    },
    {
     "name": "stderr",
     "output_type": "stream",
     "text": [
      "\u001B[34m\u001B[1mwandb\u001B[0m: Sweep Agent: Waiting for job.\n",
      "\u001B[34m\u001B[1mwandb\u001B[0m: Job received.\n",
      "\u001B[34m\u001B[1mwandb\u001B[0m: Agent Starting Run: ikp25a4g with config:\n",
      "\u001B[34m\u001B[1mwandb\u001B[0m: \tactivation: ELU\n",
      "\u001B[34m\u001B[1mwandb\u001B[0m: \tbatch_size: 16384\n",
      "\u001B[34m\u001B[1mwandb\u001B[0m: \tdataset: NGCT\n",
      "\u001B[34m\u001B[1mwandb\u001B[0m: \tepochs: 40\n",
      "\u001B[34m\u001B[1mwandb\u001B[0m: \testimate_quantile: 0.9935\n",
      "\u001B[34m\u001B[1mwandb\u001B[0m: \tlayers: [512, 256, 128]\n",
      "\u001B[34m\u001B[1mwandb\u001B[0m: \tlearning_rate: 0.0009283572882367396\n",
      "\u001B[34m\u001B[1mwandb\u001B[0m: \tlr_scheduler: StepLR\n",
      "\u001B[34m\u001B[1mwandb\u001B[0m: \tlr_scheduler_kwargs: {'gamma': 0.7360989796055823, 'step_size': 10}\n"
     ]
    },
    {
     "data": {
      "text/plain": "VBox(children=(Label(value='Waiting for wandb.init()...\\r'), FloatProgress(value=0.016752370132599025, max=1.0…",
      "application/vnd.jupyter.widget-view+json": {
       "version_major": 2,
       "version_minor": 0,
       "model_id": "e824056e8977483bbf557d80ac2d9f3c"
      }
     },
     "metadata": {},
     "output_type": "display_data"
    },
    {
     "data": {
      "text/plain": "<IPython.core.display.HTML object>",
      "text/html": "Tracking run with wandb version 0.15.5"
     },
     "metadata": {},
     "output_type": "display_data"
    },
    {
     "data": {
      "text/plain": "<IPython.core.display.HTML object>",
      "text/html": "Run data is saved locally in <code>/Users/bhavyemathur/Desktop/Projects/Spherindrical Fourier Transform/MERRA-2/wind-prediction/models/wandb/run-20230719_233417-ikp25a4g</code>"
     },
     "metadata": {},
     "output_type": "display_data"
    },
    {
     "data": {
      "text/plain": "<IPython.core.display.HTML object>",
      "text/html": "Syncing run <strong><a href='https://wandb.ai/bhavye-mathur/MERRA2-U-July2023/runs/ikp25a4g' target=\"_blank\">wise-sweep-25</a></strong> to <a href='https://wandb.ai/bhavye-mathur/MERRA2-U-July2023' target=\"_blank\">Weights & Biases</a> (<a href='https://wandb.me/run' target=\"_blank\">docs</a>)<br/>Sweep page: <a href='https://wandb.ai/bhavye-mathur/MERRA2-U-July2023/sweeps/4zc8713b' target=\"_blank\">https://wandb.ai/bhavye-mathur/MERRA2-U-July2023/sweeps/4zc8713b</a>"
     },
     "metadata": {},
     "output_type": "display_data"
    },
    {
     "data": {
      "text/plain": "<IPython.core.display.HTML object>",
      "text/html": " View project at <a href='https://wandb.ai/bhavye-mathur/MERRA2-U-July2023' target=\"_blank\">https://wandb.ai/bhavye-mathur/MERRA2-U-July2023</a>"
     },
     "metadata": {},
     "output_type": "display_data"
    },
    {
     "data": {
      "text/plain": "<IPython.core.display.HTML object>",
      "text/html": " View sweep at <a href='https://wandb.ai/bhavye-mathur/MERRA2-U-July2023/sweeps/4zc8713b' target=\"_blank\">https://wandb.ai/bhavye-mathur/MERRA2-U-July2023/sweeps/4zc8713b</a>"
     },
     "metadata": {},
     "output_type": "display_data"
    },
    {
     "data": {
      "text/plain": "<IPython.core.display.HTML object>",
      "text/html": " View run at <a href='https://wandb.ai/bhavye-mathur/MERRA2-U-July2023/runs/ikp25a4g' target=\"_blank\">https://wandb.ai/bhavye-mathur/MERRA2-U-July2023/runs/ikp25a4g</a>"
     },
     "metadata": {},
     "output_type": "display_data"
    },
    {
     "name": "stdout",
     "output_type": "stream",
     "text": [
      "Sequential(\n",
      "  (0): Linear(in_features=15, out_features=512, bias=True)\n",
      "  (1): ELU(alpha=1.0)\n",
      "  (2): Linear(in_features=512, out_features=256, bias=True)\n",
      "  (3): ELU(alpha=1.0)\n",
      "  (4): Linear(in_features=256, out_features=128, bias=True)\n",
      "  (5): ELU(alpha=1.0)\n",
      "  (6): Linear(in_features=128, out_features=1, bias=True)\n",
      ")\n"
     ]
    },
    {
     "data": {
      "text/plain": "  0%|          | 0/40 [00:00<?, ?it/s]",
      "application/vnd.jupyter.widget-view+json": {
       "version_major": 2,
       "version_minor": 0,
       "model_id": "625002f4b105418e8b27bdb3860a0e9d"
      }
     },
     "metadata": {},
     "output_type": "display_data"
    },
    {
     "name": "stdout",
     "output_type": "stream",
     "text": [
      "0 1 2 3 4 5 6 7 8 9 10 11 12 13 "
     ]
    },
    {
     "data": {
      "text/plain": "<IPython.core.display.HTML object>",
      "text/html": "Waiting for W&B process to finish... <strong style=\"color:red\">(failed 1).</strong> Press Control-C to abort syncing."
     },
     "metadata": {},
     "output_type": "display_data"
    },
    {
     "data": {
      "text/plain": "VBox(children=(Label(value='0.001 MB of 0.001 MB uploaded (0.000 MB deduped)\\r'), FloatProgress(value=1.0, max…",
      "application/vnd.jupyter.widget-view+json": {
       "version_major": 2,
       "version_minor": 0,
       "model_id": "5291c56251164209b793b0286482f63e"
      }
     },
     "metadata": {},
     "output_type": "display_data"
    },
    {
     "data": {
      "text/plain": "<IPython.core.display.HTML object>",
      "text/html": "<style>\n    table.wandb td:nth-child(1) { padding: 0 10px; text-align: left ; width: auto;} td:nth-child(2) {text-align: left ; width: 100%}\n    .wandb-row { display: flex; flex-direction: row; flex-wrap: wrap; justify-content: flex-start; width: 100% }\n    .wandb-col { display: flex; flex-direction: column; flex-basis: 100%; flex: 1; padding: 10px; }\n    </style>\n<div class=\"wandb-row\"><div class=\"wandb-col\"><h3>Run history:</h3><br/><table class=\"wandb\"><tr><td>epoch</td><td>▁▂▂▃▃▄▄▅▅▆▆▇▇█</td></tr><tr><td>lr</td><td>█████████▁▁▁▁</td></tr><tr><td>train_loss</td><td>█▂▂▁▁▁▁▁▁▁▁▁▁▁▁▂▁▁▂▁▁▂▁▁▂▁▁▁▁▁▁▁▁▁▁▁▁▁▁▁</td></tr><tr><td>train_rmse</td><td>█▂▂▁▁▁▁▁▁▁▂▁▁▁▁▂▁▁▂▁▁▂▁▁▂▁▁▁▁▁▁▁▁▁▁▁▁▁▁▁</td></tr><tr><td>val_mae</td><td>▃█▇▇▇▆▆▃▃▄▁▁▁▁</td></tr><tr><td>val_rmse</td><td>▅█▇▇▇▅▆▃▃▄▂▁▁▁</td></tr></table><br/></div><div class=\"wandb-col\"><h3>Run summary:</h3><br/><table class=\"wandb\"><tr><td>epoch</td><td>13</td></tr><tr><td>lr</td><td>0.00068</td></tr><tr><td>train_loss</td><td>0.0017</td></tr><tr><td>train_rmse</td><td>0.40545</td></tr><tr><td>val_mae</td><td>0.28828</td></tr><tr><td>val_rmse</td><td>0.40763</td></tr></table><br/></div></div>"
     },
     "metadata": {},
     "output_type": "display_data"
    },
    {
     "data": {
      "text/plain": "<IPython.core.display.HTML object>",
      "text/html": " View run <strong style=\"color:#cdcd00\">wise-sweep-25</strong> at: <a href='https://wandb.ai/bhavye-mathur/MERRA2-U-July2023/runs/ikp25a4g' target=\"_blank\">https://wandb.ai/bhavye-mathur/MERRA2-U-July2023/runs/ikp25a4g</a><br/>Synced 5 W&B file(s), 0 media file(s), 0 artifact file(s) and 0 other file(s)"
     },
     "metadata": {},
     "output_type": "display_data"
    },
    {
     "data": {
      "text/plain": "<IPython.core.display.HTML object>",
      "text/html": "Find logs at: <code>./wandb/run-20230719_233417-ikp25a4g/logs</code>"
     },
     "metadata": {},
     "output_type": "display_data"
    },
    {
     "name": "stderr",
     "output_type": "stream",
     "text": [
      "\u001B[34m\u001B[1mwandb\u001B[0m: Agent Starting Run: 0xr9ir94 with config:\n",
      "\u001B[34m\u001B[1mwandb\u001B[0m: \tactivation: PReLU\n",
      "\u001B[34m\u001B[1mwandb\u001B[0m: \tbatch_size: 8192\n",
      "\u001B[34m\u001B[1mwandb\u001B[0m: \tdataset: NGCT\n",
      "\u001B[34m\u001B[1mwandb\u001B[0m: \tepochs: 40\n",
      "\u001B[34m\u001B[1mwandb\u001B[0m: \testimate_quantile: 0.9935\n",
      "\u001B[34m\u001B[1mwandb\u001B[0m: \tlayers: [256, 128]\n",
      "\u001B[34m\u001B[1mwandb\u001B[0m: \tlearning_rate: 0.0007388587546451191\n",
      "\u001B[34m\u001B[1mwandb\u001B[0m: \tlr_scheduler: StepLR\n",
      "\u001B[34m\u001B[1mwandb\u001B[0m: \tlr_scheduler_kwargs: {'gamma': 0.7328372985121936, 'step_size': 11}\n"
     ]
    },
    {
     "data": {
      "text/plain": "VBox(children=(Label(value='Waiting for wandb.init()...\\r'), FloatProgress(value=0.016689457633765413, max=1.0…",
      "application/vnd.jupyter.widget-view+json": {
       "version_major": 2,
       "version_minor": 0,
       "model_id": "d711e0b285554929988af3cc1f38c0eb"
      }
     },
     "metadata": {},
     "output_type": "display_data"
    },
    {
     "data": {
      "text/plain": "<IPython.core.display.HTML object>",
      "text/html": "Tracking run with wandb version 0.15.5"
     },
     "metadata": {},
     "output_type": "display_data"
    },
    {
     "data": {
      "text/plain": "<IPython.core.display.HTML object>",
      "text/html": "Run data is saved locally in <code>/Users/bhavyemathur/Desktop/Projects/Spherindrical Fourier Transform/MERRA-2/wind-prediction/models/wandb/run-20230719_233518-0xr9ir94</code>"
     },
     "metadata": {},
     "output_type": "display_data"
    },
    {
     "data": {
      "text/plain": "<IPython.core.display.HTML object>",
      "text/html": "Syncing run <strong><a href='https://wandb.ai/bhavye-mathur/MERRA2-U-July2023/runs/0xr9ir94' target=\"_blank\">true-sweep-26</a></strong> to <a href='https://wandb.ai/bhavye-mathur/MERRA2-U-July2023' target=\"_blank\">Weights & Biases</a> (<a href='https://wandb.me/run' target=\"_blank\">docs</a>)<br/>Sweep page: <a href='https://wandb.ai/bhavye-mathur/MERRA2-U-July2023/sweeps/4zc8713b' target=\"_blank\">https://wandb.ai/bhavye-mathur/MERRA2-U-July2023/sweeps/4zc8713b</a>"
     },
     "metadata": {},
     "output_type": "display_data"
    },
    {
     "data": {
      "text/plain": "<IPython.core.display.HTML object>",
      "text/html": " View project at <a href='https://wandb.ai/bhavye-mathur/MERRA2-U-July2023' target=\"_blank\">https://wandb.ai/bhavye-mathur/MERRA2-U-July2023</a>"
     },
     "metadata": {},
     "output_type": "display_data"
    },
    {
     "data": {
      "text/plain": "<IPython.core.display.HTML object>",
      "text/html": " View sweep at <a href='https://wandb.ai/bhavye-mathur/MERRA2-U-July2023/sweeps/4zc8713b' target=\"_blank\">https://wandb.ai/bhavye-mathur/MERRA2-U-July2023/sweeps/4zc8713b</a>"
     },
     "metadata": {},
     "output_type": "display_data"
    },
    {
     "data": {
      "text/plain": "<IPython.core.display.HTML object>",
      "text/html": " View run at <a href='https://wandb.ai/bhavye-mathur/MERRA2-U-July2023/runs/0xr9ir94' target=\"_blank\">https://wandb.ai/bhavye-mathur/MERRA2-U-July2023/runs/0xr9ir94</a>"
     },
     "metadata": {},
     "output_type": "display_data"
    },
    {
     "name": "stdout",
     "output_type": "stream",
     "text": [
      "Sequential(\n",
      "  (0): Linear(in_features=15, out_features=256, bias=True)\n",
      "  (1): PReLU(num_parameters=1)\n",
      "  (2): Linear(in_features=256, out_features=128, bias=True)\n",
      "  (3): PReLU(num_parameters=1)\n",
      "  (4): Linear(in_features=128, out_features=1, bias=True)\n",
      ")\n"
     ]
    },
    {
     "data": {
      "text/plain": "  0%|          | 0/40 [00:00<?, ?it/s]",
      "application/vnd.jupyter.widget-view+json": {
       "version_major": 2,
       "version_minor": 0,
       "model_id": "d751894aaa9140f8b3e5a95394d8e585"
      }
     },
     "metadata": {},
     "output_type": "display_data"
    },
    {
     "name": "stdout",
     "output_type": "stream",
     "text": [
      "0 1 2 3 4 5 6 7 8 9 10 11 12 13 14 15 16 17 18 19 20 21 22 23 24 25 26 27 28 29 30 31 32 33 34 35 36 37 38 39 "
     ]
    },
    {
     "data": {
      "text/plain": "<IPython.core.display.HTML object>",
      "text/html": "Waiting for W&B process to finish... <strong style=\"color:green\">(success).</strong>"
     },
     "metadata": {},
     "output_type": "display_data"
    },
    {
     "data": {
      "text/plain": "<IPython.core.display.HTML object>",
      "text/html": "<style>\n    table.wandb td:nth-child(1) { padding: 0 10px; text-align: left ; width: auto;} td:nth-child(2) {text-align: left ; width: 100%}\n    .wandb-row { display: flex; flex-direction: row; flex-wrap: wrap; justify-content: flex-start; width: 100% }\n    .wandb-col { display: flex; flex-direction: column; flex-basis: 100%; flex: 1; padding: 10px; }\n    </style>\n<div class=\"wandb-row\"><div class=\"wandb-col\"><h3>Run history:</h3><br/><table class=\"wandb\"><tr><td>epoch</td><td>▁▁▁▂▂▂▂▂▂▃▃▃▃▃▄▄▄▄▄▄▅▅▅▅▅▅▆▆▆▆▆▇▇▇▇▇▇███</td></tr><tr><td>lr</td><td>██████████▅▅▅▅▅▅▅▅▅▅▅▃▃▃▃▃▃▃▃▃▃▃▁▁▁▁▁▁▁▁</td></tr><tr><td>train_loss</td><td>█▄▃▃▃▃▂▂▂▂▂▂▂▂▂▂▂▂▂▂▂▂▂▂▁▁▁▁▁▁▁▁▁▁▁▁▁▁▁▁</td></tr><tr><td>train_rmse</td><td>█▄▄▃▃▃▂▂▂▂▂▂▂▂▂▂▂▂▂▂▂▂▂▂▂▂▂▂▂▂▁▁▁▁▁▁▁▁▁▁</td></tr><tr><td>val_mae</td><td>█▅▄▃▃▃▂▂▂▂▂▂▂▂▂▂▂▂▂▂▂▂▁▁▁▁▁▁▁▁▁▁▁▁▁▁▁▁▁▁</td></tr><tr><td>val_rmse</td><td>█▅▄▃▃▃▂▂▃▂▂▂▂▂▂▂▂▂▂▂▂▂▁▂▂▂▂▂▂▂▁▁▁▁▁▁▁▁▁▁</td></tr></table><br/></div><div class=\"wandb-col\"><h3>Run summary:</h3><br/><table class=\"wandb\"><tr><td>epoch</td><td>39</td></tr><tr><td>lr</td><td>0.00029</td></tr><tr><td>train_loss</td><td>0.00166</td></tr><tr><td>train_rmse</td><td>0.40062</td></tr><tr><td>val_mae</td><td>0.28514</td></tr><tr><td>val_rmse</td><td>0.40193</td></tr></table><br/></div></div>"
     },
     "metadata": {},
     "output_type": "display_data"
    },
    {
     "data": {
      "text/plain": "<IPython.core.display.HTML object>",
      "text/html": " View run <strong style=\"color:#cdcd00\">true-sweep-26</strong> at: <a href='https://wandb.ai/bhavye-mathur/MERRA2-U-July2023/runs/0xr9ir94' target=\"_blank\">https://wandb.ai/bhavye-mathur/MERRA2-U-July2023/runs/0xr9ir94</a><br/>Synced 5 W&B file(s), 0 media file(s), 0 artifact file(s) and 0 other file(s)"
     },
     "metadata": {},
     "output_type": "display_data"
    },
    {
     "data": {
      "text/plain": "<IPython.core.display.HTML object>",
      "text/html": "Find logs at: <code>./wandb/run-20230719_233518-0xr9ir94/logs</code>"
     },
     "metadata": {},
     "output_type": "display_data"
    },
    {
     "name": "stderr",
     "output_type": "stream",
     "text": [
      "\u001B[34m\u001B[1mwandb\u001B[0m: Sweep Agent: Waiting for job.\n",
      "500 response executing GraphQL.\n",
      "{\"errors\":[{\"message\":\"Post \\\"http://anaconda2.default.svc.cluster.local/search\\\": read tcp 10.52.2.5:47384-\\u003e10.55.247.53:80: read: connection reset by peer\",\"path\":[\"agentHeartbeat\"]}],\"data\":{\"agentHeartbeat\":null}}\n",
      "\u001B[34m\u001B[1mwandb\u001B[0m: \u001B[32m\u001B[41mERROR\u001B[0m Error while calling W&B API: Post \"http://anaconda2.default.svc.cluster.local/search\": read tcp 10.52.2.5:47384->10.55.247.53:80: read: connection reset by peer (<Response [500]>)\n",
      "\u001B[34m\u001B[1mwandb\u001B[0m: Job received.\n",
      "\u001B[34m\u001B[1mwandb\u001B[0m: Agent Starting Run: pwf9mxzt with config:\n",
      "\u001B[34m\u001B[1mwandb\u001B[0m: \tactivation: LeakyReLU\n",
      "\u001B[34m\u001B[1mwandb\u001B[0m: \tbatch_size: 16384\n",
      "\u001B[34m\u001B[1mwandb\u001B[0m: \tdataset: NGCT\n",
      "\u001B[34m\u001B[1mwandb\u001B[0m: \tepochs: 40\n",
      "\u001B[34m\u001B[1mwandb\u001B[0m: \testimate_quantile: 0.9935\n",
      "\u001B[34m\u001B[1mwandb\u001B[0m: \tlayers: [512, 256]\n",
      "\u001B[34m\u001B[1mwandb\u001B[0m: \tlearning_rate: 0.00029090590377751826\n",
      "\u001B[34m\u001B[1mwandb\u001B[0m: \tlr_scheduler: None\n",
      "\u001B[34m\u001B[1mwandb\u001B[0m: \tlr_scheduler_kwargs: {'gamma': 0.7027433750423142, 'step_size': 18}\n"
     ]
    },
    {
     "data": {
      "text/plain": "<IPython.core.display.HTML object>",
      "text/html": "Tracking run with wandb version 0.15.5"
     },
     "metadata": {},
     "output_type": "display_data"
    },
    {
     "data": {
      "text/plain": "<IPython.core.display.HTML object>",
      "text/html": "Run data is saved locally in <code>/Users/bhavyemathur/Desktop/Projects/Spherindrical Fourier Transform/MERRA-2/wind-prediction/models/wandb/run-20230719_233813-pwf9mxzt</code>"
     },
     "metadata": {},
     "output_type": "display_data"
    },
    {
     "data": {
      "text/plain": "<IPython.core.display.HTML object>",
      "text/html": "Syncing run <strong><a href='https://wandb.ai/bhavye-mathur/MERRA2-U-July2023/runs/pwf9mxzt' target=\"_blank\">neat-sweep-27</a></strong> to <a href='https://wandb.ai/bhavye-mathur/MERRA2-U-July2023' target=\"_blank\">Weights & Biases</a> (<a href='https://wandb.me/run' target=\"_blank\">docs</a>)<br/>Sweep page: <a href='https://wandb.ai/bhavye-mathur/MERRA2-U-July2023/sweeps/4zc8713b' target=\"_blank\">https://wandb.ai/bhavye-mathur/MERRA2-U-July2023/sweeps/4zc8713b</a>"
     },
     "metadata": {},
     "output_type": "display_data"
    },
    {
     "data": {
      "text/plain": "<IPython.core.display.HTML object>",
      "text/html": " View project at <a href='https://wandb.ai/bhavye-mathur/MERRA2-U-July2023' target=\"_blank\">https://wandb.ai/bhavye-mathur/MERRA2-U-July2023</a>"
     },
     "metadata": {},
     "output_type": "display_data"
    },
    {
     "data": {
      "text/plain": "<IPython.core.display.HTML object>",
      "text/html": " View sweep at <a href='https://wandb.ai/bhavye-mathur/MERRA2-U-July2023/sweeps/4zc8713b' target=\"_blank\">https://wandb.ai/bhavye-mathur/MERRA2-U-July2023/sweeps/4zc8713b</a>"
     },
     "metadata": {},
     "output_type": "display_data"
    },
    {
     "data": {
      "text/plain": "<IPython.core.display.HTML object>",
      "text/html": " View run at <a href='https://wandb.ai/bhavye-mathur/MERRA2-U-July2023/runs/pwf9mxzt' target=\"_blank\">https://wandb.ai/bhavye-mathur/MERRA2-U-July2023/runs/pwf9mxzt</a>"
     },
     "metadata": {},
     "output_type": "display_data"
    },
    {
     "name": "stdout",
     "output_type": "stream",
     "text": [
      "Sequential(\n",
      "  (0): Linear(in_features=15, out_features=512, bias=True)\n",
      "  (1): LeakyReLU(negative_slope=0.01)\n",
      "  (2): Linear(in_features=512, out_features=256, bias=True)\n",
      "  (3): LeakyReLU(negative_slope=0.01)\n",
      "  (4): Linear(in_features=256, out_features=1, bias=True)\n",
      ")\n"
     ]
    },
    {
     "data": {
      "text/plain": "  0%|          | 0/40 [00:00<?, ?it/s]",
      "application/vnd.jupyter.widget-view+json": {
       "version_major": 2,
       "version_minor": 0,
       "model_id": "e6a25799768847ea8bdbbb7bff1f7121"
      }
     },
     "metadata": {},
     "output_type": "display_data"
    },
    {
     "name": "stdout",
     "output_type": "stream",
     "text": [
      "0 1 2 3 4 5 6 7 8 9 10 11 12 13 14 15 "
     ]
    },
    {
     "data": {
      "text/plain": "<IPython.core.display.HTML object>",
      "text/html": "Waiting for W&B process to finish... <strong style=\"color:red\">(failed 1).</strong> Press Control-C to abort syncing."
     },
     "metadata": {},
     "output_type": "display_data"
    },
    {
     "data": {
      "text/plain": "VBox(children=(Label(value='0.001 MB of 0.001 MB uploaded (0.000 MB deduped)\\r'), FloatProgress(value=1.0, max…",
      "application/vnd.jupyter.widget-view+json": {
       "version_major": 2,
       "version_minor": 0,
       "model_id": "ec0313501c304405a1a435142b8d54d5"
      }
     },
     "metadata": {},
     "output_type": "display_data"
    },
    {
     "data": {
      "text/plain": "<IPython.core.display.HTML object>",
      "text/html": "<style>\n    table.wandb td:nth-child(1) { padding: 0 10px; text-align: left ; width: auto;} td:nth-child(2) {text-align: left ; width: 100%}\n    .wandb-row { display: flex; flex-direction: row; flex-wrap: wrap; justify-content: flex-start; width: 100% }\n    .wandb-col { display: flex; flex-direction: column; flex-basis: 100%; flex: 1; padding: 10px; }\n    </style>\n<div class=\"wandb-row\"><div class=\"wandb-col\"><h3>Run history:</h3><br/><table class=\"wandb\"><tr><td>epoch</td><td>▁▁▂▂▃▃▄▄▅▅▆▆▇▇██</td></tr><tr><td>train_loss</td><td>█▄▃▂▂▂▂▂▂▁▂▂▂▂▁▁▁▁▂▁▁▂▁▂▁▁▁▁▂▁▁▁▁▂▁▁▁▁▁▁</td></tr><tr><td>train_rmse</td><td>█▄▃▃▂▂▂▂▂▂▂▂▂▂▁▁▂▂▂▁▁▂▂▂▁▁▁▁▂▁▁▁▁▂▁▁▁▁▂▁</td></tr><tr><td>val_mae</td><td>█▅▄▃▃▂▂▂▂▁▁▁▁▁▁▁</td></tr><tr><td>val_rmse</td><td>█▅▄▃▃▂▂▂▂▁▁▁▁▁▁▁</td></tr></table><br/></div><div class=\"wandb-col\"><h3>Run summary:</h3><br/><table class=\"wandb\"><tr><td>epoch</td><td>15</td></tr><tr><td>train_loss</td><td>0.0017</td></tr><tr><td>train_rmse</td><td>0.4059</td></tr><tr><td>val_mae</td><td>0.2875</td></tr><tr><td>val_rmse</td><td>0.40543</td></tr></table><br/></div></div>"
     },
     "metadata": {},
     "output_type": "display_data"
    },
    {
     "data": {
      "text/plain": "<IPython.core.display.HTML object>",
      "text/html": " View run <strong style=\"color:#cdcd00\">neat-sweep-27</strong> at: <a href='https://wandb.ai/bhavye-mathur/MERRA2-U-July2023/runs/pwf9mxzt' target=\"_blank\">https://wandb.ai/bhavye-mathur/MERRA2-U-July2023/runs/pwf9mxzt</a><br/>Synced 5 W&B file(s), 0 media file(s), 0 artifact file(s) and 0 other file(s)"
     },
     "metadata": {},
     "output_type": "display_data"
    },
    {
     "data": {
      "text/plain": "<IPython.core.display.HTML object>",
      "text/html": "Find logs at: <code>./wandb/run-20230719_233813-pwf9mxzt/logs</code>"
     },
     "metadata": {},
     "output_type": "display_data"
    },
    {
     "name": "stderr",
     "output_type": "stream",
     "text": [
      "\u001B[34m\u001B[1mwandb\u001B[0m: Agent Starting Run: ewpcfomy with config:\n",
      "\u001B[34m\u001B[1mwandb\u001B[0m: \tactivation: LeakyReLU\n",
      "\u001B[34m\u001B[1mwandb\u001B[0m: \tbatch_size: 65536\n",
      "\u001B[34m\u001B[1mwandb\u001B[0m: \tdataset: NGCT\n",
      "\u001B[34m\u001B[1mwandb\u001B[0m: \tepochs: 40\n",
      "\u001B[34m\u001B[1mwandb\u001B[0m: \testimate_quantile: 0.9935\n",
      "\u001B[34m\u001B[1mwandb\u001B[0m: \tlayers: [256, 128]\n",
      "\u001B[34m\u001B[1mwandb\u001B[0m: \tlearning_rate: 0.000861933483612348\n",
      "\u001B[34m\u001B[1mwandb\u001B[0m: \tlr_scheduler: None\n",
      "\u001B[34m\u001B[1mwandb\u001B[0m: \tlr_scheduler_kwargs: {'gamma': 0.3998468115240451, 'step_size': 10}\n"
     ]
    },
    {
     "data": {
      "text/plain": "<IPython.core.display.HTML object>",
      "text/html": "Tracking run with wandb version 0.15.5"
     },
     "metadata": {},
     "output_type": "display_data"
    },
    {
     "data": {
      "text/plain": "<IPython.core.display.HTML object>",
      "text/html": "Run data is saved locally in <code>/Users/bhavyemathur/Desktop/Projects/Spherindrical Fourier Transform/MERRA-2/wind-prediction/models/wandb/run-20230719_233915-ewpcfomy</code>"
     },
     "metadata": {},
     "output_type": "display_data"
    },
    {
     "data": {
      "text/plain": "<IPython.core.display.HTML object>",
      "text/html": "Syncing run <strong><a href='https://wandb.ai/bhavye-mathur/MERRA2-U-July2023/runs/ewpcfomy' target=\"_blank\">noble-sweep-28</a></strong> to <a href='https://wandb.ai/bhavye-mathur/MERRA2-U-July2023' target=\"_blank\">Weights & Biases</a> (<a href='https://wandb.me/run' target=\"_blank\">docs</a>)<br/>Sweep page: <a href='https://wandb.ai/bhavye-mathur/MERRA2-U-July2023/sweeps/4zc8713b' target=\"_blank\">https://wandb.ai/bhavye-mathur/MERRA2-U-July2023/sweeps/4zc8713b</a>"
     },
     "metadata": {},
     "output_type": "display_data"
    },
    {
     "data": {
      "text/plain": "<IPython.core.display.HTML object>",
      "text/html": " View project at <a href='https://wandb.ai/bhavye-mathur/MERRA2-U-July2023' target=\"_blank\">https://wandb.ai/bhavye-mathur/MERRA2-U-July2023</a>"
     },
     "metadata": {},
     "output_type": "display_data"
    },
    {
     "data": {
      "text/plain": "<IPython.core.display.HTML object>",
      "text/html": " View sweep at <a href='https://wandb.ai/bhavye-mathur/MERRA2-U-July2023/sweeps/4zc8713b' target=\"_blank\">https://wandb.ai/bhavye-mathur/MERRA2-U-July2023/sweeps/4zc8713b</a>"
     },
     "metadata": {},
     "output_type": "display_data"
    },
    {
     "data": {
      "text/plain": "<IPython.core.display.HTML object>",
      "text/html": " View run at <a href='https://wandb.ai/bhavye-mathur/MERRA2-U-July2023/runs/ewpcfomy' target=\"_blank\">https://wandb.ai/bhavye-mathur/MERRA2-U-July2023/runs/ewpcfomy</a>"
     },
     "metadata": {},
     "output_type": "display_data"
    },
    {
     "name": "stdout",
     "output_type": "stream",
     "text": [
      "Sequential(\n",
      "  (0): Linear(in_features=15, out_features=256, bias=True)\n",
      "  (1): LeakyReLU(negative_slope=0.01)\n",
      "  (2): Linear(in_features=256, out_features=128, bias=True)\n",
      "  (3): LeakyReLU(negative_slope=0.01)\n",
      "  (4): Linear(in_features=128, out_features=1, bias=True)\n",
      ")\n"
     ]
    },
    {
     "data": {
      "text/plain": "  0%|          | 0/40 [00:00<?, ?it/s]",
      "application/vnd.jupyter.widget-view+json": {
       "version_major": 2,
       "version_minor": 0,
       "model_id": "0ffa673efab04511a1c6d8c32b8e06cc"
      }
     },
     "metadata": {},
     "output_type": "display_data"
    },
    {
     "name": "stdout",
     "output_type": "stream",
     "text": [
      "0 1 2 3 4 5 6 7 8 9 10 11 12 13 14 15 16 "
     ]
    },
    {
     "data": {
      "text/plain": "<IPython.core.display.HTML object>",
      "text/html": "Waiting for W&B process to finish... <strong style=\"color:red\">(failed 1).</strong> Press Control-C to abort syncing."
     },
     "metadata": {},
     "output_type": "display_data"
    },
    {
     "data": {
      "text/plain": "VBox(children=(Label(value='0.001 MB of 0.001 MB uploaded (0.000 MB deduped)\\r'), FloatProgress(value=1.0, max…",
      "application/vnd.jupyter.widget-view+json": {
       "version_major": 2,
       "version_minor": 0,
       "model_id": "1d07bc769dd14cceb341c535efe336bf"
      }
     },
     "metadata": {},
     "output_type": "display_data"
    },
    {
     "data": {
      "text/plain": "<IPython.core.display.HTML object>",
      "text/html": "<style>\n    table.wandb td:nth-child(1) { padding: 0 10px; text-align: left ; width: auto;} td:nth-child(2) {text-align: left ; width: 100%}\n    .wandb-row { display: flex; flex-direction: row; flex-wrap: wrap; justify-content: flex-start; width: 100% }\n    .wandb-col { display: flex; flex-direction: column; flex-basis: 100%; flex: 1; padding: 10px; }\n    </style>\n<div class=\"wandb-row\"><div class=\"wandb-col\"><h3>Run history:</h3><br/><table class=\"wandb\"><tr><td>epoch</td><td>▁▁▂▂▃▃▄▄▅▅▅▆▆▇▇██</td></tr><tr><td>train_loss</td><td>█▄▃▂▂▂▂▁▁▁▁▁▁▁▁▁</td></tr><tr><td>train_rmse</td><td>█▄▃▂▂▂▂▁▁▁▁▁▁▁▁▁</td></tr><tr><td>val_mae</td><td>█▅▄▃▂▂▂▂▂▁▁▁▁▁▁▁</td></tr><tr><td>val_rmse</td><td>█▄▃▃▂▂▂▂▁▁▁▁▁▁▁▁</td></tr></table><br/></div><div class=\"wandb-col\"><h3>Run summary:</h3><br/><table class=\"wandb\"><tr><td>epoch</td><td>16</td></tr><tr><td>train_loss</td><td>0.0018</td></tr><tr><td>train_rmse</td><td>0.41754</td></tr><tr><td>val_mae</td><td>0.29513</td></tr><tr><td>val_rmse</td><td>0.41389</td></tr></table><br/></div></div>"
     },
     "metadata": {},
     "output_type": "display_data"
    },
    {
     "data": {
      "text/plain": "<IPython.core.display.HTML object>",
      "text/html": " View run <strong style=\"color:#cdcd00\">noble-sweep-28</strong> at: <a href='https://wandb.ai/bhavye-mathur/MERRA2-U-July2023/runs/ewpcfomy' target=\"_blank\">https://wandb.ai/bhavye-mathur/MERRA2-U-July2023/runs/ewpcfomy</a><br/>Synced 5 W&B file(s), 0 media file(s), 0 artifact file(s) and 0 other file(s)"
     },
     "metadata": {},
     "output_type": "display_data"
    },
    {
     "data": {
      "text/plain": "<IPython.core.display.HTML object>",
      "text/html": "Find logs at: <code>./wandb/run-20230719_233915-ewpcfomy/logs</code>"
     },
     "metadata": {},
     "output_type": "display_data"
    },
    {
     "name": "stderr",
     "output_type": "stream",
     "text": [
      "\u001B[34m\u001B[1mwandb\u001B[0m: Agent Starting Run: x0cvdyhx with config:\n",
      "\u001B[34m\u001B[1mwandb\u001B[0m: \tactivation: Softplus\n",
      "\u001B[34m\u001B[1mwandb\u001B[0m: \tbatch_size: 32768\n",
      "\u001B[34m\u001B[1mwandb\u001B[0m: \tdataset: NGCT\n",
      "\u001B[34m\u001B[1mwandb\u001B[0m: \tepochs: 40\n",
      "\u001B[34m\u001B[1mwandb\u001B[0m: \testimate_quantile: 0.9935\n",
      "\u001B[34m\u001B[1mwandb\u001B[0m: \tlayers: [256, 256, 32]\n",
      "\u001B[34m\u001B[1mwandb\u001B[0m: \tlearning_rate: 0.0008061622150643143\n",
      "\u001B[34m\u001B[1mwandb\u001B[0m: \tlr_scheduler: StepLR\n",
      "\u001B[34m\u001B[1mwandb\u001B[0m: \tlr_scheduler_kwargs: {'gamma': 0.32225873876759914, 'step_size': 13}\n"
     ]
    },
    {
     "data": {
      "text/plain": "<IPython.core.display.HTML object>",
      "text/html": "Tracking run with wandb version 0.15.5"
     },
     "metadata": {},
     "output_type": "display_data"
    },
    {
     "data": {
      "text/plain": "<IPython.core.display.HTML object>",
      "text/html": "Run data is saved locally in <code>/Users/bhavyemathur/Desktop/Projects/Spherindrical Fourier Transform/MERRA-2/wind-prediction/models/wandb/run-20230719_234005-x0cvdyhx</code>"
     },
     "metadata": {},
     "output_type": "display_data"
    },
    {
     "data": {
      "text/plain": "<IPython.core.display.HTML object>",
      "text/html": "Syncing run <strong><a href='https://wandb.ai/bhavye-mathur/MERRA2-U-July2023/runs/x0cvdyhx' target=\"_blank\">neat-sweep-29</a></strong> to <a href='https://wandb.ai/bhavye-mathur/MERRA2-U-July2023' target=\"_blank\">Weights & Biases</a> (<a href='https://wandb.me/run' target=\"_blank\">docs</a>)<br/>Sweep page: <a href='https://wandb.ai/bhavye-mathur/MERRA2-U-July2023/sweeps/4zc8713b' target=\"_blank\">https://wandb.ai/bhavye-mathur/MERRA2-U-July2023/sweeps/4zc8713b</a>"
     },
     "metadata": {},
     "output_type": "display_data"
    },
    {
     "data": {
      "text/plain": "<IPython.core.display.HTML object>",
      "text/html": " View project at <a href='https://wandb.ai/bhavye-mathur/MERRA2-U-July2023' target=\"_blank\">https://wandb.ai/bhavye-mathur/MERRA2-U-July2023</a>"
     },
     "metadata": {},
     "output_type": "display_data"
    },
    {
     "data": {
      "text/plain": "<IPython.core.display.HTML object>",
      "text/html": " View sweep at <a href='https://wandb.ai/bhavye-mathur/MERRA2-U-July2023/sweeps/4zc8713b' target=\"_blank\">https://wandb.ai/bhavye-mathur/MERRA2-U-July2023/sweeps/4zc8713b</a>"
     },
     "metadata": {},
     "output_type": "display_data"
    },
    {
     "data": {
      "text/plain": "<IPython.core.display.HTML object>",
      "text/html": " View run at <a href='https://wandb.ai/bhavye-mathur/MERRA2-U-July2023/runs/x0cvdyhx' target=\"_blank\">https://wandb.ai/bhavye-mathur/MERRA2-U-July2023/runs/x0cvdyhx</a>"
     },
     "metadata": {},
     "output_type": "display_data"
    },
    {
     "name": "stdout",
     "output_type": "stream",
     "text": [
      "Sequential(\n",
      "  (0): Linear(in_features=15, out_features=256, bias=True)\n",
      "  (1): Softplus(beta=1, threshold=20)\n",
      "  (2): Linear(in_features=256, out_features=256, bias=True)\n",
      "  (3): Softplus(beta=1, threshold=20)\n",
      "  (4): Linear(in_features=256, out_features=32, bias=True)\n",
      "  (5): Softplus(beta=1, threshold=20)\n",
      "  (6): Linear(in_features=32, out_features=1, bias=True)\n",
      ")\n"
     ]
    },
    {
     "data": {
      "text/plain": "  0%|          | 0/40 [00:00<?, ?it/s]",
      "application/vnd.jupyter.widget-view+json": {
       "version_major": 2,
       "version_minor": 0,
       "model_id": "3b8f717798664590a04a1e962e5f61ff"
      }
     },
     "metadata": {},
     "output_type": "display_data"
    },
    {
     "name": "stdout",
     "output_type": "stream",
     "text": [
      "0 1 2 3 4 5 6 7 8 9 10 11 12 13 14 15 16 17 18 19 20 21 22 23 24 25 26 27 28 29 30 31 32 33 34 35 36 37 38 39 "
     ]
    },
    {
     "data": {
      "text/plain": "<IPython.core.display.HTML object>",
      "text/html": "Waiting for W&B process to finish... <strong style=\"color:green\">(success).</strong>"
     },
     "metadata": {},
     "output_type": "display_data"
    },
    {
     "data": {
      "text/plain": "VBox(children=(Label(value='0.001 MB of 0.003 MB uploaded (0.000 MB deduped)\\r'), FloatProgress(value=0.312405…",
      "application/vnd.jupyter.widget-view+json": {
       "version_major": 2,
       "version_minor": 0,
       "model_id": "57d1050506cc4fada23dd7f79052e66c"
      }
     },
     "metadata": {},
     "output_type": "display_data"
    },
    {
     "data": {
      "text/plain": "<IPython.core.display.HTML object>",
      "text/html": "<style>\n    table.wandb td:nth-child(1) { padding: 0 10px; text-align: left ; width: auto;} td:nth-child(2) {text-align: left ; width: 100%}\n    .wandb-row { display: flex; flex-direction: row; flex-wrap: wrap; justify-content: flex-start; width: 100% }\n    .wandb-col { display: flex; flex-direction: column; flex-basis: 100%; flex: 1; padding: 10px; }\n    </style>\n<div class=\"wandb-row\"><div class=\"wandb-col\"><h3>Run history:</h3><br/><table class=\"wandb\"><tr><td>epoch</td><td>▁▁▁▂▂▂▂▂▂▃▃▃▃▃▄▄▄▄▄▄▅▅▅▅▅▅▆▆▆▆▆▇▇▇▇▇▇███</td></tr><tr><td>lr</td><td>████████████▃▃▃▃▃▃▃▃▃▃▃▃▃▂▂▂▂▂▂▂▂▂▂▂▂▂▁▁</td></tr><tr><td>train_loss</td><td>█▂▂▁▁▁▁▁▂▁▁▁▁▁▁▁▁▁▁▁▁▁▁▁▁▁▁▁▁▁▁▁▁▁▁▁▁▁▁▁</td></tr><tr><td>train_rmse</td><td>█▂▂▁▂▁▁▁▂▁▁▁▁▁▁▁▁▁▁▁▁▁▁▁▁▁▁▁▁▁▁▁▁▁▁▁▁▁▁▁</td></tr><tr><td>val_mae</td><td>▃▂█▆▁▂▄▄▃▂▄▃▃▁▁▁▁▁▁▁▁▁▁▁▁▁▁▁▁▁▁▁▁▁▁▁▁▁▁▁</td></tr><tr><td>val_rmse</td><td>▄▃█▆▂▂▄▄▃▂▄▃▃▁▁▁▁▁▁▁▁▁▁▁▁▁▁▁▁▁▁▁▁▁▁▁▁▁▁▁</td></tr></table><br/></div><div class=\"wandb-col\"><h3>Run summary:</h3><br/><table class=\"wandb\"><tr><td>epoch</td><td>39</td></tr><tr><td>lr</td><td>3e-05</td></tr><tr><td>train_loss</td><td>0.00164</td></tr><tr><td>train_rmse</td><td>0.39859</td></tr><tr><td>val_mae</td><td>0.28396</td></tr><tr><td>val_rmse</td><td>0.40294</td></tr></table><br/></div></div>"
     },
     "metadata": {},
     "output_type": "display_data"
    },
    {
     "data": {
      "text/plain": "<IPython.core.display.HTML object>",
      "text/html": " View run <strong style=\"color:#cdcd00\">neat-sweep-29</strong> at: <a href='https://wandb.ai/bhavye-mathur/MERRA2-U-July2023/runs/x0cvdyhx' target=\"_blank\">https://wandb.ai/bhavye-mathur/MERRA2-U-July2023/runs/x0cvdyhx</a><br/>Synced 5 W&B file(s), 0 media file(s), 0 artifact file(s) and 0 other file(s)"
     },
     "metadata": {},
     "output_type": "display_data"
    },
    {
     "data": {
      "text/plain": "<IPython.core.display.HTML object>",
      "text/html": "Find logs at: <code>./wandb/run-20230719_234005-x0cvdyhx/logs</code>"
     },
     "metadata": {},
     "output_type": "display_data"
    },
    {
     "name": "stderr",
     "output_type": "stream",
     "text": [
      "\u001B[34m\u001B[1mwandb\u001B[0m: Sweep Agent: Waiting for job.\n",
      "\u001B[34m\u001B[1mwandb\u001B[0m: Job received.\n",
      "\u001B[34m\u001B[1mwandb\u001B[0m: Agent Starting Run: m7vygsyn with config:\n",
      "\u001B[34m\u001B[1mwandb\u001B[0m: \tactivation: PReLU\n",
      "\u001B[34m\u001B[1mwandb\u001B[0m: \tbatch_size: 65536\n",
      "\u001B[34m\u001B[1mwandb\u001B[0m: \tdataset: NGCT\n",
      "\u001B[34m\u001B[1mwandb\u001B[0m: \tepochs: 40\n",
      "\u001B[34m\u001B[1mwandb\u001B[0m: \testimate_quantile: 0.9935\n",
      "\u001B[34m\u001B[1mwandb\u001B[0m: \tlayers: [128, 64, 32]\n",
      "\u001B[34m\u001B[1mwandb\u001B[0m: \tlearning_rate: 0.0006616254656780672\n",
      "\u001B[34m\u001B[1mwandb\u001B[0m: \tlr_scheduler: StepLR\n",
      "\u001B[34m\u001B[1mwandb\u001B[0m: \tlr_scheduler_kwargs: {'gamma': 0.2780186830927862, 'step_size': 16}\n"
     ]
    },
    {
     "data": {
      "text/plain": "<IPython.core.display.HTML object>",
      "text/html": "Tracking run with wandb version 0.15.5"
     },
     "metadata": {},
     "output_type": "display_data"
    },
    {
     "data": {
      "text/plain": "<IPython.core.display.HTML object>",
      "text/html": "Run data is saved locally in <code>/Users/bhavyemathur/Desktop/Projects/Spherindrical Fourier Transform/MERRA-2/wind-prediction/models/wandb/run-20230719_234154-m7vygsyn</code>"
     },
     "metadata": {},
     "output_type": "display_data"
    },
    {
     "data": {
      "text/plain": "<IPython.core.display.HTML object>",
      "text/html": "Syncing run <strong><a href='https://wandb.ai/bhavye-mathur/MERRA2-U-July2023/runs/m7vygsyn' target=\"_blank\">robust-sweep-30</a></strong> to <a href='https://wandb.ai/bhavye-mathur/MERRA2-U-July2023' target=\"_blank\">Weights & Biases</a> (<a href='https://wandb.me/run' target=\"_blank\">docs</a>)<br/>Sweep page: <a href='https://wandb.ai/bhavye-mathur/MERRA2-U-July2023/sweeps/4zc8713b' target=\"_blank\">https://wandb.ai/bhavye-mathur/MERRA2-U-July2023/sweeps/4zc8713b</a>"
     },
     "metadata": {},
     "output_type": "display_data"
    },
    {
     "data": {
      "text/plain": "<IPython.core.display.HTML object>",
      "text/html": " View project at <a href='https://wandb.ai/bhavye-mathur/MERRA2-U-July2023' target=\"_blank\">https://wandb.ai/bhavye-mathur/MERRA2-U-July2023</a>"
     },
     "metadata": {},
     "output_type": "display_data"
    },
    {
     "data": {
      "text/plain": "<IPython.core.display.HTML object>",
      "text/html": " View sweep at <a href='https://wandb.ai/bhavye-mathur/MERRA2-U-July2023/sweeps/4zc8713b' target=\"_blank\">https://wandb.ai/bhavye-mathur/MERRA2-U-July2023/sweeps/4zc8713b</a>"
     },
     "metadata": {},
     "output_type": "display_data"
    },
    {
     "data": {
      "text/plain": "<IPython.core.display.HTML object>",
      "text/html": " View run at <a href='https://wandb.ai/bhavye-mathur/MERRA2-U-July2023/runs/m7vygsyn' target=\"_blank\">https://wandb.ai/bhavye-mathur/MERRA2-U-July2023/runs/m7vygsyn</a>"
     },
     "metadata": {},
     "output_type": "display_data"
    },
    {
     "name": "stdout",
     "output_type": "stream",
     "text": [
      "Sequential(\n",
      "  (0): Linear(in_features=15, out_features=128, bias=True)\n",
      "  (1): PReLU(num_parameters=1)\n",
      "  (2): Linear(in_features=128, out_features=64, bias=True)\n",
      "  (3): PReLU(num_parameters=1)\n",
      "  (4): Linear(in_features=64, out_features=32, bias=True)\n",
      "  (5): PReLU(num_parameters=1)\n",
      "  (6): Linear(in_features=32, out_features=1, bias=True)\n",
      ")\n"
     ]
    },
    {
     "data": {
      "text/plain": "  0%|          | 0/40 [00:00<?, ?it/s]",
      "application/vnd.jupyter.widget-view+json": {
       "version_major": 2,
       "version_minor": 0,
       "model_id": "65aea58c453d491397d745e956c91ca2"
      }
     },
     "metadata": {},
     "output_type": "display_data"
    },
    {
     "name": "stdout",
     "output_type": "stream",
     "text": [
      "0 1 2 3 4 5 6 7 8 9 10 11 12 13 14 15 16 17 18 19 20 21 22 23 24 25 26 27 28 29 30 31 32 33 34 35 36 37 38 39 "
     ]
    },
    {
     "data": {
      "text/plain": "<IPython.core.display.HTML object>",
      "text/html": "Waiting for W&B process to finish... <strong style=\"color:green\">(success).</strong>"
     },
     "metadata": {},
     "output_type": "display_data"
    },
    {
     "data": {
      "text/plain": "VBox(children=(Label(value='0.001 MB of 0.004 MB uploaded (0.000 MB deduped)\\r'), FloatProgress(value=0.273592…",
      "application/vnd.jupyter.widget-view+json": {
       "version_major": 2,
       "version_minor": 0,
       "model_id": "b63b6eaf7fdc4000abccf913192a89b7"
      }
     },
     "metadata": {},
     "output_type": "display_data"
    },
    {
     "data": {
      "text/plain": "<IPython.core.display.HTML object>",
      "text/html": "<style>\n    table.wandb td:nth-child(1) { padding: 0 10px; text-align: left ; width: auto;} td:nth-child(2) {text-align: left ; width: 100%}\n    .wandb-row { display: flex; flex-direction: row; flex-wrap: wrap; justify-content: flex-start; width: 100% }\n    .wandb-col { display: flex; flex-direction: column; flex-basis: 100%; flex: 1; padding: 10px; }\n    </style>\n<div class=\"wandb-row\"><div class=\"wandb-col\"><h3>Run history:</h3><br/><table class=\"wandb\"><tr><td>epoch</td><td>▁▁▁▂▂▂▂▂▂▃▃▃▃▃▄▄▄▄▄▄▅▅▅▅▅▅▆▆▆▆▆▇▇▇▇▇▇███</td></tr><tr><td>lr</td><td>███████████████▃▃▃▃▃▃▃▃▃▃▃▃▃▃▃▃▁▁▁▁▁▁▁▁▁</td></tr><tr><td>train_loss</td><td>█▃▂▂▂▁▁▁▁▁▁▁▁▁▁▁▁▁▁▁▁▁▁▁▁▁▁▁▁▁▁▁▁▁▁▁▁▁▁▁</td></tr><tr><td>train_rmse</td><td>█▃▂▂▂▂▂▁▁▁▁▁▁▁▁▁▁▁▁▁▁▁▁▁▁▁▁▁▁▁▁▁▁▁▁▁▁▁▁▁</td></tr><tr><td>val_mae</td><td>█▃▃▂▂▂▂▂▂▁▁▁▁▁▁▁▁▁▁▁▁▁▁▁▁▁▁▁▁▁▁▁▁▁▁▁▁▁▁▁</td></tr><tr><td>val_rmse</td><td>█▃▂▂▂▂▂▂▁▁▁▁▁▁▁▁▁▁▁▁▁▁▁▁▁▁▁▁▁▁▁▁▁▁▁▁▁▁▁▁</td></tr></table><br/></div><div class=\"wandb-col\"><h3>Run summary:</h3><br/><table class=\"wandb\"><tr><td>epoch</td><td>39</td></tr><tr><td>lr</td><td>5e-05</td></tr><tr><td>train_loss</td><td>0.00173</td></tr><tr><td>train_rmse</td><td>0.40902</td></tr><tr><td>val_mae</td><td>0.29125</td></tr><tr><td>val_rmse</td><td>0.40967</td></tr></table><br/></div></div>"
     },
     "metadata": {},
     "output_type": "display_data"
    },
    {
     "data": {
      "text/plain": "<IPython.core.display.HTML object>",
      "text/html": " View run <strong style=\"color:#cdcd00\">robust-sweep-30</strong> at: <a href='https://wandb.ai/bhavye-mathur/MERRA2-U-July2023/runs/m7vygsyn' target=\"_blank\">https://wandb.ai/bhavye-mathur/MERRA2-U-July2023/runs/m7vygsyn</a><br/>Synced 5 W&B file(s), 0 media file(s), 0 artifact file(s) and 0 other file(s)"
     },
     "metadata": {},
     "output_type": "display_data"
    },
    {
     "data": {
      "text/plain": "<IPython.core.display.HTML object>",
      "text/html": "Find logs at: <code>./wandb/run-20230719_234154-m7vygsyn/logs</code>"
     },
     "metadata": {},
     "output_type": "display_data"
    },
    {
     "name": "stderr",
     "output_type": "stream",
     "text": [
      "\u001B[34m\u001B[1mwandb\u001B[0m: Agent Starting Run: 9wgqejke with config:\n",
      "\u001B[34m\u001B[1mwandb\u001B[0m: \tactivation: ELU\n",
      "\u001B[34m\u001B[1mwandb\u001B[0m: \tbatch_size: 16384\n",
      "\u001B[34m\u001B[1mwandb\u001B[0m: \tdataset: NGCT\n",
      "\u001B[34m\u001B[1mwandb\u001B[0m: \tepochs: 40\n",
      "\u001B[34m\u001B[1mwandb\u001B[0m: \testimate_quantile: 0.9935\n",
      "\u001B[34m\u001B[1mwandb\u001B[0m: \tlayers: [256, 256, 32]\n",
      "\u001B[34m\u001B[1mwandb\u001B[0m: \tlearning_rate: 0.0004073950620156513\n",
      "\u001B[34m\u001B[1mwandb\u001B[0m: \tlr_scheduler: None\n",
      "\u001B[34m\u001B[1mwandb\u001B[0m: \tlr_scheduler_kwargs: {'gamma': 0.53322794092516, 'step_size': 12}\n"
     ]
    },
    {
     "data": {
      "text/plain": "<IPython.core.display.HTML object>",
      "text/html": "Tracking run with wandb version 0.15.5"
     },
     "metadata": {},
     "output_type": "display_data"
    },
    {
     "data": {
      "text/plain": "<IPython.core.display.HTML object>",
      "text/html": "Run data is saved locally in <code>/Users/bhavyemathur/Desktop/Projects/Spherindrical Fourier Transform/MERRA-2/wind-prediction/models/wandb/run-20230719_234251-9wgqejke</code>"
     },
     "metadata": {},
     "output_type": "display_data"
    },
    {
     "data": {
      "text/plain": "<IPython.core.display.HTML object>",
      "text/html": "Syncing run <strong><a href='https://wandb.ai/bhavye-mathur/MERRA2-U-July2023/runs/9wgqejke' target=\"_blank\">rich-sweep-31</a></strong> to <a href='https://wandb.ai/bhavye-mathur/MERRA2-U-July2023' target=\"_blank\">Weights & Biases</a> (<a href='https://wandb.me/run' target=\"_blank\">docs</a>)<br/>Sweep page: <a href='https://wandb.ai/bhavye-mathur/MERRA2-U-July2023/sweeps/4zc8713b' target=\"_blank\">https://wandb.ai/bhavye-mathur/MERRA2-U-July2023/sweeps/4zc8713b</a>"
     },
     "metadata": {},
     "output_type": "display_data"
    },
    {
     "data": {
      "text/plain": "<IPython.core.display.HTML object>",
      "text/html": " View project at <a href='https://wandb.ai/bhavye-mathur/MERRA2-U-July2023' target=\"_blank\">https://wandb.ai/bhavye-mathur/MERRA2-U-July2023</a>"
     },
     "metadata": {},
     "output_type": "display_data"
    },
    {
     "data": {
      "text/plain": "<IPython.core.display.HTML object>",
      "text/html": " View sweep at <a href='https://wandb.ai/bhavye-mathur/MERRA2-U-July2023/sweeps/4zc8713b' target=\"_blank\">https://wandb.ai/bhavye-mathur/MERRA2-U-July2023/sweeps/4zc8713b</a>"
     },
     "metadata": {},
     "output_type": "display_data"
    },
    {
     "data": {
      "text/plain": "<IPython.core.display.HTML object>",
      "text/html": " View run at <a href='https://wandb.ai/bhavye-mathur/MERRA2-U-July2023/runs/9wgqejke' target=\"_blank\">https://wandb.ai/bhavye-mathur/MERRA2-U-July2023/runs/9wgqejke</a>"
     },
     "metadata": {},
     "output_type": "display_data"
    },
    {
     "name": "stdout",
     "output_type": "stream",
     "text": [
      "Sequential(\n",
      "  (0): Linear(in_features=15, out_features=256, bias=True)\n",
      "  (1): ELU(alpha=1.0)\n",
      "  (2): Linear(in_features=256, out_features=256, bias=True)\n",
      "  (3): ELU(alpha=1.0)\n",
      "  (4): Linear(in_features=256, out_features=32, bias=True)\n",
      "  (5): ELU(alpha=1.0)\n",
      "  (6): Linear(in_features=32, out_features=1, bias=True)\n",
      ")\n"
     ]
    },
    {
     "data": {
      "text/plain": "  0%|          | 0/40 [00:00<?, ?it/s]",
      "application/vnd.jupyter.widget-view+json": {
       "version_major": 2,
       "version_minor": 0,
       "model_id": "3e795fc5ce0342ae9c42cfe03999a0df"
      }
     },
     "metadata": {},
     "output_type": "display_data"
    },
    {
     "name": "stdout",
     "output_type": "stream",
     "text": [
      "0 1 2 3 4 5 6 7 8 9 10 11 12 13 14 15 16 17 18 19 20 21 22 23 24 25 26 27 28 29 30 31 32 33 34 35 36 37 38 39 "
     ]
    },
    {
     "data": {
      "text/plain": "<IPython.core.display.HTML object>",
      "text/html": "Waiting for W&B process to finish... <strong style=\"color:green\">(success).</strong>"
     },
     "metadata": {},
     "output_type": "display_data"
    },
    {
     "data": {
      "text/plain": "VBox(children=(Label(value='0.001 MB of 0.001 MB uploaded (0.000 MB deduped)\\r'), FloatProgress(value=1.0, max…",
      "application/vnd.jupyter.widget-view+json": {
       "version_major": 2,
       "version_minor": 0,
       "model_id": "a643773b0f64435d8b7208eaa9daddd9"
      }
     },
     "metadata": {},
     "output_type": "display_data"
    },
    {
     "data": {
      "text/plain": "<IPython.core.display.HTML object>",
      "text/html": "<style>\n    table.wandb td:nth-child(1) { padding: 0 10px; text-align: left ; width: auto;} td:nth-child(2) {text-align: left ; width: 100%}\n    .wandb-row { display: flex; flex-direction: row; flex-wrap: wrap; justify-content: flex-start; width: 100% }\n    .wandb-col { display: flex; flex-direction: column; flex-basis: 100%; flex: 1; padding: 10px; }\n    </style>\n<div class=\"wandb-row\"><div class=\"wandb-col\"><h3>Run history:</h3><br/><table class=\"wandb\"><tr><td>epoch</td><td>▁▁▁▂▂▂▂▂▂▃▃▃▃▃▄▄▄▄▄▄▅▅▅▅▅▅▆▆▆▆▆▇▇▇▇▇▇███</td></tr><tr><td>train_loss</td><td>█▁▁▁▁▁▁▁▁▁▁▁▁▁▁▁▁▁▁▁▁▁▁▁▁▁▁▁▁▁▁▁▁▁▁▁▁▁▁▁</td></tr><tr><td>train_rmse</td><td>█▁▁▁▁▁▁▁▁▁▁▁▁▁▁▁▁▁▁▁▁▁▁▁▁▁▁▁▁▁▁▁▁▁▁▁▁▁▁▁</td></tr><tr><td>val_mae</td><td>█▃▂▂▂▁▁▁▁▁▁▁▁▁▁▁▁▁▂▂▁▁▁▁▁▁▁▁▁▁▁▁▁▁▁▁▁▁▁▁</td></tr><tr><td>val_rmse</td><td>█▃▂▂▁▁▁▁▁▁▁▁▁▁▁▁▁▁▁▁▁▁▁▁▁▁▁▁▁▁▁▁▁▁▁▁▁▁▁▁</td></tr></table><br/></div><div class=\"wandb-col\"><h3>Run summary:</h3><br/><table class=\"wandb\"><tr><td>epoch</td><td>39</td></tr><tr><td>train_loss</td><td>0.00169</td></tr><tr><td>train_rmse</td><td>0.40411</td></tr><tr><td>val_mae</td><td>0.28477</td></tr><tr><td>val_rmse</td><td>0.40226</td></tr></table><br/></div></div>"
     },
     "metadata": {},
     "output_type": "display_data"
    },
    {
     "data": {
      "text/plain": "<IPython.core.display.HTML object>",
      "text/html": " View run <strong style=\"color:#cdcd00\">rich-sweep-31</strong> at: <a href='https://wandb.ai/bhavye-mathur/MERRA2-U-July2023/runs/9wgqejke' target=\"_blank\">https://wandb.ai/bhavye-mathur/MERRA2-U-July2023/runs/9wgqejke</a><br/>Synced 5 W&B file(s), 0 media file(s), 0 artifact file(s) and 0 other file(s)"
     },
     "metadata": {},
     "output_type": "display_data"
    },
    {
     "data": {
      "text/plain": "<IPython.core.display.HTML object>",
      "text/html": "Find logs at: <code>./wandb/run-20230719_234251-9wgqejke/logs</code>"
     },
     "metadata": {},
     "output_type": "display_data"
    },
    {
     "name": "stderr",
     "output_type": "stream",
     "text": [
      "\u001B[34m\u001B[1mwandb\u001B[0m: Agent Starting Run: 2l0pedtp with config:\n",
      "\u001B[34m\u001B[1mwandb\u001B[0m: \tactivation: Softplus\n",
      "\u001B[34m\u001B[1mwandb\u001B[0m: \tbatch_size: 16384\n",
      "\u001B[34m\u001B[1mwandb\u001B[0m: \tdataset: NGCT\n",
      "\u001B[34m\u001B[1mwandb\u001B[0m: \tepochs: 40\n",
      "\u001B[34m\u001B[1mwandb\u001B[0m: \testimate_quantile: 0.9935\n",
      "\u001B[34m\u001B[1mwandb\u001B[0m: \tlayers: [256, 256, 32]\n",
      "\u001B[34m\u001B[1mwandb\u001B[0m: \tlearning_rate: 0.0005128254339268629\n",
      "\u001B[34m\u001B[1mwandb\u001B[0m: \tlr_scheduler: StepLR\n",
      "\u001B[34m\u001B[1mwandb\u001B[0m: \tlr_scheduler_kwargs: {'gamma': 0.5103039436361085, 'step_size': 14}\n"
     ]
    },
    {
     "data": {
      "text/plain": "<IPython.core.display.HTML object>",
      "text/html": "Tracking run with wandb version 0.15.5"
     },
     "metadata": {},
     "output_type": "display_data"
    },
    {
     "data": {
      "text/plain": "<IPython.core.display.HTML object>",
      "text/html": "Run data is saved locally in <code>/Users/bhavyemathur/Desktop/Projects/Spherindrical Fourier Transform/MERRA-2/wind-prediction/models/wandb/run-20230719_234501-2l0pedtp</code>"
     },
     "metadata": {},
     "output_type": "display_data"
    },
    {
     "data": {
      "text/plain": "<IPython.core.display.HTML object>",
      "text/html": "Syncing run <strong><a href='https://wandb.ai/bhavye-mathur/MERRA2-U-July2023/runs/2l0pedtp' target=\"_blank\">flowing-sweep-32</a></strong> to <a href='https://wandb.ai/bhavye-mathur/MERRA2-U-July2023' target=\"_blank\">Weights & Biases</a> (<a href='https://wandb.me/run' target=\"_blank\">docs</a>)<br/>Sweep page: <a href='https://wandb.ai/bhavye-mathur/MERRA2-U-July2023/sweeps/4zc8713b' target=\"_blank\">https://wandb.ai/bhavye-mathur/MERRA2-U-July2023/sweeps/4zc8713b</a>"
     },
     "metadata": {},
     "output_type": "display_data"
    },
    {
     "data": {
      "text/plain": "<IPython.core.display.HTML object>",
      "text/html": " View project at <a href='https://wandb.ai/bhavye-mathur/MERRA2-U-July2023' target=\"_blank\">https://wandb.ai/bhavye-mathur/MERRA2-U-July2023</a>"
     },
     "metadata": {},
     "output_type": "display_data"
    },
    {
     "data": {
      "text/plain": "<IPython.core.display.HTML object>",
      "text/html": " View sweep at <a href='https://wandb.ai/bhavye-mathur/MERRA2-U-July2023/sweeps/4zc8713b' target=\"_blank\">https://wandb.ai/bhavye-mathur/MERRA2-U-July2023/sweeps/4zc8713b</a>"
     },
     "metadata": {},
     "output_type": "display_data"
    },
    {
     "data": {
      "text/plain": "<IPython.core.display.HTML object>",
      "text/html": " View run at <a href='https://wandb.ai/bhavye-mathur/MERRA2-U-July2023/runs/2l0pedtp' target=\"_blank\">https://wandb.ai/bhavye-mathur/MERRA2-U-July2023/runs/2l0pedtp</a>"
     },
     "metadata": {},
     "output_type": "display_data"
    },
    {
     "name": "stdout",
     "output_type": "stream",
     "text": [
      "Sequential(\n",
      "  (0): Linear(in_features=15, out_features=256, bias=True)\n",
      "  (1): Softplus(beta=1, threshold=20)\n",
      "  (2): Linear(in_features=256, out_features=256, bias=True)\n",
      "  (3): Softplus(beta=1, threshold=20)\n",
      "  (4): Linear(in_features=256, out_features=32, bias=True)\n",
      "  (5): Softplus(beta=1, threshold=20)\n",
      "  (6): Linear(in_features=32, out_features=1, bias=True)\n",
      ")\n"
     ]
    },
    {
     "data": {
      "text/plain": "  0%|          | 0/40 [00:00<?, ?it/s]",
      "application/vnd.jupyter.widget-view+json": {
       "version_major": 2,
       "version_minor": 0,
       "model_id": "4834bab7decb46218011672cb61585e0"
      }
     },
     "metadata": {},
     "output_type": "display_data"
    },
    {
     "name": "stdout",
     "output_type": "stream",
     "text": [
      "0 1 2 3 4 5 6 7 8 9 10 11 12 13 14 15 16 17 18 19 20 21 22 23 24 25 26 27 28 29 30 31 32 33 34 35 36 37 38 39 "
     ]
    },
    {
     "data": {
      "text/plain": "<IPython.core.display.HTML object>",
      "text/html": "Waiting for W&B process to finish... <strong style=\"color:green\">(success).</strong>"
     },
     "metadata": {},
     "output_type": "display_data"
    },
    {
     "data": {
      "text/plain": "VBox(children=(Label(value='0.001 MB of 0.001 MB uploaded (0.000 MB deduped)\\r'), FloatProgress(value=1.0, max…",
      "application/vnd.jupyter.widget-view+json": {
       "version_major": 2,
       "version_minor": 0,
       "model_id": "3a0d8ae99d2e4d41bf78e904643160f0"
      }
     },
     "metadata": {},
     "output_type": "display_data"
    },
    {
     "data": {
      "text/plain": "<IPython.core.display.HTML object>",
      "text/html": "<style>\n    table.wandb td:nth-child(1) { padding: 0 10px; text-align: left ; width: auto;} td:nth-child(2) {text-align: left ; width: 100%}\n    .wandb-row { display: flex; flex-direction: row; flex-wrap: wrap; justify-content: flex-start; width: 100% }\n    .wandb-col { display: flex; flex-direction: column; flex-basis: 100%; flex: 1; padding: 10px; }\n    </style>\n<div class=\"wandb-row\"><div class=\"wandb-col\"><h3>Run history:</h3><br/><table class=\"wandb\"><tr><td>epoch</td><td>▁▁▁▂▂▂▂▂▂▃▃▃▃▃▄▄▄▄▄▄▅▅▅▅▅▅▆▆▆▆▆▇▇▇▇▇▇███</td></tr><tr><td>lr</td><td>█████████████▃▃▃▃▃▃▃▃▃▃▃▃▃▃▁▁▁▁▁▁▁▁▁▁▁▁▁</td></tr><tr><td>train_loss</td><td>▅▂▃▂▂▅█▃▃▁▁▁▁▁▁▁▁▂▃▃▃▃▂▂▂▂▂▂▁▁▁▁▁▁▁▁▁▁▁▁</td></tr><tr><td>train_rmse</td><td>▅▂▄▃▂▅█▃▃▁▁▁▁▁▁▁▁▃▃▃▃▃▃▃▂▂▂▂▁▁▁▁▁▁▁▁▁▁▁▁</td></tr><tr><td>val_mae</td><td>▄█▂▃▄▃▃▁▁▁▂▁▁▁▁▁▁▂▂▂▂▂▂▂▂▂▂▂▁▁▁▁▁▁▁▁▁▁▁▁</td></tr><tr><td>val_rmse</td><td>▆█▃▃▃▃▂▁▁▁▂▁▁▁▁▁▁▂▂▂▂▂▂▂▂▂▂▁▁▁▁▁▁▁▁▁▁▁▁▁</td></tr></table><br/></div><div class=\"wandb-col\"><h3>Run summary:</h3><br/><table class=\"wandb\"><tr><td>epoch</td><td>39</td></tr><tr><td>lr</td><td>0.00013</td></tr><tr><td>train_loss</td><td>0.00169</td></tr><tr><td>train_rmse</td><td>0.4044</td></tr><tr><td>val_mae</td><td>0.28499</td></tr><tr><td>val_rmse</td><td>0.40396</td></tr></table><br/></div></div>"
     },
     "metadata": {},
     "output_type": "display_data"
    },
    {
     "data": {
      "text/plain": "<IPython.core.display.HTML object>",
      "text/html": " View run <strong style=\"color:#cdcd00\">flowing-sweep-32</strong> at: <a href='https://wandb.ai/bhavye-mathur/MERRA2-U-July2023/runs/2l0pedtp' target=\"_blank\">https://wandb.ai/bhavye-mathur/MERRA2-U-July2023/runs/2l0pedtp</a><br/>Synced 5 W&B file(s), 0 media file(s), 0 artifact file(s) and 0 other file(s)"
     },
     "metadata": {},
     "output_type": "display_data"
    },
    {
     "data": {
      "text/plain": "<IPython.core.display.HTML object>",
      "text/html": "Find logs at: <code>./wandb/run-20230719_234501-2l0pedtp/logs</code>"
     },
     "metadata": {},
     "output_type": "display_data"
    },
    {
     "name": "stderr",
     "output_type": "stream",
     "text": [
      "\u001B[34m\u001B[1mwandb\u001B[0m: Agent Starting Run: 688ll3n4 with config:\n",
      "\u001B[34m\u001B[1mwandb\u001B[0m: \tactivation: ELU\n",
      "\u001B[34m\u001B[1mwandb\u001B[0m: \tbatch_size: 16384\n",
      "\u001B[34m\u001B[1mwandb\u001B[0m: \tdataset: NGCT\n",
      "\u001B[34m\u001B[1mwandb\u001B[0m: \tepochs: 40\n",
      "\u001B[34m\u001B[1mwandb\u001B[0m: \testimate_quantile: 0.9935\n",
      "\u001B[34m\u001B[1mwandb\u001B[0m: \tlayers: [512, 256, 128]\n",
      "\u001B[34m\u001B[1mwandb\u001B[0m: \tlearning_rate: 0.0005842355097145116\n",
      "\u001B[34m\u001B[1mwandb\u001B[0m: \tlr_scheduler: StepLR\n",
      "\u001B[34m\u001B[1mwandb\u001B[0m: \tlr_scheduler_kwargs: {'gamma': 0.5873073101732551, 'step_size': 12}\n"
     ]
    },
    {
     "data": {
      "text/plain": "<IPython.core.display.HTML object>",
      "text/html": "Tracking run with wandb version 0.15.5"
     },
     "metadata": {},
     "output_type": "display_data"
    },
    {
     "data": {
      "text/plain": "<IPython.core.display.HTML object>",
      "text/html": "Run data is saved locally in <code>/Users/bhavyemathur/Desktop/Projects/Spherindrical Fourier Transform/MERRA-2/wind-prediction/models/wandb/run-20230719_234651-688ll3n4</code>"
     },
     "metadata": {},
     "output_type": "display_data"
    },
    {
     "data": {
      "text/plain": "<IPython.core.display.HTML object>",
      "text/html": "Syncing run <strong><a href='https://wandb.ai/bhavye-mathur/MERRA2-U-July2023/runs/688ll3n4' target=\"_blank\">smart-sweep-33</a></strong> to <a href='https://wandb.ai/bhavye-mathur/MERRA2-U-July2023' target=\"_blank\">Weights & Biases</a> (<a href='https://wandb.me/run' target=\"_blank\">docs</a>)<br/>Sweep page: <a href='https://wandb.ai/bhavye-mathur/MERRA2-U-July2023/sweeps/4zc8713b' target=\"_blank\">https://wandb.ai/bhavye-mathur/MERRA2-U-July2023/sweeps/4zc8713b</a>"
     },
     "metadata": {},
     "output_type": "display_data"
    },
    {
     "data": {
      "text/plain": "<IPython.core.display.HTML object>",
      "text/html": " View project at <a href='https://wandb.ai/bhavye-mathur/MERRA2-U-July2023' target=\"_blank\">https://wandb.ai/bhavye-mathur/MERRA2-U-July2023</a>"
     },
     "metadata": {},
     "output_type": "display_data"
    },
    {
     "data": {
      "text/plain": "<IPython.core.display.HTML object>",
      "text/html": " View sweep at <a href='https://wandb.ai/bhavye-mathur/MERRA2-U-July2023/sweeps/4zc8713b' target=\"_blank\">https://wandb.ai/bhavye-mathur/MERRA2-U-July2023/sweeps/4zc8713b</a>"
     },
     "metadata": {},
     "output_type": "display_data"
    },
    {
     "data": {
      "text/plain": "<IPython.core.display.HTML object>",
      "text/html": " View run at <a href='https://wandb.ai/bhavye-mathur/MERRA2-U-July2023/runs/688ll3n4' target=\"_blank\">https://wandb.ai/bhavye-mathur/MERRA2-U-July2023/runs/688ll3n4</a>"
     },
     "metadata": {},
     "output_type": "display_data"
    },
    {
     "name": "stdout",
     "output_type": "stream",
     "text": [
      "Sequential(\n",
      "  (0): Linear(in_features=15, out_features=512, bias=True)\n",
      "  (1): ELU(alpha=1.0)\n",
      "  (2): Linear(in_features=512, out_features=256, bias=True)\n",
      "  (3): ELU(alpha=1.0)\n",
      "  (4): Linear(in_features=256, out_features=128, bias=True)\n",
      "  (5): ELU(alpha=1.0)\n",
      "  (6): Linear(in_features=128, out_features=1, bias=True)\n",
      ")\n"
     ]
    },
    {
     "data": {
      "text/plain": "  0%|          | 0/40 [00:00<?, ?it/s]",
      "application/vnd.jupyter.widget-view+json": {
       "version_major": 2,
       "version_minor": 0,
       "model_id": "98b4ca3d903f4cd8836d74f61d93fc1c"
      }
     },
     "metadata": {},
     "output_type": "display_data"
    },
    {
     "name": "stdout",
     "output_type": "stream",
     "text": [
      "0 1 2 3 4 5 6 7 8 9 10 11 12 13 14 15 16 17 18 19 20 21 22 23 24 25 26 27 28 29 30 31 32 33 34 35 36 37 38 39 "
     ]
    },
    {
     "data": {
      "text/plain": "<IPython.core.display.HTML object>",
      "text/html": "Waiting for W&B process to finish... <strong style=\"color:green\">(success).</strong>"
     },
     "metadata": {},
     "output_type": "display_data"
    },
    {
     "data": {
      "text/plain": "VBox(children=(Label(value='0.001 MB of 0.001 MB uploaded (0.000 MB deduped)\\r'), FloatProgress(value=1.0, max…",
      "application/vnd.jupyter.widget-view+json": {
       "version_major": 2,
       "version_minor": 0,
       "model_id": "7d2812794b0747ff9d6fbebb1d73f6ab"
      }
     },
     "metadata": {},
     "output_type": "display_data"
    },
    {
     "data": {
      "text/plain": "<IPython.core.display.HTML object>",
      "text/html": "<style>\n    table.wandb td:nth-child(1) { padding: 0 10px; text-align: left ; width: auto;} td:nth-child(2) {text-align: left ; width: 100%}\n    .wandb-row { display: flex; flex-direction: row; flex-wrap: wrap; justify-content: flex-start; width: 100% }\n    .wandb-col { display: flex; flex-direction: column; flex-basis: 100%; flex: 1; padding: 10px; }\n    </style>\n<div class=\"wandb-row\"><div class=\"wandb-col\"><h3>Run history:</h3><br/><table class=\"wandb\"><tr><td>epoch</td><td>▁▁▁▂▂▂▂▂▂▃▃▃▃▃▄▄▄▄▄▄▅▅▅▅▅▅▆▆▆▆▆▇▇▇▇▇▇███</td></tr><tr><td>lr</td><td>███████████▄▄▄▄▄▄▄▄▄▄▄▄▂▂▂▂▂▂▂▂▂▂▂▂▁▁▁▁▁</td></tr><tr><td>train_loss</td><td>█▁▂▃▂▃▂▂▂▂▂▁▁▁▁▁▁▁▁▁▁▁▁▁▁▁▁▁▁▁▁▁▁▁▁▁▁▁▁▁</td></tr><tr><td>train_rmse</td><td>█▁▂▃▃▃▃▂▃▂▂▁▁▁▁▁▁▁▁▁▁▁▁▁▁▁▁▁▁▁▁▁▁▁▁▁▁▁▁▁</td></tr><tr><td>val_mae</td><td>█▄█▆▅▄▃▂▂▂▂▂▁▂▄▄▃▃▂▂▂▂▂▂▂▁▁▁▁▁▁▁▁▁▁▁▁▁▁▁</td></tr><tr><td>val_rmse</td><td>█▃▆▅▄▄▃▂▂▂▂▂▁▂▃▄▃▃▂▂▂▂▂▂▂▁▁▁▁▁▁▁▁▁▁▁▁▁▁▁</td></tr></table><br/></div><div class=\"wandb-col\"><h3>Run summary:</h3><br/><table class=\"wandb\"><tr><td>epoch</td><td>39</td></tr><tr><td>lr</td><td>0.00012</td></tr><tr><td>train_loss</td><td>0.00168</td></tr><tr><td>train_rmse</td><td>0.40269</td></tr><tr><td>val_mae</td><td>0.28418</td></tr><tr><td>val_rmse</td><td>0.40165</td></tr></table><br/></div></div>"
     },
     "metadata": {},
     "output_type": "display_data"
    },
    {
     "data": {
      "text/plain": "<IPython.core.display.HTML object>",
      "text/html": " View run <strong style=\"color:#cdcd00\">smart-sweep-33</strong> at: <a href='https://wandb.ai/bhavye-mathur/MERRA2-U-July2023/runs/688ll3n4' target=\"_blank\">https://wandb.ai/bhavye-mathur/MERRA2-U-July2023/runs/688ll3n4</a><br/>Synced 5 W&B file(s), 0 media file(s), 0 artifact file(s) and 0 other file(s)"
     },
     "metadata": {},
     "output_type": "display_data"
    },
    {
     "data": {
      "text/plain": "<IPython.core.display.HTML object>",
      "text/html": "Find logs at: <code>./wandb/run-20230719_234651-688ll3n4/logs</code>"
     },
     "metadata": {},
     "output_type": "display_data"
    },
    {
     "name": "stderr",
     "output_type": "stream",
     "text": [
      "\u001B[34m\u001B[1mwandb\u001B[0m: Agent Starting Run: jto5lmxg with config:\n",
      "\u001B[34m\u001B[1mwandb\u001B[0m: \tactivation: ELU\n",
      "\u001B[34m\u001B[1mwandb\u001B[0m: \tbatch_size: 16384\n",
      "\u001B[34m\u001B[1mwandb\u001B[0m: \tdataset: NGCT\n",
      "\u001B[34m\u001B[1mwandb\u001B[0m: \tepochs: 40\n",
      "\u001B[34m\u001B[1mwandb\u001B[0m: \testimate_quantile: 0.9935\n",
      "\u001B[34m\u001B[1mwandb\u001B[0m: \tlayers: [512, 256, 128]\n",
      "\u001B[34m\u001B[1mwandb\u001B[0m: \tlearning_rate: 0.0007315384241978428\n",
      "\u001B[34m\u001B[1mwandb\u001B[0m: \tlr_scheduler: StepLR\n",
      "\u001B[34m\u001B[1mwandb\u001B[0m: \tlr_scheduler_kwargs: {'gamma': 0.5831069055937542, 'step_size': 14}\n"
     ]
    },
    {
     "data": {
      "text/plain": "<IPython.core.display.HTML object>",
      "text/html": "Tracking run with wandb version 0.15.5"
     },
     "metadata": {},
     "output_type": "display_data"
    },
    {
     "data": {
      "text/plain": "<IPython.core.display.HTML object>",
      "text/html": "Run data is saved locally in <code>/Users/bhavyemathur/Desktop/Projects/Spherindrical Fourier Transform/MERRA-2/wind-prediction/models/wandb/run-20230719_234941-jto5lmxg</code>"
     },
     "metadata": {},
     "output_type": "display_data"
    },
    {
     "data": {
      "text/plain": "<IPython.core.display.HTML object>",
      "text/html": "Syncing run <strong><a href='https://wandb.ai/bhavye-mathur/MERRA2-U-July2023/runs/jto5lmxg' target=\"_blank\">summer-sweep-34</a></strong> to <a href='https://wandb.ai/bhavye-mathur/MERRA2-U-July2023' target=\"_blank\">Weights & Biases</a> (<a href='https://wandb.me/run' target=\"_blank\">docs</a>)<br/>Sweep page: <a href='https://wandb.ai/bhavye-mathur/MERRA2-U-July2023/sweeps/4zc8713b' target=\"_blank\">https://wandb.ai/bhavye-mathur/MERRA2-U-July2023/sweeps/4zc8713b</a>"
     },
     "metadata": {},
     "output_type": "display_data"
    },
    {
     "data": {
      "text/plain": "<IPython.core.display.HTML object>",
      "text/html": " View project at <a href='https://wandb.ai/bhavye-mathur/MERRA2-U-July2023' target=\"_blank\">https://wandb.ai/bhavye-mathur/MERRA2-U-July2023</a>"
     },
     "metadata": {},
     "output_type": "display_data"
    },
    {
     "data": {
      "text/plain": "<IPython.core.display.HTML object>",
      "text/html": " View sweep at <a href='https://wandb.ai/bhavye-mathur/MERRA2-U-July2023/sweeps/4zc8713b' target=\"_blank\">https://wandb.ai/bhavye-mathur/MERRA2-U-July2023/sweeps/4zc8713b</a>"
     },
     "metadata": {},
     "output_type": "display_data"
    },
    {
     "data": {
      "text/plain": "<IPython.core.display.HTML object>",
      "text/html": " View run at <a href='https://wandb.ai/bhavye-mathur/MERRA2-U-July2023/runs/jto5lmxg' target=\"_blank\">https://wandb.ai/bhavye-mathur/MERRA2-U-July2023/runs/jto5lmxg</a>"
     },
     "metadata": {},
     "output_type": "display_data"
    },
    {
     "name": "stdout",
     "output_type": "stream",
     "text": [
      "Sequential(\n",
      "  (0): Linear(in_features=15, out_features=512, bias=True)\n",
      "  (1): ELU(alpha=1.0)\n",
      "  (2): Linear(in_features=512, out_features=256, bias=True)\n",
      "  (3): ELU(alpha=1.0)\n",
      "  (4): Linear(in_features=256, out_features=128, bias=True)\n",
      "  (5): ELU(alpha=1.0)\n",
      "  (6): Linear(in_features=128, out_features=1, bias=True)\n",
      ")\n"
     ]
    },
    {
     "data": {
      "text/plain": "  0%|          | 0/40 [00:00<?, ?it/s]",
      "application/vnd.jupyter.widget-view+json": {
       "version_major": 2,
       "version_minor": 0,
       "model_id": "bd906eaadd7d4fa18578c289fe1ae050"
      }
     },
     "metadata": {},
     "output_type": "display_data"
    },
    {
     "name": "stdout",
     "output_type": "stream",
     "text": [
      "0 1 2 3 4 5 6 7 8 9 10 11 12 13 14 15 16 17 18 19 20 21 22 23 24 25 26 27 28 29 30 31 32 33 34 35 36 37 38 39 "
     ]
    },
    {
     "data": {
      "text/plain": "<IPython.core.display.HTML object>",
      "text/html": "Waiting for W&B process to finish... <strong style=\"color:green\">(success).</strong>"
     },
     "metadata": {},
     "output_type": "display_data"
    },
    {
     "data": {
      "text/plain": "VBox(children=(Label(value='0.001 MB of 0.001 MB uploaded (0.000 MB deduped)\\r'), FloatProgress(value=1.0, max…",
      "application/vnd.jupyter.widget-view+json": {
       "version_major": 2,
       "version_minor": 0,
       "model_id": "da6d86dcd63140c4a16f1be1b0cca0a7"
      }
     },
     "metadata": {},
     "output_type": "display_data"
    },
    {
     "data": {
      "text/plain": "<IPython.core.display.HTML object>",
      "text/html": "<style>\n    table.wandb td:nth-child(1) { padding: 0 10px; text-align: left ; width: auto;} td:nth-child(2) {text-align: left ; width: 100%}\n    .wandb-row { display: flex; flex-direction: row; flex-wrap: wrap; justify-content: flex-start; width: 100% }\n    .wandb-col { display: flex; flex-direction: column; flex-basis: 100%; flex: 1; padding: 10px; }\n    </style>\n<div class=\"wandb-row\"><div class=\"wandb-col\"><h3>Run history:</h3><br/><table class=\"wandb\"><tr><td>epoch</td><td>▁▁▁▂▂▂▂▂▂▃▃▃▃▃▄▄▄▄▄▄▅▅▅▅▅▅▆▆▆▆▆▇▇▇▇▇▇███</td></tr><tr><td>lr</td><td>█████████████▄▄▄▄▄▄▄▄▄▄▄▄▄▄▁▁▁▁▁▁▁▁▁▁▁▁▁</td></tr><tr><td>train_loss</td><td>█▂▃▃▄▄▃▃▃▂▂▂▂▃▁▁▁▁▁▁▁▁▁▁▁▁▁▁▁▁▁▁▁▁▁▁▁▁▁▁</td></tr><tr><td>train_rmse</td><td>█▂▃▄▄▄▃▃▃▂▂▂▂▃▁▁▁▁▁▁▁▁▁▁▁▁▁▁▁▁▁▁▁▁▁▁▁▁▁▁</td></tr><tr><td>val_mae</td><td>█▄█▇▆▆▅▅▃▂▂▄▃▃▁▂▂▂▂▂▂▂▂▂▂▂▂▃▂▂▁▁▁▁▁▁▁▁▁▁</td></tr><tr><td>val_rmse</td><td>█▄▆▆▅▅▄▄▃▂▂▄▃▃▁▂▂▂▂▂▂▂▂▂▂▂▂▂▂▁▁▁▁▁▁▁▁▁▁▁</td></tr></table><br/></div><div class=\"wandb-col\"><h3>Run summary:</h3><br/><table class=\"wandb\"><tr><td>epoch</td><td>39</td></tr><tr><td>lr</td><td>0.00025</td></tr><tr><td>train_loss</td><td>0.00168</td></tr><tr><td>train_rmse</td><td>0.40271</td></tr><tr><td>val_mae</td><td>0.28434</td></tr><tr><td>val_rmse</td><td>0.40178</td></tr></table><br/></div></div>"
     },
     "metadata": {},
     "output_type": "display_data"
    },
    {
     "data": {
      "text/plain": "<IPython.core.display.HTML object>",
      "text/html": " View run <strong style=\"color:#cdcd00\">summer-sweep-34</strong> at: <a href='https://wandb.ai/bhavye-mathur/MERRA2-U-July2023/runs/jto5lmxg' target=\"_blank\">https://wandb.ai/bhavye-mathur/MERRA2-U-July2023/runs/jto5lmxg</a><br/>Synced 5 W&B file(s), 0 media file(s), 0 artifact file(s) and 0 other file(s)"
     },
     "metadata": {},
     "output_type": "display_data"
    },
    {
     "data": {
      "text/plain": "<IPython.core.display.HTML object>",
      "text/html": "Find logs at: <code>./wandb/run-20230719_234941-jto5lmxg/logs</code>"
     },
     "metadata": {},
     "output_type": "display_data"
    },
    {
     "name": "stderr",
     "output_type": "stream",
     "text": [
      "\u001B[34m\u001B[1mwandb\u001B[0m: Sweep Agent: Waiting for job.\n",
      "\u001B[34m\u001B[1mwandb\u001B[0m: Job received.\n",
      "\u001B[34m\u001B[1mwandb\u001B[0m: Agent Starting Run: pahhvh3k with config:\n",
      "\u001B[34m\u001B[1mwandb\u001B[0m: \tactivation: ELU\n",
      "\u001B[34m\u001B[1mwandb\u001B[0m: \tbatch_size: 8192\n",
      "\u001B[34m\u001B[1mwandb\u001B[0m: \tdataset: NGCT\n",
      "\u001B[34m\u001B[1mwandb\u001B[0m: \tepochs: 40\n",
      "\u001B[34m\u001B[1mwandb\u001B[0m: \testimate_quantile: 0.9935\n",
      "\u001B[34m\u001B[1mwandb\u001B[0m: \tlayers: [128, 64, 32]\n",
      "\u001B[34m\u001B[1mwandb\u001B[0m: \tlearning_rate: 0.0004775143714830786\n",
      "\u001B[34m\u001B[1mwandb\u001B[0m: \tlr_scheduler: StepLR\n",
      "\u001B[34m\u001B[1mwandb\u001B[0m: \tlr_scheduler_kwargs: {'gamma': 0.4866615041451468, 'step_size': 16}\n"
     ]
    },
    {
     "data": {
      "text/plain": "<IPython.core.display.HTML object>",
      "text/html": "Tracking run with wandb version 0.15.5"
     },
     "metadata": {},
     "output_type": "display_data"
    },
    {
     "data": {
      "text/plain": "<IPython.core.display.HTML object>",
      "text/html": "Run data is saved locally in <code>/Users/bhavyemathur/Desktop/Projects/Spherindrical Fourier Transform/MERRA-2/wind-prediction/models/wandb/run-20230719_235229-pahhvh3k</code>"
     },
     "metadata": {},
     "output_type": "display_data"
    },
    {
     "data": {
      "text/plain": "<IPython.core.display.HTML object>",
      "text/html": "Syncing run <strong><a href='https://wandb.ai/bhavye-mathur/MERRA2-U-July2023/runs/pahhvh3k' target=\"_blank\">atomic-sweep-35</a></strong> to <a href='https://wandb.ai/bhavye-mathur/MERRA2-U-July2023' target=\"_blank\">Weights & Biases</a> (<a href='https://wandb.me/run' target=\"_blank\">docs</a>)<br/>Sweep page: <a href='https://wandb.ai/bhavye-mathur/MERRA2-U-July2023/sweeps/4zc8713b' target=\"_blank\">https://wandb.ai/bhavye-mathur/MERRA2-U-July2023/sweeps/4zc8713b</a>"
     },
     "metadata": {},
     "output_type": "display_data"
    },
    {
     "data": {
      "text/plain": "<IPython.core.display.HTML object>",
      "text/html": " View project at <a href='https://wandb.ai/bhavye-mathur/MERRA2-U-July2023' target=\"_blank\">https://wandb.ai/bhavye-mathur/MERRA2-U-July2023</a>"
     },
     "metadata": {},
     "output_type": "display_data"
    },
    {
     "data": {
      "text/plain": "<IPython.core.display.HTML object>",
      "text/html": " View sweep at <a href='https://wandb.ai/bhavye-mathur/MERRA2-U-July2023/sweeps/4zc8713b' target=\"_blank\">https://wandb.ai/bhavye-mathur/MERRA2-U-July2023/sweeps/4zc8713b</a>"
     },
     "metadata": {},
     "output_type": "display_data"
    },
    {
     "data": {
      "text/plain": "<IPython.core.display.HTML object>",
      "text/html": " View run at <a href='https://wandb.ai/bhavye-mathur/MERRA2-U-July2023/runs/pahhvh3k' target=\"_blank\">https://wandb.ai/bhavye-mathur/MERRA2-U-July2023/runs/pahhvh3k</a>"
     },
     "metadata": {},
     "output_type": "display_data"
    },
    {
     "name": "stdout",
     "output_type": "stream",
     "text": [
      "Sequential(\n",
      "  (0): Linear(in_features=15, out_features=128, bias=True)\n",
      "  (1): ELU(alpha=1.0)\n",
      "  (2): Linear(in_features=128, out_features=64, bias=True)\n",
      "  (3): ELU(alpha=1.0)\n",
      "  (4): Linear(in_features=64, out_features=32, bias=True)\n",
      "  (5): ELU(alpha=1.0)\n",
      "  (6): Linear(in_features=32, out_features=1, bias=True)\n",
      ")\n"
     ]
    },
    {
     "data": {
      "text/plain": "  0%|          | 0/40 [00:00<?, ?it/s]",
      "application/vnd.jupyter.widget-view+json": {
       "version_major": 2,
       "version_minor": 0,
       "model_id": "6c34c285b5254b7dbf74a85b2b95167e"
      }
     },
     "metadata": {},
     "output_type": "display_data"
    },
    {
     "name": "stdout",
     "output_type": "stream",
     "text": [
      "0 1 "
     ]
    }
   ],
   "source": [
    "sweep_configuration = {\n",
    "    \"method\": \"bayes\",\n",
    "    \"name\": f\"sweep-{DATASET}\",\n",
    "    \"metric\": {\n",
    "        \"goal\": \"minimize\",\n",
    "        \"name\": \"val_rmse\"\n",
    "    },\n",
    "    \"parameters\": {\n",
    "        \"batch_size\": {\"values\": [8192, 16384, 32768, 65536]},\n",
    "        \"learning_rate\": {\"max\": 0.001, \"min\": 0.00005},\n",
    "        \"lr_scheduler\": {\"values\": [None, \"StepLR\"]},\n",
    "        \"lr_scheduler_kwargs\": {\"parameters\": {\"step_size\": {\"max\": 20, \"min\": 10},\n",
    "                                               \"gamma\": {\"max\": 0.75, \"min\": 0.25}}},\n",
    "        \"layers\": {\"values\": [(256, 128), (512, 256), (1024, 512),\n",
    "                              (1024, 512, 256), (256, 256, 32), (512, 256, 128), (128, 64, 32)]},\n",
    "        \"epochs\": {\"value\": 40},\n",
    "        \"activation\": {\"values\": [\"ReLU\", \"PReLU\", \"LeakyReLU\", \"ELU\", \"Softplus\"]},\n",
    "        \"estimate_quantile\": {\"value\": ESTIMATE_QUANTILE},\n",
    "        \"dataset\": {\"value\": DATASET},\n",
    "    },\n",
    "    \"early_terminate\": {\n",
    "        \"type\": \"hyperband\",\n",
    "        \"min_iter\": 3,\n",
    "        \"eta\": 2\n",
    "    }\n",
    "}\n",
    "\n",
    "sweep_id = wandb.sweep(sweep=sweep_configuration, project=f\"MERRA2-{VARIABLE}-July2023\")\n",
    "wandb.agent(sweep_id, function=main)"
   ],
   "metadata": {
    "collapsed": false,
    "is_executing": true,
    "ExecuteTime": {
     "start_time": "2023-07-19T16:32:34.465769Z"
    }
   }
  },
  {
   "cell_type": "code",
   "execution_count": null,
   "outputs": [],
   "source": [
    "def test(model, dl):\n",
    "    model.eval()\n",
    "\n",
    "    mse = 0\n",
    "    mae = 0\n",
    "\n",
    "    with torch.no_grad():\n",
    "        for inputs, targets in tqdm(dl):\n",
    "            prediction = model(inputs).squeeze()\n",
    "\n",
    "            mse += torch.nn.functional.mse_loss(prediction, targets)\n",
    "            mae += torch.nn.functional.l1_loss(prediction, targets)\n",
    "\n",
    "    return (mse / len(dl)) ** 0.5 * stds[VARIABLE], (mae / len(dl)) * stds[VARIABLE]\n",
    "\n",
    "\n",
    "test_dl = DataLoader(test, batch_size=2048, shuffle=False)\n",
    "test_rmse, test_mae = test(model, test)\n",
    "\n",
    "print(f\"RMSE: {test_rmse} m/s\")\n",
    "print(f\"MAE:  {test_mae} m/s\")\n"
   ],
   "metadata": {
    "collapsed": false
   }
  }
 ],
 "metadata": {
  "kernelspec": {
   "display_name": "Python 3",
   "language": "python",
   "name": "python3"
  },
  "language_info": {
   "codemirror_mode": {
    "name": "ipython",
    "version": 2
   },
   "file_extension": ".py",
   "mimetype": "text/x-python",
   "name": "python",
   "nbconvert_exporter": "python",
   "pygments_lexer": "ipython2",
   "version": "2.7.6"
  }
 },
 "nbformat": 4,
 "nbformat_minor": 0
}

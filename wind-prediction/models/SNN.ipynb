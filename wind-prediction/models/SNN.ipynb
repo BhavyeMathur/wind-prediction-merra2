{
 "cells": [
  {
   "cell_type": "code",
   "execution_count": 29,
   "metadata": {
    "collapsed": true
   },
   "outputs": [
    {
     "name": "stdout",
     "output_type": "stream",
     "text": [
      "env: PYTORCH_ENABLE_MPS_FALLBACK=1\n"
     ]
    },
    {
     "data": {
      "text/plain": "True"
     },
     "execution_count": 29,
     "metadata": {},
     "output_type": "execute_result"
    }
   ],
   "source": [
    "%env PYTORCH_ENABLE_MPS_FALLBACK=1\n",
    "\n",
    "from tqdm.notebook import tqdm\n",
    "import wandb\n",
    "\n",
    "from WindModel import *\n",
    "\n",
    "wandb.login()"
   ]
  },
  {
   "cell_type": "code",
   "execution_count": 30,
   "outputs": [],
   "source": [
    "DEVICE = \"cpu\""
   ],
   "metadata": {
    "collapsed": false
   }
  },
  {
   "cell_type": "code",
   "execution_count": 31,
   "outputs": [],
   "source": [
    "WindDataset.init(0.1)\n",
    "\n",
    "train = WindDataset(\"train\")\n",
    "validation = WindDataset(\"validation\")\n",
    "test = WindDataset(\"test\")\n",
    "\n",
    "del WindDataset.data"
   ],
   "metadata": {
    "collapsed": false
   }
  },
  {
   "cell_type": "code",
   "execution_count": 32,
   "outputs": [],
   "source": [
    "INPUT_SIZE = 15\n",
    "\n",
    "EPOCHS = 30\n",
    "\n",
    "LOSS_FUNC = torch.nn.MSELoss"
   ],
   "metadata": {
    "collapsed": false
   }
  },
  {
   "cell_type": "code",
   "execution_count": 39,
   "outputs": [],
   "source": [
    "class SinusoidalLayer(torch.nn.Module):\n",
    "  def __init__(self, size: int):\n",
    "    super().__init__()\n",
    "    self.amplitudes = torch.nn.Parameter(torch.rand(size))\n",
    "    self.periods = torch.nn.Parameter(torch.rand(size))\n",
    "    self.phases = torch.nn.Parameter(torch.rand(size))\n",
    "\n",
    "  def forward(self, x: torch.Tensor):\n",
    "    x *= self.periods\n",
    "    x += self.phases\n",
    "    x = torch.sin(x)\n",
    "    x *= self.amplitudes\n",
    "\n",
    "    return torch.sum(x, dim=1)\n",
    "\n",
    "\n",
    "class WindModel(torch.nn.Module):\n",
    "    def __init__(self, input_size, sin_size: int):\n",
    "        super().__init__()\n",
    "\n",
    "        self.linear = torch.nn.Linear(input_size, sin_size)\n",
    "        self.sin_layer = SinusoidalLayer(sin_size)\n",
    "\n",
    "    def forward(self, x: torch.Tensor):\n",
    "        z = self.linear(x)\n",
    "        z = self.sin_layer(z)\n",
    "\n",
    "        return z + x[:, 3]\n"
   ],
   "metadata": {
    "collapsed": false
   }
  },
  {
   "cell_type": "code",
   "execution_count": 40,
   "outputs": [],
   "source": [
    "def evaluate_one_epoch(model, epoch, dl):\n",
    "    mse = 0\n",
    "    mae = 0\n",
    "\n",
    "    with torch.no_grad():\n",
    "        for inputs, targets in dl:\n",
    "            prediction = model(inputs).squeeze()\n",
    "\n",
    "            mse += torch.nn.functional.mse_loss(prediction, targets)\n",
    "            mae += torch.nn.functional.l1_loss(prediction, targets)\n",
    "\n",
    "    n = len(dl)\n",
    "    wandb.log({\"val_rmse\": ((mse / n) ** 0.5) * stds[VARIABLE]})\n",
    "    wandb.log({\"val_mae\": (mae / n) * stds[VARIABLE]})\n",
    "\n",
    "\n",
    "def train_one_batch(model, optimizer, criterion, batch, batch_idx):\n",
    "    optimizer.zero_grad()\n",
    "\n",
    "    inputs, targets = batch\n",
    "\n",
    "    prediction = model(inputs).squeeze()\n",
    "    loss = criterion(prediction, targets)\n",
    "\n",
    "    loss.backward()\n",
    "    optimizer.step()\n",
    "\n",
    "    if batch_idx % 100 == 0:\n",
    "        with torch.no_grad():\n",
    "            rmse = (torch.nn.functional.mse_loss(prediction, targets) ** 0.5) * stds[VARIABLE]\n",
    "            wandb.log({\"train_loss\": loss})\n",
    "            wandb.log({\"train_rmse\": rmse})\n",
    "\n",
    "\n",
    "def train_one_epoch(model, optimizer, criterion, epoch, dl):\n",
    "    data = iter(dl)\n",
    "    for i in range(len(dl)):\n",
    "        train_one_batch(model, optimizer, criterion, next(data), i)\n",
    "\n",
    "\n",
    "def main():\n",
    "    wandb.init(project=f\"MERRA2-{VARIABLE}\", dir=\"wandb-local\")\n",
    "\n",
    "    learning_rate = wandb.config.learning_rate\n",
    "    batch_size = wandb.config.batch_size\n",
    "    layers = wandb.config.layers\n",
    "\n",
    "    train_dl = DataLoader(train, batch_size=batch_size, shuffle=True, num_workers=10)\n",
    "    validation_dl = DataLoader(validation, batch_size=batch_size, shuffle=False, num_workers=10)\n",
    "\n",
    "    model = WindModel(INPUT_SIZE, layers)\n",
    "    model = model.to(DEVICE)\n",
    "    print(model)\n",
    "\n",
    "    criterion = LOSS_FUNC()\n",
    "    optimizer = torch.optim.Adam(model.parameters(), lr=learning_rate)\n",
    "\n",
    "    wandb.watch(model, log_freq=100)\n",
    "    model.train()\n",
    "\n",
    "    for ep in tqdm(range(EPOCHS)):\n",
    "        print(ep, end=\" \")\n",
    "        train_one_epoch(model, optimizer, criterion, ep, train_dl)\n",
    "        evaluate_one_epoch(model, ep, validation_dl)\n",
    "\n",
    "    wandb.finish()"
   ],
   "metadata": {
    "collapsed": false
   }
  },
  {
   "cell_type": "code",
   "execution_count": 41,
   "outputs": [
    {
     "name": "stdout",
     "output_type": "stream",
     "text": [
      "Create sweep with ID: wss2uso4\n",
      "Sweep URL: https://wandb.ai/bhavye-mathur/MERRA2-U/sweeps/wss2uso4\n"
     ]
    },
    {
     "name": "stderr",
     "output_type": "stream",
     "text": [
      "\u001B[34m\u001B[1mwandb\u001B[0m: Agent Starting Run: 2ykotlk6 with config:\n",
      "\u001B[34m\u001B[1mwandb\u001B[0m: \tbatch_size: 8192\n",
      "\u001B[34m\u001B[1mwandb\u001B[0m: \tdataset: NGCT\n",
      "\u001B[34m\u001B[1mwandb\u001B[0m: \tepochs: 30\n",
      "\u001B[34m\u001B[1mwandb\u001B[0m: \testimate_quantile: 0.9935\n",
      "\u001B[34m\u001B[1mwandb\u001B[0m: \tlayers: 1024\n",
      "\u001B[34m\u001B[1mwandb\u001B[0m: \tlearning_rate: 0.01145626386197857\n",
      "\u001B[34m\u001B[1mwandb\u001B[0m: \u001B[33mWARNING\u001B[0m Ignored wandb.init() arg project when running a sweep.\n",
      "wandb: WARNING Path wandb-local/wandb/ wasn't writable, using system temp directory\n"
     ]
    },
    {
     "data": {
      "text/plain": "<IPython.core.display.HTML object>",
      "text/html": "Tracking run with wandb version 0.13.10"
     },
     "metadata": {},
     "output_type": "display_data"
    },
    {
     "data": {
      "text/plain": "<IPython.core.display.HTML object>",
      "text/html": "Run data is saved locally in <code>/var/folders/r5/mzzh3rn14lgb2__wr5h7swqm0000gn/T/wandb/run-20230215_203526-2ykotlk6</code>"
     },
     "metadata": {},
     "output_type": "display_data"
    },
    {
     "data": {
      "text/plain": "<IPython.core.display.HTML object>",
      "text/html": "Syncing run <strong><a href='https://wandb.ai/bhavye-mathur/MERRA2-U/runs/2ykotlk6' target=\"_blank\">rose-sweep-1</a></strong> to <a href='https://wandb.ai/bhavye-mathur/MERRA2-U' target=\"_blank\">Weights & Biases</a> (<a href='https://wandb.me/run' target=\"_blank\">docs</a>)<br/>Sweep page: <a href='https://wandb.ai/bhavye-mathur/MERRA2-U/sweeps/wss2uso4' target=\"_blank\">https://wandb.ai/bhavye-mathur/MERRA2-U/sweeps/wss2uso4</a>"
     },
     "metadata": {},
     "output_type": "display_data"
    },
    {
     "data": {
      "text/plain": "<IPython.core.display.HTML object>",
      "text/html": " View project at <a href='https://wandb.ai/bhavye-mathur/MERRA2-U' target=\"_blank\">https://wandb.ai/bhavye-mathur/MERRA2-U</a>"
     },
     "metadata": {},
     "output_type": "display_data"
    },
    {
     "data": {
      "text/plain": "<IPython.core.display.HTML object>",
      "text/html": " View sweep at <a href='https://wandb.ai/bhavye-mathur/MERRA2-U/sweeps/wss2uso4' target=\"_blank\">https://wandb.ai/bhavye-mathur/MERRA2-U/sweeps/wss2uso4</a>"
     },
     "metadata": {},
     "output_type": "display_data"
    },
    {
     "data": {
      "text/plain": "<IPython.core.display.HTML object>",
      "text/html": " View run at <a href='https://wandb.ai/bhavye-mathur/MERRA2-U/runs/2ykotlk6' target=\"_blank\">https://wandb.ai/bhavye-mathur/MERRA2-U/runs/2ykotlk6</a>"
     },
     "metadata": {},
     "output_type": "display_data"
    },
    {
     "name": "stdout",
     "output_type": "stream",
     "text": [
      "WindModel(\n",
      "  (linear): Linear(in_features=15, out_features=1024, bias=True)\n",
      "  (sin_layer): SinusoidalLayer()\n",
      ")\n"
     ]
    },
    {
     "data": {
      "text/plain": "  0%|          | 0/30 [00:00<?, ?it/s]",
      "application/vnd.jupyter.widget-view+json": {
       "version_major": 2,
       "version_minor": 0,
       "model_id": "76fd1d58d35e4e1da28e80fe3b83ee67"
      }
     },
     "metadata": {},
     "output_type": "display_data"
    },
    {
     "name": "stdout",
     "output_type": "stream",
     "text": [
      "0 1 2 3 4 5 6 7 8 "
     ]
    },
    {
     "data": {
      "text/plain": "<IPython.core.display.HTML object>",
      "text/html": "Waiting for W&B process to finish... <strong style=\"color:red\">(failed 1).</strong> Press Control-C to abort syncing."
     },
     "metadata": {},
     "output_type": "display_data"
    },
    {
     "data": {
      "text/plain": "VBox(children=(Label(value='0.001 MB of 0.001 MB uploaded (0.000 MB deduped)\\r'), FloatProgress(value=1.0, max…",
      "application/vnd.jupyter.widget-view+json": {
       "version_major": 2,
       "version_minor": 0,
       "model_id": "768255dffc9a4a2897051a0143625f7b"
      }
     },
     "metadata": {},
     "output_type": "display_data"
    },
    {
     "data": {
      "text/plain": "<IPython.core.display.HTML object>",
      "text/html": "<style>\n    table.wandb td:nth-child(1) { padding: 0 10px; text-align: left ; width: auto;} td:nth-child(2) {text-align: left ; width: 100%}\n    .wandb-row { display: flex; flex-direction: row; flex-wrap: wrap; justify-content: flex-start; width: 100% }\n    .wandb-col { display: flex; flex-direction: column; flex-basis: 100%; flex: 1; padding: 10px; }\n    </style>\n<div class=\"wandb-row\"><div class=\"wandb-col\"><h3>Run history:</h3><br/><table class=\"wandb\"><tr><td>train_loss</td><td>█▁▁▁▁▁▁▁▁▁▁▁▁▁▁▁▁▁▁▁▁▁▁▁▁▁▁▁▁▁▁▁▁▁▁▁▁▁▁▁</td></tr><tr><td>train_rmse</td><td>█▁▁▁▁▁▁▁▁▁▁▁▁▁▁▁▁▁▁▁▁▁▁▁▁▁▁▁▁▁▁▁▁▁▁▁▁▁▁▁</td></tr><tr><td>val_mae</td><td>█▅▃▁▁▃▇▄</td></tr><tr><td>val_rmse</td><td>█▅▃▂▁▃▆▃</td></tr></table><br/></div><div class=\"wandb-col\"><h3>Run summary:</h3><br/><table class=\"wandb\"><tr><td>train_loss</td><td>0.01613</td></tr><tr><td>train_rmse</td><td>1.24852</td></tr><tr><td>val_mae</td><td>0.95883</td></tr><tr><td>val_rmse</td><td>1.22906</td></tr></table><br/></div></div>"
     },
     "metadata": {},
     "output_type": "display_data"
    },
    {
     "data": {
      "text/plain": "<IPython.core.display.HTML object>",
      "text/html": " View run <strong style=\"color:#cdcd00\">rose-sweep-1</strong> at: <a href='https://wandb.ai/bhavye-mathur/MERRA2-U/runs/2ykotlk6' target=\"_blank\">https://wandb.ai/bhavye-mathur/MERRA2-U/runs/2ykotlk6</a><br/>Synced 5 W&B file(s), 0 media file(s), 0 artifact file(s) and 0 other file(s)"
     },
     "metadata": {},
     "output_type": "display_data"
    },
    {
     "data": {
      "text/plain": "<IPython.core.display.HTML object>",
      "text/html": "Find logs at: <code>/var/folders/r5/mzzh3rn14lgb2__wr5h7swqm0000gn/T/wandb/run-20230215_203526-2ykotlk6/logs</code>"
     },
     "metadata": {},
     "output_type": "display_data"
    }
   ],
   "source": [
    "sweep_configuration = {\n",
    "    \"method\": \"bayes\",\n",
    "    \"name\": f\"sweep-SNN-{DATASET}\",\n",
    "    \"metric\": {\n",
    "        \"goal\": \"minimize\",\n",
    "        \"name\": \"val_rmse\"\n",
    "    },\n",
    "    \"parameters\": {\n",
    "        \"batch_size\": {\"value\": 8192},\n",
    "        \"learning_rate\": {\"max\": 0.1, \"min\": 0.0001},\n",
    "        \"layers\": {\"values\": [1024]},\n",
    "        \"estimate_quantile\": {\"value\": ESTIMATE_QUANTILE},\n",
    "        \"dataset\": {\"value\": DATASET},\n",
    "        \"epochs\": {\"value\": EPOCHS},\n",
    "    },\n",
    "    \"early_terminate\": {\n",
    "        \"type\": \"hyperband\",\n",
    "        \"min_iter\": 3,\n",
    "    }\n",
    "}\n",
    "\n",
    "sweep_id = wandb.sweep(sweep=sweep_configuration, project=f\"MERRA2-{VARIABLE}\")\n",
    "wandb.agent(sweep_id, function=main)\n"
   ],
   "metadata": {
    "collapsed": false
   }
  }
 ],
 "metadata": {
  "kernelspec": {
   "display_name": "Python 3",
   "language": "python",
   "name": "python3"
  },
  "language_info": {
   "codemirror_mode": {
    "name": "ipython",
    "version": 2
   },
   "file_extension": ".py",
   "mimetype": "text/x-python",
   "name": "python",
   "nbconvert_exporter": "python",
   "pygments_lexer": "ipython2",
   "version": "2.7.6"
  }
 },
 "nbformat": 4,
 "nbformat_minor": 0
}

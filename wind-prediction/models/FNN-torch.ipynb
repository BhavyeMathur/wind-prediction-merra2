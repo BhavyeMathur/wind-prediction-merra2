{
 "cells": [
  {
   "cell_type": "code",
   "execution_count": 1,
   "metadata": {
    "collapsed": true
   },
   "outputs": [
    {
     "name": "stdout",
     "output_type": "stream",
     "text": [
      "env: PYTORCH_ENABLE_MPS_FALLBACK=1\n"
     ]
    },
    {
     "name": "stderr",
     "output_type": "stream",
     "text": [
      "\u001B[34m\u001B[1mwandb\u001B[0m: W&B API key is configured. Use \u001B[1m`wandb login --relogin`\u001B[0m to force relogin\n"
     ]
    },
    {
     "data": {
      "text/plain": "True"
     },
     "execution_count": 1,
     "metadata": {},
     "output_type": "execute_result"
    }
   ],
   "source": [
    "%env PYTORCH_ENABLE_MPS_FALLBACK=1\n",
    "\n",
    "from tqdm.notebook import tqdm\n",
    "import wandb\n",
    "\n",
    "from FNN import *\n",
    "\n",
    "wandb.login()"
   ]
  },
  {
   "cell_type": "code",
   "execution_count": 2,
   "outputs": [],
   "source": [
    "DEVICE = \"cpu\""
   ],
   "metadata": {
    "collapsed": false
   }
  },
  {
   "cell_type": "code",
   "execution_count": 3,
   "outputs": [],
   "source": [
    "def get_dense_model(input_size: int,\n",
    "                    hidden_sizes: list[int],\n",
    "                    output_size: int,\n",
    "                    activation_func: callable):\n",
    "    layers = []\n",
    "\n",
    "    for size in hidden_sizes:\n",
    "        layers.append(torch.nn.Linear(input_size, size))\n",
    "        layers.append(activation_func())\n",
    "        input_size = size\n",
    "\n",
    "    layers.append(torch.nn.Linear(input_size, output_size))\n",
    "\n",
    "    return torch.nn.Sequential(*layers)"
   ],
   "metadata": {
    "collapsed": false
   }
  },
  {
   "cell_type": "code",
   "execution_count": 4,
   "outputs": [],
   "source": [
    "WindDataset.init(0.1)\n",
    "\n",
    "train = WindDataset(\"train\")\n",
    "validation = WindDataset(\"validation\")\n",
    "test = WindDataset(\"test\")\n",
    "\n",
    "del WindDataset.data"
   ],
   "metadata": {
    "collapsed": false
   }
  },
  {
   "cell_type": "code",
   "execution_count": 5,
   "outputs": [],
   "source": [
    "INPUT_SIZE = 15\n",
    "OUTPUT_SIZE = 1\n",
    "\n",
    "EPOCHS = 30\n",
    "\n",
    "LOSS_FUNC = torch.nn.MSELoss"
   ],
   "metadata": {
    "collapsed": false
   }
  },
  {
   "cell_type": "code",
   "execution_count": 6,
   "outputs": [],
   "source": [
    "def evaluate_one_epoch(model, epoch, dl):\n",
    "    mse = 0\n",
    "    mae = 0\n",
    "\n",
    "    with torch.no_grad():\n",
    "        for inputs, targets in dl:\n",
    "            prediction = model(inputs).squeeze()\n",
    "\n",
    "            mse += torch.nn.functional.mse_loss(prediction, targets)\n",
    "            mae += torch.nn.functional.l1_loss(prediction, targets)\n",
    "\n",
    "    n = len(dl)\n",
    "    wandb.log({\"val_rmse\": ((mse / n) ** 0.5) * stds[VARIABLE]})\n",
    "    wandb.log({\"val_mae\": (mae / n) * stds[VARIABLE]})\n",
    "\n",
    "\n",
    "def train_one_batch(model, optimizer, criterion, batch, batch_idx):\n",
    "    optimizer.zero_grad()\n",
    "\n",
    "    inputs, targets = batch\n",
    "\n",
    "    prediction = model(inputs).squeeze()\n",
    "    loss = criterion(prediction, targets)\n",
    "\n",
    "    loss.backward()\n",
    "    optimizer.step()\n",
    "\n",
    "    if batch_idx % 100 == 0:\n",
    "        with torch.no_grad():\n",
    "            rmse = (torch.nn.functional.mse_loss(prediction, targets) ** 0.5) * stds[VARIABLE]\n",
    "            wandb.log({\"train_loss\": loss})\n",
    "            wandb.log({\"train_rmse\": rmse})\n",
    "\n",
    "\n",
    "def train_one_epoch(model, optimizer, criterion, epoch, dl):\n",
    "    data = iter(dl)\n",
    "    for i in range(len(dl)):\n",
    "        train_one_batch(model, optimizer, criterion, next(data), i)\n",
    "\n",
    "\n",
    "def main():\n",
    "    wandb.init(project=f\"MERRA2-{VARIABLE}\", dir=\"wandb-local\")\n",
    "\n",
    "    learning_rate = wandb.config.learning_rate\n",
    "    batch_size = wandb.config.batch_size\n",
    "    layers = wandb.config.layers\n",
    "\n",
    "    activation = wandb.config.activation\n",
    "    activation = getattr(torch.nn, activation)\n",
    "\n",
    "    train_dl = DataLoader(train, batch_size=batch_size, shuffle=True, num_workers=10)\n",
    "    validation_dl = DataLoader(validation, batch_size=batch_size, shuffle=False, num_workers=10)\n",
    "\n",
    "    model = get_dense_model(INPUT_SIZE, layers, OUTPUT_SIZE, activation)\n",
    "    model = model.to(DEVICE)\n",
    "    print(model)\n",
    "\n",
    "    criterion = LOSS_FUNC()\n",
    "    optimizer = torch.optim.Adam(model.parameters(), lr=learning_rate)\n",
    "\n",
    "    wandb.watch(model, log_freq=100)\n",
    "    model.train()\n",
    "\n",
    "    for ep in tqdm(range(EPOCHS)):\n",
    "        print(ep, end=\" \")\n",
    "        train_one_epoch(model, optimizer, criterion, ep, train_dl)\n",
    "        evaluate_one_epoch(model, ep, validation_dl)\n",
    "\n",
    "    wandb.finish()"
   ],
   "metadata": {
    "collapsed": false
   }
  },
  {
   "cell_type": "code",
   "execution_count": 8,
   "outputs": [
    {
     "name": "stderr",
     "output_type": "stream",
     "text": [
      "\u001B[34m\u001B[1mwandb\u001B[0m: Network error (ReadTimeout), entering retry loop.\n"
     ]
    },
    {
     "name": "stdout",
     "output_type": "stream",
     "text": [
      "Create sweep with ID: 2r9734vo\n",
      "Sweep URL: https://wandb.ai/bhavye-mathur/MERRA2-U/sweeps/2r9734vo\n"
     ]
    },
    {
     "name": "stderr",
     "output_type": "stream",
     "text": [
      "\u001B[34m\u001B[1mwandb\u001B[0m: Agent Starting Run: 3pd951yl with config:\n",
      "\u001B[34m\u001B[1mwandb\u001B[0m: \tactivation: LeakyReLU\n",
      "\u001B[34m\u001B[1mwandb\u001B[0m: \tbatch_size: 8192\n",
      "\u001B[34m\u001B[1mwandb\u001B[0m: \tdataset: NGCTAUAV\n",
      "\u001B[34m\u001B[1mwandb\u001B[0m: \tepochs: 30\n",
      "\u001B[34m\u001B[1mwandb\u001B[0m: \testimate_quantile: 0.9935\n",
      "\u001B[34m\u001B[1mwandb\u001B[0m: \tlayers: [64, 128]\n",
      "\u001B[34m\u001B[1mwandb\u001B[0m: \tlearning_rate: 0.0654268663174165\n",
      "\u001B[34m\u001B[1mwandb\u001B[0m: Currently logged in as: \u001B[33mbhavye-mathur\u001B[0m. Use \u001B[1m`wandb login --relogin`\u001B[0m to force relogin\n",
      "\u001B[34m\u001B[1mwandb\u001B[0m: \u001B[33mWARNING\u001B[0m Ignored wandb.init() arg project when running a sweep.\n",
      "\u001B[34m\u001B[1mwandb\u001B[0m: \u001B[33mWARNING\u001B[0m Path wandb-local/wandb/ wasn't writable, using system temp directory.\n",
      "wandb: WARNING Path wandb-local/wandb/ wasn't writable, using system temp directory\n"
     ]
    },
    {
     "data": {
      "text/plain": "VBox(children=(Label(value='Waiting for wandb.init()...\\r'), FloatProgress(value=0.01675131528333331, max=1.0)…",
      "application/vnd.jupyter.widget-view+json": {
       "version_major": 2,
       "version_minor": 0,
       "model_id": "c19065f4a5bd465cb4fc3b541bf70750"
      }
     },
     "metadata": {},
     "output_type": "display_data"
    },
    {
     "data": {
      "text/plain": "<IPython.core.display.HTML object>",
      "text/html": "Tracking run with wandb version 0.13.10"
     },
     "metadata": {},
     "output_type": "display_data"
    },
    {
     "data": {
      "text/plain": "<IPython.core.display.HTML object>",
      "text/html": "Run data is saved locally in <code>/var/folders/r5/mzzh3rn14lgb2__wr5h7swqm0000gn/T/wandb/run-20230215_115521-3pd951yl</code>"
     },
     "metadata": {},
     "output_type": "display_data"
    },
    {
     "data": {
      "text/plain": "<IPython.core.display.HTML object>",
      "text/html": "Syncing run <strong><a href='https://wandb.ai/bhavye-mathur/MERRA2-U/runs/3pd951yl' target=\"_blank\">hardy-sweep-1</a></strong> to <a href='https://wandb.ai/bhavye-mathur/MERRA2-U' target=\"_blank\">Weights & Biases</a> (<a href='https://wandb.me/run' target=\"_blank\">docs</a>)<br/>Sweep page: <a href='https://wandb.ai/bhavye-mathur/MERRA2-U/sweeps/2r9734vo' target=\"_blank\">https://wandb.ai/bhavye-mathur/MERRA2-U/sweeps/2r9734vo</a>"
     },
     "metadata": {},
     "output_type": "display_data"
    },
    {
     "data": {
      "text/plain": "<IPython.core.display.HTML object>",
      "text/html": " View project at <a href='https://wandb.ai/bhavye-mathur/MERRA2-U' target=\"_blank\">https://wandb.ai/bhavye-mathur/MERRA2-U</a>"
     },
     "metadata": {},
     "output_type": "display_data"
    },
    {
     "data": {
      "text/plain": "<IPython.core.display.HTML object>",
      "text/html": " View sweep at <a href='https://wandb.ai/bhavye-mathur/MERRA2-U/sweeps/2r9734vo' target=\"_blank\">https://wandb.ai/bhavye-mathur/MERRA2-U/sweeps/2r9734vo</a>"
     },
     "metadata": {},
     "output_type": "display_data"
    },
    {
     "data": {
      "text/plain": "<IPython.core.display.HTML object>",
      "text/html": " View run at <a href='https://wandb.ai/bhavye-mathur/MERRA2-U/runs/3pd951yl' target=\"_blank\">https://wandb.ai/bhavye-mathur/MERRA2-U/runs/3pd951yl</a>"
     },
     "metadata": {},
     "output_type": "display_data"
    },
    {
     "name": "stdout",
     "output_type": "stream",
     "text": [
      "Sequential(\n",
      "  (0): Linear(in_features=15, out_features=64, bias=True)\n",
      "  (1): LeakyReLU(negative_slope=0.01)\n",
      "  (2): Linear(in_features=64, out_features=128, bias=True)\n",
      "  (3): LeakyReLU(negative_slope=0.01)\n",
      "  (4): Linear(in_features=128, out_features=1, bias=True)\n",
      ")\n"
     ]
    },
    {
     "data": {
      "text/plain": "  0%|          | 0/30 [00:00<?, ?it/s]",
      "application/vnd.jupyter.widget-view+json": {
       "version_major": 2,
       "version_minor": 0,
       "model_id": "f8cb8bfc266f4845a0b5caa46dee48d1"
      }
     },
     "metadata": {},
     "output_type": "display_data"
    },
    {
     "name": "stdout",
     "output_type": "stream",
     "text": [
      "0 1 2 3 4 5 6 7 8 9 10 11 12 13 14 15 16 17 18 19 20 21 22 23 24 25 26 27 28 29 "
     ]
    },
    {
     "data": {
      "text/plain": "<IPython.core.display.HTML object>",
      "text/html": "Waiting for W&B process to finish... <strong style=\"color:green\">(success).</strong>"
     },
     "metadata": {},
     "output_type": "display_data"
    },
    {
     "data": {
      "text/plain": "<IPython.core.display.HTML object>",
      "text/html": "<style>\n    table.wandb td:nth-child(1) { padding: 0 10px; text-align: left ; width: auto;} td:nth-child(2) {text-align: left ; width: 100%}\n    .wandb-row { display: flex; flex-direction: row; flex-wrap: wrap; justify-content: flex-start; width: 100% }\n    .wandb-col { display: flex; flex-direction: column; flex-basis: 100%; flex: 1; padding: 10px; }\n    </style>\n<div class=\"wandb-row\"><div class=\"wandb-col\"><h3>Run history:</h3><br/><table class=\"wandb\"><tr><td>train_loss</td><td>▆▁▁▁▁▁▁▁▁▂▃▁▁▂█▁▁█▂▁▂▁▂▁▁▁▁▂▁▂▁▂▂▁▁▂▁▁▁▂</td></tr><tr><td>train_rmse</td><td>▆▁▂▁▁▁▁▂▁▂▄▁▁▃█▁▁█▃▂▃▁▂▁▁▁▁▂▂▂▁▂▂▁▁▂▁▁▂▂</td></tr><tr><td>val_mae</td><td>▁▁▁▁▂▁▂▁▁▂▃█▁▁▂▁▂▁▁▁▁▁▁▁▁▁▁▁▁▁</td></tr><tr><td>val_rmse</td><td>▁▁▁▁▂▁▁▁▁▂▃█▁▁▂▁▂▁▁▁▁▁▁▁▁▁▁▁▁▁</td></tr></table><br/></div><div class=\"wandb-col\"><h3>Run summary:</h3><br/><table class=\"wandb\"><tr><td>train_loss</td><td>0.00162</td></tr><tr><td>train_rmse</td><td>0.39567</td></tr><tr><td>val_mae</td><td>0.31202</td></tr><tr><td>val_rmse</td><td>0.42607</td></tr></table><br/></div></div>"
     },
     "metadata": {},
     "output_type": "display_data"
    },
    {
     "data": {
      "text/plain": "<IPython.core.display.HTML object>",
      "text/html": " View run <strong style=\"color:#cdcd00\">hardy-sweep-1</strong> at: <a href='https://wandb.ai/bhavye-mathur/MERRA2-U/runs/3pd951yl' target=\"_blank\">https://wandb.ai/bhavye-mathur/MERRA2-U/runs/3pd951yl</a><br/>Synced 5 W&B file(s), 0 media file(s), 0 artifact file(s) and 0 other file(s)"
     },
     "metadata": {},
     "output_type": "display_data"
    },
    {
     "data": {
      "text/plain": "<IPython.core.display.HTML object>",
      "text/html": "Find logs at: <code>/var/folders/r5/mzzh3rn14lgb2__wr5h7swqm0000gn/T/wandb/run-20230215_115521-3pd951yl/logs</code>"
     },
     "metadata": {},
     "output_type": "display_data"
    },
    {
     "name": "stderr",
     "output_type": "stream",
     "text": [
      "\u001B[34m\u001B[1mwandb\u001B[0m: Agent Starting Run: 7v5h6al9 with config:\n",
      "\u001B[34m\u001B[1mwandb\u001B[0m: \tactivation: PReLU\n",
      "\u001B[34m\u001B[1mwandb\u001B[0m: \tbatch_size: 4096\n",
      "\u001B[34m\u001B[1mwandb\u001B[0m: \tdataset: NGCTAUAV\n",
      "\u001B[34m\u001B[1mwandb\u001B[0m: \tepochs: 30\n",
      "\u001B[34m\u001B[1mwandb\u001B[0m: \testimate_quantile: 0.9935\n",
      "\u001B[34m\u001B[1mwandb\u001B[0m: \tlayers: [512, 256, 128, 64]\n",
      "\u001B[34m\u001B[1mwandb\u001B[0m: \tlearning_rate: 0.0025963333317054107\n",
      "\u001B[34m\u001B[1mwandb\u001B[0m: \u001B[33mWARNING\u001B[0m Ignored wandb.init() arg project when running a sweep.\n",
      "wandb: WARNING Path wandb-local/wandb/ wasn't writable, using system temp directory\n"
     ]
    },
    {
     "data": {
      "text/plain": "<IPython.core.display.HTML object>",
      "text/html": "Tracking run with wandb version 0.13.10"
     },
     "metadata": {},
     "output_type": "display_data"
    },
    {
     "data": {
      "text/plain": "<IPython.core.display.HTML object>",
      "text/html": "Run data is saved locally in <code>/var/folders/r5/mzzh3rn14lgb2__wr5h7swqm0000gn/T/wandb/run-20230215_120405-7v5h6al9</code>"
     },
     "metadata": {},
     "output_type": "display_data"
    },
    {
     "data": {
      "text/plain": "<IPython.core.display.HTML object>",
      "text/html": "Syncing run <strong><a href='https://wandb.ai/bhavye-mathur/MERRA2-U/runs/7v5h6al9' target=\"_blank\">scarlet-sweep-2</a></strong> to <a href='https://wandb.ai/bhavye-mathur/MERRA2-U' target=\"_blank\">Weights & Biases</a> (<a href='https://wandb.me/run' target=\"_blank\">docs</a>)<br/>Sweep page: <a href='https://wandb.ai/bhavye-mathur/MERRA2-U/sweeps/2r9734vo' target=\"_blank\">https://wandb.ai/bhavye-mathur/MERRA2-U/sweeps/2r9734vo</a>"
     },
     "metadata": {},
     "output_type": "display_data"
    },
    {
     "data": {
      "text/plain": "<IPython.core.display.HTML object>",
      "text/html": " View project at <a href='https://wandb.ai/bhavye-mathur/MERRA2-U' target=\"_blank\">https://wandb.ai/bhavye-mathur/MERRA2-U</a>"
     },
     "metadata": {},
     "output_type": "display_data"
    },
    {
     "data": {
      "text/plain": "<IPython.core.display.HTML object>",
      "text/html": " View sweep at <a href='https://wandb.ai/bhavye-mathur/MERRA2-U/sweeps/2r9734vo' target=\"_blank\">https://wandb.ai/bhavye-mathur/MERRA2-U/sweeps/2r9734vo</a>"
     },
     "metadata": {},
     "output_type": "display_data"
    },
    {
     "data": {
      "text/plain": "<IPython.core.display.HTML object>",
      "text/html": " View run at <a href='https://wandb.ai/bhavye-mathur/MERRA2-U/runs/7v5h6al9' target=\"_blank\">https://wandb.ai/bhavye-mathur/MERRA2-U/runs/7v5h6al9</a>"
     },
     "metadata": {},
     "output_type": "display_data"
    },
    {
     "name": "stdout",
     "output_type": "stream",
     "text": [
      "Sequential(\n",
      "  (0): Linear(in_features=15, out_features=512, bias=True)\n",
      "  (1): PReLU(num_parameters=1)\n",
      "  (2): Linear(in_features=512, out_features=256, bias=True)\n",
      "  (3): PReLU(num_parameters=1)\n",
      "  (4): Linear(in_features=256, out_features=128, bias=True)\n",
      "  (5): PReLU(num_parameters=1)\n",
      "  (6): Linear(in_features=128, out_features=64, bias=True)\n",
      "  (7): PReLU(num_parameters=1)\n",
      "  (8): Linear(in_features=64, out_features=1, bias=True)\n",
      ")\n"
     ]
    },
    {
     "data": {
      "text/plain": "  0%|          | 0/30 [00:00<?, ?it/s]",
      "application/vnd.jupyter.widget-view+json": {
       "version_major": 2,
       "version_minor": 0,
       "model_id": "580b32bd13d840d280550a336de6ae82"
      }
     },
     "metadata": {},
     "output_type": "display_data"
    },
    {
     "name": "stdout",
     "output_type": "stream",
     "text": [
      "0 1 2 3 4 5 6 7 8 9 10 11 "
     ]
    },
    {
     "name": "stderr",
     "output_type": "stream",
     "text": [
      "\u001B[34m\u001B[1mwandb\u001B[0m: Network error (ConnectTimeout), entering retry loop.\n"
     ]
    },
    {
     "name": "stdout",
     "output_type": "stream",
     "text": [
      "12 13 14 15 16 17 18 19 20 21 22 23 24 25 26 27 28 29 "
     ]
    },
    {
     "data": {
      "text/plain": "<IPython.core.display.HTML object>",
      "text/html": "Waiting for W&B process to finish... <strong style=\"color:green\">(success).</strong>"
     },
     "metadata": {},
     "output_type": "display_data"
    },
    {
     "data": {
      "text/plain": "<IPython.core.display.HTML object>",
      "text/html": "<style>\n    table.wandb td:nth-child(1) { padding: 0 10px; text-align: left ; width: auto;} td:nth-child(2) {text-align: left ; width: 100%}\n    .wandb-row { display: flex; flex-direction: row; flex-wrap: wrap; justify-content: flex-start; width: 100% }\n    .wandb-col { display: flex; flex-direction: column; flex-basis: 100%; flex: 1; padding: 10px; }\n    </style>\n<div class=\"wandb-row\"><div class=\"wandb-col\"><h3>Run history:</h3><br/><table class=\"wandb\"><tr><td>train_loss</td><td>█▄▆▅▅▇▄▅▄▄▄▂▂▂▄▃▃▄▃▃▃▂▃▅▃▆▃▃▂▄▃▄▃▆▃▁▆▂▂▃</td></tr><tr><td>train_rmse</td><td>█▄▆▅▅▇▄▅▄▄▄▂▂▂▄▃▄▄▃▃▃▂▃▅▃▆▃▃▂▄▄▄▃▆▃▁▆▂▂▃</td></tr><tr><td>val_mae</td><td>▂▃▃▂▂▁▁▁█▂▂█▁▁▁▂▁▂▁▁▁▂▁▁▁▂▁▂▁▁</td></tr><tr><td>val_rmse</td><td>▂▃▃▂▂▁▁▁█▂▂█▁▁▁▂▁▂▁▁▁▂▁▁▁▁▁▂▁▁</td></tr></table><br/></div><div class=\"wandb-col\"><h3>Run summary:</h3><br/><table class=\"wandb\"><tr><td>train_loss</td><td>0.0016</td></tr><tr><td>train_rmse</td><td>0.39339</td></tr><tr><td>val_mae</td><td>0.28268</td></tr><tr><td>val_rmse</td><td>0.39641</td></tr></table><br/></div></div>"
     },
     "metadata": {},
     "output_type": "display_data"
    },
    {
     "data": {
      "text/plain": "<IPython.core.display.HTML object>",
      "text/html": " View run <strong style=\"color:#cdcd00\">scarlet-sweep-2</strong> at: <a href='https://wandb.ai/bhavye-mathur/MERRA2-U/runs/7v5h6al9' target=\"_blank\">https://wandb.ai/bhavye-mathur/MERRA2-U/runs/7v5h6al9</a><br/>Synced 5 W&B file(s), 0 media file(s), 0 artifact file(s) and 0 other file(s)"
     },
     "metadata": {},
     "output_type": "display_data"
    },
    {
     "data": {
      "text/plain": "<IPython.core.display.HTML object>",
      "text/html": "Find logs at: <code>/var/folders/r5/mzzh3rn14lgb2__wr5h7swqm0000gn/T/wandb/run-20230215_120405-7v5h6al9/logs</code>"
     },
     "metadata": {},
     "output_type": "display_data"
    },
    {
     "name": "stderr",
     "output_type": "stream",
     "text": [
      "\u001B[34m\u001B[1mwandb\u001B[0m: Agent Starting Run: xemujdtl with config:\n",
      "\u001B[34m\u001B[1mwandb\u001B[0m: \tactivation: PReLU\n",
      "\u001B[34m\u001B[1mwandb\u001B[0m: \tbatch_size: 4096\n",
      "\u001B[34m\u001B[1mwandb\u001B[0m: \tdataset: NGCTAUAV\n",
      "\u001B[34m\u001B[1mwandb\u001B[0m: \tepochs: 30\n",
      "\u001B[34m\u001B[1mwandb\u001B[0m: \testimate_quantile: 0.9935\n",
      "\u001B[34m\u001B[1mwandb\u001B[0m: \tlayers: [128, 64]\n",
      "\u001B[34m\u001B[1mwandb\u001B[0m: \tlearning_rate: 0.06201766935551739\n",
      "\u001B[34m\u001B[1mwandb\u001B[0m: \u001B[33mWARNING\u001B[0m Ignored wandb.init() arg project when running a sweep.\n",
      "wandb: WARNING Path wandb-local/wandb/ wasn't writable, using system temp directory\n"
     ]
    },
    {
     "data": {
      "text/plain": "<IPython.core.display.HTML object>",
      "text/html": "Tracking run with wandb version 0.13.10"
     },
     "metadata": {},
     "output_type": "display_data"
    },
    {
     "data": {
      "text/plain": "<IPython.core.display.HTML object>",
      "text/html": "Run data is saved locally in <code>/var/folders/r5/mzzh3rn14lgb2__wr5h7swqm0000gn/T/wandb/run-20230215_122801-xemujdtl</code>"
     },
     "metadata": {},
     "output_type": "display_data"
    },
    {
     "data": {
      "text/plain": "<IPython.core.display.HTML object>",
      "text/html": "Syncing run <strong><a href='https://wandb.ai/bhavye-mathur/MERRA2-U/runs/xemujdtl' target=\"_blank\">vocal-sweep-3</a></strong> to <a href='https://wandb.ai/bhavye-mathur/MERRA2-U' target=\"_blank\">Weights & Biases</a> (<a href='https://wandb.me/run' target=\"_blank\">docs</a>)<br/>Sweep page: <a href='https://wandb.ai/bhavye-mathur/MERRA2-U/sweeps/2r9734vo' target=\"_blank\">https://wandb.ai/bhavye-mathur/MERRA2-U/sweeps/2r9734vo</a>"
     },
     "metadata": {},
     "output_type": "display_data"
    },
    {
     "data": {
      "text/plain": "<IPython.core.display.HTML object>",
      "text/html": " View project at <a href='https://wandb.ai/bhavye-mathur/MERRA2-U' target=\"_blank\">https://wandb.ai/bhavye-mathur/MERRA2-U</a>"
     },
     "metadata": {},
     "output_type": "display_data"
    },
    {
     "data": {
      "text/plain": "<IPython.core.display.HTML object>",
      "text/html": " View sweep at <a href='https://wandb.ai/bhavye-mathur/MERRA2-U/sweeps/2r9734vo' target=\"_blank\">https://wandb.ai/bhavye-mathur/MERRA2-U/sweeps/2r9734vo</a>"
     },
     "metadata": {},
     "output_type": "display_data"
    },
    {
     "data": {
      "text/plain": "<IPython.core.display.HTML object>",
      "text/html": " View run at <a href='https://wandb.ai/bhavye-mathur/MERRA2-U/runs/xemujdtl' target=\"_blank\">https://wandb.ai/bhavye-mathur/MERRA2-U/runs/xemujdtl</a>"
     },
     "metadata": {},
     "output_type": "display_data"
    },
    {
     "name": "stdout",
     "output_type": "stream",
     "text": [
      "Sequential(\n",
      "  (0): Linear(in_features=15, out_features=128, bias=True)\n",
      "  (1): PReLU(num_parameters=1)\n",
      "  (2): Linear(in_features=128, out_features=64, bias=True)\n",
      "  (3): PReLU(num_parameters=1)\n",
      "  (4): Linear(in_features=64, out_features=1, bias=True)\n",
      ")\n"
     ]
    },
    {
     "data": {
      "text/plain": "  0%|          | 0/30 [00:00<?, ?it/s]",
      "application/vnd.jupyter.widget-view+json": {
       "version_major": 2,
       "version_minor": 0,
       "model_id": "1bf07fe199e240e7871f3085f029cf69"
      }
     },
     "metadata": {},
     "output_type": "display_data"
    },
    {
     "name": "stdout",
     "output_type": "stream",
     "text": [
      "0 1 2 3 4 5 6 7 8 9 10 11 12 13 14 15 16 17 18 19 20 21 22 23 24 25 26 27 28 29 "
     ]
    },
    {
     "data": {
      "text/plain": "<IPython.core.display.HTML object>",
      "text/html": "Waiting for W&B process to finish... <strong style=\"color:green\">(success).</strong>"
     },
     "metadata": {},
     "output_type": "display_data"
    },
    {
     "data": {
      "text/plain": "VBox(children=(Label(value='0.001 MB of 0.001 MB uploaded (0.000 MB deduped)\\r'), FloatProgress(value=1.0, max…",
      "application/vnd.jupyter.widget-view+json": {
       "version_major": 2,
       "version_minor": 0,
       "model_id": "52991f109f53415693fac69777b209c5"
      }
     },
     "metadata": {},
     "output_type": "display_data"
    },
    {
     "data": {
      "text/plain": "<IPython.core.display.HTML object>",
      "text/html": "<style>\n    table.wandb td:nth-child(1) { padding: 0 10px; text-align: left ; width: auto;} td:nth-child(2) {text-align: left ; width: 100%}\n    .wandb-row { display: flex; flex-direction: row; flex-wrap: wrap; justify-content: flex-start; width: 100% }\n    .wandb-col { display: flex; flex-direction: column; flex-basis: 100%; flex: 1; padding: 10px; }\n    </style>\n<div class=\"wandb-row\"><div class=\"wandb-col\"><h3>Run history:</h3><br/><table class=\"wandb\"><tr><td>train_loss</td><td>▁▁▁▃▁▁▁▁▁▁▁▁▁▁▁▁▂▁▁▁▁▁▁▁▁▁▁▁▁▁▁▁▁▁▁▁▁▁█▂</td></tr><tr><td>train_rmse</td><td>▁▁▁▄▂▁▁▁▁▁▁▁▁▁▁▁▃▂▁▁▁▁▁▁▁▁▁▁▂▂▂▁▁▁▁▁▁▁█▄</td></tr><tr><td>val_mae</td><td>▁▁▂▁▁▁▁▁▁▁▁▁▂▁▁▁▁▁▁▁▃▂▂▁▁▁▁▁█▄</td></tr><tr><td>val_rmse</td><td>▁▁▂▁▁▁▁▁▁▁▁▁▂▁▁▁▁▁▁▁▃▂▂▁▁▁▁▁█▄</td></tr></table><br/></div><div class=\"wandb-col\"><h3>Run summary:</h3><br/><table class=\"wandb\"><tr><td>train_loss</td><td>3.94351</td></tr><tr><td>train_rmse</td><td>19.52466</td></tr><tr><td>val_mae</td><td>14.08617</td></tr><tr><td>val_rmse</td><td>18.90396</td></tr></table><br/></div></div>"
     },
     "metadata": {},
     "output_type": "display_data"
    },
    {
     "data": {
      "text/plain": "<IPython.core.display.HTML object>",
      "text/html": " View run <strong style=\"color:#cdcd00\">vocal-sweep-3</strong> at: <a href='https://wandb.ai/bhavye-mathur/MERRA2-U/runs/xemujdtl' target=\"_blank\">https://wandb.ai/bhavye-mathur/MERRA2-U/runs/xemujdtl</a><br/>Synced 5 W&B file(s), 0 media file(s), 0 artifact file(s) and 0 other file(s)"
     },
     "metadata": {},
     "output_type": "display_data"
    },
    {
     "data": {
      "text/plain": "<IPython.core.display.HTML object>",
      "text/html": "Find logs at: <code>/var/folders/r5/mzzh3rn14lgb2__wr5h7swqm0000gn/T/wandb/run-20230215_122801-xemujdtl/logs</code>"
     },
     "metadata": {},
     "output_type": "display_data"
    },
    {
     "name": "stderr",
     "output_type": "stream",
     "text": [
      "\u001B[34m\u001B[1mwandb\u001B[0m: Agent Starting Run: hhzc0u7c with config:\n",
      "\u001B[34m\u001B[1mwandb\u001B[0m: \tactivation: Tanh\n",
      "\u001B[34m\u001B[1mwandb\u001B[0m: \tbatch_size: 2048\n",
      "\u001B[34m\u001B[1mwandb\u001B[0m: \tdataset: NGCTAUAV\n",
      "\u001B[34m\u001B[1mwandb\u001B[0m: \tepochs: 30\n",
      "\u001B[34m\u001B[1mwandb\u001B[0m: \testimate_quantile: 0.9935\n",
      "\u001B[34m\u001B[1mwandb\u001B[0m: \tlayers: [36, 361, 576]\n",
      "\u001B[34m\u001B[1mwandb\u001B[0m: \tlearning_rate: 0.006522416337068591\n",
      "\u001B[34m\u001B[1mwandb\u001B[0m: \u001B[33mWARNING\u001B[0m Ignored wandb.init() arg project when running a sweep.\n",
      "wandb: WARNING Path wandb-local/wandb/ wasn't writable, using system temp directory\n"
     ]
    },
    {
     "data": {
      "text/plain": "<IPython.core.display.HTML object>",
      "text/html": "Tracking run with wandb version 0.13.10"
     },
     "metadata": {},
     "output_type": "display_data"
    },
    {
     "data": {
      "text/plain": "<IPython.core.display.HTML object>",
      "text/html": "Run data is saved locally in <code>/var/folders/r5/mzzh3rn14lgb2__wr5h7swqm0000gn/T/wandb/run-20230215_123900-hhzc0u7c</code>"
     },
     "metadata": {},
     "output_type": "display_data"
    },
    {
     "data": {
      "text/plain": "<IPython.core.display.HTML object>",
      "text/html": "Syncing run <strong><a href='https://wandb.ai/bhavye-mathur/MERRA2-U/runs/hhzc0u7c' target=\"_blank\">sparkling-sweep-4</a></strong> to <a href='https://wandb.ai/bhavye-mathur/MERRA2-U' target=\"_blank\">Weights & Biases</a> (<a href='https://wandb.me/run' target=\"_blank\">docs</a>)<br/>Sweep page: <a href='https://wandb.ai/bhavye-mathur/MERRA2-U/sweeps/2r9734vo' target=\"_blank\">https://wandb.ai/bhavye-mathur/MERRA2-U/sweeps/2r9734vo</a>"
     },
     "metadata": {},
     "output_type": "display_data"
    },
    {
     "data": {
      "text/plain": "<IPython.core.display.HTML object>",
      "text/html": " View project at <a href='https://wandb.ai/bhavye-mathur/MERRA2-U' target=\"_blank\">https://wandb.ai/bhavye-mathur/MERRA2-U</a>"
     },
     "metadata": {},
     "output_type": "display_data"
    },
    {
     "data": {
      "text/plain": "<IPython.core.display.HTML object>",
      "text/html": " View sweep at <a href='https://wandb.ai/bhavye-mathur/MERRA2-U/sweeps/2r9734vo' target=\"_blank\">https://wandb.ai/bhavye-mathur/MERRA2-U/sweeps/2r9734vo</a>"
     },
     "metadata": {},
     "output_type": "display_data"
    },
    {
     "data": {
      "text/plain": "<IPython.core.display.HTML object>",
      "text/html": " View run at <a href='https://wandb.ai/bhavye-mathur/MERRA2-U/runs/hhzc0u7c' target=\"_blank\">https://wandb.ai/bhavye-mathur/MERRA2-U/runs/hhzc0u7c</a>"
     },
     "metadata": {},
     "output_type": "display_data"
    },
    {
     "name": "stdout",
     "output_type": "stream",
     "text": [
      "Sequential(\n",
      "  (0): Linear(in_features=15, out_features=36, bias=True)\n",
      "  (1): Tanh()\n",
      "  (2): Linear(in_features=36, out_features=361, bias=True)\n",
      "  (3): Tanh()\n",
      "  (4): Linear(in_features=361, out_features=576, bias=True)\n",
      "  (5): Tanh()\n",
      "  (6): Linear(in_features=576, out_features=1, bias=True)\n",
      ")\n"
     ]
    },
    {
     "data": {
      "text/plain": "  0%|          | 0/30 [00:00<?, ?it/s]",
      "application/vnd.jupyter.widget-view+json": {
       "version_major": 2,
       "version_minor": 0,
       "model_id": "e8d2ff902d7846e297984d7ded9fda2d"
      }
     },
     "metadata": {},
     "output_type": "display_data"
    },
    {
     "name": "stdout",
     "output_type": "stream",
     "text": [
      "0 1 2 3 4 5 6 7 8 9 10 11 12 13 14 15 16 17 18 19 20 21 22 23 24 25 26 27 28 29 "
     ]
    },
    {
     "data": {
      "text/plain": "<IPython.core.display.HTML object>",
      "text/html": "Waiting for W&B process to finish... <strong style=\"color:green\">(success).</strong>"
     },
     "metadata": {},
     "output_type": "display_data"
    },
    {
     "data": {
      "text/plain": "VBox(children=(Label(value='0.001 MB of 0.001 MB uploaded (0.000 MB deduped)\\r'), FloatProgress(value=1.0, max…",
      "application/vnd.jupyter.widget-view+json": {
       "version_major": 2,
       "version_minor": 0,
       "model_id": "f32cc3262a8745f09ab438fa10b4af3b"
      }
     },
     "metadata": {},
     "output_type": "display_data"
    },
    {
     "data": {
      "text/plain": "<IPython.core.display.HTML object>",
      "text/html": "<style>\n    table.wandb td:nth-child(1) { padding: 0 10px; text-align: left ; width: auto;} td:nth-child(2) {text-align: left ; width: 100%}\n    .wandb-row { display: flex; flex-direction: row; flex-wrap: wrap; justify-content: flex-start; width: 100% }\n    .wandb-col { display: flex; flex-direction: column; flex-basis: 100%; flex: 1; padding: 10px; }\n    </style>\n<div class=\"wandb-row\"><div class=\"wandb-col\"><h3>Run history:</h3><br/><table class=\"wandb\"><tr><td>train_loss</td><td>▁▁▄▂▅▁▂▅▁▄▂▁▁▅▁▁▁▂▂▁▂▁▁▂▁▁▇▁▁▁▁▂▁▁▆▁▁█▁▂</td></tr><tr><td>train_rmse</td><td>▁▁▅▃▆▂▃▆▂▅▃▁▂▆▂▂▂▃▂▁▂▁▂▃▁▁█▁▂▂▁▂▁▁▇▂▂█▁▃</td></tr><tr><td>val_mae</td><td>▁▄█▁▁▂▂▁▂▂▁▁▃▅█▂▂▂▁▁▁▂▁▂▁▁▃▁▁▁</td></tr><tr><td>val_rmse</td><td>▁▄█▁▂▂▂▁▂▂▁▁▃▅█▂▂▂▁▁▁▂▁▂▁▁▃▁▁▁</td></tr></table><br/></div><div class=\"wandb-col\"><h3>Run summary:</h3><br/><table class=\"wandb\"><tr><td>train_loss</td><td>0.00234</td></tr><tr><td>train_rmse</td><td>0.47514</td></tr><tr><td>val_mae</td><td>0.4984</td></tr><tr><td>val_rmse</td><td>0.62816</td></tr></table><br/></div></div>"
     },
     "metadata": {},
     "output_type": "display_data"
    },
    {
     "data": {
      "text/plain": "<IPython.core.display.HTML object>",
      "text/html": " View run <strong style=\"color:#cdcd00\">sparkling-sweep-4</strong> at: <a href='https://wandb.ai/bhavye-mathur/MERRA2-U/runs/hhzc0u7c' target=\"_blank\">https://wandb.ai/bhavye-mathur/MERRA2-U/runs/hhzc0u7c</a><br/>Synced 5 W&B file(s), 0 media file(s), 0 artifact file(s) and 0 other file(s)"
     },
     "metadata": {},
     "output_type": "display_data"
    },
    {
     "data": {
      "text/plain": "<IPython.core.display.HTML object>",
      "text/html": "Find logs at: <code>/var/folders/r5/mzzh3rn14lgb2__wr5h7swqm0000gn/T/wandb/run-20230215_123900-hhzc0u7c/logs</code>"
     },
     "metadata": {},
     "output_type": "display_data"
    },
    {
     "name": "stderr",
     "output_type": "stream",
     "text": [
      "\u001B[34m\u001B[1mwandb\u001B[0m: Agent Starting Run: my047q2r with config:\n",
      "\u001B[34m\u001B[1mwandb\u001B[0m: \tactivation: PReLU\n",
      "\u001B[34m\u001B[1mwandb\u001B[0m: \tbatch_size: 4096\n",
      "\u001B[34m\u001B[1mwandb\u001B[0m: \tdataset: NGCTAUAV\n",
      "\u001B[34m\u001B[1mwandb\u001B[0m: \tepochs: 30\n",
      "\u001B[34m\u001B[1mwandb\u001B[0m: \testimate_quantile: 0.9935\n",
      "\u001B[34m\u001B[1mwandb\u001B[0m: \tlayers: [512, 1024]\n",
      "\u001B[34m\u001B[1mwandb\u001B[0m: \tlearning_rate: 0.07057703107068267\n",
      "\u001B[34m\u001B[1mwandb\u001B[0m: \u001B[33mWARNING\u001B[0m Ignored wandb.init() arg project when running a sweep.\n",
      "wandb: WARNING Path wandb-local/wandb/ wasn't writable, using system temp directory\n"
     ]
    },
    {
     "data": {
      "text/plain": "VBox(children=(Label(value='Waiting for wandb.init()...\\r'), FloatProgress(value=0.016718282633337366, max=1.0…",
      "application/vnd.jupyter.widget-view+json": {
       "version_major": 2,
       "version_minor": 0,
       "model_id": "6c446f7302184dfe8d30374ded620847"
      }
     },
     "metadata": {},
     "output_type": "display_data"
    },
    {
     "data": {
      "text/plain": "<IPython.core.display.HTML object>",
      "text/html": "Tracking run with wandb version 0.13.10"
     },
     "metadata": {},
     "output_type": "display_data"
    },
    {
     "data": {
      "text/plain": "<IPython.core.display.HTML object>",
      "text/html": "Run data is saved locally in <code>/var/folders/r5/mzzh3rn14lgb2__wr5h7swqm0000gn/T/wandb/run-20230215_130744-my047q2r</code>"
     },
     "metadata": {},
     "output_type": "display_data"
    },
    {
     "data": {
      "text/plain": "<IPython.core.display.HTML object>",
      "text/html": "Syncing run <strong><a href='https://wandb.ai/bhavye-mathur/MERRA2-U/runs/my047q2r' target=\"_blank\">fragrant-sweep-5</a></strong> to <a href='https://wandb.ai/bhavye-mathur/MERRA2-U' target=\"_blank\">Weights & Biases</a> (<a href='https://wandb.me/run' target=\"_blank\">docs</a>)<br/>Sweep page: <a href='https://wandb.ai/bhavye-mathur/MERRA2-U/sweeps/2r9734vo' target=\"_blank\">https://wandb.ai/bhavye-mathur/MERRA2-U/sweeps/2r9734vo</a>"
     },
     "metadata": {},
     "output_type": "display_data"
    },
    {
     "data": {
      "text/plain": "<IPython.core.display.HTML object>",
      "text/html": " View project at <a href='https://wandb.ai/bhavye-mathur/MERRA2-U' target=\"_blank\">https://wandb.ai/bhavye-mathur/MERRA2-U</a>"
     },
     "metadata": {},
     "output_type": "display_data"
    },
    {
     "data": {
      "text/plain": "<IPython.core.display.HTML object>",
      "text/html": " View sweep at <a href='https://wandb.ai/bhavye-mathur/MERRA2-U/sweeps/2r9734vo' target=\"_blank\">https://wandb.ai/bhavye-mathur/MERRA2-U/sweeps/2r9734vo</a>"
     },
     "metadata": {},
     "output_type": "display_data"
    },
    {
     "data": {
      "text/plain": "<IPython.core.display.HTML object>",
      "text/html": " View run at <a href='https://wandb.ai/bhavye-mathur/MERRA2-U/runs/my047q2r' target=\"_blank\">https://wandb.ai/bhavye-mathur/MERRA2-U/runs/my047q2r</a>"
     },
     "metadata": {},
     "output_type": "display_data"
    },
    {
     "name": "stdout",
     "output_type": "stream",
     "text": [
      "Sequential(\n",
      "  (0): Linear(in_features=15, out_features=512, bias=True)\n",
      "  (1): PReLU(num_parameters=1)\n",
      "  (2): Linear(in_features=512, out_features=1024, bias=True)\n",
      "  (3): PReLU(num_parameters=1)\n",
      "  (4): Linear(in_features=1024, out_features=1, bias=True)\n",
      ")\n"
     ]
    },
    {
     "data": {
      "text/plain": "  0%|          | 0/30 [00:00<?, ?it/s]",
      "application/vnd.jupyter.widget-view+json": {
       "version_major": 2,
       "version_minor": 0,
       "model_id": "914b67a8165a4fcaaecf2441082947bb"
      }
     },
     "metadata": {},
     "output_type": "display_data"
    },
    {
     "name": "stdout",
     "output_type": "stream",
     "text": [
      "0 1 2 3 4 5 6 7 8 9 "
     ]
    },
    {
     "data": {
      "text/plain": "<IPython.core.display.HTML object>",
      "text/html": "Waiting for W&B process to finish... <strong style=\"color:red\">(failed 1).</strong> Press Control-C to abort syncing."
     },
     "metadata": {},
     "output_type": "display_data"
    },
    {
     "data": {
      "text/plain": "VBox(children=(Label(value='0.001 MB of 0.001 MB uploaded (0.000 MB deduped)\\r'), FloatProgress(value=1.0, max…",
      "application/vnd.jupyter.widget-view+json": {
       "version_major": 2,
       "version_minor": 0,
       "model_id": "5cdef422c1004fe19e5642b7b183d6c2"
      }
     },
     "metadata": {},
     "output_type": "display_data"
    },
    {
     "data": {
      "text/plain": "<IPython.core.display.HTML object>",
      "text/html": "<style>\n    table.wandb td:nth-child(1) { padding: 0 10px; text-align: left ; width: auto;} td:nth-child(2) {text-align: left ; width: 100%}\n    .wandb-row { display: flex; flex-direction: row; flex-wrap: wrap; justify-content: flex-start; width: 100% }\n    .wandb-col { display: flex; flex-direction: column; flex-basis: 100%; flex: 1; padding: 10px; }\n    </style>\n<div class=\"wandb-row\"><div class=\"wandb-col\"><h3>Run history:</h3><br/><table class=\"wandb\"><tr><td>train_loss</td><td>▁▁▁▁█▃▂▂▁▁▁▁▁▁▁▁▁▁▁▁▁▅▁▁▁▁▁▁▁▁▁▁▁▁▁▁▁▁▁▁</td></tr><tr><td>train_rmse</td><td>▁▁▁▁█▅▃▃▃▂▂▂▂▂▂▂▂▁▂▁▁▇▁▁▁▁▁▁▁▁▁▁▁▁▁▁▁▁▁▁</td></tr><tr><td>val_mae</td><td>█▁▁▁▁▁▁▁▁</td></tr><tr><td>val_rmse</td><td>█▁▁▁▁▁▁▁▁</td></tr></table><br/></div><div class=\"wandb-col\"><h3>Run summary:</h3><br/><table class=\"wandb\"><tr><td>train_loss</td><td>1.31654</td></tr><tr><td>train_rmse</td><td>11.28128</td></tr><tr><td>val_mae</td><td>248.83606</td></tr><tr><td>val_rmse</td><td>329.80286</td></tr></table><br/></div></div>"
     },
     "metadata": {},
     "output_type": "display_data"
    },
    {
     "data": {
      "text/plain": "<IPython.core.display.HTML object>",
      "text/html": " View run <strong style=\"color:#cdcd00\">fragrant-sweep-5</strong> at: <a href='https://wandb.ai/bhavye-mathur/MERRA2-U/runs/my047q2r' target=\"_blank\">https://wandb.ai/bhavye-mathur/MERRA2-U/runs/my047q2r</a><br/>Synced 5 W&B file(s), 0 media file(s), 0 artifact file(s) and 0 other file(s)"
     },
     "metadata": {},
     "output_type": "display_data"
    },
    {
     "data": {
      "text/plain": "<IPython.core.display.HTML object>",
      "text/html": "Find logs at: <code>/var/folders/r5/mzzh3rn14lgb2__wr5h7swqm0000gn/T/wandb/run-20230215_130744-my047q2r/logs</code>"
     },
     "metadata": {},
     "output_type": "display_data"
    },
    {
     "name": "stderr",
     "output_type": "stream",
     "text": [
      "\u001B[34m\u001B[1mwandb\u001B[0m: Agent Starting Run: xcvb8cx1 with config:\n",
      "\u001B[34m\u001B[1mwandb\u001B[0m: \tactivation: ReLU\n",
      "\u001B[34m\u001B[1mwandb\u001B[0m: \tbatch_size: 8192\n",
      "\u001B[34m\u001B[1mwandb\u001B[0m: \tdataset: NGCTAUAV\n",
      "\u001B[34m\u001B[1mwandb\u001B[0m: \tepochs: 30\n",
      "\u001B[34m\u001B[1mwandb\u001B[0m: \testimate_quantile: 0.9935\n",
      "\u001B[34m\u001B[1mwandb\u001B[0m: \tlayers: [36, 361, 576]\n",
      "\u001B[34m\u001B[1mwandb\u001B[0m: \tlearning_rate: 0.05088813326944185\n",
      "\u001B[34m\u001B[1mwandb\u001B[0m: \u001B[33mWARNING\u001B[0m Ignored wandb.init() arg project when running a sweep.\n",
      "wandb: WARNING Path wandb-local/wandb/ wasn't writable, using system temp directory\n"
     ]
    },
    {
     "data": {
      "text/plain": "<IPython.core.display.HTML object>",
      "text/html": "Tracking run with wandb version 0.13.10"
     },
     "metadata": {},
     "output_type": "display_data"
    },
    {
     "data": {
      "text/plain": "<IPython.core.display.HTML object>",
      "text/html": "Run data is saved locally in <code>/var/folders/r5/mzzh3rn14lgb2__wr5h7swqm0000gn/T/wandb/run-20230215_131737-xcvb8cx1</code>"
     },
     "metadata": {},
     "output_type": "display_data"
    },
    {
     "data": {
      "text/plain": "<IPython.core.display.HTML object>",
      "text/html": "Syncing run <strong><a href='https://wandb.ai/bhavye-mathur/MERRA2-U/runs/xcvb8cx1' target=\"_blank\">solar-sweep-6</a></strong> to <a href='https://wandb.ai/bhavye-mathur/MERRA2-U' target=\"_blank\">Weights & Biases</a> (<a href='https://wandb.me/run' target=\"_blank\">docs</a>)<br/>Sweep page: <a href='https://wandb.ai/bhavye-mathur/MERRA2-U/sweeps/2r9734vo' target=\"_blank\">https://wandb.ai/bhavye-mathur/MERRA2-U/sweeps/2r9734vo</a>"
     },
     "metadata": {},
     "output_type": "display_data"
    },
    {
     "data": {
      "text/plain": "<IPython.core.display.HTML object>",
      "text/html": " View project at <a href='https://wandb.ai/bhavye-mathur/MERRA2-U' target=\"_blank\">https://wandb.ai/bhavye-mathur/MERRA2-U</a>"
     },
     "metadata": {},
     "output_type": "display_data"
    },
    {
     "data": {
      "text/plain": "<IPython.core.display.HTML object>",
      "text/html": " View sweep at <a href='https://wandb.ai/bhavye-mathur/MERRA2-U/sweeps/2r9734vo' target=\"_blank\">https://wandb.ai/bhavye-mathur/MERRA2-U/sweeps/2r9734vo</a>"
     },
     "metadata": {},
     "output_type": "display_data"
    },
    {
     "data": {
      "text/plain": "<IPython.core.display.HTML object>",
      "text/html": " View run at <a href='https://wandb.ai/bhavye-mathur/MERRA2-U/runs/xcvb8cx1' target=\"_blank\">https://wandb.ai/bhavye-mathur/MERRA2-U/runs/xcvb8cx1</a>"
     },
     "metadata": {},
     "output_type": "display_data"
    },
    {
     "name": "stdout",
     "output_type": "stream",
     "text": [
      "Sequential(\n",
      "  (0): Linear(in_features=15, out_features=36, bias=True)\n",
      "  (1): ReLU()\n",
      "  (2): Linear(in_features=36, out_features=361, bias=True)\n",
      "  (3): ReLU()\n",
      "  (4): Linear(in_features=361, out_features=576, bias=True)\n",
      "  (5): ReLU()\n",
      "  (6): Linear(in_features=576, out_features=1, bias=True)\n",
      ")\n"
     ]
    },
    {
     "data": {
      "text/plain": "  0%|          | 0/30 [00:00<?, ?it/s]",
      "application/vnd.jupyter.widget-view+json": {
       "version_major": 2,
       "version_minor": 0,
       "model_id": "4aec32660e494132a693124bf074bdf5"
      }
     },
     "metadata": {},
     "output_type": "display_data"
    },
    {
     "name": "stdout",
     "output_type": "stream",
     "text": [
      "0 1 2 3 4 5 6 7 8 9 "
     ]
    },
    {
     "data": {
      "text/plain": "<IPython.core.display.HTML object>",
      "text/html": "Waiting for W&B process to finish... <strong style=\"color:red\">(failed 1).</strong> Press Control-C to abort syncing."
     },
     "metadata": {},
     "output_type": "display_data"
    },
    {
     "data": {
      "text/plain": "VBox(children=(Label(value='0.001 MB of 0.001 MB uploaded (0.000 MB deduped)\\r'), FloatProgress(value=1.0, max…",
      "application/vnd.jupyter.widget-view+json": {
       "version_major": 2,
       "version_minor": 0,
       "model_id": "d4592a6777c6406fb790fe23309b484e"
      }
     },
     "metadata": {},
     "output_type": "display_data"
    },
    {
     "data": {
      "text/plain": "<IPython.core.display.HTML object>",
      "text/html": "<style>\n    table.wandb td:nth-child(1) { padding: 0 10px; text-align: left ; width: auto;} td:nth-child(2) {text-align: left ; width: 100%}\n    .wandb-row { display: flex; flex-direction: row; flex-wrap: wrap; justify-content: flex-start; width: 100% }\n    .wandb-col { display: flex; flex-direction: column; flex-basis: 100%; flex: 1; padding: 10px; }\n    </style>\n<div class=\"wandb-row\"><div class=\"wandb-col\"><h3>Run history:</h3><br/><table class=\"wandb\"><tr><td>train_loss</td><td>█▁▁▁▁▁▁▂▁▁▂▁▁▁▂▁▁▁▁▂▂▂▁▁▁▁▁▁▁▁▁▂▂▁▁▁▁▁▂▂</td></tr><tr><td>train_rmse</td><td>█▂▁▂▁▁▁▂▁▂▂▂▁▁▂▁▁▁▁▂▂▂▂▂▁▁▁▁▁▂▁▂▂▁▂▁▁▁▂▂</td></tr><tr><td>val_mae</td><td>█▂▇▇▂▄▆█▁</td></tr><tr><td>val_rmse</td><td>▄▄▃▃▅▁▁▄█</td></tr></table><br/></div><div class=\"wandb-col\"><h3>Run summary:</h3><br/><table class=\"wandb\"><tr><td>train_loss</td><td>0.43723</td></tr><tr><td>train_rmse</td><td>6.50121</td></tr><tr><td>val_mae</td><td>4.60279</td></tr><tr><td>val_rmse</td><td>6.39684</td></tr></table><br/></div></div>"
     },
     "metadata": {},
     "output_type": "display_data"
    },
    {
     "data": {
      "text/plain": "<IPython.core.display.HTML object>",
      "text/html": " View run <strong style=\"color:#cdcd00\">solar-sweep-6</strong> at: <a href='https://wandb.ai/bhavye-mathur/MERRA2-U/runs/xcvb8cx1' target=\"_blank\">https://wandb.ai/bhavye-mathur/MERRA2-U/runs/xcvb8cx1</a><br/>Synced 5 W&B file(s), 0 media file(s), 0 artifact file(s) and 0 other file(s)"
     },
     "metadata": {},
     "output_type": "display_data"
    },
    {
     "data": {
      "text/plain": "<IPython.core.display.HTML object>",
      "text/html": "Find logs at: <code>/var/folders/r5/mzzh3rn14lgb2__wr5h7swqm0000gn/T/wandb/run-20230215_131737-xcvb8cx1/logs</code>"
     },
     "metadata": {},
     "output_type": "display_data"
    },
    {
     "name": "stderr",
     "output_type": "stream",
     "text": [
      "Exception ignored in: <function _MultiProcessingDataLoaderIter.__del__ at 0x11fe9b310>\n",
      "Traceback (most recent call last):\n",
      "  File \"/Users/bhavyemathur/Desktop/Projects/Spherindrical Fourier Transform/MERRA-2/venv3.9/lib/python3.9/site-packages/torch/utils/data/dataloader.py\", line 1466, in __del__\n",
      "    self._shutdown_workers()\n",
      "  File \"/Users/bhavyemathur/Desktop/Projects/Spherindrical Fourier Transform/MERRA-2/venv3.9/lib/python3.9/site-packages/torch/utils/data/dataloader.py\", line 1424, in _shutdown_workers\n",
      "    if self._persistent_workers or self._workers_status[worker_id]:\n",
      "AttributeError: '_MultiProcessingDataLoaderIter' object has no attribute '_workers_status'\n",
      "\u001B[34m\u001B[1mwandb\u001B[0m: Agent Starting Run: 243ackon with config:\n",
      "\u001B[34m\u001B[1mwandb\u001B[0m: \tactivation: LeakyReLU\n",
      "\u001B[34m\u001B[1mwandb\u001B[0m: \tbatch_size: 4096\n",
      "\u001B[34m\u001B[1mwandb\u001B[0m: \tdataset: NGCTAUAV\n",
      "\u001B[34m\u001B[1mwandb\u001B[0m: \tepochs: 30\n",
      "\u001B[34m\u001B[1mwandb\u001B[0m: \testimate_quantile: 0.9935\n",
      "\u001B[34m\u001B[1mwandb\u001B[0m: \tlayers: [1024, 512]\n",
      "\u001B[34m\u001B[1mwandb\u001B[0m: \tlearning_rate: 0.07630150447163823\n",
      "\u001B[34m\u001B[1mwandb\u001B[0m: \u001B[33mWARNING\u001B[0m Ignored wandb.init() arg project when running a sweep.\n",
      "wandb: WARNING Path wandb-local/wandb/ wasn't writable, using system temp directory\n"
     ]
    },
    {
     "data": {
      "text/plain": "<IPython.core.display.HTML object>",
      "text/html": "Tracking run with wandb version 0.13.10"
     },
     "metadata": {},
     "output_type": "display_data"
    },
    {
     "data": {
      "text/plain": "<IPython.core.display.HTML object>",
      "text/html": "Run data is saved locally in <code>/var/folders/r5/mzzh3rn14lgb2__wr5h7swqm0000gn/T/wandb/run-20230215_132334-243ackon</code>"
     },
     "metadata": {},
     "output_type": "display_data"
    },
    {
     "data": {
      "text/plain": "<IPython.core.display.HTML object>",
      "text/html": "Syncing run <strong><a href='https://wandb.ai/bhavye-mathur/MERRA2-U/runs/243ackon' target=\"_blank\">earthy-sweep-7</a></strong> to <a href='https://wandb.ai/bhavye-mathur/MERRA2-U' target=\"_blank\">Weights & Biases</a> (<a href='https://wandb.me/run' target=\"_blank\">docs</a>)<br/>Sweep page: <a href='https://wandb.ai/bhavye-mathur/MERRA2-U/sweeps/2r9734vo' target=\"_blank\">https://wandb.ai/bhavye-mathur/MERRA2-U/sweeps/2r9734vo</a>"
     },
     "metadata": {},
     "output_type": "display_data"
    },
    {
     "data": {
      "text/plain": "<IPython.core.display.HTML object>",
      "text/html": " View project at <a href='https://wandb.ai/bhavye-mathur/MERRA2-U' target=\"_blank\">https://wandb.ai/bhavye-mathur/MERRA2-U</a>"
     },
     "metadata": {},
     "output_type": "display_data"
    },
    {
     "data": {
      "text/plain": "<IPython.core.display.HTML object>",
      "text/html": " View sweep at <a href='https://wandb.ai/bhavye-mathur/MERRA2-U/sweeps/2r9734vo' target=\"_blank\">https://wandb.ai/bhavye-mathur/MERRA2-U/sweeps/2r9734vo</a>"
     },
     "metadata": {},
     "output_type": "display_data"
    },
    {
     "data": {
      "text/plain": "<IPython.core.display.HTML object>",
      "text/html": " View run at <a href='https://wandb.ai/bhavye-mathur/MERRA2-U/runs/243ackon' target=\"_blank\">https://wandb.ai/bhavye-mathur/MERRA2-U/runs/243ackon</a>"
     },
     "metadata": {},
     "output_type": "display_data"
    },
    {
     "name": "stdout",
     "output_type": "stream",
     "text": [
      "Sequential(\n",
      "  (0): Linear(in_features=15, out_features=1024, bias=True)\n",
      "  (1): LeakyReLU(negative_slope=0.01)\n",
      "  (2): Linear(in_features=1024, out_features=512, bias=True)\n",
      "  (3): LeakyReLU(negative_slope=0.01)\n",
      "  (4): Linear(in_features=512, out_features=1, bias=True)\n",
      ")\n"
     ]
    },
    {
     "data": {
      "text/plain": "  0%|          | 0/30 [00:00<?, ?it/s]",
      "application/vnd.jupyter.widget-view+json": {
       "version_major": 2,
       "version_minor": 0,
       "model_id": "2f047999d8ce4d03b9121504359472c5"
      }
     },
     "metadata": {},
     "output_type": "display_data"
    },
    {
     "name": "stdout",
     "output_type": "stream",
     "text": [
      "0 1 2 3 4 5 6 7 8 9 10 11 12 13 14 15 16 17 18 19 20 21 22 23 24 25 26 27 28 29 "
     ]
    },
    {
     "data": {
      "text/plain": "<IPython.core.display.HTML object>",
      "text/html": "Waiting for W&B process to finish... <strong style=\"color:green\">(success).</strong>"
     },
     "metadata": {},
     "output_type": "display_data"
    },
    {
     "data": {
      "text/plain": "VBox(children=(Label(value='0.001 MB of 0.001 MB uploaded (0.000 MB deduped)\\r'), FloatProgress(value=1.0, max…",
      "application/vnd.jupyter.widget-view+json": {
       "version_major": 2,
       "version_minor": 0,
       "model_id": "d67ecf6b3c3d4a9bba4830d6a8f63e90"
      }
     },
     "metadata": {},
     "output_type": "display_data"
    },
    {
     "data": {
      "text/plain": "<IPython.core.display.HTML object>",
      "text/html": "<style>\n    table.wandb td:nth-child(1) { padding: 0 10px; text-align: left ; width: auto;} td:nth-child(2) {text-align: left ; width: 100%}\n    .wandb-row { display: flex; flex-direction: row; flex-wrap: wrap; justify-content: flex-start; width: 100% }\n    .wandb-col { display: flex; flex-direction: column; flex-basis: 100%; flex: 1; padding: 10px; }\n    </style>\n<div class=\"wandb-row\"><div class=\"wandb-col\"><h3>Run history:</h3><br/><table class=\"wandb\"><tr><td>train_loss</td><td>▁▁▁▁▁▁▁▁▁▁▁▁▁▁▁▁▁▁▁▁▁▁▁▁▁▁▁▁▁▁▁▁█▁▁▁▁▅▁▁</td></tr><tr><td>train_rmse</td><td>▁▁▁▁▁▁▁▁▁▂▁▁▁▁▁▁▁▃▁▁▁▁▁▁▁▂▁▁▁▁▁▁█▃▁▁▁▆▁▁</td></tr><tr><td>val_mae</td><td>▁▁▁▁▁▁▃▁▁▁▁▁▁▃▅▁▁▁▁▁▂▁▁▃▅▁█▂▁▃</td></tr><tr><td>val_rmse</td><td>▁▁▁▁▁▁▄▂▁▂▁▁▁▃▅▁▁▁▁▁▂▁▁▃▆▂█▂▁▃</td></tr></table><br/></div><div class=\"wandb-col\"><h3>Run summary:</h3><br/><table class=\"wandb\"><tr><td>train_loss</td><td>0.03006</td></tr><tr><td>train_rmse</td><td>1.70459</td></tr><tr><td>val_mae</td><td>35.60833</td></tr><tr><td>val_rmse</td><td>39.0956</td></tr></table><br/></div></div>"
     },
     "metadata": {},
     "output_type": "display_data"
    },
    {
     "data": {
      "text/plain": "<IPython.core.display.HTML object>",
      "text/html": " View run <strong style=\"color:#cdcd00\">earthy-sweep-7</strong> at: <a href='https://wandb.ai/bhavye-mathur/MERRA2-U/runs/243ackon' target=\"_blank\">https://wandb.ai/bhavye-mathur/MERRA2-U/runs/243ackon</a><br/>Synced 5 W&B file(s), 0 media file(s), 0 artifact file(s) and 0 other file(s)"
     },
     "metadata": {},
     "output_type": "display_data"
    },
    {
     "data": {
      "text/plain": "<IPython.core.display.HTML object>",
      "text/html": "Find logs at: <code>/var/folders/r5/mzzh3rn14lgb2__wr5h7swqm0000gn/T/wandb/run-20230215_132334-243ackon/logs</code>"
     },
     "metadata": {},
     "output_type": "display_data"
    },
    {
     "name": "stderr",
     "output_type": "stream",
     "text": [
      "\u001B[34m\u001B[1mwandb\u001B[0m: Agent Starting Run: 2t02vyc9 with config:\n",
      "\u001B[34m\u001B[1mwandb\u001B[0m: \tactivation: LeakyReLU\n",
      "\u001B[34m\u001B[1mwandb\u001B[0m: \tbatch_size: 2048\n",
      "\u001B[34m\u001B[1mwandb\u001B[0m: \tdataset: NGCTAUAV\n",
      "\u001B[34m\u001B[1mwandb\u001B[0m: \tepochs: 30\n",
      "\u001B[34m\u001B[1mwandb\u001B[0m: \testimate_quantile: 0.9935\n",
      "\u001B[34m\u001B[1mwandb\u001B[0m: \tlayers: [1024, 512, 128]\n",
      "\u001B[34m\u001B[1mwandb\u001B[0m: \tlearning_rate: 0.06115029255835645\n",
      "\u001B[34m\u001B[1mwandb\u001B[0m: \u001B[33mWARNING\u001B[0m Ignored wandb.init() arg project when running a sweep.\n",
      "wandb: WARNING Path wandb-local/wandb/ wasn't writable, using system temp directory\n"
     ]
    },
    {
     "data": {
      "text/plain": "<IPython.core.display.HTML object>",
      "text/html": "Tracking run with wandb version 0.13.10"
     },
     "metadata": {},
     "output_type": "display_data"
    },
    {
     "data": {
      "text/plain": "<IPython.core.display.HTML object>",
      "text/html": "Run data is saved locally in <code>/var/folders/r5/mzzh3rn14lgb2__wr5h7swqm0000gn/T/wandb/run-20230215_135342-2t02vyc9</code>"
     },
     "metadata": {},
     "output_type": "display_data"
    },
    {
     "data": {
      "text/plain": "<IPython.core.display.HTML object>",
      "text/html": "Syncing run <strong><a href='https://wandb.ai/bhavye-mathur/MERRA2-U/runs/2t02vyc9' target=\"_blank\">valiant-sweep-8</a></strong> to <a href='https://wandb.ai/bhavye-mathur/MERRA2-U' target=\"_blank\">Weights & Biases</a> (<a href='https://wandb.me/run' target=\"_blank\">docs</a>)<br/>Sweep page: <a href='https://wandb.ai/bhavye-mathur/MERRA2-U/sweeps/2r9734vo' target=\"_blank\">https://wandb.ai/bhavye-mathur/MERRA2-U/sweeps/2r9734vo</a>"
     },
     "metadata": {},
     "output_type": "display_data"
    },
    {
     "data": {
      "text/plain": "<IPython.core.display.HTML object>",
      "text/html": " View project at <a href='https://wandb.ai/bhavye-mathur/MERRA2-U' target=\"_blank\">https://wandb.ai/bhavye-mathur/MERRA2-U</a>"
     },
     "metadata": {},
     "output_type": "display_data"
    },
    {
     "data": {
      "text/plain": "<IPython.core.display.HTML object>",
      "text/html": " View sweep at <a href='https://wandb.ai/bhavye-mathur/MERRA2-U/sweeps/2r9734vo' target=\"_blank\">https://wandb.ai/bhavye-mathur/MERRA2-U/sweeps/2r9734vo</a>"
     },
     "metadata": {},
     "output_type": "display_data"
    },
    {
     "data": {
      "text/plain": "<IPython.core.display.HTML object>",
      "text/html": " View run at <a href='https://wandb.ai/bhavye-mathur/MERRA2-U/runs/2t02vyc9' target=\"_blank\">https://wandb.ai/bhavye-mathur/MERRA2-U/runs/2t02vyc9</a>"
     },
     "metadata": {},
     "output_type": "display_data"
    },
    {
     "name": "stdout",
     "output_type": "stream",
     "text": [
      "Sequential(\n",
      "  (0): Linear(in_features=15, out_features=1024, bias=True)\n",
      "  (1): LeakyReLU(negative_slope=0.01)\n",
      "  (2): Linear(in_features=1024, out_features=512, bias=True)\n",
      "  (3): LeakyReLU(negative_slope=0.01)\n",
      "  (4): Linear(in_features=512, out_features=128, bias=True)\n",
      "  (5): LeakyReLU(negative_slope=0.01)\n",
      "  (6): Linear(in_features=128, out_features=1, bias=True)\n",
      ")\n"
     ]
    },
    {
     "data": {
      "text/plain": "  0%|          | 0/30 [00:00<?, ?it/s]",
      "application/vnd.jupyter.widget-view+json": {
       "version_major": 2,
       "version_minor": 0,
       "model_id": "d4e173b3dd044938aba2f85ba297b2c5"
      }
     },
     "metadata": {},
     "output_type": "display_data"
    },
    {
     "name": "stdout",
     "output_type": "stream",
     "text": [
      "0 1 2 3 4 5 6 7 8 9 10 11 12 13 14 15 16 17 18 19 20 21 22 23 24 25 26 27 28 29 "
     ]
    },
    {
     "data": {
      "text/plain": "<IPython.core.display.HTML object>",
      "text/html": "Waiting for W&B process to finish... <strong style=\"color:green\">(success).</strong>"
     },
     "metadata": {},
     "output_type": "display_data"
    },
    {
     "data": {
      "text/plain": "VBox(children=(Label(value='0.001 MB of 0.001 MB uploaded (0.000 MB deduped)\\r'), FloatProgress(value=1.0, max…",
      "application/vnd.jupyter.widget-view+json": {
       "version_major": 2,
       "version_minor": 0,
       "model_id": "92ccbc8ae6f14f6a805ed638c8fd4717"
      }
     },
     "metadata": {},
     "output_type": "display_data"
    },
    {
     "data": {
      "text/plain": "<IPython.core.display.HTML object>",
      "text/html": "<style>\n    table.wandb td:nth-child(1) { padding: 0 10px; text-align: left ; width: auto;} td:nth-child(2) {text-align: left ; width: 100%}\n    .wandb-row { display: flex; flex-direction: row; flex-wrap: wrap; justify-content: flex-start; width: 100% }\n    .wandb-col { display: flex; flex-direction: column; flex-basis: 100%; flex: 1; padding: 10px; }\n    </style>\n<div class=\"wandb-row\"><div class=\"wandb-col\"><h3>Run history:</h3><br/><table class=\"wandb\"><tr><td>train_loss</td><td>▁▁▁▁▁▁▁▁▁▁▁▁▁▁▁▁▁▁▃▁▁▁▁▄▁▁█▃▁▂▁▁▁▁▁▁▁▁▁▁</td></tr><tr><td>train_rmse</td><td>▁▁▁▁▁▁▁▁▂▁▁▂▁▁▁▂▁▁▄▁▂▁▁▅▂▁█▅▁▄▂▂▁▁▂▁▁▁▁▁</td></tr><tr><td>val_mae</td><td>▁▁▁▁▁▂▄▂▄▂▂▂▃▂▃▂▂▂▁▃▂▁▇█▃█▁▂▁▁</td></tr><tr><td>val_rmse</td><td>▁▁▁▁▁▂▄▂▄▂▂▃▃▂▃▂▂▂▂▃▂▂▇█▃█▂▂▂▁</td></tr></table><br/></div><div class=\"wandb-col\"><h3>Run summary:</h3><br/><table class=\"wandb\"><tr><td>train_loss</td><td>587.69586</td></tr><tr><td>train_rmse</td><td>238.35165</td></tr><tr><td>val_mae</td><td>162.1214</td></tr><tr><td>val_rmse</td><td>221.15236</td></tr></table><br/></div></div>"
     },
     "metadata": {},
     "output_type": "display_data"
    },
    {
     "data": {
      "text/plain": "<IPython.core.display.HTML object>",
      "text/html": " View run <strong style=\"color:#cdcd00\">valiant-sweep-8</strong> at: <a href='https://wandb.ai/bhavye-mathur/MERRA2-U/runs/2t02vyc9' target=\"_blank\">https://wandb.ai/bhavye-mathur/MERRA2-U/runs/2t02vyc9</a><br/>Synced 5 W&B file(s), 0 media file(s), 0 artifact file(s) and 0 other file(s)"
     },
     "metadata": {},
     "output_type": "display_data"
    },
    {
     "data": {
      "text/plain": "<IPython.core.display.HTML object>",
      "text/html": "Find logs at: <code>/var/folders/r5/mzzh3rn14lgb2__wr5h7swqm0000gn/T/wandb/run-20230215_135342-2t02vyc9/logs</code>"
     },
     "metadata": {},
     "output_type": "display_data"
    },
    {
     "name": "stderr",
     "output_type": "stream",
     "text": [
      "\u001B[34m\u001B[1mwandb\u001B[0m: Agent Starting Run: qo72rrhy with config:\n",
      "\u001B[34m\u001B[1mwandb\u001B[0m: \tactivation: PReLU\n",
      "\u001B[34m\u001B[1mwandb\u001B[0m: \tbatch_size: 4096\n",
      "\u001B[34m\u001B[1mwandb\u001B[0m: \tdataset: NGCTAUAV\n",
      "\u001B[34m\u001B[1mwandb\u001B[0m: \tepochs: 30\n",
      "\u001B[34m\u001B[1mwandb\u001B[0m: \testimate_quantile: 0.9935\n",
      "\u001B[34m\u001B[1mwandb\u001B[0m: \tlayers: [128, 64]\n",
      "\u001B[34m\u001B[1mwandb\u001B[0m: \tlearning_rate: 0.05704235776654416\n",
      "\u001B[34m\u001B[1mwandb\u001B[0m: \u001B[33mWARNING\u001B[0m Ignored wandb.init() arg project when running a sweep.\n",
      "wandb: WARNING Path wandb-local/wandb/ wasn't writable, using system temp directory\n"
     ]
    },
    {
     "data": {
      "text/plain": "VBox(children=(Label(value='Waiting for wandb.init()...\\r'), FloatProgress(value=0.016752695133345697, max=1.0…",
      "application/vnd.jupyter.widget-view+json": {
       "version_major": 2,
       "version_minor": 0,
       "model_id": "a3fc635f1ff3405b8772e02dc160e2ac"
      }
     },
     "metadata": {},
     "output_type": "display_data"
    },
    {
     "data": {
      "text/plain": "<IPython.core.display.HTML object>",
      "text/html": "Tracking run with wandb version 0.13.10"
     },
     "metadata": {},
     "output_type": "display_data"
    },
    {
     "data": {
      "text/plain": "<IPython.core.display.HTML object>",
      "text/html": "Run data is saved locally in <code>/var/folders/r5/mzzh3rn14lgb2__wr5h7swqm0000gn/T/wandb/run-20230215_143530-qo72rrhy</code>"
     },
     "metadata": {},
     "output_type": "display_data"
    },
    {
     "data": {
      "text/plain": "<IPython.core.display.HTML object>",
      "text/html": "Syncing run <strong><a href='https://wandb.ai/bhavye-mathur/MERRA2-U/runs/qo72rrhy' target=\"_blank\">earthy-sweep-9</a></strong> to <a href='https://wandb.ai/bhavye-mathur/MERRA2-U' target=\"_blank\">Weights & Biases</a> (<a href='https://wandb.me/run' target=\"_blank\">docs</a>)<br/>Sweep page: <a href='https://wandb.ai/bhavye-mathur/MERRA2-U/sweeps/2r9734vo' target=\"_blank\">https://wandb.ai/bhavye-mathur/MERRA2-U/sweeps/2r9734vo</a>"
     },
     "metadata": {},
     "output_type": "display_data"
    },
    {
     "data": {
      "text/plain": "<IPython.core.display.HTML object>",
      "text/html": " View project at <a href='https://wandb.ai/bhavye-mathur/MERRA2-U' target=\"_blank\">https://wandb.ai/bhavye-mathur/MERRA2-U</a>"
     },
     "metadata": {},
     "output_type": "display_data"
    },
    {
     "data": {
      "text/plain": "<IPython.core.display.HTML object>",
      "text/html": " View sweep at <a href='https://wandb.ai/bhavye-mathur/MERRA2-U/sweeps/2r9734vo' target=\"_blank\">https://wandb.ai/bhavye-mathur/MERRA2-U/sweeps/2r9734vo</a>"
     },
     "metadata": {},
     "output_type": "display_data"
    },
    {
     "data": {
      "text/plain": "<IPython.core.display.HTML object>",
      "text/html": " View run at <a href='https://wandb.ai/bhavye-mathur/MERRA2-U/runs/qo72rrhy' target=\"_blank\">https://wandb.ai/bhavye-mathur/MERRA2-U/runs/qo72rrhy</a>"
     },
     "metadata": {},
     "output_type": "display_data"
    },
    {
     "name": "stdout",
     "output_type": "stream",
     "text": [
      "Sequential(\n",
      "  (0): Linear(in_features=15, out_features=128, bias=True)\n",
      "  (1): PReLU(num_parameters=1)\n",
      "  (2): Linear(in_features=128, out_features=64, bias=True)\n",
      "  (3): PReLU(num_parameters=1)\n",
      "  (4): Linear(in_features=64, out_features=1, bias=True)\n",
      ")\n"
     ]
    },
    {
     "data": {
      "text/plain": "  0%|          | 0/30 [00:00<?, ?it/s]",
      "application/vnd.jupyter.widget-view+json": {
       "version_major": 2,
       "version_minor": 0,
       "model_id": "8ad7933c8f6945c28e9e4ec33d7429df"
      }
     },
     "metadata": {},
     "output_type": "display_data"
    },
    {
     "name": "stdout",
     "output_type": "stream",
     "text": [
      "0 1 2 3 4 5 6 7 8 9 10 11 12 13 14 15 16 17 18 19 20 21 22 23 24 25 26 27 28 29 "
     ]
    },
    {
     "data": {
      "text/plain": "<IPython.core.display.HTML object>",
      "text/html": "Waiting for W&B process to finish... <strong style=\"color:green\">(success).</strong>"
     },
     "metadata": {},
     "output_type": "display_data"
    },
    {
     "data": {
      "text/plain": "<IPython.core.display.HTML object>",
      "text/html": "<style>\n    table.wandb td:nth-child(1) { padding: 0 10px; text-align: left ; width: auto;} td:nth-child(2) {text-align: left ; width: 100%}\n    .wandb-row { display: flex; flex-direction: row; flex-wrap: wrap; justify-content: flex-start; width: 100% }\n    .wandb-col { display: flex; flex-direction: column; flex-basis: 100%; flex: 1; padding: 10px; }\n    </style>\n<div class=\"wandb-row\"><div class=\"wandb-col\"><h3>Run history:</h3><br/><table class=\"wandb\"><tr><td>train_loss</td><td>▁▁▁▁▁▁▁▁▁▁▁▁▁▁▆▁▁▁▁▁▁▁▁▁▁▁▁▁▁▁▁▁▁▁█▂▁▄▁▃</td></tr><tr><td>train_rmse</td><td>▁▁▁▁▁▁▁▁▁▁▁▁▁▁▇▂▁▁▁▁▁▁▃▂▁▁▁▁▁▁▁▁▁▁█▃▂▅▁▅</td></tr><tr><td>val_mae</td><td>▁▁▁▂▁▁▁▁▁▁▂▂▂▁▁▁▃▂▁▁▁▁▁▁▁█▃▂▁▂</td></tr><tr><td>val_rmse</td><td>▁▁▁▂▁▁▁▁▁▁▂▂▂▁▁▁▃▂▁▁▁▁▁▁▁█▃▂▁▂</td></tr></table><br/></div><div class=\"wandb-col\"><h3>Run summary:</h3><br/><table class=\"wandb\"><tr><td>train_loss</td><td>3.52895</td></tr><tr><td>train_rmse</td><td>18.4699</td></tr><tr><td>val_mae</td><td>3.30168</td></tr><tr><td>val_rmse</td><td>3.75418</td></tr></table><br/></div></div>"
     },
     "metadata": {},
     "output_type": "display_data"
    },
    {
     "data": {
      "text/plain": "<IPython.core.display.HTML object>",
      "text/html": " View run <strong style=\"color:#cdcd00\">earthy-sweep-9</strong> at: <a href='https://wandb.ai/bhavye-mathur/MERRA2-U/runs/qo72rrhy' target=\"_blank\">https://wandb.ai/bhavye-mathur/MERRA2-U/runs/qo72rrhy</a><br/>Synced 5 W&B file(s), 0 media file(s), 0 artifact file(s) and 0 other file(s)"
     },
     "metadata": {},
     "output_type": "display_data"
    },
    {
     "data": {
      "text/plain": "<IPython.core.display.HTML object>",
      "text/html": "Find logs at: <code>/var/folders/r5/mzzh3rn14lgb2__wr5h7swqm0000gn/T/wandb/run-20230215_143530-qo72rrhy/logs</code>"
     },
     "metadata": {},
     "output_type": "display_data"
    },
    {
     "name": "stderr",
     "output_type": "stream",
     "text": [
      "\u001B[34m\u001B[1mwandb\u001B[0m: Agent Starting Run: 0gnncklw with config:\n",
      "\u001B[34m\u001B[1mwandb\u001B[0m: \tactivation: PReLU\n",
      "\u001B[34m\u001B[1mwandb\u001B[0m: \tbatch_size: 4096\n",
      "\u001B[34m\u001B[1mwandb\u001B[0m: \tdataset: NGCTAUAV\n",
      "\u001B[34m\u001B[1mwandb\u001B[0m: \tepochs: 30\n",
      "\u001B[34m\u001B[1mwandb\u001B[0m: \testimate_quantile: 0.9935\n",
      "\u001B[34m\u001B[1mwandb\u001B[0m: \tlayers: [512, 1024, 32]\n",
      "\u001B[34m\u001B[1mwandb\u001B[0m: \tlearning_rate: 0.000301283172898827\n",
      "\u001B[34m\u001B[1mwandb\u001B[0m: \u001B[33mWARNING\u001B[0m Ignored wandb.init() arg project when running a sweep.\n",
      "wandb: WARNING Path wandb-local/wandb/ wasn't writable, using system temp directory\n"
     ]
    },
    {
     "data": {
      "text/plain": "<IPython.core.display.HTML object>",
      "text/html": "Tracking run with wandb version 0.13.10"
     },
     "metadata": {},
     "output_type": "display_data"
    },
    {
     "data": {
      "text/plain": "<IPython.core.display.HTML object>",
      "text/html": "Run data is saved locally in <code>/var/folders/r5/mzzh3rn14lgb2__wr5h7swqm0000gn/T/wandb/run-20230215_144627-0gnncklw</code>"
     },
     "metadata": {},
     "output_type": "display_data"
    },
    {
     "data": {
      "text/plain": "<IPython.core.display.HTML object>",
      "text/html": "Syncing run <strong><a href='https://wandb.ai/bhavye-mathur/MERRA2-U/runs/0gnncklw' target=\"_blank\">rose-sweep-10</a></strong> to <a href='https://wandb.ai/bhavye-mathur/MERRA2-U' target=\"_blank\">Weights & Biases</a> (<a href='https://wandb.me/run' target=\"_blank\">docs</a>)<br/>Sweep page: <a href='https://wandb.ai/bhavye-mathur/MERRA2-U/sweeps/2r9734vo' target=\"_blank\">https://wandb.ai/bhavye-mathur/MERRA2-U/sweeps/2r9734vo</a>"
     },
     "metadata": {},
     "output_type": "display_data"
    },
    {
     "data": {
      "text/plain": "<IPython.core.display.HTML object>",
      "text/html": " View project at <a href='https://wandb.ai/bhavye-mathur/MERRA2-U' target=\"_blank\">https://wandb.ai/bhavye-mathur/MERRA2-U</a>"
     },
     "metadata": {},
     "output_type": "display_data"
    },
    {
     "data": {
      "text/plain": "<IPython.core.display.HTML object>",
      "text/html": " View sweep at <a href='https://wandb.ai/bhavye-mathur/MERRA2-U/sweeps/2r9734vo' target=\"_blank\">https://wandb.ai/bhavye-mathur/MERRA2-U/sweeps/2r9734vo</a>"
     },
     "metadata": {},
     "output_type": "display_data"
    },
    {
     "data": {
      "text/plain": "<IPython.core.display.HTML object>",
      "text/html": " View run at <a href='https://wandb.ai/bhavye-mathur/MERRA2-U/runs/0gnncklw' target=\"_blank\">https://wandb.ai/bhavye-mathur/MERRA2-U/runs/0gnncklw</a>"
     },
     "metadata": {},
     "output_type": "display_data"
    },
    {
     "name": "stdout",
     "output_type": "stream",
     "text": [
      "Sequential(\n",
      "  (0): Linear(in_features=15, out_features=512, bias=True)\n",
      "  (1): PReLU(num_parameters=1)\n",
      "  (2): Linear(in_features=512, out_features=1024, bias=True)\n",
      "  (3): PReLU(num_parameters=1)\n",
      "  (4): Linear(in_features=1024, out_features=32, bias=True)\n",
      "  (5): PReLU(num_parameters=1)\n",
      "  (6): Linear(in_features=32, out_features=1, bias=True)\n",
      ")\n"
     ]
    },
    {
     "data": {
      "text/plain": "  0%|          | 0/30 [00:00<?, ?it/s]",
      "application/vnd.jupyter.widget-view+json": {
       "version_major": 2,
       "version_minor": 0,
       "model_id": "c816d24c48a44802bd43b3504719a8e0"
      }
     },
     "metadata": {},
     "output_type": "display_data"
    },
    {
     "name": "stdout",
     "output_type": "stream",
     "text": [
      "0 1 2 3 4 5 6 7 8 9 10 11 12 13 14 15 16 17 18 19 20 21 22 23 24 25 26 27 28 29 "
     ]
    },
    {
     "data": {
      "text/plain": "<IPython.core.display.HTML object>",
      "text/html": "Waiting for W&B process to finish... <strong style=\"color:green\">(success).</strong>"
     },
     "metadata": {},
     "output_type": "display_data"
    },
    {
     "data": {
      "text/plain": "<IPython.core.display.HTML object>",
      "text/html": "<style>\n    table.wandb td:nth-child(1) { padding: 0 10px; text-align: left ; width: auto;} td:nth-child(2) {text-align: left ; width: 100%}\n    .wandb-row { display: flex; flex-direction: row; flex-wrap: wrap; justify-content: flex-start; width: 100% }\n    .wandb-col { display: flex; flex-direction: column; flex-basis: 100%; flex: 1; padding: 10px; }\n    </style>\n<div class=\"wandb-row\"><div class=\"wandb-col\"><h3>Run history:</h3><br/><table class=\"wandb\"><tr><td>train_loss</td><td>▄▃▄▆▅▂▅▆▁▆▄▃▅▅▅▅▆█▅▄▅▄▃▆▇▄▃▄▄▆▂▃▆▁▃▄▃▂▃▅</td></tr><tr><td>train_rmse</td><td>▄▃▄▆▅▃▅▆▁▆▄▃▅▅▅▆▆█▅▅▅▄▃▆▇▄▃▄▄▆▂▃▆▁▃▄▃▂▃▅</td></tr><tr><td>val_mae</td><td>▇▄▅▄▃▃▆▂▇▃▅▂▃▄▃▂▄▂▃▂▂▂▂▂█▂▂▂▁▂</td></tr><tr><td>val_rmse</td><td>█▅▆▄▃▃▇▃█▄▆▂▃▅▃▃▄▂▃▂▂▂▂▂█▂▂▂▁▁</td></tr></table><br/></div><div class=\"wandb-col\"><h3>Run summary:</h3><br/><table class=\"wandb\"><tr><td>train_loss</td><td>0.00151</td></tr><tr><td>train_rmse</td><td>0.3817</td></tr><tr><td>val_mae</td><td>0.28145</td></tr><tr><td>val_rmse</td><td>0.39595</td></tr></table><br/></div></div>"
     },
     "metadata": {},
     "output_type": "display_data"
    },
    {
     "data": {
      "text/plain": "<IPython.core.display.HTML object>",
      "text/html": " View run <strong style=\"color:#cdcd00\">rose-sweep-10</strong> at: <a href='https://wandb.ai/bhavye-mathur/MERRA2-U/runs/0gnncklw' target=\"_blank\">https://wandb.ai/bhavye-mathur/MERRA2-U/runs/0gnncklw</a><br/>Synced 5 W&B file(s), 0 media file(s), 0 artifact file(s) and 0 other file(s)"
     },
     "metadata": {},
     "output_type": "display_data"
    },
    {
     "data": {
      "text/plain": "<IPython.core.display.HTML object>",
      "text/html": "Find logs at: <code>/var/folders/r5/mzzh3rn14lgb2__wr5h7swqm0000gn/T/wandb/run-20230215_144627-0gnncklw/logs</code>"
     },
     "metadata": {},
     "output_type": "display_data"
    },
    {
     "name": "stderr",
     "output_type": "stream",
     "text": [
      "\u001B[34m\u001B[1mwandb\u001B[0m: Sweep Agent: Waiting for job.\n",
      "\u001B[34m\u001B[1mwandb\u001B[0m: Job received.\n",
      "\u001B[34m\u001B[1mwandb\u001B[0m: Agent Starting Run: k2s0g9zi with config:\n",
      "\u001B[34m\u001B[1mwandb\u001B[0m: \tactivation: LeakyReLU\n",
      "\u001B[34m\u001B[1mwandb\u001B[0m: \tbatch_size: 8192\n",
      "\u001B[34m\u001B[1mwandb\u001B[0m: \tdataset: NGCTAUAV\n",
      "\u001B[34m\u001B[1mwandb\u001B[0m: \tepochs: 30\n",
      "\u001B[34m\u001B[1mwandb\u001B[0m: \testimate_quantile: 0.9935\n",
      "\u001B[34m\u001B[1mwandb\u001B[0m: \tlayers: [128, 64]\n",
      "\u001B[34m\u001B[1mwandb\u001B[0m: \tlearning_rate: 0.04563286337360238\n",
      "\u001B[34m\u001B[1mwandb\u001B[0m: \u001B[33mWARNING\u001B[0m Ignored wandb.init() arg project when running a sweep.\n",
      "wandb: WARNING Path wandb-local/wandb/ wasn't writable, using system temp directory\n"
     ]
    },
    {
     "data": {
      "text/plain": "VBox(children=(Label(value='Waiting for wandb.init()...\\r'), FloatProgress(value=0.0168365298499945, max=1.0))…",
      "application/vnd.jupyter.widget-view+json": {
       "version_major": 2,
       "version_minor": 0,
       "model_id": "aa7a147ec80d46d5a4d777e38820abd2"
      }
     },
     "metadata": {},
     "output_type": "display_data"
    },
    {
     "data": {
      "text/plain": "<IPython.core.display.HTML object>",
      "text/html": "Tracking run with wandb version 0.13.10"
     },
     "metadata": {},
     "output_type": "display_data"
    },
    {
     "data": {
      "text/plain": "<IPython.core.display.HTML object>",
      "text/html": "Run data is saved locally in <code>/var/folders/r5/mzzh3rn14lgb2__wr5h7swqm0000gn/T/wandb/run-20230215_152245-k2s0g9zi</code>"
     },
     "metadata": {},
     "output_type": "display_data"
    },
    {
     "data": {
      "text/plain": "<IPython.core.display.HTML object>",
      "text/html": "Syncing run <strong><a href='https://wandb.ai/bhavye-mathur/MERRA2-U/runs/k2s0g9zi' target=\"_blank\">absurd-sweep-11</a></strong> to <a href='https://wandb.ai/bhavye-mathur/MERRA2-U' target=\"_blank\">Weights & Biases</a> (<a href='https://wandb.me/run' target=\"_blank\">docs</a>)<br/>Sweep page: <a href='https://wandb.ai/bhavye-mathur/MERRA2-U/sweeps/2r9734vo' target=\"_blank\">https://wandb.ai/bhavye-mathur/MERRA2-U/sweeps/2r9734vo</a>"
     },
     "metadata": {},
     "output_type": "display_data"
    },
    {
     "data": {
      "text/plain": "<IPython.core.display.HTML object>",
      "text/html": " View project at <a href='https://wandb.ai/bhavye-mathur/MERRA2-U' target=\"_blank\">https://wandb.ai/bhavye-mathur/MERRA2-U</a>"
     },
     "metadata": {},
     "output_type": "display_data"
    },
    {
     "data": {
      "text/plain": "<IPython.core.display.HTML object>",
      "text/html": " View sweep at <a href='https://wandb.ai/bhavye-mathur/MERRA2-U/sweeps/2r9734vo' target=\"_blank\">https://wandb.ai/bhavye-mathur/MERRA2-U/sweeps/2r9734vo</a>"
     },
     "metadata": {},
     "output_type": "display_data"
    },
    {
     "data": {
      "text/plain": "<IPython.core.display.HTML object>",
      "text/html": " View run at <a href='https://wandb.ai/bhavye-mathur/MERRA2-U/runs/k2s0g9zi' target=\"_blank\">https://wandb.ai/bhavye-mathur/MERRA2-U/runs/k2s0g9zi</a>"
     },
     "metadata": {},
     "output_type": "display_data"
    },
    {
     "name": "stdout",
     "output_type": "stream",
     "text": [
      "Sequential(\n",
      "  (0): Linear(in_features=15, out_features=128, bias=True)\n",
      "  (1): LeakyReLU(negative_slope=0.01)\n",
      "  (2): Linear(in_features=128, out_features=64, bias=True)\n",
      "  (3): LeakyReLU(negative_slope=0.01)\n",
      "  (4): Linear(in_features=64, out_features=1, bias=True)\n",
      ")\n"
     ]
    },
    {
     "data": {
      "text/plain": "  0%|          | 0/30 [00:00<?, ?it/s]",
      "application/vnd.jupyter.widget-view+json": {
       "version_major": 2,
       "version_minor": 0,
       "model_id": "a1a41af462064bc79a96fdfc485d35a7"
      }
     },
     "metadata": {},
     "output_type": "display_data"
    },
    {
     "name": "stdout",
     "output_type": "stream",
     "text": [
      "0 1 2 3 4 5 6 7 8 9 10 11 12 13 14 15 16 17 18 19 20 21 22 23 24 25 26 27 28 29 "
     ]
    },
    {
     "data": {
      "text/plain": "<IPython.core.display.HTML object>",
      "text/html": "Waiting for W&B process to finish... <strong style=\"color:green\">(success).</strong>"
     },
     "metadata": {},
     "output_type": "display_data"
    },
    {
     "data": {
      "text/plain": "<IPython.core.display.HTML object>",
      "text/html": "<style>\n    table.wandb td:nth-child(1) { padding: 0 10px; text-align: left ; width: auto;} td:nth-child(2) {text-align: left ; width: 100%}\n    .wandb-row { display: flex; flex-direction: row; flex-wrap: wrap; justify-content: flex-start; width: 100% }\n    .wandb-col { display: flex; flex-direction: column; flex-basis: 100%; flex: 1; padding: 10px; }\n    </style>\n<div class=\"wandb-row\"><div class=\"wandb-col\"><h3>Run history:</h3><br/><table class=\"wandb\"><tr><td>train_loss</td><td>▂▁▂▁▁▁▁▁▂▁▁▁▁▁▁▁▁▁█▂▁▁▃▁▁▁▂▁▁▆▃▂▁▂▁▁▁▁▁▁</td></tr><tr><td>train_rmse</td><td>▂▁▂▁▁▁▁▁▂▂▂▁▁▂▁▁▁▂█▂▂▁▃▁▂▂▂▁▁▆▃▂▂▂▂▁▁▁▁▂</td></tr><tr><td>val_mae</td><td>▁▁▁▂▁▁▂▃▁▁▁▂▃▇▂█▂▃▂▂▃▃▁▅▁▂▁▁▂▁</td></tr><tr><td>val_rmse</td><td>▁▁▁▂▁▁▂▃▁▁▁▁▃█▂█▂▃▂▂▃▃▁▅▁▂▁▁▂▁</td></tr></table><br/></div><div class=\"wandb-col\"><h3>Run summary:</h3><br/><table class=\"wandb\"><tr><td>train_loss</td><td>0.00164</td></tr><tr><td>train_rmse</td><td>0.39788</td></tr><tr><td>val_mae</td><td>0.2825</td></tr><tr><td>val_rmse</td><td>0.39821</td></tr></table><br/></div></div>"
     },
     "metadata": {},
     "output_type": "display_data"
    },
    {
     "data": {
      "text/plain": "<IPython.core.display.HTML object>",
      "text/html": " View run <strong style=\"color:#cdcd00\">absurd-sweep-11</strong> at: <a href='https://wandb.ai/bhavye-mathur/MERRA2-U/runs/k2s0g9zi' target=\"_blank\">https://wandb.ai/bhavye-mathur/MERRA2-U/runs/k2s0g9zi</a><br/>Synced 5 W&B file(s), 0 media file(s), 0 artifact file(s) and 0 other file(s)"
     },
     "metadata": {},
     "output_type": "display_data"
    },
    {
     "data": {
      "text/plain": "<IPython.core.display.HTML object>",
      "text/html": "Find logs at: <code>/var/folders/r5/mzzh3rn14lgb2__wr5h7swqm0000gn/T/wandb/run-20230215_152245-k2s0g9zi/logs</code>"
     },
     "metadata": {},
     "output_type": "display_data"
    },
    {
     "name": "stderr",
     "output_type": "stream",
     "text": [
      "\u001B[34m\u001B[1mwandb\u001B[0m: Sweep Agent: Waiting for job.\n",
      "\u001B[34m\u001B[1mwandb\u001B[0m: Job received.\n",
      "\u001B[34m\u001B[1mwandb\u001B[0m: Agent Starting Run: sy4mm5yf with config:\n",
      "\u001B[34m\u001B[1mwandb\u001B[0m: \tactivation: LeakyReLU\n",
      "\u001B[34m\u001B[1mwandb\u001B[0m: \tbatch_size: 4096\n",
      "\u001B[34m\u001B[1mwandb\u001B[0m: \tdataset: NGCTAUAV\n",
      "\u001B[34m\u001B[1mwandb\u001B[0m: \tepochs: 30\n",
      "\u001B[34m\u001B[1mwandb\u001B[0m: \testimate_quantile: 0.9935\n",
      "\u001B[34m\u001B[1mwandb\u001B[0m: \tlayers: [128, 64]\n",
      "\u001B[34m\u001B[1mwandb\u001B[0m: \tlearning_rate: 0.055224191074892785\n",
      "\u001B[34m\u001B[1mwandb\u001B[0m: \u001B[33mWARNING\u001B[0m Ignored wandb.init() arg project when running a sweep.\n",
      "wandb: WARNING Path wandb-local/wandb/ wasn't writable, using system temp directory\n"
     ]
    },
    {
     "data": {
      "text/plain": "<IPython.core.display.HTML object>",
      "text/html": "Tracking run with wandb version 0.13.10"
     },
     "metadata": {},
     "output_type": "display_data"
    },
    {
     "data": {
      "text/plain": "<IPython.core.display.HTML object>",
      "text/html": "Run data is saved locally in <code>/var/folders/r5/mzzh3rn14lgb2__wr5h7swqm0000gn/T/wandb/run-20230215_153207-sy4mm5yf</code>"
     },
     "metadata": {},
     "output_type": "display_data"
    },
    {
     "data": {
      "text/plain": "<IPython.core.display.HTML object>",
      "text/html": "Syncing run <strong><a href='https://wandb.ai/bhavye-mathur/MERRA2-U/runs/sy4mm5yf' target=\"_blank\">fine-sweep-12</a></strong> to <a href='https://wandb.ai/bhavye-mathur/MERRA2-U' target=\"_blank\">Weights & Biases</a> (<a href='https://wandb.me/run' target=\"_blank\">docs</a>)<br/>Sweep page: <a href='https://wandb.ai/bhavye-mathur/MERRA2-U/sweeps/2r9734vo' target=\"_blank\">https://wandb.ai/bhavye-mathur/MERRA2-U/sweeps/2r9734vo</a>"
     },
     "metadata": {},
     "output_type": "display_data"
    },
    {
     "data": {
      "text/plain": "<IPython.core.display.HTML object>",
      "text/html": " View project at <a href='https://wandb.ai/bhavye-mathur/MERRA2-U' target=\"_blank\">https://wandb.ai/bhavye-mathur/MERRA2-U</a>"
     },
     "metadata": {},
     "output_type": "display_data"
    },
    {
     "data": {
      "text/plain": "<IPython.core.display.HTML object>",
      "text/html": " View sweep at <a href='https://wandb.ai/bhavye-mathur/MERRA2-U/sweeps/2r9734vo' target=\"_blank\">https://wandb.ai/bhavye-mathur/MERRA2-U/sweeps/2r9734vo</a>"
     },
     "metadata": {},
     "output_type": "display_data"
    },
    {
     "data": {
      "text/plain": "<IPython.core.display.HTML object>",
      "text/html": " View run at <a href='https://wandb.ai/bhavye-mathur/MERRA2-U/runs/sy4mm5yf' target=\"_blank\">https://wandb.ai/bhavye-mathur/MERRA2-U/runs/sy4mm5yf</a>"
     },
     "metadata": {},
     "output_type": "display_data"
    },
    {
     "name": "stdout",
     "output_type": "stream",
     "text": [
      "Sequential(\n",
      "  (0): Linear(in_features=15, out_features=128, bias=True)\n",
      "  (1): LeakyReLU(negative_slope=0.01)\n",
      "  (2): Linear(in_features=128, out_features=64, bias=True)\n",
      "  (3): LeakyReLU(negative_slope=0.01)\n",
      "  (4): Linear(in_features=64, out_features=1, bias=True)\n",
      ")\n"
     ]
    },
    {
     "data": {
      "text/plain": "  0%|          | 0/30 [00:00<?, ?it/s]",
      "application/vnd.jupyter.widget-view+json": {
       "version_major": 2,
       "version_minor": 0,
       "model_id": "bbca27e4557d4f3cb55d26e94f5ffa90"
      }
     },
     "metadata": {},
     "output_type": "display_data"
    },
    {
     "name": "stdout",
     "output_type": "stream",
     "text": [
      "0 "
     ]
    },
    {
     "name": "stderr",
     "output_type": "stream",
     "text": [
      "\u001B[34m\u001B[1mwandb\u001B[0m: Network error (ConnectionError), entering retry loop.\n"
     ]
    },
    {
     "name": "stdout",
     "output_type": "stream",
     "text": [
      "1 2 3 4 5 6 7 "
     ]
    },
    {
     "name": "stderr",
     "output_type": "stream",
     "text": [
      "\u001B[34m\u001B[1mwandb\u001B[0m: Network error (ConnectionError), entering retry loop.\n"
     ]
    },
    {
     "name": "stdout",
     "output_type": "stream",
     "text": [
      "8 9 10 11 12 13 14 15 16 17 18 19 20 21 22 23 24 25 26 27 28 29 "
     ]
    },
    {
     "data": {
      "text/plain": "<IPython.core.display.HTML object>",
      "text/html": "Waiting for W&B process to finish... <strong style=\"color:green\">(success).</strong>"
     },
     "metadata": {},
     "output_type": "display_data"
    },
    {
     "name": "stderr",
     "output_type": "stream",
     "text": [
      "wandb: Network error (ConnectionError), entering retry loop.\n"
     ]
    },
    {
     "data": {
      "text/plain": "<IPython.core.display.HTML object>",
      "text/html": "<style>\n    table.wandb td:nth-child(1) { padding: 0 10px; text-align: left ; width: auto;} td:nth-child(2) {text-align: left ; width: 100%}\n    .wandb-row { display: flex; flex-direction: row; flex-wrap: wrap; justify-content: flex-start; width: 100% }\n    .wandb-col { display: flex; flex-direction: column; flex-basis: 100%; flex: 1; padding: 10px; }\n    </style>\n<div class=\"wandb-row\"><div class=\"wandb-col\"><h3>Run history:</h3><br/><table class=\"wandb\"><tr><td>train_loss</td><td>▁▁▂▁▁▁▁▁▂▁▁▁▁▁▁▁▁▁▁▁▂▁▁▁▁█▂▁▁▁▁▁▁▁▁▁▁▁▁▃</td></tr><tr><td>train_rmse</td><td>▁▁▂▁▁▁▁▂▂▁▁▁▁▁▁▂▁▁▁▁▃▁▂▁▁█▃▁▁▁▁▁▁▁▁▁▁▁▁▄</td></tr><tr><td>val_mae</td><td>▁▁▁▁▁▂▁▁▁▁▁▁█▄▁▁▁▂▁▁▁▂▁▃▅▂▁▂▁▁</td></tr><tr><td>val_rmse</td><td>▁▁▁▁▁▂▁▁▁▁▁▁█▃▁▁▁▂▁▁▁▂▁▂▄▂▁▁▁▁</td></tr></table><br/></div><div class=\"wandb-col\"><h3>Run summary:</h3><br/><table class=\"wandb\"><tr><td>train_loss</td><td>0.0017</td></tr><tr><td>train_rmse</td><td>0.4054</td></tr><tr><td>val_mae</td><td>0.28713</td></tr><tr><td>val_rmse</td><td>0.40378</td></tr></table><br/></div></div>"
     },
     "metadata": {},
     "output_type": "display_data"
    },
    {
     "data": {
      "text/plain": "<IPython.core.display.HTML object>",
      "text/html": " View run <strong style=\"color:#cdcd00\">fine-sweep-12</strong> at: <a href='https://wandb.ai/bhavye-mathur/MERRA2-U/runs/sy4mm5yf' target=\"_blank\">https://wandb.ai/bhavye-mathur/MERRA2-U/runs/sy4mm5yf</a><br/>Synced 5 W&B file(s), 0 media file(s), 0 artifact file(s) and 0 other file(s)"
     },
     "metadata": {},
     "output_type": "display_data"
    },
    {
     "data": {
      "text/plain": "<IPython.core.display.HTML object>",
      "text/html": "Find logs at: <code>/var/folders/r5/mzzh3rn14lgb2__wr5h7swqm0000gn/T/wandb/run-20230215_153207-sy4mm5yf/logs</code>"
     },
     "metadata": {},
     "output_type": "display_data"
    },
    {
     "name": "stderr",
     "output_type": "stream",
     "text": [
      "\u001B[34m\u001B[1mwandb\u001B[0m: Agent Starting Run: ehn8utse with config:\n",
      "\u001B[34m\u001B[1mwandb\u001B[0m: \tactivation: LeakyReLU\n",
      "\u001B[34m\u001B[1mwandb\u001B[0m: \tbatch_size: 4096\n",
      "\u001B[34m\u001B[1mwandb\u001B[0m: \tdataset: NGCTAUAV\n",
      "\u001B[34m\u001B[1mwandb\u001B[0m: \tepochs: 30\n",
      "\u001B[34m\u001B[1mwandb\u001B[0m: \testimate_quantile: 0.9935\n",
      "\u001B[34m\u001B[1mwandb\u001B[0m: \tlayers: [128, 64]\n",
      "\u001B[34m\u001B[1mwandb\u001B[0m: \tlearning_rate: 0.027027414705634908\n",
      "\u001B[34m\u001B[1mwandb\u001B[0m: \u001B[33mWARNING\u001B[0m Ignored wandb.init() arg project when running a sweep.\n",
      "wandb: WARNING Path wandb-local/wandb/ wasn't writable, using system temp directory\n"
     ]
    },
    {
     "data": {
      "text/plain": "<IPython.core.display.HTML object>",
      "text/html": "Tracking run with wandb version 0.13.10"
     },
     "metadata": {},
     "output_type": "display_data"
    },
    {
     "data": {
      "text/plain": "<IPython.core.display.HTML object>",
      "text/html": "Run data is saved locally in <code>/var/folders/r5/mzzh3rn14lgb2__wr5h7swqm0000gn/T/wandb/run-20230215_160202-ehn8utse</code>"
     },
     "metadata": {},
     "output_type": "display_data"
    },
    {
     "data": {
      "text/plain": "<IPython.core.display.HTML object>",
      "text/html": "Syncing run <strong><a href='https://wandb.ai/bhavye-mathur/MERRA2-U/runs/ehn8utse' target=\"_blank\">ruby-sweep-13</a></strong> to <a href='https://wandb.ai/bhavye-mathur/MERRA2-U' target=\"_blank\">Weights & Biases</a> (<a href='https://wandb.me/run' target=\"_blank\">docs</a>)<br/>Sweep page: <a href='https://wandb.ai/bhavye-mathur/MERRA2-U/sweeps/2r9734vo' target=\"_blank\">https://wandb.ai/bhavye-mathur/MERRA2-U/sweeps/2r9734vo</a>"
     },
     "metadata": {},
     "output_type": "display_data"
    },
    {
     "data": {
      "text/plain": "<IPython.core.display.HTML object>",
      "text/html": " View project at <a href='https://wandb.ai/bhavye-mathur/MERRA2-U' target=\"_blank\">https://wandb.ai/bhavye-mathur/MERRA2-U</a>"
     },
     "metadata": {},
     "output_type": "display_data"
    },
    {
     "data": {
      "text/plain": "<IPython.core.display.HTML object>",
      "text/html": " View sweep at <a href='https://wandb.ai/bhavye-mathur/MERRA2-U/sweeps/2r9734vo' target=\"_blank\">https://wandb.ai/bhavye-mathur/MERRA2-U/sweeps/2r9734vo</a>"
     },
     "metadata": {},
     "output_type": "display_data"
    },
    {
     "data": {
      "text/plain": "<IPython.core.display.HTML object>",
      "text/html": " View run at <a href='https://wandb.ai/bhavye-mathur/MERRA2-U/runs/ehn8utse' target=\"_blank\">https://wandb.ai/bhavye-mathur/MERRA2-U/runs/ehn8utse</a>"
     },
     "metadata": {},
     "output_type": "display_data"
    },
    {
     "name": "stdout",
     "output_type": "stream",
     "text": [
      "Sequential(\n",
      "  (0): Linear(in_features=15, out_features=128, bias=True)\n",
      "  (1): LeakyReLU(negative_slope=0.01)\n",
      "  (2): Linear(in_features=128, out_features=64, bias=True)\n",
      "  (3): LeakyReLU(negative_slope=0.01)\n",
      "  (4): Linear(in_features=64, out_features=1, bias=True)\n",
      ")\n"
     ]
    },
    {
     "data": {
      "text/plain": "  0%|          | 0/30 [00:00<?, ?it/s]",
      "application/vnd.jupyter.widget-view+json": {
       "version_major": 2,
       "version_minor": 0,
       "model_id": "f4fee1b371b7473c8dedd988494d9d09"
      }
     },
     "metadata": {},
     "output_type": "display_data"
    },
    {
     "name": "stdout",
     "output_type": "stream",
     "text": [
      "0 1 "
     ]
    },
    {
     "name": "stderr",
     "output_type": "stream",
     "text": [
      "\u001B[34m\u001B[1mwandb\u001B[0m: Ctrl + C detected. Stopping sweep.\n"
     ]
    }
   ],
   "source": [
    "sweep_configuration = {\n",
    "    \"method\": \"bayes\",\n",
    "    \"name\": f\"sweep-{DATASET}\",\n",
    "    \"metric\": {\n",
    "        \"goal\": \"minimize\",\n",
    "        \"name\": \"val_rmse\"\n",
    "    },\n",
    "    \"parameters\": {\n",
    "        \"batch_size\": {\"values\": [2048, 4096, 8192]},\n",
    "        \"learning_rate\": {\"max\": 0.1, \"min\": 0.0001},\n",
    "        \"layers\": {\"values\": [(128, 64), (64, 128), (256, 128), (128, 256), (512, 256), (1024, 512), (512, 1024),\n",
    "                              (2048, 1024), (2048, 1024), (576, 361, 36), (36, 361, 576), (512, 1024, 32),\n",
    "                              (1024, 512, 128), (512, 256, 128, 64)]},\n",
    "        \"estimate_quantile\": {\"value\": ESTIMATE_QUANTILE},\n",
    "        \"dataset\": {\"value\": DATASET},\n",
    "        \"epochs\": {\"value\": EPOCHS},\n",
    "        \"activation\": {\"values\": [\"ReLU\", \"Tanh\", \"PReLU\", \"LeakyReLU\"]},\n",
    "    },\n",
    "    \"early_terminate\": {\n",
    "        \"type\": \"hyperband\",\n",
    "        \"min_iter\": 5,\n",
    "    }\n",
    "}\n",
    "\n",
    "sweep_id = wandb.sweep(sweep=sweep_configuration, project=f\"MERRA2-{VARIABLE}\")\n",
    "wandb.agent(sweep_id, function=main)"
   ],
   "metadata": {
    "collapsed": false
   }
  },
  {
   "cell_type": "code",
   "execution_count": 14,
   "outputs": [
    {
     "data": {
      "text/plain": "  0%|          | 0/973 [00:00<?, ?it/s]",
      "application/vnd.jupyter.widget-view+json": {
       "version_major": 2,
       "version_minor": 0,
       "model_id": "5df4a82250164fdeab70effe75f0b52b"
      }
     },
     "metadata": {},
     "output_type": "display_data"
    },
    {
     "name": "stdout",
     "output_type": "stream",
     "text": [
      "RMSE: 0.4102303087711334 m/s\n",
      "MAE:  0.29246410727500916 m/s\n"
     ]
    }
   ],
   "source": [
    "def test(model, dl):\n",
    "    model.eval()\n",
    "\n",
    "    mse = 0\n",
    "    mae = 0\n",
    "\n",
    "    with torch.no_grad():\n",
    "        for inputs, targets in tqdm(dl):\n",
    "            prediction = model(inputs).squeeze()\n",
    "\n",
    "            mse += torch.nn.functional.mse_loss(prediction, targets)\n",
    "            mae += torch.nn.functional.l1_loss(prediction, targets)\n",
    "\n",
    "    return (mse / len(dl)) ** 0.5 * stds[VARIABLE], (mae / len(dl)) * stds[VARIABLE]\n",
    "\n",
    "\n",
    "test_dl = DataLoader(test, batch_size=2048, shuffle=False)\n",
    "test_rmse, test_mae = test(model, test)\n",
    "\n",
    "print(f\"RMSE: {test_rmse} m/s\")\n",
    "print(f\"MAE:  {test_mae} m/s\")\n"
   ],
   "metadata": {
    "collapsed": false
   }
  }
 ],
 "metadata": {
  "kernelspec": {
   "display_name": "Python 3",
   "language": "python",
   "name": "python3"
  },
  "language_info": {
   "codemirror_mode": {
    "name": "ipython",
    "version": 2
   },
   "file_extension": ".py",
   "mimetype": "text/x-python",
   "name": "python",
   "nbconvert_exporter": "python",
   "pygments_lexer": "ipython2",
   "version": "2.7.6"
  }
 },
 "nbformat": 4,
 "nbformat_minor": 0
}

{
 "cells": [
  {
   "cell_type": "code",
   "execution_count": 43,
   "metadata": {
    "collapsed": true
   },
   "outputs": [],
   "source": [
    "from tqdm.notebook import tqdm\n",
    "\n",
    "from plot import *\n",
    "from fft import *\n",
    "from maths import rmse, mae\n"
   ]
  },
  {
   "cell_type": "code",
   "execution_count": 209,
   "outputs": [],
   "source": [
    "def fit_yavg_dft2_at_time(filename: str, variable: str, time: int, skip_levels: int = 2, levels: int = 72, **kwargs):\n",
    "    data = load_yavg_variable_at_time(filename, variable, time)[::-1]\n",
    "    data = data[:levels + skip_levels]\n",
    "    prediction = np.zeros((levels, 361, 576), dtype=\"float32\")\n",
    "\n",
    "    preds = []\n",
    "    for lev in tqdm(range(0, levels + skip_levels, skip_levels)):\n",
    "        fft = dft2_at_time_and_level(data[lev], **kwargs)\n",
    "        pred = idft2_at_time_and_level(*fft)\n",
    "\n",
    "        preds.append(pred)\n",
    "\n",
    "        if lev < levels:\n",
    "            prediction[lev] = pred\n",
    "\n",
    "    for lev in range(levels):\n",
    "        if lev % skip_levels == 0:\n",
    "            continue\n",
    "\n",
    "        pred_idx = lev // skip_levels\n",
    "        t = (lev % skip_levels) / skip_levels\n",
    "\n",
    "        prediction[lev] = preds[pred_idx] * (1 - t) + preds[pred_idx + 1] * t\n",
    "\n",
    "    data = data[:levels]\n",
    "    print(f\"Original Stdev: {(data.astype('float32')).std()} m/s\")\n",
    "    print(f\"Predicted RMSE: {rmse(data.astype('float32'), prediction)} m/s\")\n",
    "    print(f\"Predicted MAE:  {mae(data.astype('float32'), prediction)} m/s\")\n",
    "    print(f\"Size/time: {sum(el.nbytes for el in fft) * len(preds) / (1024 ** 2)} mB\")\n",
    "    print(f\"Size/day: {sum(el.nbytes for el in fft) * len(preds) * 8 / (1024 ** 2)} mB\")\n",
    "    print(f\"Size/year: {sum(el.nbytes for el in fft) * len(preds) * 8 * 365 / (1024 ** 2)} mB\")\n"
   ],
   "metadata": {
    "collapsed": false
   }
  },
  {
   "cell_type": "code",
   "execution_count": 217,
   "outputs": [
    {
     "data": {
      "text/plain": "  0%|          | 0/11 [00:00<?, ?it/s]",
      "application/vnd.jupyter.widget-view+json": {
       "version_major": 2,
       "version_minor": 0,
       "model_id": "51eb5477c2a448f89c068cb656f13cd0"
      }
     },
     "metadata": {},
     "output_type": "display_data"
    },
    {
     "name": "stdout",
     "output_type": "stream",
     "text": [
      "Original Stdev: 9.237070083618164 m/s\n",
      "Predicted RMSE: 0.7944099221105478 m/s\n",
      "Predicted MAE:  0.5580173134803772 m/s\n",
      "Size/time: 0.072845458984375 mB\n",
      "Size/day: 0.582763671875 mB\n",
      "Size/year: 212.708740234375 mB\n"
     ]
    }
   ],
   "source": [
    "fit_yavg_dft2_at_time(\"MERRA2_{}.tavg3_3d_asm_Nv.{}0101.nc4\", \"U\",\n",
    "                 time=0, quantile=0.9905, skip_levels=3, levels=30)\n"
   ],
   "metadata": {
    "collapsed": false
   }
  }
 ],
 "metadata": {
  "kernelspec": {
   "display_name": "Python 3",
   "language": "python",
   "name": "python3"
  },
  "language_info": {
   "codemirror_mode": {
    "name": "ipython",
    "version": 2
   },
   "file_extension": ".py",
   "mimetype": "text/x-python",
   "name": "python",
   "nbconvert_exporter": "python",
   "pygments_lexer": "ipython2",
   "version": "2.7.6"
  }
 },
 "nbformat": 4,
 "nbformat_minor": 0
}

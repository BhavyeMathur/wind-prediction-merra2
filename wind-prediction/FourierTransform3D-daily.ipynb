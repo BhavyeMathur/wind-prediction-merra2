{
 "cells": [
  {
   "cell_type": "code",
   "execution_count": 1,
   "metadata": {
    "collapsed": true
   },
   "outputs": [],
   "source": [
    "import pickle\n",
    "\n",
    "from plot import *\n",
    "from fft import *\n",
    "from maths import rmse, mse, mae, linear_interpolate, cosine_interpolate, cubic_interpolate\n",
    "from maths import catmull_rom_interpolate, hermite_interpolate, fit_kochanek_bartels_spline\n"
   ]
  },
  {
   "cell_type": "code",
   "execution_count": 2,
   "outputs": [],
   "source": [
    "def dft3_at_time(data: np.ndarray, quantile: float = 0.75):\n",
    "    fft = np.fft.rfftn(data)\n",
    "    amplitudes = np.abs(fft)\n",
    "\n",
    "    fft_real = []\n",
    "    fft_imag = []\n",
    "    fft_i_indices = []\n",
    "    fft_j_indices = []\n",
    "    fft_k_indices = []\n",
    "\n",
    "    cutoff_amp = np.quantile(amplitudes, quantile)\n",
    "\n",
    "    for i in range(36):\n",
    "        for k in range(289):\n",
    "            for j in range(361):\n",
    "                if amplitudes[i, j, k] < cutoff_amp:\n",
    "                    continue\n",
    "\n",
    "                fft_real.append(fft[i, j, k].real)\n",
    "                fft_imag.append(fft[i, j, k].imag)\n",
    "                fft_i_indices.append(i)\n",
    "                fft_j_indices.append(j)\n",
    "                fft_k_indices.append(k)\n",
    "\n",
    "    fft_real = (np.array(fft_real, dtype=\"float32\") / 131072).astype(\"float16\")\n",
    "    fft_real = encode_zlib(fft_real)\n",
    "\n",
    "    fft_imag = (np.array(fft_imag, dtype=\"float32\") / 131072).astype(\"float16\")\n",
    "    fft_imag = encode_zlib(fft_imag)\n",
    "\n",
    "    fft_i_indices = np.array(fft_i_indices, dtype=\"int16\")\n",
    "    fft_i_indices = encode_difference_uint8(fft_i_indices)\n",
    "    fft_i_indices = encode_zlib(fft_i_indices)\n",
    "\n",
    "    fft_j_indices = np.array(fft_j_indices, dtype=\"int16\")\n",
    "    fft_j_indices = encode_difference_uint8(fft_j_indices)\n",
    "    fft_j_indices = encode_zlib(fft_j_indices)\n",
    "\n",
    "    fft_k_indices = np.array(fft_k_indices, dtype=\"int16\")\n",
    "    fft_k_indices = encode_difference_uint8(fft_k_indices)\n",
    "    fft_k_indices = encode_zlib(fft_k_indices)\n",
    "\n",
    "    return fft_real, fft_imag, fft_i_indices, fft_j_indices, fft_k_indices\n",
    "\n",
    "\n",
    "def idft3_at_time(fft_real, fft_imag, fft_i_indices, fft_j_indices, fft_k_indices):\n",
    "    ifft = np.zeros((36, 361, 289), dtype=\"complex64\")\n",
    "\n",
    "    fft_real = decode_zlib(fft_real, dtype=\"float16\")\n",
    "    fft_imag = decode_zlib(fft_imag, dtype=\"float16\")\n",
    "    fft = fft_real.astype(\"complex64\") * 131072 + fft_imag.astype(\"complex64\") * 131072j\n",
    "\n",
    "    fft_i_indices = decode_zlib(fft_i_indices)\n",
    "    fft_i_indices = decode_difference_uint8(fft_i_indices)\n",
    "\n",
    "    fft_j_indices = decode_zlib(fft_j_indices)\n",
    "    fft_j_indices = decode_difference_uint8(fft_j_indices)\n",
    "\n",
    "    fft_k_indices = decode_zlib(fft_k_indices)\n",
    "    fft_k_indices = decode_difference_uint8(fft_k_indices)\n",
    "\n",
    "    for idx in range(len(fft)):\n",
    "        ifft[fft_i_indices[idx], fft_j_indices[idx], fft_k_indices[idx]] = fft[idx]\n",
    "\n",
    "    return np.fft.irfftn(ifft)"
   ],
   "metadata": {
    "collapsed": false
   }
  },
  {
   "cell_type": "code",
   "execution_count": 3,
   "outputs": [],
   "source": [
    "def fit_dft3_at_time(filename: str, variable: str, time: int, verbose: bool = True, **kwargs):\n",
    "    data = load_variable_at_time(filename, variable, time, cache=verbose)\n",
    "    fft = dft3_at_time(data, **kwargs)\n",
    "\n",
    "    output = f\"{variable}/{kwargs['quantile']}/{format_date(filename, for_output=True)}-{format_time(time, filename)}\"\n",
    "    with open(\"models/2D-dft/\" + output + \".bin\", \"wb\") as file:\n",
    "        pickle.dump(fft, file, protocol=pickle.HIGHEST_PROTOCOL)\n",
    "\n",
    "    data = data.astype(\"float32\")\n",
    "    prediction = idft3_at_time(*fft)\n",
    "    if verbose:\n",
    "        size = sum(el.nbytes for el in fft)\n",
    "        lines = f\"\"\"\n",
    "        Original Stdev: {data.std()} m/s\n",
    "        Predicted MAE:  {mae(data, prediction)} m/s\n",
    "        Predicted RMSE: {rmse(data, prediction)} m/s\n",
    "\n",
    "        Size/time: {size / (1000 ** 2)} MB\n",
    "        Size/day: {size * 8 / (1000 ** 2)} MB\n",
    "        Size/year: {size * 8 * 365 / (1000 ** 2)} MB\n",
    "        \"\"\"\n",
    "        print(lines)\n",
    "    else:\n",
    "        return data, prediction, fft\n",
    "\n",
    "\n",
    "def fit_dft3_on_day(filename: str, variable: str, **kwargs):\n",
    "    data_variance = 0\n",
    "    mae_error = 0\n",
    "    mse_error = 0\n",
    "    all_dfts = []\n",
    "\n",
    "    for time in tqdm(range(8)):\n",
    "        data, pred, dfts = fit_dft3_at_time(filename, variable, time, verbose=False, **kwargs)\n",
    "        all_dfts.append(dfts)\n",
    "\n",
    "        data_variance += data.var()\n",
    "        mae_error += mae(data, pred)\n",
    "        mse_error += mse(data, pred)\n",
    "\n",
    "    size = sum(el.nbytes for dft in all_dfts for el in dft)\n",
    "    lines = f\"\"\"\n",
    "    Original Stdev: {(data_variance / 8) ** 0.5} m/s\n",
    "    Predicted MAE:  {(mae_error / 8).mean()} m/s\n",
    "    Predicted RMSE: {(mse_error / 8).mean() ** 0.5} m/s\n",
    "\n",
    "    Size/day: {size / (1000 ** 2)} MB\n",
    "    Size/year: {size * 365 / (1000 ** 2)} MB\n",
    "    \"\"\"\n",
    "    print(lines)\n",
    "\n",
    "\n",
    "def fit_dft3(filename: str, variable: str, **kwargs):\n",
    "    data_variance = 0\n",
    "    mae_error = 0\n",
    "    mse_error = 0\n",
    "    all_dfts = []\n",
    "\n",
    "    for mm in tqdm(range(1, 13)):\n",
    "        for dd in tqdm(range(*monthrange(2001, mm))):\n",
    "            for time in range(8):\n",
    "                data, pred, dfts = fit_dft3_at_time(filename.format(mm, dd + 1), variable, time, verbose=False, **kwargs)\n",
    "                all_dfts.append(dfts)\n",
    "\n",
    "                data_variance += data.var()\n",
    "                mae_error += mae(data, pred)\n",
    "                mse_error += mse(data, pred)\n",
    "\n",
    "    size = sum(el.nbytes for dft in all_dfts for el in dft)\n",
    "    lines = f\"\"\"\n",
    "    Original Stdev: {(data_variance / (8 * 365)) ** 0.5} m/s\n",
    "    Predicted MAE:  {(mae_error / (8 * 365)).mean()} m/s\n",
    "    Predicted RMSE: {(mse_error / (8 * 365)).mean() ** 0.5} m/s\n",
    "\n",
    "    Size: {size * 365 / (1000 ** 2)} MB\n",
    "    \"\"\"\n",
    "    print(lines)\n",
    "\n",
    "\n",
    "def test_time_interpolated_dft3_on_day(filename: str, variable: str, times, quantile: float,\n",
    "                                       interpolation: callable=linear_interpolate):\n",
    "    data_variance = 0\n",
    "    mae_error = 0\n",
    "    mse_error = 0\n",
    "    all_dfts = []\n",
    "    preds = []\n",
    "\n",
    "    times = sorted(times)\n",
    "    first_time = times[0]\n",
    "    last_time = times[-1]\n",
    "\n",
    "    for time in tqdm(times):\n",
    "        path = f\"{variable}/{quantile}/{format_date(filename, for_output=True)}-{format_time(time, filename)}\"\n",
    "        with open(\"models/2D-dft/\" + path + \".bin\", \"rb\") as file:\n",
    "            fft = pickle.load(file)\n",
    "\n",
    "        data = load_variable_at_time(filename, variable, time).astype(\"float32\")\n",
    "        pred = idft3_at_time(*fft)\n",
    "\n",
    "        preds.append(pred)\n",
    "        all_dfts.append(fft)\n",
    "\n",
    "        data_variance += data.var()\n",
    "        mae_error += mae(data, pred)\n",
    "        mse_error += mse(data, pred)\n",
    "\n",
    "    if interpolation in {cubic_interpolate, catmull_rom_interpolate, hermite_interpolate}:\n",
    "        path = f\"{variable}/{quantile}/{format_date(get_previous_file(filename), for_output=True)}-{format_time(last_time, filename)}\"\n",
    "        with open(\"models/2D-dft/\" + path + \".bin\", \"rb\") as file:\n",
    "            fft = pickle.load(file)\n",
    "        preds.insert(0, idft3_at_time(*fft))\n",
    "        times.insert(0, last_time - 8)\n",
    "\n",
    "    if times[-1] != 7:\n",
    "        path = f\"{variable}/{quantile}/{format_date(get_next_file(filename), for_output=True)}-{format_time(first_time, filename)}\"\n",
    "        with open(\"models/2D-dft/\" + path + \".bin\", \"rb\") as file:\n",
    "            fft = pickle.load(file)\n",
    "        preds.append(idft3_at_time(*fft))\n",
    "        times.append(8 + first_time)\n",
    "\n",
    "    for time in tqdm(range(8)):\n",
    "        if time in times:\n",
    "            continue\n",
    "\n",
    "        data = load_variable_at_time(filename, variable, time).astype(\"float32\")\n",
    "\n",
    "        pred_idx = -1\n",
    "        for t in times:\n",
    "            if t < time:\n",
    "                pred_idx += 1\n",
    "\n",
    "        t = (time - times[pred_idx]) / (times[pred_idx + 1] - times[pred_idx])\n",
    "        pred = interpolation(preds, pred_idx, t)\n",
    "\n",
    "        data_variance += data.var()\n",
    "        mae_error += mae(data, pred)\n",
    "        mse_error += mse(data, pred)\n",
    "\n",
    "\n",
    "    size = sum(el.nbytes for dft in all_dfts for el in dft)\n",
    "    lines = f\"\"\"\n",
    "    Original Stdev: {(data_variance / 8) ** 0.5} m/s\n",
    "    Predicted MAE:  {(mae_error / 8).mean()} m/s\n",
    "    Predicted RMSE: {(mse_error / 8).mean() ** 0.5} m/s\n",
    "\n",
    "    Size/day: {size / (1000 ** 2)} MB\n",
    "    Size/year: {size * 365 / (1000 ** 2)} MB\n",
    "    \"\"\"\n",
    "    print(lines)\n",
    "\n",
    "\n",
    "def test_kochanek_bartels_interpolated_dft3_on_day(filename: str, variable: str, times, quantile: float):\n",
    "    data_variance = 0\n",
    "    mae_error = 0\n",
    "    mse_error = 0\n",
    "    all_dfts = []\n",
    "    preds = []\n",
    "\n",
    "    times = sorted(times)\n",
    "    first_time = times[0]\n",
    "    last_time = times[-1]\n",
    "\n",
    "    for time in tqdm(times):\n",
    "        path = f\"{variable}/{quantile}/{format_date(filename, for_output=True)}-{format_time(time, filename)}\"\n",
    "        with open(\"models/2D-dft/\" + path + \".bin\", \"rb\") as file:\n",
    "            fft = pickle.load(file)\n",
    "\n",
    "        data = load_variable_at_time(filename, variable, time).astype(\"float32\")\n",
    "        pred = idft3_at_time(*fft)\n",
    "\n",
    "        preds.append(pred)\n",
    "        all_dfts.append(fft)\n",
    "\n",
    "        data_variance += data.var()\n",
    "        mae_error += mae(data, pred)\n",
    "        mse_error += mse(data, pred)\n",
    "\n",
    "    path = f\"{variable}/{quantile}/{format_date(get_previous_file(filename), for_output=True)}-{format_time(last_time, filename)}\"\n",
    "    with open(\"models/2D-dft/\" + path + \".bin\", \"rb\") as file:\n",
    "        fft = pickle.load(file)\n",
    "    preds.insert(0, idft3_at_time(*fft))\n",
    "    times.insert(0, last_time - 8)\n",
    "\n",
    "    if times[-1] != 7:\n",
    "        path = f\"{variable}/{quantile}/{format_date(get_next_file(filename), for_output=True)}-{format_time(first_time, filename)}\"\n",
    "        with open(\"models/2D-dft/\" + path + \".bin\", \"rb\") as file:\n",
    "            fft = pickle.load(file)\n",
    "        preds.append(idft3_at_time(*fft))\n",
    "        times.append(8 + first_time)\n",
    "\n",
    "    for time in tqdm(range(8)):\n",
    "        if time in times:\n",
    "            continue\n",
    "\n",
    "        data = load_variable_at_time(filename, variable, time).astype(\"float32\")\n",
    "\n",
    "        pred_idx = -1\n",
    "        for t in times:\n",
    "            if t < time:\n",
    "                pred_idx += 1\n",
    "\n",
    "        t = (time - times[pred_idx]) / (times[pred_idx + 1] - times[pred_idx])\n",
    "        tension, bias = fit_kochanek_bartels_spline(data, preds, pred_idx, t)\n",
    "        pred = hermite_interpolate(preds, pred_idx, t, tension, bias)\n",
    "\n",
    "        data_variance += data.var()\n",
    "        mae_error += mae(data, pred)\n",
    "        mse_error += mse(data, pred)\n",
    "\n",
    "\n",
    "    size = sum(el.nbytes for dft in all_dfts for el in dft)\n",
    "    lines = f\"\"\"\n",
    "    Original Stdev: {(data_variance / 8) ** 0.5} m/s\n",
    "    Predicted MAE:  {(mae_error / 8).mean()} m/s\n",
    "    Predicted RMSE: {(mse_error / 8).mean() ** 0.5} m/s\n",
    "\n",
    "    Size/day: {size / (1000 ** 2)} MB\n",
    "    Size/year: {size * 365 / (1000 ** 2)} MB\n",
    "    \"\"\"\n",
    "    print(lines)"
   ],
   "metadata": {
    "collapsed": false
   }
  },
  {
   "cell_type": "code",
   "execution_count": null,
   "outputs": [
    {
     "data": {
      "text/plain": "  0%|          | 0/12 [00:00<?, ?it/s]",
      "application/vnd.jupyter.widget-view+json": {
       "version_major": 2,
       "version_minor": 0,
       "model_id": "9576d041203c45da9f7d326b3f3e9bc4"
      }
     },
     "metadata": {},
     "output_type": "display_data"
    },
    {
     "data": {
      "text/plain": "  0%|          | 0/31 [00:00<?, ?it/s]",
      "application/vnd.jupyter.widget-view+json": {
       "version_major": 2,
       "version_minor": 0,
       "model_id": "322416ebdedc452d84f08f060e756893"
      }
     },
     "metadata": {},
     "output_type": "display_data"
    }
   ],
   "source": [
    "fit_dft3(\"MERRA2.tavg3_3d_asm_Nv.YAVG{:0>2}{:0>2}.nc4\", \"U\", quantile=0.9935)\n"
   ],
   "metadata": {
    "collapsed": false,
    "pycharm": {
     "is_executing": true
    }
   }
  },
  {
   "cell_type": "code",
   "execution_count": 51,
   "outputs": [
    {
     "data": {
      "text/plain": "  0%|          | 0/4 [00:00<?, ?it/s]",
      "application/vnd.jupyter.widget-view+json": {
       "version_major": 2,
       "version_minor": 0,
       "model_id": "353e885141ab4572ae17706f44302f06"
      }
     },
     "metadata": {},
     "output_type": "display_data"
    },
    {
     "data": {
      "text/plain": "  0%|          | 0/8 [00:00<?, ?it/s]",
      "application/vnd.jupyter.widget-view+json": {
       "version_major": 2,
       "version_minor": 0,
       "model_id": "06355c6122084968a476561c26de85ad"
      }
     },
     "metadata": {},
     "output_type": "display_data"
    },
    {
     "name": "stdout",
     "output_type": "stream",
     "text": [
      "\n",
      "    Original Stdev: 10.1023820749644 m/s\n",
      "    Predicted MAE:  0.31276865822024297 m/s\n",
      "    Predicted RMSE: 0.43608778712894103 m/s\n",
      "\n",
      "    Size/day: 0.397969 MB\n",
      "    Size/year: 145.258685 MB\n",
      "    \n"
     ]
    }
   ],
   "source": [
    "test_time_interpolated_dft3_on_day(\"MERRA2.tavg3_3d_asm_Nv.YAVG0101.nc4\", \"U\", quantile=0.9935, times=[0, 2, 4, 6],\n",
    "                                   interpolation=linear_interpolate)\n"
   ],
   "metadata": {
    "collapsed": false
   }
  },
  {
   "cell_type": "code",
   "execution_count": 68,
   "outputs": [
    {
     "data": {
      "text/plain": "  0%|          | 0/4 [00:00<?, ?it/s]",
      "application/vnd.jupyter.widget-view+json": {
       "version_major": 2,
       "version_minor": 0,
       "model_id": "1fd9664ab99e4593bf5265a8f36eb39a"
      }
     },
     "metadata": {},
     "output_type": "display_data"
    },
    {
     "data": {
      "text/plain": "  0%|          | 0/8 [00:00<?, ?it/s]",
      "application/vnd.jupyter.widget-view+json": {
       "version_major": 2,
       "version_minor": 0,
       "model_id": "bb967d19ea6c4bde80e8ad55a521a8da"
      }
     },
     "metadata": {},
     "output_type": "display_data"
    },
    {
     "name": "stdout",
     "output_type": "stream",
     "text": [
      "\n",
      "    Original Stdev: 10.1023820749644 m/s\n",
      "    Predicted MAE:  0.30946352425649476 m/s\n",
      "    Predicted RMSE: 0.4307088466977594 m/s\n",
      "\n",
      "    Size/day: 0.397969 MB\n",
      "    Size/year: 145.258685 MB\n",
      "    \n"
     ]
    }
   ],
   "source": [
    "test_time_interpolated_dft3_on_day(\"MERRA2.tavg3_3d_asm_Nv.YAVG0101.nc4\", \"U\", quantile=0.9935, times=[0, 2, 4, 6],\n",
    "                                   interpolation=hermite_interpolate)\n"
   ],
   "metadata": {
    "collapsed": false
   }
  },
  {
   "cell_type": "code",
   "execution_count": 70,
   "outputs": [
    {
     "data": {
      "text/plain": "  0%|          | 0/4 [00:00<?, ?it/s]",
      "application/vnd.jupyter.widget-view+json": {
       "version_major": 2,
       "version_minor": 0,
       "model_id": "29fb59314f054b769eba365dfa93c886"
      }
     },
     "metadata": {},
     "output_type": "display_data"
    },
    {
     "data": {
      "text/plain": "  0%|          | 0/8 [00:00<?, ?it/s]",
      "application/vnd.jupyter.widget-view+json": {
       "version_major": 2,
       "version_minor": 0,
       "model_id": "d5f7fb7cb9c241f298833e09465873e7"
      }
     },
     "metadata": {},
     "output_type": "display_data"
    },
    {
     "name": "stdout",
     "output_type": "stream",
     "text": [
      "\n",
      "    Original Stdev: 10.1023820749644 m/s\n",
      "    Predicted MAE:  0.30929989214711295 m/s\n",
      "    Predicted RMSE: 0.4304912686130738 m/s\n",
      "\n",
      "    Size/day: 0.397969 MB\n",
      "    Size/year: 145.258685 MB\n",
      "    \n"
     ]
    }
   ],
   "source": [
    "test_kochanek_bartels_interpolated_dft3_on_day(\"MERRA2.tavg3_3d_asm_Nv.YAVG0101.nc4\", \"U\", quantile=0.9935, times=[0, 2, 4, 6])\n"
   ],
   "metadata": {
    "collapsed": false
   }
  }
 ],
 "metadata": {
  "kernelspec": {
   "display_name": "Python 3",
   "language": "python",
   "name": "python3"
  },
  "language_info": {
   "codemirror_mode": {
    "name": "ipython",
    "version": 2
   },
   "file_extension": ".py",
   "mimetype": "text/x-python",
   "name": "python",
   "nbconvert_exporter": "python",
   "pygments_lexer": "ipython2",
   "version": "2.7.6"
  }
 },
 "nbformat": 4,
 "nbformat_minor": 0
}

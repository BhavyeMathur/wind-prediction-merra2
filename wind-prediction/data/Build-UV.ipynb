{
 "cells": [
  {
   "cell_type": "code",
   "execution_count": 1,
   "outputs": [],
   "source": [
    "import sys\n",
    "\n",
    "sys.path.append(\"../\")\n",
    "\n",
    "import pickle\n",
    "\n",
    "from fft import *\n",
    "from data_loading import *\n",
    "from maths import linear_interpolate, rmse\n"
   ],
   "metadata": {
    "collapsed": false,
    "ExecuteTime": {
     "end_time": "2023-07-26T06:17:05.696094Z",
     "start_time": "2023-07-26T06:17:05.109662Z"
    }
   }
  },
  {
   "cell_type": "code",
   "execution_count": 3,
   "outputs": [],
   "source": [
    "def build_dataset(n, variable):\n",
    "    longitudes = np.random.randint(0, 576, size=n, dtype=\"uint16\")\n",
    "    latitudes = np.random.randint(0, 361, size=n, dtype=\"uint16\")\n",
    "    times = np.random.randint(0, 365 * 8, size=n, dtype=\"uint16\")\n",
    "    levels = np.random.randint(0, 36, size=n, dtype=\"uint8\")\n",
    "\n",
    "    zeros = np.zeros(shape=n, dtype=\"float16\")\n",
    "\n",
    "    data = pd.DataFrame({\"time\": times, \"lev\": levels, \"lat\": latitudes, \"lon\": longitudes, variable: zeros})\n",
    "    data = data.sort_values(by=\"lev\", ignore_index=True)\n",
    "\n",
    "    print(f\"Size: {data.memory_usage().sum() / (1000 ** 2)} MB\")\n",
    "    print(f\"Duplicates: {100 * data.reset_index().duplicated(subset=['lat', 'lon', 'lev', 'time']).sum() / n:.3f}%\")\n",
    "\n",
    "    indices = data[[\"time\", \"lev\", \"lat\", \"lon\"]].values.T\n",
    "\n",
    "    targets = load_variable(\"MERRA2.tavg3_3d_asm_Nv.YAVG{:0>2}{:0>2}.nc4\", variable, cache=False, folder=\".\")\n",
    "    data[variable] = targets[*indices]\n",
    "    del targets\n",
    "\n",
    "    data.to_feather(f\"subset/{variable}-{n}.ft\")\n",
    "\n",
    "\n",
    "def build_3dft_dataset(n, quantile, variables=(\"U\", \"V\"),\n",
    "                       variable_levels={\"U\": [0, 1, 2, 3, 4, 5, 6, 7, 8, 9, 10, 11, 13, 16, 19, 23, 28, 32, 34, 35],\n",
    "                                        \"V\": [0, 1, 2, 3, 4, 5, 6, 7, 8, 9, 10, 12, 14, 17, 20, 23, 28, 32, 34, 35]}):\n",
    "    longitudes = np.random.randint(0, 576, size=n, dtype=\"uint16\")\n",
    "    latitudes = np.random.randint(0, 361, size=n, dtype=\"uint16\")\n",
    "    times = np.random.randint(0, 365 * 8, size=n, dtype=\"uint16\")\n",
    "    levels = np.random.randint(0, 36, size=n, dtype=\"uint8\")\n",
    "\n",
    "    zeros = np.zeros(shape=n, dtype=\"float16\")\n",
    "\n",
    "    cols = {\"time\": times, \"lev\": levels, \"lat\": latitudes, \"lon\": longitudes}\n",
    "    cols = cols.update({f\"{var}_est\": zeros for var in variables})\n",
    "    cols = cols.update({f\"{var}_est\": zeros for var in variables})\n",
    "\n",
    "    data = pd.DataFrame(cols)\n",
    "    data = data.sort_values(by=\"lev\", ignore_index=True)\n",
    "\n",
    "    print(f\"Size: {data.memory_usage().sum() / (1000 ** 2)} MB\")\n",
    "    print(f\"Duplicates: {100 * data.reset_index().duplicated(subset=['lat', 'lon', 'lev', 'time']).sum() / n:.3f}%\")\n",
    "\n",
    "    indices = data[[\"time\", \"lev\", \"lat\", \"lon\"]].values.T\n",
    "\n",
    "    for var in variables:\n",
    "        targets = load_variable(\"MERRA2.tavg3_3d_asm_Nv.YAVG{:0>2}{:0>2}.nc4\", var, cache=False, folder=\".\")\n",
    "\n",
    "        data[var] = targets[*indices]\n",
    "        del targets\n",
    "\n",
    "    for variable in variables:\n",
    "        estimate = np.zeros((8 * 365, 36, 361, 576), dtype=\"float16\")\n",
    "\n",
    "        for lev in tqdm(variable_levels[variable]):\n",
    "            with open(f\"../models/3D-dft/{variable}/{quantile}/{lev}.bin\", \"rb\") as file:\n",
    "                fft = pickle.load(file)\n",
    "\n",
    "            estimate[:, lev] = idft3_at_level(*fft)[0].astype(\"float16\")\n",
    "\n",
    "        i = -1\n",
    "        for lev in tqdm(range(36)):\n",
    "            if lev in variable_levels[variable]:\n",
    "                i += 1\n",
    "                continue\n",
    "\n",
    "            lower = variable_levels[variable][i]\n",
    "            upper = variable_levels[variable][i + 1]\n",
    "            t = (lev - lower) / (upper - lower)\n",
    "            estimate[:, lev] = linear_interpolate((estimate[:, lower], estimate[:, upper]), 0, t)\n",
    "\n",
    "        data[f\"{variable}_est\"] = estimate[*indices]\n",
    "\n",
    "    data.to_feather(f\"subset/{''.join(variables)}-3DFT-{quantile}-{n}.ft\")"
   ],
   "metadata": {
    "collapsed": false,
    "ExecuteTime": {
     "end_time": "2023-07-26T06:17:11.052587Z",
     "start_time": "2023-07-26T06:17:11.047419Z"
    }
   }
  },
  {
   "cell_type": "code",
   "execution_count": 4,
   "outputs": [
    {
     "name": "stdout",
     "output_type": "stream",
     "text": [
      "Size: 90.000128 MB\n",
      "Duplicates: 0.023%\n"
     ]
    },
    {
     "data": {
      "text/plain": "  0%|          | 0/12 [00:00<?, ?it/s]",
      "application/vnd.jupyter.widget-view+json": {
       "version_major": 2,
       "version_minor": 0,
       "model_id": "e00b7339be724a9e925c825d37b3edd7"
      }
     },
     "metadata": {},
     "output_type": "display_data"
    }
   ],
   "source": [
    "build_dataset(10000000, variable=\"V\")"
   ],
   "metadata": {
    "collapsed": false,
    "ExecuteTime": {
     "end_time": "2023-07-26T06:19:55.962998Z",
     "start_time": "2023-07-26T06:17:15.472045Z"
    }
   }
  },
  {
   "cell_type": "code",
   "execution_count": null,
   "outputs": [],
   "source": [
    "build_3dft_dataset(10000000, quantile=0.9975)"
   ],
   "metadata": {
    "collapsed": false
   }
  }
 ],
 "metadata": {
  "kernelspec": {
   "display_name": "Python 3",
   "language": "python",
   "name": "python3"
  },
  "language_info": {
   "codemirror_mode": {
    "name": "ipython",
    "version": 2
   },
   "file_extension": ".py",
   "mimetype": "text/x-python",
   "name": "python",
   "nbconvert_exporter": "python",
   "pygments_lexer": "ipython2",
   "version": "2.7.6"
  }
 },
 "nbformat": 4,
 "nbformat_minor": 0
}

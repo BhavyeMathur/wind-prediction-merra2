{
 "cells": [
  {
   "cell_type": "code",
   "execution_count": 26,
   "outputs": [],
   "source": [
    "import sys\n",
    "\n",
    "sys.path.append(\"../\")\n",
    "\n",
    "import pickle\n",
    "\n",
    "from fft import *\n",
    "from data_loading import *\n",
    "from maths import linear_interpolate, rmse\n"
   ],
   "metadata": {
    "collapsed": false,
    "ExecuteTime": {
     "end_time": "2023-07-23T08:14:48.276881Z",
     "start_time": "2023-07-23T08:14:48.273821Z"
    }
   }
  },
  {
   "cell_type": "code",
   "execution_count": 4,
   "outputs": [],
   "source": [
    "n = 10000000\n",
    "quantile = 0.9935\n",
    "\n",
    "variable_levels = {\"U\": [0, 1, 2, 3, 4, 5, 6, 7, 8, 9, 10, 11, 13, 16, 19, 23, 28, 32, 34, 35],\n",
    "                   \"V\": [0, 1, 2, 3, 4, 5, 6, 7, 8, 9, 10, 12, 14, 17, 20, 23, 28, 32, 34, 35]}\n",
    "\n",
    "variables = [\"U\", \"V\"]\n"
   ],
   "metadata": {
    "collapsed": false,
    "ExecuteTime": {
     "end_time": "2023-07-23T07:14:25.213016Z",
     "start_time": "2023-07-23T07:14:25.211112Z"
    }
   }
  },
  {
   "cell_type": "code",
   "execution_count": 5,
   "outputs": [
    {
     "data": {
      "text/plain": "   time  lev  lat  lon  U_est  V_est    U    V\n0  2452    0   41  223    0.0    0.0  0.0  0.0\n1   766    0  174  458    0.0    0.0  0.0  0.0\n2   869    0  297  468    0.0    0.0  0.0  0.0\n3  2272    0   26  264    0.0    0.0  0.0  0.0\n4  2787    0  266  269    0.0    0.0  0.0  0.0",
      "text/html": "<div>\n<style scoped>\n    .dataframe tbody tr th:only-of-type {\n        vertical-align: middle;\n    }\n\n    .dataframe tbody tr th {\n        vertical-align: top;\n    }\n\n    .dataframe thead th {\n        text-align: right;\n    }\n</style>\n<table border=\"1\" class=\"dataframe\">\n  <thead>\n    <tr style=\"text-align: right;\">\n      <th></th>\n      <th>time</th>\n      <th>lev</th>\n      <th>lat</th>\n      <th>lon</th>\n      <th>U_est</th>\n      <th>V_est</th>\n      <th>U</th>\n      <th>V</th>\n    </tr>\n  </thead>\n  <tbody>\n    <tr>\n      <th>0</th>\n      <td>2452</td>\n      <td>0</td>\n      <td>41</td>\n      <td>223</td>\n      <td>0.0</td>\n      <td>0.0</td>\n      <td>0.0</td>\n      <td>0.0</td>\n    </tr>\n    <tr>\n      <th>1</th>\n      <td>766</td>\n      <td>0</td>\n      <td>174</td>\n      <td>458</td>\n      <td>0.0</td>\n      <td>0.0</td>\n      <td>0.0</td>\n      <td>0.0</td>\n    </tr>\n    <tr>\n      <th>2</th>\n      <td>869</td>\n      <td>0</td>\n      <td>297</td>\n      <td>468</td>\n      <td>0.0</td>\n      <td>0.0</td>\n      <td>0.0</td>\n      <td>0.0</td>\n    </tr>\n    <tr>\n      <th>3</th>\n      <td>2272</td>\n      <td>0</td>\n      <td>26</td>\n      <td>264</td>\n      <td>0.0</td>\n      <td>0.0</td>\n      <td>0.0</td>\n      <td>0.0</td>\n    </tr>\n    <tr>\n      <th>4</th>\n      <td>2787</td>\n      <td>0</td>\n      <td>266</td>\n      <td>269</td>\n      <td>0.0</td>\n      <td>0.0</td>\n      <td>0.0</td>\n      <td>0.0</td>\n    </tr>\n  </tbody>\n</table>\n</div>"
     },
     "execution_count": 5,
     "metadata": {},
     "output_type": "execute_result"
    }
   ],
   "source": [
    "longitudes = np.random.randint(0, 576, size=n, dtype=\"uint16\")\n",
    "latitudes = np.random.randint(0, 361, size=n, dtype=\"uint16\")\n",
    "times = np.random.randint(0, 365 * 8, size=n, dtype=\"uint16\")\n",
    "levels = np.random.randint(0, 36, size=n, dtype=\"uint8\")\n",
    "\n",
    "zeros = np.zeros(shape=n, dtype=\"float16\")\n",
    "\n",
    "data = pd.DataFrame({\"time\": times, \"lev\": levels, \"lat\": latitudes, \"lon\": longitudes,\n",
    "                     \"U_est\": zeros, \"V_est\": zeros, \"U\": zeros, \"V\": zeros})\n",
    "data = data.sort_values(by=\"lev\", ignore_index=True)\n",
    "data.head()"
   ],
   "metadata": {
    "collapsed": false,
    "ExecuteTime": {
     "end_time": "2023-07-23T07:14:28.151599Z",
     "start_time": "2023-07-23T07:14:26.928907Z"
    }
   }
  },
  {
   "cell_type": "code",
   "execution_count": 6,
   "outputs": [
    {
     "name": "stdout",
     "output_type": "stream",
     "text": [
      "Size: 150.000128 MB\n",
      "Duplicates: 0.023%\n"
     ]
    }
   ],
   "source": [
    "print(f\"Size: {data.memory_usage().sum() / (1000 ** 2)} MB\")\n",
    "print(f\"Duplicates: {100 * data.reset_index().duplicated(subset=['lat', 'lon', 'lev', 'time']).sum() / n:.3f}%\")\n"
   ],
   "metadata": {
    "collapsed": false,
    "ExecuteTime": {
     "end_time": "2023-07-23T07:14:32.652021Z",
     "start_time": "2023-07-23T07:14:31.858658Z"
    }
   }
  },
  {
   "cell_type": "code",
   "execution_count": 7,
   "outputs": [
    {
     "data": {
      "text/plain": "  0%|          | 0/12 [00:00<?, ?it/s]",
      "application/vnd.jupyter.widget-view+json": {
       "version_major": 2,
       "version_minor": 0,
       "model_id": "d1db5059bab14eb0997a3eb2a637c898"
      }
     },
     "metadata": {},
     "output_type": "display_data"
    },
    {
     "data": {
      "text/plain": "  0%|          | 0/12 [00:00<?, ?it/s]",
      "application/vnd.jupyter.widget-view+json": {
       "version_major": 2,
       "version_minor": 0,
       "model_id": "8da2dc6fd1e74830ae5e168af1b304f6"
      }
     },
     "metadata": {},
     "output_type": "display_data"
    }
   ],
   "source": [
    "indices = data[[\"time\", \"lev\", \"lat\", \"lon\"]].values.T\n",
    "\n",
    "for variable in variables:\n",
    "    targets = load_variable(\"MERRA2.tavg3_3d_asm_Nv.YAVG{:0>2}{:0>2}.nc4\", variable, cache=False)\n",
    "\n",
    "    data[variable] = targets[*indices]\n",
    "    del targets"
   ],
   "metadata": {
    "collapsed": false,
    "ExecuteTime": {
     "end_time": "2023-07-23T07:19:20.995900Z",
     "start_time": "2023-07-23T07:14:36.897907Z"
    }
   }
  },
  {
   "cell_type": "code",
   "execution_count": 14,
   "outputs": [
    {
     "data": {
      "text/plain": "  0%|          | 0/20 [00:00<?, ?it/s]",
      "application/vnd.jupyter.widget-view+json": {
       "version_major": 2,
       "version_minor": 0,
       "model_id": "a19c403d9b2e4024bda3ee39e383c83d"
      }
     },
     "metadata": {},
     "output_type": "display_data"
    }
   ],
   "source": [
    "variable = \"U\"\n",
    "\n",
    "estimate = np.zeros((8 * 365, 36, 361, 576), dtype=\"float16\")\n",
    "\n",
    "for lev in tqdm(variable_levels[variable]):\n",
    "    with open(f\"../models/3D-dft/{variable}/{quantile}/{lev}.bin\", \"rb\") as file:\n",
    "        fft = pickle.load(file)\n",
    "\n",
    "    estimate[:, lev] = idft3_at_level(*fft)[0].astype(\"float16\")"
   ],
   "metadata": {
    "collapsed": false,
    "ExecuteTime": {
     "end_time": "2023-07-23T07:59:09.666455Z",
     "start_time": "2023-07-23T07:28:29.356411Z"
    }
   }
  },
  {
   "cell_type": "code",
   "execution_count": 46,
   "outputs": [
    {
     "data": {
      "text/plain": "  0%|          | 0/36 [00:00<?, ?it/s]",
      "application/vnd.jupyter.widget-view+json": {
       "version_major": 2,
       "version_minor": 0,
       "model_id": "53b17002f4d940b4a9d792298d07836c"
      }
     },
     "metadata": {},
     "output_type": "display_data"
    }
   ],
   "source": [
    "i = -1\n",
    "for lev in tqdm(range(36)):\n",
    "    if lev in variable_levels[variable]:\n",
    "        i += 1\n",
    "        continue\n",
    "\n",
    "    lower = variable_levels[variable][i]\n",
    "    upper = variable_levels[variable][i + 1]\n",
    "    t = (lev - lower) / (upper - lower)\n",
    "    estimate[:, lev] = linear_interpolate((estimate[:, lower], estimate[:, upper]), 0, t)"
   ],
   "metadata": {
    "collapsed": false,
    "ExecuteTime": {
     "end_time": "2023-07-23T08:21:00.778751Z",
     "start_time": "2023-07-23T08:18:53.774586Z"
    }
   }
  },
  {
   "cell_type": "code",
   "execution_count": 49,
   "outputs": [
    {
     "data": {
      "text/plain": "  0%|          | 0/20 [00:00<?, ?it/s]",
      "application/vnd.jupyter.widget-view+json": {
       "version_major": 2,
       "version_minor": 0,
       "model_id": "d3ce28738ca14828ab1050f168d83e48"
      }
     },
     "metadata": {},
     "output_type": "display_data"
    },
    {
     "data": {
      "text/plain": "  0%|          | 0/36 [00:00<?, ?it/s]",
      "application/vnd.jupyter.widget-view+json": {
       "version_major": 2,
       "version_minor": 0,
       "model_id": "fbaf685691f740f486ca6d0f7b0a4bbb"
      }
     },
     "metadata": {},
     "output_type": "display_data"
    }
   ],
   "source": [
    "for variable in [\"V\"]:\n",
    "    estimate = np.zeros((8 * 365, 36, 361, 576), dtype=\"float16\")\n",
    "\n",
    "    for lev in tqdm(variable_levels[variable]):\n",
    "        with open(f\"../models/3D-dft/{variable}/{quantile}/{lev}.bin\", \"rb\") as file:\n",
    "            fft = pickle.load(file)\n",
    "\n",
    "        estimate[:, lev] = idft3_at_level(*fft)[0].astype(\"float16\")\n",
    "\n",
    "    i = -1\n",
    "    for lev in tqdm(range(36)):\n",
    "        if lev in variable_levels[variable]:\n",
    "            i += 1\n",
    "            continue\n",
    "\n",
    "        lower = variable_levels[variable][i]\n",
    "        upper = variable_levels[variable][i + 1]\n",
    "        t = (lev - lower) / (upper - lower)\n",
    "        estimate[:, lev] = linear_interpolate((estimate[:, lower], estimate[:, upper]), 0, t)\n",
    "\n",
    "    data[f\"{variable}_est\"] = estimate[*indices]\n"
   ],
   "metadata": {
    "collapsed": false,
    "ExecuteTime": {
     "end_time": "2023-07-23T08:33:01.096597Z",
     "start_time": "2023-07-23T08:21:53.348185Z"
    }
   }
  },
  {
   "cell_type": "code",
   "execution_count": 52,
   "outputs": [],
   "source": [
    "data.to_feather(f\"subset/{''.join(variables)}-{quantile}-{n}.ft\")\n"
   ],
   "metadata": {
    "collapsed": false,
    "ExecuteTime": {
     "end_time": "2023-07-23T08:33:54.430039Z",
     "start_time": "2023-07-23T08:33:54.233600Z"
    }
   }
  }
 ],
 "metadata": {
  "kernelspec": {
   "display_name": "Python 3",
   "language": "python",
   "name": "python3"
  },
  "language_info": {
   "codemirror_mode": {
    "name": "ipython",
    "version": 2
   },
   "file_extension": ".py",
   "mimetype": "text/x-python",
   "name": "python",
   "nbconvert_exporter": "python",
   "pygments_lexer": "ipython2",
   "version": "2.7.6"
  }
 },
 "nbformat": 4,
 "nbformat_minor": 0
}

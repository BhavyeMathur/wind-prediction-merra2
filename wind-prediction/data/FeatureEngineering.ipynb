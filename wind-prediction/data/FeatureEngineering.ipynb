{
 "cells": [
  {
   "cell_type": "code",
   "execution_count": 7,
   "metadata": {
    "collapsed": true,
    "ExecuteTime": {
     "end_time": "2023-07-27T04:02:48.504351Z",
     "start_time": "2023-07-27T04:02:48.499450Z"
    }
   },
   "outputs": [],
   "source": [
    "import sys\n",
    "\n",
    "sys.path.append(\"..\")\n",
    "\n",
    "from data_loading import *\n",
    "from maths import isa_temperature, height_from_pressure\n",
    "from merra2 import get_pressure_from_level\n"
   ]
  },
  {
   "cell_type": "code",
   "execution_count": 18,
   "outputs": [],
   "source": [
    "n = 10000000\n",
    "estimate_quantile = None\n",
    "variables = (\"V\", )\n",
    "\n",
    "means = {\"U\": 5.589, \"V\": 0.018, \"T\": 235.745, \"P\": 37590}\n",
    "stds = {\"U\": 9.832, \"V\": 3.232, \"T\": 26.735, \"P\": 26545}\n"
   ],
   "metadata": {
    "collapsed": false,
    "ExecuteTime": {
     "end_time": "2023-07-27T04:05:59.810174Z",
     "start_time": "2023-07-27T04:05:59.807986Z"
    }
   }
  },
  {
   "cell_type": "code",
   "execution_count": 19,
   "outputs": [
    {
     "data": {
      "text/plain": "   time  lev  lat  lon         V\n0  2840    0  251  489  5.011719\n1   835    0  294  398 -0.305176\n2   941    0   61   13  1.799805\n3   549    0  328   27  2.947266\n4  2385    0  238  253 -0.740723",
      "text/html": "<div>\n<style scoped>\n    .dataframe tbody tr th:only-of-type {\n        vertical-align: middle;\n    }\n\n    .dataframe tbody tr th {\n        vertical-align: top;\n    }\n\n    .dataframe thead th {\n        text-align: right;\n    }\n</style>\n<table border=\"1\" class=\"dataframe\">\n  <thead>\n    <tr style=\"text-align: right;\">\n      <th></th>\n      <th>time</th>\n      <th>lev</th>\n      <th>lat</th>\n      <th>lon</th>\n      <th>V</th>\n    </tr>\n  </thead>\n  <tbody>\n    <tr>\n      <th>0</th>\n      <td>2840</td>\n      <td>0</td>\n      <td>251</td>\n      <td>489</td>\n      <td>5.011719</td>\n    </tr>\n    <tr>\n      <th>1</th>\n      <td>835</td>\n      <td>0</td>\n      <td>294</td>\n      <td>398</td>\n      <td>-0.305176</td>\n    </tr>\n    <tr>\n      <th>2</th>\n      <td>941</td>\n      <td>0</td>\n      <td>61</td>\n      <td>13</td>\n      <td>1.799805</td>\n    </tr>\n    <tr>\n      <th>3</th>\n      <td>549</td>\n      <td>0</td>\n      <td>328</td>\n      <td>27</td>\n      <td>2.947266</td>\n    </tr>\n    <tr>\n      <th>4</th>\n      <td>2385</td>\n      <td>0</td>\n      <td>238</td>\n      <td>253</td>\n      <td>-0.740723</td>\n    </tr>\n  </tbody>\n</table>\n</div>"
     },
     "execution_count": 19,
     "metadata": {},
     "output_type": "execute_result"
    }
   ],
   "source": [
    "if estimate_quantile is None:\n",
    "    data = pd.read_feather(f\"subset/{''.join(variables)}-{n}.ft\")\n",
    "else:\n",
    "    data = pd.read_feather(f\"subset/{''.join(variables)}-{estimate_quantile}-{n}.ft\")\n",
    "\n",
    "df = data.copy()\n",
    "\n",
    "NORMALIZED = False\n",
    "GEOGRAPHICAL_MATRIX = 1\n",
    "GEOGRAPHICAL = False\n",
    "CYCLIC_TIME = False\n",
    "CYCLIC_COORDINATES = False\n",
    "BAROMETRIC = False\n",
    "MATHUR2022 = False\n",
    "\n",
    "data.head()\n"
   ],
   "metadata": {
    "collapsed": false,
    "ExecuteTime": {
     "end_time": "2023-07-27T04:06:00.488655Z",
     "start_time": "2023-07-27T04:06:00.422881Z"
    }
   }
  },
  {
   "cell_type": "code",
   "execution_count": 6,
   "outputs": [
    {
     "ename": "KeyboardInterrupt",
     "evalue": "",
     "output_type": "error",
     "traceback": [
      "\u001B[0;31m---------------------------------------------------------------------------\u001B[0m",
      "\u001B[0;31mKeyboardInterrupt\u001B[0m                         Traceback (most recent call last)",
      "Cell \u001B[0;32mIn[6], line 4\u001B[0m\n\u001B[1;32m      1\u001B[0m BAROMETRIC \u001B[38;5;241m=\u001B[39m \u001B[38;5;28;01mTrue\u001B[39;00m\n\u001B[1;32m      3\u001B[0m df[\u001B[38;5;124m\"\u001B[39m\u001B[38;5;124misa_pressure\u001B[39m\u001B[38;5;124m\"\u001B[39m] \u001B[38;5;241m=\u001B[39m (\u001B[38;5;241m100\u001B[39m \u001B[38;5;241m*\u001B[39m df[\u001B[38;5;124m\"\u001B[39m\u001B[38;5;124mlev\u001B[39m\u001B[38;5;124m\"\u001B[39m]\u001B[38;5;241m.\u001B[39mapply(get_pressure_from_level))\n\u001B[0;32m----> 4\u001B[0m df[\u001B[38;5;124m\"\u001B[39m\u001B[38;5;124maltitude\u001B[39m\u001B[38;5;124m\"\u001B[39m] \u001B[38;5;241m=\u001B[39m \u001B[43mdf\u001B[49m\u001B[43m[\u001B[49m\u001B[38;5;124;43m\"\u001B[39;49m\u001B[38;5;124;43misa_pressure\u001B[39;49m\u001B[38;5;124;43m\"\u001B[39;49m\u001B[43m]\u001B[49m\u001B[38;5;241;43m.\u001B[39;49m\u001B[43mapply\u001B[49m\u001B[43m(\u001B[49m\u001B[43mheight_from_pressure\u001B[49m\u001B[43m)\u001B[49m\n\u001B[1;32m      5\u001B[0m df[\u001B[38;5;124m\"\u001B[39m\u001B[38;5;124misa_temperature\u001B[39m\u001B[38;5;124m\"\u001B[39m] \u001B[38;5;241m=\u001B[39m df[\u001B[38;5;124m\"\u001B[39m\u001B[38;5;124maltitude\u001B[39m\u001B[38;5;124m\"\u001B[39m]\u001B[38;5;241m.\u001B[39mapply(isa_temperature)\n\u001B[1;32m      7\u001B[0m df[\u001B[38;5;124m\"\u001B[39m\u001B[38;5;124misa_pressure\u001B[39m\u001B[38;5;124m\"\u001B[39m] \u001B[38;5;241m=\u001B[39m ((df[\u001B[38;5;124m\"\u001B[39m\u001B[38;5;124misa_pressure\u001B[39m\u001B[38;5;124m\"\u001B[39m] \u001B[38;5;241m-\u001B[39m means[\u001B[38;5;124m\"\u001B[39m\u001B[38;5;124mP\u001B[39m\u001B[38;5;124m\"\u001B[39m]) \u001B[38;5;241m/\u001B[39m stds[\u001B[38;5;124m\"\u001B[39m\u001B[38;5;124mP\u001B[39m\u001B[38;5;124m\"\u001B[39m])\u001B[38;5;241m.\u001B[39mastype(\u001B[38;5;124m\"\u001B[39m\u001B[38;5;124mfloat16\u001B[39m\u001B[38;5;124m\"\u001B[39m)\n",
      "File \u001B[0;32m~/Desktop/Projects/Spherindrical Fourier Transform/MERRA-2/wind-prediction/venv/lib/python3.11/site-packages/pandas/core/series.py:4630\u001B[0m, in \u001B[0;36mSeries.apply\u001B[0;34m(self, func, convert_dtype, args, **kwargs)\u001B[0m\n\u001B[1;32m   4520\u001B[0m \u001B[38;5;28;01mdef\u001B[39;00m \u001B[38;5;21mapply\u001B[39m(\n\u001B[1;32m   4521\u001B[0m     \u001B[38;5;28mself\u001B[39m,\n\u001B[1;32m   4522\u001B[0m     func: AggFuncType,\n\u001B[0;32m   (...)\u001B[0m\n\u001B[1;32m   4525\u001B[0m     \u001B[38;5;241m*\u001B[39m\u001B[38;5;241m*\u001B[39mkwargs,\n\u001B[1;32m   4526\u001B[0m ) \u001B[38;5;241m-\u001B[39m\u001B[38;5;241m>\u001B[39m DataFrame \u001B[38;5;241m|\u001B[39m Series:\n\u001B[1;32m   4527\u001B[0m \u001B[38;5;250m    \u001B[39m\u001B[38;5;124;03m\"\"\"\u001B[39;00m\n\u001B[1;32m   4528\u001B[0m \u001B[38;5;124;03m    Invoke function on values of Series.\u001B[39;00m\n\u001B[1;32m   4529\u001B[0m \n\u001B[0;32m   (...)\u001B[0m\n\u001B[1;32m   4628\u001B[0m \u001B[38;5;124;03m    dtype: float64\u001B[39;00m\n\u001B[1;32m   4629\u001B[0m \u001B[38;5;124;03m    \"\"\"\u001B[39;00m\n\u001B[0;32m-> 4630\u001B[0m     \u001B[38;5;28;01mreturn\u001B[39;00m \u001B[43mSeriesApply\u001B[49m\u001B[43m(\u001B[49m\u001B[38;5;28;43mself\u001B[39;49m\u001B[43m,\u001B[49m\u001B[43m \u001B[49m\u001B[43mfunc\u001B[49m\u001B[43m,\u001B[49m\u001B[43m \u001B[49m\u001B[43mconvert_dtype\u001B[49m\u001B[43m,\u001B[49m\u001B[43m \u001B[49m\u001B[43margs\u001B[49m\u001B[43m,\u001B[49m\u001B[43m \u001B[49m\u001B[43mkwargs\u001B[49m\u001B[43m)\u001B[49m\u001B[38;5;241;43m.\u001B[39;49m\u001B[43mapply\u001B[49m\u001B[43m(\u001B[49m\u001B[43m)\u001B[49m\n",
      "File \u001B[0;32m~/Desktop/Projects/Spherindrical Fourier Transform/MERRA-2/wind-prediction/venv/lib/python3.11/site-packages/pandas/core/apply.py:1025\u001B[0m, in \u001B[0;36mSeriesApply.apply\u001B[0;34m(self)\u001B[0m\n\u001B[1;32m   1022\u001B[0m     \u001B[38;5;28;01mreturn\u001B[39;00m \u001B[38;5;28mself\u001B[39m\u001B[38;5;241m.\u001B[39mapply_str()\n\u001B[1;32m   1024\u001B[0m \u001B[38;5;66;03m# self.f is Callable\u001B[39;00m\n\u001B[0;32m-> 1025\u001B[0m \u001B[38;5;28;01mreturn\u001B[39;00m \u001B[38;5;28;43mself\u001B[39;49m\u001B[38;5;241;43m.\u001B[39;49m\u001B[43mapply_standard\u001B[49m\u001B[43m(\u001B[49m\u001B[43m)\u001B[49m\n",
      "File \u001B[0;32m~/Desktop/Projects/Spherindrical Fourier Transform/MERRA-2/wind-prediction/venv/lib/python3.11/site-packages/pandas/core/apply.py:1076\u001B[0m, in \u001B[0;36mSeriesApply.apply_standard\u001B[0;34m(self)\u001B[0m\n\u001B[1;32m   1074\u001B[0m     \u001B[38;5;28;01melse\u001B[39;00m:\n\u001B[1;32m   1075\u001B[0m         values \u001B[38;5;241m=\u001B[39m obj\u001B[38;5;241m.\u001B[39mastype(\u001B[38;5;28mobject\u001B[39m)\u001B[38;5;241m.\u001B[39m_values\n\u001B[0;32m-> 1076\u001B[0m         mapped \u001B[38;5;241m=\u001B[39m \u001B[43mlib\u001B[49m\u001B[38;5;241;43m.\u001B[39;49m\u001B[43mmap_infer\u001B[49m\u001B[43m(\u001B[49m\n\u001B[1;32m   1077\u001B[0m \u001B[43m            \u001B[49m\u001B[43mvalues\u001B[49m\u001B[43m,\u001B[49m\n\u001B[1;32m   1078\u001B[0m \u001B[43m            \u001B[49m\u001B[43mf\u001B[49m\u001B[43m,\u001B[49m\n\u001B[1;32m   1079\u001B[0m \u001B[43m            \u001B[49m\u001B[43mconvert\u001B[49m\u001B[38;5;241;43m=\u001B[39;49m\u001B[38;5;28;43mself\u001B[39;49m\u001B[38;5;241;43m.\u001B[39;49m\u001B[43mconvert_dtype\u001B[49m\u001B[43m,\u001B[49m\n\u001B[1;32m   1080\u001B[0m \u001B[43m        \u001B[49m\u001B[43m)\u001B[49m\n\u001B[1;32m   1082\u001B[0m \u001B[38;5;28;01mif\u001B[39;00m \u001B[38;5;28mlen\u001B[39m(mapped) \u001B[38;5;129;01mand\u001B[39;00m \u001B[38;5;28misinstance\u001B[39m(mapped[\u001B[38;5;241m0\u001B[39m], ABCSeries):\n\u001B[1;32m   1083\u001B[0m     \u001B[38;5;66;03m# GH#43986 Need to do list(mapped) in order to get treated as nested\u001B[39;00m\n\u001B[1;32m   1084\u001B[0m     \u001B[38;5;66;03m#  See also GH#25959 regarding EA support\u001B[39;00m\n\u001B[1;32m   1085\u001B[0m     \u001B[38;5;28;01mreturn\u001B[39;00m obj\u001B[38;5;241m.\u001B[39m_constructor_expanddim(\u001B[38;5;28mlist\u001B[39m(mapped), index\u001B[38;5;241m=\u001B[39mobj\u001B[38;5;241m.\u001B[39mindex)\n",
      "File \u001B[0;32m~/Desktop/Projects/Spherindrical Fourier Transform/MERRA-2/wind-prediction/venv/lib/python3.11/site-packages/pandas/_libs/lib.pyx:2834\u001B[0m, in \u001B[0;36mpandas._libs.lib.map_infer\u001B[0;34m()\u001B[0m\n",
      "File \u001B[0;32m~/Desktop/Projects/Spherindrical Fourier Transform/MERRA-2/wind-prediction/maths.py:439\u001B[0m, in \u001B[0;36mheight_from_pressure\u001B[0;34m(pressure)\u001B[0m\n\u001B[1;32m    435\u001B[0m     \u001B[38;5;28;01melse\u001B[39;00m:\n\u001B[1;32m    436\u001B[0m         \u001B[38;5;28;01mreturn\u001B[39;00m const\u001B[38;5;241m.\u001B[39mDENSITY_11000_METERS \u001B[38;5;241m*\u001B[39m math\u001B[38;5;241m.\u001B[39mexp(const\u001B[38;5;241m.\u001B[39mBAROMETRIC_EXP_COEFF \u001B[38;5;241m*\u001B[39m (altitude \u001B[38;5;241m-\u001B[39m \u001B[38;5;241m11000\u001B[39m))\n\u001B[0;32m--> 439\u001B[0m \u001B[38;5;28;01mdef\u001B[39;00m \u001B[38;5;21mheight_from_pressure\u001B[39m(pressure: \u001B[38;5;28mfloat\u001B[39m) \u001B[38;5;241m-\u001B[39m\u001B[38;5;241m>\u001B[39m \u001B[38;5;28mfloat\u001B[39m:\n\u001B[1;32m    440\u001B[0m \u001B[38;5;250m    \u001B[39m\u001B[38;5;124;03m\"\"\"\u001B[39;00m\n\u001B[1;32m    441\u001B[0m \u001B[38;5;124;03m    Calculates the inverse of the get_isa_pressure() function\u001B[39;00m\n\u001B[1;32m    442\u001B[0m \n\u001B[1;32m    443\u001B[0m \u001B[38;5;124;03m    @param pressure: the pressure (in Pascals)\u001B[39;00m\n\u001B[1;32m    444\u001B[0m \u001B[38;5;124;03m    @return: the altitude (in meters)\u001B[39;00m\n\u001B[1;32m    445\u001B[0m \u001B[38;5;124;03m    \"\"\"\u001B[39;00m\n\u001B[1;32m    446\u001B[0m     \u001B[38;5;28;01mif\u001B[39;00m pressure \u001B[38;5;241m>\u001B[39m const\u001B[38;5;241m.\u001B[39mPRESSURE_11000_METERS:\n",
      "\u001B[0;31mKeyboardInterrupt\u001B[0m: "
     ]
    }
   ],
   "source": [
    "BAROMETRIC = True\n",
    "\n",
    "df[\"isa_pressure\"] = (100 * df[\"lev\"].apply(get_pressure_from_level))\n",
    "df[\"altitude\"] = df[\"isa_pressure\"].apply(height_from_pressure)\n",
    "df[\"isa_temperature\"] = df[\"altitude\"].apply(isa_temperature)\n",
    "\n",
    "df[\"isa_pressure\"] = ((df[\"isa_pressure\"] - means[\"P\"]) / stds[\"P\"]).astype(\"float16\")\n",
    "df[\"altitude\"] = (df[\"altitude\"] / 18000).astype(\"float16\")\n",
    "df[\"isa_temperature\"] = ((df[\"isa_temperature\"] - means[\"T\"]) / stds[\"T\"]).astype(\"float16\")\n",
    "\n",
    "df.head()"
   ],
   "metadata": {
    "collapsed": false,
    "ExecuteTime": {
     "end_time": "2023-07-27T04:02:47.079129Z",
     "start_time": "2023-07-27T04:02:42.445806Z"
    }
   }
  },
  {
   "cell_type": "code",
   "execution_count": 20,
   "outputs": [
    {
     "data": {
      "text/plain": "   lev       lat       lon         V  day %    year %\n0  0.0  0.394531  0.697754  1.543945  0.000  0.972656\n1  0.0  0.633301  0.381836 -0.099976  0.375  0.285889\n2  0.0 -0.661133 -0.955078  0.551270  0.625  0.322266\n3  0.0  0.822266 -0.906250  0.906250  0.625  0.187988\n4  0.0  0.322266 -0.121521 -0.234741  0.125  0.816895",
      "text/html": "<div>\n<style scoped>\n    .dataframe tbody tr th:only-of-type {\n        vertical-align: middle;\n    }\n\n    .dataframe tbody tr th {\n        vertical-align: top;\n    }\n\n    .dataframe thead th {\n        text-align: right;\n    }\n</style>\n<table border=\"1\" class=\"dataframe\">\n  <thead>\n    <tr style=\"text-align: right;\">\n      <th></th>\n      <th>lev</th>\n      <th>lat</th>\n      <th>lon</th>\n      <th>V</th>\n      <th>day %</th>\n      <th>year %</th>\n    </tr>\n  </thead>\n  <tbody>\n    <tr>\n      <th>0</th>\n      <td>0.0</td>\n      <td>0.394531</td>\n      <td>0.697754</td>\n      <td>1.543945</td>\n      <td>0.000</td>\n      <td>0.972656</td>\n    </tr>\n    <tr>\n      <th>1</th>\n      <td>0.0</td>\n      <td>0.633301</td>\n      <td>0.381836</td>\n      <td>-0.099976</td>\n      <td>0.375</td>\n      <td>0.285889</td>\n    </tr>\n    <tr>\n      <th>2</th>\n      <td>0.0</td>\n      <td>-0.661133</td>\n      <td>-0.955078</td>\n      <td>0.551270</td>\n      <td>0.625</td>\n      <td>0.322266</td>\n    </tr>\n    <tr>\n      <th>3</th>\n      <td>0.0</td>\n      <td>0.822266</td>\n      <td>-0.906250</td>\n      <td>0.906250</td>\n      <td>0.625</td>\n      <td>0.187988</td>\n    </tr>\n    <tr>\n      <th>4</th>\n      <td>0.0</td>\n      <td>0.322266</td>\n      <td>-0.121521</td>\n      <td>-0.234741</td>\n      <td>0.125</td>\n      <td>0.816895</td>\n    </tr>\n  </tbody>\n</table>\n</div>"
     },
     "execution_count": 20,
     "metadata": {},
     "output_type": "execute_result"
    }
   ],
   "source": [
    "NORMALIZED = True\n",
    "\n",
    "df[\"lat\"] = (data[\"lat\"] * 0.5) - 90\n",
    "df[\"lat\"] /= 90\n",
    "df[\"lon\"] = (data[\"lon\"] * 0.625) - 180\n",
    "df[\"lon\"] /= 180\n",
    "df[\"lev\"] /= 36\n",
    "\n",
    "df[\"lev\"] = df[\"lev\"].astype(\"float16\")\n",
    "df[\"lat\"] = df[\"lat\"].astype(\"float16\")\n",
    "df[\"lon\"] = df[\"lon\"].astype(\"float16\")\n",
    "\n",
    "for var in variables:\n",
    "    df[var] -= means[var]\n",
    "    df[var] /= stds[var]\n",
    "\n",
    "    try:\n",
    "        df[f\"{var}_est\"] -= means[var]\n",
    "        df[f\"{var}_est\"] /= stds[var]\n",
    "    except KeyError:\n",
    "        pass\n",
    "\n",
    "df[\"day %\"] = ((data[\"time\"] % 8) / 8).astype(\"float16\")\n",
    "df[\"year %\"] = (data[\"time\"] / 2920).astype(\"float16\")\n",
    "del df[\"time\"]\n",
    "\n",
    "df.head()\n"
   ],
   "metadata": {
    "collapsed": false,
    "ExecuteTime": {
     "end_time": "2023-07-27T04:06:02.946306Z",
     "start_time": "2023-07-27T04:06:02.573436Z"
    }
   }
  },
  {
   "cell_type": "code",
   "execution_count": 21,
   "outputs": [
    {
     "data": {
      "text/plain": "   lev       lat       lon         V  day %    year %   sin_day   cos_day  \\\n0  0.0  0.394531  0.697754  1.543945  0.000  0.972656  0.000000  1.000000   \n1  0.0  0.633301  0.381836 -0.099976  0.375  0.285889  0.707520 -0.706543   \n2  0.0 -0.661133 -0.955078  0.551270  0.625  0.322266 -0.706055 -0.708008   \n3  0.0  0.822266 -0.906250  0.906250  0.625  0.187988 -0.706055 -0.708008   \n4  0.0  0.322266 -0.121521 -0.234741  0.125  0.816895  0.707031  0.707520   \n\n   sin_year  cos_year  \n0 -0.172974  0.984863  \n1  0.974609 -0.223267  \n2  0.899414 -0.437256  \n3  0.924805  0.380371  \n4 -0.913086  0.408203  ",
      "text/html": "<div>\n<style scoped>\n    .dataframe tbody tr th:only-of-type {\n        vertical-align: middle;\n    }\n\n    .dataframe tbody tr th {\n        vertical-align: top;\n    }\n\n    .dataframe thead th {\n        text-align: right;\n    }\n</style>\n<table border=\"1\" class=\"dataframe\">\n  <thead>\n    <tr style=\"text-align: right;\">\n      <th></th>\n      <th>lev</th>\n      <th>lat</th>\n      <th>lon</th>\n      <th>V</th>\n      <th>day %</th>\n      <th>year %</th>\n      <th>sin_day</th>\n      <th>cos_day</th>\n      <th>sin_year</th>\n      <th>cos_year</th>\n    </tr>\n  </thead>\n  <tbody>\n    <tr>\n      <th>0</th>\n      <td>0.0</td>\n      <td>0.394531</td>\n      <td>0.697754</td>\n      <td>1.543945</td>\n      <td>0.000</td>\n      <td>0.972656</td>\n      <td>0.000000</td>\n      <td>1.000000</td>\n      <td>-0.172974</td>\n      <td>0.984863</td>\n    </tr>\n    <tr>\n      <th>1</th>\n      <td>0.0</td>\n      <td>0.633301</td>\n      <td>0.381836</td>\n      <td>-0.099976</td>\n      <td>0.375</td>\n      <td>0.285889</td>\n      <td>0.707520</td>\n      <td>-0.706543</td>\n      <td>0.974609</td>\n      <td>-0.223267</td>\n    </tr>\n    <tr>\n      <th>2</th>\n      <td>0.0</td>\n      <td>-0.661133</td>\n      <td>-0.955078</td>\n      <td>0.551270</td>\n      <td>0.625</td>\n      <td>0.322266</td>\n      <td>-0.706055</td>\n      <td>-0.708008</td>\n      <td>0.899414</td>\n      <td>-0.437256</td>\n    </tr>\n    <tr>\n      <th>3</th>\n      <td>0.0</td>\n      <td>0.822266</td>\n      <td>-0.906250</td>\n      <td>0.906250</td>\n      <td>0.625</td>\n      <td>0.187988</td>\n      <td>-0.706055</td>\n      <td>-0.708008</td>\n      <td>0.924805</td>\n      <td>0.380371</td>\n    </tr>\n    <tr>\n      <th>4</th>\n      <td>0.0</td>\n      <td>0.322266</td>\n      <td>-0.121521</td>\n      <td>-0.234741</td>\n      <td>0.125</td>\n      <td>0.816895</td>\n      <td>0.707031</td>\n      <td>0.707520</td>\n      <td>-0.913086</td>\n      <td>0.408203</td>\n    </tr>\n  </tbody>\n</table>\n</div>"
     },
     "execution_count": 21,
     "metadata": {},
     "output_type": "execute_result"
    }
   ],
   "source": [
    "\n",
    "CYCLIC_TIME = True\n",
    "\n",
    "df[\"sin_day\"] = np.sin(df[\"day %\"] * np.pi * 2)\n",
    "df[\"cos_day\"] = np.cos(df[\"day %\"] * np.pi * 2)\n",
    "df[\"sin_year\"] = np.sin(df[\"year %\"] * np.pi * 2)\n",
    "df[\"cos_year\"] = np.cos(df[\"year %\"] * np.pi * 2)\n",
    "\n",
    "df.head()\n"
   ],
   "metadata": {
    "collapsed": false,
    "ExecuteTime": {
     "end_time": "2023-07-27T04:06:03.993605Z",
     "start_time": "2023-07-27T04:06:03.076018Z"
    }
   }
  },
  {
   "cell_type": "code",
   "execution_count": 22,
   "outputs": [
    {
     "data": {
      "text/plain": "   lev       lat       lon         V  day %    year %   sin_day   cos_day  \\\n0  0.0  0.394531  0.697754  1.543945  0.000  0.972656  0.000000  1.000000   \n1  0.0  0.633301  0.381836 -0.099976  0.375  0.285889  0.707520 -0.706543   \n2  0.0 -0.661133 -0.955078  0.551270  0.625  0.322266 -0.706055 -0.708008   \n3  0.0  0.822266 -0.906250  0.906250  0.625  0.187988 -0.706055 -0.708008   \n4  0.0  0.322266 -0.121521 -0.234741  0.125  0.816895  0.707031  0.707520   \n\n   sin_year  cos_year   sin_lat   cos_lat   sin_lon   cos_lon  \n0 -0.172974  0.984863  0.945312  0.325439  0.813477 -0.581543  \n1  0.974609 -0.223267  0.913574 -0.406250  0.931641  0.363037  \n2  0.899414 -0.437256 -0.875000 -0.484131 -0.141113 -0.990234  \n3  0.924805  0.380371  0.530762 -0.847656 -0.291504 -0.956543  \n4 -0.913086  0.408203  0.847656  0.530273 -0.372314  0.928223  ",
      "text/html": "<div>\n<style scoped>\n    .dataframe tbody tr th:only-of-type {\n        vertical-align: middle;\n    }\n\n    .dataframe tbody tr th {\n        vertical-align: top;\n    }\n\n    .dataframe thead th {\n        text-align: right;\n    }\n</style>\n<table border=\"1\" class=\"dataframe\">\n  <thead>\n    <tr style=\"text-align: right;\">\n      <th></th>\n      <th>lev</th>\n      <th>lat</th>\n      <th>lon</th>\n      <th>V</th>\n      <th>day %</th>\n      <th>year %</th>\n      <th>sin_day</th>\n      <th>cos_day</th>\n      <th>sin_year</th>\n      <th>cos_year</th>\n      <th>sin_lat</th>\n      <th>cos_lat</th>\n      <th>sin_lon</th>\n      <th>cos_lon</th>\n    </tr>\n  </thead>\n  <tbody>\n    <tr>\n      <th>0</th>\n      <td>0.0</td>\n      <td>0.394531</td>\n      <td>0.697754</td>\n      <td>1.543945</td>\n      <td>0.000</td>\n      <td>0.972656</td>\n      <td>0.000000</td>\n      <td>1.000000</td>\n      <td>-0.172974</td>\n      <td>0.984863</td>\n      <td>0.945312</td>\n      <td>0.325439</td>\n      <td>0.813477</td>\n      <td>-0.581543</td>\n    </tr>\n    <tr>\n      <th>1</th>\n      <td>0.0</td>\n      <td>0.633301</td>\n      <td>0.381836</td>\n      <td>-0.099976</td>\n      <td>0.375</td>\n      <td>0.285889</td>\n      <td>0.707520</td>\n      <td>-0.706543</td>\n      <td>0.974609</td>\n      <td>-0.223267</td>\n      <td>0.913574</td>\n      <td>-0.406250</td>\n      <td>0.931641</td>\n      <td>0.363037</td>\n    </tr>\n    <tr>\n      <th>2</th>\n      <td>0.0</td>\n      <td>-0.661133</td>\n      <td>-0.955078</td>\n      <td>0.551270</td>\n      <td>0.625</td>\n      <td>0.322266</td>\n      <td>-0.706055</td>\n      <td>-0.708008</td>\n      <td>0.899414</td>\n      <td>-0.437256</td>\n      <td>-0.875000</td>\n      <td>-0.484131</td>\n      <td>-0.141113</td>\n      <td>-0.990234</td>\n    </tr>\n    <tr>\n      <th>3</th>\n      <td>0.0</td>\n      <td>0.822266</td>\n      <td>-0.906250</td>\n      <td>0.906250</td>\n      <td>0.625</td>\n      <td>0.187988</td>\n      <td>-0.706055</td>\n      <td>-0.708008</td>\n      <td>0.924805</td>\n      <td>0.380371</td>\n      <td>0.530762</td>\n      <td>-0.847656</td>\n      <td>-0.291504</td>\n      <td>-0.956543</td>\n    </tr>\n    <tr>\n      <th>4</th>\n      <td>0.0</td>\n      <td>0.322266</td>\n      <td>-0.121521</td>\n      <td>-0.234741</td>\n      <td>0.125</td>\n      <td>0.816895</td>\n      <td>0.707031</td>\n      <td>0.707520</td>\n      <td>-0.913086</td>\n      <td>0.408203</td>\n      <td>0.847656</td>\n      <td>0.530273</td>\n      <td>-0.372314</td>\n      <td>0.928223</td>\n    </tr>\n  </tbody>\n</table>\n</div>"
     },
     "execution_count": 22,
     "metadata": {},
     "output_type": "execute_result"
    }
   ],
   "source": [
    "CYCLIC_COORDINATES = True\n",
    "\n",
    "df[\"sin_lat\"] = np.sin(df[\"lat\"] * np.pi)\n",
    "df[\"cos_lat\"] = np.cos(df[\"lat\"] * np.pi)\n",
    "df[\"sin_lon\"] = np.sin(df[\"lon\"] * np.pi)\n",
    "df[\"cos_lon\"] = np.cos(df[\"lon\"] * np.pi)\n",
    "\n",
    "df.head()"
   ],
   "metadata": {
    "collapsed": false,
    "ExecuteTime": {
     "end_time": "2023-07-27T04:06:04.622296Z",
     "start_time": "2023-07-27T04:06:03.992136Z"
    }
   }
  },
  {
   "cell_type": "code",
   "execution_count": 23,
   "outputs": [
    {
     "data": {
      "text/plain": "   lev       lat       lon         V  day %    year %   sin_day   cos_day  \\\n0  0.0  0.394531  0.697754  1.543945  0.000  0.972656  0.000000  1.000000   \n1  0.0  0.633301  0.381836 -0.099976  0.375  0.285889  0.707520 -0.706543   \n2  0.0 -0.661133 -0.955078  0.551270  0.625  0.322266 -0.706055 -0.708008   \n3  0.0  0.822266 -0.906250  0.906250  0.625  0.187988 -0.706055 -0.708008   \n4  0.0  0.322266 -0.121521 -0.234741  0.125  0.816895  0.707031  0.707520   \n\n   sin_year  cos_year  ...  phis_[1, 1]  frland_[-1, -1]  frlandice_[-1, -1]  \\\n0 -0.172974  0.984863  ...    -0.446045         0.000000                 0.0   \n1  0.974609 -0.223267  ...    -0.371094         0.998535                 0.0   \n2  0.899414 -0.437256  ...    -0.447754         0.000000                 0.0   \n3  0.924805  0.380371  ...    -0.447754         0.000000                 0.0   \n4 -0.913086  0.408203  ...    -0.447754         0.000000                 0.0   \n\n   phis_[-1, -1]  frland_[1, -1]  frlandice_[1, -1]  phis_[1, -1]  \\\n0      -0.447510        0.000000                0.0     -0.447754   \n1      -0.305420        0.948242                0.0     -0.366455   \n2      -0.447754        0.000000                0.0     -0.447754   \n3      -0.447754        0.000000                0.0     -0.447754   \n4      -0.447754        0.000000                0.0     -0.447754   \n\n   frland_[-1, 1]  frlandice_[-1, 1]  phis_[-1, 1]  \n0        0.435059                0.0     -0.423584  \n1        0.997559                0.0     -0.318604  \n2        0.000000                0.0     -0.447754  \n3        0.000000                0.0     -0.447754  \n4        0.000000                0.0     -0.447754  \n\n[5 rows x 44 columns]",
      "text/html": "<div>\n<style scoped>\n    .dataframe tbody tr th:only-of-type {\n        vertical-align: middle;\n    }\n\n    .dataframe tbody tr th {\n        vertical-align: top;\n    }\n\n    .dataframe thead th {\n        text-align: right;\n    }\n</style>\n<table border=\"1\" class=\"dataframe\">\n  <thead>\n    <tr style=\"text-align: right;\">\n      <th></th>\n      <th>lev</th>\n      <th>lat</th>\n      <th>lon</th>\n      <th>V</th>\n      <th>day %</th>\n      <th>year %</th>\n      <th>sin_day</th>\n      <th>cos_day</th>\n      <th>sin_year</th>\n      <th>cos_year</th>\n      <th>...</th>\n      <th>phis_[1, 1]</th>\n      <th>frland_[-1, -1]</th>\n      <th>frlandice_[-1, -1]</th>\n      <th>phis_[-1, -1]</th>\n      <th>frland_[1, -1]</th>\n      <th>frlandice_[1, -1]</th>\n      <th>phis_[1, -1]</th>\n      <th>frland_[-1, 1]</th>\n      <th>frlandice_[-1, 1]</th>\n      <th>phis_[-1, 1]</th>\n    </tr>\n  </thead>\n  <tbody>\n    <tr>\n      <th>0</th>\n      <td>0.0</td>\n      <td>0.394531</td>\n      <td>0.697754</td>\n      <td>1.543945</td>\n      <td>0.000</td>\n      <td>0.972656</td>\n      <td>0.000000</td>\n      <td>1.000000</td>\n      <td>-0.172974</td>\n      <td>0.984863</td>\n      <td>...</td>\n      <td>-0.446045</td>\n      <td>0.000000</td>\n      <td>0.0</td>\n      <td>-0.447510</td>\n      <td>0.000000</td>\n      <td>0.0</td>\n      <td>-0.447754</td>\n      <td>0.435059</td>\n      <td>0.0</td>\n      <td>-0.423584</td>\n    </tr>\n    <tr>\n      <th>1</th>\n      <td>0.0</td>\n      <td>0.633301</td>\n      <td>0.381836</td>\n      <td>-0.099976</td>\n      <td>0.375</td>\n      <td>0.285889</td>\n      <td>0.707520</td>\n      <td>-0.706543</td>\n      <td>0.974609</td>\n      <td>-0.223267</td>\n      <td>...</td>\n      <td>-0.371094</td>\n      <td>0.998535</td>\n      <td>0.0</td>\n      <td>-0.305420</td>\n      <td>0.948242</td>\n      <td>0.0</td>\n      <td>-0.366455</td>\n      <td>0.997559</td>\n      <td>0.0</td>\n      <td>-0.318604</td>\n    </tr>\n    <tr>\n      <th>2</th>\n      <td>0.0</td>\n      <td>-0.661133</td>\n      <td>-0.955078</td>\n      <td>0.551270</td>\n      <td>0.625</td>\n      <td>0.322266</td>\n      <td>-0.706055</td>\n      <td>-0.708008</td>\n      <td>0.899414</td>\n      <td>-0.437256</td>\n      <td>...</td>\n      <td>-0.447754</td>\n      <td>0.000000</td>\n      <td>0.0</td>\n      <td>-0.447754</td>\n      <td>0.000000</td>\n      <td>0.0</td>\n      <td>-0.447754</td>\n      <td>0.000000</td>\n      <td>0.0</td>\n      <td>-0.447754</td>\n    </tr>\n    <tr>\n      <th>3</th>\n      <td>0.0</td>\n      <td>0.822266</td>\n      <td>-0.906250</td>\n      <td>0.906250</td>\n      <td>0.625</td>\n      <td>0.187988</td>\n      <td>-0.706055</td>\n      <td>-0.708008</td>\n      <td>0.924805</td>\n      <td>0.380371</td>\n      <td>...</td>\n      <td>-0.447754</td>\n      <td>0.000000</td>\n      <td>0.0</td>\n      <td>-0.447754</td>\n      <td>0.000000</td>\n      <td>0.0</td>\n      <td>-0.447754</td>\n      <td>0.000000</td>\n      <td>0.0</td>\n      <td>-0.447754</td>\n    </tr>\n    <tr>\n      <th>4</th>\n      <td>0.0</td>\n      <td>0.322266</td>\n      <td>-0.121521</td>\n      <td>-0.234741</td>\n      <td>0.125</td>\n      <td>0.816895</td>\n      <td>0.707031</td>\n      <td>0.707520</td>\n      <td>-0.913086</td>\n      <td>0.408203</td>\n      <td>...</td>\n      <td>-0.447754</td>\n      <td>0.000000</td>\n      <td>0.0</td>\n      <td>-0.447754</td>\n      <td>0.000000</td>\n      <td>0.0</td>\n      <td>-0.447754</td>\n      <td>0.000000</td>\n      <td>0.0</td>\n      <td>-0.447754</td>\n    </tr>\n  </tbody>\n</table>\n<p>5 rows × 44 columns</p>\n</div>"
     },
     "execution_count": 23,
     "metadata": {},
     "output_type": "execute_result"
    }
   ],
   "source": [
    "GEOGRAPHICAL = True\n",
    "\n",
    "frland = load_variable_at_time_and_level(\"MERRA2_101.const_2d_asm_Nx.00000000.nc4\", variable=\"FRLAND\",\n",
    "                                         time=0, level=0, folder=\"raw\").astype(\"float16\")\n",
    "frocean = load_variable_at_time_and_level(\"MERRA2_101.const_2d_asm_Nx.00000000.nc4\", variable=\"FROCEAN\",\n",
    "                                          time=0, level=0, folder=\"raw\").astype(\"float16\")\n",
    "frlake = load_variable_at_time_and_level(\"MERRA2_101.const_2d_asm_Nx.00000000.nc4\", variable=\"FRLAKE\",\n",
    "                                         time=0, level=0, folder=\"raw\").astype(\"float16\")\n",
    "frlandice = load_variable_at_time_and_level(\"MERRA2_101.const_2d_asm_Nx.00000000.nc4\", variable=\"FRLANDICE\",\n",
    "                                            time=0, level=0, folder=\"raw\").astype(\"float16\")\n",
    "phis = load_variable_at_time_and_level(\"MERRA2_101.const_2d_asm_Nx.00000000.nc4\", variable=\"PHIS\",\n",
    "                                       time=0, level=0, folder=\"raw\")\n",
    "sgh = load_variable_at_time_and_level(\"MERRA2_101.const_2d_asm_Nx.00000000.nc4\", variable=\"SGH\",\n",
    "                                      time=0, level=0, folder=\"raw\")\n",
    "\n",
    "phis -= phis.mean()\n",
    "phis /= phis.std()\n",
    "phis = phis.astype(\"float16\")\n",
    "\n",
    "sgh -= sgh.mean()\n",
    "sgh /= sgh.std()\n",
    "sgh = sgh.astype(\"float16\")\n",
    "\n",
    "indices = data[[\"lat\", \"lon\"]].values.T\n",
    "\n",
    "df[\"frland\"] = frland[*indices]\n",
    "df[\"frocean\"] = frocean[*indices]\n",
    "df[\"frlake\"] = frlake[*indices]\n",
    "df[\"frlandice\"] = frlandice[*indices]\n",
    "df[\"phis\"] = phis[*indices]\n",
    "df[\"sgh\"] = sgh[*indices]\n",
    "\n",
    "for coord in ([0, 1], [0, -1], [1, 0], [-1, 0], [1, 1], [-1, -1], [1, -1], [-1, 1]):\n",
    "    indices = data[[\"lat\", \"lon\"]]\n",
    "    indices.loc[:, \"lat\"] = (indices[\"lat\"] + coord[0]) % 361\n",
    "    indices.loc[:, \"lon\"] = (indices[\"lon\"] + coord[1]) % 576\n",
    "    indices = indices.values.T\n",
    "\n",
    "    df[f\"frland_{coord}\"] = frland[*indices]\n",
    "    df[f\"frlandice_{coord}\"] = frlandice[*indices]\n",
    "    df[f\"phis_{coord}\"] = phis[*indices]\n",
    "\n",
    "df.head()\n"
   ],
   "metadata": {
    "collapsed": false,
    "ExecuteTime": {
     "end_time": "2023-07-27T04:06:06.546472Z",
     "start_time": "2023-07-27T04:06:04.625444Z"
    }
   }
  },
  {
   "cell_type": "code",
   "execution_count": 8,
   "outputs": [],
   "source": [
    "MATHUR2022 = True\n",
    "\n",
    "assert BAROMETRIC\n",
    "assert NORMALIZED\n",
    "assert CYCLIC_TIME\n",
    "assert not CYCLIC_COORDINATES\n",
    "assert GEOGRAPHICAL\n",
    "\n",
    "del df[\"lev\"], df[\"day %\"], df[\"year %\"]"
   ],
   "metadata": {
    "collapsed": false,
    "ExecuteTime": {
     "end_time": "2023-07-26T08:06:14.072890Z",
     "start_time": "2023-07-26T08:06:14.051495Z"
    }
   }
  },
  {
   "cell_type": "code",
   "execution_count": 14,
   "outputs": [
    {
     "data": {
      "text/plain": "lev          float16\nlat          float16\nlon          float16\nV            float16\nday %        float16\nyear %       float16\nsin_day      float16\ncos_day      float16\nsin_year     float16\ncos_year     float16\nsin_lat      float16\ncos_lat      float16\nsin_lon      float16\ncos_lon      float16\nfrland       float16\nfrocean      float16\nfrlake       float16\nfrlandice    float16\nphis         float16\nsgh          float16\ndtype: object"
     },
     "execution_count": 14,
     "metadata": {},
     "output_type": "execute_result"
    }
   ],
   "source": [
    "df.dtypes"
   ],
   "metadata": {
    "collapsed": false,
    "ExecuteTime": {
     "end_time": "2023-07-26T06:20:19.464606Z",
     "start_time": "2023-07-26T06:20:19.462046Z"
    }
   }
  },
  {
   "cell_type": "code",
   "execution_count": 24,
   "outputs": [],
   "source": [
    "GEOGRAPHICAL_MATRIX = 3"
   ],
   "metadata": {
    "collapsed": false,
    "ExecuteTime": {
     "end_time": "2023-07-27T04:06:21.553266Z",
     "start_time": "2023-07-27T04:06:21.548553Z"
    }
   }
  },
  {
   "cell_type": "code",
   "execution_count": 25,
   "outputs": [
    {
     "name": "stdout",
     "output_type": "stream",
     "text": [
      "Saved to subset/V-N3GCTCC-10000000.ft\n"
     ]
    }
   ],
   "source": [
    "if MATHUR2022:\n",
    "    dataset = \"MATHUR2022\"\n",
    "else:\n",
    "    dataset = \"N\" if NORMALIZED else \"\"\n",
    "    dataset += f\"{GEOGRAPHICAL_MATRIX}G\" if GEOGRAPHICAL else \"\"\n",
    "    dataset += \"CT\" if CYCLIC_TIME else \"\"\n",
    "    dataset += \"CC\" if CYCLIC_COORDINATES else \"\"\n",
    "    dataset += \"B\" if BAROMETRIC else \"\"\n",
    "\n",
    "if estimate_quantile is None:\n",
    "    output = f\"subset/{''.join(variables)}-{dataset}-{n}.ft\"\n",
    "else:\n",
    "    output = f\"subset/{''.join(variables)}-{dataset}-{estimate_quantile}-{n}.ft\"\n",
    "df.to_feather(output)\n",
    "print(\"Saved to\", output)"
   ],
   "metadata": {
    "collapsed": false,
    "ExecuteTime": {
     "end_time": "2023-07-27T04:06:24.965729Z",
     "start_time": "2023-07-27T04:06:24.459390Z"
    }
   }
  },
  {
   "cell_type": "code",
   "execution_count": 9,
   "outputs": [
    {
     "data": {
      "text/plain": "                lev           lat           lon             U         day %  \\\ncount  1.000000e+07  1.000000e+07  1.000000e+07  1.000000e+07  1.000000e+07   \nmean   4.860707e-01  2.462973e-05 -1.871183e-03 -4.416984e-04  4.374707e-01   \nstd    2.884620e-01  5.788935e-01  5.773609e-01  1.000237e+00  2.863863e-01   \nmin    0.000000e+00 -1.000000e+00 -1.000000e+00 -5.066406e+00  0.000000e+00   \n25%    2.500000e-01 -5.000000e-01 -5.034180e-01 -6.635742e-01  1.250000e-01   \n50%    4.721680e-01  0.000000e+00  0.000000e+00 -2.148438e-01  5.000000e-01   \n75%    7.221680e-01  5.000000e-01  4.965820e-01  4.860840e-01  6.250000e-01   \nmax    9.721680e-01  1.000000e+00  9.965820e-01  7.804688e+00  8.750000e-01   \n\n             year %       sin_day       cos_day      sin_year      cos_year  \\\ncount  1.000000e+07  1.000000e+07  1.000000e+07  1.000000e+07  1.000000e+07   \nmean   4.998518e-01  1.729702e-04 -4.242568e-04  1.247783e-04 -1.372756e-04   \nstd    2.887040e-01  7.070776e-01  7.071832e-01  7.073098e-01  7.069100e-01   \nmin    0.000000e+00 -1.000000e+00 -1.000000e+00 -1.000000e+00 -1.000000e+00   \n25%    2.500000e-01 -7.060547e-01 -7.080078e-01 -7.084961e-01 -7.065430e-01   \n50%    4.997559e-01  9.675026e-04 -1.451492e-03  9.675026e-04  4.837513e-04   \n75%    7.500000e-01  7.070312e-01  7.075195e-01  7.075195e-01  7.060547e-01   \nmax    9.995117e-01  1.000000e+00  1.000000e+00  1.000000e+00  1.000000e+00   \n\n             frland       frocean        frlake     frlandice          phis  \\\ncount  1.000000e+07  1.000000e+07  1.000000e+07  1.000000e+07  1.000000e+07   \nmean   2.208387e-01  6.579232e-01  4.544531e-03  1.166930e-01 -5.972622e-06   \nstd    3.984419e-01  4.616012e-01  2.920654e-02  3.150236e-01  9.998747e-01   \nmin    0.000000e+00  0.000000e+00  0.000000e+00  0.000000e+00 -5.087891e-01   \n25%    0.000000e+00  0.000000e+00  0.000000e+00  0.000000e+00 -4.477539e-01   \n50%    0.000000e+00  1.000000e+00  0.000000e+00  0.000000e+00 -4.477539e-01   \n75%    9.741211e-02  1.000000e+00  0.000000e+00  0.000000e+00 -1.678467e-01   \nmax    1.000000e+00  1.000000e+00  1.000000e+00  1.000000e+00  6.078125e+00   \n\n                sgh  \ncount  1.000000e+07  \nmean   4.212677e-04  \nstd    1.000840e+00  \nmin   -3.937988e-01  \n25%   -3.937988e-01  \n50%   -3.937988e-01  \n75%   -1.477051e-01  \nmax    1.228906e+01  ",
      "text/html": "<div>\n<style scoped>\n    .dataframe tbody tr th:only-of-type {\n        vertical-align: middle;\n    }\n\n    .dataframe tbody tr th {\n        vertical-align: top;\n    }\n\n    .dataframe thead th {\n        text-align: right;\n    }\n</style>\n<table border=\"1\" class=\"dataframe\">\n  <thead>\n    <tr style=\"text-align: right;\">\n      <th></th>\n      <th>lev</th>\n      <th>lat</th>\n      <th>lon</th>\n      <th>U</th>\n      <th>day %</th>\n      <th>year %</th>\n      <th>sin_day</th>\n      <th>cos_day</th>\n      <th>sin_year</th>\n      <th>cos_year</th>\n      <th>frland</th>\n      <th>frocean</th>\n      <th>frlake</th>\n      <th>frlandice</th>\n      <th>phis</th>\n      <th>sgh</th>\n    </tr>\n  </thead>\n  <tbody>\n    <tr>\n      <th>count</th>\n      <td>1.000000e+07</td>\n      <td>1.000000e+07</td>\n      <td>1.000000e+07</td>\n      <td>1.000000e+07</td>\n      <td>1.000000e+07</td>\n      <td>1.000000e+07</td>\n      <td>1.000000e+07</td>\n      <td>1.000000e+07</td>\n      <td>1.000000e+07</td>\n      <td>1.000000e+07</td>\n      <td>1.000000e+07</td>\n      <td>1.000000e+07</td>\n      <td>1.000000e+07</td>\n      <td>1.000000e+07</td>\n      <td>1.000000e+07</td>\n      <td>1.000000e+07</td>\n    </tr>\n    <tr>\n      <th>mean</th>\n      <td>4.860707e-01</td>\n      <td>2.462973e-05</td>\n      <td>-1.871183e-03</td>\n      <td>-4.416984e-04</td>\n      <td>4.374707e-01</td>\n      <td>4.998518e-01</td>\n      <td>1.729702e-04</td>\n      <td>-4.242568e-04</td>\n      <td>1.247783e-04</td>\n      <td>-1.372756e-04</td>\n      <td>2.208387e-01</td>\n      <td>6.579232e-01</td>\n      <td>4.544531e-03</td>\n      <td>1.166930e-01</td>\n      <td>-5.972622e-06</td>\n      <td>4.212677e-04</td>\n    </tr>\n    <tr>\n      <th>std</th>\n      <td>2.884620e-01</td>\n      <td>5.788935e-01</td>\n      <td>5.773609e-01</td>\n      <td>1.000237e+00</td>\n      <td>2.863863e-01</td>\n      <td>2.887040e-01</td>\n      <td>7.070776e-01</td>\n      <td>7.071832e-01</td>\n      <td>7.073098e-01</td>\n      <td>7.069100e-01</td>\n      <td>3.984419e-01</td>\n      <td>4.616012e-01</td>\n      <td>2.920654e-02</td>\n      <td>3.150236e-01</td>\n      <td>9.998747e-01</td>\n      <td>1.000840e+00</td>\n    </tr>\n    <tr>\n      <th>min</th>\n      <td>0.000000e+00</td>\n      <td>-1.000000e+00</td>\n      <td>-1.000000e+00</td>\n      <td>-5.066406e+00</td>\n      <td>0.000000e+00</td>\n      <td>0.000000e+00</td>\n      <td>-1.000000e+00</td>\n      <td>-1.000000e+00</td>\n      <td>-1.000000e+00</td>\n      <td>-1.000000e+00</td>\n      <td>0.000000e+00</td>\n      <td>0.000000e+00</td>\n      <td>0.000000e+00</td>\n      <td>0.000000e+00</td>\n      <td>-5.087891e-01</td>\n      <td>-3.937988e-01</td>\n    </tr>\n    <tr>\n      <th>25%</th>\n      <td>2.500000e-01</td>\n      <td>-5.000000e-01</td>\n      <td>-5.034180e-01</td>\n      <td>-6.635742e-01</td>\n      <td>1.250000e-01</td>\n      <td>2.500000e-01</td>\n      <td>-7.060547e-01</td>\n      <td>-7.080078e-01</td>\n      <td>-7.084961e-01</td>\n      <td>-7.065430e-01</td>\n      <td>0.000000e+00</td>\n      <td>0.000000e+00</td>\n      <td>0.000000e+00</td>\n      <td>0.000000e+00</td>\n      <td>-4.477539e-01</td>\n      <td>-3.937988e-01</td>\n    </tr>\n    <tr>\n      <th>50%</th>\n      <td>4.721680e-01</td>\n      <td>0.000000e+00</td>\n      <td>0.000000e+00</td>\n      <td>-2.148438e-01</td>\n      <td>5.000000e-01</td>\n      <td>4.997559e-01</td>\n      <td>9.675026e-04</td>\n      <td>-1.451492e-03</td>\n      <td>9.675026e-04</td>\n      <td>4.837513e-04</td>\n      <td>0.000000e+00</td>\n      <td>1.000000e+00</td>\n      <td>0.000000e+00</td>\n      <td>0.000000e+00</td>\n      <td>-4.477539e-01</td>\n      <td>-3.937988e-01</td>\n    </tr>\n    <tr>\n      <th>75%</th>\n      <td>7.221680e-01</td>\n      <td>5.000000e-01</td>\n      <td>4.965820e-01</td>\n      <td>4.860840e-01</td>\n      <td>6.250000e-01</td>\n      <td>7.500000e-01</td>\n      <td>7.070312e-01</td>\n      <td>7.075195e-01</td>\n      <td>7.075195e-01</td>\n      <td>7.060547e-01</td>\n      <td>9.741211e-02</td>\n      <td>1.000000e+00</td>\n      <td>0.000000e+00</td>\n      <td>0.000000e+00</td>\n      <td>-1.678467e-01</td>\n      <td>-1.477051e-01</td>\n    </tr>\n    <tr>\n      <th>max</th>\n      <td>9.721680e-01</td>\n      <td>1.000000e+00</td>\n      <td>9.965820e-01</td>\n      <td>7.804688e+00</td>\n      <td>8.750000e-01</td>\n      <td>9.995117e-01</td>\n      <td>1.000000e+00</td>\n      <td>1.000000e+00</td>\n      <td>1.000000e+00</td>\n      <td>1.000000e+00</td>\n      <td>1.000000e+00</td>\n      <td>1.000000e+00</td>\n      <td>1.000000e+00</td>\n      <td>1.000000e+00</td>\n      <td>6.078125e+00</td>\n      <td>1.228906e+01</td>\n    </tr>\n  </tbody>\n</table>\n</div>"
     },
     "execution_count": 9,
     "metadata": {},
     "output_type": "execute_result"
    }
   ],
   "source": [
    "df.astype(\"float32\").describe()\n"
   ],
   "metadata": {
    "collapsed": false,
    "ExecuteTime": {
     "end_time": "2023-07-24T10:59:22.028036Z",
     "start_time": "2023-07-24T10:59:17.682082Z"
    }
   }
  },
  {
   "cell_type": "code",
   "execution_count": 18,
   "outputs": [],
   "source": [
    "df = pd.read_feather(f\"subset/{''.join(variables)}-NGCTCC-{n}.ft\")\n",
    "# df[\"V\"] *= stds[\"V\"]\n",
    "# df[\"V\"] += means[\"V\"]"
   ],
   "metadata": {
    "collapsed": false,
    "ExecuteTime": {
     "end_time": "2023-07-26T06:20:50.426876Z",
     "start_time": "2023-07-26T06:20:50.232347Z"
    }
   }
  },
  {
   "cell_type": "code",
   "execution_count": 19,
   "outputs": [
    {
     "name": "stderr",
     "output_type": "stream",
     "text": [
      "No artists with labels found to put in legend.  Note that artists whose label start with an underscore are ignored when legend() is called with no argument.\n"
     ]
    },
    {
     "data": {
      "text/plain": "<Figure size 640x480 with 1 Axes>",
      "image/png": "[encoded data removed]"
     },
     "metadata": {},
     "output_type": "display_data"
    }
   ],
   "source": [
    "from plot import plot_histogram\n",
    "plot_histogram([{\"data\": df[\"V\"]}], title=\"Distribution of North Wind\")"
   ],
   "metadata": {
    "collapsed": false,
    "ExecuteTime": {
     "end_time": "2023-07-26T06:20:50.792584Z",
     "start_time": "2023-07-26T06:20:50.434354Z"
    }
   }
  }
 ],
 "metadata": {
  "kernelspec": {
   "display_name": "Python 3",
   "language": "python",
   "name": "python3"
  },
  "language_info": {
   "codemirror_mode": {
    "name": "ipython",
    "version": 2
   },
   "file_extension": ".py",
   "mimetype": "text/x-python",
   "name": "python",
   "nbconvert_exporter": "python",
   "pygments_lexer": "ipython2",
   "version": "2.7.6"
  }
 },
 "nbformat": 4,
 "nbformat_minor": 0
}

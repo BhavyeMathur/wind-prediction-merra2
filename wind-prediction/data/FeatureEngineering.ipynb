{
 "cells": [
  {
   "cell_type": "code",
   "execution_count": 1,
   "metadata": {
    "collapsed": true,
    "ExecuteTime": {
     "end_time": "2023-07-23T08:35:51.975549Z",
     "start_time": "2023-07-23T08:35:51.895360Z"
    }
   },
   "outputs": [],
   "source": [
    "import sys\n",
    "\n",
    "sys.path.append(\"..\")\n",
    "\n",
    "from data_loading import *\n"
   ]
  },
  {
   "cell_type": "code",
   "execution_count": 2,
   "outputs": [],
   "source": [
    "n = 10000000\n",
    "estimate_quantile = 0.9935\n",
    "\n",
    "means = {\"U\": 5.589, \"V\": 0.018}\n",
    "stds = {\"U\": 9.832, \"V\": 3.232}\n"
   ],
   "metadata": {
    "collapsed": false,
    "ExecuteTime": {
     "end_time": "2023-07-23T08:35:51.977704Z",
     "start_time": "2023-07-23T08:35:51.976796Z"
    }
   }
  },
  {
   "cell_type": "code",
   "execution_count": 4,
   "outputs": [
    {
     "data": {
      "text/plain": "   time  lev  lat  lon      U_est     V_est          U         V\n0  2452    0   41  223  26.390625  3.857422  26.421875  3.845703\n1   766    0  174  458  -2.804688 -2.136719  -2.679688 -1.933594\n2   869    0  297  468  10.500000 -2.021484  10.625000 -1.998047\n3  2272    0   26  264   7.726562  3.412109   7.730469  3.423828\n4  2787    0  266  269  13.054688 -2.029297  13.171875 -2.205078",
      "text/html": "<div>\n<style scoped>\n    .dataframe tbody tr th:only-of-type {\n        vertical-align: middle;\n    }\n\n    .dataframe tbody tr th {\n        vertical-align: top;\n    }\n\n    .dataframe thead th {\n        text-align: right;\n    }\n</style>\n<table border=\"1\" class=\"dataframe\">\n  <thead>\n    <tr style=\"text-align: right;\">\n      <th></th>\n      <th>time</th>\n      <th>lev</th>\n      <th>lat</th>\n      <th>lon</th>\n      <th>U_est</th>\n      <th>V_est</th>\n      <th>U</th>\n      <th>V</th>\n    </tr>\n  </thead>\n  <tbody>\n    <tr>\n      <th>0</th>\n      <td>2452</td>\n      <td>0</td>\n      <td>41</td>\n      <td>223</td>\n      <td>26.390625</td>\n      <td>3.857422</td>\n      <td>26.421875</td>\n      <td>3.845703</td>\n    </tr>\n    <tr>\n      <th>1</th>\n      <td>766</td>\n      <td>0</td>\n      <td>174</td>\n      <td>458</td>\n      <td>-2.804688</td>\n      <td>-2.136719</td>\n      <td>-2.679688</td>\n      <td>-1.933594</td>\n    </tr>\n    <tr>\n      <th>2</th>\n      <td>869</td>\n      <td>0</td>\n      <td>297</td>\n      <td>468</td>\n      <td>10.500000</td>\n      <td>-2.021484</td>\n      <td>10.625000</td>\n      <td>-1.998047</td>\n    </tr>\n    <tr>\n      <th>3</th>\n      <td>2272</td>\n      <td>0</td>\n      <td>26</td>\n      <td>264</td>\n      <td>7.726562</td>\n      <td>3.412109</td>\n      <td>7.730469</td>\n      <td>3.423828</td>\n    </tr>\n    <tr>\n      <th>4</th>\n      <td>2787</td>\n      <td>0</td>\n      <td>266</td>\n      <td>269</td>\n      <td>13.054688</td>\n      <td>-2.029297</td>\n      <td>13.171875</td>\n      <td>-2.205078</td>\n    </tr>\n  </tbody>\n</table>\n</div>"
     },
     "execution_count": 4,
     "metadata": {},
     "output_type": "execute_result"
    }
   ],
   "source": [
    "data = pd.read_feather(f\"subset/UV-{estimate_quantile}-{n}.ft\")\n",
    "df = data.copy()\n",
    "\n",
    "NORMALIZED = False\n",
    "GEOGRAPHICAL = False\n",
    "CYCLIC_TIME = False\n",
    "\n",
    "data.head()\n"
   ],
   "metadata": {
    "collapsed": false,
    "ExecuteTime": {
     "end_time": "2023-07-23T08:36:16.340751Z",
     "start_time": "2023-07-23T08:36:16.250180Z"
    }
   }
  },
  {
   "cell_type": "code",
   "execution_count": 5,
   "outputs": [
    {
     "data": {
      "text/plain": "   lev       lat       lon     U_est     V_est         U         V  day %  \\\n0  0.0 -0.772461 -0.225708  2.115234  1.187500  2.119141  1.184570  0.500   \n1  0.0 -0.033325  0.590332 -0.853516 -0.666504 -0.840820 -0.603516  0.750   \n2  0.0  0.649902  0.625000  0.499512 -0.630859  0.512207 -0.623535  0.625   \n3  0.0 -0.855469 -0.083313  0.217407  1.049805  0.217773  1.053711  0.000   \n4  0.0  0.477783 -0.065979  0.759766 -0.633301  0.771484 -0.687500  0.375   \n\n     year %  \n0  0.839726  \n1  0.262329  \n2  0.297603  \n3  0.778082  \n4  0.954452  ",
      "text/html": "<div>\n<style scoped>\n    .dataframe tbody tr th:only-of-type {\n        vertical-align: middle;\n    }\n\n    .dataframe tbody tr th {\n        vertical-align: top;\n    }\n\n    .dataframe thead th {\n        text-align: right;\n    }\n</style>\n<table border=\"1\" class=\"dataframe\">\n  <thead>\n    <tr style=\"text-align: right;\">\n      <th></th>\n      <th>lev</th>\n      <th>lat</th>\n      <th>lon</th>\n      <th>U_est</th>\n      <th>V_est</th>\n      <th>U</th>\n      <th>V</th>\n      <th>day %</th>\n      <th>year %</th>\n    </tr>\n  </thead>\n  <tbody>\n    <tr>\n      <th>0</th>\n      <td>0.0</td>\n      <td>-0.772461</td>\n      <td>-0.225708</td>\n      <td>2.115234</td>\n      <td>1.187500</td>\n      <td>2.119141</td>\n      <td>1.184570</td>\n      <td>0.500</td>\n      <td>0.839726</td>\n    </tr>\n    <tr>\n      <th>1</th>\n      <td>0.0</td>\n      <td>-0.033325</td>\n      <td>0.590332</td>\n      <td>-0.853516</td>\n      <td>-0.666504</td>\n      <td>-0.840820</td>\n      <td>-0.603516</td>\n      <td>0.750</td>\n      <td>0.262329</td>\n    </tr>\n    <tr>\n      <th>2</th>\n      <td>0.0</td>\n      <td>0.649902</td>\n      <td>0.625000</td>\n      <td>0.499512</td>\n      <td>-0.630859</td>\n      <td>0.512207</td>\n      <td>-0.623535</td>\n      <td>0.625</td>\n      <td>0.297603</td>\n    </tr>\n    <tr>\n      <th>3</th>\n      <td>0.0</td>\n      <td>-0.855469</td>\n      <td>-0.083313</td>\n      <td>0.217407</td>\n      <td>1.049805</td>\n      <td>0.217773</td>\n      <td>1.053711</td>\n      <td>0.000</td>\n      <td>0.778082</td>\n    </tr>\n    <tr>\n      <th>4</th>\n      <td>0.0</td>\n      <td>0.477783</td>\n      <td>-0.065979</td>\n      <td>0.759766</td>\n      <td>-0.633301</td>\n      <td>0.771484</td>\n      <td>-0.687500</td>\n      <td>0.375</td>\n      <td>0.954452</td>\n    </tr>\n  </tbody>\n</table>\n</div>"
     },
     "execution_count": 5,
     "metadata": {},
     "output_type": "execute_result"
    }
   ],
   "source": [
    "NORMALIZED = True\n",
    "\n",
    "df[\"lat\"] = (data[\"lat\"] * 0.5) - 90\n",
    "df[\"lat\"] /= 90\n",
    "df[\"lon\"] = (data[\"lon\"] * 0.625) - 180\n",
    "df[\"lon\"] /= 180\n",
    "df[\"lev\"] /= 36\n",
    "\n",
    "df[\"lev\"] = df[\"lev\"].astype(\"float16\")\n",
    "df[\"lat\"] = df[\"lat\"].astype(\"float16\")\n",
    "df[\"lon\"] = df[\"lon\"].astype(\"float16\")\n",
    "\n",
    "df[\"U\"] -= means[\"U\"]\n",
    "df[\"U\"] /= stds[\"U\"]\n",
    "\n",
    "df[\"V\"] -= means[\"V\"]\n",
    "df[\"V\"] /= stds[\"V\"]\n",
    "\n",
    "df[\"U_est\"] -= means[\"U\"]\n",
    "df[\"U_est\"] /= stds[\"U\"]\n",
    "\n",
    "df[\"V_est\"] -= means[\"V\"]\n",
    "df[\"V_est\"] /= stds[\"V\"]\n",
    "\n",
    "df[\"day %\"] = ((data[\"time\"] % 8) / 8).astype(\"float16\")\n",
    "df[\"year %\"] = (data[\"time\"] / 2920).astype(\"float16\")\n",
    "del df[\"time\"]\n",
    "\n",
    "df.head()\n"
   ],
   "metadata": {
    "collapsed": false,
    "ExecuteTime": {
     "end_time": "2023-07-23T08:38:11.370136Z",
     "start_time": "2023-07-23T08:38:10.783769Z"
    }
   }
  },
  {
   "cell_type": "code",
   "execution_count": 6,
   "outputs": [
    {
     "data": {
      "text/plain": "   lev       lat       lon     U_est     V_est         U         V  day %  \\\n0  0.0 -0.772461 -0.225708  2.115234  1.187500  2.119141  1.184570  0.500   \n1  0.0 -0.033325  0.590332 -0.853516 -0.666504 -0.840820 -0.603516  0.750   \n2  0.0  0.649902  0.625000  0.499512 -0.630859  0.512207 -0.623535  0.625   \n3  0.0 -0.855469 -0.083313  0.217407  1.049805  0.217773  1.053711  0.000   \n4  0.0  0.477783 -0.065979  0.759766 -0.633301  0.771484 -0.687500  0.375   \n\n     year %   sin_day   cos_day  sin_year  cos_year  \n0  0.839726  0.000000 -1.000000 -0.845215  0.534180  \n1  0.262329 -1.000000 -0.000000  0.997070 -0.077393  \n2  0.297603 -0.707031 -0.707031  0.955566 -0.294678  \n3  0.778082  0.000000  1.000000 -0.984375  0.175537  \n4  0.954452  0.707031 -0.707031 -0.282227  0.959473  ",
      "text/html": "<div>\n<style scoped>\n    .dataframe tbody tr th:only-of-type {\n        vertical-align: middle;\n    }\n\n    .dataframe tbody tr th {\n        vertical-align: top;\n    }\n\n    .dataframe thead th {\n        text-align: right;\n    }\n</style>\n<table border=\"1\" class=\"dataframe\">\n  <thead>\n    <tr style=\"text-align: right;\">\n      <th></th>\n      <th>lev</th>\n      <th>lat</th>\n      <th>lon</th>\n      <th>U_est</th>\n      <th>V_est</th>\n      <th>U</th>\n      <th>V</th>\n      <th>day %</th>\n      <th>year %</th>\n      <th>sin_day</th>\n      <th>cos_day</th>\n      <th>sin_year</th>\n      <th>cos_year</th>\n    </tr>\n  </thead>\n  <tbody>\n    <tr>\n      <th>0</th>\n      <td>0.0</td>\n      <td>-0.772461</td>\n      <td>-0.225708</td>\n      <td>2.115234</td>\n      <td>1.187500</td>\n      <td>2.119141</td>\n      <td>1.184570</td>\n      <td>0.500</td>\n      <td>0.839726</td>\n      <td>0.000000</td>\n      <td>-1.000000</td>\n      <td>-0.845215</td>\n      <td>0.534180</td>\n    </tr>\n    <tr>\n      <th>1</th>\n      <td>0.0</td>\n      <td>-0.033325</td>\n      <td>0.590332</td>\n      <td>-0.853516</td>\n      <td>-0.666504</td>\n      <td>-0.840820</td>\n      <td>-0.603516</td>\n      <td>0.750</td>\n      <td>0.262329</td>\n      <td>-1.000000</td>\n      <td>-0.000000</td>\n      <td>0.997070</td>\n      <td>-0.077393</td>\n    </tr>\n    <tr>\n      <th>2</th>\n      <td>0.0</td>\n      <td>0.649902</td>\n      <td>0.625000</td>\n      <td>0.499512</td>\n      <td>-0.630859</td>\n      <td>0.512207</td>\n      <td>-0.623535</td>\n      <td>0.625</td>\n      <td>0.297603</td>\n      <td>-0.707031</td>\n      <td>-0.707031</td>\n      <td>0.955566</td>\n      <td>-0.294678</td>\n    </tr>\n    <tr>\n      <th>3</th>\n      <td>0.0</td>\n      <td>-0.855469</td>\n      <td>-0.083313</td>\n      <td>0.217407</td>\n      <td>1.049805</td>\n      <td>0.217773</td>\n      <td>1.053711</td>\n      <td>0.000</td>\n      <td>0.778082</td>\n      <td>0.000000</td>\n      <td>1.000000</td>\n      <td>-0.984375</td>\n      <td>0.175537</td>\n    </tr>\n    <tr>\n      <th>4</th>\n      <td>0.0</td>\n      <td>0.477783</td>\n      <td>-0.065979</td>\n      <td>0.759766</td>\n      <td>-0.633301</td>\n      <td>0.771484</td>\n      <td>-0.687500</td>\n      <td>0.375</td>\n      <td>0.954452</td>\n      <td>0.707031</td>\n      <td>-0.707031</td>\n      <td>-0.282227</td>\n      <td>0.959473</td>\n    </tr>\n  </tbody>\n</table>\n</div>"
     },
     "execution_count": 6,
     "metadata": {},
     "output_type": "execute_result"
    }
   ],
   "source": [
    "CYCLIC_TIME = True\n",
    "\n",
    "df[\"sin_day\"] = np.sin(df[\"day %\"] * np.pi * 2).astype(\"float16\")\n",
    "df[\"cos_day\"] = np.cos(df[\"day %\"] * np.pi * 2).astype(\"float16\")\n",
    "df[\"sin_year\"] = np.sin(df[\"year %\"] * np.pi * 2).astype(\"float16\")\n",
    "df[\"cos_year\"] = np.cos(df[\"year %\"] * np.pi * 2).astype(\"float16\")\n",
    "\n",
    "df.head()\n"
   ],
   "metadata": {
    "collapsed": false,
    "ExecuteTime": {
     "end_time": "2023-07-23T08:39:32.828144Z",
     "start_time": "2023-07-23T08:39:32.278170Z"
    }
   }
  },
  {
   "cell_type": "code",
   "execution_count": 11,
   "outputs": [
    {
     "name": "stdout",
     "output_type": "stream",
     "text": [
      "(2, 10000000)\n"
     ]
    },
    {
     "data": {
      "text/plain": "   lev       lat       lon     U_est     V_est         U         V  day %  \\\n0  0.0 -0.772461 -0.225708  2.115234  1.187500  2.119141  1.184570  0.500   \n1  0.0 -0.033325  0.590332 -0.853516 -0.666504 -0.840820 -0.603516  0.750   \n2  0.0  0.649902  0.625000  0.499512 -0.630859  0.512207 -0.623535  0.625   \n3  0.0 -0.855469 -0.083313  0.217407  1.049805  0.217773  1.053711  0.000   \n4  0.0  0.477783 -0.065979  0.759766 -0.633301  0.771484 -0.687500  0.375   \n\n     year %   sin_day   cos_day  sin_year  cos_year    frland   frocean  \\\n0  0.839726  0.000000 -1.000000 -0.845215  0.534180  0.000000  1.000000   \n1  0.262329 -1.000000 -0.000000  0.997070 -0.077393  0.522949  0.477295   \n2  0.297603 -0.707031 -0.707031  0.955566 -0.294678  0.996582  0.000000   \n3  0.778082  0.000000  1.000000 -0.984375  0.175537  0.000000  0.000000   \n4  0.954452  0.707031 -0.707031 -0.282227  0.959473  0.000000  1.000000   \n\n     frlake  frlandice      phis       sgh  \n0  0.000000        0.0 -0.447754 -0.393799  \n1  0.000000        0.0 -0.435303 -0.129272  \n2  0.003208        0.0  0.310303  1.616211  \n3  0.000000        1.0  1.767578 -0.242432  \n4  0.000000        0.0 -0.447754 -0.393799  ",
      "text/html": "<div>\n<style scoped>\n    .dataframe tbody tr th:only-of-type {\n        vertical-align: middle;\n    }\n\n    .dataframe tbody tr th {\n        vertical-align: top;\n    }\n\n    .dataframe thead th {\n        text-align: right;\n    }\n</style>\n<table border=\"1\" class=\"dataframe\">\n  <thead>\n    <tr style=\"text-align: right;\">\n      <th></th>\n      <th>lev</th>\n      <th>lat</th>\n      <th>lon</th>\n      <th>U_est</th>\n      <th>V_est</th>\n      <th>U</th>\n      <th>V</th>\n      <th>day %</th>\n      <th>year %</th>\n      <th>sin_day</th>\n      <th>cos_day</th>\n      <th>sin_year</th>\n      <th>cos_year</th>\n      <th>frland</th>\n      <th>frocean</th>\n      <th>frlake</th>\n      <th>frlandice</th>\n      <th>phis</th>\n      <th>sgh</th>\n    </tr>\n  </thead>\n  <tbody>\n    <tr>\n      <th>0</th>\n      <td>0.0</td>\n      <td>-0.772461</td>\n      <td>-0.225708</td>\n      <td>2.115234</td>\n      <td>1.187500</td>\n      <td>2.119141</td>\n      <td>1.184570</td>\n      <td>0.500</td>\n      <td>0.839726</td>\n      <td>0.000000</td>\n      <td>-1.000000</td>\n      <td>-0.845215</td>\n      <td>0.534180</td>\n      <td>0.000000</td>\n      <td>1.000000</td>\n      <td>0.000000</td>\n      <td>0.0</td>\n      <td>-0.447754</td>\n      <td>-0.393799</td>\n    </tr>\n    <tr>\n      <th>1</th>\n      <td>0.0</td>\n      <td>-0.033325</td>\n      <td>0.590332</td>\n      <td>-0.853516</td>\n      <td>-0.666504</td>\n      <td>-0.840820</td>\n      <td>-0.603516</td>\n      <td>0.750</td>\n      <td>0.262329</td>\n      <td>-1.000000</td>\n      <td>-0.000000</td>\n      <td>0.997070</td>\n      <td>-0.077393</td>\n      <td>0.522949</td>\n      <td>0.477295</td>\n      <td>0.000000</td>\n      <td>0.0</td>\n      <td>-0.435303</td>\n      <td>-0.129272</td>\n    </tr>\n    <tr>\n      <th>2</th>\n      <td>0.0</td>\n      <td>0.649902</td>\n      <td>0.625000</td>\n      <td>0.499512</td>\n      <td>-0.630859</td>\n      <td>0.512207</td>\n      <td>-0.623535</td>\n      <td>0.625</td>\n      <td>0.297603</td>\n      <td>-0.707031</td>\n      <td>-0.707031</td>\n      <td>0.955566</td>\n      <td>-0.294678</td>\n      <td>0.996582</td>\n      <td>0.000000</td>\n      <td>0.003208</td>\n      <td>0.0</td>\n      <td>0.310303</td>\n      <td>1.616211</td>\n    </tr>\n    <tr>\n      <th>3</th>\n      <td>0.0</td>\n      <td>-0.855469</td>\n      <td>-0.083313</td>\n      <td>0.217407</td>\n      <td>1.049805</td>\n      <td>0.217773</td>\n      <td>1.053711</td>\n      <td>0.000</td>\n      <td>0.778082</td>\n      <td>0.000000</td>\n      <td>1.000000</td>\n      <td>-0.984375</td>\n      <td>0.175537</td>\n      <td>0.000000</td>\n      <td>0.000000</td>\n      <td>0.000000</td>\n      <td>1.0</td>\n      <td>1.767578</td>\n      <td>-0.242432</td>\n    </tr>\n    <tr>\n      <th>4</th>\n      <td>0.0</td>\n      <td>0.477783</td>\n      <td>-0.065979</td>\n      <td>0.759766</td>\n      <td>-0.633301</td>\n      <td>0.771484</td>\n      <td>-0.687500</td>\n      <td>0.375</td>\n      <td>0.954452</td>\n      <td>0.707031</td>\n      <td>-0.707031</td>\n      <td>-0.282227</td>\n      <td>0.959473</td>\n      <td>0.000000</td>\n      <td>1.000000</td>\n      <td>0.000000</td>\n      <td>0.0</td>\n      <td>-0.447754</td>\n      <td>-0.393799</td>\n    </tr>\n  </tbody>\n</table>\n</div>"
     },
     "execution_count": 11,
     "metadata": {},
     "output_type": "execute_result"
    }
   ],
   "source": [
    "GEOGRAPHICAL = True\n",
    "\n",
    "frland = load_variable_at_time_and_level(\"MERRA2_101.const_2d_asm_Nx.00000000.nc4\", variable=\"FRLAND\",\n",
    "                                         time=0, level=0, folder=\"raw\").astype(\"float16\")\n",
    "frocean = load_variable_at_time_and_level(\"MERRA2_101.const_2d_asm_Nx.00000000.nc4\", variable=\"FROCEAN\",\n",
    "                                          time=0, level=0, folder=\"raw\").astype(\"float16\")\n",
    "frlake = load_variable_at_time_and_level(\"MERRA2_101.const_2d_asm_Nx.00000000.nc4\", variable=\"FRLAKE\",\n",
    "                                         time=0, level=0, folder=\"raw\").astype(\"float16\")\n",
    "frlandice = load_variable_at_time_and_level(\"MERRA2_101.const_2d_asm_Nx.00000000.nc4\", variable=\"FRLANDICE\",\n",
    "                                            time=0, level=0, folder=\"raw\").astype(\"float16\")\n",
    "phis = load_variable_at_time_and_level(\"MERRA2_101.const_2d_asm_Nx.00000000.nc4\", variable=\"PHIS\",\n",
    "                                       time=0, level=0, folder=\"raw\")\n",
    "sgh = load_variable_at_time_and_level(\"MERRA2_101.const_2d_asm_Nx.00000000.nc4\", variable=\"SGH\",\n",
    "                                      time=0, level=0, folder=\"raw\")\n",
    "\n",
    "phis -= phis.mean()\n",
    "phis /= phis.std()\n",
    "phis = phis.astype(\"float16\")\n",
    "\n",
    "sgh -= sgh.mean()\n",
    "sgh /= sgh.std()\n",
    "sgh = sgh.astype(\"float16\")\n",
    "\n",
    "indices = data[[\"lat\", \"lon\"]].values.T\n",
    "\n",
    "df[\"frland\"] = frland[*indices]\n",
    "df[\"frocean\"] = frocean[*indices]\n",
    "df[\"frlake\"] = frlake[*indices]\n",
    "df[\"frlandice\"] = frlandice[*indices]\n",
    "df[\"phis\"] = phis[*indices]\n",
    "df[\"sgh\"] = sgh[*indices]\n",
    "\n",
    "df.head()\n"
   ],
   "metadata": {
    "collapsed": false,
    "ExecuteTime": {
     "end_time": "2023-07-23T08:41:26.111198Z",
     "start_time": "2023-07-23T08:41:25.801810Z"
    }
   }
  },
  {
   "cell_type": "code",
   "execution_count": 15,
   "outputs": [
    {
     "data": {
      "text/plain": "lev          float16\nlat          float16\nlon          float16\nU_est        float16\nV_est        float16\nU            float16\nV            float16\nday %        float16\nyear %       float16\nsin_day      float16\ncos_day      float16\nsin_year     float16\ncos_year     float16\nfrland       float16\nfrocean      float16\nfrlake       float16\nfrlandice    float16\nphis         float16\nsgh          float16\ndtype: object"
     },
     "execution_count": 15,
     "metadata": {},
     "output_type": "execute_result"
    }
   ],
   "source": [
    "df.dtypes"
   ],
   "metadata": {
    "collapsed": false,
    "ExecuteTime": {
     "end_time": "2023-07-23T08:42:26.300461Z",
     "start_time": "2023-07-23T08:42:26.296739Z"
    }
   }
  },
  {
   "cell_type": "code",
   "execution_count": 16,
   "outputs": [],
   "source": [
    "# N - normalized\n",
    "# G - geographical features\n",
    "# CT - cyclic time\n",
    "\n",
    "dataset = \"N\" if NORMALIZED else \"\"\n",
    "dataset += \"G\" if GEOGRAPHICAL else \"\"\n",
    "dataset += \"CT\" if CYCLIC_TIME else \"\"\n",
    "\n",
    "df.to_feather(f\"UV-{dataset}-{estimate_quantile}-{n}.ft\")"
   ],
   "metadata": {
    "collapsed": false,
    "ExecuteTime": {
     "end_time": "2023-07-23T08:43:33.903425Z",
     "start_time": "2023-07-23T08:43:33.679682Z"
    }
   }
  },
  {
   "cell_type": "code",
   "execution_count": 17,
   "outputs": [
    {
     "data": {
      "text/plain": "                lev           lat           lon         U_est         V_est  \\\ncount  1.000000e+07  1.000000e+07  1.000000e+07  1.000000e+07  1.000000e+07   \nmean   4.861209e-01  8.733363e-05 -1.608628e-03  1.357466e-03  3.005289e-04   \nstd    2.885287e-01  5.788891e-01  5.772211e-01  9.992734e-01  9.932732e-01   \nmin    0.000000e+00 -1.000000e+00 -1.000000e+00 -5.261719e+00 -8.234375e+00   \n25%    2.500000e-01 -5.000000e-01 -5.000000e-01 -6.621094e-01 -5.620117e-01   \n50%    5.000000e-01  0.000000e+00  0.000000e+00 -2.136230e-01 -1.167297e-02   \n75%    7.221680e-01  5.000000e-01  5.000000e-01  4.868164e-01  5.468750e-01   \nmax    9.721680e-01  1.000000e+00  9.965820e-01  7.855469e+00  8.562500e+00   \n\n                  U             V         day %        year %       sin_day  \\\ncount  1.000000e+07  1.000000e+07  1.000000e+07  1.000000e+07  1.000000e+07   \nmean  -1.619807e-04  2.906788e-04  4.375165e-01  4.997328e-01 -6.621992e-05   \nstd    1.000360e+00  9.996375e-01  2.864048e-01  2.886822e-01  7.070750e-01   \nmin   -5.250000e+00 -8.234375e+00  0.000000e+00  0.000000e+00 -1.000000e+00   \n25%   -6.635742e-01 -5.683594e-01  1.250000e-01  2.496338e-01 -7.070312e-01   \n50%   -2.144775e-01 -1.149750e-02  5.000000e-01  4.997559e-01  0.000000e+00   \n75%    4.868164e-01  5.532227e-01  7.500000e-01  7.500000e-01  7.070312e-01   \nmax    7.886719e+00  8.437500e+00  8.750000e-01  9.995117e-01  1.000000e+00   \n\n            cos_day      sin_year      cos_year        frland       frocean  \\\ncount  1.000000e+07  1.000000e+07  1.000000e+07  1.000000e+07  1.000000e+07   \nmean  -2.845820e-05  1.064984e-04  1.476460e-04  2.208213e-01  6.579908e-01   \nstd    7.070631e-01  7.072459e-01  7.069758e-01  3.983926e-01  4.615592e-01   \nmin   -1.000000e+00 -1.000000e+00 -1.000000e+00  0.000000e+00  0.000000e+00   \n25%   -7.070312e-01 -7.070312e-01 -7.070312e-01  0.000000e+00  0.000000e+00   \n50%    0.000000e+00  0.000000e+00  0.000000e+00  0.000000e+00  1.000000e+00   \n75%    7.070312e-01  7.070312e-01  7.070312e-01  9.796143e-02  1.000000e+00   \nmax    1.000000e+00  1.000000e+00  1.000000e+00  1.000000e+00  1.000000e+00   \n\n             frlake     frlandice          phis           sgh  \ncount  1.000000e+07  1.000000e+07  1.000000e+07  1.000000e+07  \nmean   4.570988e-03  1.166172e-01 -1.563366e-04  2.166144e-04  \nstd    2.942220e-02  3.149030e-01  9.995689e-01  1.000632e+00  \nmin    0.000000e+00  0.000000e+00 -5.087891e-01 -3.937988e-01  \n25%    0.000000e+00  0.000000e+00 -4.477539e-01 -3.937988e-01  \n50%    0.000000e+00  0.000000e+00 -4.477539e-01 -3.937988e-01  \n75%    0.000000e+00  0.000000e+00 -1.680908e-01 -1.483154e-01  \nmax    1.000000e+00  1.000000e+00  6.078125e+00  1.228906e+01  ",
      "text/html": "<div>\n<style scoped>\n    .dataframe tbody tr th:only-of-type {\n        vertical-align: middle;\n    }\n\n    .dataframe tbody tr th {\n        vertical-align: top;\n    }\n\n    .dataframe thead th {\n        text-align: right;\n    }\n</style>\n<table border=\"1\" class=\"dataframe\">\n  <thead>\n    <tr style=\"text-align: right;\">\n      <th></th>\n      <th>lev</th>\n      <th>lat</th>\n      <th>lon</th>\n      <th>U_est</th>\n      <th>V_est</th>\n      <th>U</th>\n      <th>V</th>\n      <th>day %</th>\n      <th>year %</th>\n      <th>sin_day</th>\n      <th>cos_day</th>\n      <th>sin_year</th>\n      <th>cos_year</th>\n      <th>frland</th>\n      <th>frocean</th>\n      <th>frlake</th>\n      <th>frlandice</th>\n      <th>phis</th>\n      <th>sgh</th>\n    </tr>\n  </thead>\n  <tbody>\n    <tr>\n      <th>count</th>\n      <td>1.000000e+07</td>\n      <td>1.000000e+07</td>\n      <td>1.000000e+07</td>\n      <td>1.000000e+07</td>\n      <td>1.000000e+07</td>\n      <td>1.000000e+07</td>\n      <td>1.000000e+07</td>\n      <td>1.000000e+07</td>\n      <td>1.000000e+07</td>\n      <td>1.000000e+07</td>\n      <td>1.000000e+07</td>\n      <td>1.000000e+07</td>\n      <td>1.000000e+07</td>\n      <td>1.000000e+07</td>\n      <td>1.000000e+07</td>\n      <td>1.000000e+07</td>\n      <td>1.000000e+07</td>\n      <td>1.000000e+07</td>\n      <td>1.000000e+07</td>\n    </tr>\n    <tr>\n      <th>mean</th>\n      <td>4.861209e-01</td>\n      <td>8.733363e-05</td>\n      <td>-1.608628e-03</td>\n      <td>1.357466e-03</td>\n      <td>3.005289e-04</td>\n      <td>-1.619807e-04</td>\n      <td>2.906788e-04</td>\n      <td>4.375165e-01</td>\n      <td>4.997328e-01</td>\n      <td>-6.621992e-05</td>\n      <td>-2.845820e-05</td>\n      <td>1.064984e-04</td>\n      <td>1.476460e-04</td>\n      <td>2.208213e-01</td>\n      <td>6.579908e-01</td>\n      <td>4.570988e-03</td>\n      <td>1.166172e-01</td>\n      <td>-1.563366e-04</td>\n      <td>2.166144e-04</td>\n    </tr>\n    <tr>\n      <th>std</th>\n      <td>2.885287e-01</td>\n      <td>5.788891e-01</td>\n      <td>5.772211e-01</td>\n      <td>9.992734e-01</td>\n      <td>9.932732e-01</td>\n      <td>1.000360e+00</td>\n      <td>9.996375e-01</td>\n      <td>2.864048e-01</td>\n      <td>2.886822e-01</td>\n      <td>7.070750e-01</td>\n      <td>7.070631e-01</td>\n      <td>7.072459e-01</td>\n      <td>7.069758e-01</td>\n      <td>3.983926e-01</td>\n      <td>4.615592e-01</td>\n      <td>2.942220e-02</td>\n      <td>3.149030e-01</td>\n      <td>9.995689e-01</td>\n      <td>1.000632e+00</td>\n    </tr>\n    <tr>\n      <th>min</th>\n      <td>0.000000e+00</td>\n      <td>-1.000000e+00</td>\n      <td>-1.000000e+00</td>\n      <td>-5.261719e+00</td>\n      <td>-8.234375e+00</td>\n      <td>-5.250000e+00</td>\n      <td>-8.234375e+00</td>\n      <td>0.000000e+00</td>\n      <td>0.000000e+00</td>\n      <td>-1.000000e+00</td>\n      <td>-1.000000e+00</td>\n      <td>-1.000000e+00</td>\n      <td>-1.000000e+00</td>\n      <td>0.000000e+00</td>\n      <td>0.000000e+00</td>\n      <td>0.000000e+00</td>\n      <td>0.000000e+00</td>\n      <td>-5.087891e-01</td>\n      <td>-3.937988e-01</td>\n    </tr>\n    <tr>\n      <th>25%</th>\n      <td>2.500000e-01</td>\n      <td>-5.000000e-01</td>\n      <td>-5.000000e-01</td>\n      <td>-6.621094e-01</td>\n      <td>-5.620117e-01</td>\n      <td>-6.635742e-01</td>\n      <td>-5.683594e-01</td>\n      <td>1.250000e-01</td>\n      <td>2.496338e-01</td>\n      <td>-7.070312e-01</td>\n      <td>-7.070312e-01</td>\n      <td>-7.070312e-01</td>\n      <td>-7.070312e-01</td>\n      <td>0.000000e+00</td>\n      <td>0.000000e+00</td>\n      <td>0.000000e+00</td>\n      <td>0.000000e+00</td>\n      <td>-4.477539e-01</td>\n      <td>-3.937988e-01</td>\n    </tr>\n    <tr>\n      <th>50%</th>\n      <td>5.000000e-01</td>\n      <td>0.000000e+00</td>\n      <td>0.000000e+00</td>\n      <td>-2.136230e-01</td>\n      <td>-1.167297e-02</td>\n      <td>-2.144775e-01</td>\n      <td>-1.149750e-02</td>\n      <td>5.000000e-01</td>\n      <td>4.997559e-01</td>\n      <td>0.000000e+00</td>\n      <td>0.000000e+00</td>\n      <td>0.000000e+00</td>\n      <td>0.000000e+00</td>\n      <td>0.000000e+00</td>\n      <td>1.000000e+00</td>\n      <td>0.000000e+00</td>\n      <td>0.000000e+00</td>\n      <td>-4.477539e-01</td>\n      <td>-3.937988e-01</td>\n    </tr>\n    <tr>\n      <th>75%</th>\n      <td>7.221680e-01</td>\n      <td>5.000000e-01</td>\n      <td>5.000000e-01</td>\n      <td>4.868164e-01</td>\n      <td>5.468750e-01</td>\n      <td>4.868164e-01</td>\n      <td>5.532227e-01</td>\n      <td>7.500000e-01</td>\n      <td>7.500000e-01</td>\n      <td>7.070312e-01</td>\n      <td>7.070312e-01</td>\n      <td>7.070312e-01</td>\n      <td>7.070312e-01</td>\n      <td>9.796143e-02</td>\n      <td>1.000000e+00</td>\n      <td>0.000000e+00</td>\n      <td>0.000000e+00</td>\n      <td>-1.680908e-01</td>\n      <td>-1.483154e-01</td>\n    </tr>\n    <tr>\n      <th>max</th>\n      <td>9.721680e-01</td>\n      <td>1.000000e+00</td>\n      <td>9.965820e-01</td>\n      <td>7.855469e+00</td>\n      <td>8.562500e+00</td>\n      <td>7.886719e+00</td>\n      <td>8.437500e+00</td>\n      <td>8.750000e-01</td>\n      <td>9.995117e-01</td>\n      <td>1.000000e+00</td>\n      <td>1.000000e+00</td>\n      <td>1.000000e+00</td>\n      <td>1.000000e+00</td>\n      <td>1.000000e+00</td>\n      <td>1.000000e+00</td>\n      <td>1.000000e+00</td>\n      <td>1.000000e+00</td>\n      <td>6.078125e+00</td>\n      <td>1.228906e+01</td>\n    </tr>\n  </tbody>\n</table>\n</div>"
     },
     "execution_count": 17,
     "metadata": {},
     "output_type": "execute_result"
    }
   ],
   "source": [
    "df.astype(\"float32\").describe()\n"
   ],
   "metadata": {
    "collapsed": false,
    "ExecuteTime": {
     "end_time": "2023-07-23T08:43:40.805261Z",
     "start_time": "2023-07-23T08:43:36.187934Z"
    }
   }
  }
 ],
 "metadata": {
  "kernelspec": {
   "display_name": "Python 3",
   "language": "python",
   "name": "python3"
  },
  "language_info": {
   "codemirror_mode": {
    "name": "ipython",
    "version": 2
   },
   "file_extension": ".py",
   "mimetype": "text/x-python",
   "name": "python",
   "nbconvert_exporter": "python",
   "pygments_lexer": "ipython2",
   "version": "2.7.6"
  }
 },
 "nbformat": 4,
 "nbformat_minor": 0
}

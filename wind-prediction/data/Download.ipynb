{
 "cells": [
  {
   "cell_type": "code",
   "execution_count": 5,
   "metadata": {
    "collapsed": true,
    "ExecuteTime": {
     "end_time": "2023-07-01T08:41:53.076801Z",
     "start_time": "2023-07-01T08:41:53.059849Z"
    }
   },
   "outputs": [],
   "source": [
    "import numpy as np\n",
    "import pandas as pd\n",
    "from tqdm.notebook import tqdm\n",
    "\n",
    "from nc4 import *\n",
    "from merra2 import *\n",
    "\n",
    "from typing import Optional"
   ]
  },
  {
   "cell_type": "code",
   "execution_count": 6,
   "outputs": [],
   "source": [
    "def save_download_urls(dataset_esdt: str,\n",
    "                       collection: str,\n",
    "                       start_year, end_year,\n",
    "                       start_month=1, end_month=12,\n",
    "                       start_day=1, end_day=None) -> None:\n",
    "    with open(\"urls.txt\", \"w\") as file:\n",
    "        for yyyy in range(start_year, end_year + 1):\n",
    "\n",
    "            mi = start_month if yyyy == start_year else 1\n",
    "            mf = end_month if yyyy == end_year else 12\n",
    "\n",
    "            for mm in range(mi, mf + 1):\n",
    "\n",
    "                stream = get_merra_stream_from_year(yyyy, mm)\n",
    "\n",
    "                di = start_day if yyyy == start_year and mm == mi else 1\n",
    "                df = end_day if end_day and yyyy == end_year and mm == mf else monthrange(yyyy, mm)[1]\n",
    "\n",
    "                for dd in range(di, df + 1):\n",
    "                    file.write(f\"https://goldsmr5.gesdisc.eosdis.nasa.gov/data/MERRA2/{dataset_esdt}/\"\n",
    "                               f\"{yyyy}/{mm:0>2}/MERRA2_{stream}.{collection}.{yyyy}{mm:0>2}{dd:0>2}.nc4\\n\")\n",
    "\n",
    "\n",
    "def save_download_subset_urls(dataset_esdt: str,\n",
    "                              collection: str,\n",
    "                              variables: list[str],\n",
    "                              output_dir: str,\n",
    "                              start_year: int,\n",
    "                              end_year: int,\n",
    "                              start_month: int = 1,\n",
    "                              end_month: int = 12,\n",
    "                              start_day: int = 1,\n",
    "                              end_day: Optional[int] = None,\n",
    "                              levels=range(36, 72)) -> None:\n",
    "\n",
    "    variables = get_merra_variables(variables)\n",
    "\n",
    "    with open(\"urls.txt\", \"w\") as file:\n",
    "        for yyyy in range(start_year, end_year + 1):\n",
    "\n",
    "            mi = start_month if yyyy == start_year else 1\n",
    "            mf = end_month if yyyy == end_year else 12\n",
    "\n",
    "            for mm in range(mi, mf + 1):\n",
    "\n",
    "                stream = get_merra_stream_from_year(yyyy, mm)\n",
    "\n",
    "                di = start_day if yyyy == start_year and mm == mi else 1\n",
    "                df = end_day if end_day and yyyy == end_year and mm == mf else monthrange(yyyy, mm)[1]\n",
    "\n",
    "                for dd in range(di, df + 1):\n",
    "                    filename = f\"MERRA2_{stream}.{collection}.{yyyy}{mm:0>2}{dd:0>2}\"\n",
    "                    if os.path.isfile(f\"{output_dir}/{filename}.SUB.nc\"):\n",
    "                        continue\n",
    "\n",
    "                    file.write(\"https://goldsmr5.gesdisc.eosdis.nasa.gov/daac-bin/OTF/HTTP_services.cgi?\"\n",
    "                               f\"FILENAME=%2Fdata%2FMERRA2%2F{dataset_esdt}%2F{yyyy}%2F{mm:0>2}%2F\"\n",
    "                               f\"MERRA2_{stream}.{collection}.{yyyy}{mm:0>2}{dd:0>2}.nc4\"\n",
    "                               f\"&SERVICE=L34RS_MERRA2\"\n",
    "                               f\"&DATASET_VERSION=5.12.4\"\n",
    "                               f\"&BBOX=-90%2C-180%2C90%2C180\"\n",
    "                               f\"&LABEL=MERRA2_{stream}.{collection}.{yyyy}{mm:0>2}{dd:0>2}.SUB.nc\"\n",
    "                               f\"&FORMAT=bmM0Lw\"\n",
    "                               f\"&SHORTNAME={dataset_esdt}\"\n",
    "                               f\"&VARIABLES={'%2C'.join(variable for variable in variables)}\"\n",
    "                               f\"&VERSION=1.02\"\n",
    "                               f\"&LAYERS=LAYER_{'%2C'.join(str(lev + 1) for lev in levels)}\"\n",
    "                               \"\\n\")"
   ],
   "metadata": {
    "collapsed": false,
    "ExecuteTime": {
     "end_time": "2023-07-01T08:41:53.819974Z",
     "start_time": "2023-07-01T08:41:53.816699Z"
    }
   }
  },
  {
   "cell_type": "code",
   "execution_count": 9,
   "outputs": [],
   "source": [
    "save_download_subset_urls(\"M2T3NVASM.5.12.4\", \"tavg3_3d_asm_Nv\",\n",
    "                          [\"U\", \"V\"],\n",
    "                          \"OUTPUT/FOLDER\",\n",
    "                          start_year=1981, end_year=1981,\n",
    "                          start_month=7, end_month=7,\n",
    "                          start_day=20, end_day=29)"
   ],
   "metadata": {
    "collapsed": false
   }
  },
  {
   "cell_type": "code",
   "execution_count": null,
   "outputs": [],
   "source": [
    "!wget --user=BhavyeMathur --ask-password --content-disposition -i urls.txt -P \"/raw\"\n"
   ],
   "metadata": {
    "collapsed": false,
    "pycharm": {
     "is_executing": true
    }
   }
  },
  {
   "cell_type": "code",
   "execution_count": 12,
   "outputs": [],
   "source": [
    "def save_df_as_parquet(df, output, compression_level=11, output_dir=\"dataframes\"):\n",
    "    if not isinstance(df, pd.DataFrame):\n",
    "        df = pd.DataFrame(df)\n",
    "\n",
    "    df.to_parquet(f\"{output_dir}/{output}\",\n",
    "                  engine=\"fastparquet\",\n",
    "                  compression={\"_default\": {\"type\": \"BROTLI\", \"args\": {\"level\": compression_level}}})\n",
    "\n",
    "\n",
    "def save_nc4_as_parquet(filename, variables, raw_dir=\"raw\", output_dir=\"dataframes\", **kwargs):\n",
    "    output = filename[:-3] + \"parquet\"\n",
    "\n",
    "    variables = get_merra_variables(variables)\n",
    "    with open_xarray_dataset(filename, folder=raw_dir) as dataset:\n",
    "        for var in variables:\n",
    "            print(f\"\\tLoading '{var}'\")\n",
    "            variable = dataset[var].to_dataframe()\n",
    "            variable.reset_index(inplace=True, drop=True)\n",
    "\n",
    "            variable16 = variable.astype(\"float16\")\n",
    "            print(f\"\\tStandard Deviation (SD): '{variable[var].std()}'\")\n",
    "            print(f\"\\tSD of float32 - float16: '{(variable - variable16)[var].std()}'\")\n",
    "\n",
    "            print(f\"\\tSaving '{var}'\\n\")\n",
    "\n",
    "            output_dir = f\"{output_dir}/{var}\"\n",
    "            if not os.path.isdir(output_dir):\n",
    "                os.makedirs(output_dir)\n",
    "\n",
    "            save_df_as_parquet(variable16, output, output_dir=output_dir, **kwargs)\n",
    "\n",
    "\n",
    "def compress_nc4(filename,\n",
    "                 variables,\n",
    "                 raw_dir=\"raw\",\n",
    "                 output_dir=\"compressed\",\n",
    "                 compression=\"zlib\",\n",
    "                 compression_level=9,\n",
    "                 pack_as_float16=True):\n",
    "    variables = get_merra_variables(variables)\n",
    "\n",
    "    if os.path.exists(f\"{raw_dir}/{filename}\"):\n",
    "        raw_file = filename\n",
    "    else:\n",
    "        raw_file = filename.replace(\".nc4\", \".SUB.nc\")\n",
    "\n",
    "    if pack_as_float16:\n",
    "        filename = filename.replace(\".nc4\", \"_float16.nc4\")\n",
    "\n",
    "    if os.path.exists(f\"{output_dir}/{filename}\"):\n",
    "        return\n",
    "\n",
    "    with open_nc4_dataset(raw_file, folder=raw_dir) as dataset:\n",
    "        with open_nc4_dataset(filename, folder=output_dir, mode=\"w\") as dst:\n",
    "\n",
    "            dimensions = dataset[variables[0]].shape\n",
    "            if pack_as_float16 and dimensions[3] % 2 != 0:\n",
    "                raise RuntimeError(\"Cannot pack float16 data as float32 because dimensions is an odd number\")\n",
    "\n",
    "            if pack_as_float16:\n",
    "                dst.createDimension(\"lon\", dimensions[3] // 2)  # //2 because we pack float16s as float32s\n",
    "            else:\n",
    "                dst.createDimension(\"lon\", dimensions[3])\n",
    "\n",
    "            dst.createDimension(\"lat\", dimensions[2])\n",
    "            dst.createDimension(\"lev\", 36)\n",
    "            dst.createDimension(\"time\", dimensions[0])\n",
    "\n",
    "            for variable in variables:\n",
    "                data = dataset.variables[variable]\n",
    "\n",
    "                dst.createVariable(variable, \"f\", data.dimensions,\n",
    "                                   compression=compression,\n",
    "                                   complevel=compression_level)\n",
    "                dst[variable].setncatts(data.__dict__)\n",
    "\n",
    "                if pack_as_float16:\n",
    "                    data_float16 = np.array(data[:, -36:], dtype=\"float16\")\n",
    "                    packed_float32 = data_float16.view(\"float32\")\n",
    "                    dst[variable][:] = packed_float32\n",
    "                else:\n",
    "                    dst[variable][:] = data[:, -36:]\n",
    "\n",
    "\n",
    "def compress_all_nc4(collection: str,\n",
    "                     variables,\n",
    "                     start_year, end_year,\n",
    "                     start_month=1, end_month=12,\n",
    "                     start_day=1, end_day=None,\n",
    "                     **kwargs):\n",
    "    for yyyy in range(start_year, end_year + 1):\n",
    "\n",
    "        stream = get_merra_stream_from_year(yyyy)\n",
    "\n",
    "        mi = start_month if yyyy == start_year else 1\n",
    "        mf = end_month if yyyy == end_year else 12\n",
    "\n",
    "        for mm in tqdm(range(mi, mf + 1)):\n",
    "\n",
    "            di = start_day if yyyy == start_year and mm == mi else 1\n",
    "            df = end_day if end_day and yyyy == end_year and mm == mf else monthrange(yyyy, mm)[1]\n",
    "\n",
    "            for dd in tqdm(range(di, df + 1)):\n",
    "                filename = f\"MERRA2_{stream}.{collection}.{yyyy}{mm:0>2}{dd:0>2}.nc4\"\n",
    "                compress_nc4(filename, variables, **kwargs)"
   ],
   "metadata": {
    "collapsed": false,
    "ExecuteTime": {
     "end_time": "2023-07-01T08:48:36.937114Z",
     "start_time": "2023-07-01T08:48:36.923437Z"
    }
   }
  },
  {
   "cell_type": "code",
   "execution_count": 13,
   "outputs": [
    {
     "data": {
      "text/plain": "  0%|          | 0/12 [00:00<?, ?it/s]",
      "application/vnd.jupyter.widget-view+json": {
       "version_major": 2,
       "version_minor": 0,
       "model_id": "cd25cd42e1c14164beb5aa7efe38cf4f"
      }
     },
     "metadata": {},
     "output_type": "display_data"
    },
    {
     "data": {
      "text/plain": "  0%|          | 0/31 [00:00<?, ?it/s]",
      "application/vnd.jupyter.widget-view+json": {
       "version_major": 2,
       "version_minor": 0,
       "model_id": "9f882b33c84a452ba21e9587f95e4b52"
      }
     },
     "metadata": {},
     "output_type": "display_data"
    },
    {
     "name": "stderr",
     "output_type": "stream",
     "text": [
      "/var/folders/r5/mzzh3rn14lgb2__wr5h7swqm0000gn/T/ipykernel_3460/112982427.py:78: RuntimeWarning: overflow encountered in cast\n",
      "  data_float16 = np.array(data[:, -36:], dtype=\"float16\")\n"
     ]
    },
    {
     "data": {
      "text/plain": "  0%|          | 0/29 [00:00<?, ?it/s]",
      "application/vnd.jupyter.widget-view+json": {
       "version_major": 2,
       "version_minor": 0,
       "model_id": "01feb33b340f4f95a999e079d90f882c"
      }
     },
     "metadata": {},
     "output_type": "display_data"
    },
    {
     "data": {
      "text/plain": "  0%|          | 0/31 [00:00<?, ?it/s]",
      "application/vnd.jupyter.widget-view+json": {
       "version_major": 2,
       "version_minor": 0,
       "model_id": "20f25794efe04cd48d192baf3be44ea9"
      }
     },
     "metadata": {},
     "output_type": "display_data"
    },
    {
     "data": {
      "text/plain": "  0%|          | 0/30 [00:00<?, ?it/s]",
      "application/vnd.jupyter.widget-view+json": {
       "version_major": 2,
       "version_minor": 0,
       "model_id": "3cbbeacf69b84ae29d30ff62a1a5e650"
      }
     },
     "metadata": {},
     "output_type": "display_data"
    },
    {
     "data": {
      "text/plain": "  0%|          | 0/31 [00:00<?, ?it/s]",
      "application/vnd.jupyter.widget-view+json": {
       "version_major": 2,
       "version_minor": 0,
       "model_id": "bddb6c7d32ef47198cc0dbdef336a5cc"
      }
     },
     "metadata": {},
     "output_type": "display_data"
    },
    {
     "data": {
      "text/plain": "  0%|          | 0/30 [00:00<?, ?it/s]",
      "application/vnd.jupyter.widget-view+json": {
       "version_major": 2,
       "version_minor": 0,
       "model_id": "ca6446c65e4d4c30882d5139374d0fe6"
      }
     },
     "metadata": {},
     "output_type": "display_data"
    },
    {
     "data": {
      "text/plain": "  0%|          | 0/31 [00:00<?, ?it/s]",
      "application/vnd.jupyter.widget-view+json": {
       "version_major": 2,
       "version_minor": 0,
       "model_id": "3ac8feaf862d4aa6aa0be30870039442"
      }
     },
     "metadata": {},
     "output_type": "display_data"
    },
    {
     "data": {
      "text/plain": "  0%|          | 0/31 [00:00<?, ?it/s]",
      "application/vnd.jupyter.widget-view+json": {
       "version_major": 2,
       "version_minor": 0,
       "model_id": "9ba25f0b53a84d98963c75b32b6300eb"
      }
     },
     "metadata": {},
     "output_type": "display_data"
    },
    {
     "data": {
      "text/plain": "  0%|          | 0/30 [00:00<?, ?it/s]",
      "application/vnd.jupyter.widget-view+json": {
       "version_major": 2,
       "version_minor": 0,
       "model_id": "993ca248228347319a879f489f64dd68"
      }
     },
     "metadata": {},
     "output_type": "display_data"
    },
    {
     "data": {
      "text/plain": "  0%|          | 0/31 [00:00<?, ?it/s]",
      "application/vnd.jupyter.widget-view+json": {
       "version_major": 2,
       "version_minor": 0,
       "model_id": "cca4c65e254647a8b2560aea4c8c1600"
      }
     },
     "metadata": {},
     "output_type": "display_data"
    },
    {
     "data": {
      "text/plain": "  0%|          | 0/30 [00:00<?, ?it/s]",
      "application/vnd.jupyter.widget-view+json": {
       "version_major": 2,
       "version_minor": 0,
       "model_id": "8a57b3f4513f4a3c921935bb9e4ff3e9"
      }
     },
     "metadata": {},
     "output_type": "display_data"
    },
    {
     "data": {
      "text/plain": "  0%|          | 0/31 [00:00<?, ?it/s]",
      "application/vnd.jupyter.widget-view+json": {
       "version_major": 2,
       "version_minor": 0,
       "model_id": "2668296cc3e8421e9fec5dc313537064"
      }
     },
     "metadata": {},
     "output_type": "display_data"
    }
   ],
   "source": [
    "compress_all_nc4(\"tavg3_3d_asm_Nv\",\n",
    "                 [\"U\", \"V\"],\n",
    "                 start_year=1980, end_year=1980,\n",
    "                 start_month=1,\n",
    "                 start_day=1,\n",
    "                 raw_dir=\"/Volumes/MERRA-2/compressed-wind/1980\")\n"
   ],
   "metadata": {
    "collapsed": false,
    "ExecuteTime": {
     "end_time": "2023-07-01T13:04:49.684010Z",
     "start_time": "2023-07-01T08:48:40.343318Z"
    }
   }
  },
  {
   "cell_type": "code",
   "execution_count": 15,
   "outputs": [
    {
     "name": "stdout",
     "output_type": "stream",
     "text": [
      "<xarray.Dataset>\n",
      "Dimensions:  (time: 8, lev: 72, lat: 361, lon: 288)\n",
      "Dimensions without coordinates: time, lev, lat, lon\n",
      "Data variables:\n",
      "    U        (time, lev, lat, lon) float32 ...\n",
      "    V        (time, lev, lat, lon) float32 ...\n"
     ]
    }
   ],
   "source": [
    "print_nc4_metadata(\"MERRA2_100.tavg3_3d_asm_Nv.19810101.nc4\",\n",
    "                   \"/Volumes/MERRA-2/compressed-wind/1981\")\n"
   ],
   "metadata": {
    "collapsed": false,
    "ExecuteTime": {
     "end_time": "2023-07-01T13:15:13.443762Z",
     "start_time": "2023-07-01T13:15:13.375494Z"
    }
   }
  }
 ],
 "metadata": {
  "kernelspec": {
   "display_name": "Python 3",
   "language": "python",
   "name": "python3"
  },
  "language_info": {
   "codemirror_mode": {
    "name": "ipython",
    "version": 2
   },
   "file_extension": ".py",
   "mimetype": "text/x-python",
   "name": "python",
   "nbconvert_exporter": "python",
   "pygments_lexer": "ipython2",
   "version": "2.7.6"
  }
 },
 "nbformat": 4,
 "nbformat_minor": 0
}

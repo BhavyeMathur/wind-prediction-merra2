{
 "cells": [
  {
   "cell_type": "code",
   "execution_count": 2,
   "metadata": {
    "collapsed": true
   },
   "outputs": [],
   "source": [
    "import pickle\n",
    "\n",
    "from plot import *\n",
    "from fft import *\n",
    "from maths import rmse, mae, catmull_rom_interpolate\n"
   ]
  },
  {
   "cell_type": "code",
   "execution_count": 3,
   "outputs": [],
   "source": [
    "DFT3_LEVEL_CACHE = {}\n",
    "\n",
    "\n",
    "def dft3_at_level(data: np.ndarray, level: int, quantile: float = 0.75):\n",
    "    if level in DFT3_LEVEL_CACHE:\n",
    "        fft, amplitudes = DFT3_LEVEL_CACHE[level]\n",
    "    else:\n",
    "        fft = np.fft.rfftn(data)\n",
    "        amplitudes = np.abs(fft)\n",
    "\n",
    "        DFT3_LEVEL_CACHE[level] = fft, amplitudes\n",
    "\n",
    "    fft_real = []\n",
    "    fft_imag = []\n",
    "    fft_i_indices = []\n",
    "    fft_j_indices = []\n",
    "    fft_k_indices = []\n",
    "\n",
    "    cutoff_amp = np.quantile(amplitudes, quantile)\n",
    "\n",
    "    for k in range(289):\n",
    "        for j in range(361):\n",
    "            for i in range(365 * 8):\n",
    "                if amplitudes[i, j, k] < cutoff_amp:\n",
    "                    continue\n",
    "\n",
    "                fft_real.append(fft[i, j, k].real)\n",
    "                fft_imag.append(fft[i, j, k].imag)\n",
    "                fft_i_indices.append(i)\n",
    "                fft_j_indices.append(j)\n",
    "                fft_k_indices.append(k)\n",
    "\n",
    "    fft_real = (np.array(fft_real, dtype=\"float32\") / 262144).astype(\"float16\")\n",
    "    fft_real = encode_zlib(fft_real)\n",
    "\n",
    "    fft_imag = (np.array(fft_imag, dtype=\"float32\") / 262144).astype(\"float16\")\n",
    "    fft_imag = encode_zlib(fft_imag)\n",
    "\n",
    "    fft_i_indices = np.array(fft_i_indices, dtype=\"int16\")\n",
    "    fft_i_indices = encode_difference_uint8(fft_i_indices)\n",
    "    fft_i_indices = encode_zlib(fft_i_indices)\n",
    "\n",
    "    fft_j_indices = np.array(fft_j_indices, dtype=\"int16\")\n",
    "    fft_j_indices = encode_difference_uint8(fft_j_indices)\n",
    "    fft_j_indices = encode_zlib(fft_j_indices)\n",
    "\n",
    "    fft_k_indices = np.array(fft_k_indices, dtype=\"int16\")\n",
    "    fft_k_indices = encode_difference_uint8(fft_k_indices)\n",
    "    fft_k_indices = encode_zlib(fft_k_indices)\n",
    "\n",
    "    return fft_real, fft_imag, fft_i_indices, fft_j_indices, fft_k_indices\n",
    "\n",
    "\n",
    "def idft3_at_level(fft_real, fft_imag, fft_i_indices, fft_j_indices, fft_k_indices):\n",
    "    ifft = np.zeros((365 * 8, 361, 289), dtype=\"complex64\")\n",
    "\n",
    "    fft_real = decode_zlib(fft_real, dtype=\"float16\")\n",
    "    fft_imag = decode_zlib(fft_imag, dtype=\"float16\")\n",
    "    fft = fft_real.astype(\"complex64\") * 262144 + fft_imag.astype(\"complex64\") * 262144j\n",
    "\n",
    "    fft_i_indices = decode_zlib(fft_i_indices)\n",
    "    fft_i_indices = decode_difference_uint8(fft_i_indices)\n",
    "\n",
    "    fft_j_indices = decode_zlib(fft_j_indices)\n",
    "    fft_j_indices = decode_difference_uint8(fft_j_indices)\n",
    "\n",
    "    fft_k_indices = decode_zlib(fft_k_indices)\n",
    "    fft_k_indices = decode_difference_uint8(fft_k_indices)\n",
    "\n",
    "    for idx in range(len(fft)):\n",
    "        ifft[fft_i_indices[idx], fft_j_indices[idx], fft_k_indices[idx]] = fft[idx]\n",
    "\n",
    "    return np.fft.irfftn(ifft)"
   ],
   "metadata": {
    "collapsed": false
   }
  },
  {
   "cell_type": "code",
   "execution_count": 4,
   "outputs": [],
   "source": [
    "def fit_dft3_at_level(filename: str, variable: str, level: int, verbose: bool = True, **kwargs):\n",
    "    output = f\"models/3D-dft/{get_year_from_filename(filename)}/{variable}-{level}-{kwargs['quantile']}.bin\"\n",
    "\n",
    "    if os.path.exists(output):\n",
    "        with open(output, \"rb\") as file:\n",
    "            fft = pickle.load(file)\n",
    "        if verbose:\n",
    "            print(\"Loading data...\")\n",
    "            data = load_variable_at_level(filename, variable, level, cache=verbose)\n",
    "    else:\n",
    "        if verbose:\n",
    "            print(\"Loading data...\")\n",
    "\n",
    "        data = load_variable_at_level(filename, variable, level, cache=verbose)\n",
    "        if verbose:\n",
    "            print(\"Performing DFT...\")\n",
    "\n",
    "        fft = dft3_at_level(data, level, **kwargs)\n",
    "        with open(output, \"wb\") as file:\n",
    "            pickle.dump(fft, file, protocol=pickle.HIGHEST_PROTOCOL)\n",
    "\n",
    "    if verbose:\n",
    "        data = data.astype(\"float32\")\n",
    "\n",
    "        print(\"Performing IDFT...\")\n",
    "        prediction = idft3_at_level(*fft)\n",
    "\n",
    "        size = sum(el.nbytes for el in fft)\n",
    "        lines = f\"\"\"\n",
    "        Original Stdev: {data.std()} m/s\n",
    "        Predicted MAE:  {mae(data, prediction)} m/s\n",
    "        Predicted RMSE: {rmse(data, prediction)} m/s\n",
    "\n",
    "        Size/level: {size / (1000 ** 2)} MB\n",
    "        Size/year: {size * 36 / (1000 ** 2)} MB\n",
    "        \"\"\"\n",
    "        print(lines)\n",
    "\n",
    "\n",
    "def fit_dft3(filename: str, variable: str, skip_levels: int, **kwargs):\n",
    "    levels = sorted(set(range(0, 36, skip_levels)).union({35}))\n",
    "    for lev in tqdm(levels):\n",
    "        print(lev)\n",
    "        fit_dft3_at_level(filename, variable, lev, verbose=False, **kwargs)\n",
    "        DFT3_LEVEL_CACHE.clear()"
   ],
   "metadata": {
    "collapsed": false
   }
  },
  {
   "cell_type": "code",
   "execution_count": null,
   "outputs": [],
   "source": [
    "fit_dft3(\"MERRA2.tavg3_3d_asm_Nv.YAVG{:0>2}{:0>2}.nc4\", \"U\", quantile=0.9935, skip_levels=3)\n"
   ],
   "metadata": {
    "collapsed": false,
    "pycharm": {
     "is_executing": true
    }
   }
  },
  {
   "cell_type": "code",
   "execution_count": 6,
   "outputs": [
    {
     "data": {
      "text/plain": "  0%|          | 0/36 [00:00<?, ?it/s]",
      "application/vnd.jupyter.widget-view+json": {
       "version_major": 2,
       "version_minor": 0,
       "model_id": "38982170cf6e4c96953ccdcb3c3e5aba"
      }
     },
     "metadata": {},
     "output_type": "display_data"
    },
    {
     "data": {
      "text/plain": "  0%|          | 0/12 [00:00<?, ?it/s]",
      "application/vnd.jupyter.widget-view+json": {
       "version_major": 2,
       "version_minor": 0,
       "model_id": "c2c9298d852e4115ac36ea9f86c92485"
      }
     },
     "metadata": {},
     "output_type": "display_data"
    },
    {
     "name": "stdout",
     "output_type": "stream",
     "text": [
      "\n",
      "        Level 0:\n",
      "            Original Stdev: 11.381978988647461 m/s\n",
      "            Predicted MAE:  0.09965647515987254 m/s\n",
      "            Predicted RMSE: 0.1341450619757956 m/s\n",
      "        \n"
     ]
    },
    {
     "data": {
      "text/plain": "  0%|          | 0/12 [00:00<?, ?it/s]",
      "application/vnd.jupyter.widget-view+json": {
       "version_major": 2,
       "version_minor": 0,
       "model_id": "f3f42d2916e1458fa367aaeb04076cee"
      }
     },
     "metadata": {},
     "output_type": "display_data"
    },
    {
     "name": "stdout",
     "output_type": "stream",
     "text": [
      "\n",
      "        Level 3:\n",
      "            Original Stdev: 12.885987281799316 m/s\n",
      "            Predicted MAE:  0.15934444036320133 m/s\n",
      "            Predicted RMSE: 0.21936457957497246 m/s\n",
      "        \n"
     ]
    },
    {
     "data": {
      "text/plain": "  0%|          | 0/12 [00:00<?, ?it/s]",
      "application/vnd.jupyter.widget-view+json": {
       "version_major": 2,
       "version_minor": 0,
       "model_id": "79593bb8a9624e63af7c0ede9ca4c7e1"
      }
     },
     "metadata": {},
     "output_type": "display_data"
    },
    {
     "name": "stdout",
     "output_type": "stream",
     "text": [
      "\n",
      "        Level 6:\n",
      "            Original Stdev: 13.372077941894531 m/s\n",
      "            Predicted MAE:  0.25617333927588615 m/s\n",
      "            Predicted RMSE: 0.3374529362853957 m/s\n",
      "        \n"
     ]
    },
    {
     "data": {
      "text/plain": "  0%|          | 0/12 [00:00<?, ?it/s]",
      "application/vnd.jupyter.widget-view+json": {
       "version_major": 2,
       "version_minor": 0,
       "model_id": "9a573387db35455aa7fde4a45919efd3"
      }
     },
     "metadata": {},
     "output_type": "display_data"
    },
    {
     "name": "stdout",
     "output_type": "stream",
     "text": [
      "\n",
      "        Level 1:\n",
      "            Original Stdev: 11.579792976379395 m/s\n",
      "            Predicted MAE:  0.717729318719216 m/s\n",
      "            Predicted RMSE: 1.12677657920733 m/s\n",
      "        \n"
     ]
    },
    {
     "data": {
      "text/plain": "  0%|          | 0/12 [00:00<?, ?it/s]",
      "application/vnd.jupyter.widget-view+json": {
       "version_major": 2,
       "version_minor": 0,
       "model_id": "736784cda17449e18f08ac048421c3c9"
      }
     },
     "metadata": {},
     "output_type": "display_data"
    },
    {
     "ename": "KeyboardInterrupt",
     "evalue": "",
     "output_type": "error",
     "traceback": [
      "\u001B[0;31m---------------------------------------------------------------------------\u001B[0m",
      "\u001B[0;31mKeyboardInterrupt\u001B[0m                         Traceback (most recent call last)",
      "Cell \u001B[0;32mIn[6], line 90\u001B[0m\n\u001B[1;32m     82\u001B[0m     lines \u001B[38;5;241m=\u001B[39m \u001B[38;5;124mf\u001B[39m\u001B[38;5;124m\"\"\"\u001B[39m\n\u001B[1;32m     83\u001B[0m \u001B[38;5;124m    Original Stdev: \u001B[39m\u001B[38;5;132;01m{\u001B[39;00m(data_variance\u001B[38;5;250m \u001B[39m\u001B[38;5;241m/\u001B[39m\u001B[38;5;250m \u001B[39m\u001B[38;5;241m36\u001B[39m)\u001B[38;5;250m \u001B[39m\u001B[38;5;241m*\u001B[39m\u001B[38;5;241m*\u001B[39m\u001B[38;5;250m \u001B[39m\u001B[38;5;241m0.5\u001B[39m\u001B[38;5;132;01m}\u001B[39;00m\u001B[38;5;124m m/s\u001B[39m\n\u001B[1;32m     84\u001B[0m \u001B[38;5;124m    Predicted MAE:  \u001B[39m\u001B[38;5;132;01m{\u001B[39;00m(mae_error\u001B[38;5;250m \u001B[39m\u001B[38;5;241m/\u001B[39m\u001B[38;5;250m \u001B[39m\u001B[38;5;241m36\u001B[39m)\u001B[38;5;241m.\u001B[39mmean()\u001B[38;5;132;01m}\u001B[39;00m\u001B[38;5;124m m/s\u001B[39m\n\u001B[1;32m     85\u001B[0m \u001B[38;5;124m    Predicted RMSE: \u001B[39m\u001B[38;5;132;01m{\u001B[39;00m(mse_error\u001B[38;5;250m \u001B[39m\u001B[38;5;241m/\u001B[39m\u001B[38;5;250m \u001B[39m\u001B[38;5;241m36\u001B[39m)\u001B[38;5;241m.\u001B[39mmean()\u001B[38;5;250m \u001B[39m\u001B[38;5;241m*\u001B[39m\u001B[38;5;241m*\u001B[39m\u001B[38;5;250m \u001B[39m\u001B[38;5;241m0.5\u001B[39m\u001B[38;5;132;01m}\u001B[39;00m\u001B[38;5;124m m/s\u001B[39m\n\u001B[1;32m     86\u001B[0m \u001B[38;5;124m    \u001B[39m\u001B[38;5;124m\"\"\"\u001B[39m\n\u001B[1;32m     87\u001B[0m     \u001B[38;5;28mprint\u001B[39m(lines)\n\u001B[0;32m---> 90\u001B[0m \u001B[43mtest_fit_dft3\u001B[49m\u001B[43m(\u001B[49m\u001B[38;5;124;43m\"\u001B[39;49m\u001B[38;5;124;43mMERRA2.tavg3_3d_asm_Nv.YAVG\u001B[39;49m\u001B[38;5;132;43;01m{:0>2}\u001B[39;49;00m\u001B[38;5;132;43;01m{:0>2}\u001B[39;49;00m\u001B[38;5;124;43m.nc4\u001B[39;49m\u001B[38;5;124;43m\"\u001B[39;49m\u001B[43m,\u001B[49m\u001B[43m \u001B[49m\u001B[38;5;124;43m\"\u001B[39;49m\u001B[38;5;124;43mU\u001B[39;49m\u001B[38;5;124;43m\"\u001B[39;49m\u001B[43m,\u001B[49m\u001B[43m \u001B[49m\u001B[43mquantile\u001B[49m\u001B[38;5;241;43m=\u001B[39;49m\u001B[38;5;241;43m0.9935\u001B[39;49m\u001B[43m,\u001B[49m\u001B[43m \u001B[49m\u001B[43mskip_levels\u001B[49m\u001B[38;5;241;43m=\u001B[39;49m\u001B[38;5;241;43m3\u001B[39;49m\u001B[43m)\u001B[49m\n",
      "Cell \u001B[0;32mIn[6], line 79\u001B[0m, in \u001B[0;36mtest_fit_dft3\u001B[0;34m(filename, variable, quantile, skip_levels)\u001B[0m\n\u001B[1;32m     76\u001B[0m         predict_from_fft(lev)\n\u001B[1;32m     77\u001B[0m         \u001B[38;5;28;01mcontinue\u001B[39;00m\n\u001B[0;32m---> 79\u001B[0m     \u001B[43minterpolate_from_fft\u001B[49m\u001B[43m(\u001B[49m\u001B[43mlev\u001B[49m\u001B[43m)\u001B[49m\n\u001B[1;32m     82\u001B[0m lines \u001B[38;5;241m=\u001B[39m \u001B[38;5;124mf\u001B[39m\u001B[38;5;124m\"\"\"\u001B[39m\n\u001B[1;32m     83\u001B[0m \u001B[38;5;124mOriginal Stdev: \u001B[39m\u001B[38;5;132;01m{\u001B[39;00m(data_variance\u001B[38;5;250m \u001B[39m\u001B[38;5;241m/\u001B[39m\u001B[38;5;250m \u001B[39m\u001B[38;5;241m36\u001B[39m)\u001B[38;5;250m \u001B[39m\u001B[38;5;241m*\u001B[39m\u001B[38;5;241m*\u001B[39m\u001B[38;5;250m \u001B[39m\u001B[38;5;241m0.5\u001B[39m\u001B[38;5;132;01m}\u001B[39;00m\u001B[38;5;124m m/s\u001B[39m\n\u001B[1;32m     84\u001B[0m \u001B[38;5;124mPredicted MAE:  \u001B[39m\u001B[38;5;132;01m{\u001B[39;00m(mae_error\u001B[38;5;250m \u001B[39m\u001B[38;5;241m/\u001B[39m\u001B[38;5;250m \u001B[39m\u001B[38;5;241m36\u001B[39m)\u001B[38;5;241m.\u001B[39mmean()\u001B[38;5;132;01m}\u001B[39;00m\u001B[38;5;124m m/s\u001B[39m\n\u001B[1;32m     85\u001B[0m \u001B[38;5;124mPredicted RMSE: \u001B[39m\u001B[38;5;132;01m{\u001B[39;00m(mse_error\u001B[38;5;250m \u001B[39m\u001B[38;5;241m/\u001B[39m\u001B[38;5;250m \u001B[39m\u001B[38;5;241m36\u001B[39m)\u001B[38;5;241m.\u001B[39mmean()\u001B[38;5;250m \u001B[39m\u001B[38;5;241m*\u001B[39m\u001B[38;5;241m*\u001B[39m\u001B[38;5;250m \u001B[39m\u001B[38;5;241m0.5\u001B[39m\u001B[38;5;132;01m}\u001B[39;00m\u001B[38;5;124m m/s\u001B[39m\n\u001B[1;32m     86\u001B[0m \u001B[38;5;124m\u001B[39m\u001B[38;5;124m\"\"\"\u001B[39m\n\u001B[1;32m     87\u001B[0m \u001B[38;5;28mprint\u001B[39m(lines)\n",
      "Cell \u001B[0;32mIn[6], line 55\u001B[0m, in \u001B[0;36mtest_fit_dft3.<locals>.interpolate_from_fft\u001B[0;34m(level)\u001B[0m\n\u001B[1;32m     52\u001B[0m     \u001B[38;5;28;01melse\u001B[39;00m:\n\u001B[1;32m     53\u001B[0m         predict_from_fft(i)\n\u001B[0;32m---> 55\u001B[0m data \u001B[38;5;241m=\u001B[39m \u001B[43mload_variable_at_level\u001B[49m\u001B[43m(\u001B[49m\u001B[43mfilename\u001B[49m\u001B[43m,\u001B[49m\u001B[43m \u001B[49m\u001B[43mvariable\u001B[49m\u001B[43m,\u001B[49m\u001B[43m \u001B[49m\u001B[43mlev\u001B[49m\u001B[43m,\u001B[49m\u001B[43m \u001B[49m\u001B[43mcache\u001B[49m\u001B[38;5;241;43m=\u001B[39;49m\u001B[38;5;28;43;01mFalse\u001B[39;49;00m\u001B[43m)\u001B[49m\u001B[38;5;241m.\u001B[39mastype(\u001B[38;5;124m\"\u001B[39m\u001B[38;5;124mfloat32\u001B[39m\u001B[38;5;124m\"\u001B[39m)\n\u001B[1;32m     56\u001B[0m data_variance \u001B[38;5;241m+\u001B[39m\u001B[38;5;241m=\u001B[39m data\u001B[38;5;241m.\u001B[39mvar()\n\u001B[1;32m     58\u001B[0m pred \u001B[38;5;241m=\u001B[39m catmull_rom_interpolate(predicted_window, \u001B[38;5;241m1\u001B[39m, t)\n",
      "File \u001B[0;32m~/Desktop/Projects/Spherindrical Fourier Transform/MERRA-2/wind-prediction/data_loading.py:111\u001B[0m, in \u001B[0;36mload_variable_at_level\u001B[0;34m(filename, variable, level, cache, folder)\u001B[0m\n\u001B[1;32m    108\u001B[0m     \u001B[38;5;28;01mcontinue\u001B[39;00m  \u001B[38;5;66;03m# let's just skip February 29th\u001B[39;00m\n\u001B[1;32m    110\u001B[0m \u001B[38;5;28;01mwith\u001B[39;00m open_xarray_dataset(filename\u001B[38;5;241m.\u001B[39mformat(mm, dd), folder\u001B[38;5;241m=\u001B[39mfolder) \u001B[38;5;28;01mas\u001B[39;00m dataset:\n\u001B[0;32m--> 111\u001B[0m     subdata \u001B[38;5;241m=\u001B[39m np\u001B[38;5;241m.\u001B[39marray(dataset[variable][:, level])\n\u001B[1;32m    112\u001B[0m     data[i:i \u001B[38;5;241m+\u001B[39m \u001B[38;5;241m8\u001B[39m] \u001B[38;5;241m=\u001B[39m subdata\u001B[38;5;241m.\u001B[39mview(\u001B[38;5;124m\"\u001B[39m\u001B[38;5;124mfloat16\u001B[39m\u001B[38;5;124m\"\u001B[39m)\u001B[38;5;241m.\u001B[39mastype(\u001B[38;5;124m\"\u001B[39m\u001B[38;5;124mfloat16\u001B[39m\u001B[38;5;124m\"\u001B[39m)\n\u001B[1;32m    113\u001B[0m     i \u001B[38;5;241m+\u001B[39m\u001B[38;5;241m=\u001B[39m \u001B[38;5;241m8\u001B[39m\n",
      "File \u001B[0;32m/Library/Frameworks/Python.framework/Versions/3.11/lib/python3.11/site-packages/xarray/core/common.py:165\u001B[0m, in \u001B[0;36mAbstractArray.__array__\u001B[0;34m(self, dtype)\u001B[0m\n\u001B[1;32m    164\u001B[0m \u001B[38;5;28;01mdef\u001B[39;00m \u001B[38;5;21m__array__\u001B[39m(\u001B[38;5;28mself\u001B[39m: Any, dtype: DTypeLike \u001B[38;5;241m=\u001B[39m \u001B[38;5;28;01mNone\u001B[39;00m) \u001B[38;5;241m-\u001B[39m\u001B[38;5;241m>\u001B[39m np\u001B[38;5;241m.\u001B[39mndarray:\n\u001B[0;32m--> 165\u001B[0m     \u001B[38;5;28;01mreturn\u001B[39;00m np\u001B[38;5;241m.\u001B[39masarray(\u001B[38;5;28;43mself\u001B[39;49m\u001B[38;5;241;43m.\u001B[39;49m\u001B[43mvalues\u001B[49m, dtype\u001B[38;5;241m=\u001B[39mdtype)\n",
      "File \u001B[0;32m/Library/Frameworks/Python.framework/Versions/3.11/lib/python3.11/site-packages/xarray/core/dataarray.py:729\u001B[0m, in \u001B[0;36mDataArray.values\u001B[0;34m(self)\u001B[0m\n\u001B[1;32m    720\u001B[0m \u001B[38;5;129m@property\u001B[39m\n\u001B[1;32m    721\u001B[0m \u001B[38;5;28;01mdef\u001B[39;00m \u001B[38;5;21mvalues\u001B[39m(\u001B[38;5;28mself\u001B[39m) \u001B[38;5;241m-\u001B[39m\u001B[38;5;241m>\u001B[39m np\u001B[38;5;241m.\u001B[39mndarray:\n\u001B[1;32m    722\u001B[0m \u001B[38;5;250m    \u001B[39m\u001B[38;5;124;03m\"\"\"\u001B[39;00m\n\u001B[1;32m    723\u001B[0m \u001B[38;5;124;03m    The array's data as a numpy.ndarray.\u001B[39;00m\n\u001B[1;32m    724\u001B[0m \n\u001B[0;32m   (...)\u001B[0m\n\u001B[1;32m    727\u001B[0m \u001B[38;5;124;03m    type does not support coercion like this (e.g. cupy).\u001B[39;00m\n\u001B[1;32m    728\u001B[0m \u001B[38;5;124;03m    \"\"\"\u001B[39;00m\n\u001B[0;32m--> 729\u001B[0m     \u001B[38;5;28;01mreturn\u001B[39;00m \u001B[38;5;28;43mself\u001B[39;49m\u001B[38;5;241;43m.\u001B[39;49m\u001B[43mvariable\u001B[49m\u001B[38;5;241;43m.\u001B[39;49m\u001B[43mvalues\u001B[49m\n",
      "File \u001B[0;32m/Library/Frameworks/Python.framework/Versions/3.11/lib/python3.11/site-packages/xarray/core/variable.py:608\u001B[0m, in \u001B[0;36mVariable.values\u001B[0;34m(self)\u001B[0m\n\u001B[1;32m    605\u001B[0m \u001B[38;5;129m@property\u001B[39m\n\u001B[1;32m    606\u001B[0m \u001B[38;5;28;01mdef\u001B[39;00m \u001B[38;5;21mvalues\u001B[39m(\u001B[38;5;28mself\u001B[39m):\n\u001B[1;32m    607\u001B[0m \u001B[38;5;250m    \u001B[39m\u001B[38;5;124;03m\"\"\"The variable's data as a numpy.ndarray\"\"\"\u001B[39;00m\n\u001B[0;32m--> 608\u001B[0m     \u001B[38;5;28;01mreturn\u001B[39;00m \u001B[43m_as_array_or_item\u001B[49m\u001B[43m(\u001B[49m\u001B[38;5;28;43mself\u001B[39;49m\u001B[38;5;241;43m.\u001B[39;49m\u001B[43m_data\u001B[49m\u001B[43m)\u001B[49m\n",
      "File \u001B[0;32m/Library/Frameworks/Python.framework/Versions/3.11/lib/python3.11/site-packages/xarray/core/variable.py:314\u001B[0m, in \u001B[0;36m_as_array_or_item\u001B[0;34m(data)\u001B[0m\n\u001B[1;32m    300\u001B[0m \u001B[38;5;28;01mdef\u001B[39;00m \u001B[38;5;21m_as_array_or_item\u001B[39m(data):\n\u001B[1;32m    301\u001B[0m \u001B[38;5;250m    \u001B[39m\u001B[38;5;124;03m\"\"\"Return the given values as a numpy array, or as an individual item if\u001B[39;00m\n\u001B[1;32m    302\u001B[0m \u001B[38;5;124;03m    it's a 0d datetime64 or timedelta64 array.\u001B[39;00m\n\u001B[1;32m    303\u001B[0m \n\u001B[0;32m   (...)\u001B[0m\n\u001B[1;32m    312\u001B[0m \u001B[38;5;124;03m    TODO: remove this (replace with np.asarray) once these issues are fixed\u001B[39;00m\n\u001B[1;32m    313\u001B[0m \u001B[38;5;124;03m    \"\"\"\u001B[39;00m\n\u001B[0;32m--> 314\u001B[0m     data \u001B[38;5;241m=\u001B[39m np\u001B[38;5;241m.\u001B[39masarray(data)\n\u001B[1;32m    315\u001B[0m     \u001B[38;5;28;01mif\u001B[39;00m data\u001B[38;5;241m.\u001B[39mndim \u001B[38;5;241m==\u001B[39m \u001B[38;5;241m0\u001B[39m:\n\u001B[1;32m    316\u001B[0m         \u001B[38;5;28;01mif\u001B[39;00m data\u001B[38;5;241m.\u001B[39mdtype\u001B[38;5;241m.\u001B[39mkind \u001B[38;5;241m==\u001B[39m \u001B[38;5;124m\"\u001B[39m\u001B[38;5;124mM\u001B[39m\u001B[38;5;124m\"\u001B[39m:\n",
      "File \u001B[0;32m/Library/Frameworks/Python.framework/Versions/3.11/lib/python3.11/site-packages/xarray/core/indexing.py:653\u001B[0m, in \u001B[0;36mMemoryCachedArray.__array__\u001B[0;34m(self, dtype)\u001B[0m\n\u001B[1;32m    652\u001B[0m \u001B[38;5;28;01mdef\u001B[39;00m \u001B[38;5;21m__array__\u001B[39m(\u001B[38;5;28mself\u001B[39m, dtype\u001B[38;5;241m=\u001B[39m\u001B[38;5;28;01mNone\u001B[39;00m):\n\u001B[0;32m--> 653\u001B[0m     \u001B[38;5;28;43mself\u001B[39;49m\u001B[38;5;241;43m.\u001B[39;49m\u001B[43m_ensure_cached\u001B[49m\u001B[43m(\u001B[49m\u001B[43m)\u001B[49m\n\u001B[1;32m    654\u001B[0m     \u001B[38;5;28;01mreturn\u001B[39;00m np\u001B[38;5;241m.\u001B[39masarray(\u001B[38;5;28mself\u001B[39m\u001B[38;5;241m.\u001B[39marray, dtype\u001B[38;5;241m=\u001B[39mdtype)\n",
      "File \u001B[0;32m/Library/Frameworks/Python.framework/Versions/3.11/lib/python3.11/site-packages/xarray/core/indexing.py:650\u001B[0m, in \u001B[0;36mMemoryCachedArray._ensure_cached\u001B[0;34m(self)\u001B[0m\n\u001B[1;32m    648\u001B[0m \u001B[38;5;28;01mdef\u001B[39;00m \u001B[38;5;21m_ensure_cached\u001B[39m(\u001B[38;5;28mself\u001B[39m):\n\u001B[1;32m    649\u001B[0m     \u001B[38;5;28;01mif\u001B[39;00m \u001B[38;5;129;01mnot\u001B[39;00m \u001B[38;5;28misinstance\u001B[39m(\u001B[38;5;28mself\u001B[39m\u001B[38;5;241m.\u001B[39marray, NumpyIndexingAdapter):\n\u001B[0;32m--> 650\u001B[0m         \u001B[38;5;28mself\u001B[39m\u001B[38;5;241m.\u001B[39marray \u001B[38;5;241m=\u001B[39m NumpyIndexingAdapter(np\u001B[38;5;241m.\u001B[39masarray(\u001B[38;5;28mself\u001B[39m\u001B[38;5;241m.\u001B[39marray))\n",
      "File \u001B[0;32m/Library/Frameworks/Python.framework/Versions/3.11/lib/python3.11/site-packages/xarray/core/indexing.py:623\u001B[0m, in \u001B[0;36mCopyOnWriteArray.__array__\u001B[0;34m(self, dtype)\u001B[0m\n\u001B[1;32m    622\u001B[0m \u001B[38;5;28;01mdef\u001B[39;00m \u001B[38;5;21m__array__\u001B[39m(\u001B[38;5;28mself\u001B[39m, dtype\u001B[38;5;241m=\u001B[39m\u001B[38;5;28;01mNone\u001B[39;00m):\n\u001B[0;32m--> 623\u001B[0m     \u001B[38;5;28;01mreturn\u001B[39;00m np\u001B[38;5;241m.\u001B[39masarray(\u001B[38;5;28mself\u001B[39m\u001B[38;5;241m.\u001B[39marray, dtype\u001B[38;5;241m=\u001B[39mdtype)\n",
      "File \u001B[0;32m/Library/Frameworks/Python.framework/Versions/3.11/lib/python3.11/site-packages/xarray/core/indexing.py:524\u001B[0m, in \u001B[0;36mLazilyIndexedArray.__array__\u001B[0;34m(self, dtype)\u001B[0m\n\u001B[1;32m    522\u001B[0m \u001B[38;5;28;01mdef\u001B[39;00m \u001B[38;5;21m__array__\u001B[39m(\u001B[38;5;28mself\u001B[39m, dtype\u001B[38;5;241m=\u001B[39m\u001B[38;5;28;01mNone\u001B[39;00m):\n\u001B[1;32m    523\u001B[0m     array \u001B[38;5;241m=\u001B[39m as_indexable(\u001B[38;5;28mself\u001B[39m\u001B[38;5;241m.\u001B[39marray)\n\u001B[0;32m--> 524\u001B[0m     \u001B[38;5;28;01mreturn\u001B[39;00m np\u001B[38;5;241m.\u001B[39masarray(\u001B[43marray\u001B[49m\u001B[43m[\u001B[49m\u001B[38;5;28;43mself\u001B[39;49m\u001B[38;5;241;43m.\u001B[39;49m\u001B[43mkey\u001B[49m\u001B[43m]\u001B[49m, dtype\u001B[38;5;241m=\u001B[39m\u001B[38;5;28;01mNone\u001B[39;00m)\n",
      "File \u001B[0;32m/Library/Frameworks/Python.framework/Versions/3.11/lib/python3.11/site-packages/xarray/backends/netCDF4_.py:85\u001B[0m, in \u001B[0;36mNetCDF4ArrayWrapper.__getitem__\u001B[0;34m(self, key)\u001B[0m\n\u001B[1;32m     84\u001B[0m \u001B[38;5;28;01mdef\u001B[39;00m \u001B[38;5;21m__getitem__\u001B[39m(\u001B[38;5;28mself\u001B[39m, key):\n\u001B[0;32m---> 85\u001B[0m     \u001B[38;5;28;01mreturn\u001B[39;00m \u001B[43mindexing\u001B[49m\u001B[38;5;241;43m.\u001B[39;49m\u001B[43mexplicit_indexing_adapter\u001B[49m\u001B[43m(\u001B[49m\n\u001B[1;32m     86\u001B[0m \u001B[43m        \u001B[49m\u001B[43mkey\u001B[49m\u001B[43m,\u001B[49m\u001B[43m \u001B[49m\u001B[38;5;28;43mself\u001B[39;49m\u001B[38;5;241;43m.\u001B[39;49m\u001B[43mshape\u001B[49m\u001B[43m,\u001B[49m\u001B[43m \u001B[49m\u001B[43mindexing\u001B[49m\u001B[38;5;241;43m.\u001B[39;49m\u001B[43mIndexingSupport\u001B[49m\u001B[38;5;241;43m.\u001B[39;49m\u001B[43mOUTER\u001B[49m\u001B[43m,\u001B[49m\u001B[43m \u001B[49m\u001B[38;5;28;43mself\u001B[39;49m\u001B[38;5;241;43m.\u001B[39;49m\u001B[43m_getitem\u001B[49m\n\u001B[1;32m     87\u001B[0m \u001B[43m    \u001B[49m\u001B[43m)\u001B[49m\n",
      "File \u001B[0;32m/Library/Frameworks/Python.framework/Versions/3.11/lib/python3.11/site-packages/xarray/core/indexing.py:815\u001B[0m, in \u001B[0;36mexplicit_indexing_adapter\u001B[0;34m(key, shape, indexing_support, raw_indexing_method)\u001B[0m\n\u001B[1;32m    793\u001B[0m \u001B[38;5;250m\u001B[39m\u001B[38;5;124;03m\"\"\"Support explicit indexing by delegating to a raw indexing method.\u001B[39;00m\n\u001B[1;32m    794\u001B[0m \n\u001B[1;32m    795\u001B[0m \u001B[38;5;124;03mOuter and/or vectorized indexers are supported by indexing a second time\u001B[39;00m\n\u001B[0;32m   (...)\u001B[0m\n\u001B[1;32m    812\u001B[0m \u001B[38;5;124;03mIndexing result, in the form of a duck numpy-array.\u001B[39;00m\n\u001B[1;32m    813\u001B[0m \u001B[38;5;124;03m\"\"\"\u001B[39;00m\n\u001B[1;32m    814\u001B[0m raw_key, numpy_indices \u001B[38;5;241m=\u001B[39m decompose_indexer(key, shape, indexing_support)\n\u001B[0;32m--> 815\u001B[0m result \u001B[38;5;241m=\u001B[39m \u001B[43mraw_indexing_method\u001B[49m\u001B[43m(\u001B[49m\u001B[43mraw_key\u001B[49m\u001B[38;5;241;43m.\u001B[39;49m\u001B[43mtuple\u001B[49m\u001B[43m)\u001B[49m\n\u001B[1;32m    816\u001B[0m \u001B[38;5;28;01mif\u001B[39;00m numpy_indices\u001B[38;5;241m.\u001B[39mtuple:\n\u001B[1;32m    817\u001B[0m     \u001B[38;5;66;03m# index the loaded np.ndarray\u001B[39;00m\n\u001B[1;32m    818\u001B[0m     result \u001B[38;5;241m=\u001B[39m NumpyIndexingAdapter(np\u001B[38;5;241m.\u001B[39masarray(result))[numpy_indices]\n",
      "File \u001B[0;32m/Library/Frameworks/Python.framework/Versions/3.11/lib/python3.11/site-packages/xarray/backends/netCDF4_.py:98\u001B[0m, in \u001B[0;36mNetCDF4ArrayWrapper._getitem\u001B[0;34m(self, key)\u001B[0m\n\u001B[1;32m     96\u001B[0m     \u001B[38;5;28;01mwith\u001B[39;00m \u001B[38;5;28mself\u001B[39m\u001B[38;5;241m.\u001B[39mdatastore\u001B[38;5;241m.\u001B[39mlock:\n\u001B[1;32m     97\u001B[0m         original_array \u001B[38;5;241m=\u001B[39m \u001B[38;5;28mself\u001B[39m\u001B[38;5;241m.\u001B[39mget_array(needs_lock\u001B[38;5;241m=\u001B[39m\u001B[38;5;28;01mFalse\u001B[39;00m)\n\u001B[0;32m---> 98\u001B[0m         array \u001B[38;5;241m=\u001B[39m getitem(original_array, key)\n\u001B[1;32m     99\u001B[0m \u001B[38;5;28;01mexcept\u001B[39;00m \u001B[38;5;167;01mIndexError\u001B[39;00m:\n\u001B[1;32m    100\u001B[0m     \u001B[38;5;66;03m# Catch IndexError in netCDF4 and return a more informative\u001B[39;00m\n\u001B[1;32m    101\u001B[0m     \u001B[38;5;66;03m# error message.  This is most often called when an unsorted\u001B[39;00m\n\u001B[1;32m    102\u001B[0m     \u001B[38;5;66;03m# indexer is used before the data is loaded from disk.\u001B[39;00m\n\u001B[1;32m    103\u001B[0m     msg \u001B[38;5;241m=\u001B[39m (\n\u001B[1;32m    104\u001B[0m         \u001B[38;5;124m\"\u001B[39m\u001B[38;5;124mThe indexing operation you are attempting to perform \u001B[39m\u001B[38;5;124m\"\u001B[39m\n\u001B[1;32m    105\u001B[0m         \u001B[38;5;124m\"\u001B[39m\u001B[38;5;124mis not valid on netCDF4.Variable object. Try loading \u001B[39m\u001B[38;5;124m\"\u001B[39m\n\u001B[1;32m    106\u001B[0m         \u001B[38;5;124m\"\u001B[39m\u001B[38;5;124myour data into memory first by calling .load().\u001B[39m\u001B[38;5;124m\"\u001B[39m\n\u001B[1;32m    107\u001B[0m     )\n",
      "\u001B[0;31mKeyboardInterrupt\u001B[0m: "
     ]
    }
   ],
   "source": [
    "def test_fit_dft3(filename: str, variable: str, quantile: float, skip_levels: int):\n",
    "    data_variance = 0\n",
    "    mae_error = np.zeros((365 * 8, 361, 576), dtype=\"float32\")\n",
    "    mse_error = np.zeros((365 * 8, 361, 576), dtype=\"float32\")\n",
    "    predicted_levels = set()\n",
    "    predicted_window = []\n",
    "    predicted_window_levels = []\n",
    "\n",
    "    def predict_from_fft(level):\n",
    "        nonlocal data_variance, mae_error, mse_error\n",
    "\n",
    "        data = load_variable_at_level(filename, variable, level, cache=False, folder=\"raw\").astype(\"float32\")\n",
    "        data_variance += data.var()\n",
    "\n",
    "        with open(f\"models/3D-dft/{get_year_from_filename(filename)}/{variable}-{level}-{quantile}.bin\", \"rb\") as file:\n",
    "            fft = pickle.load(file)\n",
    "        pred = idft3_at_level(*fft)\n",
    "\n",
    "        predicted_window.append(pred)\n",
    "        predicted_window_levels.append(level)\n",
    "        if len(predicted_window) > 4:\n",
    "            predicted_window.pop(0)\n",
    "            predicted_window_levels.pop(0)\n",
    "\n",
    "        mae_error += abs(data - pred)\n",
    "        mse_error += (data - pred) ** 2\n",
    "\n",
    "        print(f\"\"\"\n",
    "        Level {level}:\n",
    "            Original Stdev: {data.std()} m/s\n",
    "            Predicted MAE:  {mae(data, pred)} m/s\n",
    "            Predicted RMSE: {rmse(data, pred)} m/s\n",
    "        \"\"\")\n",
    "\n",
    "    def interpolate_from_fft(level):\n",
    "        nonlocal data_variance, mae_error, mse_error\n",
    "\n",
    "        lev0 = max(0, lev - lev % skip_levels - 2 * skip_levels)\n",
    "        lev1 = max(0, lev - lev % skip_levels - 1 * skip_levels)\n",
    "        lev2 = min(35, lev - lev % skip_levels + 1 * skip_levels)\n",
    "        lev3 = min(35, lev - lev % skip_levels + 2 * skip_levels)\n",
    "        t = (lev - lev1) / (lev2 - lev1)\n",
    "\n",
    "        for i in (lev0, lev1, lev2, lev3):\n",
    "            if i in predicted_window_levels:\n",
    "                predicted_window.append(predicted_window[predicted_window_levels.index(i)])\n",
    "                predicted_window_levels.append(i)\n",
    "\n",
    "                if len(predicted_window) > 4:\n",
    "                    predicted_window.pop(0)\n",
    "                    predicted_window_levels.pop(0)\n",
    "            else:\n",
    "                predict_from_fft(i)\n",
    "\n",
    "        data = load_variable_at_level(filename, variable, lev, cache=False).astype(\"float32\")\n",
    "        data_variance += data.var()\n",
    "\n",
    "        pred = catmull_rom_interpolate(predicted_window, 1, t)\n",
    "\n",
    "        mae_error += abs(data - pred)\n",
    "        mse_error += (data - pred) ** 2\n",
    "\n",
    "        print(f\"\"\"\n",
    "        Level {level}:\n",
    "            Original Stdev: {data.std()} m/s\n",
    "            Predicted MAE:  {mae(data, pred)} m/s\n",
    "            Predicted RMSE: {rmse(data, pred)} m/s\n",
    "        \"\"\")\n",
    "\n",
    "    for lev in tqdm(range(36)):\n",
    "        if lev in predicted_levels:\n",
    "            continue\n",
    "        predicted_levels.add(lev)\n",
    "\n",
    "        if lev % skip_levels == 0 or lev == 35:\n",
    "            predict_from_fft(lev)\n",
    "            continue\n",
    "\n",
    "        interpolate_from_fft(lev)\n",
    "\n",
    "\n",
    "    lines = f\"\"\"\n",
    "    Original Stdev: {(data_variance / 36) ** 0.5} m/s\n",
    "    Predicted MAE:  {(mae_error / 36).mean()} m/s\n",
    "    Predicted RMSE: {(mse_error / 36).mean() ** 0.5} m/s\n",
    "    \"\"\"\n",
    "    print(lines)\n",
    "\n",
    "\n",
    "test_fit_dft3(\"MERRA2.tavg3_3d_asm_Nv.YAVG{:0>2}{:0>2}.nc4\", \"U\", quantile=0.9935, skip_levels=3)\n"
   ],
   "metadata": {
    "collapsed": false
   }
  },
  {
   "cell_type": "code",
   "execution_count": 14,
   "outputs": [],
   "source": [
    "data = load_variable_at_level(\"MERRA2.tavg3_3d_asm_Nv.YAVG0101.nc4\", \"U\", 0, cache=False, folder=\"raw\")\n"
   ],
   "metadata": {
    "collapsed": false
   }
  }
 ],
 "metadata": {
  "kernelspec": {
   "display_name": "Python 3",
   "language": "python",
   "name": "python3"
  },
  "language_info": {
   "codemirror_mode": {
    "name": "ipython",
    "version": 2
   },
   "file_extension": ".py",
   "mimetype": "text/x-python",
   "name": "python",
   "nbconvert_exporter": "python",
   "pygments_lexer": "ipython2",
   "version": "2.7.6"
  }
 },
 "nbformat": 4,
 "nbformat_minor": 0
}

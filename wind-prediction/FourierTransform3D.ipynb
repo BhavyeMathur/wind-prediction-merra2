{
 "cells": [
  {
   "cell_type": "code",
   "execution_count": 1,
   "metadata": {
    "collapsed": true
   },
   "outputs": [],
   "source": [
    "import pickle\n",
    "\n",
    "from plot import *\n",
    "from fft import *\n",
    "from maths import rmse, mae\n"
   ]
  },
  {
   "cell_type": "code",
   "execution_count": 2,
   "outputs": [],
   "source": [
    "def fit_dft3_at_level(filename: str, variable: str, level: int, **kwargs):\n",
    "    print(\"Loading data...\")\n",
    "    data = load_variable_at_level(filename, variable, level)\n",
    "\n",
    "    print(\"Performing DFT...\")\n",
    "    fft = dft3_at_level(data, level, **kwargs)\n",
    "\n",
    "    print(\"Saving DFT...\")\n",
    "    with open(f\"models/3D-dft/{get_year_from_filename(filename)}/{level}.bin\", \"wb\") as file:\n",
    "        pickle.dump(fft, file, protocol=pickle.HIGHEST_PROTOCOL)\n",
    "\n",
    "    print(\"Performing IDFT...\")\n",
    "    prediction = idft3_at_time_and_level(*fft)\n",
    "\n",
    "    data = data.astype(\"float32\")\n",
    "    print(f\"Original Stdev:  {data.std()} m/s\")\n",
    "    print(f\"Predicted RMSE: {rmse(data, prediction)} m/s\")\n",
    "    print(f\"Predicted MAE:  {mae(data, prediction)} m/s\")\n",
    "    print(f\"Frequencies: {len(fft[0])}\")\n",
    "    print(f\"Size/level: {sum(el.nbytes for el in fft if hasattr(el, 'nbytes')) / (1024 ** 2)} mB\")\n",
    "    print(f\"Size/year: {sum(el.nbytes for el in fft if hasattr(el, 'nbytes')) * 72 / (1024 ** 2)} mB\")\n"
   ],
   "metadata": {
    "collapsed": false
   }
  },
  {
   "cell_type": "code",
   "execution_count": 3,
   "outputs": [
    {
     "name": "stdout",
     "output_type": "stream",
     "text": [
      "Loading data...\n",
      "Frozen({'U': <xarray.Variable (time: 8, lev: 36, lat: 361, lon: 288)>\n",
      "[29942784 values with dtype=float32], 'V': <xarray.Variable (time: 8, lev: 36, lat: 361, lon: 288)>\n",
      "[29942784 values with dtype=float32]})\n",
      "Frozen({'V': <xarray.Variable (time: 8, lev: 36, lat: 361, lon: 288)>\n",
      "[29942784 values with dtype=float32]})\n"
     ]
    },
    {
     "ename": "KeyError",
     "evalue": "'U'",
     "output_type": "error",
     "traceback": [
      "\u001B[0;31m---------------------------------------------------------------------------\u001B[0m",
      "\u001B[0;31mKeyError\u001B[0m                                  Traceback (most recent call last)",
      "File \u001B[0;32m/Library/Frameworks/Python.framework/Versions/3.11/lib/python3.11/site-packages/xarray/core/dataset.py:1340\u001B[0m, in \u001B[0;36mDataset._construct_dataarray\u001B[0;34m(self, name)\u001B[0m\n\u001B[1;32m   1339\u001B[0m \u001B[38;5;28;01mtry\u001B[39;00m:\n\u001B[0;32m-> 1340\u001B[0m     variable \u001B[38;5;241m=\u001B[39m \u001B[38;5;28;43mself\u001B[39;49m\u001B[38;5;241;43m.\u001B[39;49m\u001B[43m_variables\u001B[49m\u001B[43m[\u001B[49m\u001B[43mname\u001B[49m\u001B[43m]\u001B[49m\n\u001B[1;32m   1341\u001B[0m \u001B[38;5;28;01mexcept\u001B[39;00m \u001B[38;5;167;01mKeyError\u001B[39;00m:\n",
      "\u001B[0;31mKeyError\u001B[0m: 'U'",
      "\nDuring handling of the above exception, another exception occurred:\n",
      "\u001B[0;31mKeyError\u001B[0m                                  Traceback (most recent call last)",
      "Cell \u001B[0;32mIn[3], line 1\u001B[0m\n\u001B[0;32m----> 1\u001B[0m \u001B[43mfit_dft3_at_level\u001B[49m\u001B[43m(\u001B[49m\u001B[38;5;124;43m\"\u001B[39;49m\u001B[38;5;124;43mMERRA2.tavg3_3d_asm_Nv.YAVG\u001B[39;49m\u001B[38;5;132;43;01m{:0>2}\u001B[39;49;00m\u001B[38;5;132;43;01m{:0>2}\u001B[39;49;00m\u001B[38;5;124;43m.nc4\u001B[39;49m\u001B[38;5;124;43m\"\u001B[39;49m\u001B[43m,\u001B[49m\u001B[43m \u001B[49m\u001B[38;5;124;43m\"\u001B[39;49m\u001B[38;5;124;43mU\u001B[39;49m\u001B[38;5;124;43m\"\u001B[39;49m\u001B[43m,\u001B[49m\n\u001B[1;32m      2\u001B[0m \u001B[43m                  \u001B[49m\u001B[43mlevel\u001B[49m\u001B[38;5;241;43m=\u001B[39;49m\u001B[38;5;241;43m35\u001B[39;49m\u001B[43m,\u001B[49m\u001B[43m \u001B[49m\u001B[43mquantile\u001B[49m\u001B[38;5;241;43m=\u001B[39;49m\u001B[38;5;241;43m0.994\u001B[39;49m\u001B[43m)\u001B[49m\n",
      "Cell \u001B[0;32mIn[2], line 3\u001B[0m, in \u001B[0;36mfit_dft3_at_level\u001B[0;34m(filename, variable, level, **kwargs)\u001B[0m\n\u001B[1;32m      1\u001B[0m \u001B[38;5;28;01mdef\u001B[39;00m \u001B[38;5;21mfit_dft3_at_level\u001B[39m(filename: \u001B[38;5;28mstr\u001B[39m, variable: \u001B[38;5;28mstr\u001B[39m, level: \u001B[38;5;28mint\u001B[39m, \u001B[38;5;241m*\u001B[39m\u001B[38;5;241m*\u001B[39mkwargs):\n\u001B[1;32m      2\u001B[0m     \u001B[38;5;28mprint\u001B[39m(\u001B[38;5;124m\"\u001B[39m\u001B[38;5;124mLoading data...\u001B[39m\u001B[38;5;124m\"\u001B[39m)\n\u001B[0;32m----> 3\u001B[0m     data \u001B[38;5;241m=\u001B[39m \u001B[43mload_variable_at_level\u001B[49m\u001B[43m(\u001B[49m\u001B[43mfilename\u001B[49m\u001B[43m,\u001B[49m\u001B[43m \u001B[49m\u001B[43mvariable\u001B[49m\u001B[43m,\u001B[49m\u001B[43m \u001B[49m\u001B[43mlevel\u001B[49m\u001B[43m)\u001B[49m\n\u001B[1;32m      5\u001B[0m     \u001B[38;5;28mprint\u001B[39m(\u001B[38;5;124m\"\u001B[39m\u001B[38;5;124mPerforming DFT...\u001B[39m\u001B[38;5;124m\"\u001B[39m)\n\u001B[1;32m      6\u001B[0m     fft \u001B[38;5;241m=\u001B[39m dft3_at_level(data, level, \u001B[38;5;241m*\u001B[39m\u001B[38;5;241m*\u001B[39mkwargs)\n",
      "File \u001B[0;32m~/Desktop/Projects/Spherindrical Fourier Transform/MERRA-2/wind-prediction/data_loading.py:114\u001B[0m, in \u001B[0;36mload_variable_at_level\u001B[0;34m(filename, variable, level, cache)\u001B[0m\n\u001B[1;32m    112\u001B[0m \u001B[38;5;28mprint\u001B[39m(dataset\u001B[38;5;241m.\u001B[39mvariables)\n\u001B[1;32m    113\u001B[0m \u001B[38;5;28;01mfor\u001B[39;00m t \u001B[38;5;129;01min\u001B[39;00m \u001B[38;5;28mrange\u001B[39m(\u001B[38;5;241m8\u001B[39m):\n\u001B[0;32m--> 114\u001B[0m     subdata \u001B[38;5;241m=\u001B[39m np\u001B[38;5;241m.\u001B[39marray(\u001B[43mdataset\u001B[49m\u001B[43m[\u001B[49m\u001B[43mvariable\u001B[49m\u001B[43m]\u001B[49m[t, level])\n\u001B[1;32m    115\u001B[0m     data[i] \u001B[38;5;241m=\u001B[39m subdata\u001B[38;5;241m.\u001B[39mview(\u001B[38;5;124m\"\u001B[39m\u001B[38;5;124mfloat16\u001B[39m\u001B[38;5;124m\"\u001B[39m)\u001B[38;5;241m.\u001B[39mastype(\u001B[38;5;124m\"\u001B[39m\u001B[38;5;124mfloat16\u001B[39m\u001B[38;5;124m\"\u001B[39m)\n\u001B[1;32m    116\u001B[0m     i \u001B[38;5;241m+\u001B[39m\u001B[38;5;241m=\u001B[39m \u001B[38;5;241m1\u001B[39m\n",
      "File \u001B[0;32m/Library/Frameworks/Python.framework/Versions/3.11/lib/python3.11/site-packages/xarray/core/dataset.py:1431\u001B[0m, in \u001B[0;36mDataset.__getitem__\u001B[0;34m(self, key)\u001B[0m\n\u001B[1;32m   1429\u001B[0m     \u001B[38;5;28;01mreturn\u001B[39;00m \u001B[38;5;28mself\u001B[39m\u001B[38;5;241m.\u001B[39misel(\u001B[38;5;241m*\u001B[39m\u001B[38;5;241m*\u001B[39mkey)\n\u001B[1;32m   1430\u001B[0m \u001B[38;5;28;01mif\u001B[39;00m utils\u001B[38;5;241m.\u001B[39mhashable(key):\n\u001B[0;32m-> 1431\u001B[0m     \u001B[38;5;28;01mreturn\u001B[39;00m \u001B[38;5;28;43mself\u001B[39;49m\u001B[38;5;241;43m.\u001B[39;49m\u001B[43m_construct_dataarray\u001B[49m\u001B[43m(\u001B[49m\u001B[43mkey\u001B[49m\u001B[43m)\u001B[49m\n\u001B[1;32m   1432\u001B[0m \u001B[38;5;28;01mif\u001B[39;00m utils\u001B[38;5;241m.\u001B[39miterable_of_hashable(key):\n\u001B[1;32m   1433\u001B[0m     \u001B[38;5;28;01mreturn\u001B[39;00m \u001B[38;5;28mself\u001B[39m\u001B[38;5;241m.\u001B[39m_copy_listed(key)\n",
      "File \u001B[0;32m/Library/Frameworks/Python.framework/Versions/3.11/lib/python3.11/site-packages/xarray/core/dataset.py:1342\u001B[0m, in \u001B[0;36mDataset._construct_dataarray\u001B[0;34m(self, name)\u001B[0m\n\u001B[1;32m   1340\u001B[0m     variable \u001B[38;5;241m=\u001B[39m \u001B[38;5;28mself\u001B[39m\u001B[38;5;241m.\u001B[39m_variables[name]\n\u001B[1;32m   1341\u001B[0m \u001B[38;5;28;01mexcept\u001B[39;00m \u001B[38;5;167;01mKeyError\u001B[39;00m:\n\u001B[0;32m-> 1342\u001B[0m     _, name, variable \u001B[38;5;241m=\u001B[39m \u001B[43m_get_virtual_variable\u001B[49m\u001B[43m(\u001B[49m\u001B[38;5;28;43mself\u001B[39;49m\u001B[38;5;241;43m.\u001B[39;49m\u001B[43m_variables\u001B[49m\u001B[43m,\u001B[49m\u001B[43m \u001B[49m\u001B[43mname\u001B[49m\u001B[43m,\u001B[49m\u001B[43m \u001B[49m\u001B[38;5;28;43mself\u001B[39;49m\u001B[38;5;241;43m.\u001B[39;49m\u001B[43mdims\u001B[49m\u001B[43m)\u001B[49m\n\u001B[1;32m   1344\u001B[0m needed_dims \u001B[38;5;241m=\u001B[39m \u001B[38;5;28mset\u001B[39m(variable\u001B[38;5;241m.\u001B[39mdims)\n\u001B[1;32m   1346\u001B[0m coords: \u001B[38;5;28mdict\u001B[39m[Hashable, Variable] \u001B[38;5;241m=\u001B[39m {}\n",
      "File \u001B[0;32m/Library/Frameworks/Python.framework/Versions/3.11/lib/python3.11/site-packages/xarray/core/dataset.py:178\u001B[0m, in \u001B[0;36m_get_virtual_variable\u001B[0;34m(variables, key, dim_sizes)\u001B[0m\n\u001B[1;32m    176\u001B[0m split_key \u001B[38;5;241m=\u001B[39m key\u001B[38;5;241m.\u001B[39msplit(\u001B[38;5;124m\"\u001B[39m\u001B[38;5;124m.\u001B[39m\u001B[38;5;124m\"\u001B[39m, \u001B[38;5;241m1\u001B[39m)\n\u001B[1;32m    177\u001B[0m \u001B[38;5;28;01mif\u001B[39;00m \u001B[38;5;28mlen\u001B[39m(split_key) \u001B[38;5;241m!=\u001B[39m \u001B[38;5;241m2\u001B[39m:\n\u001B[0;32m--> 178\u001B[0m     \u001B[38;5;28;01mraise\u001B[39;00m \u001B[38;5;167;01mKeyError\u001B[39;00m(key)\n\u001B[1;32m    180\u001B[0m ref_name, var_name \u001B[38;5;241m=\u001B[39m split_key\n\u001B[1;32m    181\u001B[0m ref_var \u001B[38;5;241m=\u001B[39m variables[ref_name]\n",
      "\u001B[0;31mKeyError\u001B[0m: 'U'"
     ]
    }
   ],
   "source": [
    "fit_dft3_at_level(\"MERRA2.tavg3_3d_asm_Nv.YAVG{:0>2}{:0>2}.nc4\", \"U\",\n",
    "                  level=35, quantile=0.994)\n"
   ],
   "metadata": {
    "collapsed": false
   }
  }
 ],
 "metadata": {
  "kernelspec": {
   "display_name": "Python 3",
   "language": "python",
   "name": "python3"
  },
  "language_info": {
   "codemirror_mode": {
    "name": "ipython",
    "version": 2
   },
   "file_extension": ".py",
   "mimetype": "text/x-python",
   "name": "python",
   "nbconvert_exporter": "python",
   "pygments_lexer": "ipython2",
   "version": "2.7.6"
  }
 },
 "nbformat": 4,
 "nbformat_minor": 0
}

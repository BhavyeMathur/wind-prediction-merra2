{
 "cells": [
  {
   "cell_type": "code",
   "execution_count": 8,
   "metadata": {
    "collapsed": true
   },
   "outputs": [],
   "source": [
    "import pickle\n",
    "\n",
    "from plot import *\n",
    "from fft import *\n",
    "from maths import rmse, mae\n"
   ]
  },
  {
   "cell_type": "code",
   "execution_count": 43,
   "outputs": [],
   "source": [
    "DFT3_LEVEL_CACHE = {}\n",
    "\n",
    "\n",
    "def dft3_at_level(data: np.ndarray, level: int, quantile: float = 0.75):\n",
    "    if level in DFT3_LEVEL_CACHE:\n",
    "        fft, amplitudes = DFT3_LEVEL_CACHE[level]\n",
    "    else:\n",
    "        fft = np.fft.rfftn(data)\n",
    "        amplitudes = np.abs(fft)\n",
    "\n",
    "        DFT3_LEVEL_CACHE[level] = fft, amplitudes\n",
    "\n",
    "    fft_real = []\n",
    "    fft_imag = []\n",
    "    fft_i_indices = []\n",
    "    fft_j_indices = []\n",
    "    fft_k_indices = []\n",
    "\n",
    "    cutoff_amp = np.quantile(amplitudes, quantile)\n",
    "\n",
    "    print(\"Filtering frequencies...\")\n",
    "    for k in range(289):\n",
    "        for j in range(361):\n",
    "            for i in range(365 * 8):\n",
    "                if amplitudes[i, j, k] < cutoff_amp:\n",
    "                    continue\n",
    "\n",
    "                fft_real.append(fft[i, j, k].real)\n",
    "                fft_imag.append(fft[i, j, k].imag)\n",
    "                fft_i_indices.append(i)\n",
    "                fft_j_indices.append(j)\n",
    "                fft_k_indices.append(k)\n",
    "\n",
    "    print(\"Encoding DFT...\")\n",
    "    fft_real = (np.array(fft_real, dtype=\"float32\") / 32768).astype(\"float16\")\n",
    "    fft_real = encode_zlib(fft_real)\n",
    "\n",
    "    fft_imag = (np.array(fft_imag, dtype=\"float32\") / 32768).astype(\"float16\")\n",
    "    fft_imag = encode_zlib(fft_imag)\n",
    "\n",
    "    fft_i_indices = np.array(fft_i_indices, dtype=\"int16\")\n",
    "    fft_i_indices = encode_difference_uint8(fft_i_indices)\n",
    "    fft_i_indices = encode_zlib(fft_i_indices)\n",
    "\n",
    "    fft_j_indices = np.array(fft_j_indices, dtype=\"int16\")\n",
    "    fft_j_indices = encode_difference_uint8(fft_j_indices)\n",
    "    fft_j_indices = encode_zlib(fft_j_indices)\n",
    "\n",
    "    fft_k_indices = np.array(fft_k_indices, dtype=\"int16\")\n",
    "    fft_k_indices = encode_difference_uint8(fft_k_indices)\n",
    "    fft_k_indices = encode_zlib(fft_k_indices)\n",
    "\n",
    "    return fft_real, fft_imag, fft_i_indices, fft_j_indices, fft_k_indices\n",
    "\n",
    "\n",
    "def idft3_at_level(fft_real, fft_imag, fft_i_indices, fft_j_indices, fft_k_indices):\n",
    "    ifft = np.zeros((365 * 8, 361, 289), dtype=\"complex64\")\n",
    "\n",
    "    print(\"Decoding DFT...\")\n",
    "    fft_real = decode_zlib(fft_real, dtype=\"float16\")\n",
    "    fft_imag = decode_zlib(fft_imag, dtype=\"float16\")\n",
    "    fft = fft_real.astype(\"complex64\") * 32768 + fft_imag.astype(\"complex64\") * 32768j\n",
    "\n",
    "    fft_i_indices = decode_zlib(fft_i_indices)\n",
    "    fft_i_indices = decode_difference_uint8(fft_i_indices)\n",
    "\n",
    "    fft_j_indices = decode_zlib(fft_j_indices)\n",
    "    fft_j_indices = decode_difference_uint8(fft_j_indices)\n",
    "\n",
    "    fft_k_indices = decode_zlib(fft_k_indices)\n",
    "    fft_k_indices = decode_difference_uint8(fft_k_indices)\n",
    "\n",
    "    print(\"Building IDFT...\")\n",
    "    for idx in range(len(fft)):\n",
    "        ifft[fft_i_indices[idx], fft_j_indices[idx], fft_k_indices[idx]] = fft[idx]\n",
    "\n",
    "    return np.fft.irfftn(ifft)"
   ],
   "metadata": {
    "collapsed": false
   }
  },
  {
   "cell_type": "code",
   "execution_count": 41,
   "outputs": [],
   "source": [
    "def fit_dft3_at_level(filename: str, variable: str, level: int, **kwargs):\n",
    "    output = f\"models/3D-dft/{get_year_from_filename(filename)}/{variable}-{level}-{kwargs['quantile']}.bin\"\n",
    "\n",
    "    print(\"Loading data...\")\n",
    "    data = load_variable_at_level(filename, variable, level)\n",
    "\n",
    "    if os.path.exists(output):\n",
    "        print(\"Loading DFT...\")\n",
    "        with open(output, \"rb\") as file:\n",
    "            fft = pickle.load(file)\n",
    "\n",
    "    else:\n",
    "        print(\"Performing DFT...\")\n",
    "        fft = dft3_at_level(data, level, **kwargs)\n",
    "\n",
    "        print(\"Saving DFT...\")\n",
    "        with open(output, \"wb\") as file:\n",
    "            pickle.dump(fft, file, protocol=pickle.HIGHEST_PROTOCOL)\n",
    "\n",
    "    print(\"Performing IDFT...\")\n",
    "    prediction = idft3_at_level(*fft)\n",
    "\n",
    "    data = data.astype(\"float32\")\n",
    "    size = sum(el.nbytes for el in fft)\n",
    "    lines = f\"\"\"\n",
    "    Original Stdev: {data.std()} m/s\n",
    "    Predicted MAE:  {mae(data, prediction)} m/s\n",
    "    Predicted RMSE: {rmse(data, prediction)} m/s\n",
    "\n",
    "    Size/level: {size / (1000 ** 2)} MB\n",
    "    Size/year: {size * 36 / (1000 ** 2)} MB\n",
    "    \"\"\"\n",
    "    print(lines)\n"
   ],
   "metadata": {
    "collapsed": false
   }
  },
  {
   "cell_type": "code",
   "execution_count": 44,
   "outputs": [
    {
     "name": "stdout",
     "output_type": "stream",
     "text": [
      "Loading data...\n",
      "Performing DFT...\n",
      "Filtering frequencies...\n",
      "Encoding DFT...\n",
      "Saving DFT...\n",
      "Performing IDFT...\n",
      "Decoding DFT...\n",
      "Building IDFT...\n"
     ]
    },
    {
     "ename": "KeyboardInterrupt",
     "evalue": "",
     "output_type": "error",
     "traceback": [
      "\u001B[0;31m---------------------------------------------------------------------------\u001B[0m",
      "\u001B[0;31mKeyboardInterrupt\u001B[0m                         Traceback (most recent call last)",
      "Cell \u001B[0;32mIn[44], line 1\u001B[0m\n\u001B[0;32m----> 1\u001B[0m \u001B[43mfit_dft3_at_level\u001B[49m\u001B[43m(\u001B[49m\u001B[38;5;124;43m\"\u001B[39;49m\u001B[38;5;124;43mMERRA2.tavg3_3d_asm_Nv.YAVG\u001B[39;49m\u001B[38;5;132;43;01m{:0>2}\u001B[39;49;00m\u001B[38;5;132;43;01m{:0>2}\u001B[39;49;00m\u001B[38;5;124;43m.nc4\u001B[39;49m\u001B[38;5;124;43m\"\u001B[39;49m\u001B[43m,\u001B[49m\u001B[43m \u001B[49m\u001B[38;5;124;43m\"\u001B[39;49m\u001B[38;5;124;43mU\u001B[39;49m\u001B[38;5;124;43m\"\u001B[39;49m\u001B[43m,\u001B[49m\n\u001B[1;32m      2\u001B[0m \u001B[43m                  \u001B[49m\u001B[43mlevel\u001B[49m\u001B[38;5;241;43m=\u001B[39;49m\u001B[38;5;241;43m35\u001B[39;49m\u001B[43m,\u001B[49m\u001B[43m \u001B[49m\u001B[43mquantile\u001B[49m\u001B[38;5;241;43m=\u001B[39;49m\u001B[38;5;241;43m0.9935\u001B[39;49m\u001B[43m)\u001B[49m\n",
      "Cell \u001B[0;32mIn[41], line 21\u001B[0m, in \u001B[0;36mfit_dft3_at_level\u001B[0;34m(filename, variable, level, **kwargs)\u001B[0m\n\u001B[1;32m     18\u001B[0m         pickle\u001B[38;5;241m.\u001B[39mdump(fft, file, protocol\u001B[38;5;241m=\u001B[39mpickle\u001B[38;5;241m.\u001B[39mHIGHEST_PROTOCOL)\n\u001B[1;32m     20\u001B[0m \u001B[38;5;28mprint\u001B[39m(\u001B[38;5;124m\"\u001B[39m\u001B[38;5;124mPerforming IDFT...\u001B[39m\u001B[38;5;124m\"\u001B[39m)\n\u001B[0;32m---> 21\u001B[0m prediction \u001B[38;5;241m=\u001B[39m \u001B[43midft3_at_level\u001B[49m\u001B[43m(\u001B[49m\u001B[38;5;241;43m*\u001B[39;49m\u001B[43mfft\u001B[49m\u001B[43m)\u001B[49m\n\u001B[1;32m     23\u001B[0m data \u001B[38;5;241m=\u001B[39m data\u001B[38;5;241m.\u001B[39mastype(\u001B[38;5;124m\"\u001B[39m\u001B[38;5;124mfloat32\u001B[39m\u001B[38;5;124m\"\u001B[39m)\n\u001B[1;32m     24\u001B[0m size \u001B[38;5;241m=\u001B[39m \u001B[38;5;28msum\u001B[39m(el\u001B[38;5;241m.\u001B[39mnbytes \u001B[38;5;28;01mfor\u001B[39;00m el \u001B[38;5;129;01min\u001B[39;00m fft)\n",
      "Cell \u001B[0;32mIn[43], line 77\u001B[0m, in \u001B[0;36midft3_at_level\u001B[0;34m(fft_real, fft_imag, fft_i_indices, fft_j_indices, fft_k_indices)\u001B[0m\n\u001B[1;32m     74\u001B[0m \u001B[38;5;28;01mfor\u001B[39;00m idx \u001B[38;5;129;01min\u001B[39;00m \u001B[38;5;28mrange\u001B[39m(\u001B[38;5;28mlen\u001B[39m(fft)):\n\u001B[1;32m     75\u001B[0m     ifft[fft_i_indices[idx], fft_j_indices[idx], fft_k_indices[idx]] \u001B[38;5;241m=\u001B[39m fft[idx]\n\u001B[0;32m---> 77\u001B[0m \u001B[38;5;28;01mreturn\u001B[39;00m \u001B[43mnp\u001B[49m\u001B[38;5;241;43m.\u001B[39;49m\u001B[43mfft\u001B[49m\u001B[38;5;241;43m.\u001B[39;49m\u001B[43mirfftn\u001B[49m\u001B[43m(\u001B[49m\u001B[43mifft\u001B[49m\u001B[43m)\u001B[49m\n",
      "File \u001B[0;32m<__array_function__ internals>:200\u001B[0m, in \u001B[0;36mirfftn\u001B[0;34m(*args, **kwargs)\u001B[0m\n",
      "File \u001B[0;32m~/Desktop/Projects/Spherindrical Fourier Transform/MERRA-2/venv/lib/python3.11/site-packages/numpy/fft/_pocketfft.py:1365\u001B[0m, in \u001B[0;36mirfftn\u001B[0;34m(a, s, axes, norm)\u001B[0m\n\u001B[1;32m   1363\u001B[0m s, axes \u001B[38;5;241m=\u001B[39m _cook_nd_args(a, s, axes, invreal\u001B[38;5;241m=\u001B[39m\u001B[38;5;241m1\u001B[39m)\n\u001B[1;32m   1364\u001B[0m \u001B[38;5;28;01mfor\u001B[39;00m ii \u001B[38;5;129;01min\u001B[39;00m \u001B[38;5;28mrange\u001B[39m(\u001B[38;5;28mlen\u001B[39m(axes)\u001B[38;5;241m-\u001B[39m\u001B[38;5;241m1\u001B[39m):\n\u001B[0;32m-> 1365\u001B[0m     a \u001B[38;5;241m=\u001B[39m \u001B[43mifft\u001B[49m\u001B[43m(\u001B[49m\u001B[43ma\u001B[49m\u001B[43m,\u001B[49m\u001B[43m \u001B[49m\u001B[43ms\u001B[49m\u001B[43m[\u001B[49m\u001B[43mii\u001B[49m\u001B[43m]\u001B[49m\u001B[43m,\u001B[49m\u001B[43m \u001B[49m\u001B[43maxes\u001B[49m\u001B[43m[\u001B[49m\u001B[43mii\u001B[49m\u001B[43m]\u001B[49m\u001B[43m,\u001B[49m\u001B[43m \u001B[49m\u001B[43mnorm\u001B[49m\u001B[43m)\u001B[49m\n\u001B[1;32m   1366\u001B[0m a \u001B[38;5;241m=\u001B[39m irfft(a, s[\u001B[38;5;241m-\u001B[39m\u001B[38;5;241m1\u001B[39m], axes[\u001B[38;5;241m-\u001B[39m\u001B[38;5;241m1\u001B[39m], norm)\n\u001B[1;32m   1367\u001B[0m \u001B[38;5;28;01mreturn\u001B[39;00m a\n",
      "File \u001B[0;32m<__array_function__ internals>:200\u001B[0m, in \u001B[0;36mifft\u001B[0;34m(*args, **kwargs)\u001B[0m\n",
      "File \u001B[0;32m~/Desktop/Projects/Spherindrical Fourier Transform/MERRA-2/venv/lib/python3.11/site-packages/numpy/fft/_pocketfft.py:316\u001B[0m, in \u001B[0;36mifft\u001B[0;34m(a, n, axis, norm)\u001B[0m\n\u001B[1;32m    314\u001B[0m     n \u001B[38;5;241m=\u001B[39m a\u001B[38;5;241m.\u001B[39mshape[axis]\n\u001B[1;32m    315\u001B[0m inv_norm \u001B[38;5;241m=\u001B[39m _get_backward_norm(n, norm)\n\u001B[0;32m--> 316\u001B[0m output \u001B[38;5;241m=\u001B[39m \u001B[43m_raw_fft\u001B[49m\u001B[43m(\u001B[49m\u001B[43ma\u001B[49m\u001B[43m,\u001B[49m\u001B[43m \u001B[49m\u001B[43mn\u001B[49m\u001B[43m,\u001B[49m\u001B[43m \u001B[49m\u001B[43maxis\u001B[49m\u001B[43m,\u001B[49m\u001B[43m \u001B[49m\u001B[38;5;28;43;01mFalse\u001B[39;49;00m\u001B[43m,\u001B[49m\u001B[43m \u001B[49m\u001B[38;5;28;43;01mFalse\u001B[39;49;00m\u001B[43m,\u001B[49m\u001B[43m \u001B[49m\u001B[43minv_norm\u001B[49m\u001B[43m)\u001B[49m\n\u001B[1;32m    317\u001B[0m \u001B[38;5;28;01mreturn\u001B[39;00m output\n",
      "File \u001B[0;32m~/Desktop/Projects/Spherindrical Fourier Transform/MERRA-2/venv/lib/python3.11/site-packages/numpy/fft/_pocketfft.py:73\u001B[0m, in \u001B[0;36m_raw_fft\u001B[0;34m(a, n, axis, is_real, is_forward, inv_norm)\u001B[0m\n\u001B[1;32m     71\u001B[0m \u001B[38;5;28;01melse\u001B[39;00m:\n\u001B[1;32m     72\u001B[0m     a \u001B[38;5;241m=\u001B[39m swapaxes(a, axis, \u001B[38;5;241m-\u001B[39m\u001B[38;5;241m1\u001B[39m)\n\u001B[0;32m---> 73\u001B[0m     r \u001B[38;5;241m=\u001B[39m \u001B[43mpfi\u001B[49m\u001B[38;5;241;43m.\u001B[39;49m\u001B[43mexecute\u001B[49m\u001B[43m(\u001B[49m\u001B[43ma\u001B[49m\u001B[43m,\u001B[49m\u001B[43m \u001B[49m\u001B[43mis_real\u001B[49m\u001B[43m,\u001B[49m\u001B[43m \u001B[49m\u001B[43mis_forward\u001B[49m\u001B[43m,\u001B[49m\u001B[43m \u001B[49m\u001B[43mfct\u001B[49m\u001B[43m)\u001B[49m\n\u001B[1;32m     74\u001B[0m     r \u001B[38;5;241m=\u001B[39m swapaxes(r, axis, \u001B[38;5;241m-\u001B[39m\u001B[38;5;241m1\u001B[39m)\n\u001B[1;32m     75\u001B[0m \u001B[38;5;28;01mreturn\u001B[39;00m r\n",
      "\u001B[0;31mKeyboardInterrupt\u001B[0m: "
     ]
    }
   ],
   "source": [
    "fit_dft3_at_level(\"MERRA2.tavg3_3d_asm_Nv.YAVG{:0>2}{:0>2}.nc4\", \"U\",\n",
    "                  level=35, quantile=0.9935)\n"
   ],
   "metadata": {
    "collapsed": false
   }
  }
 ],
 "metadata": {
  "kernelspec": {
   "display_name": "Python 3",
   "language": "python",
   "name": "python3"
  },
  "language_info": {
   "codemirror_mode": {
    "name": "ipython",
    "version": 2
   },
   "file_extension": ".py",
   "mimetype": "text/x-python",
   "name": "python",
   "nbconvert_exporter": "python",
   "pygments_lexer": "ipython2",
   "version": "2.7.6"
  }
 },
 "nbformat": 4,
 "nbformat_minor": 0
}

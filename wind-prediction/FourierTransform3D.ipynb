{
 "cells": [
  {
   "cell_type": "code",
   "execution_count": 2,
   "metadata": {
    "collapsed": true
   },
   "outputs": [],
   "source": [
    "import pickle\n",
    "\n",
    "from plot import *\n",
    "from fft import *\n",
    "from util import log\n",
    "from maths import rmse, mse, mae, linear_interpolate\n"
   ]
  },
  {
   "cell_type": "code",
   "execution_count": 3,
   "outputs": [],
   "source": [
    "DFT3_LEVEL_CACHE = {}\n",
    "\n",
    "\n",
    "def dft3_at_level(data: np.ndarray, level: int, quantile: float = 0.75):\n",
    "    if level in DFT3_LEVEL_CACHE:\n",
    "        fft, amplitudes = DFT3_LEVEL_CACHE[level]\n",
    "    else:\n",
    "        fft = np.fft.rfftn(data)\n",
    "        amplitudes = np.abs(fft)\n",
    "\n",
    "        DFT3_LEVEL_CACHE[level] = fft, amplitudes\n",
    "\n",
    "    fft_real = []\n",
    "    fft_imag = []\n",
    "    fft_i_indices = []\n",
    "    fft_j_indices = []\n",
    "    fft_k_indices = []\n",
    "\n",
    "    cutoff_amp = np.quantile(amplitudes, quantile)\n",
    "\n",
    "    for k in range(289):\n",
    "        for j in range(361):\n",
    "            for i in range(365 * 8):\n",
    "                if amplitudes[i, j, k] < cutoff_amp:\n",
    "                    continue\n",
    "\n",
    "                fft_real.append(fft[i, j, k].real)\n",
    "                fft_imag.append(fft[i, j, k].imag)\n",
    "                fft_i_indices.append(i)\n",
    "                fft_j_indices.append(j)\n",
    "                fft_k_indices.append(k)\n",
    "\n",
    "    fft_real = (np.array(fft_real, dtype=\"float32\") / 262144).astype(\"float16\")\n",
    "    fft_real = encode_zlib(fft_real)\n",
    "\n",
    "    fft_imag = (np.array(fft_imag, dtype=\"float32\") / 262144).astype(\"float16\")\n",
    "    fft_imag = encode_zlib(fft_imag)\n",
    "\n",
    "    fft_i_indices = np.array(fft_i_indices, dtype=\"int16\")\n",
    "    fft_i_indices = encode_difference_uint8(fft_i_indices)\n",
    "    fft_i_indices = encode_zlib(fft_i_indices)\n",
    "\n",
    "    fft_j_indices = np.array(fft_j_indices, dtype=\"int16\")\n",
    "    fft_j_indices = encode_difference_uint8(fft_j_indices)\n",
    "    fft_j_indices = encode_zlib(fft_j_indices)\n",
    "\n",
    "    fft_k_indices = np.array(fft_k_indices, dtype=\"int16\")\n",
    "    fft_k_indices = encode_difference_uint8(fft_k_indices)\n",
    "    fft_k_indices = encode_zlib(fft_k_indices)\n",
    "\n",
    "    return fft_real, fft_imag, fft_i_indices, fft_j_indices, fft_k_indices\n",
    "\n",
    "\n",
    "def idft3_at_level(fft_real, fft_imag, fft_i_indices, fft_j_indices, fft_k_indices):\n",
    "    ifft = np.zeros((365 * 8, 361, 289), dtype=\"complex64\")\n",
    "\n",
    "    fft_real = decode_zlib(fft_real, dtype=\"float16\")\n",
    "    fft_imag = decode_zlib(fft_imag, dtype=\"float16\")\n",
    "    fft = fft_real.astype(\"complex64\") * 262144 + fft_imag.astype(\"complex64\") * 262144j\n",
    "\n",
    "    fft_i_indices = decode_zlib(fft_i_indices)\n",
    "    fft_i_indices = decode_difference_uint8(fft_i_indices)\n",
    "\n",
    "    fft_j_indices = decode_zlib(fft_j_indices)\n",
    "    fft_j_indices = decode_difference_uint8(fft_j_indices)\n",
    "\n",
    "    fft_k_indices = decode_zlib(fft_k_indices)\n",
    "    fft_k_indices = decode_difference_uint8(fft_k_indices)\n",
    "\n",
    "    for idx in range(len(fft)):\n",
    "        ifft[fft_i_indices[idx], fft_j_indices[idx], fft_k_indices[idx]] = fft[idx]\n",
    "\n",
    "    return np.fft.irfftn(ifft)"
   ],
   "metadata": {
    "collapsed": false
   }
  },
  {
   "cell_type": "code",
   "execution_count": 4,
   "outputs": [],
   "source": [
    "def fit_dft3_at_level(filename: str, variable: str, level: int, verbose: bool = True, **kwargs):\n",
    "    output = f\"models/3D-dft/{get_year_from_filename(filename)}/{variable}-{level}-{kwargs['quantile']}.bin\"\n",
    "\n",
    "    if os.path.exists(output):\n",
    "        with open(output, \"rb\") as file:\n",
    "            fft = pickle.load(file)\n",
    "        if verbose:\n",
    "            print(\"Loading data...\")\n",
    "            data = load_variable_at_level(filename, variable, level, cache=verbose)\n",
    "    else:\n",
    "        if verbose:\n",
    "            print(\"Loading data...\")\n",
    "\n",
    "        data = load_variable_at_level(filename, variable, level, cache=verbose)\n",
    "        if verbose:\n",
    "            print(\"Performing DFT...\")\n",
    "\n",
    "        fft = dft3_at_level(data, level, **kwargs)\n",
    "        with open(output, \"wb\") as file:\n",
    "            pickle.dump(fft, file, protocol=pickle.HIGHEST_PROTOCOL)\n",
    "\n",
    "    if verbose:\n",
    "        data = data.astype(\"float32\")\n",
    "\n",
    "        print(\"Performing IDFT...\")\n",
    "        prediction = idft3_at_level(*fft)\n",
    "\n",
    "        size = sum(el.nbytes for el in fft)\n",
    "        lines = f\"\"\"\n",
    "        Original Stdev: {data.std()} m/s\n",
    "        Predicted MAE:  {mae(data, prediction)} m/s\n",
    "        Predicted RMSE: {rmse(data, prediction)} m/s\n",
    "\n",
    "        Size/level: {size / (1000 ** 2)} MB\n",
    "        Size/year: {size * 36 / (1000 ** 2)} MB\n",
    "        \"\"\"\n",
    "        print(lines)\n",
    "\n",
    "\n",
    "def fit_dft3(filename: str, variable: str, skip_levels: int, **kwargs):\n",
    "    levels = sorted(set(range(0, 36, skip_levels)).union({35}))\n",
    "    for lev in tqdm(levels):\n",
    "        print(lev)\n",
    "        fit_dft3_at_level(filename, variable, lev, verbose=False, **kwargs)\n",
    "        DFT3_LEVEL_CACHE.clear()"
   ],
   "metadata": {
    "collapsed": false
   }
  },
  {
   "cell_type": "code",
   "execution_count": null,
   "outputs": [],
   "source": [
    "fit_dft3(\"MERRA2.tavg3_3d_asm_Nv.YAVG{:0>2}{:0>2}.nc4\", \"U\", quantile=0.9935, skip_levels=2)\n"
   ],
   "metadata": {
    "collapsed": false,
    "pycharm": {
     "is_executing": true
    }
   }
  },
  {
   "cell_type": "code",
   "execution_count": 5,
   "outputs": [
    {
     "data": {
      "text/plain": "  0%|          | 0/36 [00:00<?, ?it/s]",
      "application/vnd.jupyter.widget-view+json": {
       "version_major": 2,
       "version_minor": 0,
       "model_id": "dfbd8107953a4a5ea4424529d15bab49"
      }
     },
     "metadata": {},
     "output_type": "display_data"
    },
    {
     "data": {
      "text/plain": "  0%|          | 0/12 [00:00<?, ?it/s]",
      "application/vnd.jupyter.widget-view+json": {
       "version_major": 2,
       "version_minor": 0,
       "model_id": "6c079ec4a4c345dbb57ddcf92d8ae61f"
      }
     },
     "metadata": {},
     "output_type": "display_data"
    },
    {
     "name": "stdout",
     "output_type": "stream",
     "text": [
      "[11:58:55] LOG: Loading DFT\n",
      "[11:58:55] LOG: Performing IDFT\n",
      "[11:59:22] LOG: Calculating Error\n",
      "\n",
      "        Level 0:\n",
      "            Original Stdev: 11.38197934172047 m/s\n",
      "            Predicted MAE:  0.09965647515987254 m/s\n",
      "            Predicted RMSE: 0.1341450619757956 m/s\n",
      "        \n"
     ]
    },
    {
     "data": {
      "text/plain": "  0%|          | 0/12 [00:00<?, ?it/s]",
      "application/vnd.jupyter.widget-view+json": {
       "version_major": 2,
       "version_minor": 0,
       "model_id": "6a9f8ec07e554b0ba5bb96fc785fc5b5"
      }
     },
     "metadata": {},
     "output_type": "display_data"
    },
    {
     "name": "stdout",
     "output_type": "stream",
     "text": [
      "[12:00:01] LOG: Loading DFT\n",
      "[12:00:01] LOG: Performing IDFT\n",
      "[12:00:28] LOG: Calculating Error\n",
      "\n",
      "        Level 3:\n",
      "            Original Stdev: 12.885986973387809 m/s\n",
      "            Predicted MAE:  0.15934444036320133 m/s\n",
      "            Predicted RMSE: 0.21936457957497246 m/s\n",
      "        \n",
      "[0, 3]\n"
     ]
    },
    {
     "data": {
      "text/plain": "  0%|          | 0/12 [00:00<?, ?it/s]",
      "application/vnd.jupyter.widget-view+json": {
       "version_major": 2,
       "version_minor": 0,
       "model_id": "9bb1c1257cfb464d9f7f4cfbcb444709"
      }
     },
     "metadata": {},
     "output_type": "display_data"
    },
    {
     "name": "stdout",
     "output_type": "stream",
     "text": [
      "[12:01:06] LOG: Interpolating DFT\n",
      "[12:01:08] LOG: Calculating Error\n",
      "[12:01:11] LOG: \n",
      "        Level 1:\n",
      "            Original Stdev: 11.579793338809257 m/s\n",
      "            Predicted MAE:  0.571019988823665 m/s\n",
      "            Predicted RMSE: 1.0191353409542854 m/s\n",
      "        \n",
      "[0, 3]\n"
     ]
    },
    {
     "data": {
      "text/plain": "  0%|          | 0/12 [00:00<?, ?it/s]",
      "application/vnd.jupyter.widget-view+json": {
       "version_major": 2,
       "version_minor": 0,
       "model_id": "4ee5e22ab0b04a92b068b9d212143809"
      }
     },
     "metadata": {},
     "output_type": "display_data"
    },
    {
     "name": "stdout",
     "output_type": "stream",
     "text": [
      "[12:01:46] LOG: Interpolating DFT\n",
      "[12:01:47] LOG: Calculating Error\n",
      "[12:01:50] LOG: \n",
      "        Level 2:\n",
      "            Original Stdev: 12.186177186825692 m/s\n",
      "            Predicted MAE:  0.6394137820287646 m/s\n",
      "            Predicted RMSE: 1.1452951518171026 m/s\n",
      "        \n"
     ]
    },
    {
     "data": {
      "text/plain": "  0%|          | 0/12 [00:00<?, ?it/s]",
      "application/vnd.jupyter.widget-view+json": {
       "version_major": 2,
       "version_minor": 0,
       "model_id": "792222bc6c844dcc800c1235c5f30c2a"
      }
     },
     "metadata": {},
     "output_type": "display_data"
    },
    {
     "name": "stdout",
     "output_type": "stream",
     "text": [
      "[12:02:25] LOG: Loading DFT\n",
      "[12:02:25] LOG: Performing IDFT\n",
      "[12:02:52] LOG: Calculating Error\n",
      "\n",
      "        Level 6:\n",
      "            Original Stdev: 13.372077979223045 m/s\n",
      "            Predicted MAE:  0.25617333927588615 m/s\n",
      "            Predicted RMSE: 0.3374529362853957 m/s\n",
      "        \n",
      "[3, 6]\n"
     ]
    },
    {
     "data": {
      "text/plain": "  0%|          | 0/12 [00:00<?, ?it/s]",
      "application/vnd.jupyter.widget-view+json": {
       "version_major": 2,
       "version_minor": 0,
       "model_id": "c3080e9b1825497d840e25b919ca0cde"
      }
     },
     "metadata": {},
     "output_type": "display_data"
    },
    {
     "name": "stdout",
     "output_type": "stream",
     "text": [
      "[12:03:29] LOG: Interpolating DFT\n",
      "[12:03:31] LOG: Calculating Error\n",
      "[12:03:34] LOG: \n",
      "        Level 4:\n",
      "            Original Stdev: 13.456200650164964 m/s\n",
      "            Predicted MAE:  0.9342818968548541 m/s\n",
      "            Predicted RMSE: 1.362134670256098 m/s\n",
      "        \n",
      "[3, 6]\n"
     ]
    },
    {
     "data": {
      "text/plain": "  0%|          | 0/12 [00:00<?, ?it/s]",
      "application/vnd.jupyter.widget-view+json": {
       "version_major": 2,
       "version_minor": 0,
       "model_id": "a560d22b32f24e19a42277dae45b5e24"
      }
     },
     "metadata": {},
     "output_type": "display_data"
    },
    {
     "name": "stdout",
     "output_type": "stream",
     "text": [
      "[12:04:08] LOG: Interpolating DFT\n",
      "[12:04:09] LOG: Calculating Error\n",
      "[12:04:12] LOG: \n",
      "        Level 5:\n",
      "            Original Stdev: 13.71315865199713 m/s\n",
      "            Predicted MAE:  0.973156760573604 m/s\n",
      "            Predicted RMSE: 1.402196353270533 m/s\n",
      "        \n"
     ]
    },
    {
     "data": {
      "text/plain": "  0%|          | 0/12 [00:00<?, ?it/s]",
      "application/vnd.jupyter.widget-view+json": {
       "version_major": 2,
       "version_minor": 0,
       "model_id": "8ea2fa5f0ef94c5ba6be44a3f03f2331"
      }
     },
     "metadata": {},
     "output_type": "display_data"
    },
    {
     "name": "stdout",
     "output_type": "stream",
     "text": [
      "[12:04:46] LOG: Loading DFT\n",
      "[12:04:46] LOG: Performing IDFT\n",
      "[12:05:13] LOG: Calculating Error\n",
      "\n",
      "        Level 9:\n",
      "            Original Stdev: 10.406084305644072 m/s\n",
      "            Predicted MAE:  0.3136316277531956 m/s\n",
      "            Predicted RMSE: 0.4043871811373609 m/s\n",
      "        \n",
      "[6, 9]\n"
     ]
    },
    {
     "data": {
      "text/plain": "  0%|          | 0/12 [00:00<?, ?it/s]",
      "application/vnd.jupyter.widget-view+json": {
       "version_major": 2,
       "version_minor": 0,
       "model_id": "2fac9a6ce87447ec8fdf1022e1633ad4"
      }
     },
     "metadata": {},
     "output_type": "display_data"
    },
    {
     "name": "stdout",
     "output_type": "stream",
     "text": [
      "[12:05:50] LOG: Interpolating DFT\n",
      "[12:05:51] LOG: Calculating Error\n",
      "[12:05:54] LOG: \n",
      "        Level 7:\n",
      "            Original Stdev: 12.477996992127657 m/s\n",
      "            Predicted MAE:  0.6744009841083345 m/s\n",
      "            Predicted RMSE: 0.8899932087790168 m/s\n",
      "        \n",
      "[6, 9]\n"
     ]
    },
    {
     "data": {
      "text/plain": "  0%|          | 0/12 [00:00<?, ?it/s]",
      "application/vnd.jupyter.widget-view+json": {
       "version_major": 2,
       "version_minor": 0,
       "model_id": "2396fec6c05e4d35b3e4498796c71a33"
      }
     },
     "metadata": {},
     "output_type": "display_data"
    },
    {
     "name": "stdout",
     "output_type": "stream",
     "text": [
      "[12:06:28] LOG: Interpolating DFT\n",
      "[12:06:29] LOG: Calculating Error\n",
      "[12:06:33] LOG: \n",
      "        Level 8:\n",
      "            Original Stdev: 11.344413800955282 m/s\n",
      "            Predicted MAE:  0.597549811248363 m/s\n",
      "            Predicted RMSE: 0.779012125926512 m/s\n",
      "        \n"
     ]
    },
    {
     "data": {
      "text/plain": "  0%|          | 0/12 [00:00<?, ?it/s]",
      "application/vnd.jupyter.widget-view+json": {
       "version_major": 2,
       "version_minor": 0,
       "model_id": "13f3c50459f646cc8f98decb8e55358a"
      }
     },
     "metadata": {},
     "output_type": "display_data"
    },
    {
     "name": "stdout",
     "output_type": "stream",
     "text": [
      "[12:07:09] LOG: Loading DFT\n",
      "[12:07:09] LOG: Performing IDFT\n",
      "[12:07:35] LOG: Calculating Error\n",
      "\n",
      "        Level 12:\n",
      "            Original Stdev: 8.645025033203028 m/s\n",
      "            Predicted MAE:  0.27199249215327037 m/s\n",
      "            Predicted RMSE: 0.3515439508835796 m/s\n",
      "        \n",
      "[9, 12]\n"
     ]
    },
    {
     "data": {
      "text/plain": "  0%|          | 0/12 [00:00<?, ?it/s]",
      "application/vnd.jupyter.widget-view+json": {
       "version_major": 2,
       "version_minor": 0,
       "model_id": "78f257b4d0fa4154a06b8cbb762e4402"
      }
     },
     "metadata": {},
     "output_type": "display_data"
    },
    {
     "name": "stdout",
     "output_type": "stream",
     "text": [
      "[12:08:12] LOG: Interpolating DFT\n",
      "[12:08:13] LOG: Calculating Error\n",
      "[12:08:16] LOG: \n",
      "        Level 10:\n",
      "            Original Stdev: 9.752047592735414 m/s\n",
      "            Predicted MAE:  0.413306482270061 m/s\n",
      "            Predicted RMSE: 0.5465748221602307 m/s\n",
      "        \n",
      "[9, 12]\n"
     ]
    },
    {
     "data": {
      "text/plain": "  0%|          | 0/12 [00:00<?, ?it/s]",
      "application/vnd.jupyter.widget-view+json": {
       "version_major": 2,
       "version_minor": 0,
       "model_id": "00d18b2b0df94c21ade68d3909868cb2"
      }
     },
     "metadata": {},
     "output_type": "display_data"
    },
    {
     "name": "stdout",
     "output_type": "stream",
     "text": [
      "[12:08:50] LOG: Interpolating DFT\n",
      "[12:08:51] LOG: Calculating Error\n",
      "[12:08:54] LOG: \n",
      "        Level 11:\n",
      "            Original Stdev: 9.171758127848864 m/s\n",
      "            Predicted MAE:  0.38795157129075075 m/s\n",
      "            Predicted RMSE: 0.5125898432878698 m/s\n",
      "        \n"
     ]
    },
    {
     "data": {
      "text/plain": "  0%|          | 0/12 [00:00<?, ?it/s]",
      "application/vnd.jupyter.widget-view+json": {
       "version_major": 2,
       "version_minor": 0,
       "model_id": "b7d4a9117ebe4e298001cf70eee9dafb"
      }
     },
     "metadata": {},
     "output_type": "display_data"
    },
    {
     "name": "stdout",
     "output_type": "stream",
     "text": [
      "[12:09:28] LOG: Loading DFT\n",
      "[12:09:28] LOG: Performing IDFT\n",
      "[12:09:55] LOG: Calculating Error\n",
      "\n",
      "        Level 15:\n",
      "            Original Stdev: 7.371538287304178 m/s\n",
      "            Predicted MAE:  0.23774022613858423 m/s\n",
      "            Predicted RMSE: 0.30766597819255903 m/s\n",
      "        \n",
      "[12, 15]\n"
     ]
    },
    {
     "data": {
      "text/plain": "  0%|          | 0/12 [00:00<?, ?it/s]",
      "application/vnd.jupyter.widget-view+json": {
       "version_major": 2,
       "version_minor": 0,
       "model_id": "e8ae07be7df249abb8b0aecf8bf92728"
      }
     },
     "metadata": {},
     "output_type": "display_data"
    },
    {
     "name": "stdout",
     "output_type": "stream",
     "text": [
      "[12:10:32] LOG: Interpolating DFT\n",
      "[12:10:33] LOG: Calculating Error\n",
      "[12:10:36] LOG: \n",
      "        Level 13:\n",
      "            Original Stdev: 8.166585753163284 m/s\n",
      "            Predicted MAE:  0.3166215711177805 m/s\n",
      "            Predicted RMSE: 0.4128982323556156 m/s\n",
      "        \n",
      "[12, 15]\n"
     ]
    },
    {
     "data": {
      "text/plain": "  0%|          | 0/12 [00:00<?, ?it/s]",
      "application/vnd.jupyter.widget-view+json": {
       "version_major": 2,
       "version_minor": 0,
       "model_id": "932e0145ff744c5dbacceb52728adf8f"
      }
     },
     "metadata": {},
     "output_type": "display_data"
    },
    {
     "name": "stdout",
     "output_type": "stream",
     "text": [
      "[12:11:10] LOG: Interpolating DFT\n",
      "[12:11:11] LOG: Calculating Error\n",
      "[12:11:14] LOG: \n",
      "        Level 14:\n",
      "            Original Stdev: 7.742530422526604 m/s\n",
      "            Predicted MAE:  0.30088803782990414 m/s\n",
      "            Predicted RMSE: 0.3924125346822039 m/s\n",
      "        \n"
     ]
    },
    {
     "data": {
      "text/plain": "  0%|          | 0/12 [00:00<?, ?it/s]",
      "application/vnd.jupyter.widget-view+json": {
       "version_major": 2,
       "version_minor": 0,
       "model_id": "4e1060767d234495911a85297bd00874"
      }
     },
     "metadata": {},
     "output_type": "display_data"
    },
    {
     "name": "stdout",
     "output_type": "stream",
     "text": [
      "[12:11:48] LOG: Loading DFT\n",
      "[12:11:48] LOG: Performing IDFT\n",
      "[12:12:15] LOG: Calculating Error\n",
      "\n",
      "        Level 18:\n",
      "            Original Stdev: 6.479860062206687 m/s\n",
      "            Predicted MAE:  0.21961458521849211 m/s\n",
      "            Predicted RMSE: 0.2849725771076872 m/s\n",
      "        \n",
      "[15, 18]\n"
     ]
    },
    {
     "data": {
      "text/plain": "  0%|          | 0/12 [00:00<?, ?it/s]",
      "application/vnd.jupyter.widget-view+json": {
       "version_major": 2,
       "version_minor": 0,
       "model_id": "c1f12a3cc5134a3db91b7896b6c414d5"
      }
     },
     "metadata": {},
     "output_type": "display_data"
    },
    {
     "name": "stdout",
     "output_type": "stream",
     "text": [
      "[12:14:15] LOG: Interpolating DFT\n",
      "[12:14:16] LOG: Calculating Error\n",
      "[12:14:19] LOG: \n",
      "        Level 16:\n",
      "            Original Stdev: 7.038211072431521 m/s\n",
      "            Predicted MAE:  0.27325914752591624 m/s\n",
      "            Predicted RMSE: 0.360472404848916 m/s\n",
      "        \n",
      "[15, 18]\n"
     ]
    },
    {
     "data": {
      "text/plain": "  0%|          | 0/12 [00:00<?, ?it/s]",
      "application/vnd.jupyter.widget-view+json": {
       "version_major": 2,
       "version_minor": 0,
       "model_id": "824a2bea36694fc4ba31d2de3ee5102a"
      }
     },
     "metadata": {},
     "output_type": "display_data"
    },
    {
     "name": "stdout",
     "output_type": "stream",
     "text": [
      "[12:14:53] LOG: Interpolating DFT\n",
      "[12:14:54] LOG: Calculating Error\n",
      "[12:14:57] LOG: \n",
      "        Level 17:\n",
      "            Original Stdev: 6.731332184441273 m/s\n",
      "            Predicted MAE:  0.269681299378081 m/s\n",
      "            Predicted RMSE: 0.3553239189447178 m/s\n",
      "        \n"
     ]
    },
    {
     "data": {
      "text/plain": "  0%|          | 0/12 [00:00<?, ?it/s]",
      "application/vnd.jupyter.widget-view+json": {
       "version_major": 2,
       "version_minor": 0,
       "model_id": "ded8983b3337454d8798a3b37e985b22"
      }
     },
     "metadata": {},
     "output_type": "display_data"
    },
    {
     "name": "stdout",
     "output_type": "stream",
     "text": [
      "[12:15:31] LOG: Loading DFT\n",
      "[12:15:31] LOG: Performing IDFT\n",
      "[12:15:58] LOG: Calculating Error\n",
      "\n",
      "        Level 21:\n",
      "            Original Stdev: 6.0103419501444355 m/s\n",
      "            Predicted MAE:  0.2117385264290441 m/s\n",
      "            Predicted RMSE: 0.27567027738023203 m/s\n",
      "        \n",
      "[18, 21]\n"
     ]
    },
    {
     "data": {
      "text/plain": "  0%|          | 0/12 [00:00<?, ?it/s]",
      "application/vnd.jupyter.widget-view+json": {
       "version_major": 2,
       "version_minor": 0,
       "model_id": "873c1c940a694579b50e1af25a4a3508"
      }
     },
     "metadata": {},
     "output_type": "display_data"
    },
    {
     "name": "stdout",
     "output_type": "stream",
     "text": [
      "[12:16:35] LOG: Interpolating DFT\n",
      "[12:16:37] LOG: Calculating Error\n",
      "[12:16:40] LOG: \n",
      "        Level 19:\n",
      "            Original Stdev: 6.298925629090293 m/s\n",
      "            Predicted MAE:  0.22435851642323512 m/s\n",
      "            Predicted RMSE: 0.2912592896201122 m/s\n",
      "        \n",
      "[18, 21]\n"
     ]
    },
    {
     "data": {
      "text/plain": "  0%|          | 0/12 [00:00<?, ?it/s]",
      "application/vnd.jupyter.widget-view+json": {
       "version_major": 2,
       "version_minor": 0,
       "model_id": "c919bcb951a943de95a03080d0184801"
      }
     },
     "metadata": {},
     "output_type": "display_data"
    },
    {
     "name": "stdout",
     "output_type": "stream",
     "text": [
      "[12:17:13] LOG: Interpolating DFT\n",
      "[12:17:15] LOG: Calculating Error\n",
      "[12:17:18] LOG: \n",
      "        Level 20:\n",
      "            Original Stdev: 6.139713598275383 m/s\n",
      "            Predicted MAE:  0.22138783816640845 m/s\n",
      "            Predicted RMSE: 0.28754704014228155 m/s\n",
      "        \n"
     ]
    },
    {
     "data": {
      "text/plain": "  0%|          | 0/12 [00:00<?, ?it/s]",
      "application/vnd.jupyter.widget-view+json": {
       "version_major": 2,
       "version_minor": 0,
       "model_id": "5044a29beca24327a1013cb90245f832"
      }
     },
     "metadata": {},
     "output_type": "display_data"
    },
    {
     "name": "stdout",
     "output_type": "stream",
     "text": [
      "[12:17:56] LOG: Loading DFT\n",
      "[12:17:56] LOG: Performing IDFT\n",
      "[12:18:23] LOG: Calculating Error\n",
      "\n",
      "        Level 24:\n",
      "            Original Stdev: 5.827491050788622 m/s\n",
      "            Predicted MAE:  0.2096129413275214 m/s\n",
      "            Predicted RMSE: 0.2745280839501352 m/s\n",
      "        \n",
      "[21, 24]\n"
     ]
    },
    {
     "data": {
      "text/plain": "  0%|          | 0/12 [00:00<?, ?it/s]",
      "application/vnd.jupyter.widget-view+json": {
       "version_major": 2,
       "version_minor": 0,
       "model_id": "9270f22c92a84e9ba2776bb881dceac1"
      }
     },
     "metadata": {},
     "output_type": "display_data"
    },
    {
     "name": "stdout",
     "output_type": "stream",
     "text": [
      "[12:19:00] LOG: Interpolating DFT\n",
      "[12:19:02] LOG: Calculating Error\n",
      "[12:19:05] LOG: \n",
      "        Level 22:\n",
      "            Original Stdev: 5.914747150656668 m/s\n",
      "            Predicted MAE:  0.22132072730224261 m/s\n",
      "            Predicted RMSE: 0.2877784277730654 m/s\n",
      "        \n",
      "[21, 24]\n"
     ]
    },
    {
     "data": {
      "text/plain": "  0%|          | 0/12 [00:00<?, ?it/s]",
      "application/vnd.jupyter.widget-view+json": {
       "version_major": 2,
       "version_minor": 0,
       "model_id": "a70c7036f55c4e5692f83c06a4deb640"
      }
     },
     "metadata": {},
     "output_type": "display_data"
    },
    {
     "name": "stdout",
     "output_type": "stream",
     "text": [
      "[12:19:38] LOG: Interpolating DFT\n",
      "[12:19:40] LOG: Calculating Error\n",
      "[12:19:43] LOG: \n",
      "        Level 23:\n",
      "            Original Stdev: 5.857590548588396 m/s\n",
      "            Predicted MAE:  0.22472098480186842 m/s\n",
      "            Predicted RMSE: 0.29190375235447713 m/s\n",
      "        \n"
     ]
    },
    {
     "data": {
      "text/plain": "  0%|          | 0/12 [00:00<?, ?it/s]",
      "application/vnd.jupyter.widget-view+json": {
       "version_major": 2,
       "version_minor": 0,
       "model_id": "18e37a9826d74d1182c5a1a822c8463f"
      }
     },
     "metadata": {},
     "output_type": "display_data"
    },
    {
     "name": "stdout",
     "output_type": "stream",
     "text": [
      "[12:20:20] LOG: Loading DFT\n",
      "[12:20:20] LOG: Performing IDFT\n",
      "[12:20:47] LOG: Calculating Error\n",
      "\n",
      "        Level 27:\n",
      "            Original Stdev: 5.775212615091475 m/s\n",
      "            Predicted MAE:  0.21261141555802435 m/s\n",
      "            Predicted RMSE: 0.2805476172213472 m/s\n",
      "        \n",
      "[24, 27]\n"
     ]
    },
    {
     "data": {
      "text/plain": "  0%|          | 0/12 [00:00<?, ?it/s]",
      "application/vnd.jupyter.widget-view+json": {
       "version_major": 2,
       "version_minor": 0,
       "model_id": "dfbad33bba7f4e0fa046fe05b9e2acdb"
      }
     },
     "metadata": {},
     "output_type": "display_data"
    },
    {
     "name": "stdout",
     "output_type": "stream",
     "text": [
      "[12:21:28] LOG: Interpolating DFT\n",
      "[12:21:30] LOG: Calculating Error\n",
      "[12:21:33] LOG: \n",
      "        Level 25:\n",
      "            Original Stdev: 5.8098867140737855 m/s\n",
      "            Predicted MAE:  0.20789449091687762 m/s\n",
      "            Predicted RMSE: 0.27315911388015185 m/s\n",
      "        \n",
      "[24, 27]\n"
     ]
    },
    {
     "data": {
      "text/plain": "  0%|          | 0/12 [00:00<?, ?it/s]",
      "application/vnd.jupyter.widget-view+json": {
       "version_major": 2,
       "version_minor": 0,
       "model_id": "52b94ad245804779b72e49494490b996"
      }
     },
     "metadata": {},
     "output_type": "display_data"
    },
    {
     "name": "stdout",
     "output_type": "stream",
     "text": [
      "[12:22:09] LOG: Interpolating DFT\n",
      "[12:22:11] LOG: Calculating Error\n",
      "[12:22:14] LOG: \n",
      "        Level 26:\n",
      "            Original Stdev: 5.794404770806853 m/s\n",
      "            Predicted MAE:  0.20915556045272807 m/s\n",
      "            Predicted RMSE: 0.2753863656488652 m/s\n",
      "        \n"
     ]
    },
    {
     "data": {
      "text/plain": "  0%|          | 0/12 [00:00<?, ?it/s]",
      "application/vnd.jupyter.widget-view+json": {
       "version_major": 2,
       "version_minor": 0,
       "model_id": "40cf45dccca9481d9dd4f40a60e4e948"
      }
     },
     "metadata": {},
     "output_type": "display_data"
    },
    {
     "name": "stdout",
     "output_type": "stream",
     "text": [
      "[12:22:50] LOG: Loading DFT\n",
      "[12:22:50] LOG: Performing IDFT\n",
      "[12:23:17] LOG: Calculating Error\n",
      "\n",
      "        Level 30:\n",
      "            Original Stdev: 5.654282538572067 m/s\n",
      "            Predicted MAE:  0.2245458467698903 m/s\n",
      "            Predicted RMSE: 0.29830801319254585 m/s\n",
      "        \n",
      "[27, 30]\n"
     ]
    },
    {
     "data": {
      "text/plain": "  0%|          | 0/12 [00:00<?, ?it/s]",
      "application/vnd.jupyter.widget-view+json": {
       "version_major": 2,
       "version_minor": 0,
       "model_id": "c8e169de862547f7a5d2bf1716447d01"
      }
     },
     "metadata": {},
     "output_type": "display_data"
    },
    {
     "name": "stdout",
     "output_type": "stream",
     "text": [
      "[12:23:56] LOG: Interpolating DFT\n",
      "[12:23:57] LOG: Calculating Error\n",
      "[12:24:00] LOG: \n",
      "        Level 28:\n",
      "            Original Stdev: 5.747177094510318 m/s\n",
      "            Predicted MAE:  0.2152625582105414 m/s\n",
      "            Predicted RMSE: 0.28486553444487517 m/s\n",
      "        \n",
      "[27, 30]\n"
     ]
    },
    {
     "data": {
      "text/plain": "  0%|          | 0/12 [00:00<?, ?it/s]",
      "application/vnd.jupyter.widget-view+json": {
       "version_major": 2,
       "version_minor": 0,
       "model_id": "365c00f36206407f8ad272b3ceb80c9c"
      }
     },
     "metadata": {},
     "output_type": "display_data"
    },
    {
     "name": "stdout",
     "output_type": "stream",
     "text": [
      "[12:25:02] LOG: Interpolating DFT\n",
      "[12:25:04] LOG: Calculating Error\n",
      "[12:25:07] LOG: \n",
      "        Level 29:\n",
      "            Original Stdev: 5.707465038484892 m/s\n",
      "            Predicted MAE:  0.21967702303747066 m/s\n",
      "            Predicted RMSE: 0.2915055738317794 m/s\n",
      "        \n"
     ]
    },
    {
     "data": {
      "text/plain": "  0%|          | 0/12 [00:00<?, ?it/s]",
      "application/vnd.jupyter.widget-view+json": {
       "version_major": 2,
       "version_minor": 0,
       "model_id": "ea26076727434cc187583b49ec084fe5"
      }
     },
     "metadata": {},
     "output_type": "display_data"
    },
    {
     "name": "stdout",
     "output_type": "stream",
     "text": [
      "[12:25:42] LOG: Loading DFT\n",
      "[12:25:42] LOG: Performing IDFT\n",
      "[12:26:09] LOG: Calculating Error\n",
      "\n",
      "        Level 33:\n",
      "            Original Stdev: 5.381127878679719 m/s\n",
      "            Predicted MAE:  0.23679652637664722 m/s\n",
      "            Predicted RMSE: 0.3160377096743778 m/s\n",
      "        \n",
      "[30, 33]\n"
     ]
    },
    {
     "data": {
      "text/plain": "  0%|          | 0/12 [00:00<?, ?it/s]",
      "application/vnd.jupyter.widget-view+json": {
       "version_major": 2,
       "version_minor": 0,
       "model_id": "943b320ca73044cbbb60a3d532480b74"
      }
     },
     "metadata": {},
     "output_type": "display_data"
    },
    {
     "name": "stdout",
     "output_type": "stream",
     "text": [
      "[12:26:48] LOG: Interpolating DFT\n",
      "[12:26:50] LOG: Calculating Error\n",
      "[12:26:53] LOG: \n",
      "        Level 31:\n",
      "            Original Stdev: 5.58171910346843 m/s\n",
      "            Predicted MAE:  0.24310078054063936 m/s\n",
      "            Predicted RMSE: 0.32627184936140535 m/s\n",
      "        \n",
      "[30, 33]\n"
     ]
    },
    {
     "data": {
      "text/plain": "  0%|          | 0/12 [00:00<?, ?it/s]",
      "application/vnd.jupyter.widget-view+json": {
       "version_major": 2,
       "version_minor": 0,
       "model_id": "597adaead6c1458086a535ed0d36ab57"
      }
     },
     "metadata": {},
     "output_type": "display_data"
    },
    {
     "name": "stdout",
     "output_type": "stream",
     "text": [
      "[12:28:57] LOG: Interpolating DFT\n",
      "[12:28:59] LOG: Calculating Error\n",
      "[12:29:02] LOG: \n",
      "        Level 32:\n",
      "            Original Stdev: 5.491343187791445 m/s\n",
      "            Predicted MAE:  0.2560220573110797 m/s\n",
      "            Predicted RMSE: 0.34644994256480893 m/s\n",
      "        \n"
     ]
    },
    {
     "data": {
      "text/plain": "  0%|          | 0/12 [00:00<?, ?it/s]",
      "application/vnd.jupyter.widget-view+json": {
       "version_major": 2,
       "version_minor": 0,
       "model_id": "3f9426d74b3543348915da68388168fe"
      }
     },
     "metadata": {},
     "output_type": "display_data"
    },
    {
     "name": "stdout",
     "output_type": "stream",
     "text": [
      "[12:29:38] LOG: Loading DFT\n",
      "[12:29:38] LOG: Performing IDFT\n",
      "[12:30:05] LOG: Calculating Error\n",
      "\n",
      "        Level 35:\n",
      "            Original Stdev: 4.529156641991455 m/s\n",
      "            Predicted MAE:  0.19884312650025285 m/s\n",
      "            Predicted RMSE: 0.265055891763768 m/s\n",
      "        \n",
      "[33, 35]\n"
     ]
    },
    {
     "data": {
      "text/plain": "  0%|          | 0/12 [00:00<?, ?it/s]",
      "application/vnd.jupyter.widget-view+json": {
       "version_major": 2,
       "version_minor": 0,
       "model_id": "a8386a14b9194a5cb000cbb9b027998c"
      }
     },
     "metadata": {},
     "output_type": "display_data"
    },
    {
     "name": "stdout",
     "output_type": "stream",
     "text": [
      "[12:30:45] LOG: Interpolating DFT\n",
      "[12:30:47] LOG: Calculating Error\n",
      "[12:30:50] LOG: \n",
      "        Level 34:\n",
      "            Original Stdev: 5.166675731692002 m/s\n",
      "            Predicted MAE:  0.3441599934030505 m/s\n",
      "            Predicted RMSE: 0.5360250452124493 m/s\n",
      "        \n",
      "[12:30:50] LOG: \n",
      "    Original Stdev: 8.568464675185558 m/s\n",
      "    Predicted MAE:  0.3275248175733363 m/s\n",
      "    Predicted RMSE: 0.5530494016772665 m/s\n",
      "    \n"
     ]
    }
   ],
   "source": [
    "def test_fit_dft3(filename: str, variable: str, quantile: float, skip_levels: int):\n",
    "    data_variance = 0\n",
    "    mae_error = 0\n",
    "    mse_error = 0\n",
    "    predicted_levels = set()\n",
    "    predicted_window = []\n",
    "    predicted_window_levels = []\n",
    "\n",
    "    def predict_from_fft(level):\n",
    "        nonlocal data_variance, mae_error, mse_error\n",
    "\n",
    "        predicted_levels.add(level)\n",
    "\n",
    "        data = load_variable_at_level(filename, variable, level, cache=False, folder=\"raw\").astype(\"float32\")\n",
    "\n",
    "        log(\"Loading DFT\")\n",
    "        with open(f\"models/3D-dft/{get_year_from_filename(filename)}/{variable}-{level}-{quantile}.bin\", \"rb\") as file:\n",
    "            fft = pickle.load(file)\n",
    "        log(\"Performing IDFT\")\n",
    "        pred = idft3_at_level(*fft)\n",
    "\n",
    "        log(\"Calculating Error\")\n",
    "        predicted_window.append(pred)\n",
    "        predicted_window_levels.append(level)\n",
    "        if len(predicted_window_levels) > 2:\n",
    "            predicted_window.pop(0)\n",
    "            predicted_window_levels.pop(0)\n",
    "\n",
    "        mae_loss = mae(data, pred)\n",
    "        mse_loss = mse(data, pred)\n",
    "        var = data.var()\n",
    "\n",
    "        data_variance += var\n",
    "        mae_error += mae_loss\n",
    "        mse_error += mse_loss\n",
    "\n",
    "        print(f\"\"\"\n",
    "        Level {level}:\n",
    "            Original Stdev: {var ** 0.5} m/s\n",
    "            Predicted MAE:  {mae_loss} m/s\n",
    "            Predicted RMSE: {mse_loss ** 0.5} m/s\n",
    "        \"\"\")\n",
    "\n",
    "    def interpolate_from_fft(level):\n",
    "        nonlocal data_variance, mae_error, mse_error\n",
    "\n",
    "        predicted_levels.add(level)\n",
    "\n",
    "        # lev0 = max(0, lev - lev % skip_levels - 1 * skip_levels)\n",
    "        lev1 = max(0, lev - lev % skip_levels)\n",
    "        lev2 = min(35, lev - lev % skip_levels + skip_levels)\n",
    "        # lev3 = min(35, lev - lev % skip_levels + 2 * skip_levels)\n",
    "        t = (lev - lev1) / (lev2 - lev1)\n",
    "\n",
    "        for i in (lev1, lev2):\n",
    "            if i in predicted_window_levels:\n",
    "                predicted_window.append(predicted_window[predicted_window_levels.index(i)])\n",
    "                predicted_window_levels.append(i)\n",
    "\n",
    "                if len(predicted_window_levels) > 2:\n",
    "                    predicted_window.pop(0)\n",
    "                    predicted_window_levels.pop(0)\n",
    "            else:\n",
    "                predict_from_fft(i)\n",
    "\n",
    "        print(predicted_window_levels)\n",
    "        data = load_variable_at_level(filename, variable, lev, cache=False).astype(\"float32\")\n",
    "\n",
    "        log(\"Interpolating DFT\")\n",
    "        pred = linear_interpolate(predicted_window, 0, t)\n",
    "\n",
    "        log(\"Calculating Error\")\n",
    "        mae_loss = mae(data, pred)\n",
    "        mse_loss = mse(data, pred)\n",
    "        var = data.var()\n",
    "\n",
    "        data_variance += var\n",
    "        mae_error += mae_loss\n",
    "        mse_error += mse_loss\n",
    "\n",
    "        log(f\"\"\"\n",
    "        Level {level}:\n",
    "            Original Stdev: {var ** 0.5} m/s\n",
    "            Predicted MAE:  {mae_loss} m/s\n",
    "            Predicted RMSE: {mse_loss ** 0.5} m/s\n",
    "        \"\"\")\n",
    "\n",
    "    for lev in tqdm(range(36)):\n",
    "        if lev in predicted_levels:\n",
    "            continue\n",
    "\n",
    "        if lev % skip_levels == 0 or lev == 35:\n",
    "            predict_from_fft(lev)\n",
    "            continue\n",
    "\n",
    "        interpolate_from_fft(lev)\n",
    "\n",
    "    lines = f\"\"\"\n",
    "    Original Stdev: {(data_variance / 36) ** 0.5} m/s\n",
    "    Predicted MAE:  {(mae_error / 36)} m/s\n",
    "    Predicted RMSE: {(mse_error / 36) ** 0.5} m/s\n",
    "    \"\"\"\n",
    "    log(lines)\n",
    "\n",
    "\n",
    "test_fit_dft3(\"MERRA2.tavg3_3d_asm_Nv.YAVG{:0>2}{:0>2}.nc4\", \"U\", quantile=0.9935, skip_levels=3)\n"
   ],
   "metadata": {
    "collapsed": false
   }
  }
 ],
 "metadata": {
  "kernelspec": {
   "display_name": "Python 3",
   "language": "python",
   "name": "python3"
  },
  "language_info": {
   "codemirror_mode": {
    "name": "ipython",
    "version": 2
   },
   "file_extension": ".py",
   "mimetype": "text/x-python",
   "name": "python",
   "nbconvert_exporter": "python",
   "pygments_lexer": "ipython2",
   "version": "2.7.6"
  }
 },
 "nbformat": 4,
 "nbformat_minor": 0
}

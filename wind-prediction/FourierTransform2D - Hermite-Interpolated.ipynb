{
 "cells": [
  {
   "cell_type": "code",
   "execution_count": 1,
   "metadata": {
    "collapsed": true
   },
   "outputs": [],
   "source": [
    "from plot import *\n",
    "from fft import *\n",
    "from maths import rmse, mae, fit_kochanek_bartels_spline, hermite_interpolate\n"
   ]
  },
  {
   "cell_type": "code",
   "execution_count": 28,
   "outputs": [],
   "source": [
    "def fit_dft2_hermite_interpolated_at_time(filename: str, variable: str, time: int, quantile: float, skip_levels: int):\n",
    "    data = load_variable_at_time(filename, variable, time)\n",
    "    prediction = np.zeros((36, 361, 576), dtype=\"float32\")\n",
    "\n",
    "    preds = []\n",
    "    levels = sorted(set(range(0, 36, skip_levels)).union({35}))\n",
    "    for lev in levels:\n",
    "        fft = dft2_at_time_and_level(data[lev], quantile=quantile)\n",
    "        preds.append(idft2_at_time_and_level(*fft))\n",
    "\n",
    "    tensions = []\n",
    "    biases = []\n",
    "\n",
    "    for lev in tqdm(range(36)):\n",
    "        if lev % skip_levels == 0:\n",
    "            continue\n",
    "\n",
    "        pred_idx = levels.index(lev - lev % skip_levels)\n",
    "        t = (lev - levels[pred_idx]) / (levels[pred_idx + 1] - levels[pred_idx])\n",
    "\n",
    "        best_tension, best_bias = fit_kochanek_bartels_spline(data[lev], preds, pred_idx, t)\n",
    "        tensions.append(best_tension)\n",
    "        biases.append(best_bias)\n",
    "\n",
    "    for lev in range(36):\n",
    "        if lev in levels:\n",
    "            prediction[lev] = preds[levels.index(lev)]\n",
    "            continue\n",
    "\n",
    "        pred_idx = levels.index(lev - lev % skip_levels)\n",
    "        t = (lev - levels[pred_idx]) / (levels[pred_idx + 1] - levels[pred_idx])\n",
    "        prediction[lev] = hermite_interpolate(preds, pred_idx, t, tensions[lev - pred_idx - 1], 0)\n",
    "\n",
    "    data_float32 = data.astype(\"float32\")\n",
    "\n",
    "    print(f\"Original Stdev: {data_float32.std()} m/s\")\n",
    "    print(f\"Predicted RMSE: {rmse(data_float32, prediction)} m/s\")\n",
    "    print(f\"Predicted MAE:  {mae(data_float32, prediction)} m/s\")\n",
    "    print(f\"Size/level: {sum(el.nbytes for el in fft) / (1000 ** 2)} MB\")\n",
    "    print(f\"Size/time: {sum(el.nbytes for el in fft) * len(levels) / (1000 ** 2)} MB\")\n",
    "    print(f\"Size/day: {sum(el.nbytes for el in fft) * len(levels) * 8 / (1000 ** 2)} MB\")\n",
    "    print(f\"Size/year: {sum(el.nbytes for el in fft) * len(levels) * 8 * 365 / (1000 ** 2)} MB\")"
   ],
   "metadata": {
    "collapsed": false
   }
  },
  {
   "cell_type": "code",
   "execution_count": 29,
   "outputs": [
    {
     "data": {
      "text/plain": "  0%|          | 0/36 [00:00<?, ?it/s]",
      "application/vnd.jupyter.widget-view+json": {
       "version_major": 2,
       "version_minor": 0,
       "model_id": "9474e0ad7ab04c319b45296d8943c8f8"
      }
     },
     "metadata": {},
     "output_type": "display_data"
    },
    {
     "name": "stdout",
     "output_type": "stream",
     "text": [
      "Original Stdev: 10.063274383544922 m/s\n",
      "Predicted RMSE: 0.7690223521542094 m/s\n",
      "Predicted MAE:  0.493954062461853 m/s\n",
      "Size/level: 0.006986 MB\n",
      "Size/time: 0.06986 MB\n",
      "Size/day: 0.55888 MB\n",
      "Size/year: 203.9912 MB\n"
     ]
    }
   ],
   "source": [
    "fit_dft2_hermite_interpolated_at_time(\"MERRA2.tavg3_3d_asm_Nv.YAVG0101.nc4\", \"U\",\n",
    "                                      time=0, quantile=0.99044, skip_levels=4)\n"
   ],
   "metadata": {
    "collapsed": false
   }
  }
 ],
 "metadata": {
  "kernelspec": {
   "display_name": "Python 3",
   "language": "python",
   "name": "python3"
  },
  "language_info": {
   "codemirror_mode": {
    "name": "ipython",
    "version": 2
   },
   "file_extension": ".py",
   "mimetype": "text/x-python",
   "name": "python",
   "nbconvert_exporter": "python",
   "pygments_lexer": "ipython2",
   "version": "2.7.6"
  }
 },
 "nbformat": 4,
 "nbformat_minor": 0
}

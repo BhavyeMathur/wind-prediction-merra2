{
 "cells": [
  {
   "cell_type": "code",
   "execution_count": 36,
   "metadata": {
    "collapsed": true
   },
   "outputs": [],
   "source": [
    "from plot import *\n",
    "from fft import *\n",
    "from maths import rmse\n"
   ]
  },
  {
   "cell_type": "code",
   "execution_count": 33,
   "outputs": [
    {
     "name": "stdout",
     "output_type": "stream",
     "text": [
      "149714\n"
     ]
    }
   ],
   "source": [
    "data = load_variable_at_time(\"MERRA2_100.tavg3_3d_asm_Nv.19800101.nc4\", \"U\",\n",
    "                             time=0)\n",
    "transform = dft3_at_time(data, quantile=0.99)\n",
    "print(len(transform))"
   ],
   "metadata": {
    "collapsed": false
   }
  },
  {
   "cell_type": "code",
   "execution_count": 34,
   "outputs": [
    {
     "name": "stdout",
     "output_type": "stream",
     "text": [
      "Size: 0.9994487762451172 mB\n"
     ]
    }
   ],
   "source": [
    "print(f\"Size: {len(transform) * 7 / (1024 ** 2)} mB\")"
   ],
   "metadata": {
    "collapsed": false
   }
  },
  {
   "cell_type": "code",
   "execution_count": 35,
   "outputs": [
    {
     "data": {
      "text/plain": "0.8210562778271889"
     },
     "execution_count": 35,
     "metadata": {},
     "output_type": "execute_result"
    }
   ],
   "source": [
    "prediction = np.zeros((72, 361, 576), dtype=\"complex64\")\n",
    "\n",
    "for (i, j, k), val in transform.items():\n",
    "    prediction[i, j, k] = val\n",
    "\n",
    "prediction = np.fft.ifftshift(prediction)\n",
    "prediction = np.fft.ifftn(prediction)\n",
    "prediction = np.fft.fftshift(prediction)\n",
    "prediction = prediction.real\n",
    "\n",
    "rmse(data, prediction)\n"
   ],
   "metadata": {
    "collapsed": false
   }
  }
 ],
 "metadata": {
  "kernelspec": {
   "display_name": "Python 3",
   "language": "python",
   "name": "python3"
  },
  "language_info": {
   "codemirror_mode": {
    "name": "ipython",
    "version": 2
   },
   "file_extension": ".py",
   "mimetype": "text/x-python",
   "name": "python",
   "nbconvert_exporter": "python",
   "pygments_lexer": "ipython2",
   "version": "2.7.6"
  }
 },
 "nbformat": 4,
 "nbformat_minor": 0
}

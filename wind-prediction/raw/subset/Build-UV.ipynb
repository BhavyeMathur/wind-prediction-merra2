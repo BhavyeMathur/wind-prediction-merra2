{
 "cells": [
  {
   "cell_type": "code",
   "execution_count": 1,
   "outputs": [],
   "source": [
    "import sys\n",
    "sys.path.append(\"../..\")\n",
    "\n",
    "import pickle\n",
    "\n",
    "from fft import *\n",
    "from data_loading import *\n"
   ],
   "metadata": {
    "collapsed": false
   }
  },
  {
   "cell_type": "code",
   "execution_count": 2,
   "outputs": [],
   "source": [
    "n = 100000000\n",
    "estimate_quantile = 0.9935"
   ],
   "metadata": {
    "collapsed": false
   }
  },
  {
   "cell_type": "code",
   "execution_count": 3,
   "outputs": [
    {
     "data": {
      "text/plain": "      lev  lat  lon  U_est  V_est    U    V\ntime                                       \n0      18  221  303    0.0    0.0  0.0  0.0\n0      21  338   38    0.0    0.0  0.0  0.0\n0      31    7  574    0.0    0.0  0.0  0.0\n0       8  202  220    0.0    0.0  0.0  0.0\n0       8   45  221    0.0    0.0  0.0  0.0",
      "text/html": "<div>\n<style scoped>\n    .dataframe tbody tr th:only-of-type {\n        vertical-align: middle;\n    }\n\n    .dataframe tbody tr th {\n        vertical-align: top;\n    }\n\n    .dataframe thead th {\n        text-align: right;\n    }\n</style>\n<table border=\"1\" class=\"dataframe\">\n  <thead>\n    <tr style=\"text-align: right;\">\n      <th></th>\n      <th>lev</th>\n      <th>lat</th>\n      <th>lon</th>\n      <th>U_est</th>\n      <th>V_est</th>\n      <th>U</th>\n      <th>V</th>\n    </tr>\n    <tr>\n      <th>time</th>\n      <th></th>\n      <th></th>\n      <th></th>\n      <th></th>\n      <th></th>\n      <th></th>\n      <th></th>\n    </tr>\n  </thead>\n  <tbody>\n    <tr>\n      <th>0</th>\n      <td>18</td>\n      <td>221</td>\n      <td>303</td>\n      <td>0.0</td>\n      <td>0.0</td>\n      <td>0.0</td>\n      <td>0.0</td>\n    </tr>\n    <tr>\n      <th>0</th>\n      <td>21</td>\n      <td>338</td>\n      <td>38</td>\n      <td>0.0</td>\n      <td>0.0</td>\n      <td>0.0</td>\n      <td>0.0</td>\n    </tr>\n    <tr>\n      <th>0</th>\n      <td>31</td>\n      <td>7</td>\n      <td>574</td>\n      <td>0.0</td>\n      <td>0.0</td>\n      <td>0.0</td>\n      <td>0.0</td>\n    </tr>\n    <tr>\n      <th>0</th>\n      <td>8</td>\n      <td>202</td>\n      <td>220</td>\n      <td>0.0</td>\n      <td>0.0</td>\n      <td>0.0</td>\n      <td>0.0</td>\n    </tr>\n    <tr>\n      <th>0</th>\n      <td>8</td>\n      <td>45</td>\n      <td>221</td>\n      <td>0.0</td>\n      <td>0.0</td>\n      <td>0.0</td>\n      <td>0.0</td>\n    </tr>\n  </tbody>\n</table>\n</div>"
     },
     "execution_count": 3,
     "metadata": {},
     "output_type": "execute_result"
    }
   ],
   "source": [
    "longitudes = np.random.randint(0, 576, size=n, dtype=\"uint16\")\n",
    "latitudes = np.random.randint(0, 361, size=n, dtype=\"uint16\")\n",
    "times = np.random.randint(0, 365 * 8, size=n, dtype=\"uint16\")\n",
    "levels = np.random.randint(0, 36, size=n, dtype=\"uint8\")\n",
    "\n",
    "zeros = np.zeros(shape=n, dtype=\"float16\")\n",
    "\n",
    "data = pd.DataFrame({\"time\": times, \"lev\": levels, \"lat\": latitudes, \"lon\": longitudes,\n",
    "                     \"U_est\": zeros, \"V_est\": zeros, \"U\": zeros, \"V\": zeros})\n",
    "data = data.sort_values(by=\"time\", ignore_index=True)\n",
    "data = data.set_index(\"time\")\n",
    "data.head()"
   ],
   "metadata": {
    "collapsed": false
   }
  },
  {
   "cell_type": "code",
   "execution_count": 45,
   "outputs": [
    {
     "name": "stdout",
     "output_type": "stream",
     "text": [
      "Size: 1500.0 MB\n",
      "Duplicates: 0.228901%\n"
     ]
    }
   ],
   "source": [
    "print(f\"Size: {data.memory_usage().sum() / (1000 ** 2)} MB\")\n",
    "print(f\"Duplicates: {100 * data.duplicated(subset=['lat', 'lon', 'lev', 'time']).sum() / n:.3f}%\")\n"
   ],
   "metadata": {
    "collapsed": false
   }
  },
  {
   "cell_type": "code",
   "execution_count": null,
   "outputs": [
    {
     "data": {
      "text/plain": "  0%|          | 0/12 [00:00<?, ?it/s]",
      "application/vnd.jupyter.widget-view+json": {
       "version_major": 2,
       "version_minor": 0,
       "model_id": "84779b1610544bab84d8149742e6b4dc"
      }
     },
     "metadata": {},
     "output_type": "display_data"
    },
    {
     "data": {
      "text/plain": "  0%|          | 0/31 [00:00<?, ?it/s]",
      "application/vnd.jupyter.widget-view+json": {
       "version_major": 2,
       "version_minor": 0,
       "model_id": "162a7248d1c4428d850d5c7bf087f07a"
      }
     },
     "metadata": {},
     "output_type": "display_data"
    }
   ],
   "source": [
    "i = 0\n",
    "for mm in tqdm(range(1, 13)):\n",
    "    for dd in tqdm(range(1, monthrange(2001, mm)[1] + 1)):\n",
    "        for t in range(8):\n",
    "            indices = data.loc[i][[\"lev\", \"lat\", \"lon\"]].values.T\n",
    "\n",
    "            filename = f\"YAVG{mm:0>2}{dd:0>2}-{t * 3 + 1:0>2}:30.bin\"\n",
    "\n",
    "            with open(f\"../../models/3D-dft-daily/U/{estimate_quantile}/{filename}\", \"rb\") as file:\n",
    "                fft = pickle.load(file)\n",
    "                estimate = idft3_at_time(*fft)\n",
    "                u_est = estimate[*indices]\n",
    "\n",
    "            with open(f\"../../models/3D-dft-daily/V/{estimate_quantile}/{filename}\", \"rb\") as file:\n",
    "                fft = pickle.load(file)\n",
    "                estimate = idft3_at_time(*fft)\n",
    "                v_est = estimate[*indices]\n",
    "\n",
    "            data.loc[i, \"U_est\"] = u_est.astype(\"float16\")\n",
    "            data.loc[i, \"V_est\"] = v_est.astype(\"float16\")\n",
    "\n",
    "            filename = f\"MERRA2.tavg3_3d_asm_Nv.YAVG{mm:0>2}{dd:0>2}.nc4\"\n",
    "\n",
    "            actual = load_variable_at_time(filename, \"U\", t, cache=False, folder=\"..\")\n",
    "            data.loc[i, \"U\"] = actual[*indices]\n",
    "\n",
    "            actual = load_variable_at_time(filename, \"V\", t, cache=False, folder=\"..\")\n",
    "            data.loc[i, \"V\"] = actual[*indices]\n",
    "\n",
    "            i += 1\n"
   ],
   "metadata": {
    "collapsed": false,
    "pycharm": {
     "is_executing": true
    }
   }
  },
  {
   "cell_type": "code",
   "execution_count": null,
   "outputs": [],
   "source": [
    "df = data.reset_index()\n",
    "df[\"time\"] = df[\"time\"].astype(\"uint16\")\n",
    "df = df.sample(frac=1, ignore_index=True)  # shuffle\n",
    "df.head()\n"
   ],
   "metadata": {
    "collapsed": false,
    "pycharm": {
     "is_executing": true
    }
   }
  },
  {
   "cell_type": "code",
   "execution_count": null,
   "outputs": [],
   "source": [
    "df.to_feather(f\"UV-{estimate_quantile}-{n}.ft\")\n"
   ],
   "metadata": {
    "collapsed": false,
    "pycharm": {
     "is_executing": true
    }
   }
  }
 ],
 "metadata": {
  "kernelspec": {
   "display_name": "Python 3",
   "language": "python",
   "name": "python3"
  },
  "language_info": {
   "codemirror_mode": {
    "name": "ipython",
    "version": 2
   },
   "file_extension": ".py",
   "mimetype": "text/x-python",
   "name": "python",
   "nbconvert_exporter": "python",
   "pygments_lexer": "ipython2",
   "version": "2.7.6"
  }
 },
 "nbformat": 4,
 "nbformat_minor": 0
}

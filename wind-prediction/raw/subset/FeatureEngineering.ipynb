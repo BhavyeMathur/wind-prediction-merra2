{
 "cells": [
  {
   "cell_type": "code",
   "execution_count": 3,
   "metadata": {
    "collapsed": true
   },
   "outputs": [
    {
     "ename": "SyntaxError",
     "evalue": "invalid syntax (merra2.py, line 66)",
     "output_type": "error",
     "traceback": [
      "Traceback \u001B[0;36m(most recent call last)\u001B[0m:\n",
      "\u001B[0m  File \u001B[1;32m~/Desktop/Projects/Spherindrical Fourier Transform/MERRA-2/venv3.9/lib/python3.9/site-packages/IPython/core/interactiveshell.py:3460\u001B[0m in \u001B[1;35mrun_code\u001B[0m\n    exec(code_obj, self.user_global_ns, self.user_ns)\u001B[0m\n",
      "\u001B[0m  Cell \u001B[1;32mIn[3], line 5\u001B[0m\n    from data_loading import *\u001B[0m\n",
      "\u001B[0;36m  File \u001B[0;32m~/Desktop/Projects/Spherindrical Fourier Transform/MERRA-2/wind-prediction/raw/subset/../../data_loading.py:7\u001B[0;36m\n\u001B[0;31m    from merra2 import *\u001B[0;36m\n",
      "\u001B[0;36m  File \u001B[0;32m~/Desktop/Projects/Spherindrical Fourier Transform/MERRA-2/wind-prediction/raw/subset/../../merra2.py:66\u001B[0;36m\u001B[0m\n\u001B[0;31m    match variable:\u001B[0m\n\u001B[0m          ^\u001B[0m\n\u001B[0;31mSyntaxError\u001B[0m\u001B[0;31m:\u001B[0m invalid syntax\n"
     ]
    }
   ],
   "source": [
    "import sys\n",
    "\n",
    "sys.path.append(\"../..\")\n",
    "\n",
    "from data_loading import *\n"
   ]
  },
  {
   "cell_type": "code",
   "execution_count": null,
   "outputs": [],
   "source": [
    "n = 100000000\n",
    "estimate_quantile = 0.9935\n",
    "\n",
    "means = {\"U\": 5.589, \"V\": 0.018}\n",
    "stds = {\"U\": 9.832, \"V\": 3.232}\n"
   ],
   "metadata": {
    "collapsed": false
   }
  },
  {
   "cell_type": "code",
   "execution_count": null,
   "outputs": [],
   "source": [
    "data = pd.read_feather(f\"UV-{estimate_quantile}-{n}.ft\")\n",
    "df = data.copy()\n",
    "\n",
    "NORMALIZED = False\n",
    "GEOGRAPHICAL = False\n",
    "CYCLIC_TIME = False\n",
    "\n",
    "data.head()\n"
   ],
   "metadata": {
    "collapsed": false
   }
  },
  {
   "cell_type": "code",
   "execution_count": 2,
   "outputs": [
    {
     "ename": "NameError",
     "evalue": "name 'data' is not defined",
     "output_type": "error",
     "traceback": [
      "\u001B[0;31m---------------------------------------------------------------------------\u001B[0m",
      "\u001B[0;31mNameError\u001B[0m                                 Traceback (most recent call last)",
      "Cell \u001B[0;32mIn[2], line 3\u001B[0m\n\u001B[1;32m      1\u001B[0m NORMALIZED \u001B[38;5;241m=\u001B[39m \u001B[38;5;28;01mTrue\u001B[39;00m\n\u001B[0;32m----> 3\u001B[0m df[\u001B[38;5;124m\"\u001B[39m\u001B[38;5;124mlat\u001B[39m\u001B[38;5;124m\"\u001B[39m] \u001B[38;5;241m=\u001B[39m (\u001B[43mdata\u001B[49m[\u001B[38;5;124m\"\u001B[39m\u001B[38;5;124mlat\u001B[39m\u001B[38;5;124m\"\u001B[39m] \u001B[38;5;241m*\u001B[39m \u001B[38;5;241m0.5\u001B[39m) \u001B[38;5;241m-\u001B[39m \u001B[38;5;241m90\u001B[39m\n\u001B[1;32m      4\u001B[0m df[\u001B[38;5;124m\"\u001B[39m\u001B[38;5;124mlat\u001B[39m\u001B[38;5;124m\"\u001B[39m] \u001B[38;5;241m/\u001B[39m\u001B[38;5;241m=\u001B[39m \u001B[38;5;241m90\u001B[39m\n\u001B[1;32m      5\u001B[0m df[\u001B[38;5;124m\"\u001B[39m\u001B[38;5;124mlon\u001B[39m\u001B[38;5;124m\"\u001B[39m] \u001B[38;5;241m=\u001B[39m (data[\u001B[38;5;124m\"\u001B[39m\u001B[38;5;124mlon\u001B[39m\u001B[38;5;124m\"\u001B[39m] \u001B[38;5;241m*\u001B[39m \u001B[38;5;241m0.625\u001B[39m) \u001B[38;5;241m-\u001B[39m \u001B[38;5;241m180\u001B[39m\n",
      "\u001B[0;31mNameError\u001B[0m: name 'data' is not defined"
     ]
    }
   ],
   "source": [
    "NORMALIZED = True\n",
    "\n",
    "df[\"lat\"] = (data[\"lat\"] * 0.5) - 90\n",
    "df[\"lat\"] /= 90\n",
    "df[\"lon\"] = (data[\"lon\"] * 0.625) - 180\n",
    "df[\"lon\"] /= 180\n",
    "df[\"lev\"] /= 36\n",
    "\n",
    "df[\"lev\"] = df[\"lev\"].astype(\"float16\")\n",
    "df[\"lat\"] = df[\"lat\"].astype(\"float16\")\n",
    "df[\"lon\"] = df[\"lon\"].astype(\"float16\")\n",
    "\n",
    "df[\"U\"] -= means[\"U\"]\n",
    "df[\"U\"] /= stds[\"U\"]\n",
    "\n",
    "df[\"V\"] -= means[\"V\"]\n",
    "df[\"V\"] /= stds[\"V\"]\n",
    "\n",
    "df[\"U_est\"] -= means[\"U\"]\n",
    "df[\"U_est\"] /= stds[\"U\"]\n",
    "\n",
    "df[\"V_est\"] -= means[\"V\"]\n",
    "df[\"V_est\"] /= stds[\"V\"]\n",
    "\n",
    "df[\"day %\"] = (data[\"time\"] % 8) / 8\n",
    "df[\"year %\"] = data[\"time\"] / 2920\n",
    "del df[\"time\"]\n",
    "\n",
    "df.head()\n"
   ],
   "metadata": {
    "collapsed": false
   }
  },
  {
   "cell_type": "code",
   "execution_count": 22,
   "outputs": [
    {
     "data": {
      "text/plain": "        lev       lat       lon     U_est     V_est         U         V  \\\n0  0.018524 -0.133301  0.881836 -1.126953 -0.458252 -1.098633 -0.322998   \n1  0.012344 -0.327881  0.329834 -0.543945 -0.122070 -0.512695 -0.249146   \n2  0.005402  0.899902  0.107666  0.445557  1.446289  0.415283  1.588867   \n3  0.023926  0.033325 -0.843750 -1.445312 -0.211426 -1.453125 -0.103638   \n4  0.023148  0.588867 -0.013885 -0.540039  0.079895 -0.569824  0.047821   \n\n    sin_day   cos_day  sin_year  cos_year  \n0  0.707031 -0.707031  0.650391 -0.759766  \n1  0.000000 -1.000000  0.280273  0.959961  \n2 -1.000000 -0.000000 -0.689941 -0.723633  \n3 -0.707031 -0.707031  0.617188  0.787109  \n4 -1.000000 -0.000000  0.980469 -0.196655  ",
      "text/html": "<div>\n<style scoped>\n    .dataframe tbody tr th:only-of-type {\n        vertical-align: middle;\n    }\n\n    .dataframe tbody tr th {\n        vertical-align: top;\n    }\n\n    .dataframe thead th {\n        text-align: right;\n    }\n</style>\n<table border=\"1\" class=\"dataframe\">\n  <thead>\n    <tr style=\"text-align: right;\">\n      <th></th>\n      <th>lev</th>\n      <th>lat</th>\n      <th>lon</th>\n      <th>U_est</th>\n      <th>V_est</th>\n      <th>U</th>\n      <th>V</th>\n      <th>sin_day</th>\n      <th>cos_day</th>\n      <th>sin_year</th>\n      <th>cos_year</th>\n    </tr>\n  </thead>\n  <tbody>\n    <tr>\n      <th>0</th>\n      <td>0.018524</td>\n      <td>-0.133301</td>\n      <td>0.881836</td>\n      <td>-1.126953</td>\n      <td>-0.458252</td>\n      <td>-1.098633</td>\n      <td>-0.322998</td>\n      <td>0.707031</td>\n      <td>-0.707031</td>\n      <td>0.650391</td>\n      <td>-0.759766</td>\n    </tr>\n    <tr>\n      <th>1</th>\n      <td>0.012344</td>\n      <td>-0.327881</td>\n      <td>0.329834</td>\n      <td>-0.543945</td>\n      <td>-0.122070</td>\n      <td>-0.512695</td>\n      <td>-0.249146</td>\n      <td>0.000000</td>\n      <td>-1.000000</td>\n      <td>0.280273</td>\n      <td>0.959961</td>\n    </tr>\n    <tr>\n      <th>2</th>\n      <td>0.005402</td>\n      <td>0.899902</td>\n      <td>0.107666</td>\n      <td>0.445557</td>\n      <td>1.446289</td>\n      <td>0.415283</td>\n      <td>1.588867</td>\n      <td>-1.000000</td>\n      <td>-0.000000</td>\n      <td>-0.689941</td>\n      <td>-0.723633</td>\n    </tr>\n    <tr>\n      <th>3</th>\n      <td>0.023926</td>\n      <td>0.033325</td>\n      <td>-0.843750</td>\n      <td>-1.445312</td>\n      <td>-0.211426</td>\n      <td>-1.453125</td>\n      <td>-0.103638</td>\n      <td>-0.707031</td>\n      <td>-0.707031</td>\n      <td>0.617188</td>\n      <td>0.787109</td>\n    </tr>\n    <tr>\n      <th>4</th>\n      <td>0.023148</td>\n      <td>0.588867</td>\n      <td>-0.013885</td>\n      <td>-0.540039</td>\n      <td>0.079895</td>\n      <td>-0.569824</td>\n      <td>0.047821</td>\n      <td>-1.000000</td>\n      <td>-0.000000</td>\n      <td>0.980469</td>\n      <td>-0.196655</td>\n    </tr>\n  </tbody>\n</table>\n</div>"
     },
     "execution_count": 22,
     "metadata": {},
     "output_type": "execute_result"
    }
   ],
   "source": [
    "CYCLIC_TIME = True\n",
    "\n",
    "df[\"day %\"] *= np.pi * 2\n",
    "df[\"year %\"] *= np.pi * 2\n",
    "\n",
    "df[\"sin_day\"] = np.sin(df[\"day %\"]).astype(\"float16\")\n",
    "df[\"cos_day\"] = np.cos(df[\"day %\"]).astype(\"float16\")\n",
    "df[\"sin_year\"] = np.sin(df[\"year %\"]).astype(\"float16\")\n",
    "df[\"cos_year\"] = np.cos(df[\"year %\"]).astype(\"float16\")\n",
    "\n",
    "del df[\"day %\"]\n",
    "del df[\"year %\"]\n",
    "\n",
    "df.head()\n"
   ],
   "metadata": {
    "collapsed": false
   }
  },
  {
   "cell_type": "code",
   "execution_count": 19,
   "outputs": [
    {
     "ename": "NameError",
     "evalue": "name 'load_variable_at_time_and_level' is not defined",
     "output_type": "error",
     "traceback": [
      "\u001B[0;31m---------------------------------------------------------------------------\u001B[0m",
      "\u001B[0;31mNameError\u001B[0m                                 Traceback (most recent call last)",
      "Cell \u001B[0;32mIn[19], line 3\u001B[0m\n\u001B[1;32m      1\u001B[0m GEOGRAPHICAL \u001B[38;5;241m=\u001B[39m \u001B[38;5;28;01mTrue\u001B[39;00m\n\u001B[0;32m----> 3\u001B[0m frland \u001B[38;5;241m=\u001B[39m \u001B[43mload_variable_at_time_and_level\u001B[49m(\u001B[38;5;124m\"\u001B[39m\u001B[38;5;124mMERRA2_101.const_2d_asm_Nx.00000000.nc4\u001B[39m\u001B[38;5;124m\"\u001B[39m, variable\u001B[38;5;241m=\u001B[39m\u001B[38;5;124m\"\u001B[39m\u001B[38;5;124mFRLAND\u001B[39m\u001B[38;5;124m\"\u001B[39m,\n\u001B[1;32m      4\u001B[0m                                          time\u001B[38;5;241m=\u001B[39m\u001B[38;5;241m0\u001B[39m, level\u001B[38;5;241m=\u001B[39m\u001B[38;5;241m0\u001B[39m, folder\u001B[38;5;241m=\u001B[39m\u001B[38;5;124m\"\u001B[39m\u001B[38;5;124m..\u001B[39m\u001B[38;5;124m\"\u001B[39m)\u001B[38;5;241m.\u001B[39mastype(\u001B[38;5;124m\"\u001B[39m\u001B[38;5;124mfloat16\u001B[39m\u001B[38;5;124m\"\u001B[39m)\n\u001B[1;32m      5\u001B[0m frocean \u001B[38;5;241m=\u001B[39m load_variable_at_time_and_level(\u001B[38;5;124m\"\u001B[39m\u001B[38;5;124mMERRA2_101.const_2d_asm_Nx.00000000.nc4\u001B[39m\u001B[38;5;124m\"\u001B[39m, variable\u001B[38;5;241m=\u001B[39m\u001B[38;5;124m\"\u001B[39m\u001B[38;5;124mFROCEAN\u001B[39m\u001B[38;5;124m\"\u001B[39m,\n\u001B[1;32m      6\u001B[0m                                           time\u001B[38;5;241m=\u001B[39m\u001B[38;5;241m0\u001B[39m, level\u001B[38;5;241m=\u001B[39m\u001B[38;5;241m0\u001B[39m, folder\u001B[38;5;241m=\u001B[39m\u001B[38;5;124m\"\u001B[39m\u001B[38;5;124m..\u001B[39m\u001B[38;5;124m\"\u001B[39m)\u001B[38;5;241m.\u001B[39mastype(\u001B[38;5;124m\"\u001B[39m\u001B[38;5;124mfloat16\u001B[39m\u001B[38;5;124m\"\u001B[39m)\n\u001B[1;32m      7\u001B[0m frlake \u001B[38;5;241m=\u001B[39m load_variable_at_time_and_level(\u001B[38;5;124m\"\u001B[39m\u001B[38;5;124mMERRA2_101.const_2d_asm_Nx.00000000.nc4\u001B[39m\u001B[38;5;124m\"\u001B[39m, variable\u001B[38;5;241m=\u001B[39m\u001B[38;5;124m\"\u001B[39m\u001B[38;5;124mFRLAKE\u001B[39m\u001B[38;5;124m\"\u001B[39m,\n\u001B[1;32m      8\u001B[0m                                          time\u001B[38;5;241m=\u001B[39m\u001B[38;5;241m0\u001B[39m, level\u001B[38;5;241m=\u001B[39m\u001B[38;5;241m0\u001B[39m, folder\u001B[38;5;241m=\u001B[39m\u001B[38;5;124m\"\u001B[39m\u001B[38;5;124m..\u001B[39m\u001B[38;5;124m\"\u001B[39m)\u001B[38;5;241m.\u001B[39mastype(\u001B[38;5;124m\"\u001B[39m\u001B[38;5;124mfloat16\u001B[39m\u001B[38;5;124m\"\u001B[39m)\n",
      "\u001B[0;31mNameError\u001B[0m: name 'load_variable_at_time_and_level' is not defined"
     ]
    }
   ],
   "source": [
    "GEOGRAPHICAL = True\n",
    "\n",
    "frland = load_variable_at_time_and_level(\"MERRA2_101.const_2d_asm_Nx.00000000.nc4\", variable=\"FRLAND\",\n",
    "                                         time=0, level=0, folder=\"..\").astype(\"float16\")\n",
    "frocean = load_variable_at_time_and_level(\"MERRA2_101.const_2d_asm_Nx.00000000.nc4\", variable=\"FROCEAN\",\n",
    "                                          time=0, level=0, folder=\"..\").astype(\"float16\")\n",
    "frlake = load_variable_at_time_and_level(\"MERRA2_101.const_2d_asm_Nx.00000000.nc4\", variable=\"FRLAKE\",\n",
    "                                         time=0, level=0, folder=\"..\").astype(\"float16\")\n",
    "frlandice = load_variable_at_time_and_level(\"MERRA2_101.const_2d_asm_Nx.00000000.nc4\", variable=\"FRLANDICE\",\n",
    "                                            time=0, level=0, folder=\"..\").astype(\"float16\")\n",
    "phis = load_variable_at_time_and_level(\"MERRA2_101.const_2d_asm_Nx.00000000.nc4\", variable=\"PHIS\",\n",
    "                                       time=0, level=0, folder=\"..\")\n",
    "sgh = load_variable_at_time_and_level(\"MERRA2_101.const_2d_asm_Nx.00000000.nc4\", variable=\"SGH\",\n",
    "                                      time=0, level=0, folder=\"..\")\n",
    "\n",
    "phis -= phis.mean()\n",
    "phis /= phis.std()\n",
    "phis = phis.astype(\"float16\")\n",
    "\n",
    "sgh -= sgh.mean()\n",
    "sgh /= sgh.std()\n",
    "sgh = sgh.astype(\"float16\")\n",
    "\n",
    "indices = data[[\"lat\", \"lon\"]].values.T\n",
    "indices = tuple()\n",
    "\n",
    "df[\"frland\"] = frland[indices]\n",
    "df[\"frocean\"] = frocean[indices]\n",
    "df[\"frlake\"] = frlake[indices]\n",
    "df[\"frlandice\"] = frlandice[indices]\n",
    "df[\"phis\"] = phis[indices]\n",
    "df[\"sgh\"] = sgh[indices]\n",
    "\n",
    "df.head()\n"
   ],
   "metadata": {
    "collapsed": false
   }
  },
  {
   "cell_type": "code",
   "execution_count": 31,
   "outputs": [
    {
     "data": {
      "text/plain": "lev          float16\nlat          float16\nlon          float16\nU_est        float16\nV_est        float16\nU            float16\nV            float16\nsin_day      float16\ncos_day      float16\nsin_year     float16\ncos_year     float16\nfrland       float16\nfrocean      float16\nfrlake       float16\nfrlandice    float16\nphis         float16\nsgh          float16\ndtype: object"
     },
     "execution_count": 31,
     "metadata": {},
     "output_type": "execute_result"
    }
   ],
   "source": [
    "df.dtypes"
   ],
   "metadata": {
    "collapsed": false
   }
  },
  {
   "cell_type": "code",
   "execution_count": 32,
   "outputs": [],
   "source": [
    "# N - normalized\n",
    "# G - geographical features\n",
    "# CT - cyclic time\n",
    "\n",
    "df.to_feather(f\"UV-NGCT-{estimate_quantile}-{n}.ft\")"
   ],
   "metadata": {
    "collapsed": false
   }
  },
  {
   "cell_type": "code",
   "execution_count": 33,
   "outputs": [
    {
     "data": {
      "text/plain": "                lev           lat           lon         U_est         V_est  \\\ncount  1.000000e+08  1.000000e+08  1.000000e+08  1.000000e+08  1.000000e+08   \nmean   1.350356e-02 -2.788276e-05 -1.729555e-03 -8.698047e-05 -1.218313e-04   \nstd    8.015768e-03  5.789430e-01  5.773962e-01  9.994370e-01  9.930584e-01   \nmin    0.000000e+00 -1.000000e+00 -1.000000e+00 -5.382812e+00 -8.187500e+00   \n25%    6.942749e-03 -5.000000e-01 -5.034180e-01 -6.630859e-01 -5.639648e-01   \n50%    1.388550e-02  0.000000e+00 -3.471375e-03 -2.152100e-01 -1.185608e-02   \n75%    2.082825e-02  5.000000e-01  5.000000e-01  4.860840e-01  5.483398e-01   \nmax    2.700806e-02  1.000000e+00  9.965820e-01  7.992188e+00  8.617188e+00   \n\n                  U             V       sin_day       cos_day      sin_year  \\\ncount  1.000000e+08  1.000000e+08  1.000000e+08  1.000000e+08  1.000000e+08   \nmean  -8.481942e-05 -1.336878e-04  9.476574e-05  4.270496e-05  4.427868e-05   \nstd    1.000275e+00  9.997646e-01  7.070808e-01  7.070572e-01  7.071519e-01   \nmin   -5.367188e+00 -8.281250e+00 -1.000000e+00 -1.000000e+00 -1.000000e+00   \n25%   -6.630859e-01 -5.683594e-01 -7.070312e-01 -7.070312e-01 -7.070312e-01   \n50%   -2.144775e-01 -1.174164e-02  0.000000e+00 -0.000000e+00  0.000000e+00   \n75%    4.868164e-01  5.527344e-01  7.070312e-01  7.070312e-01  7.070312e-01   \nmax    8.031250e+00  8.679688e+00  1.000000e+00  1.000000e+00  1.000000e+00   \n\n           cos_year        frland       frocean        frlake     frlandice  \\\ncount  1.000000e+08  1.000000e+08  1.000000e+08  1.000000e+08  1.000000e+08   \nmean  -2.518046e-05  2.208237e-01  6.578948e-01  4.558672e-03  1.167235e-01   \nstd    7.070696e-01  3.984058e-01  4.615981e-01  2.931167e-02  3.150467e-01   \nmin   -1.000000e+00  0.000000e+00  0.000000e+00  0.000000e+00  0.000000e+00   \n25%   -7.070312e-01  0.000000e+00  0.000000e+00  0.000000e+00  0.000000e+00   \n50%   -0.000000e+00  0.000000e+00  1.000000e+00  0.000000e+00  0.000000e+00   \n75%    7.070312e-01  9.777832e-02  1.000000e+00  0.000000e+00  0.000000e+00   \nmax    1.000000e+00  1.000000e+00  1.000000e+00  1.000000e+00  1.000000e+00   \n\n               phis           sgh  \ncount  1.000000e+08  1.000000e+08  \nmean  -6.161448e-05  5.997979e-05  \nstd    9.998299e-01  1.000197e+00  \nmin   -5.087891e-01 -3.937988e-01  \n25%   -4.477539e-01 -3.937988e-01  \n50%   -4.477539e-01 -3.937988e-01  \n75%   -1.679688e-01 -1.479492e-01  \nmax    6.078125e+00  1.228906e+01  ",
      "text/html": "<div>\n<style scoped>\n    .dataframe tbody tr th:only-of-type {\n        vertical-align: middle;\n    }\n\n    .dataframe tbody tr th {\n        vertical-align: top;\n    }\n\n    .dataframe thead th {\n        text-align: right;\n    }\n</style>\n<table border=\"1\" class=\"dataframe\">\n  <thead>\n    <tr style=\"text-align: right;\">\n      <th></th>\n      <th>lev</th>\n      <th>lat</th>\n      <th>lon</th>\n      <th>U_est</th>\n      <th>V_est</th>\n      <th>U</th>\n      <th>V</th>\n      <th>sin_day</th>\n      <th>cos_day</th>\n      <th>sin_year</th>\n      <th>cos_year</th>\n      <th>frland</th>\n      <th>frocean</th>\n      <th>frlake</th>\n      <th>frlandice</th>\n      <th>phis</th>\n      <th>sgh</th>\n    </tr>\n  </thead>\n  <tbody>\n    <tr>\n      <th>count</th>\n      <td>1.000000e+08</td>\n      <td>1.000000e+08</td>\n      <td>1.000000e+08</td>\n      <td>1.000000e+08</td>\n      <td>1.000000e+08</td>\n      <td>1.000000e+08</td>\n      <td>1.000000e+08</td>\n      <td>1.000000e+08</td>\n      <td>1.000000e+08</td>\n      <td>1.000000e+08</td>\n      <td>1.000000e+08</td>\n      <td>1.000000e+08</td>\n      <td>1.000000e+08</td>\n      <td>1.000000e+08</td>\n      <td>1.000000e+08</td>\n      <td>1.000000e+08</td>\n      <td>1.000000e+08</td>\n    </tr>\n    <tr>\n      <th>mean</th>\n      <td>1.350356e-02</td>\n      <td>-2.788276e-05</td>\n      <td>-1.729555e-03</td>\n      <td>-8.698047e-05</td>\n      <td>-1.218313e-04</td>\n      <td>-8.481942e-05</td>\n      <td>-1.336878e-04</td>\n      <td>9.476574e-05</td>\n      <td>4.270496e-05</td>\n      <td>4.427868e-05</td>\n      <td>-2.518046e-05</td>\n      <td>2.208237e-01</td>\n      <td>6.578948e-01</td>\n      <td>4.558672e-03</td>\n      <td>1.167235e-01</td>\n      <td>-6.161448e-05</td>\n      <td>5.997979e-05</td>\n    </tr>\n    <tr>\n      <th>std</th>\n      <td>8.015768e-03</td>\n      <td>5.789430e-01</td>\n      <td>5.773962e-01</td>\n      <td>9.994370e-01</td>\n      <td>9.930584e-01</td>\n      <td>1.000275e+00</td>\n      <td>9.997646e-01</td>\n      <td>7.070808e-01</td>\n      <td>7.070572e-01</td>\n      <td>7.071519e-01</td>\n      <td>7.070696e-01</td>\n      <td>3.984058e-01</td>\n      <td>4.615981e-01</td>\n      <td>2.931167e-02</td>\n      <td>3.150467e-01</td>\n      <td>9.998299e-01</td>\n      <td>1.000197e+00</td>\n    </tr>\n    <tr>\n      <th>min</th>\n      <td>0.000000e+00</td>\n      <td>-1.000000e+00</td>\n      <td>-1.000000e+00</td>\n      <td>-5.382812e+00</td>\n      <td>-8.187500e+00</td>\n      <td>-5.367188e+00</td>\n      <td>-8.281250e+00</td>\n      <td>-1.000000e+00</td>\n      <td>-1.000000e+00</td>\n      <td>-1.000000e+00</td>\n      <td>-1.000000e+00</td>\n      <td>0.000000e+00</td>\n      <td>0.000000e+00</td>\n      <td>0.000000e+00</td>\n      <td>0.000000e+00</td>\n      <td>-5.087891e-01</td>\n      <td>-3.937988e-01</td>\n    </tr>\n    <tr>\n      <th>25%</th>\n      <td>6.942749e-03</td>\n      <td>-5.000000e-01</td>\n      <td>-5.034180e-01</td>\n      <td>-6.630859e-01</td>\n      <td>-5.639648e-01</td>\n      <td>-6.630859e-01</td>\n      <td>-5.683594e-01</td>\n      <td>-7.070312e-01</td>\n      <td>-7.070312e-01</td>\n      <td>-7.070312e-01</td>\n      <td>-7.070312e-01</td>\n      <td>0.000000e+00</td>\n      <td>0.000000e+00</td>\n      <td>0.000000e+00</td>\n      <td>0.000000e+00</td>\n      <td>-4.477539e-01</td>\n      <td>-3.937988e-01</td>\n    </tr>\n    <tr>\n      <th>50%</th>\n      <td>1.388550e-02</td>\n      <td>0.000000e+00</td>\n      <td>-3.471375e-03</td>\n      <td>-2.152100e-01</td>\n      <td>-1.185608e-02</td>\n      <td>-2.144775e-01</td>\n      <td>-1.174164e-02</td>\n      <td>0.000000e+00</td>\n      <td>-0.000000e+00</td>\n      <td>0.000000e+00</td>\n      <td>-0.000000e+00</td>\n      <td>0.000000e+00</td>\n      <td>1.000000e+00</td>\n      <td>0.000000e+00</td>\n      <td>0.000000e+00</td>\n      <td>-4.477539e-01</td>\n      <td>-3.937988e-01</td>\n    </tr>\n    <tr>\n      <th>75%</th>\n      <td>2.082825e-02</td>\n      <td>5.000000e-01</td>\n      <td>5.000000e-01</td>\n      <td>4.860840e-01</td>\n      <td>5.483398e-01</td>\n      <td>4.868164e-01</td>\n      <td>5.527344e-01</td>\n      <td>7.070312e-01</td>\n      <td>7.070312e-01</td>\n      <td>7.070312e-01</td>\n      <td>7.070312e-01</td>\n      <td>9.777832e-02</td>\n      <td>1.000000e+00</td>\n      <td>0.000000e+00</td>\n      <td>0.000000e+00</td>\n      <td>-1.679688e-01</td>\n      <td>-1.479492e-01</td>\n    </tr>\n    <tr>\n      <th>max</th>\n      <td>2.700806e-02</td>\n      <td>1.000000e+00</td>\n      <td>9.965820e-01</td>\n      <td>7.992188e+00</td>\n      <td>8.617188e+00</td>\n      <td>8.031250e+00</td>\n      <td>8.679688e+00</td>\n      <td>1.000000e+00</td>\n      <td>1.000000e+00</td>\n      <td>1.000000e+00</td>\n      <td>1.000000e+00</td>\n      <td>1.000000e+00</td>\n      <td>1.000000e+00</td>\n      <td>1.000000e+00</td>\n      <td>1.000000e+00</td>\n      <td>6.078125e+00</td>\n      <td>1.228906e+01</td>\n    </tr>\n  </tbody>\n</table>\n</div>"
     },
     "execution_count": 33,
     "metadata": {},
     "output_type": "execute_result"
    }
   ],
   "source": [
    "df.astype(\"float32\").describe()\n"
   ],
   "metadata": {
    "collapsed": false
   }
  }
 ],
 "metadata": {
  "kernelspec": {
   "display_name": "Python 3",
   "language": "python",
   "name": "python3"
  },
  "language_info": {
   "codemirror_mode": {
    "name": "ipython",
    "version": 2
   },
   "file_extension": ".py",
   "mimetype": "text/x-python",
   "name": "python",
   "nbconvert_exporter": "python",
   "pygments_lexer": "ipython2",
   "version": "2.7.6"
  }
 },
 "nbformat": 4,
 "nbformat_minor": 0
}

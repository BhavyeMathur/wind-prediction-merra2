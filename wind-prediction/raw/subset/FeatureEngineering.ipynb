{
 "cells": [
  {
   "cell_type": "code",
   "execution_count": 1,
   "metadata": {
    "collapsed": true
   },
   "outputs": [],
   "source": [
    "import sys\n",
    "\n",
    "sys.path.append(\"../..\")\n",
    "\n",
    "from plot import *"
   ]
  },
  {
   "cell_type": "code",
   "execution_count": 2,
   "outputs": [],
   "source": [
    "n = 100000000\n",
    "estimate_quantile = 0.9935\n",
    "\n",
    "means = {\"U\": 5.589, \"V\": 0.018}\n",
    "stds = {\"U\": 9.832, \"V\": 3.232}\n"
   ],
   "metadata": {
    "collapsed": false
   }
  },
  {
   "cell_type": "code",
   "execution_count": 3,
   "outputs": [
    {
     "data": {
      "text/plain": "   time  lev  lat  lon     U_est     V_est         U         V\n0  1131   24  156  542 -5.492188 -1.463867 -5.203125 -1.026367\n1   132   16  121  383  0.241455 -0.376465  0.551758 -0.787109\n2  1814    7  342  319  9.968750  4.695312  9.671875  5.156250\n3   309   31  186   45 -8.609375 -0.665527 -8.687500 -0.316895\n4   822   30  286  284  0.281006  0.276367 -0.011658  0.172607",
      "text/html": "<div>\n<style scoped>\n    .dataframe tbody tr th:only-of-type {\n        vertical-align: middle;\n    }\n\n    .dataframe tbody tr th {\n        vertical-align: top;\n    }\n\n    .dataframe thead th {\n        text-align: right;\n    }\n</style>\n<table border=\"1\" class=\"dataframe\">\n  <thead>\n    <tr style=\"text-align: right;\">\n      <th></th>\n      <th>time</th>\n      <th>lev</th>\n      <th>lat</th>\n      <th>lon</th>\n      <th>U_est</th>\n      <th>V_est</th>\n      <th>U</th>\n      <th>V</th>\n    </tr>\n  </thead>\n  <tbody>\n    <tr>\n      <th>0</th>\n      <td>1131</td>\n      <td>24</td>\n      <td>156</td>\n      <td>542</td>\n      <td>-5.492188</td>\n      <td>-1.463867</td>\n      <td>-5.203125</td>\n      <td>-1.026367</td>\n    </tr>\n    <tr>\n      <th>1</th>\n      <td>132</td>\n      <td>16</td>\n      <td>121</td>\n      <td>383</td>\n      <td>0.241455</td>\n      <td>-0.376465</td>\n      <td>0.551758</td>\n      <td>-0.787109</td>\n    </tr>\n    <tr>\n      <th>2</th>\n      <td>1814</td>\n      <td>7</td>\n      <td>342</td>\n      <td>319</td>\n      <td>9.968750</td>\n      <td>4.695312</td>\n      <td>9.671875</td>\n      <td>5.156250</td>\n    </tr>\n    <tr>\n      <th>3</th>\n      <td>309</td>\n      <td>31</td>\n      <td>186</td>\n      <td>45</td>\n      <td>-8.609375</td>\n      <td>-0.665527</td>\n      <td>-8.687500</td>\n      <td>-0.316895</td>\n    </tr>\n    <tr>\n      <th>4</th>\n      <td>822</td>\n      <td>30</td>\n      <td>286</td>\n      <td>284</td>\n      <td>0.281006</td>\n      <td>0.276367</td>\n      <td>-0.011658</td>\n      <td>0.172607</td>\n    </tr>\n  </tbody>\n</table>\n</div>"
     },
     "execution_count": 3,
     "metadata": {},
     "output_type": "execute_result"
    }
   ],
   "source": [
    "data = pd.read_feather(f\"UV-{estimate_quantile}-{n}.ft\")\n",
    "df = data.copy()\n",
    "data.head()\n"
   ],
   "metadata": {
    "collapsed": false
   }
  },
  {
   "cell_type": "code",
   "execution_count": 13,
   "outputs": [
    {
     "data": {
      "text/plain": "   time       lev       lat       lon     U_est     V_est         U         V\n0  1131  0.018524 -0.133301  0.881836 -5.492188 -1.463867 -5.203125 -1.026367\n1   132  0.012344 -0.327881  0.329834  0.241455 -0.376465  0.551758 -0.787109\n2  1814  0.005402  0.899902  0.107666  9.968750  4.695312  9.671875  5.156250\n3   309  0.023926  0.033325 -0.843750 -8.609375 -0.665527 -8.687500 -0.316895\n4   822  0.023148  0.588867 -0.013885  0.281006  0.276367 -0.011658  0.172607",
      "text/html": "<div>\n<style scoped>\n    .dataframe tbody tr th:only-of-type {\n        vertical-align: middle;\n    }\n\n    .dataframe tbody tr th {\n        vertical-align: top;\n    }\n\n    .dataframe thead th {\n        text-align: right;\n    }\n</style>\n<table border=\"1\" class=\"dataframe\">\n  <thead>\n    <tr style=\"text-align: right;\">\n      <th></th>\n      <th>time</th>\n      <th>lev</th>\n      <th>lat</th>\n      <th>lon</th>\n      <th>U_est</th>\n      <th>V_est</th>\n      <th>U</th>\n      <th>V</th>\n    </tr>\n  </thead>\n  <tbody>\n    <tr>\n      <th>0</th>\n      <td>1131</td>\n      <td>0.018524</td>\n      <td>-0.133301</td>\n      <td>0.881836</td>\n      <td>-5.492188</td>\n      <td>-1.463867</td>\n      <td>-5.203125</td>\n      <td>-1.026367</td>\n    </tr>\n    <tr>\n      <th>1</th>\n      <td>132</td>\n      <td>0.012344</td>\n      <td>-0.327881</td>\n      <td>0.329834</td>\n      <td>0.241455</td>\n      <td>-0.376465</td>\n      <td>0.551758</td>\n      <td>-0.787109</td>\n    </tr>\n    <tr>\n      <th>2</th>\n      <td>1814</td>\n      <td>0.005402</td>\n      <td>0.899902</td>\n      <td>0.107666</td>\n      <td>9.968750</td>\n      <td>4.695312</td>\n      <td>9.671875</td>\n      <td>5.156250</td>\n    </tr>\n    <tr>\n      <th>3</th>\n      <td>309</td>\n      <td>0.023926</td>\n      <td>0.033325</td>\n      <td>-0.843750</td>\n      <td>-8.609375</td>\n      <td>-0.665527</td>\n      <td>-8.687500</td>\n      <td>-0.316895</td>\n    </tr>\n    <tr>\n      <th>4</th>\n      <td>822</td>\n      <td>0.023148</td>\n      <td>0.588867</td>\n      <td>-0.013885</td>\n      <td>0.281006</td>\n      <td>0.276367</td>\n      <td>-0.011658</td>\n      <td>0.172607</td>\n    </tr>\n  </tbody>\n</table>\n</div>"
     },
     "execution_count": 13,
     "metadata": {},
     "output_type": "execute_result"
    }
   ],
   "source": [
    "df[\"lat\"] = (data[\"lat\"] * 0.5) - 90\n",
    "df[\"lat\"] /= 90\n",
    "df[\"lon\"] = (data[\"lon\"] * 0.625) - 180\n",
    "df[\"lon\"] /= 180\n",
    "df[\"lev\"] /= 36\n",
    "\n",
    "df[\"lev\"] = df[\"lev\"].astype(\"float16\")\n",
    "df[\"lat\"] = df[\"lat\"].astype(\"float16\")\n",
    "df[\"lon\"] = df[\"lon\"].astype(\"float16\")\n",
    "\n",
    "df.head()\n"
   ],
   "metadata": {
    "collapsed": false
   }
  },
  {
   "cell_type": "code",
   "execution_count": 15,
   "outputs": [
    {
     "data": {
      "text/plain": "   time       lev       lat       lon     U_est     V_est         U         V\n0  1131  0.018524 -0.133301  0.881836 -1.126953 -0.458252 -1.098633 -0.322998\n1   132  0.012344 -0.327881  0.329834 -0.543945 -0.122070 -0.512695 -0.249146\n2  1814  0.005402  0.899902  0.107666  0.445557  1.446289  0.415283  1.588867\n3   309  0.023926  0.033325 -0.843750 -1.445312 -0.211426 -1.453125 -0.103638\n4   822  0.023148  0.588867 -0.013885 -0.540039  0.079895 -0.569824  0.047821",
      "text/html": "<div>\n<style scoped>\n    .dataframe tbody tr th:only-of-type {\n        vertical-align: middle;\n    }\n\n    .dataframe tbody tr th {\n        vertical-align: top;\n    }\n\n    .dataframe thead th {\n        text-align: right;\n    }\n</style>\n<table border=\"1\" class=\"dataframe\">\n  <thead>\n    <tr style=\"text-align: right;\">\n      <th></th>\n      <th>time</th>\n      <th>lev</th>\n      <th>lat</th>\n      <th>lon</th>\n      <th>U_est</th>\n      <th>V_est</th>\n      <th>U</th>\n      <th>V</th>\n    </tr>\n  </thead>\n  <tbody>\n    <tr>\n      <th>0</th>\n      <td>1131</td>\n      <td>0.018524</td>\n      <td>-0.133301</td>\n      <td>0.881836</td>\n      <td>-1.126953</td>\n      <td>-0.458252</td>\n      <td>-1.098633</td>\n      <td>-0.322998</td>\n    </tr>\n    <tr>\n      <th>1</th>\n      <td>132</td>\n      <td>0.012344</td>\n      <td>-0.327881</td>\n      <td>0.329834</td>\n      <td>-0.543945</td>\n      <td>-0.122070</td>\n      <td>-0.512695</td>\n      <td>-0.249146</td>\n    </tr>\n    <tr>\n      <th>2</th>\n      <td>1814</td>\n      <td>0.005402</td>\n      <td>0.899902</td>\n      <td>0.107666</td>\n      <td>0.445557</td>\n      <td>1.446289</td>\n      <td>0.415283</td>\n      <td>1.588867</td>\n    </tr>\n    <tr>\n      <th>3</th>\n      <td>309</td>\n      <td>0.023926</td>\n      <td>0.033325</td>\n      <td>-0.843750</td>\n      <td>-1.445312</td>\n      <td>-0.211426</td>\n      <td>-1.453125</td>\n      <td>-0.103638</td>\n    </tr>\n    <tr>\n      <th>4</th>\n      <td>822</td>\n      <td>0.023148</td>\n      <td>0.588867</td>\n      <td>-0.013885</td>\n      <td>-0.540039</td>\n      <td>0.079895</td>\n      <td>-0.569824</td>\n      <td>0.047821</td>\n    </tr>\n  </tbody>\n</table>\n</div>"
     },
     "execution_count": 15,
     "metadata": {},
     "output_type": "execute_result"
    }
   ],
   "source": [
    "df[\"U\"] -= means[\"U\"]\n",
    "df[\"U\"] /= stds[\"U\"]\n",
    "\n",
    "df[\"V\"] -= means[\"V\"]\n",
    "df[\"V\"] /= stds[\"V\"]\n",
    "\n",
    "df[\"U_est\"] -= means[\"U\"]\n",
    "df[\"U_est\"] /= stds[\"U\"]\n",
    "\n",
    "df[\"V_est\"] -= means[\"V\"]\n",
    "df[\"V_est\"] /= stds[\"V\"]\n",
    "\n",
    "df.head()\n"
   ],
   "metadata": {
    "collapsed": false
   }
  },
  {
   "cell_type": "code",
   "execution_count": 22,
   "outputs": [
    {
     "data": {
      "text/plain": "        lev       lat       lon     U_est     V_est         U         V  \\\n0  0.018524 -0.133301  0.881836 -1.126953 -0.458252 -1.098633 -0.322998   \n1  0.012344 -0.327881  0.329834 -0.543945 -0.122070 -0.512695 -0.249146   \n2  0.005402  0.899902  0.107666  0.445557  1.446289  0.415283  1.588867   \n3  0.023926  0.033325 -0.843750 -1.445312 -0.211426 -1.453125 -0.103638   \n4  0.023148  0.588867 -0.013885 -0.540039  0.079895 -0.569824  0.047821   \n\n    sin_day   cos_day  sin_year  cos_year  \n0  0.707031 -0.707031  0.650391 -0.759766  \n1  0.000000 -1.000000  0.280273  0.959961  \n2 -1.000000 -0.000000 -0.689941 -0.723633  \n3 -0.707031 -0.707031  0.617188  0.787109  \n4 -1.000000 -0.000000  0.980469 -0.196655  ",
      "text/html": "<div>\n<style scoped>\n    .dataframe tbody tr th:only-of-type {\n        vertical-align: middle;\n    }\n\n    .dataframe tbody tr th {\n        vertical-align: top;\n    }\n\n    .dataframe thead th {\n        text-align: right;\n    }\n</style>\n<table border=\"1\" class=\"dataframe\">\n  <thead>\n    <tr style=\"text-align: right;\">\n      <th></th>\n      <th>lev</th>\n      <th>lat</th>\n      <th>lon</th>\n      <th>U_est</th>\n      <th>V_est</th>\n      <th>U</th>\n      <th>V</th>\n      <th>sin_day</th>\n      <th>cos_day</th>\n      <th>sin_year</th>\n      <th>cos_year</th>\n    </tr>\n  </thead>\n  <tbody>\n    <tr>\n      <th>0</th>\n      <td>0.018524</td>\n      <td>-0.133301</td>\n      <td>0.881836</td>\n      <td>-1.126953</td>\n      <td>-0.458252</td>\n      <td>-1.098633</td>\n      <td>-0.322998</td>\n      <td>0.707031</td>\n      <td>-0.707031</td>\n      <td>0.650391</td>\n      <td>-0.759766</td>\n    </tr>\n    <tr>\n      <th>1</th>\n      <td>0.012344</td>\n      <td>-0.327881</td>\n      <td>0.329834</td>\n      <td>-0.543945</td>\n      <td>-0.122070</td>\n      <td>-0.512695</td>\n      <td>-0.249146</td>\n      <td>0.000000</td>\n      <td>-1.000000</td>\n      <td>0.280273</td>\n      <td>0.959961</td>\n    </tr>\n    <tr>\n      <th>2</th>\n      <td>0.005402</td>\n      <td>0.899902</td>\n      <td>0.107666</td>\n      <td>0.445557</td>\n      <td>1.446289</td>\n      <td>0.415283</td>\n      <td>1.588867</td>\n      <td>-1.000000</td>\n      <td>-0.000000</td>\n      <td>-0.689941</td>\n      <td>-0.723633</td>\n    </tr>\n    <tr>\n      <th>3</th>\n      <td>0.023926</td>\n      <td>0.033325</td>\n      <td>-0.843750</td>\n      <td>-1.445312</td>\n      <td>-0.211426</td>\n      <td>-1.453125</td>\n      <td>-0.103638</td>\n      <td>-0.707031</td>\n      <td>-0.707031</td>\n      <td>0.617188</td>\n      <td>0.787109</td>\n    </tr>\n    <tr>\n      <th>4</th>\n      <td>0.023148</td>\n      <td>0.588867</td>\n      <td>-0.013885</td>\n      <td>-0.540039</td>\n      <td>0.079895</td>\n      <td>-0.569824</td>\n      <td>0.047821</td>\n      <td>-1.000000</td>\n      <td>-0.000000</td>\n      <td>0.980469</td>\n      <td>-0.196655</td>\n    </tr>\n  </tbody>\n</table>\n</div>"
     },
     "execution_count": 22,
     "metadata": {},
     "output_type": "execute_result"
    }
   ],
   "source": [
    "df[\"day %\"] = (data[\"time\"] % 8) / 8\n",
    "df[\"year %\"] = data[\"time\"] / 2920\n",
    "\n",
    "df[\"day %\"] *= np.pi * 2\n",
    "df[\"year %\"] *= np.pi * 2\n",
    "\n",
    "df[\"sin_day\"] = np.sin(df[\"day %\"]).astype(\"float16\")\n",
    "df[\"cos_day\"] = np.cos(df[\"day %\"]).astype(\"float16\")\n",
    "df[\"sin_year\"] = np.sin(df[\"year %\"]).astype(\"float16\")\n",
    "df[\"cos_year\"] = np.cos(df[\"year %\"]).astype(\"float16\")\n",
    "\n",
    "del df[\"time\"]\n",
    "del df[\"day %\"]\n",
    "del df[\"year %\"]\n",
    "\n",
    "df.head()\n"
   ],
   "metadata": {
    "collapsed": false
   }
  },
  {
   "cell_type": "code",
   "execution_count": 30,
   "outputs": [
    {
     "data": {
      "text/plain": "        lev       lat       lon     U_est     V_est         U         V  \\\n0  0.018524 -0.133301  0.881836 -1.126953 -0.458252 -1.098633 -0.322998   \n1  0.012344 -0.327881  0.329834 -0.543945 -0.122070 -0.512695 -0.249146   \n2  0.005402  0.899902  0.107666  0.445557  1.446289  0.415283  1.588867   \n3  0.023926  0.033325 -0.843750 -1.445312 -0.211426 -1.453125 -0.103638   \n4  0.023148  0.588867 -0.013885 -0.540039  0.079895 -0.569824  0.047821   \n\n    sin_day   cos_day  sin_year  cos_year    frland   frocean    frlake  \\\n0  0.707031 -0.707031  0.650391 -0.759766  0.000000  1.000000  0.000000   \n1  0.000000 -1.000000  0.280273  0.959961  0.000000  1.000000  0.000000   \n2 -1.000000 -0.000000 -0.689941 -0.723633  0.005371  0.987793  0.000366   \n3 -0.707031 -0.707031  0.617188  0.787109  0.000000  1.000000  0.000000   \n4 -1.000000 -0.000000  0.980469 -0.196655  0.980469  0.018158  0.001513   \n\n   frlandice      phis       sgh  \n0   0.000000 -0.447754 -0.393799  \n1   0.000000 -0.447754 -0.393799  \n2   0.006531 -0.446533 -0.332031  \n3   0.000000 -0.447754 -0.393799  \n4   0.000000 -0.291992  0.514160  ",
      "text/html": "<div>\n<style scoped>\n    .dataframe tbody tr th:only-of-type {\n        vertical-align: middle;\n    }\n\n    .dataframe tbody tr th {\n        vertical-align: top;\n    }\n\n    .dataframe thead th {\n        text-align: right;\n    }\n</style>\n<table border=\"1\" class=\"dataframe\">\n  <thead>\n    <tr style=\"text-align: right;\">\n      <th></th>\n      <th>lev</th>\n      <th>lat</th>\n      <th>lon</th>\n      <th>U_est</th>\n      <th>V_est</th>\n      <th>U</th>\n      <th>V</th>\n      <th>sin_day</th>\n      <th>cos_day</th>\n      <th>sin_year</th>\n      <th>cos_year</th>\n      <th>frland</th>\n      <th>frocean</th>\n      <th>frlake</th>\n      <th>frlandice</th>\n      <th>phis</th>\n      <th>sgh</th>\n    </tr>\n  </thead>\n  <tbody>\n    <tr>\n      <th>0</th>\n      <td>0.018524</td>\n      <td>-0.133301</td>\n      <td>0.881836</td>\n      <td>-1.126953</td>\n      <td>-0.458252</td>\n      <td>-1.098633</td>\n      <td>-0.322998</td>\n      <td>0.707031</td>\n      <td>-0.707031</td>\n      <td>0.650391</td>\n      <td>-0.759766</td>\n      <td>0.000000</td>\n      <td>1.000000</td>\n      <td>0.000000</td>\n      <td>0.000000</td>\n      <td>-0.447754</td>\n      <td>-0.393799</td>\n    </tr>\n    <tr>\n      <th>1</th>\n      <td>0.012344</td>\n      <td>-0.327881</td>\n      <td>0.329834</td>\n      <td>-0.543945</td>\n      <td>-0.122070</td>\n      <td>-0.512695</td>\n      <td>-0.249146</td>\n      <td>0.000000</td>\n      <td>-1.000000</td>\n      <td>0.280273</td>\n      <td>0.959961</td>\n      <td>0.000000</td>\n      <td>1.000000</td>\n      <td>0.000000</td>\n      <td>0.000000</td>\n      <td>-0.447754</td>\n      <td>-0.393799</td>\n    </tr>\n    <tr>\n      <th>2</th>\n      <td>0.005402</td>\n      <td>0.899902</td>\n      <td>0.107666</td>\n      <td>0.445557</td>\n      <td>1.446289</td>\n      <td>0.415283</td>\n      <td>1.588867</td>\n      <td>-1.000000</td>\n      <td>-0.000000</td>\n      <td>-0.689941</td>\n      <td>-0.723633</td>\n      <td>0.005371</td>\n      <td>0.987793</td>\n      <td>0.000366</td>\n      <td>0.006531</td>\n      <td>-0.446533</td>\n      <td>-0.332031</td>\n    </tr>\n    <tr>\n      <th>3</th>\n      <td>0.023926</td>\n      <td>0.033325</td>\n      <td>-0.843750</td>\n      <td>-1.445312</td>\n      <td>-0.211426</td>\n      <td>-1.453125</td>\n      <td>-0.103638</td>\n      <td>-0.707031</td>\n      <td>-0.707031</td>\n      <td>0.617188</td>\n      <td>0.787109</td>\n      <td>0.000000</td>\n      <td>1.000000</td>\n      <td>0.000000</td>\n      <td>0.000000</td>\n      <td>-0.447754</td>\n      <td>-0.393799</td>\n    </tr>\n    <tr>\n      <th>4</th>\n      <td>0.023148</td>\n      <td>0.588867</td>\n      <td>-0.013885</td>\n      <td>-0.540039</td>\n      <td>0.079895</td>\n      <td>-0.569824</td>\n      <td>0.047821</td>\n      <td>-1.000000</td>\n      <td>-0.000000</td>\n      <td>0.980469</td>\n      <td>-0.196655</td>\n      <td>0.980469</td>\n      <td>0.018158</td>\n      <td>0.001513</td>\n      <td>0.000000</td>\n      <td>-0.291992</td>\n      <td>0.514160</td>\n    </tr>\n  </tbody>\n</table>\n</div>"
     },
     "execution_count": 30,
     "metadata": {},
     "output_type": "execute_result"
    }
   ],
   "source": [
    "frland = load_variable_at_time_and_level(\"MERRA2_101.const_2d_asm_Nx.00000000.nc4\", variable=\"FRLAND\",\n",
    "                                         time=0, level=0, folder=\"..\").astype(\"float16\")\n",
    "frocean = load_variable_at_time_and_level(\"MERRA2_101.const_2d_asm_Nx.00000000.nc4\", variable=\"FROCEAN\",\n",
    "                                          time=0, level=0, folder=\"..\").astype(\"float16\")\n",
    "frlake = load_variable_at_time_and_level(\"MERRA2_101.const_2d_asm_Nx.00000000.nc4\", variable=\"FRLAKE\",\n",
    "                                         time=0, level=0, folder=\"..\").astype(\"float16\")\n",
    "frlandice = load_variable_at_time_and_level(\"MERRA2_101.const_2d_asm_Nx.00000000.nc4\", variable=\"FRLANDICE\",\n",
    "                                            time=0, level=0, folder=\"..\").astype(\"float16\")\n",
    "phis = load_variable_at_time_and_level(\"MERRA2_101.const_2d_asm_Nx.00000000.nc4\", variable=\"PHIS\",\n",
    "                                       time=0, level=0, folder=\"..\")\n",
    "sgh = load_variable_at_time_and_level(\"MERRA2_101.const_2d_asm_Nx.00000000.nc4\", variable=\"SGH\",\n",
    "                                      time=0, level=0, folder=\"..\")\n",
    "\n",
    "phis -= phis.mean()\n",
    "phis /= phis.std()\n",
    "phis = phis.astype(\"float16\")\n",
    "\n",
    "sgh -= sgh.mean()\n",
    "sgh /= sgh.std()\n",
    "sgh = sgh.astype(\"float16\")\n",
    "\n",
    "indices = data[[\"lat\", \"lon\"]].values.T\n",
    "\n",
    "df[\"frland\"] = frland[*indices]\n",
    "df[\"frocean\"] = frocean[*indices]\n",
    "df[\"frlake\"] = frlake[*indices]\n",
    "df[\"frlandice\"] = frlandice[*indices]\n",
    "df[\"phis\"] = phis[*indices]\n",
    "df[\"sgh\"] = sgh[*indices]\n",
    "\n",
    "df.head()\n"
   ],
   "metadata": {
    "collapsed": false
   }
  },
  {
   "cell_type": "code",
   "execution_count": 31,
   "outputs": [
    {
     "data": {
      "text/plain": "lev          float16\nlat          float16\nlon          float16\nU_est        float16\nV_est        float16\nU            float16\nV            float16\nsin_day      float16\ncos_day      float16\nsin_year     float16\ncos_year     float16\nfrland       float16\nfrocean      float16\nfrlake       float16\nfrlandice    float16\nphis         float16\nsgh          float16\ndtype: object"
     },
     "execution_count": 31,
     "metadata": {},
     "output_type": "execute_result"
    }
   ],
   "source": [
    "df.dtypes"
   ],
   "metadata": {
    "collapsed": false
   }
  },
  {
   "cell_type": "code",
   "execution_count": 32,
   "outputs": [],
   "source": [
    "# N - normalized\n",
    "# G - geographical features\n",
    "# CT - cyclic time\n",
    "\n",
    "df.to_feather(f\"UV-NGCT-{estimate_quantile}-{n}.ft\")"
   ],
   "metadata": {
    "collapsed": false
   }
  },
  {
   "cell_type": "code",
   "execution_count": null,
   "outputs": [],
   "source": [
    "df.astype(\"float32\").describe()\n"
   ],
   "metadata": {
    "collapsed": false,
    "pycharm": {
     "is_executing": true
    }
   }
  }
 ],
 "metadata": {
  "kernelspec": {
   "display_name": "Python 3",
   "language": "python",
   "name": "python3"
  },
  "language_info": {
   "codemirror_mode": {
    "name": "ipython",
    "version": 2
   },
   "file_extension": ".py",
   "mimetype": "text/x-python",
   "name": "python",
   "nbconvert_exporter": "python",
   "pygments_lexer": "ipython2",
   "version": "2.7.6"
  }
 },
 "nbformat": 4,
 "nbformat_minor": 0
}

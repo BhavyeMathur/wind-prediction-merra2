{
 "cells": [
  {
   "cell_type": "code",
   "execution_count": 157,
   "metadata": {
    "collapsed": true
   },
   "outputs": [
    {
     "ename": "ImportError",
     "evalue": "cannot import name 'mape' from 'maths' (/Users/bhavyemathur/Desktop/Projects/Spherindrical Fourier Transform/MERRA-2/wind-prediction/maths.py)",
     "output_type": "error",
     "traceback": [
      "\u001B[0;31m---------------------------------------------------------------------------\u001B[0m",
      "\u001B[0;31mImportError\u001B[0m                               Traceback (most recent call last)",
      "Cell \u001B[0;32mIn[157], line 3\u001B[0m\n\u001B[1;32m      1\u001B[0m \u001B[38;5;28;01mfrom\u001B[39;00m \u001B[38;5;21;01mplot\u001B[39;00m \u001B[38;5;28;01mimport\u001B[39;00m \u001B[38;5;241m*\u001B[39m\n\u001B[1;32m      2\u001B[0m \u001B[38;5;28;01mfrom\u001B[39;00m \u001B[38;5;21;01mfft\u001B[39;00m \u001B[38;5;28;01mimport\u001B[39;00m \u001B[38;5;241m*\u001B[39m\n\u001B[0;32m----> 3\u001B[0m \u001B[38;5;28;01mfrom\u001B[39;00m \u001B[38;5;21;01mmaths\u001B[39;00m \u001B[38;5;28;01mimport\u001B[39;00m rmse, mae, mape\n",
      "\u001B[0;31mImportError\u001B[0m: cannot import name 'mape' from 'maths' (/Users/bhavyemathur/Desktop/Projects/Spherindrical Fourier Transform/MERRA-2/wind-prediction/maths.py)"
     ]
    }
   ],
   "source": [
    "from plot import *\n",
    "from fft import *\n",
    "from maths import rmse, mae, mape\n"
   ]
  },
  {
   "cell_type": "code",
   "execution_count": 158,
   "outputs": [],
   "source": [
    "def dft3_at_level(data: np.ndarray, level: int, quantile: float = 0.75):\n",
    "    if level in DFT3_LEVEL_CACHE:\n",
    "        fft = DFT3_LEVEL_CACHE[level]\n",
    "    else:\n",
    "        fft = np.fft.rfftn(data)\n",
    "        DFT3_LEVEL_CACHE[level] = fft\n",
    "\n",
    "    amplitudes = np.abs(fft)\n",
    "\n",
    "    fft_real = []\n",
    "    fft_imag = []\n",
    "    fft_i_indices = []\n",
    "    fft_j_indices = []\n",
    "    fft_k_indices = []\n",
    "\n",
    "    cutoff_amp = np.quantile(amplitudes, quantile)\n",
    "\n",
    "    last_i = 0\n",
    "    last_j = 0\n",
    "    last_k = 0\n",
    "\n",
    "    for k in range(289):\n",
    "        for j in range(361):\n",
    "            for i in range(365 * 8):\n",
    "                if amplitudes[i, j, k] < cutoff_amp:\n",
    "                    continue\n",
    "\n",
    "                fft_real.append(fft[i, j, k].real)\n",
    "                fft_imag.append(fft[i, j, k].imag)\n",
    "\n",
    "                while (di := i - last_i) > 253:\n",
    "                    fft_i_indices.append(254)\n",
    "                    last_i += 253\n",
    "\n",
    "                while (dj := j - last_j) > 253:\n",
    "                    fft_j_indices.append(254)\n",
    "                    last_j += 253\n",
    "\n",
    "                while (dk := k - last_k) > 253:\n",
    "                    fft_k_indices.append(254)\n",
    "                    last_k += 253\n",
    "\n",
    "                if di < 0:\n",
    "                    fft_i_indices.append(255)\n",
    "                    last_i = 0\n",
    "                else:\n",
    "                    fft_i_indices.append(di)\n",
    "                    last_i += di\n",
    "\n",
    "                if dj < 0:\n",
    "                    fft_j_indices.append(255)\n",
    "                    last_j = 0\n",
    "                else:\n",
    "                    fft_j_indices.append(dj)\n",
    "                    last_j += dj\n",
    "\n",
    "                if dk < 0:\n",
    "                    fft_k_indices.append(255)\n",
    "                    last_k = 0\n",
    "                else:\n",
    "                    fft_k_indices.append(dk)\n",
    "                    last_k += dk\n",
    "\n",
    "    fft_real = np.array(fft_real, dtype=\"float32\") / 32768\n",
    "    fft_imag = np.array(fft_imag, dtype=\"float32\") / 32768\n",
    "\n",
    "    fft_i_indices = np.array(fft_i_indices, dtype=\"uint8\")\n",
    "    fft_j_indices = np.array(fft_j_indices, dtype=\"uint8\")\n",
    "    fft_k_indices = np.array(fft_k_indices, dtype=\"uint8\")\n",
    "\n",
    "    return fft_real.astype(\"float16\"), fft_imag.astype(\"float16\"), \\\n",
    "        fft_i_indices, fft_j_indices, fft_k_indices\n",
    "\n",
    "\n",
    "def idft3_at_time_and_level(fft_real, fft_imag, fft_i_indices, fft_j_indices, fft_k_indices):\n",
    "    ifft = np.zeros((365 * 8, 361, 289), dtype=\"complex64\")\n",
    "    fft = fft_real.astype(\"complex64\") * 32768 + fft_imag.astype(\"complex64\") * 32768j\n",
    "\n",
    "    i = 0\n",
    "    j = 0\n",
    "    k = 0\n",
    "\n",
    "    i_index = 0\n",
    "    j_index = 0\n",
    "    k_index = 0\n",
    "\n",
    "    for idx in range(len(fft)):\n",
    "        while (di := fft_i_indices[i_index]) == 254:\n",
    "            i += 253\n",
    "            i_index += 1\n",
    "\n",
    "        while (dj := fft_j_indices[j_index]) == 254:\n",
    "            j += 253\n",
    "            j_index += 1\n",
    "\n",
    "        while (dk := fft_k_indices[k_index]) == 254:\n",
    "            k += 253\n",
    "            k_index += 1\n",
    "\n",
    "        if di == 255:\n",
    "            i = 0\n",
    "        else:\n",
    "            i += di\n",
    "\n",
    "        if dj == 255:\n",
    "            j = 0\n",
    "        else:\n",
    "            j += dj\n",
    "\n",
    "        if dk == 255:\n",
    "            k = 0\n",
    "        else:\n",
    "            k += dk\n",
    "\n",
    "        ifft[i, j, k] = fft[idx]\n",
    "\n",
    "        i_index += 1\n",
    "        j_index += 1\n",
    "        k_index += 1\n",
    "\n",
    "    return np.fft.irfftn(ifft)"
   ],
   "metadata": {
    "collapsed": false
   }
  },
  {
   "cell_type": "code",
   "execution_count": 159,
   "outputs": [],
   "source": [
    "def fit_dft3_at_level(filename: str, variable: str, level: int, **kwargs):\n",
    "    print(\"Loading data...\")\n",
    "    data = load_variable_at_level(filename, variable, level)\n",
    "\n",
    "    print(\"Performing DFT...\")\n",
    "    fft = dft3_at_level(data, level, **kwargs)\n",
    "\n",
    "    print(\"Performing IDFT...\")\n",
    "    prediction = idft3_at_time_and_level(*fft)\n",
    "\n",
    "    print(f\"Original Stdev:  {data.astype('float32').std()} m/s\")\n",
    "    print(f\"Predicted RMSE: {rmse(data, prediction)} m/s\")\n",
    "    print(f\"Predicted MAPE: {mape(data, prediction)}%\")\n",
    "    print(f\"Predicted MAE:  {mae(data, prediction)} m/s\")\n",
    "    print(f\"Frequencies: {len(fft[0])}\")\n",
    "    print(f\"Size/level: {sum(el.nbytes for el in fft if hasattr(el, 'nbytes')) / (1024 ** 2)} mB\")\n",
    "    print(f\"Size/year: {sum(el.nbytes for el in fft if hasattr(el, 'nbytes')) * 72 / (1024 ** 2)} mB\")"
   ],
   "metadata": {
    "collapsed": false
   }
  },
  {
   "cell_type": "code",
   "execution_count": 164,
   "outputs": [
    {
     "name": "stdout",
     "output_type": "stream",
     "text": [
      "Loading data...\n",
      "Performing DFT...\n",
      "Performing IDFT...\n",
      "Original Stdev:  6.392603397369385 m/s\n",
      "Predicted RMSE: 1.0082440250483846 m/s\n"
     ]
    },
    {
     "name": "stderr",
     "output_type": "stream",
     "text": [
      "/var/folders/r5/mzzh3rn14lgb2__wr5h7swqm0000gn/T/ipykernel_92607/2292165165.py:2: RuntimeWarning: divide by zero encountered in divide\n",
      "  ((data - prediction) / data).mean()\n",
      "/Users/bhavyemathur/Desktop/Projects/Spherindrical Fourier Transform/MERRA-2/venv/lib/python3.11/site-packages/numpy/core/_methods.py:181: RuntimeWarning: invalid value encountered in reduce\n",
      "  ret = umr_sum(arr, axis, dtype, out, keepdims, where=where)\n"
     ]
    },
    {
     "name": "stdout",
     "output_type": "stream",
     "text": [
      "Predicted MAPE: None%\n",
      "Predicted MAE:  0.7204414327704877 m/s\n",
      "Frequencies: 1827845\n",
      "Size/level: 12.342144012451172 mB\n",
      "Size/year: 888.6343688964844 mB\n"
     ]
    }
   ],
   "source": [
    "fit_dft3_at_level(\"MERRA2_100.tavg3_3d_asm_Nv.1980{:0>2}{:0>2}.nc4\", \"U\",\n",
    "                  level=71, quantile=0.994)\n"
   ],
   "metadata": {
    "collapsed": false
   }
  }
 ],
 "metadata": {
  "kernelspec": {
   "display_name": "Python 3",
   "language": "python",
   "name": "python3"
  },
  "language_info": {
   "codemirror_mode": {
    "name": "ipython",
    "version": 2
   },
   "file_extension": ".py",
   "mimetype": "text/x-python",
   "name": "python",
   "nbconvert_exporter": "python",
   "pygments_lexer": "ipython2",
   "version": "2.7.6"
  }
 },
 "nbformat": 4,
 "nbformat_minor": 0
}

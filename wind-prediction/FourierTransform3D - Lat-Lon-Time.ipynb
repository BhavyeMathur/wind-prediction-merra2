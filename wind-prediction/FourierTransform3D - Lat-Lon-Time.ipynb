{
 "cells": [
  {
   "cell_type": "code",
   "execution_count": 3,
   "metadata": {
    "collapsed": true
   },
   "outputs": [],
   "source": [
    "import numpy as np\n",
    "\n",
    "from plot import *\n",
    "from fft import *\n",
    "from maths import rmse\n"
   ]
  },
  {
   "cell_type": "code",
   "execution_count": 82,
   "outputs": [],
   "source": [
    "def dft3_at_level(data: np.ndarray, level: int, quantile: float = 0.75):\n",
    "    if level in DFT3_LEVEL_CACHE:\n",
    "        fft = DFT3_LEVEL_CACHE[level]\n",
    "    else:\n",
    "        fft = np.fft.rfftn(data)\n",
    "        DFT3_LEVEL_CACHE[level] = fft\n",
    "\n",
    "    amplitudes = np.abs(fft)\n",
    "\n",
    "    fft_real = []\n",
    "    fft_imag = []\n",
    "    fft_i_indices = []\n",
    "    fft_j_indices = []\n",
    "    fft_k_indices = []\n",
    "\n",
    "    cutoff_amp = np.quantile(amplitudes, quantile)\n",
    "\n",
    "    i_dict = {}\n",
    "    # j_dict = {}\n",
    "    k_dict = {}\n",
    "\n",
    "    last_j = 0\n",
    "\n",
    "    for k in range(289):\n",
    "        for j in range(361):\n",
    "            for i in range(365 * 8):\n",
    "                if amplitudes[i, j, k] < cutoff_amp:\n",
    "                    continue\n",
    "\n",
    "                fft_real.append(fft[i, j, k].real)\n",
    "                fft_imag.append(fft[i, j, k].imag)\n",
    "\n",
    "                if i not in i_dict:\n",
    "                    i_dict[i] = len(i_dict)\n",
    "\n",
    "                if k not in k_dict:\n",
    "                    k_dict[k] = len(k_dict)\n",
    "\n",
    "                if (dj := j - last_j) > 254:\n",
    "                    fft_i_indices.append(i_dict[i])\n",
    "                    fft_k_indices.append(k_dict[k])\n",
    "                    fft_j_indices.append(254)\n",
    "                    fft_real.append(0)\n",
    "                    fft_imag.append(0)\n",
    "\n",
    "                    last_j += 254\n",
    "                    dj = j - last_j\n",
    "\n",
    "                fft_i_indices.append(i_dict[i])\n",
    "                if dj < 0:\n",
    "                    fft_j_indices.append(255)\n",
    "                    last_j = 0\n",
    "                else:\n",
    "                    fft_j_indices.append(dj)\n",
    "                    last_j += dj\n",
    "\n",
    "                fft_k_indices.append(k_dict[k])\n",
    "\n",
    "    fft_real = np.array(fft_real, dtype=\"float32\") / 32768\n",
    "    fft_imag = np.array(fft_imag, dtype=\"float32\") / 32768\n",
    "\n",
    "    print(\"i indices:\", len(i_dict))\n",
    "    print(\"k indices:\", len(k_dict))\n",
    "\n",
    "    if len(i_dict) > 255:\n",
    "        fft_i_indices = np.array(fft_i_indices, dtype=\"uint16\")\n",
    "    else:\n",
    "        fft_i_indices = np.array(fft_i_indices, dtype=\"uint8\")\n",
    "\n",
    "    fft_j_indices = np.array(fft_j_indices, dtype=\"uint8\")\n",
    "\n",
    "    if len(k_dict) > 255:\n",
    "        fft_k_indices = np.array(fft_k_indices, dtype=\"uint16\")\n",
    "    else:\n",
    "        fft_k_indices = np.array(fft_k_indices, dtype=\"uint8\")\n",
    "\n",
    "    return fft_real.astype(\"float16\"), fft_imag.astype(\"float16\"), \\\n",
    "        fft_i_indices, fft_j_indices, fft_k_indices, \\\n",
    "        list(i_dict.keys()), list(k_dict.keys())\n",
    "\n",
    "\n",
    "def idft3_at_time_and_level(fft_real, fft_imag, fft_i_indices, fft_j_indices, fft_k_indices, i_dict,  k_dict):\n",
    "    fft = np.zeros((365 * 8, 361, 289), dtype=\"complex64\")\n",
    "\n",
    "    fft_real = fft_real.astype(\"float32\") * 32768\n",
    "    fft_imag = fft_imag.astype(\"float32\") * 32768\n",
    "\n",
    "    j = 0\n",
    "    for idx in range(len(fft_i_indices)):\n",
    "        i = i_dict[fft_i_indices[idx]]\n",
    "\n",
    "        dj = fft_j_indices[idx]\n",
    "        if dj == 255:\n",
    "            j = 0\n",
    "        else:\n",
    "            j += dj\n",
    "\n",
    "        k = k_dict[fft_k_indices[idx]]\n",
    "\n",
    "        fft[i, j, k] = fft_real[idx] + 1j * fft_imag[idx]\n",
    "\n",
    "    return np.fft.irfftn(fft)"
   ],
   "metadata": {
    "collapsed": false
   }
  },
  {
   "cell_type": "code",
   "execution_count": 83,
   "outputs": [],
   "source": [
    "def fit_dft3_at_level(filename: str, variable: str, level: int, **kwargs):\n",
    "    print(\"Loading data...\")\n",
    "    data = load_variable_at_level(filename, variable, level)\n",
    "\n",
    "    print(\"Performing DFT...\")\n",
    "    fft = dft3_at_level(data, level, **kwargs)\n",
    "\n",
    "    print(\"Performing IDFT...\")\n",
    "    prediction = idft3_at_time_and_level(*fft)\n",
    "\n",
    "    print(f\"Original Stdev:  {data.astype('float32').std()} m/s\")\n",
    "    print(f\"Predicted RMSE: {rmse(data, prediction)} m/s\")\n",
    "    print(f\"Frequencies: {len(fft[0])}\")\n",
    "    print(f\"Size/level: {sum(el.nbytes for el in fft if hasattr(el, 'nbytes')) / (1024 ** 2)} mB\")\n",
    "    print(f\"Size/year: {sum(el.nbytes for el in fft if hasattr(el, 'nbytes')) * 72 / (1024 ** 2)} mB\")\n"
   ],
   "metadata": {
    "collapsed": false
   }
  },
  {
   "cell_type": "code",
   "execution_count": null,
   "outputs": [],
   "source": [
    "fit_dft3_at_level(\"MERRA2_100.tavg3_3d_asm_Nv.1980{:0>2}{:0>2}.nc4\", \"U\",\n",
    "                  level=71, quantile=0.997)"
   ],
   "metadata": {
    "collapsed": false
   }
  },
  {
   "cell_type": "code",
   "execution_count": 84,
   "outputs": [
    {
     "name": "stdout",
     "output_type": "stream",
     "text": [
      "Loading data...\n",
      "Performing DFT...\n",
      "i indices: 1529\n",
      "k indices: 241\n",
      "Performing IDFT...\n",
      "Original Stdev:  6.392603397369385 m/s\n",
      "Predicted RMSE: 1.2533602702880768 m/s\n",
      "Frequencies: 913978\n",
      "Size/level: 6.9730987548828125 mB\n",
      "Size/year: 502.0631103515625 mB\n"
     ]
    }
   ],
   "source": [
    "fit_dft3_at_level(\"MERRA2_100.tavg3_3d_asm_Nv.1980{:0>2}{:0>2}.nc4\", \"U\",\n",
    "                  level=71, quantile=0.997)\n"
   ],
   "metadata": {
    "collapsed": false
   }
  }
 ],
 "metadata": {
  "kernelspec": {
   "display_name": "Python 3",
   "language": "python",
   "name": "python3"
  },
  "language_info": {
   "codemirror_mode": {
    "name": "ipython",
    "version": 2
   },
   "file_extension": ".py",
   "mimetype": "text/x-python",
   "name": "python",
   "nbconvert_exporter": "python",
   "pygments_lexer": "ipython2",
   "version": "2.7.6"
  }
 },
 "nbformat": 4,
 "nbformat_minor": 0
}

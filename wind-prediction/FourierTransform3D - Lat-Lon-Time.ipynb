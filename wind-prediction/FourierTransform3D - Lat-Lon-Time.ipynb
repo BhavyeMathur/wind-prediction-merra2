{
 "cells": [
  {
   "cell_type": "code",
   "execution_count": 1,
   "metadata": {
    "collapsed": true
   },
   "outputs": [],
   "source": [
    "from tqdm.notebook import tqdm\n",
    "\n",
    "from plot import *\n",
    "from fft import *\n",
    "from maths import rmse\n"
   ]
  },
  {
   "cell_type": "code",
   "execution_count": 66,
   "outputs": [],
   "source": [
    "def fit_dft3_at_level(filename: str, variable: str, level: int, **kwargs):\n",
    "    data = load_variable_at_level(filename, variable, level)\n",
    "\n",
    "    fft = dft3_at_level(data, level, **kwargs)\n",
    "    prediction = idft3_at_time_and_level(*fft)\n",
    "\n",
    "    print(f\"Original Stdev:  {data.astype('float32').std()} m/s\")\n",
    "    print(f\"Predicted RMSE: {rmse(data, prediction)} m/s\")\n",
    "    print(f\"Frequencies: {len(fft[0])}\")\n",
    "    print(f\"Size/level: {sum(el.nbytes for el in fft) / (1024 ** 2)} mB\")\n",
    "    print(f\"Size/year: {sum(el.nbytes for el in fft) * 72 / (1024 ** 2)} mB\")\n"
   ],
   "metadata": {
    "collapsed": false
   }
  },
  {
   "cell_type": "code",
   "execution_count": 67,
   "outputs": [
    {
     "name": "stdout",
     "output_type": "stream",
     "text": [
      "Original Stdev:  1.7702833414077759 m/s\n",
      "Predicted RMSE: 0.3505799682903188 m/s\n",
      "Frequencies: 1218563\n",
      "Size/level: 10.459010124206543 mB\n",
      "Size/year: 753.0487289428711 mB\n"
     ]
    }
   ],
   "source": [
    "%matplotlib notebook\n",
    "\n",
    "fit_dft3_at_level(\"MERRA2_100.tavg3_3d_asm_Nv.1980{:0>2}{:0>2}.nc4\", \"U\",\n",
    "                  level=71, quantile=0.996)\n"
   ],
   "metadata": {
    "collapsed": false
   }
  }
 ],
 "metadata": {
  "kernelspec": {
   "display_name": "Python 3",
   "language": "python",
   "name": "python3"
  },
  "language_info": {
   "codemirror_mode": {
    "name": "ipython",
    "version": 2
   },
   "file_extension": ".py",
   "mimetype": "text/x-python",
   "name": "python",
   "nbconvert_exporter": "python",
   "pygments_lexer": "ipython2",
   "version": "2.7.6"
  }
 },
 "nbformat": 4,
 "nbformat_minor": 0
}

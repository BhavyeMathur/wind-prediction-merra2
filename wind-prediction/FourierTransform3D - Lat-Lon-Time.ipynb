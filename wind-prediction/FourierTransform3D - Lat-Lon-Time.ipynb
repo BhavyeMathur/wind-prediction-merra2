{
 "cells": [
  {
   "cell_type": "code",
   "execution_count": 1,
   "metadata": {
    "collapsed": true
   },
   "outputs": [],
   "source": [
    "import numpy as np\n",
    "\n",
    "from plot import *\n",
    "from fft import *\n",
    "from maths import rmse\n"
   ]
  },
  {
   "cell_type": "code",
   "execution_count": 94,
   "outputs": [],
   "source": [
    "def dft3_at_level(data: np.ndarray, level:int, quantile: float = 0.75):\n",
    "    if level in DFT3_LEVEL_CACHE:\n",
    "        fft = DFT3_LEVEL_CACHE[level]\n",
    "    else:\n",
    "        fft = np.fft.rfftn(data)\n",
    "        DFT3_LEVEL_CACHE[level] = fft\n",
    "\n",
    "    amplitudes = np.abs(fft)\n",
    "\n",
    "    fft_real = []\n",
    "    fft_imag = []\n",
    "    fft_i_indices = []\n",
    "    fft_j_indices = []\n",
    "    fft_k_indices = []\n",
    "\n",
    "    cutoff_amp = np.quantile(amplitudes, quantile)\n",
    "\n",
    "    fft_real, fft_imag, fft_i_indices, fft_j_indices, fft_k_indices = zip(*tuple((fft[i, j, k].real,\n",
    "                                                                                  fft[i, j, k].imag, i, j, k)\n",
    "                                                                                 for k in range(256)\n",
    "                                                                                 for j in range(361)\n",
    "                                                                                 for i in range(365 * 8)\n",
    "                                                                                 if amplitudes[i, j, k] > cutoff_amp))\n",
    "    fft_real = np.array(fft_real, dtype=\"float32\") / 32768\n",
    "    fft_imag = np.array(fft_imag, dtype=\"float32\") / 32768\n",
    "\n",
    "    return fft_real.astype(\"float16\"), fft_imag.astype(\"float16\"), \\\n",
    "        np.array(fft_i_indices, dtype=\"uint16\"), np.array(fft_j_indices, dtype=\"uint16\"), np.array(fft_k_indices, dtype=\"uint8\")\n",
    "\n",
    "\n",
    "def idft3_at_time_and_level(fft_real, fft_imag, fft_i_indices, fft_j_indices, fft_k_indices):\n",
    "    fft = np.zeros((365 * 8, 361, 289), dtype=\"complex64\")\n",
    "\n",
    "    fft_real = fft_real.astype(\"float32\") * 32768\n",
    "    fft_imag = fft_imag.astype(\"float32\") * 32768\n",
    "\n",
    "    for k in range(len(fft_i_indices)):\n",
    "        fft[fft_i_indices[k], fft_j_indices[k], fft_k_indices[k]] = fft_real[k] + 1j * fft_imag[k]\n",
    "\n",
    "    return np.fft.irfftn(fft)"
   ],
   "metadata": {
    "collapsed": false
   }
  },
  {
   "cell_type": "code",
   "execution_count": 95,
   "outputs": [],
   "source": [
    "def fit_dft3_at_level(filename: str, variable: str, level: int, **kwargs):\n",
    "    print(\"Loading data...\")\n",
    "    data = load_variable_at_level(filename, variable, level)\n",
    "\n",
    "    print(\"Performing DFT...\")\n",
    "    fft = dft3_at_level(data, level, **kwargs)\n",
    "\n",
    "    print(\"Performing IDFT...\")\n",
    "    prediction = idft3_at_time_and_level(*fft)\n",
    "\n",
    "    print(f\"Original Stdev:  {data.astype('float32').std()} m/s\")\n",
    "    print(f\"Predicted RMSE: {rmse(data, prediction)} m/s\")\n",
    "    print(f\"Frequencies: {len(fft[0])}\")\n",
    "    print(f\"Size/level: {sum(el.nbytes for el in fft) / (1024 ** 2)} mB\")\n",
    "    print(f\"Size/year: {sum(el.nbytes for el in fft) * 72 / (1024 ** 2)} mB\")\n"
   ],
   "metadata": {
    "collapsed": false
   }
  },
  {
   "cell_type": "code",
   "execution_count": 97,
   "outputs": [
    {
     "name": "stdout",
     "output_type": "stream",
     "text": [
      "Loading data...\n",
      "Performing DFT...\n",
      "Performing IDFT...\n",
      "Original Stdev:  6.392603397369385 m/s\n",
      "Predicted RMSE: 1.147797871369466 m/s\n",
      "Frequencies: 1218507\n",
      "Size/level: 10.458529472351074 mB\n",
      "Size/year: 753.0141220092773 mB\n"
     ]
    }
   ],
   "source": [
    "%matplotlib notebook\n",
    "\n",
    "fit_dft3_at_level(\"MERRA2_100.tavg3_3d_asm_Nv.1980{:0>2}{:0>2}.nc4\", \"U\",\n",
    "                  level=71, quantile=0.996)\n"
   ],
   "metadata": {
    "collapsed": false
   }
  }
 ],
 "metadata": {
  "kernelspec": {
   "display_name": "Python 3",
   "language": "python",
   "name": "python3"
  },
  "language_info": {
   "codemirror_mode": {
    "name": "ipython",
    "version": 2
   },
   "file_extension": ".py",
   "mimetype": "text/x-python",
   "name": "python",
   "nbconvert_exporter": "python",
   "pygments_lexer": "ipython2",
   "version": "2.7.6"
  }
 },
 "nbformat": 4,
 "nbformat_minor": 0
}

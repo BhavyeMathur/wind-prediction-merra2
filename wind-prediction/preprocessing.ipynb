{
 "cells": [
  {
   "cell_type": "code",
   "execution_count": 1,
   "metadata": {
    "collapsed": true
   },
   "outputs": [],
   "source": [
    "import pandas as pd\n",
    "import xarray as xr\n",
    "\n",
    "from util import *"
   ]
  },
  {
   "cell_type": "code",
   "execution_count": 64,
   "outputs": [],
   "source": [
    "def save_nc4_as_parquet(filename, variables, compression_level=11):\n",
    "    filepath = f\"raw/{filename}\"\n",
    "\n",
    "    if not filename.endswith(\".nc4\"):\n",
    "        raise ValueError(\"Filename must be netCDF4 file\")\n",
    "    output = filename[:-3] + \"parquet\"\n",
    "\n",
    "    print(f\"Converting {filepath}\")\n",
    "    dataset = xr.open_dataset(filepath)\n",
    "\n",
    "    if isinstance(variables, str):\n",
    "        variables = [variables]\n",
    "\n",
    "    print(f\"\\tLoading DataFrame\")\n",
    "    df = dataset.to_dataframe()\n",
    "\n",
    "    for var in variables:\n",
    "        print(f\"\\tLoading '{var}'\")\n",
    "        variable = pd.DataFrame(df[var])\n",
    "        variable.reset_index(inplace=True, drop=True)\n",
    "\n",
    "        variable16 = variable.astype(\"float16\")\n",
    "        print(f\"\\tStandard Deviation (SD): '{variable.std()}'\")\n",
    "        print(f\"\\tSD of float32 - float16: '{(variable - variable16).std()}'\")\n",
    "\n",
    "        print(f\"\\tSaving '{var}'\")\n",
    "        variable16.to_parquet(f\"dataframes/{var}/{output}\", engine=\"fastparquet\", compression={\"_default\": {\"type\": \"BROTLI\", \"args\": {\"level\": compression_level}}})\n",
    "\n",
    "        print()\n",
    "\n",
    "    print(f\"\\tClosing dataset\")\n",
    "    dataset.close()\n",
    "    del dataset"
   ],
   "metadata": {
    "collapsed": false
   }
  },
  {
   "cell_type": "code",
   "execution_count": 65,
   "outputs": [
    {
     "name": "stdout",
     "output_type": "stream",
     "text": [
      "Converting raw/MERRA2_100.tavg3_3d_cld_Np.19800101.nc4\n",
      "\tLoading DataFrame\n",
      "\tLoading 'RH'\n",
      "\tStandard Deviation (SD): 'RH    0.374293\n",
      "dtype: float32'\n",
      "\tSD of float32 - float16: 'RH    0.000091\n",
      "dtype: float32'\n",
      "\tSaving 'RH'\n",
      "\n",
      "\tClosing dataset\n"
     ]
    }
   ],
   "source": [
    "save_nc4_as_parquet(\"MERRA2_100.tavg3_3d_cld_Np.19800101.nc4\", \"RH\")"
   ],
   "metadata": {
    "collapsed": false
   }
  },
  {
   "cell_type": "code",
   "execution_count": 25,
   "outputs": [
    {
     "data": {
      "text/plain": "True"
     },
     "execution_count": 25,
     "metadata": {},
     "output_type": "execute_result"
    }
   ],
   "source": [
    "pd.read_parquet(\"dataframes/MERRA2_100.tavg3_3d_cld_Np.19800101.parquet\").equals(df)"
   ],
   "metadata": {
    "collapsed": false
   }
  },
  {
   "cell_type": "code",
   "execution_count": null,
   "outputs": [],
   "source": [],
   "metadata": {
    "collapsed": false
   }
  }
 ],
 "metadata": {
  "kernelspec": {
   "display_name": "Python 3",
   "language": "python",
   "name": "python3"
  },
  "language_info": {
   "codemirror_mode": {
    "name": "ipython",
    "version": 2
   },
   "file_extension": ".py",
   "mimetype": "text/x-python",
   "name": "python",
   "nbconvert_exporter": "python",
   "pygments_lexer": "ipython2",
   "version": "2.7.6"
  }
 },
 "nbformat": 4,
 "nbformat_minor": 0
}

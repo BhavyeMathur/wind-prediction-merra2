{
 "cells": [
  {
   "cell_type": "code",
   "execution_count": 1,
   "metadata": {
    "collapsed": true
   },
   "outputs": [],
   "source": [
    "import os\n",
    "\n",
    "import pandas as pd\n",
    "import numpy as np\n",
    "import xarray as xr\n",
    "import netCDF4 as nc\n",
    "\n",
    "from util import *"
   ]
  },
  {
   "cell_type": "code",
   "execution_count": 27,
   "outputs": [],
   "source": [
    "def open_xarray_dataset(filename, folder=\"raw\") -> xr.Dataset:\n",
    "    if not os.path.isdir(folder):\n",
    "        os.makedirs(folder)\n",
    "\n",
    "    filepath = f\"{folder}/{filename}\"\n",
    "\n",
    "    log(f\"Loading {filepath}\")\n",
    "    return xr.open_dataset(filepath)\n",
    "\n",
    "\n",
    "def open_nc4_dataset(filename, folder=\"raw\", mode=\"r\") -> nc.Dataset:\n",
    "    if not os.path.isdir(folder):\n",
    "        os.makedirs(folder)\n",
    "\n",
    "    filepath = f\"{folder}/{filename}\"\n",
    "\n",
    "    log(f\"Loading {filepath}\")\n",
    "    return nc.Dataset(filepath, mode=mode)\n",
    "\n",
    "\n",
    "def get_variables(variables) -> list[str]:\n",
    "    if isinstance(variables, str):\n",
    "        return [variables]\n",
    "    return variables"
   ],
   "metadata": {
    "collapsed": false
   }
  },
  {
   "cell_type": "code",
   "execution_count": 24,
   "outputs": [],
   "source": [
    "def save_df_as_parquet(df, output, compression_level=11):\n",
    "    if not isinstance(df, pd.DataFrame):\n",
    "        df = pd.DataFrame(df)\n",
    "\n",
    "    df.to_parquet(output, engine=\"fastparquet\",\n",
    "                  compression={\"_default\": {\"type\": \"BROTLI\", \"args\": {\"level\": compression_level}}})\n",
    "\n",
    "\n",
    "def save_nc4_as_parquet(filename, variables, compression_level=11):\n",
    "    output = filename[:-3] + \"parquet\"\n",
    "\n",
    "    with open_xarray_dataset(filename) as dataset:\n",
    "        df = dataset.to_dataframe()\n",
    "\n",
    "    for var in get_variables(variables):\n",
    "        print(f\"\\tLoading '{var}'\")\n",
    "        variable = df[var]\n",
    "        variable.reset_index(inplace=True, drop=True)\n",
    "\n",
    "        variable16 = variable.astype(\"float16\")\n",
    "        print(f\"\\tStandard Deviation (SD): '{variable.std()}'\")\n",
    "        print(f\"\\tSD of float32 - float16: '{(variable - variable16).std()}'\")\n",
    "\n",
    "        print(f\"\\tSaving '{var}'\\n\")\n",
    "\n",
    "        output_dir = f\"dataframes/{var}\"\n",
    "        if not os.path.isdir(output_dir):\n",
    "            os.makedirs(output_dir)\n",
    "\n",
    "        save_df_as_parquet(variable16, f\"{output_dir}/{output}\", compression_level)\n",
    "\n",
    "\n",
    "def print_nc4_metadata(filename):\n",
    "    with open_xarray_dataset(filename) as dataset:\n",
    "        print(dataset)\n",
    "\n",
    "\n",
    "def compress_nc4(filename, variables, compression_level=9):\n",
    "    with open_nc4_dataset(filename) as dataset:\n",
    "        for variable in get_variables(variables):\n",
    "            with open_nc4_dataset(filename, folder=f\"compressed/{variable}\", mode=\"w\") as dst:\n",
    "                dst.createDimension(\"lon\", 288)  # 588/2 because we pack float16s as float32s\n",
    "                dst.createDimension(\"lat\", 361)\n",
    "                dst.createDimension(\"lev\", 42)\n",
    "                dst.createDimension(\"time\", 8)\n",
    "\n",
    "                data = dataset.variables[variable]\n",
    "\n",
    "                dst.createVariable(variable, \"f\", data.dimensions, chunksizes=(1, 1, 361, 288), compression=\"zlib\",\n",
    "                                   complevel=compression_level)\n",
    "                dst[variable].setncatts(data.__dict__)  # copy variable attributes via a dictionary\n",
    "\n",
    "                data_float16 = np.array(data[:]).astype(\"float16\")\n",
    "                packed_float32 = data_float16.view(\"float32\")\n",
    "                dst[variable][:] = packed_float32\n"
   ],
   "metadata": {
    "collapsed": false
   }
  },
  {
   "cell_type": "code",
   "execution_count": 25,
   "outputs": [
    {
     "name": "stdout",
     "output_type": "stream",
     "text": [
      "[20:41:30] LOG: Loading raw/MERRA2_100.tavg3_3d_cld_Np.19800101.nc4\n",
      "<xarray.Dataset>\n",
      "Dimensions:    (lon: 576, lat: 361, lev: 42, time: 8)\n",
      "Coordinates:\n",
      "  * lon        (lon) float64 -180.0 -179.4 -178.8 -178.1 ... 178.1 178.8 179.4\n",
      "  * lat        (lat) float64 -90.0 -89.5 -89.0 -88.5 ... 88.5 89.0 89.5 90.0\n",
      "  * lev        (lev) float64 1e+03 975.0 950.0 925.0 900.0 ... 0.5 0.4 0.3 0.1\n",
      "  * time       (time) datetime64[ns] 1980-01-01T01:30:00 ... 1980-01-01T22:30:00\n",
      "Data variables:\n",
      "    CFCU       (time, lev, lat, lon) float32 ...\n",
      "    CLOUD      (time, lev, lat, lon) float32 ...\n",
      "    DTRAIN     (time, lev, lat, lon) float32 ...\n",
      "    INCLOUDQI  (time, lev, lat, lon) float32 ...\n",
      "    INCLOUDQL  (time, lev, lat, lon) float32 ...\n",
      "    QI         (time, lev, lat, lon) float32 ...\n",
      "    QL         (time, lev, lat, lon) float32 ...\n",
      "    RH         (time, lev, lat, lon) float32 ...\n",
      "    TAUCLI     (time, lev, lat, lon) float32 ...\n",
      "    TAUCLW     (time, lev, lat, lon) float32 ...\n",
      "Attributes: (12/30)\n",
      "    History:                           Original file generated: Sat May 31 17...\n",
      "    Comment:                           GMAO filename: d5124_m2_jan79.tavg3_3d...\n",
      "    Filename:                          MERRA2_100.tavg3_3d_cld_Np.19800101.nc4\n",
      "    Conventions:                       CF-1\n",
      "    Institution:                       NASA Global Modeling and Assimilation ...\n",
      "    References:                        http://gmao.gsfc.nasa.gov\n",
      "    ...                                ...\n",
      "    Contact:                           http://gmao.gsfc.nasa.gov\n",
      "    identifier_product_doi:            10.5067/TX10URJSKT53\n",
      "    RangeBeginningDate:                1980-01-01\n",
      "    RangeBeginningTime:                00:00:00.000000\n",
      "    RangeEndingDate:                   1980-01-01\n",
      "    RangeEndingTime:                   23:59:59.000000\n"
     ]
    }
   ],
   "source": [
    "print_nc4_metadata(\"MERRA2_100.tavg3_3d_cld_Np.19800101.nc4\")"
   ],
   "metadata": {
    "collapsed": false
   }
  },
  {
   "cell_type": "code",
   "execution_count": 28,
   "outputs": [
    {
     "name": "stdout",
     "output_type": "stream",
     "text": [
      "[20:41:37] LOG: Loading raw/MERRA2_100.tavg3_3d_cld_Np.19800101.nc4\n",
      "[20:41:37] LOG: Loading compressed/CLOUD/MERRA2_100.tavg3_3d_cld_Np.19800101.nc4\n"
     ]
    },
    {
     "name": "stderr",
     "output_type": "stream",
     "text": [
      "/var/folders/r5/mzzh3rn14lgb2__wr5h7swqm0000gn/T/ipykernel_5910/1645258930.py:53: RuntimeWarning: overflow encountered in cast\n",
      "  data_float16 = np.array(data[:]).astype(\"float16\")\n"
     ]
    }
   ],
   "source": [
    "compress_nc4(\"MERRA2_100.tavg3_3d_cld_Np.19800101.nc4\", \"CLOUD\")\n"
   ],
   "metadata": {
    "collapsed": false
   }
  },
  {
   "cell_type": "code",
   "execution_count": null,
   "outputs": [],
   "source": [],
   "metadata": {
    "collapsed": false
   }
  }
 ],
 "metadata": {
  "kernelspec": {
   "display_name": "Python 3",
   "language": "python",
   "name": "python3"
  },
  "language_info": {
   "codemirror_mode": {
    "name": "ipython",
    "version": 2
   },
   "file_extension": ".py",
   "mimetype": "text/x-python",
   "name": "python",
   "nbconvert_exporter": "python",
   "pygments_lexer": "ipython2",
   "version": "2.7.6"
  }
 },
 "nbformat": 4,
 "nbformat_minor": 0
}

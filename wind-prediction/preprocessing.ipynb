{
 "cells": [
  {
   "cell_type": "code",
   "execution_count": 1,
   "metadata": {
    "collapsed": true
   },
   "outputs": [],
   "source": [
    "from preprocessing import *"
   ]
  },
  {
   "cell_type": "code",
   "execution_count": 25,
   "outputs": [
    {
     "name": "stdout",
     "output_type": "stream",
     "text": [
      "[20:41:30] LOG: Loading raw/MERRA2_100.tavg3_3d_cld_Np.19800101.nc4\n",
      "<xarray.Dataset>\n",
      "Dimensions:    (lon: 576, lat: 361, lev: 42, time: 8)\n",
      "Coordinates:\n",
      "  * lon        (lon) float64 -180.0 -179.4 -178.8 -178.1 ... 178.1 178.8 179.4\n",
      "  * lat        (lat) float64 -90.0 -89.5 -89.0 -88.5 ... 88.5 89.0 89.5 90.0\n",
      "  * lev        (lev) float64 1e+03 975.0 950.0 925.0 900.0 ... 0.5 0.4 0.3 0.1\n",
      "  * time       (time) datetime64[ns] 1980-01-01T01:30:00 ... 1980-01-01T22:30:00\n",
      "Data variables:\n",
      "    CFCU       (time, lev, lat, lon) float32 ...\n",
      "    CLOUD      (time, lev, lat, lon) float32 ...\n",
      "    DTRAIN     (time, lev, lat, lon) float32 ...\n",
      "    INCLOUDQI  (time, lev, lat, lon) float32 ...\n",
      "    INCLOUDQL  (time, lev, lat, lon) float32 ...\n",
      "    QI         (time, lev, lat, lon) float32 ...\n",
      "    QL         (time, lev, lat, lon) float32 ...\n",
      "    RH         (time, lev, lat, lon) float32 ...\n",
      "    TAUCLI     (time, lev, lat, lon) float32 ...\n",
      "    TAUCLW     (time, lev, lat, lon) float32 ...\n",
      "Attributes: (12/30)\n",
      "    History:                           Original file generated: Sat May 31 17...\n",
      "    Comment:                           GMAO filename: d5124_m2_jan79.tavg3_3d...\n",
      "    Filename:                          MERRA2_100.tavg3_3d_cld_Np.19800101.nc4\n",
      "    Conventions:                       CF-1\n",
      "    Institution:                       NASA Global Modeling and Assimilation ...\n",
      "    References:                        http://gmao.gsfc.nasa.gov\n",
      "    ...                                ...\n",
      "    Contact:                           http://gmao.gsfc.nasa.gov\n",
      "    identifier_product_doi:            10.5067/TX10URJSKT53\n",
      "    RangeBeginningDate:                1980-01-01\n",
      "    RangeBeginningTime:                00:00:00.000000\n",
      "    RangeEndingDate:                   1980-01-01\n",
      "    RangeEndingTime:                   23:59:59.000000\n"
     ]
    }
   ],
   "source": [
    "print_nc4_metadata(\"MERRA2_100.tavg3_3d_cld_Np.19800101.nc4\")"
   ],
   "metadata": {
    "collapsed": false
   }
  },
  {
   "cell_type": "code",
   "execution_count": 28,
   "outputs": [
    {
     "name": "stdout",
     "output_type": "stream",
     "text": [
      "[20:41:37] LOG: Loading raw/MERRA2_100.tavg3_3d_cld_Np.19800101.nc4\n",
      "[20:41:37] LOG: Loading compressed/CLOUD/MERRA2_100.tavg3_3d_cld_Np.19800101.nc4\n"
     ]
    },
    {
     "name": "stderr",
     "output_type": "stream",
     "text": [
      "/var/folders/r5/mzzh3rn14lgb2__wr5h7swqm0000gn/T/ipykernel_5910/1645258930.py:53: RuntimeWarning: overflow encountered in cast\n",
      "  data_float16 = np.array(data[:]).astype(\"float16\")\n"
     ]
    }
   ],
   "source": [
    "compress_nc4(\"MERRA2_100.tavg3_3d_cld_Np.19800101.nc4\", \"CLOUD\")\n"
   ],
   "metadata": {
    "collapsed": false
   }
  }
 ],
 "metadata": {
  "kernelspec": {
   "display_name": "Python 3",
   "language": "python",
   "name": "python3"
  },
  "language_info": {
   "codemirror_mode": {
    "name": "ipython",
    "version": 2
   },
   "file_extension": ".py",
   "mimetype": "text/x-python",
   "name": "python",
   "nbconvert_exporter": "python",
   "pygments_lexer": "ipython2",
   "version": "2.7.6"
  }
 },
 "nbformat": 4,
 "nbformat_minor": 0
}

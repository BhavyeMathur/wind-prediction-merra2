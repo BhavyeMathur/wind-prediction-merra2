{
 "cells": [
  {
   "cell_type": "code",
   "execution_count": 40,
   "metadata": {
    "collapsed": true
   },
   "outputs": [],
   "source": [
    "import random\n",
    "\n",
    "from plot import *\n",
    "from fft import *\n",
    "from maths import rmse, mae, mse\n"
   ]
  },
  {
   "cell_type": "code",
   "execution_count": 13,
   "outputs": [],
   "source": [
    "filename = \"MERRA2_{}.tavg3_3d_asm_Nv.{}0101.nc4\"\n",
    "variable = \"U\"\n",
    "time = 0\n",
    "levels = 36\n",
    "quantile = 0.99044\n",
    "\n",
    "skip_levels = 4"
   ],
   "metadata": {
    "collapsed": false
   }
  },
  {
   "cell_type": "code",
   "execution_count": 14,
   "outputs": [],
   "source": [
    "data = load_yavg_variable_at_time(filename, variable, time, levels=levels + skip_levels)[::-1]\n",
    "prediction = np.zeros((levels, 361, 576), dtype=\"float32\")"
   ],
   "metadata": {
    "collapsed": false
   }
  },
  {
   "cell_type": "code",
   "execution_count": 27,
   "outputs": [],
   "source": [
    "preds = []\n",
    "\n",
    "for lev in range(0, levels + skip_levels, skip_levels):\n",
    "    fft = dft2_at_time_and_level(data[lev], quantile=quantile)\n",
    "    pred = idft2_at_time_and_level(*fft)\n",
    "\n",
    "    preds.append(pred)\n",
    "    if lev < levels:\n",
    "        prediction[lev] = pred\n",
    "\n",
    "preds.insert(0, preds[0])\n",
    "preds.append(preds[-1])"
   ],
   "metadata": {
    "collapsed": false
   }
  },
  {
   "cell_type": "code",
   "execution_count": 28,
   "outputs": [],
   "source": [
    "def hermite_interpolate(values, index, mu, tens, b):\n",
    "    mu2 = mu * mu\n",
    "    mu3 = mu2 * mu\n",
    "\n",
    "    m0 = (values[index + 1] - values[index]) * (1 + b) * (1 - tens)\n",
    "    m0 += (values[index + 2] - values[index + 1]) * (1 - b) * (1 - tens)\n",
    "\n",
    "    m1 = (values[index + 2] - values[index + 1]) * (1 + b) * (1 - tens)\n",
    "    m1 += (values[index + 3] - values[index + 2]) * (1 - b) * (1 - tens)\n",
    "    m0 /= 2\n",
    "    m1 /= 2\n",
    "\n",
    "    a0 = 2 * mu3 - 3 * mu2 + 1\n",
    "    a1 = mu3 - 2 * mu2 + mu\n",
    "    a2 = mu3 - mu2\n",
    "    a3 = -2 * mu3 + 3 * mu2\n",
    "    \n",
    "    return a0 * values[index + 1] + a1 * m0 + a2 * m1 + a3 * values[index + 2]"
   ],
   "metadata": {
    "collapsed": false
   }
  },
  {
   "cell_type": "code",
   "execution_count": 274,
   "outputs": [
    {
     "data": {
      "text/plain": "  0%|          | 0/36 [00:00<?, ?it/s]",
      "application/vnd.jupyter.widget-view+json": {
       "version_major": 2,
       "version_minor": 0,
       "model_id": "9803bd41fdd644fea5c0649823a92317"
      }
     },
     "metadata": {},
     "output_type": "display_data"
    }
   ],
   "source": [
    "tensions = []\n",
    "\n",
    "for lev in tqdm(range(levels)):\n",
    "    if lev % skip_levels == 0:\n",
    "        continue\n",
    "\n",
    "    pred_idx = lev // skip_levels\n",
    "\n",
    "    best_loss = float(\"inf\")\n",
    "    best_tension = 0\n",
    "    \n",
    "    mu = (lev % skip_levels) / skip_levels\n",
    "    mu2 = mu * mu\n",
    "    mu3 = mu2 * mu\n",
    "\n",
    "    a0 = (mu3 - 2 * mu2 + mu) / 2\n",
    "    a1 = (mu3 - mu2) / 2\n",
    "    m0 = preds[pred_idx + 1] - preds[pred_idx] + preds[pred_idx + 2] - preds[pred_idx + 1]\n",
    "    m1 = preds[pred_idx + 2] - preds[pred_idx + 1] + preds[pred_idx + 3] - preds[pred_idx + 2]\n",
    "\n",
    "    const = (2 * mu3 - 3 * mu2 + 1) * preds[pred_idx + 1] + (-2 * mu3 + 3 * mu2) * preds[pred_idx + 2]\n",
    "    const2 = a0 * m0 + a1 * m1\n",
    "    baseline = preds[pred_idx] - const\n",
    "\n",
    "    lr = 0.00015\n",
    "    tension = 0\n",
    "\n",
    "    for _ in range(200):\n",
    "        dt = (2 * const2 * (baseline - tension * const2)).mean()\n",
    "        tension = np.tanh(tension + lr * dt)\n",
    "\n",
    "        if (loss := ((baseline - tension * const2) ** 2).mean()) < best_loss:\n",
    "            best_loss = loss\n",
    "            best_tension = tension\n",
    "        else:\n",
    "            pass\n",
    "            # lr /= 1.1\n",
    "            # tension -= dt\n",
    "\n",
    "    tensions.append(best_tension)\n"
   ],
   "metadata": {
    "collapsed": false
   }
  },
  {
   "cell_type": "code",
   "execution_count": 276,
   "outputs": [
    {
     "data": {
      "text/plain": "[-0.0015125482023553816,\n 0.0016443568920793783,\n 0.012293766372655184,\n -0.018805677238908698,\n -0.011609435947663177,\n 0.00627802418289664,\n -0.008313515111077674,\n 0.002961827156883978,\n 0.019782678100450934,\n -0.013203696516491038,\n 0.009298508283036015,\n 0.04239836596741894,\n -0.028864238347298312,\n 0.021687662315774927,\n 0.08358335454335546,\n -0.051796761937004214,\n 0.05968494591088164,\n 0.14152534669296252,\n -0.1354084540727688,\n -0.10777314669780115,\n 0.10592215892872528,\n -0.16821314816810048,\n -0.18897192877243438,\n -0.16725325072268823,\n -0.11448276469201626,\n -0.07089362001046359,\n 0.1610290594750893]"
     },
     "execution_count": 276,
     "metadata": {},
     "output_type": "execute_result"
    }
   ],
   "source": [
    "tensions"
   ],
   "metadata": {
    "collapsed": false
   }
  },
  {
   "cell_type": "code",
   "execution_count": 277,
   "outputs": [
    {
     "name": "stdout",
     "output_type": "stream",
     "text": [
      "Original Stdev: 10.071374893188477 m/s\n",
      "Predicted RMSE: 0.9160949412414103 m/s\n",
      "Predicted MAE:  0.5961885452270508 m/s\n",
      "Size/time: 0.06986 mB\n",
      "Size/day: 0.55888 mB\n",
      "Size/year: 203.9912 mB\n"
     ]
    }
   ],
   "source": [
    "for lev in range(levels):\n",
    "    if lev % skip_levels == 0:\n",
    "        continue\n",
    "\n",
    "    pred_idx = lev // skip_levels\n",
    "    t = (lev % skip_levels) / skip_levels\n",
    "\n",
    "    prediction[lev] = hermite_interpolate(preds, pred_idx, t, tensions[pred_idx], 0)\n",
    "\n",
    "data_float32 = data[:levels].astype(\"float32\")\n",
    "\n",
    "print(f\"Original Stdev: {data_float32.std()} m/s\")\n",
    "print(f\"Predicted RMSE: {rmse(data_float32, prediction)} m/s\")\n",
    "print(f\"Predicted MAE:  {mae(data_float32, prediction)} m/s\")\n",
    "print(f\"Size/time: {sum(el.nbytes for el in fft) * (len(preds) - 2) / (1000 ** 2)} mB\")\n",
    "print(f\"Size/day: {sum(el.nbytes for el in fft) * (len(preds) - 2) * 8 / (1000 ** 2)} mB\")\n",
    "print(f\"Size/year: {sum(el.nbytes for el in fft) * (len(preds) - 2) * 8 * 365 / (1000 ** 2)} mB\")\n"
   ],
   "metadata": {
    "collapsed": false
   }
  }
 ],
 "metadata": {
  "kernelspec": {
   "display_name": "Python 3",
   "language": "python",
   "name": "python3"
  },
  "language_info": {
   "codemirror_mode": {
    "name": "ipython",
    "version": 2
   },
   "file_extension": ".py",
   "mimetype": "text/x-python",
   "name": "python",
   "nbconvert_exporter": "python",
   "pygments_lexer": "ipython2",
   "version": "2.7.6"
  }
 },
 "nbformat": 4,
 "nbformat_minor": 0
}

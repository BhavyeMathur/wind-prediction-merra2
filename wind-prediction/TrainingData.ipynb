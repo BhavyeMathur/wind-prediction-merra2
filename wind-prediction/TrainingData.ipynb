{
 "cells": [
  {
   "cell_type": "code",
   "execution_count": 1,
   "metadata": {
    "collapsed": true
   },
   "outputs": [],
   "source": [
    "import pickle\n",
    "\n",
    "from fft import *\n",
    "from data_loading import *\n"
   ]
  },
  {
   "cell_type": "code",
   "execution_count": 52,
   "outputs": [
    {
     "data": {
      "text/plain": "      lat  lon  lev  u_est  v_est    u    v\ntime                                       \n0     321  371   16    0.0    0.0  0.0  0.0\n0      41   82   24    0.0    0.0  0.0  0.0\n0     120   83    6    0.0    0.0  0.0  0.0\n0      28    5    1    0.0    0.0  0.0  0.0\n0      88  333    6    0.0    0.0  0.0  0.0",
      "text/html": "<div>\n<style scoped>\n    .dataframe tbody tr th:only-of-type {\n        vertical-align: middle;\n    }\n\n    .dataframe tbody tr th {\n        vertical-align: top;\n    }\n\n    .dataframe thead th {\n        text-align: right;\n    }\n</style>\n<table border=\"1\" class=\"dataframe\">\n  <thead>\n    <tr style=\"text-align: right;\">\n      <th></th>\n      <th>lat</th>\n      <th>lon</th>\n      <th>lev</th>\n      <th>u_est</th>\n      <th>v_est</th>\n      <th>u</th>\n      <th>v</th>\n    </tr>\n    <tr>\n      <th>time</th>\n      <th></th>\n      <th></th>\n      <th></th>\n      <th></th>\n      <th></th>\n      <th></th>\n      <th></th>\n    </tr>\n  </thead>\n  <tbody>\n    <tr>\n      <th>0</th>\n      <td>321</td>\n      <td>371</td>\n      <td>16</td>\n      <td>0.0</td>\n      <td>0.0</td>\n      <td>0.0</td>\n      <td>0.0</td>\n    </tr>\n    <tr>\n      <th>0</th>\n      <td>41</td>\n      <td>82</td>\n      <td>24</td>\n      <td>0.0</td>\n      <td>0.0</td>\n      <td>0.0</td>\n      <td>0.0</td>\n    </tr>\n    <tr>\n      <th>0</th>\n      <td>120</td>\n      <td>83</td>\n      <td>6</td>\n      <td>0.0</td>\n      <td>0.0</td>\n      <td>0.0</td>\n      <td>0.0</td>\n    </tr>\n    <tr>\n      <th>0</th>\n      <td>28</td>\n      <td>5</td>\n      <td>1</td>\n      <td>0.0</td>\n      <td>0.0</td>\n      <td>0.0</td>\n      <td>0.0</td>\n    </tr>\n    <tr>\n      <th>0</th>\n      <td>88</td>\n      <td>333</td>\n      <td>6</td>\n      <td>0.0</td>\n      <td>0.0</td>\n      <td>0.0</td>\n      <td>0.0</td>\n    </tr>\n  </tbody>\n</table>\n</div>"
     },
     "execution_count": 52,
     "metadata": {},
     "output_type": "execute_result"
    }
   ],
   "source": [
    "n = 100000000\n",
    "longitudes = np.random.randint(0, 576, size=n, dtype=\"uint16\")\n",
    "latitudes = np.random.randint(0, 361, size=n, dtype=\"uint16\")\n",
    "times = np.random.randint(0, 365 * 8, size=n, dtype=\"uint16\")\n",
    "levels = np.random.randint(0, 36, size=n, dtype=\"uint8\")\n",
    "\n",
    "east_wind_est = np.zeros(shape=n, dtype=\"float16\")\n",
    "north_wind_est = np.zeros(shape=n, dtype=\"float16\")\n",
    "\n",
    "east_wind = np.zeros(shape=n, dtype=\"float16\")\n",
    "north_wind = np.zeros(shape=n, dtype=\"float16\")\n",
    "\n",
    "data = pd.DataFrame({\"lat\": latitudes, \"lon\": longitudes, \"lev\": levels, \"time\": times,\n",
    "                     \"u_est\": east_wind_est, \"v_est\": north_wind_est,\n",
    "                     \"u\": east_wind, \"v\": north_wind})\n",
    "data = data.sort_values(by=\"time\", ignore_index=True)\n",
    "data = data.set_index(\"time\")\n",
    "data.head()"
   ],
   "metadata": {
    "collapsed": false
   }
  },
  {
   "cell_type": "code",
   "execution_count": 45,
   "outputs": [
    {
     "name": "stdout",
     "output_type": "stream",
     "text": [
      "Size: 1500.0 MB\n",
      "Duplicates: 0.228901%\n"
     ]
    }
   ],
   "source": [
    "print(f\"Size: {data.memory_usage().sum() / (1000 ** 2)} MB\")\n",
    "print(f\"Duplicates: {100 * data.duplicated(subset=['lat', 'lon', 'lev', 'time']).sum() / n:.3f}%\")\n"
   ],
   "metadata": {
    "collapsed": false
   }
  },
  {
   "cell_type": "code",
   "execution_count": 3,
   "outputs": [],
   "source": [
    "estimate_quantile = 0.9935"
   ],
   "metadata": {
    "collapsed": false
   }
  },
  {
   "cell_type": "code",
   "execution_count": 55,
   "outputs": [
    {
     "data": {
      "text/plain": "      lat  lon  lev  u_est  v_est    u    v\ntime                                       \n2     162  134   29    0.0    0.0  0.0  0.0\n2     117  407   23    0.0    0.0  0.0  0.0\n2     358  547   12    0.0    0.0  0.0  0.0\n2      43   83   25    0.0    0.0  0.0  0.0\n2     334  541   22    0.0    0.0  0.0  0.0\n...   ...  ...  ...    ...    ...  ...  ...\n2     234  172   22    0.0    0.0  0.0  0.0\n2     338   14   31    0.0    0.0  0.0  0.0\n2     280  147   27    0.0    0.0  0.0  0.0\n2     277  394    3    0.0    0.0  0.0  0.0\n2     349  452   16    0.0    0.0  0.0  0.0\n\n[34196 rows x 7 columns]",
      "text/html": "<div>\n<style scoped>\n    .dataframe tbody tr th:only-of-type {\n        vertical-align: middle;\n    }\n\n    .dataframe tbody tr th {\n        vertical-align: top;\n    }\n\n    .dataframe thead th {\n        text-align: right;\n    }\n</style>\n<table border=\"1\" class=\"dataframe\">\n  <thead>\n    <tr style=\"text-align: right;\">\n      <th></th>\n      <th>lat</th>\n      <th>lon</th>\n      <th>lev</th>\n      <th>u_est</th>\n      <th>v_est</th>\n      <th>u</th>\n      <th>v</th>\n    </tr>\n    <tr>\n      <th>time</th>\n      <th></th>\n      <th></th>\n      <th></th>\n      <th></th>\n      <th></th>\n      <th></th>\n      <th></th>\n    </tr>\n  </thead>\n  <tbody>\n    <tr>\n      <th>2</th>\n      <td>162</td>\n      <td>134</td>\n      <td>29</td>\n      <td>0.0</td>\n      <td>0.0</td>\n      <td>0.0</td>\n      <td>0.0</td>\n    </tr>\n    <tr>\n      <th>2</th>\n      <td>117</td>\n      <td>407</td>\n      <td>23</td>\n      <td>0.0</td>\n      <td>0.0</td>\n      <td>0.0</td>\n      <td>0.0</td>\n    </tr>\n    <tr>\n      <th>2</th>\n      <td>358</td>\n      <td>547</td>\n      <td>12</td>\n      <td>0.0</td>\n      <td>0.0</td>\n      <td>0.0</td>\n      <td>0.0</td>\n    </tr>\n    <tr>\n      <th>2</th>\n      <td>43</td>\n      <td>83</td>\n      <td>25</td>\n      <td>0.0</td>\n      <td>0.0</td>\n      <td>0.0</td>\n      <td>0.0</td>\n    </tr>\n    <tr>\n      <th>2</th>\n      <td>334</td>\n      <td>541</td>\n      <td>22</td>\n      <td>0.0</td>\n      <td>0.0</td>\n      <td>0.0</td>\n      <td>0.0</td>\n    </tr>\n    <tr>\n      <th>...</th>\n      <td>...</td>\n      <td>...</td>\n      <td>...</td>\n      <td>...</td>\n      <td>...</td>\n      <td>...</td>\n      <td>...</td>\n    </tr>\n    <tr>\n      <th>2</th>\n      <td>234</td>\n      <td>172</td>\n      <td>22</td>\n      <td>0.0</td>\n      <td>0.0</td>\n      <td>0.0</td>\n      <td>0.0</td>\n    </tr>\n    <tr>\n      <th>2</th>\n      <td>338</td>\n      <td>14</td>\n      <td>31</td>\n      <td>0.0</td>\n      <td>0.0</td>\n      <td>0.0</td>\n      <td>0.0</td>\n    </tr>\n    <tr>\n      <th>2</th>\n      <td>280</td>\n      <td>147</td>\n      <td>27</td>\n      <td>0.0</td>\n      <td>0.0</td>\n      <td>0.0</td>\n      <td>0.0</td>\n    </tr>\n    <tr>\n      <th>2</th>\n      <td>277</td>\n      <td>394</td>\n      <td>3</td>\n      <td>0.0</td>\n      <td>0.0</td>\n      <td>0.0</td>\n      <td>0.0</td>\n    </tr>\n    <tr>\n      <th>2</th>\n      <td>349</td>\n      <td>452</td>\n      <td>16</td>\n      <td>0.0</td>\n      <td>0.0</td>\n      <td>0.0</td>\n      <td>0.0</td>\n    </tr>\n  </tbody>\n</table>\n<p>34196 rows × 7 columns</p>\n</div>"
     },
     "execution_count": 55,
     "metadata": {},
     "output_type": "execute_result"
    }
   ],
   "source": [
    "i = 0\n",
    "for mm in range(1, 13):\n",
    "    for dd in range(1, monthrange(2001, mm)[1] + 1):\n",
    "        for t in range(8):\n",
    "            with open(f\"models/3D-dft-daily/U/{estimate_quantile}/YAVG{mm:0>2}{dd:0>2}-{t * 3 + 1:0>2}:30.bin\") as file:\n",
    "                fft = pickle.load(file)\n",
    "            subdata = data.loc[i]\n",
    "            i += 1\n"
   ],
   "metadata": {
    "collapsed": false
   }
  },
  {
   "cell_type": "code",
   "execution_count": 4,
   "outputs": [
    {
     "data": {
      "text/plain": "array([ 4.1648128e+07+0.000000e+00j,  8.0192000e+04+3.186688e+06j,\n       -3.0146560e+07-6.926336e+06j, ..., -1.1688000e+04+6.728000e+03j,\n        6.7520000e+03-1.267200e+04j,  3.6220000e+03+1.270400e+04j])"
     },
     "execution_count": 4,
     "metadata": {},
     "output_type": "execute_result"
    }
   ],
   "source": [
    "with open(f\"models/3D-dft-daily/U/{estimate_quantile}/YAVG0101-01:30.bin\", \"rb\") as file:\n",
    "    fft_raw = pickle.load(file)\n",
    "    fft_real, fft_imag, fft_i_indices, fft_j_indices, fft_k_indices = fft_raw\n",
    "\n",
    "fft_real = decode_zlib(fft_real, dtype=\"float16\")\n",
    "fft_imag = decode_zlib(fft_imag, dtype=\"float16\")\n",
    "fft = fft_real.astype(\"complex64\") * 131072 + fft_imag.astype(\"complex64\") * 131072j\n",
    "\n",
    "fft_i_indices = decode_zlib(fft_i_indices)\n",
    "fft_i_indices = decode_difference_uint8(fft_i_indices)\n",
    "\n",
    "fft_j_indices = decode_zlib(fft_j_indices)\n",
    "fft_j_indices = decode_difference_uint8(fft_j_indices)\n",
    "\n",
    "fft_k_indices = decode_zlib(fft_k_indices)\n",
    "fft_k_indices = decode_difference_uint8(fft_k_indices)\n",
    "\n",
    "fft\n"
   ],
   "metadata": {
    "collapsed": false
   }
  },
  {
   "cell_type": "code",
   "execution_count": 5,
   "outputs": [],
   "source": [
    "actual = idft3_at_time(*fft_raw)"
   ],
   "metadata": {
    "collapsed": false
   }
  },
  {
   "cell_type": "code",
   "execution_count": 96,
   "outputs": [
    {
     "data": {
      "text/plain": "-0.7811151397992238"
     },
     "execution_count": 96,
     "metadata": {},
     "output_type": "execute_result"
    }
   ],
   "source": [
    "phi = 17\n",
    "lam = 35\n",
    "z = 15\n",
    "actual[z, phi, lam]"
   ],
   "metadata": {
    "collapsed": false
   }
  },
  {
   "cell_type": "code",
   "execution_count": 65,
   "outputs": [],
   "source": [
    "import numpy.fft._pocketfft_internal as pfi\n",
    "\n",
    "ifft = np.zeros((36, 361, 289), dtype=\"complex64\")\n",
    "for idx in range(len(fft)):\n",
    "    ifft[fft_i_indices[idx], fft_j_indices[idx], fft_k_indices[idx]] = fft[idx]"
   ],
   "metadata": {
    "collapsed": false
   }
  },
  {
   "cell_type": "code",
   "execution_count": 99,
   "outputs": [
    {
     "data": {
      "text/plain": "-0.7811151397992238"
     },
     "execution_count": 99,
     "metadata": {},
     "output_type": "execute_result"
    }
   ],
   "source": [
    "def irfft3_at_level(a: np.ndarray, lev: int):\n",
    "    out = np.swapaxes(a, axis1=0, axis2=-1)\n",
    "    out = pfi.execute(out, False, False, 1 / 36)  # a, is_real, is_forward, 1 / norm\n",
    "    out = np.moveaxis(out, -1, 0)\n",
    "\n",
    "    out = out[lev, :, :]\n",
    "\n",
    "    out = pfi.execute(out, False, False, 1 / 361)  # a, is_real, is_forward, 1 / norm\n",
    "\n",
    "    return np.fft.irfft(out.T, 576, axis=-1, norm=None)\n",
    "\n",
    "\n",
    "irfft3_at_level(ifft, lev=z)[phi, lam]"
   ],
   "metadata": {
    "collapsed": false
   }
  },
  {
   "cell_type": "code",
   "execution_count": 36,
   "outputs": [
    {
     "data": {
      "text/plain": "(1.0392517891372426-1.5809750783778156j)"
     },
     "execution_count": 36,
     "metadata": {},
     "output_type": "execute_result"
    }
   ],
   "source": [
    "output = 0\n",
    "\n",
    "for i in range(len(fft)):\n",
    "    w = fft_i_indices[i]\n",
    "    u = fft_j_indices[i]\n",
    "    v = fft_k_indices[i]\n",
    "\n",
    "    output += fft[i] * np.exp(2j * np.pi * ((u * phi / 361) + (v * lam / 576) + (w * z / 36)))\n",
    "\n",
    "output /= (361 * 576 * 36)\n",
    "output\n"
   ],
   "metadata": {
    "collapsed": false
   }
  }
 ],
 "metadata": {
  "kernelspec": {
   "display_name": "Python 3",
   "language": "python",
   "name": "python3"
  },
  "language_info": {
   "codemirror_mode": {
    "name": "ipython",
    "version": 2
   },
   "file_extension": ".py",
   "mimetype": "text/x-python",
   "name": "python",
   "nbconvert_exporter": "python",
   "pygments_lexer": "ipython2",
   "version": "2.7.6"
  }
 },
 "nbformat": 4,
 "nbformat_minor": 0
}

{
 "cells": [
  {
   "cell_type": "code",
   "execution_count": 2,
   "metadata": {
    "collapsed": true
   },
   "outputs": [],
   "source": [
    "import pickle\n",
    "\n",
    "from fft import *\n",
    "from data_loading import *\n"
   ]
  },
  {
   "cell_type": "code",
   "execution_count": 5,
   "outputs": [],
   "source": [
    "n = 100000000\n",
    "estimate_quantile = 0.9935"
   ],
   "metadata": {
    "collapsed": false
   }
  },
  {
   "cell_type": "code",
   "execution_count": 277,
   "outputs": [
    {
     "data": {
      "text/plain": "      lev  lat  lon  u_est  v_est    u    v\ntime                                       \n0      17   48  359    0.0    0.0  0.0  0.0\n0      29   59   54    0.0    0.0  0.0  0.0\n0      15   50  392    0.0    0.0  0.0  0.0\n0      14  190  116    0.0    0.0  0.0  0.0\n0       8  324  317    0.0    0.0  0.0  0.0",
      "text/html": "<div>\n<style scoped>\n    .dataframe tbody tr th:only-of-type {\n        vertical-align: middle;\n    }\n\n    .dataframe tbody tr th {\n        vertical-align: top;\n    }\n\n    .dataframe thead th {\n        text-align: right;\n    }\n</style>\n<table border=\"1\" class=\"dataframe\">\n  <thead>\n    <tr style=\"text-align: right;\">\n      <th></th>\n      <th>lev</th>\n      <th>lat</th>\n      <th>lon</th>\n      <th>u_est</th>\n      <th>v_est</th>\n      <th>u</th>\n      <th>v</th>\n    </tr>\n    <tr>\n      <th>time</th>\n      <th></th>\n      <th></th>\n      <th></th>\n      <th></th>\n      <th></th>\n      <th></th>\n      <th></th>\n    </tr>\n  </thead>\n  <tbody>\n    <tr>\n      <th>0</th>\n      <td>17</td>\n      <td>48</td>\n      <td>359</td>\n      <td>0.0</td>\n      <td>0.0</td>\n      <td>0.0</td>\n      <td>0.0</td>\n    </tr>\n    <tr>\n      <th>0</th>\n      <td>29</td>\n      <td>59</td>\n      <td>54</td>\n      <td>0.0</td>\n      <td>0.0</td>\n      <td>0.0</td>\n      <td>0.0</td>\n    </tr>\n    <tr>\n      <th>0</th>\n      <td>15</td>\n      <td>50</td>\n      <td>392</td>\n      <td>0.0</td>\n      <td>0.0</td>\n      <td>0.0</td>\n      <td>0.0</td>\n    </tr>\n    <tr>\n      <th>0</th>\n      <td>14</td>\n      <td>190</td>\n      <td>116</td>\n      <td>0.0</td>\n      <td>0.0</td>\n      <td>0.0</td>\n      <td>0.0</td>\n    </tr>\n    <tr>\n      <th>0</th>\n      <td>8</td>\n      <td>324</td>\n      <td>317</td>\n      <td>0.0</td>\n      <td>0.0</td>\n      <td>0.0</td>\n      <td>0.0</td>\n    </tr>\n  </tbody>\n</table>\n</div>"
     },
     "execution_count": 277,
     "metadata": {},
     "output_type": "execute_result"
    }
   ],
   "source": [
    "longitudes = np.random.randint(0, 576, size=n, dtype=\"uint16\")\n",
    "latitudes = np.random.randint(0, 361, size=n, dtype=\"uint16\")\n",
    "times = np.random.randint(0, 365 * 8, size=n, dtype=\"uint16\")\n",
    "levels = np.random.randint(0, 36, size=n, dtype=\"uint8\")\n",
    "\n",
    "zeros = np.zeros(shape=n, dtype=\"float16\")\n",
    "\n",
    "data = pd.DataFrame({\"time\": times, \"lev\": levels, \"lat\": latitudes, \"lon\": longitudes,\n",
    "                     \"u_est\": zeros, \"v_est\": zeros, \"u\": zeros, \"v\": zeros})\n",
    "data = data.sort_values(by=\"time\", ignore_index=True)\n",
    "data = data.set_index(\"time\")\n",
    "data.head()"
   ],
   "metadata": {
    "collapsed": false
   }
  },
  {
   "cell_type": "code",
   "execution_count": 45,
   "outputs": [
    {
     "name": "stdout",
     "output_type": "stream",
     "text": [
      "Size: 1500.0 MB\n",
      "Duplicates: 0.228901%\n"
     ]
    }
   ],
   "source": [
    "print(f\"Size: {data.memory_usage().sum() / (1000 ** 2)} MB\")\n",
    "print(f\"Duplicates: {100 * data.duplicated(subset=['lat', 'lon', 'lev', 'time']).sum() / n:.3f}%\")\n"
   ],
   "metadata": {
    "collapsed": false
   }
  },
  {
   "cell_type": "code",
   "execution_count": null,
   "outputs": [],
   "source": [
    "i = 0\n",
    "for mm in tqdm(range(1, 13)):\n",
    "    for dd in tqdm(range(1, monthrange(2001, mm)[1] + 1)):\n",
    "        for t in range(8):\n",
    "            indices = data.loc[i][[\"lev\", \"lat\", \"lon\"]].values.T\n",
    "\n",
    "            filename = f\"YAVG{mm:0>2}{dd:0>2}-{t * 3 + 1:0>2}:30.bin\"\n",
    "\n",
    "            with open(f\"models/3D-dft-daily/U/{estimate_quantile}/{filename}\", \"rb\") as file:\n",
    "                fft = pickle.load(file)\n",
    "                estimate = idft3_at_time(*fft)\n",
    "                u_est = estimate[*indices]\n",
    "\n",
    "            with open(f\"models/3D-dft-daily/V/{estimate_quantile}/{filename}\", \"rb\") as file:\n",
    "                fft = pickle.load(file)\n",
    "                estimate = idft3_at_time(*fft)\n",
    "                v_est = estimate[*indices]\n",
    "\n",
    "            data.loc[i, \"u_est\"] = u_est.astype(\"float16\")\n",
    "            data.loc[i, \"v_est\"] = v_est.astype(\"float16\")\n",
    "\n",
    "            filename = f\"MERRA2.tavg3_3d_asm_Nv.YAVG{mm:0>2}{dd:0>2}.nc4\"\n",
    "\n",
    "            actual = load_variable_at_time(filename, \"U\", t, cache=False)\n",
    "            data.loc[i, \"u\"] = actual[*indices]\n",
    "\n",
    "            actual = load_variable_at_time(filename, \"V\", t, cache=False)\n",
    "            data.loc[i, \"v\"] = actual[*indices]\n",
    "\n",
    "            i += 1\n"
   ],
   "metadata": {
    "collapsed": false,
    "pycharm": {
     "is_executing": true
    }
   }
  },
  {
   "cell_type": "code",
   "execution_count": 321,
   "outputs": [
    {
     "data": {
      "text/plain": "   time  lev  lat  lon      u_est     v_est          u         v\n0     0   17   48  359  -5.468750 -1.162109  -5.003906 -0.922852\n1     0   29   59   54  10.289062 -2.681641  10.375000 -2.595703\n2     0   15   50  392   0.776367  0.741211   0.597656  0.539062\n3     0   14  190  116  -5.000000 -1.376953  -4.503906 -1.520508\n4     0    8  324  317   7.867188  0.561523   7.277344  0.813477",
      "text/html": "<div>\n<style scoped>\n    .dataframe tbody tr th:only-of-type {\n        vertical-align: middle;\n    }\n\n    .dataframe tbody tr th {\n        vertical-align: top;\n    }\n\n    .dataframe thead th {\n        text-align: right;\n    }\n</style>\n<table border=\"1\" class=\"dataframe\">\n  <thead>\n    <tr style=\"text-align: right;\">\n      <th></th>\n      <th>time</th>\n      <th>lev</th>\n      <th>lat</th>\n      <th>lon</th>\n      <th>u_est</th>\n      <th>v_est</th>\n      <th>u</th>\n      <th>v</th>\n    </tr>\n  </thead>\n  <tbody>\n    <tr>\n      <th>0</th>\n      <td>0</td>\n      <td>17</td>\n      <td>48</td>\n      <td>359</td>\n      <td>-5.468750</td>\n      <td>-1.162109</td>\n      <td>-5.003906</td>\n      <td>-0.922852</td>\n    </tr>\n    <tr>\n      <th>1</th>\n      <td>0</td>\n      <td>29</td>\n      <td>59</td>\n      <td>54</td>\n      <td>10.289062</td>\n      <td>-2.681641</td>\n      <td>10.375000</td>\n      <td>-2.595703</td>\n    </tr>\n    <tr>\n      <th>2</th>\n      <td>0</td>\n      <td>15</td>\n      <td>50</td>\n      <td>392</td>\n      <td>0.776367</td>\n      <td>0.741211</td>\n      <td>0.597656</td>\n      <td>0.539062</td>\n    </tr>\n    <tr>\n      <th>3</th>\n      <td>0</td>\n      <td>14</td>\n      <td>190</td>\n      <td>116</td>\n      <td>-5.000000</td>\n      <td>-1.376953</td>\n      <td>-4.503906</td>\n      <td>-1.520508</td>\n    </tr>\n    <tr>\n      <th>4</th>\n      <td>0</td>\n      <td>8</td>\n      <td>324</td>\n      <td>317</td>\n      <td>7.867188</td>\n      <td>0.561523</td>\n      <td>7.277344</td>\n      <td>0.813477</td>\n    </tr>\n  </tbody>\n</table>\n</div>"
     },
     "execution_count": 321,
     "metadata": {},
     "output_type": "execute_result"
    }
   ],
   "source": [
    "df = data.reset_index()\n",
    "df[\"time\"] = df[\"time\"].astype(\"uint8\")\n",
    "df[\"u_est\"] = df[\"u_est\"].astype(\"float16\")\n",
    "df[\"v_est\"] = df[\"v_est\"].astype(\"float16\")\n",
    "df = df.sample(frac=1, ignore_index=True)  # shuffle\n",
    "df.head()\n"
   ],
   "metadata": {
    "collapsed": false
   }
  },
  {
   "cell_type": "code",
   "execution_count": 10,
   "outputs": [],
   "source": [
    "df.to_feather(f\"raw/subset/UV-{estimate_quantile}-{n}.ft\")\n"
   ],
   "metadata": {
    "collapsed": false
   }
  }
 ],
 "metadata": {
  "kernelspec": {
   "display_name": "Python 3",
   "language": "python",
   "name": "python3"
  },
  "language_info": {
   "codemirror_mode": {
    "name": "ipython",
    "version": 2
   },
   "file_extension": ".py",
   "mimetype": "text/x-python",
   "name": "python",
   "nbconvert_exporter": "python",
   "pygments_lexer": "ipython2",
   "version": "2.7.6"
  }
 },
 "nbformat": 4,
 "nbformat_minor": 0
}

{
 "cells": [
  {
   "cell_type": "code",
   "execution_count": 1,
   "metadata": {
    "collapsed": true
   },
   "outputs": [],
   "source": [
    "import pickle\n",
    "\n",
    "from fft import *\n",
    "from data_loading import *\n"
   ]
  },
  {
   "cell_type": "code",
   "execution_count": 235,
   "outputs": [],
   "source": [
    "import numpy.fft._pocketfft_internal as pfi\n",
    "\n",
    "\n",
    "def irfft3_at_level(a: np.ndarray, lev: int):\n",
    "    out = np.swapaxes(a, axis1=0, axis2=-1)\n",
    "    out = pfi.execute(out, False, False, 1 / 36)  # a, is_real, is_forward, 1 / norm\n",
    "    out = np.moveaxis(out, -1, 0)\n",
    "\n",
    "    out = out[lev, :, :]\n",
    "    out = pfi.execute(out, False, False, 1 / 361)  # a, is_real, is_forward, 1 / norm\n",
    "\n",
    "    return np.fft.irfft(out.T, 576, axis=-1, norm=None)\n",
    "\n",
    "\n",
    "def irfft3_at_level_and_latitude(a: np.ndarray, lev: int, lat: int):\n",
    "    out = np.swapaxes(a, axis1=0, axis2=-1)\n",
    "    out = pfi.execute(out, False, False, 1 / 36)  # a, is_real, is_forward, 1 / norm\n",
    "    out = np.moveaxis(out, -1, 0)\n",
    "\n",
    "    out = out[lev]\n",
    "    out = pfi.execute(out, False, False, 1 / 361)  # a, is_real, is_forward, 1 / norm\n",
    "    out = out.T[lat]\n",
    "\n",
    "    return np.fft.irfft(out, 576, axis=-1, norm=None)\n"
   ],
   "metadata": {
    "collapsed": false
   }
  },
  {
   "cell_type": "code",
   "execution_count": 238,
   "outputs": [],
   "source": [
    "n = 100000000\n",
    "estimate_quantile = 0.9935"
   ],
   "metadata": {
    "collapsed": false
   }
  },
  {
   "cell_type": "code",
   "execution_count": 277,
   "outputs": [
    {
     "data": {
      "text/plain": "      lev  lat  lon  u_est  v_est    u    v\ntime                                       \n0      17   48  359    0.0    0.0  0.0  0.0\n0      29   59   54    0.0    0.0  0.0  0.0\n0      15   50  392    0.0    0.0  0.0  0.0\n0      14  190  116    0.0    0.0  0.0  0.0\n0       8  324  317    0.0    0.0  0.0  0.0",
      "text/html": "<div>\n<style scoped>\n    .dataframe tbody tr th:only-of-type {\n        vertical-align: middle;\n    }\n\n    .dataframe tbody tr th {\n        vertical-align: top;\n    }\n\n    .dataframe thead th {\n        text-align: right;\n    }\n</style>\n<table border=\"1\" class=\"dataframe\">\n  <thead>\n    <tr style=\"text-align: right;\">\n      <th></th>\n      <th>lev</th>\n      <th>lat</th>\n      <th>lon</th>\n      <th>u_est</th>\n      <th>v_est</th>\n      <th>u</th>\n      <th>v</th>\n    </tr>\n    <tr>\n      <th>time</th>\n      <th></th>\n      <th></th>\n      <th></th>\n      <th></th>\n      <th></th>\n      <th></th>\n      <th></th>\n    </tr>\n  </thead>\n  <tbody>\n    <tr>\n      <th>0</th>\n      <td>17</td>\n      <td>48</td>\n      <td>359</td>\n      <td>0.0</td>\n      <td>0.0</td>\n      <td>0.0</td>\n      <td>0.0</td>\n    </tr>\n    <tr>\n      <th>0</th>\n      <td>29</td>\n      <td>59</td>\n      <td>54</td>\n      <td>0.0</td>\n      <td>0.0</td>\n      <td>0.0</td>\n      <td>0.0</td>\n    </tr>\n    <tr>\n      <th>0</th>\n      <td>15</td>\n      <td>50</td>\n      <td>392</td>\n      <td>0.0</td>\n      <td>0.0</td>\n      <td>0.0</td>\n      <td>0.0</td>\n    </tr>\n    <tr>\n      <th>0</th>\n      <td>14</td>\n      <td>190</td>\n      <td>116</td>\n      <td>0.0</td>\n      <td>0.0</td>\n      <td>0.0</td>\n      <td>0.0</td>\n    </tr>\n    <tr>\n      <th>0</th>\n      <td>8</td>\n      <td>324</td>\n      <td>317</td>\n      <td>0.0</td>\n      <td>0.0</td>\n      <td>0.0</td>\n      <td>0.0</td>\n    </tr>\n  </tbody>\n</table>\n</div>"
     },
     "execution_count": 277,
     "metadata": {},
     "output_type": "execute_result"
    }
   ],
   "source": [
    "longitudes = np.random.randint(0, 576, size=n, dtype=\"uint16\")\n",
    "latitudes = np.random.randint(0, 361, size=n, dtype=\"uint16\")\n",
    "times = np.random.randint(0, 365 * 8, size=n, dtype=\"uint16\")\n",
    "levels = np.random.randint(0, 36, size=n, dtype=\"uint8\")\n",
    "\n",
    "zeros = np.zeros(shape=n, dtype=\"float16\")\n",
    "\n",
    "data = pd.DataFrame({\"time\": times, \"lev\": levels, \"lat\": latitudes, \"lon\": longitudes,\n",
    "                     \"u_est\": zeros, \"v_est\": zeros, \"u\": zeros, \"v\": zeros})\n",
    "data = data.sort_values(by=\"time\", ignore_index=True)\n",
    "data = data.set_index(\"time\")\n",
    "data.head()"
   ],
   "metadata": {
    "collapsed": false
   }
  },
  {
   "cell_type": "code",
   "execution_count": 45,
   "outputs": [
    {
     "name": "stdout",
     "output_type": "stream",
     "text": [
      "Size: 1500.0 MB\n",
      "Duplicates: 0.228901%\n"
     ]
    }
   ],
   "source": [
    "print(f\"Size: {data.memory_usage().sum() / (1000 ** 2)} MB\")\n",
    "print(f\"Duplicates: {100 * data.duplicated(subset=['lat', 'lon', 'lev', 'time']).sum() / n:.3f}%\")\n"
   ],
   "metadata": {
    "collapsed": false
   }
  },
  {
   "cell_type": "code",
   "execution_count": 313,
   "outputs": [
    {
     "data": {
      "text/plain": "  0%|          | 0/12 [00:00<?, ?it/s]",
      "application/vnd.jupyter.widget-view+json": {
       "version_major": 2,
       "version_minor": 0,
       "model_id": "bfaea22380c047d6a69b14e6d848a7ca"
      }
     },
     "metadata": {},
     "output_type": "display_data"
    },
    {
     "data": {
      "text/plain": "  0%|          | 0/31 [00:00<?, ?it/s]",
      "application/vnd.jupyter.widget-view+json": {
       "version_major": 2,
       "version_minor": 0,
       "model_id": "94a5382c5afe4881b9ebd83affab00a1"
      }
     },
     "metadata": {},
     "output_type": "display_data"
    },
    {
     "data": {
      "text/plain": "  0%|          | 0/28 [00:00<?, ?it/s]",
      "application/vnd.jupyter.widget-view+json": {
       "version_major": 2,
       "version_minor": 0,
       "model_id": "27d09000e362469896862614b4867d5e"
      }
     },
     "metadata": {},
     "output_type": "display_data"
    },
    {
     "data": {
      "text/plain": "  0%|          | 0/31 [00:00<?, ?it/s]",
      "application/vnd.jupyter.widget-view+json": {
       "version_major": 2,
       "version_minor": 0,
       "model_id": "a591768bb3214e46a7713b4fdcf3c1b2"
      }
     },
     "metadata": {},
     "output_type": "display_data"
    },
    {
     "data": {
      "text/plain": "  0%|          | 0/30 [00:00<?, ?it/s]",
      "application/vnd.jupyter.widget-view+json": {
       "version_major": 2,
       "version_minor": 0,
       "model_id": "936aa547e8e9431dbd3d6fd3ba65edec"
      }
     },
     "metadata": {},
     "output_type": "display_data"
    },
    {
     "data": {
      "text/plain": "  0%|          | 0/31 [00:00<?, ?it/s]",
      "application/vnd.jupyter.widget-view+json": {
       "version_major": 2,
       "version_minor": 0,
       "model_id": "5b88bd21fba04dc2b0a5c57e013da265"
      }
     },
     "metadata": {},
     "output_type": "display_data"
    },
    {
     "data": {
      "text/plain": "  0%|          | 0/30 [00:00<?, ?it/s]",
      "application/vnd.jupyter.widget-view+json": {
       "version_major": 2,
       "version_minor": 0,
       "model_id": "beae5872b4c74b38b4599ecf48d163b8"
      }
     },
     "metadata": {},
     "output_type": "display_data"
    },
    {
     "data": {
      "text/plain": "  0%|          | 0/31 [00:00<?, ?it/s]",
      "application/vnd.jupyter.widget-view+json": {
       "version_major": 2,
       "version_minor": 0,
       "model_id": "4454136aeace4c27b66305ca077c4ce2"
      }
     },
     "metadata": {},
     "output_type": "display_data"
    },
    {
     "data": {
      "text/plain": "  0%|          | 0/31 [00:00<?, ?it/s]",
      "application/vnd.jupyter.widget-view+json": {
       "version_major": 2,
       "version_minor": 0,
       "model_id": "1d7dc5fd6a8c429fa3f4d3dab88c04f3"
      }
     },
     "metadata": {},
     "output_type": "display_data"
    },
    {
     "data": {
      "text/plain": "  0%|          | 0/30 [00:00<?, ?it/s]",
      "application/vnd.jupyter.widget-view+json": {
       "version_major": 2,
       "version_minor": 0,
       "model_id": "3455a234dedd4b749844f512159dff51"
      }
     },
     "metadata": {},
     "output_type": "display_data"
    },
    {
     "data": {
      "text/plain": "  0%|          | 0/31 [00:00<?, ?it/s]",
      "application/vnd.jupyter.widget-view+json": {
       "version_major": 2,
       "version_minor": 0,
       "model_id": "ba05f0ab13f4441687304227b47625c6"
      }
     },
     "metadata": {},
     "output_type": "display_data"
    },
    {
     "data": {
      "text/plain": "  0%|          | 0/30 [00:00<?, ?it/s]",
      "application/vnd.jupyter.widget-view+json": {
       "version_major": 2,
       "version_minor": 0,
       "model_id": "45c7f3a123f04d40ae6722e1f91d14f2"
      }
     },
     "metadata": {},
     "output_type": "display_data"
    },
    {
     "data": {
      "text/plain": "  0%|          | 0/31 [00:00<?, ?it/s]",
      "application/vnd.jupyter.widget-view+json": {
       "version_major": 2,
       "version_minor": 0,
       "model_id": "ca93b6b1672d4c53b57252d18b79ccd4"
      }
     },
     "metadata": {},
     "output_type": "display_data"
    },
    {
     "ename": "ValueError",
     "evalue": "feather does not support serializing <class 'pandas.core.indexes.numeric.UInt64Index'> for the index; you can .reset_index() to make the index into column(s)",
     "output_type": "error",
     "traceback": [
      "\u001B[0;31m---------------------------------------------------------------------------\u001B[0m",
      "\u001B[0;31mValueError\u001B[0m                                Traceback (most recent call last)",
      "Cell \u001B[0;32mIn[313], line 32\u001B[0m\n\u001B[1;32m     28\u001B[0m             data\u001B[38;5;241m.\u001B[39mloc[i, \u001B[38;5;124m\"\u001B[39m\u001B[38;5;124mv\u001B[39m\u001B[38;5;124m\"\u001B[39m] \u001B[38;5;241m=\u001B[39m actual[\u001B[38;5;241m*\u001B[39mindices]\n\u001B[1;32m     30\u001B[0m             i \u001B[38;5;241m+\u001B[39m\u001B[38;5;241m=\u001B[39m \u001B[38;5;241m1\u001B[39m\n\u001B[0;32m---> 32\u001B[0m \u001B[43mdata\u001B[49m\u001B[38;5;241;43m.\u001B[39;49m\u001B[43mto_feather\u001B[49m\u001B[43m(\u001B[49m\u001B[38;5;124;43mf\u001B[39;49m\u001B[38;5;124;43m\"\u001B[39;49m\u001B[38;5;124;43mraw/subset/UV-\u001B[39;49m\u001B[38;5;132;43;01m{\u001B[39;49;00m\u001B[43mestimate_quantile\u001B[49m\u001B[38;5;132;43;01m}\u001B[39;49;00m\u001B[38;5;124;43m-\u001B[39;49m\u001B[38;5;132;43;01m{\u001B[39;49;00m\u001B[43mn\u001B[49m\u001B[38;5;132;43;01m}\u001B[39;49;00m\u001B[38;5;124;43m.ft\u001B[39;49m\u001B[38;5;124;43m\"\u001B[39;49m\u001B[43m)\u001B[49m\n",
      "File \u001B[0;32m/Library/Frameworks/Python.framework/Versions/3.11/lib/python3.11/site-packages/pandas/util/_decorators.py:211\u001B[0m, in \u001B[0;36mdeprecate_kwarg.<locals>._deprecate_kwarg.<locals>.wrapper\u001B[0;34m(*args, **kwargs)\u001B[0m\n\u001B[1;32m    209\u001B[0m     \u001B[38;5;28;01melse\u001B[39;00m:\n\u001B[1;32m    210\u001B[0m         kwargs[new_arg_name] \u001B[38;5;241m=\u001B[39m new_arg_value\n\u001B[0;32m--> 211\u001B[0m \u001B[38;5;28;01mreturn\u001B[39;00m \u001B[43mfunc\u001B[49m\u001B[43m(\u001B[49m\u001B[38;5;241;43m*\u001B[39;49m\u001B[43margs\u001B[49m\u001B[43m,\u001B[49m\u001B[43m \u001B[49m\u001B[38;5;241;43m*\u001B[39;49m\u001B[38;5;241;43m*\u001B[39;49m\u001B[43mkwargs\u001B[49m\u001B[43m)\u001B[49m\n",
      "File \u001B[0;32m/Library/Frameworks/Python.framework/Versions/3.11/lib/python3.11/site-packages/pandas/core/frame.py:2794\u001B[0m, in \u001B[0;36mDataFrame.to_feather\u001B[0;34m(self, path, **kwargs)\u001B[0m\n\u001B[1;32m   2769\u001B[0m \u001B[38;5;250m\u001B[39m\u001B[38;5;124;03m\"\"\"\u001B[39;00m\n\u001B[1;32m   2770\u001B[0m \u001B[38;5;124;03mWrite a DataFrame to the binary Feather format.\u001B[39;00m\n\u001B[1;32m   2771\u001B[0m \n\u001B[0;32m   (...)\u001B[0m\n\u001B[1;32m   2790\u001B[0m \u001B[38;5;124;03msupports custom indices e.g. `to_parquet`.\u001B[39;00m\n\u001B[1;32m   2791\u001B[0m \u001B[38;5;124;03m\"\"\"\u001B[39;00m\n\u001B[1;32m   2792\u001B[0m \u001B[38;5;28;01mfrom\u001B[39;00m \u001B[38;5;21;01mpandas\u001B[39;00m\u001B[38;5;21;01m.\u001B[39;00m\u001B[38;5;21;01mio\u001B[39;00m\u001B[38;5;21;01m.\u001B[39;00m\u001B[38;5;21;01mfeather_format\u001B[39;00m \u001B[38;5;28;01mimport\u001B[39;00m to_feather\n\u001B[0;32m-> 2794\u001B[0m \u001B[43mto_feather\u001B[49m\u001B[43m(\u001B[49m\u001B[38;5;28;43mself\u001B[39;49m\u001B[43m,\u001B[49m\u001B[43m \u001B[49m\u001B[43mpath\u001B[49m\u001B[43m,\u001B[49m\u001B[43m \u001B[49m\u001B[38;5;241;43m*\u001B[39;49m\u001B[38;5;241;43m*\u001B[39;49m\u001B[43mkwargs\u001B[49m\u001B[43m)\u001B[49m\n",
      "File \u001B[0;32m/Library/Frameworks/Python.framework/Versions/3.11/lib/python3.11/site-packages/pandas/io/feather_format.py:67\u001B[0m, in \u001B[0;36mto_feather\u001B[0;34m(df, path, storage_options, **kwargs)\u001B[0m\n\u001B[1;32m     65\u001B[0m \u001B[38;5;28;01mif\u001B[39;00m \u001B[38;5;129;01mnot\u001B[39;00m \u001B[38;5;28misinstance\u001B[39m(df\u001B[38;5;241m.\u001B[39mindex, (Int64Index, RangeIndex)):\n\u001B[1;32m     66\u001B[0m     typ \u001B[38;5;241m=\u001B[39m \u001B[38;5;28mtype\u001B[39m(df\u001B[38;5;241m.\u001B[39mindex)\n\u001B[0;32m---> 67\u001B[0m     \u001B[38;5;28;01mraise\u001B[39;00m \u001B[38;5;167;01mValueError\u001B[39;00m(\n\u001B[1;32m     68\u001B[0m         \u001B[38;5;124mf\u001B[39m\u001B[38;5;124m\"\u001B[39m\u001B[38;5;124mfeather does not support serializing \u001B[39m\u001B[38;5;132;01m{\u001B[39;00mtyp\u001B[38;5;132;01m}\u001B[39;00m\u001B[38;5;124m \u001B[39m\u001B[38;5;124m\"\u001B[39m\n\u001B[1;32m     69\u001B[0m         \u001B[38;5;124m\"\u001B[39m\u001B[38;5;124mfor the index; you can .reset_index() to make the index into column(s)\u001B[39m\u001B[38;5;124m\"\u001B[39m\n\u001B[1;32m     70\u001B[0m     )\n\u001B[1;32m     72\u001B[0m \u001B[38;5;28;01mif\u001B[39;00m \u001B[38;5;129;01mnot\u001B[39;00m df\u001B[38;5;241m.\u001B[39mindex\u001B[38;5;241m.\u001B[39mequals(RangeIndex\u001B[38;5;241m.\u001B[39mfrom_range(\u001B[38;5;28mrange\u001B[39m(\u001B[38;5;28mlen\u001B[39m(df)))):\n\u001B[1;32m     73\u001B[0m     \u001B[38;5;28;01mraise\u001B[39;00m \u001B[38;5;167;01mValueError\u001B[39;00m(\n\u001B[1;32m     74\u001B[0m         \u001B[38;5;124m\"\u001B[39m\u001B[38;5;124mfeather does not support serializing a non-default index for the index; \u001B[39m\u001B[38;5;124m\"\u001B[39m\n\u001B[1;32m     75\u001B[0m         \u001B[38;5;124m\"\u001B[39m\u001B[38;5;124myou can .reset_index() to make the index into column(s)\u001B[39m\u001B[38;5;124m\"\u001B[39m\n\u001B[1;32m     76\u001B[0m     )\n",
      "\u001B[0;31mValueError\u001B[0m: feather does not support serializing <class 'pandas.core.indexes.numeric.UInt64Index'> for the index; you can .reset_index() to make the index into column(s)"
     ]
    }
   ],
   "source": [
    "i = 0\n",
    "for mm in tqdm(range(1, 13)):\n",
    "    for dd in tqdm(range(1, monthrange(2001, mm)[1] + 1)):\n",
    "        for t in range(8):\n",
    "            indices = data.loc[i][[\"lev\", \"lat\", \"lon\"]].values.T\n",
    "\n",
    "            filename = f\"YAVG{mm:0>2}{dd:0>2}-{t * 3 + 1:0>2}:30.bin\"\n",
    "\n",
    "            with open(f\"models/3D-dft-daily/U/{estimate_quantile}/{filename}\", \"rb\") as file:\n",
    "                fft = pickle.load(file)\n",
    "                estimate = idft3_at_time(*fft)\n",
    "                u_est = estimate[*indices]\n",
    "\n",
    "            with open(f\"models/3D-dft-daily/V/{estimate_quantile}/{filename}\", \"rb\") as file:\n",
    "                fft = pickle.load(file)\n",
    "                estimate = idft3_at_time(*fft)\n",
    "                v_est = estimate[*indices]\n",
    "\n",
    "            data.loc[i, \"u_est\"] = u_est.astype(\"float16\")\n",
    "            data.loc[i, \"v_est\"] = v_est.astype(\"float16\")\n",
    "\n",
    "            filename = f\"MERRA2.tavg3_3d_asm_Nv.YAVG{mm:0>2}{dd:0>2}.nc4\"\n",
    "\n",
    "            actual = load_variable_at_time(filename, \"U\", t, cache=False)\n",
    "            data.loc[i, \"u\"] = actual[*indices]\n",
    "\n",
    "            actual = load_variable_at_time(filename, \"V\", t, cache=False)\n",
    "            data.loc[i, \"v\"] = actual[*indices]\n",
    "\n",
    "            i += 1\n"
   ],
   "metadata": {
    "collapsed": false
   }
  },
  {
   "cell_type": "code",
   "execution_count": 321,
   "outputs": [
    {
     "data": {
      "text/plain": "   time  lev  lat  lon      u_est     v_est          u         v\n0     0   17   48  359  -5.468750 -1.162109  -5.003906 -0.922852\n1     0   29   59   54  10.289062 -2.681641  10.375000 -2.595703\n2     0   15   50  392   0.776367  0.741211   0.597656  0.539062\n3     0   14  190  116  -5.000000 -1.376953  -4.503906 -1.520508\n4     0    8  324  317   7.867188  0.561523   7.277344  0.813477",
      "text/html": "<div>\n<style scoped>\n    .dataframe tbody tr th:only-of-type {\n        vertical-align: middle;\n    }\n\n    .dataframe tbody tr th {\n        vertical-align: top;\n    }\n\n    .dataframe thead th {\n        text-align: right;\n    }\n</style>\n<table border=\"1\" class=\"dataframe\">\n  <thead>\n    <tr style=\"text-align: right;\">\n      <th></th>\n      <th>time</th>\n      <th>lev</th>\n      <th>lat</th>\n      <th>lon</th>\n      <th>u_est</th>\n      <th>v_est</th>\n      <th>u</th>\n      <th>v</th>\n    </tr>\n  </thead>\n  <tbody>\n    <tr>\n      <th>0</th>\n      <td>0</td>\n      <td>17</td>\n      <td>48</td>\n      <td>359</td>\n      <td>-5.468750</td>\n      <td>-1.162109</td>\n      <td>-5.003906</td>\n      <td>-0.922852</td>\n    </tr>\n    <tr>\n      <th>1</th>\n      <td>0</td>\n      <td>29</td>\n      <td>59</td>\n      <td>54</td>\n      <td>10.289062</td>\n      <td>-2.681641</td>\n      <td>10.375000</td>\n      <td>-2.595703</td>\n    </tr>\n    <tr>\n      <th>2</th>\n      <td>0</td>\n      <td>15</td>\n      <td>50</td>\n      <td>392</td>\n      <td>0.776367</td>\n      <td>0.741211</td>\n      <td>0.597656</td>\n      <td>0.539062</td>\n    </tr>\n    <tr>\n      <th>3</th>\n      <td>0</td>\n      <td>14</td>\n      <td>190</td>\n      <td>116</td>\n      <td>-5.000000</td>\n      <td>-1.376953</td>\n      <td>-4.503906</td>\n      <td>-1.520508</td>\n    </tr>\n    <tr>\n      <th>4</th>\n      <td>0</td>\n      <td>8</td>\n      <td>324</td>\n      <td>317</td>\n      <td>7.867188</td>\n      <td>0.561523</td>\n      <td>7.277344</td>\n      <td>0.813477</td>\n    </tr>\n  </tbody>\n</table>\n</div>"
     },
     "execution_count": 321,
     "metadata": {},
     "output_type": "execute_result"
    }
   ],
   "source": [
    "df = data.reset_index()\n",
    "df[\"time\"] = df[\"time\"].astype(\"uint8\")\n",
    "df[\"u_est\"] = df[\"u_est\"].astype(\"float16\")\n",
    "df[\"v_est\"] = df[\"v_est\"].astype(\"float16\")\n",
    "df.head()\n"
   ],
   "metadata": {
    "collapsed": false
   }
  },
  {
   "cell_type": "code",
   "execution_count": 326,
   "outputs": [],
   "source": [
    "df.to_feather(f\"raw/subset/UV-{estimate_quantile}-{n}.ft\")\n"
   ],
   "metadata": {
    "collapsed": false
   }
  }
 ],
 "metadata": {
  "kernelspec": {
   "display_name": "Python 3",
   "language": "python",
   "name": "python3"
  },
  "language_info": {
   "codemirror_mode": {
    "name": "ipython",
    "version": 2
   },
   "file_extension": ".py",
   "mimetype": "text/x-python",
   "name": "python",
   "nbconvert_exporter": "python",
   "pygments_lexer": "ipython2",
   "version": "2.7.6"
  }
 },
 "nbformat": 4,
 "nbformat_minor": 0
}

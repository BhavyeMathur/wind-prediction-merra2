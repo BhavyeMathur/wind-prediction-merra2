{
 "cells": [
  {
   "cell_type": "code",
   "execution_count": 1,
   "metadata": {
    "collapsed": true
   },
   "outputs": [],
   "source": [
    "from plot import *\n",
    "from fft import *\n",
    "from maths import rmse, mae, linear_interpolate, cosine_interpolate, cubic_interpolate\n",
    "from maths import catmull_rom_interpolate, hermite_interpolate, fit_kochanek_bartels_spline\n"
   ]
  },
  {
   "cell_type": "code",
   "execution_count": null,
   "outputs": [],
   "source": [
    "def dft2_at_time_and_level(data: np.ndarray, quantile: float = 0.75):\n",
    "    fft = np.fft.rfft2(data)\n",
    "    amplitudes = np.abs(fft)\n",
    "\n",
    "    fft_real = []\n",
    "    fft_imag = []\n",
    "    fft_i_indices = []\n",
    "    fft_j_indices = []\n",
    "\n",
    "    cutoff_amp = np.quantile(amplitudes, quantile)\n",
    "\n",
    "    last_i = 0\n",
    "    last_j = 0\n",
    "\n",
    "    for i in range(361):\n",
    "        for j in range(256):\n",
    "            if amplitudes[i, j] < cutoff_amp:\n",
    "                continue\n",
    "\n",
    "            fft_real.append(fft[i, j].real)\n",
    "            fft_imag.append(fft[i, j].imag)\n",
    "\n",
    "            while (di := i - last_i) > 253:\n",
    "                fft_i_indices.append(254)\n",
    "                last_i += 253\n",
    "\n",
    "            while (dj := j - last_j) > 253:\n",
    "                fft_j_indices.append(254)\n",
    "                last_j += 253\n",
    "\n",
    "            if di < 0:\n",
    "                fft_i_indices.append(255)\n",
    "                last_i = 0\n",
    "            else:\n",
    "                fft_i_indices.append(di)\n",
    "                last_i += di\n",
    "\n",
    "            if dj < 0:\n",
    "                fft_j_indices.append(255)\n",
    "                last_j = 0\n",
    "            else:\n",
    "                fft_j_indices.append(dj)\n",
    "                last_j += dj\n",
    "\n",
    "    fft_real = np.array(fft_real, dtype=\"float32\") / 512\n",
    "    fft_imag = np.array(fft_imag, dtype=\"float32\") / 512\n",
    "\n",
    "    fft_i_indices = np.array(fft_i_indices, dtype=\"uint8\")\n",
    "    fft_j_indices = np.array(fft_j_indices, dtype=\"uint8\")\n",
    "\n",
    "    fft_i_indices = rlen_encode_array(fft_i_indices, 0)\n",
    "    fft_j_indices = rlen_encode_array(fft_j_indices, 1)\n",
    "\n",
    "    return fft_real.astype(\"float16\"), fft_imag.astype(\"float16\"), \\\n",
    "        fft_i_indices, fft_j_indices\n",
    "\n",
    "\n",
    "def idft2_at_time_and_level(fft_real, fft_imag, fft_i_indices, fft_j_indices):\n",
    "    ifft = np.zeros((361, 289), dtype=\"complex64\")\n",
    "    fft = fft_real.astype(\"complex64\") * 512 + fft_imag.astype(\"complex64\") * 512j\n",
    "\n",
    "    fft_i_indices = rlen_decode_array(fft_i_indices, 0)\n",
    "    fft_j_indices = rlen_decode_array(fft_j_indices, 1)\n",
    "\n",
    "    i = 0\n",
    "    j = 0\n",
    "\n",
    "    i_index = 0\n",
    "    j_index = 0\n",
    "\n",
    "    for idx in range(len(fft)):\n",
    "        while (di := fft_i_indices[i_index]) == 254:\n",
    "            i += 253\n",
    "            i_index += 1\n",
    "\n",
    "        while (dj := fft_j_indices[j_index]) == 254:\n",
    "            j += 253\n",
    "            j_index += 1\n",
    "\n",
    "        if di == 255:\n",
    "            i = 0\n",
    "        else:\n",
    "            i += di\n",
    "\n",
    "        if dj == 255:\n",
    "            j = 0\n",
    "        else:\n",
    "            j += dj\n",
    "\n",
    "        ifft[i, j] = fft[idx]\n",
    "\n",
    "        i_index += 1\n",
    "        j_index += 1\n",
    "\n",
    "    return np.fft.irfft2(ifft)\n"
   ],
   "metadata": {
    "collapsed": false
   }
  },
  {
   "cell_type": "code",
   "execution_count": 3,
   "outputs": [],
   "source": [
    "def plot_dft2_at_time_and_level(filename: str, variable: str, time: int, level: int, **kwargs):\n",
    "    data = load_variable_at_time_and_level(filename, variable, time, level)\n",
    "\n",
    "    fft = dft2_at_time_and_level(data, **kwargs)\n",
    "    prediction = idft2_at_time_and_level(*fft)\n",
    "\n",
    "    title = f\"{format_variable(variable)} at {format_level(level)}\" \\\n",
    "            f\" on {format_date(filename)} at {format_time(time, filename)}\"\n",
    "    output = f\"{variable}/{kwargs['quantile']}/{format_level(level, for_output=True)}\" \\\n",
    "             f\"-{format_date(filename, for_output=True)}-{format_time(time, filename)}\"\n",
    "\n",
    "    fig, ax1, ax2 = create_1x2_plot(title, sharey=True, sharex=True)\n",
    "    ax1.imshow(data, cmap=cmr.arctic, origin=\"lower\", extent=[-180, 180, -90, 90], aspect=\"auto\")\n",
    "    ax2.imshow(prediction, cmap=cmr.arctic, origin=\"lower\", extent=[-180, 180, -90, 90], aspect=\"auto\")\n",
    "\n",
    "    ax1.xaxis.set_major_formatter(FormatStrFormatter(\"%d°\"))\n",
    "    ax1.yaxis.set_major_formatter(FormatStrFormatter(\"%d°\"))\n",
    "\n",
    "    fig.suptitle(title, fontsize=8, y=0.96)\n",
    "\n",
    "    plt.savefig(\"assets/2D-dft-graphs/\" + output + \".png\", dpi=300)\n",
    "    plt.show()\n",
    "\n",
    "    title = f\"Error ({get_units_from_variable(variable)}) at {format_level(level)} \" \\\n",
    "            f\" on {format_date(filename)} at {format_time(time, filename)}\"\n",
    "\n",
    "    fig, ax1, ax2 = create_1x2_plot(title, sharey=True, sharex=True)\n",
    "    ax1.imshow(np.abs(prediction - data), cmap=\"hot\", origin=\"lower\", extent=[-180, 180, -90, 90], aspect=\"auto\")\n",
    "    ax2.imshow((prediction - data) ** 2, cmap=\"hot\", origin=\"lower\", extent=[-180, 180, -90, 90], aspect=\"auto\")\n",
    "\n",
    "    ax1.xaxis.set_major_formatter(FormatStrFormatter(\"%d°\"))\n",
    "    ax1.yaxis.set_major_formatter(FormatStrFormatter(\"%d°\"))\n",
    "\n",
    "    fig.suptitle(title, fontsize=8, y=0.96)\n",
    "    ax1.set_title(\"Absolute Error (m/s)\", fontsize=8)\n",
    "    ax2.set_title(\"Squared Error (m²/s²)\", fontsize=8)\n",
    "\n",
    "    output += \"-error\"\n",
    "    plt.savefig(\"assets/2D-dft-graphs/\" + output + \".png\", dpi=300)\n",
    "    plt.show()\n",
    "\n",
    "    lines = f\"\"\"\n",
    "    Original Stdev: {data.astype('float32').std()} m/s\n",
    "    Predicted MAE:  {mae(data, prediction)} m/s\n",
    "    Predicted RMSE: {rmse(data, prediction)} m/s\n",
    "\n",
    "    Frequencies: {len(fft[0])}\n",
    "    Size/time: {sum(el.nbytes for el in fft) * 36 / (1000 ** 2)} MB\n",
    "    Size/day: {sum(el.nbytes for el in fft) * 36 * 8 / (1000 ** 2)} MB\n",
    "    Size/year: {sum(el.nbytes for el in fft) * 36 * 8 * 365 / (1000 ** 2)} MB\n",
    "    \"\"\"\n",
    "    print(lines)\n",
    "    with open(\"assets/2D-dft-graphs/\" + output + \".txt\", \"w\") as file:\n",
    "        file.writelines(lines)\n"
   ],
   "metadata": {
    "collapsed": false
   }
  },
  {
   "cell_type": "code",
   "execution_count": null,
   "outputs": [],
   "source": [
    "%matplotlib notebook\n",
    "\n",
    "for var in [\"U\", \"V\"]:\n",
    "    plot_dft2_at_time_and_level(\"MERRA2.tavg3_3d_asm_Nv.YAVG0101.nc4\", var,\n",
    "                                time=0, level=35, quantile=0.9935)\n"
   ],
   "metadata": {
    "collapsed": false,
    "pycharm": {
     "is_executing": true
    }
   }
  },
  {
   "cell_type": "code",
   "execution_count": 5,
   "outputs": [],
   "source": [
    "def fit_dft2_at_time(filename: str, variable: str, time: int, verbose: bool = True, **kwargs):\n",
    "    data = load_variable_at_time(filename, variable, time)\n",
    "    prediction = np.zeros((36, 361, 576), dtype=\"float32\")\n",
    "\n",
    "    dfts = []\n",
    "    for lev in (tqdm(range(36)) if verbose else range(36)):\n",
    "        fft = dft2_at_time_and_level(data[lev], **kwargs)\n",
    "        dfts.append(fft)\n",
    "        prediction[lev] = idft2_at_time_and_level(*fft)\n",
    "\n",
    "    data = data.astype(\"float32\")\n",
    "    if verbose:\n",
    "        size = sum(el.nbytes for dft in dfts for el in dft)\n",
    "        lines = f\"\"\"\n",
    "        Original Stdev: {data.std()} m/s\n",
    "        Predicted MAE:  {mae(data, prediction)} m/s\n",
    "        Predicted RMSE: {rmse(data, prediction)} m/s\n",
    "\n",
    "        Frequencies: {len(fft[0])}\n",
    "        Size/time: {size / (1000 ** 2)} MB\n",
    "        Size/day: {size * 8 / (1000 ** 2)} MB\n",
    "        Size/year: {size * 8 * 365 / (1000 ** 2)} MB\n",
    "        \"\"\"\n",
    "        print(lines)\n",
    "    else:\n",
    "        return data, prediction, dfts\n",
    "\n",
    "\n",
    "def fit_dft2_on_day(filename: str, variable: str, **kwargs):\n",
    "    data_variance = 0\n",
    "    mae_error = np.zeros((36, 361, 576), dtype=\"float32\")\n",
    "    mse_error = np.zeros((36, 361, 576), dtype=\"float32\")\n",
    "    all_dfts = []\n",
    "\n",
    "    for time in tqdm(range(8)):\n",
    "        data, pred, dfts = fit_dft2_at_time(filename, variable, time, verbose=False, **kwargs)\n",
    "        all_dfts.append(dfts)\n",
    "\n",
    "        data_variance += data.var()\n",
    "        mae_error += abs(data - pred)\n",
    "        mse_error += (data - pred) ** 2\n",
    "\n",
    "    size = sum(el.nbytes for dfts in all_dfts for dft in dfts for el in dft)\n",
    "    lines = f\"\"\"\n",
    "    Original Stdev: {(data_variance / 8) ** 0.5} m/s\n",
    "    Predicted MAE:  {(mae_error / 8).mean()} m/s\n",
    "    Predicted RMSE: {(mse_error / 8).mean() ** 0.5} m/s\n",
    "\n",
    "    Size/day: {size / (1000 ** 2)} MB\n",
    "    Size/year: {size * 365 / (1000 ** 2)} MB\n",
    "    \"\"\"\n",
    "    print(lines)\n",
    "\n",
    "\n",
    "def fit_interpolated_dft2_at_time(filename: str, variable: str, time: int, skip_levels: int = 2,\n",
    "                                  interpolation: callable = linear_interpolate, verbose: bool = True,\n",
    "                                  **kwargs):\n",
    "    data = load_variable_at_time(filename, variable, time)\n",
    "    prediction = np.zeros((36, 361, 576), dtype=\"float32\")\n",
    "\n",
    "    preds = []\n",
    "    dfts = []\n",
    "    levels = sorted(set(range(0, 36, skip_levels)).union({35}))\n",
    "    for lev in (tqdm(levels) if verbose else levels):\n",
    "        fft = dft2_at_time_and_level(data[lev], **kwargs)\n",
    "        dfts.append(fft)\n",
    "        preds.append(idft2_at_time_and_level(*fft))\n",
    "\n",
    "    for lev in range(36):\n",
    "        if lev in levels:\n",
    "            prediction[lev] = preds[levels.index(lev)]\n",
    "            continue\n",
    "\n",
    "        pred_idx = levels.index(lev - lev % skip_levels)\n",
    "        t = (lev - levels[pred_idx]) / (levels[pred_idx + 1] - levels[pred_idx])\n",
    "        prediction[lev] = interpolation(preds, pred_idx, t)\n",
    "\n",
    "    data = data.astype(\"float32\")\n",
    "    if verbose:\n",
    "        size = sum(el.nbytes for dft in dfts for el in dft)\n",
    "        print(f\"Original Stdev: {data.std()} m/s\")\n",
    "        print(f\"Predicted RMSE: {rmse(data, prediction)} m/s\")\n",
    "        print(f\"Predicted MAE:  {mae(data, prediction)} m/s\")\n",
    "        print(f\"Size/time: {size / (1000 ** 2)} MB\")\n",
    "        print(f\"Size/day: {size * 8 / (1000 ** 2)} MB\")\n",
    "        print(f\"Size/year: {size * 8 * 365 / (1000 ** 2)} MB\")\n",
    "    else:\n",
    "        return data, prediction, dfts\n",
    "\n",
    "\n",
    "def fit_interpolated_dft2_on_day(filename: str, variable: str, quantile: float, skip_levels: int,\n",
    "                                 interpolation: callable = linear_interpolate):\n",
    "    data_variance = 0\n",
    "    mae_error = np.zeros((36, 361, 576), dtype=\"float32\")\n",
    "    mse_error = np.zeros((36, 361, 576), dtype=\"float32\")\n",
    "    all_dfts = []\n",
    "\n",
    "    for time in tqdm(range(8)):\n",
    "        data, pred, dfts = fit_interpolated_dft2_at_time(filename, variable, time, skip_levels, interpolation,\n",
    "                                                         quantile=quantile, verbose=False)\n",
    "        all_dfts.append(dfts)\n",
    "\n",
    "        data_variance += data.var()\n",
    "        mae_error += abs(data - pred)\n",
    "        mse_error += (data - pred) ** 2\n",
    "\n",
    "    size = sum(el.nbytes for dfts in all_dfts for dft in dfts for el in dft)\n",
    "    lines = f\"\"\"\n",
    "    Original Stdev: {(data_variance / 8) ** 0.5} m/s\n",
    "    Predicted MAE:  {(mae_error / 8).mean()} m/s\n",
    "    Predicted RMSE: {(mse_error / 8).mean() ** 0.5} m/s\n",
    "\n",
    "    Size/day: {size / (1000 ** 2)} MB\n",
    "    Size/year: {size * 365 / (1000 ** 2)} MB\n",
    "    \"\"\"\n",
    "    print(lines)\n",
    "\n",
    "\n",
    "def fit_dft2_hermite_interpolated_at_time(filename: str, variable: str, time: int, quantile: float, skip_levels: int,\n",
    "                                          verbose: bool = True):\n",
    "    data = load_variable_at_time(filename, variable, time)\n",
    "    prediction = np.zeros((36, 361, 576), dtype=\"float32\")\n",
    "\n",
    "    preds = []\n",
    "    dfts = []\n",
    "    levels = sorted(set(range(0, 36, skip_levels)).union({35}))\n",
    "    for lev in (tqdm(levels) if verbose else levels):\n",
    "        fft = dft2_at_time_and_level(data[lev], quantile=quantile)\n",
    "        dfts.append(fft)\n",
    "        preds.append(idft2_at_time_and_level(*fft))\n",
    "\n",
    "    tensions = []\n",
    "    biases = []\n",
    "\n",
    "    for lev in range(36):\n",
    "        if lev % skip_levels == 0:\n",
    "            continue\n",
    "\n",
    "        pred_idx = levels.index(lev - lev % skip_levels)\n",
    "        t = (lev - levels[pred_idx]) / (levels[pred_idx + 1] - levels[pred_idx])\n",
    "\n",
    "        best_tension, best_bias = fit_kochanek_bartels_spline(data[lev], preds, pred_idx, t)\n",
    "        tensions.append(best_tension)\n",
    "        biases.append(best_bias)\n",
    "\n",
    "    for lev in range(36):\n",
    "        if lev in levels:\n",
    "            prediction[lev] = preds[levels.index(lev)]\n",
    "            continue\n",
    "\n",
    "        pred_idx = levels.index(lev - lev % skip_levels)\n",
    "        t = (lev - levels[pred_idx]) / (levels[pred_idx + 1] - levels[pred_idx])\n",
    "        prediction[lev] = hermite_interpolate(preds, pred_idx, t, tensions[lev - pred_idx - 1], 0)\n",
    "\n",
    "    data = data.astype(\"float32\")\n",
    "    if verbose:\n",
    "        size = sum(el.nbytes for dft in dfts for el in dft)\n",
    "        print(f\"Original Stdev: {data.std()} m/s\")\n",
    "        print(f\"Predicted RMSE: {rmse(data, prediction)} m/s\")\n",
    "        print(f\"Predicted MAE:  {mae(data, prediction)} m/s\")\n",
    "        print(f\"Size/time: {size / (1000 ** 2)} MB\")\n",
    "        print(f\"Size/day: {size * 8 / (1000 ** 2)} MB\")\n",
    "        print(f\"Size/year: {size * 8 * 365 / (1000 ** 2)} MB\")\n",
    "    else:\n",
    "        return data, prediction, dfts\n",
    "\n",
    "\n",
    "def fit_dft2_hermite_interpolated_on_day(filename: str, variable: str, quantile: float, skip_levels: int):\n",
    "    data_variance = 0\n",
    "    mae_error = np.zeros((36, 361, 576), dtype=\"float32\")\n",
    "    mse_error = np.zeros((36, 361, 576), dtype=\"float32\")\n",
    "    all_dfts = []\n",
    "\n",
    "    for time in tqdm(range(8)):\n",
    "        data, pred, dfts = fit_dft2_hermite_interpolated_at_time(filename, variable, time, quantile, skip_levels,\n",
    "                                                                 verbose=False)\n",
    "        all_dfts.append(dfts)\n",
    "\n",
    "        data_variance += data.var()\n",
    "        mae_error += abs(data - pred)\n",
    "        mse_error += (data - pred) ** 2\n",
    "\n",
    "    size = sum(el.nbytes for dfts in all_dfts for dft in dfts for el in dft)\n",
    "    lines = f\"\"\"\n",
    "    Original Stdev: {(data_variance / 8) ** 0.5} m/s\n",
    "    Predicted MAE:  {(mae_error / 8).mean()} m/s\n",
    "    Predicted RMSE: {(mse_error / 8).mean() ** 0.5} m/s\n",
    "\n",
    "    Size/day: {size / (1000 ** 2)} MB\n",
    "    Size/year: {size * 365 / (1000 ** 2)} MB\n",
    "    \"\"\"\n",
    "    print(lines)"
   ],
   "metadata": {
    "collapsed": false
   }
  },
  {
   "cell_type": "code",
   "execution_count": 7,
   "outputs": [],
   "source": [
    "_, _, dfts = fit_dft2_at_time(\"MERRA2.tavg3_3d_asm_Nv.YAVG0101.nc4\", \"U\", time=0, quantile=0.9935, verbose=False)"
   ],
   "metadata": {
    "collapsed": false
   }
  },
  {
   "cell_type": "code",
   "execution_count": 8,
   "outputs": [
    {
     "data": {
      "text/plain": "array([ 23,   1,  17,   1,  19,   1,  22,   1,  20,   1,  19,   1,  16,\n         1,  19,   1,  20,   1,  16,   1,  18,   1,  15,   1,  13,   1,\n        10,   1,  11,   1,  10,   1,   7,   1,   9,   1,   5,   1,   7,\n         1,   6,   1,   4,   1,   1,   1,   5,   1,   1,   1,   3,   1,\n         1,   1,   1,   1,   0,   1,   0,   2,   1,   4,   0, 254,   0,\n        39,   0,   1,   0,   2,   0,   1,   0,   3,   0,   1,   1,   1,\n         1,   1,   3,   1,   3,   1,   0,   1,   4,   1,   4,   1,   5,\n         1,   9,   1,   9,   1,  10,   1,  10,   1,  12,   1,  14,   1,\n        14,   1,  18,   1,  16,   1,  17,   1,  17,   1,  18,   1,  19,\n         1,  16,   1,  20,   1,  21,   1,  16,   1,  21], dtype=uint8)"
     },
     "execution_count": 8,
     "metadata": {},
     "output_type": "execute_result"
    }
   ],
   "source": [
    "dfts[0][2]"
   ],
   "metadata": {
    "collapsed": false
   }
  },
  {
   "cell_type": "code",
   "execution_count": 14,
   "outputs": [
    {
     "data": {
      "text/plain": "array([255,   0,   0,   0,   0,   0,   0,   0,   0,   0,   0,   0,   1,\n         0,   0,   0,   0,   0,   0,   0,   3,   0,   4, 254,   0,   0,\n         0,   0,   0,   0,   0,   0,   0,   1,   1,   0,   0,   0,   1,\n         4,   6, 254,   0,   0,   0,   0,   0,   0,   0,   0,   0,   0,\n         0,   1,   0,   1,   0,   1,   0,   2,   5, 254,   0,   0,   0,\n         0,   0,   0,   0,   0,   0,   0,   0,   0,   0,   0,   0,   0,\n         0,   1,   0,   1,   5,   9, 254,   0,   0,   0,   0,   0,   0,\n         0,   0,   0,   0,   0,   0,   0,   0,   0,   0,   2,   0,   1,\n         4, 254,   0,   0,   0,   0,   0,   0,   0,   0,   1,   0,   0,\n         0,   0,   0,   0,   0,   1,   0,   6, 254,   0,   0,   0,   0,\n         0,   0,   0,   0,   0,   0,   0,   1,   0,   0,   1,   2, 254,\n         0,   0,   0,   0,   0,   0,   0,   0,   0,   0,   0,   0,   0,\n         1,   0,   1,   1,   2,   0, 254,   0,   0,   0,   0,   0,   0,\n         0,   0,   0,   0,   0,   1,   0,   0,   0,   2,   2,   0,   1,\n         4, 254,   0,   0,   0,   0,   0,   0,   0,   0,   0,   0,   1,\n         0,   1,   5,   1,   1, 254,   0,   0,   0,   0,   0,   0,   0,\n         0,   0,   0,   0,   1,   0,   0,   0,   1,   2,   1, 254,   0,\n         0,   0,   0,   0,   0,   1,   0,   0,   2,   0,   1,   0,   2,\n         4, 254,   0,   0,   0,   0,   1,   0,   0,   0,   1,   0,   1,\n         6,   5, 254,   0,   0,   0,   2,   0,   0,   0,   4,   3,   7,\n       254,   0,   0,   0,   0,   0,   3,   0,   1,   0,   3,   1, 254,\n         0,   0,   0,   0,   0,   1,   0,   5,   1,   6, 254,   0,   0,\n         1,   1,   0,   7,   0, 254,   0,   0,   1,   0,   0,   0,   5,\n         0,   1, 254,   0,   0,   1,   2,   6, 254,   0,   0,   0,   1,\n         1,   8,   0, 254,   1,   0,   2,   0,   9,   9, 254,   1,   4,\n         0,   5, 254,   1, 254,   1,   2,   1,   2,   3, 254,   9, 254,\n         0,   1,   3, 254,   0, 255,   7, 254,   0, 254,   0, 255, 255,\n       255, 254,   0, 255, 254,   0, 254,   0, 255,   4,   3,   0, 254,\n         0,   0,   8, 254, 255,   0,   2,   0,   7, 254,   2,   1,   0,\n         7, 254,   0,   4,   0,   6,   0, 254,   0,   0,   1,   0,   0,\n         0,   0,   1,   0, 254,   0,   0,   1,   1,   0,   0,   0,   0,\n        10, 254,   0,   0,   1,   0,   1,   0,   2,   2,   0,   1, 254,\n         0,   1,   0,   0,   0,   1,   0,   1,   3,   9, 254,   0,   0,\n         0,   0,   0,   0,   0,   0,   0,   4,   0,   5, 254,   0,   1,\n         0,   0,   1,   0,   0,   0,   0,   1,   0,   1,   0,   3, 254,\n         0,   0,   0,   0,   0,   0,   0,   1,   1,   2,   2,   0,   0,\n         5, 254,   0,   0,   0,   0,   0,   0,   0,   0,   0,   0,   0,\n         0,   1,   0,   0,   1,   1,   2, 254,   0,   0,   0,   0,   0,\n         0,   1,   0,   0,   0,   0,   1,   0,   0,   6,   0, 254,   0,\n         0,   0,   0,   0,   0,   0,   1,   0,   2,   0,   1,   0,   3,\n         1,   0,   4, 254,   0,   0,   0,   0,   0,   0,   0,   0,   0,\n         0,   0,   0,   0,   2,   0,   3,   7, 254,   0,   0,   0,   0,\n         0,   0,   0,   0,   0,   0,   0,   0,   0,   5,   1,   2,   2,\n         4, 254,   0,   0,   0,   0,   0,   0,   0,   0,   0,   0,   1,\n         0,   2,   0,   1,   1,   2,   1,   0, 254,   0,   0,   0,   0,\n         0,   0,   0,   0,   0,   0,   0,   0,   3,   0,   1,   8, 254,\n         0,   0,   0,   0,   0,   0,   0,   0,   0,   0,   0,   0,   0,\n         0,   0,   0,   0,   6,   2,   1, 254,   0,   0,   0,   0,   0,\n         0,   0,   0,   0,   0,   0,   0,   0,   0,   0,   0,   0,   0,\n         5,   2,  10, 254,   0,   0,   0,   0,   0,   0,   0,   0,   0,\n         0,   0,   0,   0,   0,   4,  18, 254,   0,   0,   0,   0,   0,\n         0,   1,   0,   0,   0,   0,   0,   0,   0,   1,   0,   0,   0,\n         3,   5,   1], dtype=uint8)"
     },
     "execution_count": 14,
     "metadata": {},
     "output_type": "execute_result"
    }
   ],
   "source": [
    "rlen_decode_array(dfts[0][3], 1) - 1"
   ],
   "metadata": {
    "collapsed": false
   }
  },
  {
   "cell_type": "code",
   "execution_count": 15,
   "outputs": [
    {
     "data": {
      "text/plain": "708"
     },
     "execution_count": 15,
     "metadata": {},
     "output_type": "execute_result"
    }
   ],
   "source": [
    "np.count_nonzero(rlen_decode_array(dfts[0][3], 1) - 1) * 3"
   ],
   "metadata": {
    "collapsed": false
   }
  },
  {
   "cell_type": "code",
   "execution_count": 23,
   "outputs": [
    {
     "data": {
      "text/plain": "  0%|          | 0/8 [00:00<?, ?it/s]",
      "application/vnd.jupyter.widget-view+json": {
       "version_major": 2,
       "version_minor": 0,
       "model_id": "75d697077a3b4445a5f80512846f79c1"
      }
     },
     "metadata": {},
     "output_type": "display_data"
    },
    {
     "name": "stdout",
     "output_type": "stream",
     "text": [
      "\n",
      "    Original Stdev: 10.1023820749644 m/s\n",
      "    Predicted MAE:  0.45432770252227783 m/s\n",
      "    Predicted RMSE: 0.6424456984583848 m/s\n",
      "\n",
      "    Size/day: 0.963742 MB\n",
      "    Size/year: 351.76583 MB\n",
      "    \n"
     ]
    }
   ],
   "source": [
    "fit_dft2_on_day(\"MERRA2.tavg3_3d_asm_Nv.YAVG0101.nc4\", \"U\", quantile=0.9935)\n"
   ],
   "metadata": {
    "collapsed": false
   }
  },
  {
   "cell_type": "code",
   "execution_count": 24,
   "outputs": [
    {
     "data": {
      "text/plain": "  0%|          | 0/8 [00:00<?, ?it/s]",
      "application/vnd.jupyter.widget-view+json": {
       "version_major": 2,
       "version_minor": 0,
       "model_id": "498265cdef5d45fe921780436c32ad43"
      }
     },
     "metadata": {},
     "output_type": "display_data"
    },
    {
     "name": "stdout",
     "output_type": "stream",
     "text": [
      "\n",
      "    Original Stdev: 10.1023820749644 m/s\n",
      "    Predicted MAE:  0.44000789523124695 m/s\n",
      "    Predicted RMSE: 0.6435797632915197 m/s\n",
      "\n",
      "    Size/day: 0.508316 MB\n",
      "    Size/year: 185.53534 MB\n",
      "    \n"
     ]
    }
   ],
   "source": [
    "fit_dft2_hermite_interpolated_on_day(\"MERRA2.tavg3_3d_asm_Nv.YAVG0101.nc4\", \"U\",\n",
    "                                     quantile=0.99044, skip_levels=3)\n"
   ],
   "metadata": {
    "collapsed": false
   }
  }
 ],
 "metadata": {
  "kernelspec": {
   "display_name": "Python 3",
   "language": "python",
   "name": "python3"
  },
  "language_info": {
   "codemirror_mode": {
    "name": "ipython",
    "version": 2
   },
   "file_extension": ".py",
   "mimetype": "text/x-python",
   "name": "python",
   "nbconvert_exporter": "python",
   "pygments_lexer": "ipython2",
   "version": "2.7.6"
  }
 },
 "nbformat": 4,
 "nbformat_minor": 0
}

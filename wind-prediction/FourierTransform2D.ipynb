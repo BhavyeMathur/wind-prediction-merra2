{
 "cells": [
  {
   "cell_type": "code",
   "execution_count": 1,
   "metadata": {
    "collapsed": true
   },
   "outputs": [],
   "source": [
    "from plot import *\n",
    "from fft import *\n",
    "from maths import rmse, mae, linear_interpolate, cosine_interpolate, cubic_interpolate\n",
    "from maths import catmull_rom_interpolate, hermite_interpolate, fit_kochanek_bartels_spline\n"
   ]
  },
  {
   "cell_type": "code",
   "execution_count": 18,
   "outputs": [],
   "source": [
    "def dft2_at_time_and_level(data: np.ndarray, quantile: float = 0.75):\n",
    "    fft = np.fft.rfft2(data)\n",
    "    amplitudes = np.abs(fft)\n",
    "\n",
    "    fft_real = []\n",
    "    fft_imag = []\n",
    "    fft_i_indices = []\n",
    "    fft_j_indices = []\n",
    "\n",
    "    cutoff_amp = np.quantile(amplitudes, quantile)\n",
    "\n",
    "    for j in range(289):\n",
    "        for i in range(361):\n",
    "            if amplitudes[i, j] < cutoff_amp:\n",
    "                continue\n",
    "\n",
    "            fft_real.append(fft[i, j].real)\n",
    "            fft_imag.append(fft[i, j].imag)\n",
    "            fft_i_indices.append(i)\n",
    "            fft_j_indices.append(j)\n",
    "\n",
    "    fft_real = (np.array(fft_real, dtype=\"float32\") / 512).astype(\"float16\")\n",
    "    fft_real = encode_zlib(fft_real)\n",
    "\n",
    "    fft_imag = (np.array(fft_imag, dtype=\"float32\") / 512).astype(\"float16\")\n",
    "    fft_imag = encode_zlib(fft_imag)\n",
    "\n",
    "    fft_i_indices = np.array(fft_i_indices, dtype=\"int16\")\n",
    "    fft_i_indices = encode_difference_uint8(fft_i_indices)\n",
    "    fft_i_indices = encode_zlib(fft_i_indices)\n",
    "\n",
    "    fft_j_indices = np.array(fft_j_indices, dtype=\"int16\")\n",
    "    fft_j_indices = encode_difference_uint8(fft_j_indices)\n",
    "    fft_j_indices = encode_zlib(fft_j_indices, strategy=0)\n",
    "\n",
    "    return fft_real, fft_imag, fft_i_indices, fft_j_indices\n",
    "\n",
    "\n",
    "def idft2_at_time_and_level(fft_real, fft_imag, fft_i_indices, fft_j_indices):\n",
    "    ifft = np.zeros((361, 289), dtype=\"complex64\")\n",
    "\n",
    "    fft_real = decode_zlib(fft_real, dtype=\"float16\")\n",
    "    fft_imag = decode_zlib(fft_imag, dtype=\"float16\")\n",
    "    fft = fft_real.astype(\"complex64\") * 512 + fft_imag.astype(\"complex64\") * 512j\n",
    "\n",
    "    fft_i_indices = decode_zlib(fft_i_indices)\n",
    "    fft_i_indices = decode_difference_uint8(fft_i_indices)\n",
    "\n",
    "    fft_j_indices = decode_zlib(fft_j_indices)\n",
    "    fft_j_indices = decode_difference_uint8(fft_j_indices)\n",
    "\n",
    "    for idx in range(len(fft)):\n",
    "        ifft[fft_i_indices[idx], fft_j_indices[idx]] = fft[idx]\n",
    "\n",
    "    return np.fft.irfft2(ifft)\n",
    "\n",
    "\n",
    "def plot_dft2_at_time_and_level(filename: str, variable: str, time: int, level: int, **kwargs):\n",
    "    data = load_variable_at_time_and_level(filename, variable, time, level)\n",
    "\n",
    "    fft = dft2_at_time_and_level(data, **kwargs)\n",
    "    prediction = idft2_at_time_and_level(*fft)\n",
    "\n",
    "    title = f\"{format_variable(variable)} at {format_level(level)}\" \\\n",
    "            f\" on {format_date(filename)} at {format_time(time, filename)}\"\n",
    "    output = f\"{variable}/{kwargs['quantile']}/{format_level(level, for_output=True)}\" \\\n",
    "             f\"-{format_date(filename, for_output=True)}-{format_time(time, filename)}\"\n",
    "\n",
    "    fig, ax1, ax2 = create_1x2_plot(title, sharey=True, sharex=True)\n",
    "    ax1.imshow(data, cmap=cmr.arctic, origin=\"lower\", extent=[-180, 180, -90, 90], aspect=\"auto\")\n",
    "    ax2.imshow(prediction, cmap=cmr.arctic, origin=\"lower\", extent=[-180, 180, -90, 90], aspect=\"auto\")\n",
    "\n",
    "    ax1.xaxis.set_major_formatter(FormatStrFormatter(\"%d°\"))\n",
    "    ax1.yaxis.set_major_formatter(FormatStrFormatter(\"%d°\"))\n",
    "\n",
    "    fig.suptitle(title, fontsize=8, y=0.96)\n",
    "\n",
    "    plt.savefig(\"assets/2D-dft-graphs/\" + output + \".png\", dpi=300)\n",
    "    plt.show()\n",
    "\n",
    "    title = f\"Error ({get_units_from_variable(variable)}) at {format_level(level)} \" \\\n",
    "            f\" on {format_date(filename)} at {format_time(time, filename)}\"\n",
    "\n",
    "    fig, ax1, ax2 = create_1x2_plot(title, sharey=True, sharex=True)\n",
    "    ax1.imshow(np.abs(prediction - data), cmap=\"hot\", origin=\"lower\", extent=[-180, 180, -90, 90], aspect=\"auto\")\n",
    "    ax2.imshow((prediction - data) ** 2, cmap=\"hot\", origin=\"lower\", extent=[-180, 180, -90, 90], aspect=\"auto\")\n",
    "\n",
    "    ax1.xaxis.set_major_formatter(FormatStrFormatter(\"%d°\"))\n",
    "    ax1.yaxis.set_major_formatter(FormatStrFormatter(\"%d°\"))\n",
    "\n",
    "    fig.suptitle(title, fontsize=8, y=0.96)\n",
    "    ax1.set_title(\"Absolute Error (m/s)\", fontsize=8)\n",
    "    ax2.set_title(\"Squared Error (m²/s²)\", fontsize=8)\n",
    "\n",
    "    output += \"-error\"\n",
    "    plt.savefig(\"assets/2D-dft-graphs/\" + output + \".png\", dpi=300)\n",
    "    plt.show()\n",
    "\n",
    "    lines = f\"\"\"\n",
    "    Original Stdev: {data.astype('float32').std()} m/s\n",
    "    Predicted MAE:  {mae(data, prediction)} m/s\n",
    "    Predicted RMSE: {rmse(data, prediction)} m/s\n",
    "\n",
    "    Frequencies: {len(fft[0])}\n",
    "    Size/time: {sum(el.nbytes for el in fft) * 36 / (1000 ** 2)} MB\n",
    "    Size/day: {sum(el.nbytes for el in fft) * 36 * 8 / (1000 ** 2)} MB\n",
    "    Size/year: {sum(el.nbytes for el in fft) * 36 * 8 * 365 / (1000 ** 2)} MB\n",
    "    \"\"\"\n",
    "    print(lines)\n",
    "    with open(\"assets/2D-dft-graphs/\" + output + \".txt\", \"w\") as file:\n",
    "        file.writelines(lines)\n"
   ],
   "metadata": {
    "collapsed": false
   }
  },
  {
   "cell_type": "code",
   "execution_count": null,
   "outputs": [],
   "source": [
    "%matplotlib notebook\n",
    "\n",
    "for var in [\"U\", \"V\"]:\n",
    "    plot_dft2_at_time_and_level(\"MERRA2.tavg3_3d_asm_Nv.YAVG0101.nc4\", var,\n",
    "                                time=0, level=35, quantile=0.9935)\n"
   ],
   "metadata": {
    "collapsed": false,
    "pycharm": {
     "is_executing": true
    }
   }
  },
  {
   "cell_type": "code",
   "execution_count": 44,
   "outputs": [],
   "source": [
    "def fit_dft2_at_time(filename: str, variable: str, time: int, verbose: bool = True, **kwargs):\n",
    "    data = load_variable_at_time(filename, variable, time)\n",
    "    prediction = np.zeros((36, 361, 576), dtype=\"float32\")\n",
    "\n",
    "    dfts = []\n",
    "    for lev in (tqdm(range(36)) if verbose else range(36)):\n",
    "        fft = dft2_at_time_and_level(data[lev], **kwargs)\n",
    "        dfts.append(fft)\n",
    "        prediction[lev] = idft2_at_time_and_level(*fft)\n",
    "\n",
    "    data = data.astype(\"float32\")\n",
    "    if verbose:\n",
    "        size = sum(el.nbytes for dft in dfts for el in dft)\n",
    "        lines = f\"\"\"\n",
    "        Original Stdev: {data.std()} m/s\n",
    "        Predicted MAE:  {mae(data, prediction)} m/s\n",
    "        Predicted RMSE: {rmse(data, prediction)} m/s\n",
    "\n",
    "        Frequencies: {len(fft[0])}\n",
    "        Size/time: {size / (1000 ** 2)} MB\n",
    "        Size/day: {size * 8 / (1000 ** 2)} MB\n",
    "        Size/year: {size * 8 * 365 / (1000 ** 2)} MB\n",
    "        \"\"\"\n",
    "        print(lines)\n",
    "    else:\n",
    "        return data, prediction, dfts\n",
    "\n",
    "\n",
    "def fit_dft2_on_day(filename: str, variable: str, **kwargs):\n",
    "    data_variance = 0\n",
    "    mae_error = np.zeros((36, 361, 576), dtype=\"float32\")\n",
    "    mse_error = np.zeros((36, 361, 576), dtype=\"float32\")\n",
    "    all_dfts = []\n",
    "\n",
    "    for time in tqdm(range(8)):\n",
    "        data, pred, dfts = fit_dft2_at_time(filename, variable, time, verbose=False, **kwargs)\n",
    "        all_dfts.append(dfts)\n",
    "\n",
    "        data_variance += data.var()\n",
    "        mae_error += abs(data - pred)\n",
    "        mse_error += (data - pred) ** 2\n",
    "\n",
    "    size = sum(el.nbytes for dfts in all_dfts for dft in dfts for el in dft)\n",
    "    lines = f\"\"\"\n",
    "    Original Stdev: {(data_variance / 8) ** 0.5} m/s\n",
    "    Predicted MAE:  {(mae_error / 8).mean()} m/s\n",
    "    Predicted RMSE: {(mse_error / 8).mean() ** 0.5} m/s\n",
    "\n",
    "    Size/day: {size / (1000 ** 2)} MB\n",
    "    Size/year: {size * 365 / (1000 ** 2)} MB\n",
    "    \"\"\"\n",
    "    print(lines)\n",
    "\n",
    "\n",
    "def fit_interpolated_dft2_at_time(filename: str, variable: str, time: int, skip_levels: int = 2,\n",
    "                                  interpolation: callable = linear_interpolate, verbose: bool = True,\n",
    "                                  **kwargs):\n",
    "    data = load_variable_at_time(filename, variable, time)\n",
    "    prediction = np.zeros((36, 361, 576), dtype=\"float32\")\n",
    "\n",
    "    preds = []\n",
    "    dfts = []\n",
    "    levels = sorted(set(range(0, 36, skip_levels)).union({35}))\n",
    "    for lev in (tqdm(levels) if verbose else levels):\n",
    "        fft = dft2_at_time_and_level(data[lev], **kwargs)\n",
    "        dfts.append(fft)\n",
    "        preds.append(idft2_at_time_and_level(*fft))\n",
    "\n",
    "    for lev in range(36):\n",
    "        if lev in levels:\n",
    "            prediction[lev] = preds[levels.index(lev)]\n",
    "            continue\n",
    "\n",
    "        pred_idx = levels.index(lev - lev % skip_levels)\n",
    "        t = (lev - levels[pred_idx]) / (levels[pred_idx + 1] - levels[pred_idx])\n",
    "        prediction[lev] = interpolation(preds, pred_idx, t)\n",
    "\n",
    "    data = data.astype(\"float32\")\n",
    "    if verbose:\n",
    "        size = sum(el.nbytes for dft in dfts for el in dft)\n",
    "        print(f\"Original Stdev: {data.std()} m/s\")\n",
    "        print(f\"Predicted RMSE: {rmse(data, prediction)} m/s\")\n",
    "        print(f\"Predicted MAE:  {mae(data, prediction)} m/s\")\n",
    "        print(f\"Size/time: {size / (1000 ** 2)} MB\")\n",
    "        print(f\"Size/day: {size * 8 / (1000 ** 2)} MB\")\n",
    "        print(f\"Size/year: {size * 8 * 365 / (1000 ** 2)} MB\")\n",
    "    else:\n",
    "        return data, prediction, dfts\n",
    "\n",
    "\n",
    "def fit_interpolated_dft2_on_day(filename: str, variable: str, quantile: float, skip_levels: int,\n",
    "                                 interpolation: callable = linear_interpolate):\n",
    "    data_variance = 0\n",
    "    mae_error = np.zeros((36, 361, 576), dtype=\"float32\")\n",
    "    mse_error = np.zeros((36, 361, 576), dtype=\"float32\")\n",
    "    all_dfts = []\n",
    "\n",
    "    for time in tqdm(range(8)):\n",
    "        data, pred, dfts = fit_interpolated_dft2_at_time(filename, variable, time, skip_levels, interpolation,\n",
    "                                                         quantile=quantile, verbose=False)\n",
    "        all_dfts.append(dfts)\n",
    "\n",
    "        data_variance += data.var()\n",
    "        mae_error += abs(data - pred)\n",
    "        mse_error += (data - pred) ** 2\n",
    "\n",
    "    size = sum(el.nbytes for dfts in all_dfts for dft in dfts for el in dft)\n",
    "    lines = f\"\"\"\n",
    "    Original Stdev: {(data_variance / 8) ** 0.5} m/s\n",
    "    Predicted MAE:  {(mae_error / 8).mean()} m/s\n",
    "    Predicted RMSE: {(mse_error / 8).mean() ** 0.5} m/s\n",
    "\n",
    "    Size/day: {size / (1000 ** 2)} MB\n",
    "    Size/year: {size * 365 / (1000 ** 2)} MB\n",
    "    \"\"\"\n",
    "    print(lines)\n",
    "\n",
    "\n",
    "def fit_dft2_hermite_interpolated_at_time(filename: str, variable: str, time: int, quantile: float, skip_levels: int,\n",
    "                                          verbose: bool = True):\n",
    "    data = load_variable_at_time(filename, variable, time)\n",
    "    prediction = np.zeros((36, 361, 576), dtype=\"float32\")\n",
    "\n",
    "    preds = []\n",
    "    dfts = []\n",
    "    levels = sorted(set(range(0, 36, skip_levels)).union({35}))\n",
    "    for lev in (tqdm(levels) if verbose else levels):\n",
    "        q = quantile[lev // skip_levels] if isinstance(quantile, list) else quantile\n",
    "\n",
    "        fft = dft2_at_time_and_level(data[lev], quantile=q)\n",
    "        dfts.append(fft)\n",
    "        preds.append(idft2_at_time_and_level(*fft))\n",
    "\n",
    "    tensions = []\n",
    "    biases = []\n",
    "\n",
    "    for lev in range(36):\n",
    "        if lev % skip_levels == 0:\n",
    "            continue\n",
    "\n",
    "        pred_idx = levels.index(lev - lev % skip_levels)\n",
    "        t = (lev - levels[pred_idx]) / (levels[pred_idx + 1] - levels[pred_idx])\n",
    "\n",
    "        best_tension, best_bias = fit_kochanek_bartels_spline(data[lev], preds, pred_idx, t)\n",
    "        tensions.append(best_tension)\n",
    "        biases.append(best_bias)\n",
    "\n",
    "    tensions = np.array(tensions, dtype=\"float16\")\n",
    "    biases = np.array(tensions, dtype=\"float16\")\n",
    "\n",
    "    for lev in range(36):\n",
    "        if lev in levels:\n",
    "            prediction[lev] = preds[levels.index(lev)]\n",
    "            continue\n",
    "\n",
    "        pred_idx = levels.index(lev - lev % skip_levels)\n",
    "        t = (lev - levels[pred_idx]) / (levels[pred_idx + 1] - levels[pred_idx])\n",
    "        prediction[lev] = hermite_interpolate(preds, pred_idx, t, tensions[lev - pred_idx - 1], 0)\n",
    "\n",
    "    data = data.astype(\"float32\")\n",
    "    if verbose:\n",
    "        size = sum(el.nbytes for dft in dfts for el in dft)\n",
    "        print(f\"Original Stdev: {data.std()} m/s\")\n",
    "        print(f\"Predicted RMSE: {rmse(data, prediction)} m/s\")\n",
    "        print(f\"Predicted MAE:  {mae(data, prediction)} m/s\")\n",
    "        print(f\"Size/time: {size / (1000 ** 2)} MB\")\n",
    "        print(f\"Size/day: {size * 8 / (1000 ** 2)} MB\")\n",
    "        print(f\"Size/year: {size * 8 * 365 / (1000 ** 2)} MB\")\n",
    "    else:\n",
    "        return data, prediction, dfts, tensions, biases\n",
    "\n",
    "\n",
    "def fit_dft2_hermite_interpolated_on_day(*args, **kwargs):\n",
    "    data_variance = 0\n",
    "    mae_error = np.zeros((36, 361, 576), dtype=\"float32\")\n",
    "    mse_error = np.zeros((36, 361, 576), dtype=\"float32\")\n",
    "    all_dfts = []\n",
    "\n",
    "    for time in tqdm(range(8)):\n",
    "        data, pred, dfts, tensions, biases = fit_dft2_hermite_interpolated_at_time(*args, time, **kwargs, verbose=False)\n",
    "        all_dfts.append(dfts)\n",
    "\n",
    "        data_variance += data.var()\n",
    "        mae_error += abs(data - pred)\n",
    "        mse_error += (data - pred) ** 2\n",
    "\n",
    "    size = sum(el.nbytes for dfts in all_dfts for dft in dfts for el in dft) + (tensions.nbytes + biases.nbytes) * len(all_dfts)\n",
    "    lines = f\"\"\"\n",
    "    Original Stdev: {(data_variance / 8) ** 0.5} m/s\n",
    "    Predicted MAE:  {(mae_error / 8).mean()} m/s\n",
    "    Predicted RMSE: {(mse_error / 8).mean() ** 0.5} m/s\n",
    "\n",
    "    Size/day: {size / (1000 ** 2)} MB\n",
    "    Size/year: {size * 365 / (1000 ** 2)} MB\n",
    "    \"\"\"\n",
    "    print(lines)"
   ],
   "metadata": {
    "collapsed": false
   }
  },
  {
   "cell_type": "code",
   "execution_count": 53,
   "outputs": [],
   "source": [
    "_, _, dfts = fit_dft2_at_time(\"MERRA2.tavg3_3d_asm_Nv.YAVG0101.nc4\", \"U\", time=0, quantile=0.9935, verbose=False)"
   ],
   "metadata": {
    "collapsed": false
   }
  },
  {
   "cell_type": "code",
   "execution_count": 98,
   "outputs": [
    {
     "data": {
      "text/plain": "array([154, 106, 228, ...,  65, 217, 192], dtype=uint8)"
     },
     "execution_count": 98,
     "metadata": {},
     "output_type": "execute_result"
    }
   ],
   "source": [
    "i_indices = dfts[0][2]\n",
    "j_indices = dfts[0][3]\n",
    "# i_indices = decode_difference_uint8(i_indices)\n",
    "# i_indices = encode_rlen(i_indices)\n",
    "# i_indices = encode_val_rlen(i_indices, 1)\n",
    "\n",
    "decode_zlib(dfts[0][0])"
   ],
   "metadata": {
    "collapsed": false
   }
  },
  {
   "cell_type": "code",
   "execution_count": 7,
   "outputs": [
    {
     "data": {
      "text/plain": "  0%|          | 0/8 [00:00<?, ?it/s]",
      "application/vnd.jupyter.widget-view+json": {
       "version_major": 2,
       "version_minor": 0,
       "model_id": "70994fb3681048e39d944ee34fe8f4be"
      }
     },
     "metadata": {},
     "output_type": "display_data"
    },
    {
     "name": "stdout",
     "output_type": "stream",
     "text": [
      "\n",
      "    Original Stdev: 10.1023820749644 m/s\n",
      "    Predicted MAE:  0.4297342300415039 m/s\n",
      "    Predicted RMSE: 0.6150524051947641 m/s\n",
      "\n",
      "    Size/day: 0.858877 MB\n",
      "    Size/year: 313.490105 MB\n",
      "    \n"
     ]
    }
   ],
   "source": [
    "fit_dft2_on_day(\"MERRA2.tavg3_3d_asm_Nv.YAVG0101.nc4\", \"U\", quantile=0.9935)\n"
   ],
   "metadata": {
    "collapsed": false
   }
  },
  {
   "cell_type": "code",
   "execution_count": 19,
   "outputs": [
    {
     "data": {
      "text/plain": "  0%|          | 0/8 [00:00<?, ?it/s]",
      "application/vnd.jupyter.widget-view+json": {
       "version_major": 2,
       "version_minor": 0,
       "model_id": "51b8c62c6efd4dbbb467e42a4a33bf97"
      }
     },
     "metadata": {},
     "output_type": "display_data"
    },
    {
     "name": "stdout",
     "output_type": "stream",
     "text": [
      "\n",
      "    Original Stdev: 10.1023820749644 m/s\n",
      "    Predicted MAE:  0.4297342300415039 m/s\n",
      "    Predicted RMSE: 0.6150524051947641 m/s\n",
      "\n",
      "    Size/day: 0.849629 MB\n",
      "    Size/year: 310.114585 MB\n",
      "    \n"
     ]
    }
   ],
   "source": [
    "fit_dft2_on_day(\"MERRA2.tavg3_3d_asm_Nv.YAVG0101.nc4\", \"U\", quantile=0.9935)\n"
   ],
   "metadata": {
    "collapsed": false
   }
  },
  {
   "cell_type": "code",
   "execution_count": 38,
   "outputs": [
    {
     "data": {
      "text/plain": "  0%|          | 0/8 [00:00<?, ?it/s]",
      "application/vnd.jupyter.widget-view+json": {
       "version_major": 2,
       "version_minor": 0,
       "model_id": "e195aa3b65ca4c9ea413cfa3cccd81d2"
      }
     },
     "metadata": {},
     "output_type": "display_data"
    },
    {
     "name": "stdout",
     "output_type": "stream",
     "text": [
      "\n",
      "    Original Stdev: 10.1023820749644 m/s\n",
      "    Predicted MAE:  0.332945853471756 m/s\n",
      "    Predicted RMSE: 0.5243341537771498 m/s\n",
      "\n",
      "    Size/day: 0.849865 MB\n",
      "    Size/year: 310.200725 MB\n",
      "    \n"
     ]
    }
   ],
   "source": [
    "fit_dft2_hermite_interpolated_on_day(\"MERRA2.tavg3_3d_asm_Nv.YAVG0101.nc4\", \"U\",\n",
    "                                     quantile=0.981, skip_levels=3)\n"
   ],
   "metadata": {
    "collapsed": false
   }
  },
  {
   "cell_type": "code",
   "execution_count": 52,
   "outputs": [
    {
     "data": {
      "text/plain": "  0%|          | 0/8 [00:00<?, ?it/s]",
      "application/vnd.jupyter.widget-view+json": {
       "version_major": 2,
       "version_minor": 0,
       "model_id": "bd0e40da3a924c73896e5dc781a0aee4"
      }
     },
     "metadata": {},
     "output_type": "display_data"
    },
    {
     "name": "stdout",
     "output_type": "stream",
     "text": [
      "\n",
      "    Original Stdev: 10.1023820749644 m/s\n",
      "    Predicted MAE:  0.3349647521972656 m/s\n",
      "    Predicted RMSE: 0.5279706831075655 m/s\n",
      "\n",
      "    Size/day: 0.847721 MB\n",
      "    Size/year: 309.418165 MB\n",
      "    \n"
     ]
    }
   ],
   "source": [
    "fit_dft2_hermite_interpolated_on_day(\"MERRA2.tavg3_3d_asm_Nv.YAVG0101.nc4\", \"U\",\n",
    "                                     quantile=0.98, skip_levels=3)\n"
   ],
   "metadata": {
    "collapsed": false
   }
  }
 ],
 "metadata": {
  "kernelspec": {
   "display_name": "Python 3",
   "language": "python",
   "name": "python3"
  },
  "language_info": {
   "codemirror_mode": {
    "name": "ipython",
    "version": 2
   },
   "file_extension": ".py",
   "mimetype": "text/x-python",
   "name": "python",
   "nbconvert_exporter": "python",
   "pygments_lexer": "ipython2",
   "version": "2.7.6"
  }
 },
 "nbformat": 4,
 "nbformat_minor": 0
}

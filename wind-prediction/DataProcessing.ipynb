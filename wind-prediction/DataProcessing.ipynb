{
 "cells": [
  {
   "cell_type": "code",
   "execution_count": 2,
   "metadata": {
    "collapsed": true
   },
   "outputs": [],
   "source": [
    "from calendar import monthrange\n",
    "\n",
    "import numpy as np\n",
    "import pandas as pd\n",
    "\n",
    "from nc4 import *\n",
    "from merra2 import *"
   ]
  },
  {
   "cell_type": "code",
   "execution_count": 20,
   "outputs": [],
   "source": [
    "def save_df_as_parquet(df, output, compression_level=11, output_dir=\"dataframes\"):\n",
    "    if not isinstance(df, pd.DataFrame):\n",
    "        df = pd.DataFrame(df)\n",
    "\n",
    "    df.to_parquet(f\"{output_dir}/{output}\",\n",
    "                  engine=\"fastparquet\",\n",
    "                  compression={\"_default\": {\"type\": \"BROTLI\", \"args\": {\"level\": compression_level}}})\n",
    "\n",
    "\n",
    "def save_nc4_as_parquet(filename, variables, raw_dir=\"raw\", output_dir=\"dataframes\", **kwargs):\n",
    "    output = filename[:-3] + \"parquet\"\n",
    "\n",
    "    variables = get_merra_variables(variables)\n",
    "    with open_xarray_dataset(filename, folder=raw_dir) as dataset:\n",
    "        for var in variables:\n",
    "            print(f\"\\tLoading '{var}'\")\n",
    "            variable = dataset[var].to_dataframe()\n",
    "            variable.reset_index(inplace=True, drop=True)\n",
    "\n",
    "            variable16 = variable.astype(\"float16\")\n",
    "            print(f\"\\tStandard Deviation (SD): '{variable[var].std()}'\")\n",
    "            print(f\"\\tSD of float32 - float16: '{(variable - variable16)[var].std()}'\")\n",
    "\n",
    "            print(f\"\\tSaving '{var}'\\n\")\n",
    "\n",
    "            output_dir = f\"{output_dir}/{var}\"\n",
    "            if not os.path.isdir(output_dir):\n",
    "                os.makedirs(output_dir)\n",
    "\n",
    "            save_df_as_parquet(variable16, output, output_dir=output_dir, **kwargs)\n",
    "\n",
    "\n",
    "def compress_nc4(filename,\n",
    "                 variables,\n",
    "                 raw_dir=\"raw\",\n",
    "                 output_dir=\"compressed\",\n",
    "                 compression=\"zlib\",\n",
    "                 compression_level=9,\n",
    "                 pack_as_float16=True):\n",
    "    variables = get_merra_variables(variables)\n",
    "\n",
    "    if os.path.isfile(f\"{output_dir}/{filename}\"):\n",
    "        return\n",
    "\n",
    "    if os.path.isfile(f\"{raw_dir}/{filename}\"):\n",
    "        raw_file = filename\n",
    "    else:\n",
    "        raw_file = filename.replace(\".nc4\", \".SUB.nc4\")\n",
    "\n",
    "    with open_nc4_dataset(filename, folder=raw_dir) as dataset:\n",
    "        with open_nc4_dataset(filename, folder=output_dir, mode=\"w\") as dst:\n",
    "\n",
    "            dimensions = dataset[variables[0]].shape\n",
    "            if pack_as_float16 and dimensions[3] % 2 != 0:\n",
    "                raise RuntimeError(\"Cannot pack float16 data as float32 because dimensions is an odd number\")\n",
    "\n",
    "            if pack_as_float16:\n",
    "                chunksizes = (1, 1, dimensions[2], dimensions[3] // 2)\n",
    "                dst.createDimension(\"lon\", dimensions[3] // 2)  # //2 because we pack float16s as float32s\n",
    "            else:\n",
    "                chunksizes = (1, 1, dimensions[2], dimensions[3])\n",
    "                dst.createDimension(\"lon\", dimensions[3])\n",
    "\n",
    "            dst.createDimension(\"lat\", dimensions[2])\n",
    "            dst.createDimension(\"lev\", dimensions[1])\n",
    "            dst.createDimension(\"time\", dimensions[0])\n",
    "\n",
    "            for variable in variables:\n",
    "                data = dataset.variables[variable]\n",
    "\n",
    "                dst.createVariable(variable, \"f\", data.dimensions,\n",
    "                                   # chunksizes=chunksizes,\n",
    "                                   compression=compression,\n",
    "                                   complevel=compression_level)\n",
    "                dst[variable].setncatts(data.__dict__)  # copy variable attributes via a dictionary\n",
    "\n",
    "                if pack_as_float16:\n",
    "                    data_float16 = np.array(data[:], dtype=\"float16\")\n",
    "                    packed_float32 = data_float16.view(\"float32\")\n",
    "                    dst[variable][:] = packed_float32\n",
    "                else:\n",
    "                    dst[variable][:] = data[:]\n",
    "\n",
    "\n",
    "def compress_all_nc4(collection: str,\n",
    "                     variables,\n",
    "                     start_year, end_year,\n",
    "                     start_month=1, end_month=12,\n",
    "                     start_day=1, end_day=None,\n",
    "                     **kwargs):\n",
    "    for yyyy in range(start_year, end_year + 1):\n",
    "\n",
    "        stream = get_merra_stream_from_year(yyyy)\n",
    "\n",
    "        mi = start_month if yyyy == start_year else 1\n",
    "        mf = end_month if yyyy == end_year else 12\n",
    "\n",
    "        for mm in range(mi, mf + 1):\n",
    "\n",
    "            di = start_day if yyyy == start_year and mm == mi else 1\n",
    "            df = end_day if end_day and yyyy == end_year and mm == mf else monthrange(yyyy, mm)[1]\n",
    "\n",
    "            for dd in range(di, df + 1):\n",
    "                filename = f\"MERRA2_{stream}.{collection}.{yyyy}{mm:0>2}{dd:0>2}.nc4\"\n",
    "                compress_nc4(filename, variables, **kwargs)"
   ],
   "metadata": {
    "collapsed": false
   }
  },
  {
   "cell_type": "code",
   "execution_count": 3,
   "outputs": [
    {
     "name": "stdout",
     "output_type": "stream",
     "text": [
      "<xarray.Dataset>\n",
      "Dimensions:  (time: 8, lon: 576, lat: 361, lev: 72)\n",
      "Coordinates:\n",
      "  * time     (time) datetime64[ns] 1983-01-13T01:30:00 ... 1983-01-13T22:30:00\n",
      "  * lon      (lon) float64 -180.0 -179.4 -178.8 -178.1 ... 178.1 178.8 179.4\n",
      "  * lat      (lat) float64 -90.0 -89.5 -89.0 -88.5 -88.0 ... 88.5 89.0 89.5 90.0\n",
      "  * lev      (lev) float64 1.0 2.0 3.0 4.0 5.0 6.0 ... 68.0 69.0 70.0 71.0 72.0\n",
      "Data variables:\n",
      "    U        (time, lev, lat, lon) float32 ...\n",
      "    V        (time, lev, lat, lon) float32 ...\n",
      "Attributes: (12/32)\n",
      "    CDI:                               Climate Data Interface version 1.9.8 (...\n",
      "    Conventions:                       CF-1\n",
      "    History:                           Original file generated: Wed Aug 20 23...\n",
      "    Comment:                           GMAO filename: d5124_m2_jan79.tavg3_3d...\n",
      "    Filename:                          MERRA2_100.tavg3_3d_asm_Nv.19830113.nc4\n",
      "    Institution:                       NASA Global Modeling and Assimilation ...\n",
      "    ...                                ...\n",
      "    RangeBeginningDate:                1983-01-13\n",
      "    RangeBeginningTime:                00:00:00.000000\n",
      "    RangeEndingDate:                   1983-01-13\n",
      "    RangeEndingTime:                   23:59:59.000000\n",
      "    history_L34RS:                     'Created by L34RS v1.4.2 @ NASA GES DI...\n",
      "    CDO:                               Climate Data Operators version 1.9.8 (...\n"
     ]
    }
   ],
   "source": [
    "print_nc4_metadata(\"MERRA2_100.tavg3_3d_asm_Nv.19830113.nc\", folder=\"raw\")"
   ],
   "metadata": {
    "collapsed": false
   }
  },
  {
   "cell_type": "code",
   "execution_count": null,
   "outputs": [
    {
     "name": "stdout",
     "output_type": "stream",
     "text": [
      "\tLoading 'U'\n",
      "\tStandard Deviation (SD): '28.583431243896484'\n",
      "\tSD of float32 - float16: '0.005998506676405668'\n",
      "\tSaving 'U'\n",
      "\n",
      "\tLoading 'V'\n",
      "\tStandard Deviation (SD): '9.520500183105469'\n",
      "\tSD of float32 - float16: '0.0019755358807742596'\n",
      "\tSaving 'V'\n",
      "\n"
     ]
    }
   ],
   "source": [
    "save_nc4_as_parquet(\"MERRA2_100.tavg3_3d_asm_Nv.19830113.nc\",\n",
    "                    [\"U\", \"V\"],\n",
    "                    raw_dir=\"raw\",\n",
    "                    output_dir=\"compressed/wind\")"
   ],
   "metadata": {
    "collapsed": false,
    "pycharm": {
     "is_executing": true
    }
   }
  },
  {
   "cell_type": "code",
   "execution_count": 19,
   "outputs": [],
   "source": [
    "compress_nc4(\"MERRA2_100.tavg3_3d_asm_Nv.19830113.nc\",\n",
    "             [\"U\", \"V\"],\n",
    "             raw_dir=\"raw/1983\",\n",
    "             output_dir=\"compressed/wind\",\n",
    "             pack_as_float16=False)"
   ],
   "metadata": {
    "collapsed": false
   }
  },
  {
   "cell_type": "code",
   "execution_count": null,
   "outputs": [],
   "source": [
    "compress_all_nc4(\"tavg3_3d_cld_Np\",\n",
    "                 [\"CLOUD\", \"RH\"],\n",
    "                 start_year=int(input(\"Enter the 1st year: \")), end_year=2022,\n",
    "                 start_month=int(input(\"Enter the 1st month: \")),\n",
    "                 start_day=int(input(\"Enter the 1st day: \")))\n"
   ],
   "metadata": {
    "collapsed": false,
    "pycharm": {
     "is_executing": true
    }
   }
  }
 ],
 "metadata": {
  "kernelspec": {
   "display_name": "Python 3",
   "language": "python",
   "name": "python3"
  },
  "language_info": {
   "codemirror_mode": {
    "name": "ipython",
    "version": 2
   },
   "file_extension": ".py",
   "mimetype": "text/x-python",
   "name": "python",
   "nbconvert_exporter": "python",
   "pygments_lexer": "ipython2",
   "version": "2.7.6"
  }
 },
 "nbformat": 4,
 "nbformat_minor": 0
}

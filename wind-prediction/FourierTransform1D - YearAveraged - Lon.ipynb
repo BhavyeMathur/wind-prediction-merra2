{
 "cells": [
  {
   "cell_type": "code",
   "execution_count": null,
   "metadata": {
    "collapsed": true
   },
   "outputs": [],
   "source": [
    "from tqdm.notebook import tqdm\n",
    "\n",
    "from plot import *\n",
    "from fft import *\n",
    "from maths import rmse, mae\n"
   ]
  },
  {
   "cell_type": "code",
   "execution_count": null,
   "outputs": [],
   "source": [
    "def plot_yavg_dft_at_time_level_and_latitude(filename: str, variable: str, time: int, level: int, latitude: int, **kwargs):\n",
    "    data = load_yavg_variable_at_time_level_and_latitude(filename, variable, time, level, latitude)\n",
    "\n",
    "    fft = dft_at_time_level_and_latitude(data, **kwargs)\n",
    "    prediction = idft_at_time_level_and_latitude(*fft)\n",
    "\n",
    "    ax = plt.axes()\n",
    "\n",
    "    ax.plot(np.linspace(-180, 180, 576), data, linewidth=1)\n",
    "    ax.plot(np.linspace(-180, 180, 576), prediction, linestyle=\"dashed\", linewidth=1)\n",
    "\n",
    "    ax.xaxis.set_major_formatter(FormatStrFormatter(\"%d°\"))\n",
    "\n",
    "    title = f\"{get_variable_name_from_code(variable)} ({get_units_from_variable(variable)}) \" \\\n",
    "            f\"at {format_latitude(latitude)}, {format_level(level)} at {format_time(time)}\"\n",
    "    output = f\"{variable}-{format_latitude(latitude, filename=True)}-{format_level(level, filename=True)}\" \\\n",
    "             f\"-yavg-{filename.split('.')[-2][2:]}-{format_time(time)}\"\n",
    "\n",
    "    plt.title(title, fontsize=8)\n",
    "    plt.savefig(\"assets/1D-yavg-graphs/\" + output + \".png\", dpi=300)\n",
    "    plt.show()\n",
    "\n",
    "    print(f\"Original Standard Dev (m/s):  {data.std()}\")\n",
    "    print(f\"Predicted Standard Dev (m/s): {rmse(data, prediction)}\")\n",
    "    print(f\"Frequencies: {len(fft[0])}\")\n",
    "    print(f\"Size/level: {sum(el.nbytes for el in fft) * 361 / (1000 **2)} mB\")\n",
    "    print(f\"Size/time: {sum(el.nbytes for el in fft) * 361 * 72 / (1000 **2)} mB\")\n",
    "    print(f\"Size/day: {sum(el.nbytes for el in fft) * 361 * 72 * 8 / (1000 **2)} mB\")\n",
    "    print(f\"Size/year: {sum(el.nbytes for el in fft) * 361 * 72 * 8 * 365 / (1000 **2)} mB\")\n"
   ],
   "metadata": {
    "collapsed": false
   }
  },
  {
   "cell_type": "code",
   "execution_count": null,
   "outputs": [],
   "source": [
    "%matplotlib notebook\n",
    "\n",
    "plot_yavg_dft_at_time_level_and_latitude(\"MERRA2_{}.tavg3_3d_asm_Nv.{}0101.nc4\", \"U\",\n",
    "                                         time=0, level=71, latitude=180, quantile=0.965)"
   ],
   "metadata": {
    "collapsed": false
   }
  },
  {
   "cell_type": "code",
   "execution_count": null,
   "outputs": [],
   "source": [
    "def plot_yavg_dft_at_time_and_level(filename: str, variable: str, time: int, level: int, **kwargs):\n",
    "    data = load_yavg_variable_at_time_and_level(filename, variable, time, level)\n",
    "\n",
    "    prediction = np.zeros((361, 576))\n",
    "\n",
    "    worst_deviation = 0\n",
    "    worst_lat = 0\n",
    "\n",
    "    for lat in tqdm(range(361)):\n",
    "        subdata = data[lat]\n",
    "\n",
    "        fft = dft_at_time_level_and_latitude(subdata, **kwargs)\n",
    "        pred = idft_at_time_level_and_latitude(*fft)\n",
    "\n",
    "        if (dev := rmse(subdata, pred)) > worst_deviation:\n",
    "            worst_deviation = dev\n",
    "            worst_lat = lat\n",
    "\n",
    "        prediction[lat] = pred\n",
    "\n",
    "    _, ax1, ax2 = create_1x2_plot(f\"{variable} ({get_units_from_variable(variable)}) at {format_level(level)}\"\n",
    "                                  f\" at {format_time(time)}\", sharey=True)\n",
    "    ax1.imshow(data, cmap=\"viridis\", origin=\"lower\")\n",
    "    ax2.imshow(prediction, cmap=\"viridis\", origin=\"lower\")\n",
    "\n",
    "    _, ax1, ax2 = create_1x2_plot(f\"Absolute Error ({get_units_from_variable(variable)}) at {format_level(level)}\"\n",
    "                                  f\" at {format_time(time)}\")\n",
    "    ax1.imshow(np.abs(prediction - data), cmap=\"hot\", origin=\"lower\")\n",
    "    ax2.plot(np.linspace(-180, 180, 576), data[worst_lat], linewidth=1)\n",
    "    ax2.plot(np.linspace(-180, 180, 576), prediction[worst_lat], linestyle=\"dashed\", linewidth=1)\n",
    "\n",
    "    plt.show()\n",
    "\n",
    "    print(f\"Original Stdev: {data.astype('float32').std()} m/s\")\n",
    "    print(f\"Predicted RMSE: {rmse(data, prediction)} m/s\")\n",
    "    print(f\"Frequencies/latitude: {len(fft[0])}\")\n",
    "    print(f\"Size/time: {len(fft[0]) * 361 * 5 * 72 / (1000 **2)} mB\")\n",
    "    print()\n",
    "    print(f\"Stdev at Worst: {data[worst_lat].astype('float32').std()} m/s\")\n",
    "    print(f\"Worst RMSE: {worst_deviation} m/s\")\n"
   ],
   "metadata": {
    "collapsed": false
   }
  },
  {
   "cell_type": "code",
   "execution_count": null,
   "outputs": [],
   "source": [
    "%matplotlib notebook\n",
    "\n",
    "plot_yavg_dft_at_time_and_level(\"MERRA2_{}.tavg3_3d_asm_Nv.{}0101.nc4\", \"U\",\n",
    "                                time=0, level=71, quantile=0.965)\n"
   ],
   "metadata": {
    "collapsed": false
   }
  },
  {
   "cell_type": "code",
   "execution_count": null,
   "outputs": [],
   "source": [
    "def plot_yavg_dft_at_time(filename: str, variable: str, time: int, **kwargs):\n",
    "    data = load_yavg_variable_at_time(filename, variable, time)\n",
    "    prediction = np.zeros((72, 361, 576))\n",
    "\n",
    "    worst_deviation_ratio = 0\n",
    "    worst_deviation = 0\n",
    "    worst_deviation_std = 0\n",
    "\n",
    "    deviations = []\n",
    "\n",
    "    for lev in tqdm(range(72)):\n",
    "        for lat in range(361):\n",
    "            subdata = data[lev][lat]\n",
    "\n",
    "            fft = dft_at_time_level_and_latitude(subdata, **kwargs)\n",
    "            pred = idft_at_time_level_and_latitude(*fft)\n",
    "\n",
    "            if (ratio := (dev := rmse(subdata, pred)) / subdata.astype(\"float32\").std()) > worst_deviation_ratio:\n",
    "                worst_deviation_ratio = ratio\n",
    "                worst_deviation = dev\n",
    "                worst_deviation_std = subdata.astype(\"float32\").std()\n",
    "\n",
    "            deviations.append(dev)\n",
    "\n",
    "            prediction[lev][lat] = pred\n",
    "\n",
    "    plot_histogram([{\"data\": deviations}], \"Distribution of Prediction RMSE (m/s)\", bins=100)\n",
    "\n",
    "    print(f\"Original Stdev: {(data.astype('float32')).std()} m/s\")\n",
    "    print(f\"Predicted RMSE: {rmse(data, prediction)} m/s\")\n",
    "    print(f\"Size/time: {len(fft[0]) * 361 * 72 * 5 / (1000 **2)} mB\")\n",
    "    print()\n",
    "    print(f\"Stdev at Worst: {worst_deviation_std} m/s\")\n",
    "    print(f\"Worst RMSE: {worst_deviation} m/s\")\n"
   ],
   "metadata": {
    "collapsed": false
   }
  },
  {
   "cell_type": "code",
   "execution_count": null,
   "outputs": [],
   "source": [
    "%matplotlib notebook\n",
    "\n",
    "plot_yavg_dft_at_time(\"MERRA2_{}.tavg3_3d_asm_Nv.{}0101.nc4\", \"U\",\n",
    "                 time=0, quantile=0.965)"
   ],
   "metadata": {
    "collapsed": false
   }
  },
  {
   "cell_type": "code",
   "execution_count": null,
   "outputs": [],
   "source": [
    "def compare_dft_at_time_vs_quantile(filename: str, variable: str, time: int, quantiles: list[float], **kwargs):\n",
    "    data = load_variable_at_time(filename, variable, time)\n",
    "    data_dict = []\n",
    "\n",
    "    for quant in tqdm(quantiles):\n",
    "        prediction = np.zeros((72, 361, 576))\n",
    "\n",
    "        deviations = []\n",
    "\n",
    "        for lev in range(72):\n",
    "            for lat in range(361):\n",
    "                subdata = data[lev][lat]\n",
    "\n",
    "                fft = dft_at_time_level_and_latitude(subdata, **kwargs)\n",
    "                pred = idft_at_time_level_and_latitude(*fft)\n",
    "\n",
    "                deviations.append(rmse(subdata, pred))\n",
    "                prediction[lev][lat] = pred\n",
    "\n",
    "        data_dict.append({\"data\": deviations, \"label\": f\"{quant * 100:0>1}%\"})\n",
    "\n",
    "    fig, ax11, ax12, ax21, ax22 = create_2x2_plot(\"Distribution of Prediction RMSE (m/s)\", sharex=True, sharey=True)\n",
    "\n",
    "    plt.sca(ax11)\n",
    "    plot_histogram([data_dict[0]], \"\", bins=50)\n",
    "    plt.sca(ax12)\n",
    "    plot_histogram([data_dict[1]], \"\", bins=50)\n",
    "    plt.sca(ax21)\n",
    "    plot_histogram([data_dict[2]], \"\", bins=50)\n",
    "    plt.sca(ax22)\n",
    "    plot_histogram([data_dict[3]], \"\", bins=50)\n"
   ],
   "metadata": {
    "collapsed": false
   }
  },
  {
   "cell_type": "code",
   "execution_count": null,
   "outputs": [],
   "source": [
    "%matplotlib notebook\n",
    "\n",
    "compare_dft_at_time_vs_quantile(\"MERRA2_100.tavg3_3d_asm_Nv.19800101.nc4\", \"U\",\n",
    "                                time=0, quantiles=[0.95, 0.965, 0.975, 0.99])\n"
   ],
   "metadata": {
    "collapsed": false
   }
  },
  {
   "cell_type": "code",
   "execution_count": null,
   "outputs": [],
   "source": [
    "def fit_yavg_dft_at_time(filename: str, variable: str, time: int, levels: int = 36, **kwargs):\n",
    "    data = load_yavg_variable_at_time(filename, variable, time, levels=levels)\n",
    "    prediction = np.zeros((levels, 361, 576))\n",
    "\n",
    "    for lev in tqdm(range(levels)):\n",
    "        for lat in range(361):\n",
    "            subdata = data[lev, lat]\n",
    "\n",
    "            fft = dft_at_time_level_and_latitude(subdata, **kwargs)\n",
    "            pred = idft_at_time_level_and_latitude(*fft)\n",
    "\n",
    "            prediction[lev, lat] = pred\n",
    "\n",
    "    print(f\"Original Stdev: {data.astype('float32').std()} m/s\")\n",
    "    print(f\"Predicted MAE:  {mae(data, prediction)} m/s\")\n",
    "    print(f\"Predicted RMSE: {rmse(data, prediction)} m/s\")\n",
    "    print(f\"Frequencies/latitude: {len(fft[0])}\")\n",
    "    print(f\"Size/time: {len(fft[0]) * 361 * 5 * levels / (1000 ** 2)} MB\")\n",
    "    print(f\"Size/day: {len(fft[0]) * 361 * 5 * levels * 8 / (1000 ** 2)} MB\")\n",
    "    print(f\"Size/year: {len(fft[0]) * 361 * 5 * levels * 8 * 365 / (1000 ** 2)} MB\")\n"
   ],
   "metadata": {
    "collapsed": false
   }
  },
  {
   "cell_type": "code",
   "execution_count": null,
   "outputs": [],
   "source": [
    "fit_yavg_dft_at_time(\"MERRA2_{}.tavg3_3d_asm_Nv.{}0101.nc4\", \"U\",\n",
    "                     time=0, levels=36, quantile=0.965)\n",
    "\n",
    "fit_yavg_dft_at_time(\"MERRA2_{}.tavg3_3d_asm_Nv.{}0101.nc4\", \"V\",\n",
    "                     time=0, levels=36, quantile=0.965)\n"
   ],
   "metadata": {
    "collapsed": false
   }
  },
  {
   "cell_type": "code",
   "execution_count": null,
   "outputs": [],
   "source": [
    "def fit_yavg_dft_on_day(filename: str, variable: str, levels: int = 36, **kwargs):\n",
    "    data_variance = 0\n",
    "    mae_error = np.zeros((levels, 361, 576), dtype=\"float32\")\n",
    "    mse_error = np.zeros((levels, 361, 576), dtype=\"float32\")\n",
    "\n",
    "    for time in tqdm(range(8)):\n",
    "        data = load_yavg_variable_at_time(filename, variable, time, levels=levels)\n",
    "        prediction = np.zeros((levels, 361, 576))\n",
    "\n",
    "        for lev in range(levels):\n",
    "            for lat in range(361):\n",
    "                subdata = data[lev, lat]\n",
    "\n",
    "                fft = dft_at_time_level_and_latitude(subdata, **kwargs)\n",
    "                pred = idft_at_time_level_and_latitude(*fft)\n",
    "\n",
    "                prediction[lev, lat] = pred\n",
    "\n",
    "        data_variance += data.astype('float32').var()\n",
    "        mae_error += abs(data - prediction)\n",
    "        mse_error += (data - prediction) ** 2\n",
    "\n",
    "    print(f\"Original Stdev: {(data_variance / 8) ** 0.5} m/s\")\n",
    "    print(f\"Predicted MAE:  {(mae_error / 8).mean()} m/s\")\n",
    "    print(f\"Predicted RMSE: {(mse_error / 8).mean() ** 0.5} m/s\")\n",
    "    print(f\"Frequencies/latitude: {len(fft[0])}\")\n",
    "    print(f\"Size/time: {len(fft[0]) * 361 * 5 * levels / (1000 ** 2)} MB\")\n",
    "    print(f\"Size/day: {len(fft[0]) * 361 * 5 * levels * 8 / (1000 ** 2)} MB\")\n",
    "    print(f\"Size/year: {len(fft[0]) * 361 * 5 * levels * 8 * 365 / (1000 ** 2)} MB\")\n"
   ],
   "metadata": {
    "collapsed": false
   }
  },
  {
   "cell_type": "code",
   "execution_count": null,
   "outputs": [],
   "source": [
    "fit_yavg_dft_on_day(\"MERRA2_{}.tavg3_3d_asm_Nv.{}0101.nc4\", \"U\",\n",
    "                    levels=36, quantile=0.965)\n",
    "\n",
    "fit_yavg_dft_on_day(\"MERRA2_{}.tavg3_3d_asm_Nv.{}0101.nc4\", \"V\",\n",
    "                    levels=36, quantile=0.965)\n"
   ],
   "metadata": {
    "collapsed": false,
    "pycharm": {
     "is_executing": true
    }
   }
  }
 ],
 "metadata": {
  "kernelspec": {
   "display_name": "Python 3",
   "language": "python",
   "name": "python3"
  },
  "language_info": {
   "codemirror_mode": {
    "name": "ipython",
    "version": 2
   },
   "file_extension": ".py",
   "mimetype": "text/x-python",
   "name": "python",
   "nbconvert_exporter": "python",
   "pygments_lexer": "ipython2",
   "version": "2.7.6"
  }
 },
 "nbformat": 4,
 "nbformat_minor": 0
}

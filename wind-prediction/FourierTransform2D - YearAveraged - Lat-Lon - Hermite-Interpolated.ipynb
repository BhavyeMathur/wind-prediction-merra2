{
 "cells": [
  {
   "cell_type": "code",
   "execution_count": 1,
   "metadata": {
    "collapsed": true
   },
   "outputs": [],
   "source": [
    "import random\n",
    "\n",
    "import numpy as np\n",
    "\n",
    "from plot import *\n",
    "from fft import *\n",
    "from maths import rmse, mae, mse\n"
   ]
  },
  {
   "cell_type": "code",
   "execution_count": 2,
   "outputs": [],
   "source": [
    "filename = \"MERRA2_{}.tavg3_3d_asm_Nv.{}0101.nc4\"\n",
    "variable = \"U\"\n",
    "time = 0\n",
    "levels = 36\n",
    "quantile = 0.99044\n",
    "\n",
    "skip_levels = 4"
   ],
   "metadata": {
    "collapsed": false
   }
  },
  {
   "cell_type": "code",
   "execution_count": 14,
   "outputs": [],
   "source": [
    "data = load_yavg_variable_at_time(filename, variable, time, levels=levels + skip_levels)[::-1]\n",
    "prediction = np.zeros((levels, 361, 576), dtype=\"float32\")"
   ],
   "metadata": {
    "collapsed": false
   }
  },
  {
   "cell_type": "code",
   "execution_count": 16,
   "outputs": [],
   "source": [
    "preds = []\n",
    "\n",
    "for lev in range(0, levels + skip_levels, skip_levels):\n",
    "    fft = dft2_at_time_and_level(data[lev], quantile=quantile)\n",
    "    pred = idft2_at_time_and_level(*fft)\n",
    "\n",
    "    preds.append(pred)\n",
    "    if lev < levels:\n",
    "        prediction[lev] = pred\n",
    "\n",
    "preds.insert(0, preds[0])\n",
    "preds.append(preds[-1])"
   ],
   "metadata": {
    "collapsed": false
   }
  },
  {
   "cell_type": "code",
   "execution_count": 17,
   "outputs": [],
   "source": [
    "def hermite_interpolate(values, index, mu, tens, b):\n",
    "    mu2 = mu * mu\n",
    "    mu3 = mu2 * mu\n",
    "\n",
    "    m0 = (values[index + 1] - values[index]) * (1 + b) * (1 - tens)\n",
    "    m0 += (values[index + 2] - values[index + 1]) * (1 - b) * (1 - tens)\n",
    "\n",
    "    m1 = (values[index + 2] - values[index + 1]) * (1 + b) * (1 - tens)\n",
    "    m1 += (values[index + 3] - values[index + 2]) * (1 - b) * (1 - tens)\n",
    "    m0 /= 2\n",
    "    m1 /= 2\n",
    "\n",
    "    a0 = 2 * mu3 - 3 * mu2 + 1\n",
    "    a1 = mu3 - 2 * mu2 + mu\n",
    "    a2 = mu3 - mu2\n",
    "    a3 = -2 * mu3 + 3 * mu2\n",
    "    \n",
    "    return a0 * values[index + 1] + a1 * m0 + a2 * m1 + a3 * values[index + 2]"
   ],
   "metadata": {
    "collapsed": false
   }
  },
  {
   "cell_type": "code",
   "execution_count": 71,
   "outputs": [
    {
     "data": {
      "text/plain": "  0%|          | 0/36 [00:00<?, ?it/s]",
      "application/vnd.jupyter.widget-view+json": {
       "version_major": 2,
       "version_minor": 0,
       "model_id": "bb510916e5a84bc69984f466e42ff33d"
      }
     },
     "metadata": {},
     "output_type": "display_data"
    }
   ],
   "source": [
    "tensions = []\n",
    "\n",
    "for lev in tqdm(range(levels)):\n",
    "    if lev % skip_levels == 0:\n",
    "        continue\n",
    "\n",
    "    pred_idx = lev // skip_levels\n",
    "\n",
    "    best_loss = float(\"inf\")\n",
    "    best_tension = 0\n",
    "    \n",
    "    t = (lev % skip_levels) / skip_levels\n",
    "\n",
    "    for tension in np.linspace(-1, 1, 5):\n",
    "        lr = 0.1\n",
    "\n",
    "        for _ in range(20):\n",
    "            if (loss := mse(data[lev], hermite_interpolate(preds, pred_idx, t, tension, 0))) < best_loss:\n",
    "                best_loss = loss\n",
    "                best_tension = tension\n",
    "            else:\n",
    "                lr /= -2\n",
    "\n",
    "            tension += lr\n",
    "\n",
    "    tensions.append(best_tension)\n"
   ],
   "metadata": {
    "collapsed": false
   }
  },
  {
   "cell_type": "code",
   "execution_count": 72,
   "outputs": [
    {
     "name": "stdout",
     "output_type": "stream",
     "text": [
      "Original Stdev: 10.018913269042969 m/s\n",
      "Predicted RMSE: 0.7954508078474939 m/s\n",
      "Predicted MAE:  0.5190367698669434 m/s\n",
      "Size/time: 0.06986 mB\n",
      "Size/day: 0.55888 mB\n",
      "Size/year: 203.9912 mB\n"
     ]
    }
   ],
   "source": [
    "for lev in range(levels):\n",
    "    pred_idx = lev // skip_levels\n",
    "\n",
    "    if lev % skip_levels == 0:\n",
    "        continue\n",
    "\n",
    "    t = (lev % skip_levels) / skip_levels\n",
    "    prediction[lev] = hermite_interpolate(preds, pred_idx, t, tensions[lev - pred_idx - 1], 0)\n",
    "\n",
    "data_float32 = data[:levels].astype(\"float32\")\n",
    "\n",
    "print(f\"Original Stdev: {data_float32.std()} m/s\")\n",
    "print(f\"Predicted RMSE: {rmse(data_float32, prediction)} m/s\")\n",
    "print(f\"Predicted MAE:  {mae(data_float32, prediction)} m/s\")\n",
    "print(f\"Size/time: {sum(el.nbytes for el in fft) * (len(preds) - 2) / (1000 ** 2)} mB\")\n",
    "print(f\"Size/day: {sum(el.nbytes for el in fft) * (len(preds) - 2) * 8 / (1000 ** 2)} mB\")\n",
    "print(f\"Size/year: {sum(el.nbytes for el in fft) * (len(preds) - 2) * 8 * 365 / (1000 ** 2)} mB\")\n"
   ],
   "metadata": {
    "collapsed": false
   }
  }
 ],
 "metadata": {
  "kernelspec": {
   "display_name": "Python 3",
   "language": "python",
   "name": "python3"
  },
  "language_info": {
   "codemirror_mode": {
    "name": "ipython",
    "version": 2
   },
   "file_extension": ".py",
   "mimetype": "text/x-python",
   "name": "python",
   "nbconvert_exporter": "python",
   "pygments_lexer": "ipython2",
   "version": "2.7.6"
  }
 },
 "nbformat": 4,
 "nbformat_minor": 0
}

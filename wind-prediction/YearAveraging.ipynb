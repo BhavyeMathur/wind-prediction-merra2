{
 "cells": [
  {
   "cell_type": "code",
   "execution_count": 2,
   "metadata": {
    "collapsed": true
   },
   "outputs": [],
   "source": [
    "from data_loading import *"
   ]
  },
  {
   "cell_type": "code",
   "execution_count": 10,
   "outputs": [
    {
     "data": {
      "text/plain": "  0%|          | 0/12 [00:00<?, ?it/s]",
      "application/vnd.jupyter.widget-view+json": {
       "version_major": 2,
       "version_minor": 0,
       "model_id": "cf0d568adddd422bac29b0eda314c15b"
      }
     },
     "metadata": {},
     "output_type": "display_data"
    },
    {
     "data": {
      "text/plain": "  0%|          | 0/2 [00:00<?, ?it/s]",
      "application/vnd.jupyter.widget-view+json": {
       "version_major": 2,
       "version_minor": 0,
       "model_id": "032956760eb045ef9db09ff4c054f9dd"
      }
     },
     "metadata": {},
     "output_type": "display_data"
    }
   ],
   "source": [
    "levels = 36\n",
    "variable = [\"U\", \"V\"]\n",
    "compression = \"zlib\"\n",
    "compression_level = 9\n",
    "\n",
    "for mm in tqdm(range(1, 13)):\n",
    "    for dd in tqdm(monthrange(2001, mm)):\n",
    "        output = \"MERRA2.tavg3_3d_asm_Nv.yavg.nc4\"\n",
    "        with open_nc4_dataset(output, folder=\"raw/yavg\", mode=\"w\") as dst:\n",
    "            dst.createDimension(\"time\", 8)\n",
    "            dst.createDimension(\"lev\", levels)\n",
    "            dst.createDimension(\"lat\", 361)\n",
    "            dst.createDimension(\"lon\", 576 // 2)  # //2 because we pack float16s as float32s\n",
    "\n",
    "            for variable in variable:\n",
    "                dst.createVariable(variable, \"f\", dst.dimensions,\n",
    "                                   compression=compression,\n",
    "                                   complevel=compression_level)\n",
    "\n",
    "                data = load_yavg_variable_on_day(\"MERRA2_{}.tavg3_3d_asm_Nv.{}0101.nc4\",\n",
    "                                                 variable, levels=levels)\n",
    "                dst[variable][:] = data.view(\"float32\")\n"
   ],
   "metadata": {
    "collapsed": false
   }
  }
 ],
 "metadata": {
  "kernelspec": {
   "display_name": "Python 3",
   "language": "python",
   "name": "python3"
  },
  "language_info": {
   "codemirror_mode": {
    "name": "ipython",
    "version": 2
   },
   "file_extension": ".py",
   "mimetype": "text/x-python",
   "name": "python",
   "nbconvert_exporter": "python",
   "pygments_lexer": "ipython2",
   "version": "2.7.6"
  }
 },
 "nbformat": 4,
 "nbformat_minor": 0
}

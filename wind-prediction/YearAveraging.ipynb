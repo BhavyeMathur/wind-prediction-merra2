{
 "cells": [
  {
   "cell_type": "code",
   "execution_count": 4,
   "metadata": {
    "collapsed": true
   },
   "outputs": [],
   "source": [
    "from data_loading import *"
   ]
  },
  {
   "cell_type": "code",
   "execution_count": 5,
   "outputs": [],
   "source": [
    "levels = 36\n",
    "variables = [\"U\", \"V\"]\n",
    "compression = \"zlib\"\n",
    "compression_level = 9\n",
    "skip = True"
   ],
   "metadata": {
    "collapsed": false
   }
  },
  {
   "cell_type": "code",
   "execution_count": 7,
   "outputs": [
    {
     "data": {
      "text/plain": "  0%|          | 0/12 [00:00<?, ?it/s]",
      "application/vnd.jupyter.widget-view+json": {
       "version_major": 2,
       "version_minor": 0,
       "model_id": "15f05c78b86d48e6a53e2c8b43cb317e"
      }
     },
     "metadata": {},
     "output_type": "display_data"
    },
    {
     "data": {
      "text/plain": "  0%|          | 0/31 [00:00<?, ?it/s]",
      "application/vnd.jupyter.widget-view+json": {
       "version_major": 2,
       "version_minor": 0,
       "model_id": "7493873edc824a7a9e15b02f56cd8626"
      }
     },
     "metadata": {},
     "output_type": "display_data"
    },
    {
     "data": {
      "text/plain": "  0%|          | 0/28 [00:00<?, ?it/s]",
      "application/vnd.jupyter.widget-view+json": {
       "version_major": 2,
       "version_minor": 0,
       "model_id": "fa74dfbabe5a4b35baf910601292470d"
      }
     },
     "metadata": {},
     "output_type": "display_data"
    },
    {
     "data": {
      "text/plain": "  0%|          | 0/31 [00:00<?, ?it/s]",
      "application/vnd.jupyter.widget-view+json": {
       "version_major": 2,
       "version_minor": 0,
       "model_id": "8473fc74ca6e4ba6a3c8c9569e9c5c20"
      }
     },
     "metadata": {},
     "output_type": "display_data"
    },
    {
     "data": {
      "text/plain": "  0%|          | 0/30 [00:00<?, ?it/s]",
      "application/vnd.jupyter.widget-view+json": {
       "version_major": 2,
       "version_minor": 0,
       "model_id": "a1a99573510e4d859ede9bcd6c96e168"
      }
     },
     "metadata": {},
     "output_type": "display_data"
    },
    {
     "data": {
      "text/plain": "  0%|          | 0/31 [00:00<?, ?it/s]",
      "application/vnd.jupyter.widget-view+json": {
       "version_major": 2,
       "version_minor": 0,
       "model_id": "1166abcc09e2452cb2527bbedbfad57f"
      }
     },
     "metadata": {},
     "output_type": "display_data"
    },
    {
     "data": {
      "text/plain": "  0%|          | 0/30 [00:00<?, ?it/s]",
      "application/vnd.jupyter.widget-view+json": {
       "version_major": 2,
       "version_minor": 0,
       "model_id": "1f96f01279f749ef9f9cfa4cb908af0b"
      }
     },
     "metadata": {},
     "output_type": "display_data"
    },
    {
     "data": {
      "text/plain": "  0%|          | 0/31 [00:00<?, ?it/s]",
      "application/vnd.jupyter.widget-view+json": {
       "version_major": 2,
       "version_minor": 0,
       "model_id": "15d98448bdeb4fb982c8ae46896f07d0"
      }
     },
     "metadata": {},
     "output_type": "display_data"
    },
    {
     "data": {
      "text/plain": "  0%|          | 0/31 [00:00<?, ?it/s]",
      "application/vnd.jupyter.widget-view+json": {
       "version_major": 2,
       "version_minor": 0,
       "model_id": "8ff61eb18e844819a0579d7bdac813c8"
      }
     },
     "metadata": {},
     "output_type": "display_data"
    },
    {
     "ename": "RuntimeError",
     "evalue": "NetCDF: HDF error",
     "output_type": "error",
     "traceback": [
      "\u001B[0;31m---------------------------------------------------------------------------\u001B[0m",
      "\u001B[0;31mRuntimeError\u001B[0m                              Traceback (most recent call last)",
      "Cell \u001B[0;32mIn[7], line 19\u001B[0m\n\u001B[1;32m     14\u001B[0m \u001B[38;5;28;01mfor\u001B[39;00m variable \u001B[38;5;129;01min\u001B[39;00m variables:\n\u001B[1;32m     15\u001B[0m     dst\u001B[38;5;241m.\u001B[39mcreateVariable(variable, \u001B[38;5;124m\"\u001B[39m\u001B[38;5;124mf\u001B[39m\u001B[38;5;124m\"\u001B[39m, dst\u001B[38;5;241m.\u001B[39mdimensions,\n\u001B[1;32m     16\u001B[0m                        compression\u001B[38;5;241m=\u001B[39mcompression,\n\u001B[1;32m     17\u001B[0m                        complevel\u001B[38;5;241m=\u001B[39mcompression_level)\n\u001B[0;32m---> 19\u001B[0m     data \u001B[38;5;241m=\u001B[39m \u001B[43mload_yavg_variable_on_day\u001B[49m\u001B[43m(\u001B[49m\u001B[38;5;124;43m\"\u001B[39;49m\u001B[38;5;124;43mMERRA2_\u001B[39;49m\u001B[38;5;132;43;01m{}\u001B[39;49;00m\u001B[38;5;124;43m.tavg3_3d_asm_Nv.\u001B[39;49m\u001B[38;5;132;43;01m{}\u001B[39;49;00m\u001B[38;5;124;43mmmdd.nc4\u001B[39;49m\u001B[38;5;124;43m\"\u001B[39;49m\u001B[38;5;241;43m.\u001B[39;49m\u001B[43mreplace\u001B[49m\u001B[43m(\u001B[49m\u001B[38;5;124;43m\"\u001B[39;49m\u001B[38;5;124;43mmmdd\u001B[39;49m\u001B[38;5;124;43m\"\u001B[39;49m\u001B[43m,\u001B[49m\u001B[43m \u001B[49m\u001B[38;5;124;43mf\u001B[39;49m\u001B[38;5;124;43m\"\u001B[39;49m\u001B[38;5;132;43;01m{\u001B[39;49;00m\u001B[43mmm\u001B[49m\u001B[38;5;132;43;01m:\u001B[39;49;00m\u001B[38;5;124;43m0>2\u001B[39;49m\u001B[38;5;132;43;01m}\u001B[39;49;00m\u001B[38;5;132;43;01m{\u001B[39;49;00m\u001B[43mdd\u001B[49m\u001B[38;5;132;43;01m:\u001B[39;49;00m\u001B[38;5;124;43m0>2\u001B[39;49m\u001B[38;5;132;43;01m}\u001B[39;49;00m\u001B[38;5;124;43m\"\u001B[39;49m\u001B[43m)\u001B[49m\u001B[43m,\u001B[49m\n\u001B[1;32m     20\u001B[0m \u001B[43m                                     \u001B[49m\u001B[43mvariable\u001B[49m\u001B[43m,\u001B[49m\u001B[43m \u001B[49m\u001B[43mlevels\u001B[49m\u001B[38;5;241;43m=\u001B[39;49m\u001B[43mlevels\u001B[49m\u001B[43m)\u001B[49m\n\u001B[1;32m     21\u001B[0m     dst[variable][:] \u001B[38;5;241m=\u001B[39m data\u001B[38;5;241m.\u001B[39mview(\u001B[38;5;124m\"\u001B[39m\u001B[38;5;124mfloat32\u001B[39m\u001B[38;5;124m\"\u001B[39m)\n",
      "File \u001B[0;32m~/Desktop/Projects/Spherindrical Fourier Transform/MERRA-2/wind-prediction/data_loading.py:49\u001B[0m, in \u001B[0;36mload_yavg_variable_on_day\u001B[0;34m(filename, years, levels, *args)\u001B[0m\n\u001B[1;32m     47\u001B[0m data \u001B[38;5;241m=\u001B[39m np\u001B[38;5;241m.\u001B[39mzeros((\u001B[38;5;241m8\u001B[39m, levels, \u001B[38;5;241m361\u001B[39m, \u001B[38;5;241m576\u001B[39m), dtype\u001B[38;5;241m=\u001B[39m\u001B[38;5;124m\"\u001B[39m\u001B[38;5;124mfloat64\u001B[39m\u001B[38;5;124m\"\u001B[39m)\n\u001B[1;32m     48\u001B[0m \u001B[38;5;28;01mfor\u001B[39;00m year \u001B[38;5;129;01min\u001B[39;00m years:\n\u001B[0;32m---> 49\u001B[0m     data \u001B[38;5;241m+\u001B[39m\u001B[38;5;241m=\u001B[39m \u001B[43mload_variable_on_day\u001B[49m\u001B[43m(\u001B[49m\u001B[43mfilename\u001B[49m\u001B[38;5;241;43m.\u001B[39;49m\u001B[43mformat\u001B[49m\u001B[43m(\u001B[49m\u001B[43mget_merra_stream_from_year\u001B[49m\u001B[43m(\u001B[49m\u001B[43myear\u001B[49m\u001B[43m)\u001B[49m\u001B[43m,\u001B[49m\u001B[43m \u001B[49m\u001B[43myear\u001B[49m\u001B[43m)\u001B[49m\u001B[43m,\u001B[49m\u001B[43m \u001B[49m\u001B[38;5;241;43m*\u001B[39;49m\u001B[43margs\u001B[49m\u001B[43m,\u001B[49m\u001B[43m \u001B[49m\u001B[43mlevels\u001B[49m\u001B[38;5;241;43m=\u001B[39;49m\u001B[43mlevels\u001B[49m\u001B[43m)\u001B[49m\n\u001B[1;32m     51\u001B[0m \u001B[38;5;28;01mreturn\u001B[39;00m (data \u001B[38;5;241m/\u001B[39m \u001B[38;5;28mlen\u001B[39m(years))\u001B[38;5;241m.\u001B[39mastype(\u001B[38;5;124m\"\u001B[39m\u001B[38;5;124mfloat16\u001B[39m\u001B[38;5;124m\"\u001B[39m)\n",
      "File \u001B[0;32m~/Desktop/Projects/Spherindrical Fourier Transform/MERRA-2/wind-prediction/data_loading.py:37\u001B[0m, in \u001B[0;36mload_variable_on_day\u001B[0;34m(filename, variable, levels)\u001B[0m\n\u001B[1;32m     33\u001B[0m \u001B[38;5;28;01mdef\u001B[39;00m \u001B[38;5;21mload_variable_on_day\u001B[39m(filename: \u001B[38;5;28mstr\u001B[39m,\n\u001B[1;32m     34\u001B[0m                          variable: \u001B[38;5;28mstr\u001B[39m,\n\u001B[1;32m     35\u001B[0m                          levels: \u001B[38;5;28mint\u001B[39m \u001B[38;5;241m=\u001B[39m \u001B[38;5;241m36\u001B[39m):\n\u001B[1;32m     36\u001B[0m     \u001B[38;5;28;01mwith\u001B[39;00m open_xarray_dataset(filename, folder\u001B[38;5;241m=\u001B[39mCOMPRESSED_FOLDER) \u001B[38;5;28;01mas\u001B[39;00m dataset:\n\u001B[0;32m---> 37\u001B[0m         data \u001B[38;5;241m=\u001B[39m np\u001B[38;5;241m.\u001B[39marray(dataset[variable][:, \u001B[38;5;241m-\u001B[39mlevels:])\n\u001B[1;32m     38\u001B[0m         data \u001B[38;5;241m=\u001B[39m data\u001B[38;5;241m.\u001B[39mview(\u001B[38;5;124m\"\u001B[39m\u001B[38;5;124mfloat16\u001B[39m\u001B[38;5;124m\"\u001B[39m)\u001B[38;5;241m.\u001B[39mastype(\u001B[38;5;124m\"\u001B[39m\u001B[38;5;124mfloat16\u001B[39m\u001B[38;5;124m\"\u001B[39m)\n\u001B[1;32m     40\u001B[0m     \u001B[38;5;28;01mreturn\u001B[39;00m data\n",
      "File \u001B[0;32m/Library/Frameworks/Python.framework/Versions/3.11/lib/python3.11/site-packages/xarray/core/common.py:165\u001B[0m, in \u001B[0;36mAbstractArray.__array__\u001B[0;34m(self, dtype)\u001B[0m\n\u001B[1;32m    164\u001B[0m \u001B[38;5;28;01mdef\u001B[39;00m \u001B[38;5;21m__array__\u001B[39m(\u001B[38;5;28mself\u001B[39m: Any, dtype: DTypeLike \u001B[38;5;241m=\u001B[39m \u001B[38;5;28;01mNone\u001B[39;00m) \u001B[38;5;241m-\u001B[39m\u001B[38;5;241m>\u001B[39m np\u001B[38;5;241m.\u001B[39mndarray:\n\u001B[0;32m--> 165\u001B[0m     \u001B[38;5;28;01mreturn\u001B[39;00m np\u001B[38;5;241m.\u001B[39masarray(\u001B[38;5;28;43mself\u001B[39;49m\u001B[38;5;241;43m.\u001B[39;49m\u001B[43mvalues\u001B[49m, dtype\u001B[38;5;241m=\u001B[39mdtype)\n",
      "File \u001B[0;32m/Library/Frameworks/Python.framework/Versions/3.11/lib/python3.11/site-packages/xarray/core/dataarray.py:729\u001B[0m, in \u001B[0;36mDataArray.values\u001B[0;34m(self)\u001B[0m\n\u001B[1;32m    720\u001B[0m \u001B[38;5;129m@property\u001B[39m\n\u001B[1;32m    721\u001B[0m \u001B[38;5;28;01mdef\u001B[39;00m \u001B[38;5;21mvalues\u001B[39m(\u001B[38;5;28mself\u001B[39m) \u001B[38;5;241m-\u001B[39m\u001B[38;5;241m>\u001B[39m np\u001B[38;5;241m.\u001B[39mndarray:\n\u001B[1;32m    722\u001B[0m \u001B[38;5;250m    \u001B[39m\u001B[38;5;124;03m\"\"\"\u001B[39;00m\n\u001B[1;32m    723\u001B[0m \u001B[38;5;124;03m    The array's data as a numpy.ndarray.\u001B[39;00m\n\u001B[1;32m    724\u001B[0m \n\u001B[0;32m   (...)\u001B[0m\n\u001B[1;32m    727\u001B[0m \u001B[38;5;124;03m    type does not support coercion like this (e.g. cupy).\u001B[39;00m\n\u001B[1;32m    728\u001B[0m \u001B[38;5;124;03m    \"\"\"\u001B[39;00m\n\u001B[0;32m--> 729\u001B[0m     \u001B[38;5;28;01mreturn\u001B[39;00m \u001B[38;5;28;43mself\u001B[39;49m\u001B[38;5;241;43m.\u001B[39;49m\u001B[43mvariable\u001B[49m\u001B[38;5;241;43m.\u001B[39;49m\u001B[43mvalues\u001B[49m\n",
      "File \u001B[0;32m/Library/Frameworks/Python.framework/Versions/3.11/lib/python3.11/site-packages/xarray/core/variable.py:608\u001B[0m, in \u001B[0;36mVariable.values\u001B[0;34m(self)\u001B[0m\n\u001B[1;32m    605\u001B[0m \u001B[38;5;129m@property\u001B[39m\n\u001B[1;32m    606\u001B[0m \u001B[38;5;28;01mdef\u001B[39;00m \u001B[38;5;21mvalues\u001B[39m(\u001B[38;5;28mself\u001B[39m):\n\u001B[1;32m    607\u001B[0m \u001B[38;5;250m    \u001B[39m\u001B[38;5;124;03m\"\"\"The variable's data as a numpy.ndarray\"\"\"\u001B[39;00m\n\u001B[0;32m--> 608\u001B[0m     \u001B[38;5;28;01mreturn\u001B[39;00m \u001B[43m_as_array_or_item\u001B[49m\u001B[43m(\u001B[49m\u001B[38;5;28;43mself\u001B[39;49m\u001B[38;5;241;43m.\u001B[39;49m\u001B[43m_data\u001B[49m\u001B[43m)\u001B[49m\n",
      "File \u001B[0;32m/Library/Frameworks/Python.framework/Versions/3.11/lib/python3.11/site-packages/xarray/core/variable.py:314\u001B[0m, in \u001B[0;36m_as_array_or_item\u001B[0;34m(data)\u001B[0m\n\u001B[1;32m    300\u001B[0m \u001B[38;5;28;01mdef\u001B[39;00m \u001B[38;5;21m_as_array_or_item\u001B[39m(data):\n\u001B[1;32m    301\u001B[0m \u001B[38;5;250m    \u001B[39m\u001B[38;5;124;03m\"\"\"Return the given values as a numpy array, or as an individual item if\u001B[39;00m\n\u001B[1;32m    302\u001B[0m \u001B[38;5;124;03m    it's a 0d datetime64 or timedelta64 array.\u001B[39;00m\n\u001B[1;32m    303\u001B[0m \n\u001B[0;32m   (...)\u001B[0m\n\u001B[1;32m    312\u001B[0m \u001B[38;5;124;03m    TODO: remove this (replace with np.asarray) once these issues are fixed\u001B[39;00m\n\u001B[1;32m    313\u001B[0m \u001B[38;5;124;03m    \"\"\"\u001B[39;00m\n\u001B[0;32m--> 314\u001B[0m     data \u001B[38;5;241m=\u001B[39m np\u001B[38;5;241m.\u001B[39masarray(data)\n\u001B[1;32m    315\u001B[0m     \u001B[38;5;28;01mif\u001B[39;00m data\u001B[38;5;241m.\u001B[39mndim \u001B[38;5;241m==\u001B[39m \u001B[38;5;241m0\u001B[39m:\n\u001B[1;32m    316\u001B[0m         \u001B[38;5;28;01mif\u001B[39;00m data\u001B[38;5;241m.\u001B[39mdtype\u001B[38;5;241m.\u001B[39mkind \u001B[38;5;241m==\u001B[39m \u001B[38;5;124m\"\u001B[39m\u001B[38;5;124mM\u001B[39m\u001B[38;5;124m\"\u001B[39m:\n",
      "File \u001B[0;32m/Library/Frameworks/Python.framework/Versions/3.11/lib/python3.11/site-packages/xarray/core/indexing.py:653\u001B[0m, in \u001B[0;36mMemoryCachedArray.__array__\u001B[0;34m(self, dtype)\u001B[0m\n\u001B[1;32m    652\u001B[0m \u001B[38;5;28;01mdef\u001B[39;00m \u001B[38;5;21m__array__\u001B[39m(\u001B[38;5;28mself\u001B[39m, dtype\u001B[38;5;241m=\u001B[39m\u001B[38;5;28;01mNone\u001B[39;00m):\n\u001B[0;32m--> 653\u001B[0m     \u001B[38;5;28;43mself\u001B[39;49m\u001B[38;5;241;43m.\u001B[39;49m\u001B[43m_ensure_cached\u001B[49m\u001B[43m(\u001B[49m\u001B[43m)\u001B[49m\n\u001B[1;32m    654\u001B[0m     \u001B[38;5;28;01mreturn\u001B[39;00m np\u001B[38;5;241m.\u001B[39masarray(\u001B[38;5;28mself\u001B[39m\u001B[38;5;241m.\u001B[39marray, dtype\u001B[38;5;241m=\u001B[39mdtype)\n",
      "File \u001B[0;32m/Library/Frameworks/Python.framework/Versions/3.11/lib/python3.11/site-packages/xarray/core/indexing.py:650\u001B[0m, in \u001B[0;36mMemoryCachedArray._ensure_cached\u001B[0;34m(self)\u001B[0m\n\u001B[1;32m    648\u001B[0m \u001B[38;5;28;01mdef\u001B[39;00m \u001B[38;5;21m_ensure_cached\u001B[39m(\u001B[38;5;28mself\u001B[39m):\n\u001B[1;32m    649\u001B[0m     \u001B[38;5;28;01mif\u001B[39;00m \u001B[38;5;129;01mnot\u001B[39;00m \u001B[38;5;28misinstance\u001B[39m(\u001B[38;5;28mself\u001B[39m\u001B[38;5;241m.\u001B[39marray, NumpyIndexingAdapter):\n\u001B[0;32m--> 650\u001B[0m         \u001B[38;5;28mself\u001B[39m\u001B[38;5;241m.\u001B[39marray \u001B[38;5;241m=\u001B[39m NumpyIndexingAdapter(np\u001B[38;5;241m.\u001B[39masarray(\u001B[38;5;28mself\u001B[39m\u001B[38;5;241m.\u001B[39marray))\n",
      "File \u001B[0;32m/Library/Frameworks/Python.framework/Versions/3.11/lib/python3.11/site-packages/xarray/core/indexing.py:623\u001B[0m, in \u001B[0;36mCopyOnWriteArray.__array__\u001B[0;34m(self, dtype)\u001B[0m\n\u001B[1;32m    622\u001B[0m \u001B[38;5;28;01mdef\u001B[39;00m \u001B[38;5;21m__array__\u001B[39m(\u001B[38;5;28mself\u001B[39m, dtype\u001B[38;5;241m=\u001B[39m\u001B[38;5;28;01mNone\u001B[39;00m):\n\u001B[0;32m--> 623\u001B[0m     \u001B[38;5;28;01mreturn\u001B[39;00m np\u001B[38;5;241m.\u001B[39masarray(\u001B[38;5;28mself\u001B[39m\u001B[38;5;241m.\u001B[39marray, dtype\u001B[38;5;241m=\u001B[39mdtype)\n",
      "File \u001B[0;32m/Library/Frameworks/Python.framework/Versions/3.11/lib/python3.11/site-packages/xarray/core/indexing.py:524\u001B[0m, in \u001B[0;36mLazilyIndexedArray.__array__\u001B[0;34m(self, dtype)\u001B[0m\n\u001B[1;32m    522\u001B[0m \u001B[38;5;28;01mdef\u001B[39;00m \u001B[38;5;21m__array__\u001B[39m(\u001B[38;5;28mself\u001B[39m, dtype\u001B[38;5;241m=\u001B[39m\u001B[38;5;28;01mNone\u001B[39;00m):\n\u001B[1;32m    523\u001B[0m     array \u001B[38;5;241m=\u001B[39m as_indexable(\u001B[38;5;28mself\u001B[39m\u001B[38;5;241m.\u001B[39marray)\n\u001B[0;32m--> 524\u001B[0m     \u001B[38;5;28;01mreturn\u001B[39;00m np\u001B[38;5;241m.\u001B[39masarray(array[\u001B[38;5;28mself\u001B[39m\u001B[38;5;241m.\u001B[39mkey], dtype\u001B[38;5;241m=\u001B[39m\u001B[38;5;28;01mNone\u001B[39;00m)\n",
      "File \u001B[0;32m/Library/Frameworks/Python.framework/Versions/3.11/lib/python3.11/site-packages/xarray/coding/variables.py:72\u001B[0m, in \u001B[0;36m_ElementwiseFunctionArray.__array__\u001B[0;34m(self, dtype)\u001B[0m\n\u001B[1;32m     71\u001B[0m \u001B[38;5;28;01mdef\u001B[39;00m \u001B[38;5;21m__array__\u001B[39m(\u001B[38;5;28mself\u001B[39m, dtype\u001B[38;5;241m=\u001B[39m\u001B[38;5;28;01mNone\u001B[39;00m):\n\u001B[0;32m---> 72\u001B[0m     \u001B[38;5;28;01mreturn\u001B[39;00m \u001B[38;5;28;43mself\u001B[39;49m\u001B[38;5;241;43m.\u001B[39;49m\u001B[43mfunc\u001B[49m\u001B[43m(\u001B[49m\u001B[38;5;28;43mself\u001B[39;49m\u001B[38;5;241;43m.\u001B[39;49m\u001B[43marray\u001B[49m\u001B[43m)\u001B[49m\n",
      "File \u001B[0;32m/Library/Frameworks/Python.framework/Versions/3.11/lib/python3.11/site-packages/xarray/coding/variables.py:139\u001B[0m, in \u001B[0;36m_apply_mask\u001B[0;34m(data, encoded_fill_values, decoded_fill_value, dtype)\u001B[0m\n\u001B[1;32m    135\u001B[0m \u001B[38;5;28;01mdef\u001B[39;00m \u001B[38;5;21m_apply_mask\u001B[39m(\n\u001B[1;32m    136\u001B[0m     data: np\u001B[38;5;241m.\u001B[39mndarray, encoded_fill_values: \u001B[38;5;28mlist\u001B[39m, decoded_fill_value: Any, dtype: Any\n\u001B[1;32m    137\u001B[0m ) \u001B[38;5;241m-\u001B[39m\u001B[38;5;241m>\u001B[39m np\u001B[38;5;241m.\u001B[39mndarray:\n\u001B[1;32m    138\u001B[0m \u001B[38;5;250m    \u001B[39m\u001B[38;5;124;03m\"\"\"Mask all matching values in a NumPy arrays.\"\"\"\u001B[39;00m\n\u001B[0;32m--> 139\u001B[0m     data \u001B[38;5;241m=\u001B[39m np\u001B[38;5;241m.\u001B[39masarray(data, dtype\u001B[38;5;241m=\u001B[39mdtype)\n\u001B[1;32m    140\u001B[0m     condition \u001B[38;5;241m=\u001B[39m \u001B[38;5;28;01mFalse\u001B[39;00m\n\u001B[1;32m    141\u001B[0m     \u001B[38;5;28;01mfor\u001B[39;00m fv \u001B[38;5;129;01min\u001B[39;00m encoded_fill_values:\n",
      "File \u001B[0;32m/Library/Frameworks/Python.framework/Versions/3.11/lib/python3.11/site-packages/xarray/core/indexing.py:524\u001B[0m, in \u001B[0;36mLazilyIndexedArray.__array__\u001B[0;34m(self, dtype)\u001B[0m\n\u001B[1;32m    522\u001B[0m \u001B[38;5;28;01mdef\u001B[39;00m \u001B[38;5;21m__array__\u001B[39m(\u001B[38;5;28mself\u001B[39m, dtype\u001B[38;5;241m=\u001B[39m\u001B[38;5;28;01mNone\u001B[39;00m):\n\u001B[1;32m    523\u001B[0m     array \u001B[38;5;241m=\u001B[39m as_indexable(\u001B[38;5;28mself\u001B[39m\u001B[38;5;241m.\u001B[39marray)\n\u001B[0;32m--> 524\u001B[0m     \u001B[38;5;28;01mreturn\u001B[39;00m np\u001B[38;5;241m.\u001B[39masarray(\u001B[43marray\u001B[49m\u001B[43m[\u001B[49m\u001B[38;5;28;43mself\u001B[39;49m\u001B[38;5;241;43m.\u001B[39;49m\u001B[43mkey\u001B[49m\u001B[43m]\u001B[49m, dtype\u001B[38;5;241m=\u001B[39m\u001B[38;5;28;01mNone\u001B[39;00m)\n",
      "File \u001B[0;32m/Library/Frameworks/Python.framework/Versions/3.11/lib/python3.11/site-packages/xarray/backends/netCDF4_.py:85\u001B[0m, in \u001B[0;36mNetCDF4ArrayWrapper.__getitem__\u001B[0;34m(self, key)\u001B[0m\n\u001B[1;32m     84\u001B[0m \u001B[38;5;28;01mdef\u001B[39;00m \u001B[38;5;21m__getitem__\u001B[39m(\u001B[38;5;28mself\u001B[39m, key):\n\u001B[0;32m---> 85\u001B[0m     \u001B[38;5;28;01mreturn\u001B[39;00m \u001B[43mindexing\u001B[49m\u001B[38;5;241;43m.\u001B[39;49m\u001B[43mexplicit_indexing_adapter\u001B[49m\u001B[43m(\u001B[49m\n\u001B[1;32m     86\u001B[0m \u001B[43m        \u001B[49m\u001B[43mkey\u001B[49m\u001B[43m,\u001B[49m\u001B[43m \u001B[49m\u001B[38;5;28;43mself\u001B[39;49m\u001B[38;5;241;43m.\u001B[39;49m\u001B[43mshape\u001B[49m\u001B[43m,\u001B[49m\u001B[43m \u001B[49m\u001B[43mindexing\u001B[49m\u001B[38;5;241;43m.\u001B[39;49m\u001B[43mIndexingSupport\u001B[49m\u001B[38;5;241;43m.\u001B[39;49m\u001B[43mOUTER\u001B[49m\u001B[43m,\u001B[49m\u001B[43m \u001B[49m\u001B[38;5;28;43mself\u001B[39;49m\u001B[38;5;241;43m.\u001B[39;49m\u001B[43m_getitem\u001B[49m\n\u001B[1;32m     87\u001B[0m \u001B[43m    \u001B[49m\u001B[43m)\u001B[49m\n",
      "File \u001B[0;32m/Library/Frameworks/Python.framework/Versions/3.11/lib/python3.11/site-packages/xarray/core/indexing.py:815\u001B[0m, in \u001B[0;36mexplicit_indexing_adapter\u001B[0;34m(key, shape, indexing_support, raw_indexing_method)\u001B[0m\n\u001B[1;32m    793\u001B[0m \u001B[38;5;250m\u001B[39m\u001B[38;5;124;03m\"\"\"Support explicit indexing by delegating to a raw indexing method.\u001B[39;00m\n\u001B[1;32m    794\u001B[0m \n\u001B[1;32m    795\u001B[0m \u001B[38;5;124;03mOuter and/or vectorized indexers are supported by indexing a second time\u001B[39;00m\n\u001B[0;32m   (...)\u001B[0m\n\u001B[1;32m    812\u001B[0m \u001B[38;5;124;03mIndexing result, in the form of a duck numpy-array.\u001B[39;00m\n\u001B[1;32m    813\u001B[0m \u001B[38;5;124;03m\"\"\"\u001B[39;00m\n\u001B[1;32m    814\u001B[0m raw_key, numpy_indices \u001B[38;5;241m=\u001B[39m decompose_indexer(key, shape, indexing_support)\n\u001B[0;32m--> 815\u001B[0m result \u001B[38;5;241m=\u001B[39m \u001B[43mraw_indexing_method\u001B[49m\u001B[43m(\u001B[49m\u001B[43mraw_key\u001B[49m\u001B[38;5;241;43m.\u001B[39;49m\u001B[43mtuple\u001B[49m\u001B[43m)\u001B[49m\n\u001B[1;32m    816\u001B[0m \u001B[38;5;28;01mif\u001B[39;00m numpy_indices\u001B[38;5;241m.\u001B[39mtuple:\n\u001B[1;32m    817\u001B[0m     \u001B[38;5;66;03m# index the loaded np.ndarray\u001B[39;00m\n\u001B[1;32m    818\u001B[0m     result \u001B[38;5;241m=\u001B[39m NumpyIndexingAdapter(np\u001B[38;5;241m.\u001B[39masarray(result))[numpy_indices]\n",
      "File \u001B[0;32m/Library/Frameworks/Python.framework/Versions/3.11/lib/python3.11/site-packages/xarray/backends/netCDF4_.py:98\u001B[0m, in \u001B[0;36mNetCDF4ArrayWrapper._getitem\u001B[0;34m(self, key)\u001B[0m\n\u001B[1;32m     96\u001B[0m     \u001B[38;5;28;01mwith\u001B[39;00m \u001B[38;5;28mself\u001B[39m\u001B[38;5;241m.\u001B[39mdatastore\u001B[38;5;241m.\u001B[39mlock:\n\u001B[1;32m     97\u001B[0m         original_array \u001B[38;5;241m=\u001B[39m \u001B[38;5;28mself\u001B[39m\u001B[38;5;241m.\u001B[39mget_array(needs_lock\u001B[38;5;241m=\u001B[39m\u001B[38;5;28;01mFalse\u001B[39;00m)\n\u001B[0;32m---> 98\u001B[0m         array \u001B[38;5;241m=\u001B[39m getitem(original_array, key)\n\u001B[1;32m     99\u001B[0m \u001B[38;5;28;01mexcept\u001B[39;00m \u001B[38;5;167;01mIndexError\u001B[39;00m:\n\u001B[1;32m    100\u001B[0m     \u001B[38;5;66;03m# Catch IndexError in netCDF4 and return a more informative\u001B[39;00m\n\u001B[1;32m    101\u001B[0m     \u001B[38;5;66;03m# error message.  This is most often called when an unsorted\u001B[39;00m\n\u001B[1;32m    102\u001B[0m     \u001B[38;5;66;03m# indexer is used before the data is loaded from disk.\u001B[39;00m\n\u001B[1;32m    103\u001B[0m     msg \u001B[38;5;241m=\u001B[39m (\n\u001B[1;32m    104\u001B[0m         \u001B[38;5;124m\"\u001B[39m\u001B[38;5;124mThe indexing operation you are attempting to perform \u001B[39m\u001B[38;5;124m\"\u001B[39m\n\u001B[1;32m    105\u001B[0m         \u001B[38;5;124m\"\u001B[39m\u001B[38;5;124mis not valid on netCDF4.Variable object. Try loading \u001B[39m\u001B[38;5;124m\"\u001B[39m\n\u001B[1;32m    106\u001B[0m         \u001B[38;5;124m\"\u001B[39m\u001B[38;5;124myour data into memory first by calling .load().\u001B[39m\u001B[38;5;124m\"\u001B[39m\n\u001B[1;32m    107\u001B[0m     )\n",
      "File \u001B[0;32msrc/netCDF4/_netCDF4.pyx:4973\u001B[0m, in \u001B[0;36mnetCDF4._netCDF4.Variable.__getitem__\u001B[0;34m()\u001B[0m\n",
      "File \u001B[0;32msrc/netCDF4/_netCDF4.pyx:5930\u001B[0m, in \u001B[0;36mnetCDF4._netCDF4.Variable._get\u001B[0;34m()\u001B[0m\n",
      "File \u001B[0;32msrc/netCDF4/_netCDF4.pyx:2028\u001B[0m, in \u001B[0;36mnetCDF4._netCDF4._ensure_nc_success\u001B[0;34m()\u001B[0m\n",
      "\u001B[0;31mRuntimeError\u001B[0m: NetCDF: HDF error"
     ]
    }
   ],
   "source": [
    "for mm in tqdm(range(1, 13)):\n",
    "    for dd in tqdm(range(1, monthrange(2001, mm)[1] + 1)):\n",
    "        output = f\"MERRA2.tavg3_3d_asm_Nv.YAVG{mm:0>2}{dd:0>2}.nc4\"\n",
    "\n",
    "        if os.path.exists(f\"{COMPRESSED_FOLDER}/YAVG/{output}\") and skip:\n",
    "            continue\n",
    "\n",
    "        with open_nc4_dataset(output, folder=COMPRESSED_FOLDER + \"YAVG/\", mode=\"w\") as dst:\n",
    "            dst.createDimension(\"time\", 8)\n",
    "            dst.createDimension(\"lev\", levels)\n",
    "            dst.createDimension(\"lat\", 361)\n",
    "            dst.createDimension(\"lon\", 576 // 2)  # //2 because we pack float16s as float32s\n",
    "\n",
    "            for variable in variables:\n",
    "                dst.createVariable(variable, \"f\", dst.dimensions,\n",
    "                                   compression=compression,\n",
    "                                   complevel=compression_level)\n",
    "\n",
    "                data = load_yavg_variable_on_day(\"MERRA2_{}.tavg3_3d_asm_Nv.{}mmdd.nc4\".replace(\"mmdd\", f\"{mm:0>2}{dd:0>2}\"),\n",
    "                                                 variable, levels=levels)\n",
    "                dst[variable][:] = data.view(\"float32\")\n"
   ],
   "metadata": {
    "collapsed": false
   }
  }
 ],
 "metadata": {
  "kernelspec": {
   "display_name": "Python 3",
   "language": "python",
   "name": "python3"
  },
  "language_info": {
   "codemirror_mode": {
    "name": "ipython",
    "version": 2
   },
   "file_extension": ".py",
   "mimetype": "text/x-python",
   "name": "python",
   "nbconvert_exporter": "python",
   "pygments_lexer": "ipython2",
   "version": "2.7.6"
  }
 },
 "nbformat": 4,
 "nbformat_minor": 0
}

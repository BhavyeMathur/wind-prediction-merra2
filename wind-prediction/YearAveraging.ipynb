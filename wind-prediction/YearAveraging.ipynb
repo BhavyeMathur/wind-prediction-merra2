{
 "cells": [
  {
   "cell_type": "code",
   "execution_count": 1,
   "metadata": {
    "collapsed": true
   },
   "outputs": [],
   "source": [
    "from data_loading import *"
   ]
  },
  {
   "cell_type": "code",
   "execution_count": 2,
   "outputs": [],
   "source": [
    "levels = 36\n",
    "variables = [\"U\", \"V\"]\n",
    "compression = \"zlib\"\n",
    "compression_level = 9\n",
    "skip = True"
   ],
   "metadata": {
    "collapsed": false
   }
  },
  {
   "cell_type": "code",
   "execution_count": 6,
   "outputs": [
    {
     "data": {
      "text/plain": "  0%|          | 0/12 [00:00<?, ?it/s]",
      "application/vnd.jupyter.widget-view+json": {
       "version_major": 2,
       "version_minor": 0,
       "model_id": "741bc11c15ac4aff9284f5945659fb02"
      }
     },
     "metadata": {},
     "output_type": "display_data"
    },
    {
     "data": {
      "text/plain": "  0%|          | 0/31 [00:00<?, ?it/s]",
      "application/vnd.jupyter.widget-view+json": {
       "version_major": 2,
       "version_minor": 0,
       "model_id": "99147f15078b4c919552feaeb90e9c60"
      }
     },
     "metadata": {},
     "output_type": "display_data"
    },
    {
     "data": {
      "text/plain": "  0%|          | 0/28 [00:00<?, ?it/s]",
      "application/vnd.jupyter.widget-view+json": {
       "version_major": 2,
       "version_minor": 0,
       "model_id": "68faa85498eb4ab8a59a7ca1132fc148"
      }
     },
     "metadata": {},
     "output_type": "display_data"
    },
    {
     "data": {
      "text/plain": "  0%|          | 0/31 [00:00<?, ?it/s]",
      "application/vnd.jupyter.widget-view+json": {
       "version_major": 2,
       "version_minor": 0,
       "model_id": "124bc47af63744e4a362ede79dbfc0c9"
      }
     },
     "metadata": {},
     "output_type": "display_data"
    },
    {
     "data": {
      "text/plain": "  0%|          | 0/30 [00:00<?, ?it/s]",
      "application/vnd.jupyter.widget-view+json": {
       "version_major": 2,
       "version_minor": 0,
       "model_id": "f9aa180a4e1343ceaf878daeca5ea535"
      }
     },
     "metadata": {},
     "output_type": "display_data"
    },
    {
     "data": {
      "text/plain": "  0%|          | 0/31 [00:00<?, ?it/s]",
      "application/vnd.jupyter.widget-view+json": {
       "version_major": 2,
       "version_minor": 0,
       "model_id": "58a39329b36145d6b221b41d9fa3244f"
      }
     },
     "metadata": {},
     "output_type": "display_data"
    },
    {
     "data": {
      "text/plain": "  0%|          | 0/30 [00:00<?, ?it/s]",
      "application/vnd.jupyter.widget-view+json": {
       "version_major": 2,
       "version_minor": 0,
       "model_id": "c834eb044cb04d77a9f3ed964848943e"
      }
     },
     "metadata": {},
     "output_type": "display_data"
    },
    {
     "data": {
      "text/plain": "  0%|          | 0/31 [00:00<?, ?it/s]",
      "application/vnd.jupyter.widget-view+json": {
       "version_major": 2,
       "version_minor": 0,
       "model_id": "c73f7a17d16a40ab89a25c28bb73d5f1"
      }
     },
     "metadata": {},
     "output_type": "display_data"
    },
    {
     "data": {
      "text/plain": "  0%|          | 0/31 [00:00<?, ?it/s]",
      "application/vnd.jupyter.widget-view+json": {
       "version_major": 2,
       "version_minor": 0,
       "model_id": "d76d2b1ee26e4f1689563a8ff2f6a637"
      }
     },
     "metadata": {},
     "output_type": "display_data"
    },
    {
     "name": "stdout",
     "output_type": "stream",
     "text": [
      "1980\n",
      "1981\n",
      "1982\n",
      "1983\n",
      "1990\n",
      "1991\n",
      "1992\n",
      "1993\n",
      "2000\n",
      "2001\n",
      "2002\n",
      "2003\n",
      "2010\n",
      "2011\n",
      "2012\n",
      "2013\n",
      "1980\n",
      "1981\n",
      "1982\n",
      "1983\n",
      "1990\n",
      "1991\n",
      "1992\n",
      "1993\n",
      "2000\n",
      "2001\n",
      "2002\n",
      "2003\n",
      "2010\n",
      "2011\n",
      "2012\n",
      "2013\n"
     ]
    },
    {
     "data": {
      "text/plain": "  0%|          | 0/30 [00:00<?, ?it/s]",
      "application/vnd.jupyter.widget-view+json": {
       "version_major": 2,
       "version_minor": 0,
       "model_id": "2b323419b284477b86c9c2b008a3f14b"
      }
     },
     "metadata": {},
     "output_type": "display_data"
    },
    {
     "data": {
      "text/plain": "  0%|          | 0/31 [00:00<?, ?it/s]",
      "application/vnd.jupyter.widget-view+json": {
       "version_major": 2,
       "version_minor": 0,
       "model_id": "e749adb0e6964b0cbcdede1c000aeb89"
      }
     },
     "metadata": {},
     "output_type": "display_data"
    },
    {
     "data": {
      "text/plain": "  0%|          | 0/30 [00:00<?, ?it/s]",
      "application/vnd.jupyter.widget-view+json": {
       "version_major": 2,
       "version_minor": 0,
       "model_id": "e9818ea4e7844c2eb7d793660469f252"
      }
     },
     "metadata": {},
     "output_type": "display_data"
    },
    {
     "data": {
      "text/plain": "  0%|          | 0/31 [00:00<?, ?it/s]",
      "application/vnd.jupyter.widget-view+json": {
       "version_major": 2,
       "version_minor": 0,
       "model_id": "e306529e918f41a899ff94767c6a7d7e"
      }
     },
     "metadata": {},
     "output_type": "display_data"
    }
   ],
   "source": [
    "for mm in tqdm(range(1, 13)):\n",
    "    for dd in tqdm(range(1, monthrange(2001, mm)[1] + 1)):\n",
    "        output = f\"MERRA2.tavg3_3d_asm_Nv.YAVG{mm:0>2}{dd:0>2}.nc4\"\n",
    "\n",
    "        if os.path.exists(f\"{COMPRESSED_FOLDER}/YAVG/{output}\") and skip:\n",
    "            continue\n",
    "\n",
    "        with open_nc4_dataset(output, folder=COMPRESSED_FOLDER + \"YAVG/\", mode=\"w\") as dst:\n",
    "            dst.createDimension(\"time\", 8)\n",
    "            dst.createDimension(\"lev\", 36)\n",
    "            dst.createDimension(\"lat\", 361)\n",
    "            dst.createDimension(\"lon\", 576 // 2)  # //2 because we pack float16s as float32s\n",
    "\n",
    "            for variable in variables:\n",
    "                dst.createVariable(variable, \"f\", dst.dimensions,\n",
    "                                   compression=compression,\n",
    "                                   complevel=compression_level)\n",
    "\n",
    "                data = load_yavg_variable_on_day(\"MERRA2_{}.tavg3_3d_asm_Nv.{}mmdd.nc4\".replace(\"mmdd\", f\"{mm:0>2}{dd:0>2}\"),\n",
    "                                                 variable)\n",
    "                dst[variable][:] = data.view(\"float32\")\n"
   ],
   "metadata": {
    "collapsed": false
   }
  }
 ],
 "metadata": {
  "kernelspec": {
   "display_name": "Python 3",
   "language": "python",
   "name": "python3"
  },
  "language_info": {
   "codemirror_mode": {
    "name": "ipython",
    "version": 2
   },
   "file_extension": ".py",
   "mimetype": "text/x-python",
   "name": "python",
   "nbconvert_exporter": "python",
   "pygments_lexer": "ipython2",
   "version": "2.7.6"
  }
 },
 "nbformat": 4,
 "nbformat_minor": 0
}
